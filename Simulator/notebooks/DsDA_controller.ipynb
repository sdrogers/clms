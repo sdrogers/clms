{
 "cells": [
  {
   "cell_type": "markdown",
   "metadata": {},
   "source": [
    "# DsDA Controller"
   ]
  },
  {
   "cell_type": "markdown",
   "metadata": {},
   "source": [
    "Creates multiple dataset and runs them through the DsDA method"
   ]
  },
  {
   "cell_type": "code",
   "execution_count": 1,
   "metadata": {},
   "outputs": [],
   "source": [
    "%matplotlib inline"
   ]
  },
  {
   "cell_type": "code",
   "execution_count": 2,
   "metadata": {},
   "outputs": [],
   "source": [
    "%load_ext autoreload\n",
    "%autoreload 2"
   ]
  },
  {
   "cell_type": "code",
   "execution_count": 3,
   "metadata": {},
   "outputs": [],
   "source": [
    "import numpy as np\n",
    "import pandas as pd\n",
    "import sys\n",
    "import scipy.stats\n",
    "import pylab as plt\n",
    "from IPython import display\n",
    "import pylab as plt\n",
    "import glob"
   ]
  },
  {
   "cell_type": "code",
   "execution_count": 4,
   "metadata": {},
   "outputs": [],
   "source": [
    "sys.path.append('../codes')"
   ]
  },
  {
   "cell_type": "code",
   "execution_count": 5,
   "metadata": {},
   "outputs": [],
   "source": [
    "from VMSfunctions.Chemicals import *\n",
    "from VMSfunctions.Chromatograms import *\n",
    "from VMSfunctions.MassSpec import *\n",
    "from VMSfunctions.Controller import *\n",
    "from VMSfunctions.Common import *\n",
    "from VMSfunctions.DataGenerator import *"
   ]
  },
  {
   "cell_type": "code",
   "execution_count": 6,
   "metadata": {},
   "outputs": [],
   "source": [
    "# set_log_level_warning()\n",
    "# set_log_level_info()\n",
    "set_log_level_debug()"
   ]
  },
  {
   "cell_type": "markdown",
   "metadata": {},
   "source": [
    "Load densities trained on 19 beer data (see [loader_kde](loader_kde.ipynb))."
   ]
  },
  {
   "cell_type": "code",
   "execution_count": 7,
   "metadata": {},
   "outputs": [],
   "source": [
    "base_dir = 'C:\\\\Users\\\\joewa\\\\University of Glasgow\\\\Vinny Davies - CLDS Metabolomics Project\\\\'\n",
    "base_dir = 'C:\\\\Users\\\\Vinny\\\\OneDrive - University of Glasgow\\\\CLDS Metabolomics Project\\\\'"
   ]
  },
  {
   "cell_type": "code",
   "execution_count": 9,
   "metadata": {},
   "outputs": [],
   "source": [
    "ps = load_obj(os.path.join(base_dir, 'Trained Models\\\\peak_sampler_19_beers_fragmentation.p'))"
   ]
  },
  {
   "cell_type": "markdown",
   "metadata": {},
   "source": [
    "Load chromatogram data exported from R"
   ]
  },
  {
   "cell_type": "code",
   "execution_count": 10,
   "metadata": {},
   "outputs": [
    {
     "name": "stderr",
     "output_type": "stream",
     "text": [
      "INFO:ChromatogramCreator:Loading 0 chromatograms\n",
      "INFO:ChromatogramCreator:Loading 5000 chromatograms\n",
      "INFO:ChromatogramCreator:Loading 10000 chromatograms\n",
      "INFO:ChromatogramCreator:Loading 15000 chromatograms\n",
      "INFO:ChromatogramCreator:Loading 20000 chromatograms\n",
      "INFO:ChromatogramCreator:Loading 25000 chromatograms\n",
      "INFO:ChromatogramCreator:Loading 30000 chromatograms\n",
      "INFO:ChromatogramCreator:Loading 35000 chromatograms\n",
      "INFO:ChromatogramCreator:Loading 40000 chromatograms\n",
      "INFO:ChromatogramCreator:Loading 45000 chromatograms\n",
      "INFO:ChromatogramCreator:Loading 50000 chromatograms\n",
      "INFO:ChromatogramCreator:Loading 55000 chromatograms\n",
      "INFO:ChromatogramCreator:Loading 60000 chromatograms\n",
      "INFO:ChromatogramCreator:Loading 65000 chromatograms\n",
      "INFO:ChromatogramCreator:Loading 70000 chromatograms\n",
      "INFO:ChromatogramCreator:Loading 75000 chromatograms\n",
      "INFO:ChromatogramCreator:Loading 80000 chromatograms\n",
      "INFO:ChromatogramCreator:Loading 85000 chromatograms\n",
      "INFO:ChromatogramCreator:Loading 90000 chromatograms\n",
      "INFO:ChromatogramCreator:Loading 95000 chromatograms\n",
      "INFO:ChromatogramCreator:Loading 100000 chromatograms\n",
      "INFO:ChromatogramCreator:Loading 105000 chromatograms\n",
      "INFO:ChromatogramCreator:Loading 110000 chromatograms\n",
      "INFO:ChromatogramCreator:Loading 115000 chromatograms\n",
      "INFO:ChromatogramCreator:Loading 120000 chromatograms\n",
      "INFO:ChromatogramCreator:Loading 125000 chromatograms\n",
      "INFO:ChromatogramCreator:Loading 130000 chromatograms\n",
      "INFO:ChromatogramCreator:Loading 135000 chromatograms\n",
      "INFO:ChromatogramCreator:Loading 140000 chromatograms\n",
      "INFO:ChromatogramCreator:Loading 145000 chromatograms\n",
      "INFO:ChromatogramCreator:Loading 150000 chromatograms\n",
      "INFO:ChromatogramCreator:Loading 155000 chromatograms\n",
      "INFO:ChromatogramCreator:Loading 160000 chromatograms\n",
      "INFO:ChromatogramCreator:Loading 165000 chromatograms\n",
      "INFO:ChromatogramCreator:Loading 170000 chromatograms\n",
      "INFO:ChromatogramCreator:Loading 175000 chromatograms\n",
      "INFO:ChromatogramCreator:Loading 180000 chromatograms\n",
      "INFO:ChromatogramCreator:Loading 185000 chromatograms\n",
      "INFO:ChromatogramCreator:Loading 190000 chromatograms\n",
      "INFO:ChromatogramCreator:Loading 195000 chromatograms\n"
     ]
    }
   ],
   "source": [
    "cc = ChromatogramCreator(os.path.join(base_dir, 'Trained Models\\\\chromatogram_19_beers.csv.gz'))"
   ]
  },
  {
   "cell_type": "markdown",
   "metadata": {},
   "source": [
    "## Generate some chemicals"
   ]
  },
  {
   "cell_type": "code",
   "execution_count": 11,
   "metadata": {},
   "outputs": [],
   "source": [
    "hmdb = load_obj(os.path.join(base_dir, 'Trained Models\\\\hmdb_compounds.p'))"
   ]
  },
  {
   "cell_type": "code",
   "execution_count": 12,
   "metadata": {},
   "outputs": [],
   "source": [
    "chemicals = ChemicalCreator(ps)"
   ]
  },
  {
   "cell_type": "code",
   "execution_count": 13,
   "metadata": {},
   "outputs": [
    {
     "name": "stderr",
     "output_type": "stream",
     "text": [
      "DEBUG:ChemicalCreator:1000 ms1 peaks to be created.\n",
      "DEBUG:ChemicalCreator:i = 0\n",
      "DEBUG:ChemicalCreator:i = 25\n",
      "DEBUG:ChemicalCreator:i = 50\n",
      "DEBUG:ChemicalCreator:i = 75\n",
      "DEBUG:ChemicalCreator:i = 100\n",
      "DEBUG:ChemicalCreator:i = 125\n",
      "DEBUG:ChemicalCreator:i = 150\n",
      "DEBUG:ChemicalCreator:i = 175\n",
      "DEBUG:ChemicalCreator:i = 200\n",
      "DEBUG:ChemicalCreator:i = 225\n",
      "DEBUG:ChemicalCreator:i = 250\n",
      "DEBUG:ChemicalCreator:i = 275\n",
      "DEBUG:ChemicalCreator:i = 300\n",
      "DEBUG:ChemicalCreator:i = 325\n",
      "DEBUG:ChemicalCreator:i = 350\n",
      "DEBUG:ChemicalCreator:i = 375\n",
      "DEBUG:ChemicalCreator:i = 400\n",
      "DEBUG:ChemicalCreator:i = 425\n",
      "DEBUG:ChemicalCreator:i = 450\n",
      "DEBUG:ChemicalCreator:i = 475\n",
      "DEBUG:ChemicalCreator:i = 500\n",
      "DEBUG:ChemicalCreator:i = 525\n",
      "DEBUG:ChemicalCreator:i = 550\n",
      "DEBUG:ChemicalCreator:i = 575\n",
      "DEBUG:ChemicalCreator:i = 600\n",
      "DEBUG:ChemicalCreator:i = 625\n",
      "DEBUG:ChemicalCreator:i = 650\n",
      "DEBUG:ChemicalCreator:i = 675\n",
      "DEBUG:ChemicalCreator:i = 700\n",
      "DEBUG:ChemicalCreator:i = 725\n",
      "DEBUG:ChemicalCreator:i = 750\n",
      "DEBUG:ChemicalCreator:i = 775\n",
      "DEBUG:ChemicalCreator:i = 800\n",
      "DEBUG:ChemicalCreator:i = 825\n",
      "DEBUG:ChemicalCreator:i = 850\n",
      "DEBUG:ChemicalCreator:i = 875\n",
      "DEBUG:ChemicalCreator:i = 900\n",
      "DEBUG:ChemicalCreator:i = 925\n",
      "DEBUG:ChemicalCreator:i = 950\n",
      "DEBUG:ChemicalCreator:i = 975\n"
     ]
    }
   ],
   "source": [
    "min_ms1_intensity = 2E5\n",
    "rt_range = [(3*60, 21*60)]\n",
    "mz_range = [(0, 1000)]\n",
    "n_ms1_peaks = 1000\n",
    "alpha = 0.1\n",
    "# alpha = math.inf\n",
    "dataset = chemicals.sample(cc, mz_range, rt_range, min_ms1_intensity, n_ms1_peaks, ms_levels=2, chemical_type='Known',\n",
    "               formula_list=None, compound_list=hmdb, alpha=math.inf, fixed_mz=False)"
   ]
  },
  {
   "cell_type": "markdown",
   "metadata": {},
   "source": [
    "## Multiple Datasets for DsDA"
   ]
  },
  {
   "cell_type": "code",
   "execution_count": 15,
   "metadata": {},
   "outputs": [
    {
     "name": "stderr",
     "output_type": "stream",
     "text": [
      "DEBUG:MultiSampleCreator:Classes, Statuses and Differences defined.\n",
      "DEBUG:MultiSampleCreator:Dataset 1 of 10 created.\n",
      "DEBUG:MultiSampleCreator:Dataset 2 of 10 created.\n",
      "DEBUG:MultiSampleCreator:Dataset 3 of 10 created.\n",
      "DEBUG:MultiSampleCreator:Dataset 4 of 10 created.\n",
      "DEBUG:MultiSampleCreator:Dataset 5 of 10 created.\n",
      "DEBUG:MultiSampleCreator:Dataset 6 of 10 created.\n",
      "DEBUG:MultiSampleCreator:Dataset 7 of 10 created.\n",
      "DEBUG:MultiSampleCreator:Dataset 8 of 10 created.\n",
      "DEBUG:MultiSampleCreator:Dataset 9 of 10 created.\n",
      "DEBUG:MultiSampleCreator:Dataset 10 of 10 created.\n"
     ]
    }
   ],
   "source": [
    "n_samples = [10]\n",
    "classes = [\"class1\"]\n",
    "intensity_noise_sd = [10000]\n",
    "change_probabilities = None\n",
    "change_differences_means = None\n",
    "change_differences_sds = None\n",
    "dropout_probabilities = None \n",
    "experimental_classes = None \n",
    "experimental_probabilitities = None \n",
    "experimental_sds = None\n",
    "\n",
    "multiple_samples = MultiSampleCreator(dataset, n_samples, classes, intensity_noise_sd, \n",
    "                                      change_probabilities, change_differences_means, change_differences_sds, dropout_probabilities,\n",
    "                                     experimental_classes, experimental_probabilitities, experimental_sds)"
   ]
  },
  {
   "cell_type": "code",
   "execution_count": 16,
   "metadata": {},
   "outputs": [],
   "source": [
    "intensities_1 = np.array([chem.max_intensity for chem in multiple_samples.samples[0]])\n",
    "intensities_2 = np.array([chem.max_intensity for chem in multiple_samples.samples[1]])\n",
    "intensities_3 = np.array([chem.max_intensity for chem in multiple_samples.samples[2]])"
   ]
  },
  {
   "cell_type": "code",
   "execution_count": 17,
   "metadata": {},
   "outputs": [],
   "source": [
    "intensities = np.stack([intensities_1, intensities_2, intensities_3], axis=1)\n",
    "intensities = np.log(intensities)"
   ]
  },
  {
   "cell_type": "code",
   "execution_count": 18,
   "metadata": {},
   "outputs": [
    {
     "name": "stdout",
     "output_type": "stream",
     "text": [
      "KnownChemical - 'C6H11NO2S2' rt=437.71 max_intensity=1060751.01\n",
      "KnownChemical - 'C6H11NO2S2' rt=437.71 max_intensity=1073873.49\n",
      "KnownChemical - 'C6H11NO2S2' rt=437.71 max_intensity=1092070.45\n"
     ]
    }
   ],
   "source": [
    "print(multiple_samples.samples[0][0])\n",
    "print(multiple_samples.samples[1][0])\n",
    "print(multiple_samples.samples[2][0])"
   ]
  },
  {
   "cell_type": "code",
   "execution_count": 19,
   "metadata": {},
   "outputs": [
    {
     "data": {
      "text/plain": [
       "(1000, 3)"
      ]
     },
     "execution_count": 19,
     "metadata": {},
     "output_type": "execute_result"
    }
   ],
   "source": [
    "intensities.shape"
   ]
  },
  {
   "cell_type": "code",
   "execution_count": 20,
   "metadata": {},
   "outputs": [
    {
     "data": {
      "text/plain": [
       "{'whiskers': [<matplotlib.lines.Line2D at 0x25fbf6a7710>,\n",
       "  <matplotlib.lines.Line2D at 0x25fbf6a7a58>,\n",
       "  <matplotlib.lines.Line2D at 0x25fbf6bee80>,\n",
       "  <matplotlib.lines.Line2D at 0x25fbf6c7208>,\n",
       "  <matplotlib.lines.Line2D at 0x25fbf6ce5f8>,\n",
       "  <matplotlib.lines.Line2D at 0x25fbf6ce940>],\n",
       " 'caps': [<matplotlib.lines.Line2D at 0x25fbf6a7da0>,\n",
       "  <matplotlib.lines.Line2D at 0x25fbf6be128>,\n",
       "  <matplotlib.lines.Line2D at 0x25fbf6c7550>,\n",
       "  <matplotlib.lines.Line2D at 0x25fbf6c7898>,\n",
       "  <matplotlib.lines.Line2D at 0x25fbf6cec88>,\n",
       "  <matplotlib.lines.Line2D at 0x25fbf6cefd0>],\n",
       " 'boxes': [<matplotlib.lines.Line2D at 0x25fbf6a75c0>,\n",
       "  <matplotlib.lines.Line2D at 0x25fbf6beb38>,\n",
       "  <matplotlib.lines.Line2D at 0x25fbf6ce278>],\n",
       " 'medians': [<matplotlib.lines.Line2D at 0x25fbf6be470>,\n",
       "  <matplotlib.lines.Line2D at 0x25fbf6c7be0>,\n",
       "  <matplotlib.lines.Line2D at 0x25fbf6d6358>],\n",
       " 'fliers': [<matplotlib.lines.Line2D at 0x25fbf6be7b8>,\n",
       "  <matplotlib.lines.Line2D at 0x25fbf6c7f28>,\n",
       "  <matplotlib.lines.Line2D at 0x25fbf6d66a0>],\n",
       " 'means': []}"
      ]
     },
     "execution_count": 20,
     "metadata": {},
     "output_type": "execute_result"
    },
    {
     "data": {
      "image/png": "[encoded data removed]",
      "text/plain": [
       "<Figure size 432x288 with 1 Axes>"
      ]
     },
     "metadata": {
      "needs_background": "light"
     },
     "output_type": "display_data"
    }
   ],
   "source": [
    "plt.boxplot(intensities)"
   ]
  },
  {
   "cell_type": "markdown",
   "metadata": {},
   "source": [
    "## Set up a DsDA controller"
   ]
  },
  {
   "cell_type": "markdown",
   "metadata": {},
   "source": [
    "We can run the dataset through a DsDA controller"
   ]
  },
  {
   "cell_type": "code",
   "execution_count": 21,
   "metadata": {},
   "outputs": [],
   "source": [
    "N = 5                           # top-5 DDA fragmentation\n",
    "mz_tol = 5                      # the mz isolation window (Dalton) around a selected precursor ion\n",
    "rt_tol = 15                     # the rt window (second) around a selected precursor ion to prevent it from fragmented multiple times\n",
    "min_ms1_intensity = 2.5E5       # the minimum ms1 peak intensity to be fragmented"
   ]
  },
  {
   "cell_type": "code",
   "execution_count": 22,
   "metadata": {},
   "outputs": [],
   "source": [
    "dsda_dir = 'C:\\\\Users\\\\joewa\\\\University of Glasgow\\\\Vinny Davies - CLDS Metabolomics Project\\\\DsDA\\\\'\n",
    "dsda_dir = 'C:\\\\Users\\\\Vinny\\\\OneDrive - University of Glasgow\\\\CLDS Metabolomics Project\\\\DsDA\\\\'\n",
    "mzml_dir = os.path.join(dsda_dir, 'DsDA_Test\\\\Data')\n",
    "schedule_file = os.path.join(dsda_dir, 'DsDA_Test\\\\settings\\\\Schedule.csv')"
   ]
  },
  {
   "cell_type": "code",
   "execution_count": 24,
   "metadata": {},
   "outputs": [],
   "source": [
    "mass_spec = DsDAMassSpec(POSITIVE, dataset, density=ps.density_estimator)\n",
    "controller = DsDAController(mass_spec, 1, 0.5, 15, 2E5)\n",
    "#controller = DsDAController(mass_spec, 0.5)\n",
    "controller.make_plot = False\n",
    "\n",
    "set_log_level_warning()\n",
    "# set_log_level_info()\n",
    "# set_log_level_debug()\n",
    "\n",
    "controller.run(schedule_file,False)\n",
    "# now works as a TopN Controller but at set times\n",
    "# possible rounding issue with scans"
   ]
  },
  {
   "cell_type": "code",
   "execution_count": 28,
   "metadata": {},
   "outputs": [
    {
     "name": "stdout",
     "output_type": "stream",
     "text": [
      "Scan 0 num_peaks=0 rt=1.22 ms_level=1 [[(0, 1000.0)]]\n",
      "Scan 1 num_peaks=0 rt=1.42 ms_level=1 [[(0, 1000.0)]]\n",
      "Scan 2 num_peaks=0 rt=1.47 ms_level=2 [[(227.6594, 228.6594)]]\n",
      "Scan 3 num_peaks=0 rt=1.53 ms_level=2 [[(227.6594, 228.6594)]]\n",
      "Scan 4 num_peaks=0 rt=1.58 ms_level=2 [[(106.4716, 107.4716)]]\n",
      "Scan 5 num_peaks=0 rt=1.64 ms_level=2 [[(106.4716, 107.4716)]]\n",
      "Scan 6 num_peaks=0 rt=1.84 ms_level=1 [[(0, 1000.0)]]\n",
      "Scan 7 num_peaks=0 rt=1.89 ms_level=2 [[(322.7691, 323.7691)]]\n",
      "Scan 8 num_peaks=0 rt=1.95 ms_level=2 [[(322.7691, 323.7691)]]\n",
      "Scan 9 num_peaks=0 rt=2.01 ms_level=2 [[(318.4, 319.4)]]\n",
      "Scan 10 num_peaks=0 rt=2.06 ms_level=2 [[(318.4, 319.4)]]\n"
     ]
    }
   ],
   "source": [
    "print(controller.scans[1][0],controller.scans[1][0].isolation_windows)\n",
    "print(controller.scans[1][1],controller.scans[1][1].isolation_windows)\n",
    "print(controller.scans[2][0],controller.scans[2][0].isolation_windows)\n",
    "print(controller.scans[2][1],controller.scans[2][1].isolation_windows)\n",
    "print(controller.scans[2][2],controller.scans[2][2].isolation_windows)\n",
    "print(controller.scans[2][3],controller.scans[2][3].isolation_windows)\n",
    "print(controller.scans[1][2],controller.scans[1][2].isolation_windows)\n",
    "print(controller.scans[2][4],controller.scans[2][4].isolation_windows)\n",
    "print(controller.scans[2][5],controller.scans[2][5].isolation_windows)\n",
    "print(controller.scans[2][6],controller.scans[2][6].isolation_windows)\n",
    "print(controller.scans[2][7],controller.scans[2][7].isolation_windows)\n"
   ]
  },
  {
   "cell_type": "code",
   "execution_count": null,
   "metadata": {},
   "outputs": [],
   "source": [
    "#controller.write_mzML('my_analysis', os.path.join(base_dir, 'DsDA\\DsDA_Test\\Data\\\\output.mzML'))"
   ]
  },
  {
   "cell_type": "markdown",
   "metadata": {},
   "source": [
    "# Run DsDA on multiple samples"
   ]
  },
  {
   "cell_type": "code",
   "execution_count": 58,
   "metadata": {},
   "outputs": [],
   "source": [
    "schedule_dir = 'C:\\\\Users\\\\Vinny\\\\OneDrive - University of Glasgow\\\\CLDS Metabolomics Project\\\\DsDA\\\\DsDA_Test\\\\settings'\n",
    "data_dir = 'C:\\\\Users\\\\Vinny\\\\OneDrive - University of Glasgow\\\\CLDS Metabolomics Project\\\\DsDA\\\\DsDA_Test\\\\Data'"
   ]
  },
  {
   "cell_type": "code",
   "execution_count": 87,
   "metadata": {},
   "outputs": [],
   "source": [
    "def get_schedule(n):\n",
    "    while True:\n",
    "        files = sorted(glob.glob(schedule_dir + '\\\\*.csv'))\n",
    "        if len(files) == n:\n",
    "            last_file = files[-1]\n",
    "            try:\n",
    "                schedule = pd.read_csv(last_file)\n",
    "                if schedule.shape[0] == 11951:\n",
    "                    return last_file\n",
    "            except:\n",
    "                pass"
   ]
  },
  {
   "cell_type": "code",
   "execution_count": 88,
   "metadata": {},
   "outputs": [],
   "source": [
    "N = 5                           # top-5 DDA fragmentation\n",
    "mz_tol = 5                      # the mz isolation window (Dalton) around a selected precursor ion\n",
    "rt_tol = 15                     # the rt window (second) around a selected precursor ion to prevent it from fragmented multiple times\n",
    "min_ms1_intensity = 2.5E5       # the minimum ms1 peak intensity to be fragmented\n",
    "rt_range = [(3*60, 21*60)]\n",
    "mz_range = [(0, 1050)]"
   ]
  },
  {
   "cell_type": "code",
   "execution_count": 89,
   "metadata": {},
   "outputs": [
    {
     "name": "stderr",
     "output_type": "stream",
     "text": [
      "1080.0778770831291it [00:27, 38.92it/s]                                                                                \n"
     ]
    },
    {
     "name": "stdout",
     "output_type": "stream",
     "text": [
      "Run R File\n",
      "Processed  1  files\n",
      "Found new File C:\\Users\\Vinny\\OneDrive - University of Glasgow\\CLDS Metabolomics Project\\DsDA\\DsDA_Test\\settings\\2019-04-23-16-38-47.csv\n"
     ]
    },
    {
     "name": "stderr",
     "output_type": "stream",
     "text": [
      "100%|██████████████████████████████████████████████████| 1013.7319511175206/1013.7319511175206 [00:23<00:00, 43.89it/s]\n"
     ]
    },
    {
     "name": "stdout",
     "output_type": "stream",
     "text": [
      "Processed  2  files\n",
      "Found new File C:\\Users\\Vinny\\OneDrive - University of Glasgow\\CLDS Metabolomics Project\\DsDA\\DsDA_Test\\settings\\2019-04-23-16-44-18.csv\n"
     ]
    },
    {
     "name": "stderr",
     "output_type": "stream",
     "text": [
      "100%|██████████████████████████████████████████████████| 1013.7319511175206/1013.7319511175206 [00:26<00:00, 38.76it/s]\n"
     ]
    },
    {
     "name": "stdout",
     "output_type": "stream",
     "text": [
      "Processed  3  files\n",
      "Found new File C:\\Users\\Vinny\\OneDrive - University of Glasgow\\CLDS Metabolomics Project\\DsDA\\DsDA_Test\\settings\\2019-04-23-16-46-55.csv\n"
     ]
    },
    {
     "name": "stderr",
     "output_type": "stream",
     "text": [
      "100%|██████████████████████████████████████████████████| 1013.7319511175206/1013.7319511175206 [00:23<00:00, 43.52it/s]\n"
     ]
    },
    {
     "name": "stdout",
     "output_type": "stream",
     "text": [
      "Processed  4  files\n"
     ]
    },
    {
     "ename": "KeyboardInterrupt",
     "evalue": "",
     "output_type": "error",
     "traceback": [
      "\u001b[1;31m---------------------------------------------------------------------------\u001b[0m",
      "\u001b[1;31mKeyboardInterrupt\u001b[0m                         Traceback (most recent call last)",
      "\u001b[1;32m<ipython-input-89-6a8fad39ee5e>\u001b[0m in \u001b[0;36m<module>\u001b[1;34m\u001b[0m\n\u001b[0;32m      8\u001b[0m         \u001b[0mprint\u001b[0m\u001b[1;33m(\u001b[0m\u001b[1;34m\"Run R File\"\u001b[0m\u001b[1;33m)\u001b[0m\u001b[1;33m\u001b[0m\u001b[0m\n\u001b[0;32m      9\u001b[0m     \u001b[1;32melse\u001b[0m\u001b[1;33m:\u001b[0m\u001b[1;33m\u001b[0m\u001b[0m\n\u001b[1;32m---> 10\u001b[1;33m         \u001b[0mlast_schedule\u001b[0m \u001b[1;33m=\u001b[0m \u001b[0mget_schedule\u001b[0m\u001b[1;33m(\u001b[0m\u001b[0mn\u001b[0m\u001b[1;33m)\u001b[0m\u001b[1;33m\u001b[0m\u001b[0m\n\u001b[0m\u001b[0;32m     11\u001b[0m         \u001b[0mprint\u001b[0m\u001b[1;33m(\u001b[0m\u001b[1;34m\"Found new File\"\u001b[0m\u001b[1;33m,\u001b[0m \u001b[0mlast_schedule\u001b[0m\u001b[1;33m)\u001b[0m\u001b[1;33m\u001b[0m\u001b[0m\n\u001b[0;32m     12\u001b[0m         \u001b[0mmass_spec\u001b[0m \u001b[1;33m=\u001b[0m \u001b[0mDsDAMassSpec\u001b[0m\u001b[1;33m(\u001b[0m\u001b[0mPOSITIVE\u001b[0m\u001b[1;33m,\u001b[0m \u001b[0mdataset\u001b[0m\u001b[1;33m,\u001b[0m \u001b[0mdensity\u001b[0m\u001b[1;33m=\u001b[0m\u001b[0mps\u001b[0m\u001b[1;33m.\u001b[0m\u001b[0mdensity_estimator\u001b[0m\u001b[1;33m)\u001b[0m\u001b[1;33m\u001b[0m\u001b[0m\n",
      "\u001b[1;32m<ipython-input-87-688aecf878b0>\u001b[0m in \u001b[0;36mget_schedule\u001b[1;34m(n)\u001b[0m\n\u001b[0;32m      1\u001b[0m \u001b[1;32mdef\u001b[0m \u001b[0mget_schedule\u001b[0m\u001b[1;33m(\u001b[0m\u001b[0mn\u001b[0m\u001b[1;33m)\u001b[0m\u001b[1;33m:\u001b[0m\u001b[1;33m\u001b[0m\u001b[0m\n\u001b[0;32m      2\u001b[0m     \u001b[1;32mwhile\u001b[0m \u001b[1;32mTrue\u001b[0m\u001b[1;33m:\u001b[0m\u001b[1;33m\u001b[0m\u001b[0m\n\u001b[1;32m----> 3\u001b[1;33m         \u001b[0mfiles\u001b[0m \u001b[1;33m=\u001b[0m \u001b[0msorted\u001b[0m\u001b[1;33m(\u001b[0m\u001b[0mglob\u001b[0m\u001b[1;33m.\u001b[0m\u001b[0mglob\u001b[0m\u001b[1;33m(\u001b[0m\u001b[0mschedule_dir\u001b[0m \u001b[1;33m+\u001b[0m \u001b[1;34m'\\\\*.csv'\u001b[0m\u001b[1;33m)\u001b[0m\u001b[1;33m)\u001b[0m\u001b[1;33m\u001b[0m\u001b[0m\n\u001b[0m\u001b[0;32m      4\u001b[0m         \u001b[1;32mif\u001b[0m \u001b[0mlen\u001b[0m\u001b[1;33m(\u001b[0m\u001b[0mfiles\u001b[0m\u001b[1;33m)\u001b[0m \u001b[1;33m==\u001b[0m \u001b[0mn\u001b[0m\u001b[1;33m:\u001b[0m\u001b[1;33m\u001b[0m\u001b[0m\n\u001b[0;32m      5\u001b[0m             \u001b[0mlast_file\u001b[0m \u001b[1;33m=\u001b[0m \u001b[0mfiles\u001b[0m\u001b[1;33m[\u001b[0m\u001b[1;33m-\u001b[0m\u001b[1;36m1\u001b[0m\u001b[1;33m]\u001b[0m\u001b[1;33m\u001b[0m\u001b[0m\n",
      "\u001b[1;32m~\\AppData\\Local\\Programs\\Python\\Python36\\Lib\\glob.py\u001b[0m in \u001b[0;36mglob\u001b[1;34m(pathname, recursive)\u001b[0m\n\u001b[0;32m     18\u001b[0m     \u001b[0mzero\u001b[0m \u001b[1;32mor\u001b[0m \u001b[0mmore\u001b[0m \u001b[0mdirectories\u001b[0m \u001b[1;32mand\u001b[0m \u001b[0msubdirectories\u001b[0m\u001b[1;33m.\u001b[0m\u001b[1;33m\u001b[0m\u001b[0m\n\u001b[0;32m     19\u001b[0m     \"\"\"\n\u001b[1;32m---> 20\u001b[1;33m     \u001b[1;32mreturn\u001b[0m \u001b[0mlist\u001b[0m\u001b[1;33m(\u001b[0m\u001b[0miglob\u001b[0m\u001b[1;33m(\u001b[0m\u001b[0mpathname\u001b[0m\u001b[1;33m,\u001b[0m \u001b[0mrecursive\u001b[0m\u001b[1;33m=\u001b[0m\u001b[0mrecursive\u001b[0m\u001b[1;33m)\u001b[0m\u001b[1;33m)\u001b[0m\u001b[1;33m\u001b[0m\u001b[0m\n\u001b[0m\u001b[0;32m     21\u001b[0m \u001b[1;33m\u001b[0m\u001b[0m\n\u001b[0;32m     22\u001b[0m \u001b[1;32mdef\u001b[0m \u001b[0miglob\u001b[0m\u001b[1;33m(\u001b[0m\u001b[0mpathname\u001b[0m\u001b[1;33m,\u001b[0m \u001b[1;33m*\u001b[0m\u001b[1;33m,\u001b[0m \u001b[0mrecursive\u001b[0m\u001b[1;33m=\u001b[0m\u001b[1;32mFalse\u001b[0m\u001b[1;33m)\u001b[0m\u001b[1;33m:\u001b[0m\u001b[1;33m\u001b[0m\u001b[0m\n",
      "\u001b[1;32m~\\AppData\\Local\\Programs\\Python\\Python36\\Lib\\glob.py\u001b[0m in \u001b[0;36m_iglob\u001b[1;34m(pathname, recursive, dironly)\u001b[0m\n\u001b[0;32m     70\u001b[0m         \u001b[0mglob_in_dir\u001b[0m \u001b[1;33m=\u001b[0m \u001b[0m_glob0\u001b[0m\u001b[1;33m\u001b[0m\u001b[0m\n\u001b[0;32m     71\u001b[0m     \u001b[1;32mfor\u001b[0m \u001b[0mdirname\u001b[0m \u001b[1;32min\u001b[0m \u001b[0mdirs\u001b[0m\u001b[1;33m:\u001b[0m\u001b[1;33m\u001b[0m\u001b[0m\n\u001b[1;32m---> 72\u001b[1;33m         \u001b[1;32mfor\u001b[0m \u001b[0mname\u001b[0m \u001b[1;32min\u001b[0m \u001b[0mglob_in_dir\u001b[0m\u001b[1;33m(\u001b[0m\u001b[0mdirname\u001b[0m\u001b[1;33m,\u001b[0m \u001b[0mbasename\u001b[0m\u001b[1;33m,\u001b[0m \u001b[0mdironly\u001b[0m\u001b[1;33m)\u001b[0m\u001b[1;33m:\u001b[0m\u001b[1;33m\u001b[0m\u001b[0m\n\u001b[0m\u001b[0;32m     73\u001b[0m             \u001b[1;32myield\u001b[0m \u001b[0mos\u001b[0m\u001b[1;33m.\u001b[0m\u001b[0mpath\u001b[0m\u001b[1;33m.\u001b[0m\u001b[0mjoin\u001b[0m\u001b[1;33m(\u001b[0m\u001b[0mdirname\u001b[0m\u001b[1;33m,\u001b[0m \u001b[0mname\u001b[0m\u001b[1;33m)\u001b[0m\u001b[1;33m\u001b[0m\u001b[0m\n\u001b[0;32m     74\u001b[0m \u001b[1;33m\u001b[0m\u001b[0m\n",
      "\u001b[1;32m~\\AppData\\Local\\Programs\\Python\\Python36\\Lib\\glob.py\u001b[0m in \u001b[0;36m_glob1\u001b[1;34m(dirname, pattern, dironly)\u001b[0m\n\u001b[0;32m     78\u001b[0m \u001b[1;33m\u001b[0m\u001b[0m\n\u001b[0;32m     79\u001b[0m \u001b[1;32mdef\u001b[0m \u001b[0m_glob1\u001b[0m\u001b[1;33m(\u001b[0m\u001b[0mdirname\u001b[0m\u001b[1;33m,\u001b[0m \u001b[0mpattern\u001b[0m\u001b[1;33m,\u001b[0m \u001b[0mdironly\u001b[0m\u001b[1;33m)\u001b[0m\u001b[1;33m:\u001b[0m\u001b[1;33m\u001b[0m\u001b[0m\n\u001b[1;32m---> 80\u001b[1;33m     \u001b[0mnames\u001b[0m \u001b[1;33m=\u001b[0m \u001b[0mlist\u001b[0m\u001b[1;33m(\u001b[0m\u001b[0m_iterdir\u001b[0m\u001b[1;33m(\u001b[0m\u001b[0mdirname\u001b[0m\u001b[1;33m,\u001b[0m \u001b[0mdironly\u001b[0m\u001b[1;33m)\u001b[0m\u001b[1;33m)\u001b[0m\u001b[1;33m\u001b[0m\u001b[0m\n\u001b[0m\u001b[0;32m     81\u001b[0m     \u001b[1;32mif\u001b[0m \u001b[1;32mnot\u001b[0m \u001b[0m_ishidden\u001b[0m\u001b[1;33m(\u001b[0m\u001b[0mpattern\u001b[0m\u001b[1;33m)\u001b[0m\u001b[1;33m:\u001b[0m\u001b[1;33m\u001b[0m\u001b[0m\n\u001b[0;32m     82\u001b[0m         \u001b[0mnames\u001b[0m \u001b[1;33m=\u001b[0m \u001b[1;33m(\u001b[0m\u001b[0mx\u001b[0m \u001b[1;32mfor\u001b[0m \u001b[0mx\u001b[0m \u001b[1;32min\u001b[0m \u001b[0mnames\u001b[0m \u001b[1;32mif\u001b[0m \u001b[1;32mnot\u001b[0m \u001b[0m_ishidden\u001b[0m\u001b[1;33m(\u001b[0m\u001b[0mx\u001b[0m\u001b[1;33m)\u001b[0m\u001b[1;33m)\u001b[0m\u001b[1;33m\u001b[0m\u001b[0m\n",
      "\u001b[1;32m~\\AppData\\Local\\Programs\\Python\\Python36\\Lib\\glob.py\u001b[0m in \u001b[0;36m_iterdir\u001b[1;34m(dirname, dironly)\u001b[0m\n\u001b[0;32m    119\u001b[0m             \u001b[0mdirname\u001b[0m \u001b[1;33m=\u001b[0m \u001b[0mos\u001b[0m\u001b[1;33m.\u001b[0m\u001b[0mcurdir\u001b[0m\u001b[1;33m\u001b[0m\u001b[0m\n\u001b[0;32m    120\u001b[0m     \u001b[1;32mtry\u001b[0m\u001b[1;33m:\u001b[0m\u001b[1;33m\u001b[0m\u001b[0m\n\u001b[1;32m--> 121\u001b[1;33m         \u001b[1;32mwith\u001b[0m \u001b[0mos\u001b[0m\u001b[1;33m.\u001b[0m\u001b[0mscandir\u001b[0m\u001b[1;33m(\u001b[0m\u001b[0mdirname\u001b[0m\u001b[1;33m)\u001b[0m \u001b[1;32mas\u001b[0m \u001b[0mit\u001b[0m\u001b[1;33m:\u001b[0m\u001b[1;33m\u001b[0m\u001b[0m\n\u001b[0m\u001b[0;32m    122\u001b[0m             \u001b[1;32mfor\u001b[0m \u001b[0mentry\u001b[0m \u001b[1;32min\u001b[0m \u001b[0mit\u001b[0m\u001b[1;33m:\u001b[0m\u001b[1;33m\u001b[0m\u001b[0m\n\u001b[0;32m    123\u001b[0m                 \u001b[1;32mtry\u001b[0m\u001b[1;33m:\u001b[0m\u001b[1;33m\u001b[0m\u001b[0m\n",
      "\u001b[1;31mKeyboardInterrupt\u001b[0m: "
     ]
    }
   ],
   "source": [
    "set_log_level_warning()\n",
    "for n in range(len(multiple_samples.samples)):\n",
    "    dataset = multiple_samples.samples[n]\n",
    "    if n == 0:\n",
    "        mass_spec = IndependentMassSpectrometer(POSITIVE, dataset, density=ps.density_estimator)\n",
    "        controller = TopNController(mass_spec, N, mz_tol, rt_tol, min_ms1_intensity)\n",
    "        controller.run(rt_range[0][0], rt_range[0][1])\n",
    "        print(\"Run R File\")\n",
    "    else:\n",
    "        last_schedule = get_schedule(n)\n",
    "        print(\"Found new File\", last_schedule)\n",
    "        mass_spec = DsDAMassSpec(POSITIVE, dataset, density=ps.density_estimator)\n",
    "        controller = DsDAController(mass_spec, 1, 0.5, 15, 2E5)\n",
    "        controller.run(last_schedule)\n",
    "    print(\"Processed \", n+1, \" files\")\n",
    "    controller.write_mzML('my_analysis', data_dir + '\\\\%d.mzML' % n)"
   ]
  },
  {
   "cell_type": "code",
   "execution_count": 66,
   "metadata": {},
   "outputs": [
    {
     "name": "stdout",
     "output_type": "stream",
     "text": [
      "C:\\Users\\Vinny\\OneDrive - University of Glasgow\\CLDS Metabolomics Project\\DsDA\\DsDA_Test\\settings\\2019-04-23-16-01-55.csv\n"
     ]
    }
   ],
   "source": [
    "#controller.schedule['targetTime']\n",
    "print(last_schedule)"
   ]
  },
  {
   "cell_type": "code",
   "execution_count": 80,
   "metadata": {},
   "outputs": [
    {
     "data": {
      "text/plain": [
       "1014.94995117188"
      ]
     },
     "execution_count": 80,
     "metadata": {},
     "output_type": "execute_result"
    }
   ],
   "source": [
    "controller.schedule[\"targetTime\"].values[-1]"
   ]
  },
  {
   "cell_type": "code",
   "execution_count": null,
   "metadata": {},
   "outputs": [],
   "source": []
  }
 ],
 "metadata": {
  "kernelspec": {
   "display_name": "Python 3",
   "language": "python",
   "name": "python3"
  },
  "language_info": {
   "codemirror_mode": {
    "name": "ipython",
    "version": 3
   },
   "file_extension": ".py",
   "mimetype": "text/x-python",
   "name": "python",
   "nbconvert_exporter": "python",
   "pygments_lexer": "ipython3",
   "version": "3.6.6"
  }
 },
 "nbformat": 4,
 "nbformat_minor": 1
}
