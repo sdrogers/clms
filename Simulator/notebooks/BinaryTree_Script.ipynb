{
 "cells": [
  {
   "cell_type": "markdown",
   "metadata": {},
   "source": [
    "Import some packages"
   ]
  },
  {
   "cell_type": "code",
   "execution_count": 1,
   "metadata": {},
   "outputs": [],
   "source": [
    "import numpy as np\n",
    "import random\n",
    "import matplotlib.pyplot as plt\n",
    "import sys"
   ]
  },
  {
   "cell_type": "code",
   "execution_count": 36,
   "metadata": {},
   "outputs": [
    {
     "name": "stdout",
     "output_type": "stream",
     "text": [
      "[679.59546026]\n",
      "[7136.31298406]\n",
      "[148.16351731 148.49738899 148.39495003]\n",
      "[7504.02583936 6438.87505538 8604.81591715]\n"
     ]
    }
   ],
   "source": [
    "class MS_DataGenerator:\n",
    "  def __init__(self,mz_ms1_range=[0,1000],mz_ms2_range=[0,500],int_ms1_range=[1000,10000],int_ms2_range=[1000,10000], ms2_mz_var=0.1):\n",
    "    self.mz_MS1 = np.random.uniform(mz_ms1_range[0],mz_ms1_range[1],1)\n",
    "    self.intensity_MS1 = np.random.uniform(int_ms1_range[0],int_ms1_range[1],1)\n",
    "    mz_MS2_initial = np.random.uniform(mz_ms2_range[0],mz_ms2_range[1],1)\n",
    "    n1=random.sample([2,3,4],1)\n",
    "    self.mz_MS2 = np.random.normal(mz_MS2_initial,ms2_mz_var,n1)\n",
    "    self.intensity_MS2 = np.random.uniform(int_ms2_range[0],int_ms2_range[1],n1)\n",
    "\n",
    "p1 = MS_DataGenerator()\n",
    "print(p1.mz_MS1)\n",
    "print(p1.intensity_MS1)\n",
    "print(p1.mz_MS2)\n",
    "print(p1.intensity_MS2)\n",
    "\n"
   ]
  },
  {
   "cell_type": "code",
   "execution_count": 13,
   "metadata": {},
   "outputs": [],
   "source": [
    "class MS_DataGenerator_multi:\n",
    "  def __init__(self,n,mz_ms1_range=[0,1000],mz_ms2_range=[0,500],int_ms1_range=[1000,10000],int_ms2_range=[1000,10000], ms2_mz_var=0.1):\n",
    "    self.mz_MS1=[]\n",
    "    self.intensity_MS1=[]\n",
    "    self.mz_MS2=[]\n",
    "    self.intensity_MS2=[]\n",
    "    for i in range(0,n):\n",
    "        datum = MS_DataGenerator()\n",
    "        self.mz_MS1.extend(datum.mz_MS1)\n",
    "        self.intensity_MS1.extend(datum.intensity_MS1)\n",
    "        self.mz_MS2.append(datum.mz_MS2)\n",
    "        self.intensity_MS2.append(datum.intensity_MS2)\n",
    "\n",
    "Data=MS_DataGenerator_multi(100)\n",
    "#print(Data.mz_MS1)\n",
    "#print(Data.intensity_MS1)\n",
    "#print(Data.mz_MS2)\n",
    "#print(Data.intensity_MS2)"
   ]
  },
  {
   "cell_type": "code",
   "execution_count": 29,
   "metadata": {},
   "outputs": [
    {
     "data": {
      "image/png": "[encoded data removed]",
      "text/plain": [
       "<Figure size 432x288 with 1 Axes>"
      ]
     },
     "metadata": {
      "needs_background": "light"
     },
     "output_type": "display_data"
    },
    {
     "data": {
      "image/png": "[encoded data removed]",
      "text/plain": [
       "<Figure size 432x288 with 1 Axes>"
      ]
     },
     "metadata": {
      "needs_background": "light"
     },
     "output_type": "display_data"
    }
   ],
   "source": [
    "\n",
    "class MSplot:\n",
    "  def __init__(self,Data,MStype,index=None,width=1,xlabel=0,ylabel=0,title=0,ylim=0,xlim=0,colours=None):\n",
    "    if MStype == \"MS1\":\n",
    "        plt.bar(Data.mz_MS1, Data.intensity_MS1,width=width)\n",
    "        if xlabel==0:\n",
    "            plt.xlabel(\"m/z (MS1)\")\n",
    "        else:\n",
    "            plt.xlabel(xlabel)\n",
    "        \n",
    "        if ylabel==0:\n",
    "            plt.ylabel(\"Intensity\")\n",
    "        else:\n",
    "            plt.ylabel(ylabel)\n",
    "        \n",
    "        if title==0:\n",
    "            plt.title(\"MS1 Plot\")\n",
    "        else:\n",
    "            plt.title(title)\n",
    "\n",
    "        if xlim==0:\n",
    "            plt.xlim([min(Data.mz_MS1)*0.95,max(Data.mz_MS1)*1.05])\n",
    "        else:\n",
    "            plt.xlim(xlim)\n",
    "            \n",
    "        if ylim==0:\n",
    "            plt.ylim([min(Data.intensity_MS1)*0.95,max(Data.intensity_MS1)*1.05])\n",
    "        else:\n",
    "            plt.ylim(ylim)\n",
    "            \n",
    "        plt.show()\n",
    "             \n",
    "    elif MStype == \"MS2\":\n",
    "        if index is None :\n",
    "            sys.exit(\"'index' is must be defined for MS2\")\n",
    "            \n",
    "        if colours is None:\n",
    "            plt.bar(Data.mz_MS2[index], Data.intensity_MS2[index],width=width)\n",
    "        else:\n",
    "            p=plt.bar(Data.mz_MS2[index], Data.intensity_MS2[index],width=width)\n",
    "            for i in range(0,len(Data.mz_MS2[index])):\n",
    "                p[i].set_color(colours[i])\n",
    "        \n",
    "        if xlabel==0:\n",
    "            plt.xlabel(\"m/z (MS2)\")\n",
    "        else:\n",
    "            plt.xlabel(xlabel)\n",
    "        \n",
    "        if ylabel==0:\n",
    "            plt.ylabel(\"Intensity\")\n",
    "        else:\n",
    "            plt.ylabel(ylabel)\n",
    "        \n",
    "        if title==0:\n",
    "            plt.title(\"MS2 Plot\")\n",
    "        else:\n",
    "            plt.title(title)\n",
    "\n",
    "        if xlim==0:\n",
    "            plt.xlim([min(Data.mz_MS2[index])*0.95,max(Data.mz_MS2[index])*1.05])\n",
    "        else:\n",
    "            plt.xlim(xlim)\n",
    "            \n",
    "        if ylim==0:\n",
    "            plt.ylim([min(Data.intensity_MS2[index])*0.95,max(Data.intensity_MS2[index])*1.05])\n",
    "        else:\n",
    "            plt.ylim(ylim)\n",
    "            \n",
    "        plt.show()\n",
    "    else:\n",
    "        sys.exit(\"Use either 'MS1' or 'MS2' for MStype\")\n",
    "\n",
    "plot1 = MSplot(Data,MStype=\"MS1\")\n",
    "plot2 = MSplot(Data,MStype=\"MS2\",index=0)"
   ]
  },
  {
   "cell_type": "code",
   "execution_count": null,
   "metadata": {},
   "outputs": [],
   "source": []
  },
  {
   "cell_type": "code",
   "execution_count": null,
   "metadata": {},
   "outputs": [],
   "source": []
  }
 ],
 "metadata": {
  "kernelspec": {
   "display_name": "Python 3",
   "language": "python",
   "name": "python3"
  },
  "language_info": {
   "codemirror_mode": {
    "name": "ipython",
    "version": 3
   },
   "file_extension": ".py",
   "mimetype": "text/x-python",
   "name": "python",
   "nbconvert_exporter": "python",
   "pygments_lexer": "ipython3",
   "version": "3.6.6"
  }
 },
 "nbformat": 4,
 "nbformat_minor": 2
}
