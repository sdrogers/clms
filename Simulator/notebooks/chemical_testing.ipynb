{
 "cells": [
  {
   "cell_type": "code",
   "execution_count": 1,
   "metadata": {},
   "outputs": [],
   "source": [
    "%load_ext autoreload\n",
    "%autoreload 2"
   ]
  },
  {
   "cell_type": "code",
   "execution_count": 2,
   "metadata": {},
   "outputs": [
    {
     "name": "stdout",
     "output_type": "stream",
     "text": [
      "Pretty printing has been turned OFF\n"
     ]
    }
   ],
   "source": [
    "%pprint"
   ]
  },
  {
   "cell_type": "code",
   "execution_count": 3,
   "metadata": {},
   "outputs": [],
   "source": [
    "import numpy as np\n",
    "import random\n",
    "import matplotlib.pyplot as plt\n",
    "import sys\n",
    "import pickle"
   ]
  },
  {
   "cell_type": "code",
   "execution_count": 4,
   "metadata": {},
   "outputs": [],
   "source": [
    "sys.path.append('../codes')"
   ]
  },
  {
   "cell_type": "code",
   "execution_count": 5,
   "metadata": {},
   "outputs": [],
   "source": [
    "from VMSfunctions.Common import *\n",
    "from VMSfunctions.Chemicals import *\n",
    "from VMSfunctions.Chromatograms import *"
   ]
  },
  {
   "cell_type": "code",
   "execution_count": 6,
   "metadata": {},
   "outputs": [
    {
     "name": "stdout",
     "output_type": "stream",
     "text": [
      "C8H10N4O2\n",
      "[(194.08037558656, 0.9182915506035282, 'Mono'), (195.08373042436, 0.08170844939647179, '1C13')]\n",
      "[('M+H', 0.8106733179994142), ('[M+ACN]+H', 0.10888902905629784), ('[M+CH3OH]+H', 1.3045486310002614e-05), ('[M+NH3]+H', 8.98082568402312e-18), ('M+Na', 0.00028721764443632596), ('M+K', 0.00024351397626252248), ('M+2Na-H', 0.0008226588773522337), ('M+ACN+Na', 0.07871612607697208), ('M+2K+H', 8.390602357081428e-13), ('[M+DMSO]+H', 9.743145970020592e-07), ('[M+2ACN]+H', 3.327936238868016e-08), ('2M+H', 0.0003300691909281929), ('2M+NH4', 2.4014097228185166e-05)]\n"
     ]
    }
   ],
   "source": [
    "chrom = FunctionalChromatogram(\"normal\", [0,1])\n",
    "formula = Formula(\"C8H10N4O2\")\n",
    "isotopes = Isotopes(formula)\n",
    "adducts = Adducts(formula)\n",
    "chem = KnownChemical(formula, isotopes, adducts, 100, 10000, chrom, None)\n",
    "print(chem.formula)\n",
    "print(chem.isotopes)\n",
    "print(chem.adducts)"
   ]
  },
  {
   "cell_type": "code",
   "execution_count": null,
   "metadata": {},
   "outputs": [],
   "source": []
  }
 ],
 "metadata": {
  "kernelspec": {
   "display_name": "Python 3",
   "language": "python",
   "name": "python3"
  },
  "language_info": {
   "codemirror_mode": {
    "name": "ipython",
    "version": 3
   },
   "file_extension": ".py",
   "mimetype": "text/x-python",
   "name": "python",
   "nbconvert_exporter": "python",
   "pygments_lexer": "ipython3",
   "version": "3.6.6"
  }
 },
 "nbformat": 4,
 "nbformat_minor": 2
}
