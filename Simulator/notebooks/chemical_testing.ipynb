{
 "cells": [
  {
   "cell_type": "code",
   "execution_count": 1,
   "metadata": {},
   "outputs": [],
   "source": [
    "%load_ext autoreload\n",
    "%autoreload 2"
   ]
  },
  {
   "cell_type": "code",
   "execution_count": 2,
   "metadata": {},
   "outputs": [
    {
     "name": "stdout",
     "output_type": "stream",
     "text": [
      "Pretty printing has been turned OFF\n"
     ]
    }
   ],
   "source": [
    "%pprint"
   ]
  },
  {
   "cell_type": "code",
   "execution_count": 3,
   "metadata": {},
   "outputs": [],
   "source": [
    "import numpy as np\n",
    "import random\n",
    "import matplotlib.pyplot as plt\n",
    "import sys\n",
    "import pickle"
   ]
  },
  {
   "cell_type": "code",
   "execution_count": 4,
   "metadata": {},
   "outputs": [],
   "source": [
    "sys.path.append('../codes')"
   ]
  },
  {
   "cell_type": "code",
   "execution_count": 8,
   "metadata": {},
   "outputs": [],
   "source": [
    "from VMSfunctions.Common import *\n",
    "from VMSfunctions.Chemicals import *\n",
    "from VMSfunctions.Chromatograms import *"
   ]
  },
  {
   "cell_type": "code",
   "execution_count": 12,
   "metadata": {},
   "outputs": [
    {
     "name": "stdout",
     "output_type": "stream",
     "text": [
      "C8H10N4O2\n",
      "[(194.08037558656, 0.9182915506035282, 'Mono'), (195.08373042436, 0.08170844939647179, '1C13')]\n",
      "[('M+H', 0.3388133897872647), ('[M+ACN]+H', 0.0024608754698060434), ('[M+CH3OH]+H', 1.7443630764332814e-08), ('[M+NH3]+H', 3.0433760663491666e-14), ('M+Na', 0.20847119407076775), ('M+K', 0.04119289745921194), ('M+2Na-H', 0.21629033034958076), ('M+ACN+Na', 1.3759323344099825e-05), ('M+2K+H', 3.0234279406220555e-08), ('[M+DMSO]+H', 1.1613466340309682e-10), ('[M+2ACN]+H', 2.574722666991738e-05), ('2M+H', 0.19273175788447336), ('2M+NH4', 6.348061685235332e-10)]\n"
     ]
    }
   ],
   "source": [
    "chrom = FunctionalChromatogram(\"normal\", [0,1])\n",
    "formula = Formula(\"C8H10N4O2\")\n",
    "isotopes = Isotopes(formula)\n",
    "adducts = Adducts(formula)\n",
    "chem = KnownChemical(formula, isotopes, adducts, 100, 10000, chrom, None)\n",
    "print(chem.formula)\n",
    "print(chem.isotopes)\n",
    "print(chem.adducts)"
   ]
  },
  {
   "cell_type": "code",
   "execution_count": null,
   "metadata": {},
   "outputs": [],
   "source": []
  }
 ],
 "metadata": {
  "kernelspec": {
   "display_name": "Python 3",
   "language": "python",
   "name": "python3"
  },
  "language_info": {
   "codemirror_mode": {
    "name": "ipython",
    "version": 3
   },
   "file_extension": ".py",
   "mimetype": "text/x-python",
   "name": "python",
   "nbconvert_exporter": "python",
   "pygments_lexer": "ipython3",
   "version": "3.6.6"
  }
 },
 "nbformat": 4,
 "nbformat_minor": 2
}
