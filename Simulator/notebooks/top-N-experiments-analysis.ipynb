{
 "cells": [
  {
   "cell_type": "markdown",
   "metadata": {},
   "source": [
    "# Experiment: Varying N in top-N DDA fragmentation"
   ]
  },
  {
   "cell_type": "code",
   "execution_count": 1,
   "metadata": {},
   "outputs": [],
   "source": [
    "%load_ext autoreload\n",
    "%autoreload 2"
   ]
  },
  {
   "cell_type": "code",
   "execution_count": 2,
   "metadata": {},
   "outputs": [],
   "source": [
    "from mpl_toolkits.mplot3d import Axes3D\n",
    "import matplotlib.pyplot as plt\n",
    "from matplotlib import cm\n",
    "from matplotlib.ticker import LinearLocator, FormatStrFormatter\n",
    "import numpy as np\n",
    "import sys\n",
    "from collections import defaultdict\n",
    "import seaborn as sns"
   ]
  },
  {
   "cell_type": "code",
   "execution_count": 3,
   "metadata": {},
   "outputs": [],
   "source": [
    "sys.path.append('../codes')"
   ]
  },
  {
   "cell_type": "code",
   "execution_count": 4,
   "metadata": {},
   "outputs": [],
   "source": [
    "from VMSfunctions.Chemicals import *\n",
    "from VMSfunctions.Chromatograms import *\n",
    "from VMSfunctions.MassSpec import *\n",
    "from VMSfunctions.Controller import *\n",
    "from VMSfunctions.Common import *\n",
    "from VMSfunctions.DataGenerator import *\n",
    "from VMSfunctions.Noise import *"
   ]
  },
  {
   "cell_type": "markdown",
   "metadata": {},
   "source": [
    "### Useful functions"
   ]
  },
  {
   "cell_type": "markdown",
   "metadata": {},
   "source": [
    "Performance is calculated by precision, recall and the mean square error of intensity when the fragmentation event occur to the maximum intensity of the chromatographic peak."
   ]
  },
  {
   "cell_type": "code",
   "execution_count": 5,
   "metadata": {},
   "outputs": [],
   "source": [
    "def find_chem(to_find, chem_list):\n",
    "    for chem in chem_list:\n",
    "        assert chem is not None\n",
    "        assert to_find is not None\n",
    "        if chem.max_intensity == to_find.max_intensity and \\\n",
    "            chem.rt == to_find.rt and \\\n",
    "            chem.chromatogram == to_find.chromatogram:\n",
    "            return chem\n",
    "    return None"
   ]
  },
  {
   "cell_type": "code",
   "execution_count": 6,
   "metadata": {},
   "outputs": [],
   "source": [
    "def count_fragmented(chem, fragmented_chems):\n",
    "    peaks = fragmented_chems[chem]\n",
    "    ms_counts = defaultdict(int)\n",
    "    for p in peaks:\n",
    "        ms_counts[p.ms_level] += 1\n",
    "    return ms_counts"
   ]
  },
  {
   "cell_type": "code",
   "execution_count": 7,
   "metadata": {},
   "outputs": [],
   "source": [
    "def get_frag_events(controller, ms_level):\n",
    "    filtered_frag_events = list(filter(lambda x: x.ms_level == ms_level, controller.mass_spec.fragmentation_events))\n",
    "    chem_to_frag_events = defaultdict(list)\n",
    "    for frag_event in filtered_frag_events:\n",
    "        chem_to_frag_events[frag_event.chem].append(frag_event)\n",
    "    return dict(chem_to_frag_events)\n",
    "\n",
    "def count_frag_events(chem, chem_to_frag_events):\n",
    "    return len(chem_to_frag_events[chem])\n",
    "\n",
    "def get_chem_frag_counts(chem_list, chem_to_frag_events):\n",
    "    results = {}\n",
    "    for i in range(len(chem_list)):\n",
    "        chem = chem_list[i]\n",
    "        found = find_chem(chem, chem_to_frag_events)\n",
    "        try:\n",
    "            count = count_frag_events(found, chem_to_frag_events)\n",
    "        except KeyError:\n",
    "            count = 0\n",
    "        results[chem] = count\n",
    "    return results"
   ]
  },
  {
   "cell_type": "code",
   "execution_count": 8,
   "metadata": {},
   "outputs": [],
   "source": [
    "def compute_performance(controller, dataset):\n",
    "    ms_level = 2\n",
    "    chem_to_frag_events = get_frag_events(controller, ms_level)\n",
    "    positives = list(filter(lambda x: x.type == 'data', dataset))\n",
    "    negatives = list(filter(lambda x: x.type == 'noise', dataset))\n",
    "    positives_count = get_chem_frag_counts(positives, chem_to_frag_events)\n",
    "    negatives_count = get_chem_frag_counts(negatives, chem_to_frag_events)    \n",
    "\n",
    "    # count the following:\n",
    "    # true positive = is a real data and is fragmented\n",
    "    # false positive = is not a real data but is fragmented\n",
    "    # false negative = is a real data but is not fragmented\n",
    "\n",
    "    tp = len([chem for chem in positives if positives_count[chem] > 0])\n",
    "    fp = len([chem for chem in negatives if negatives_count[chem] > 0])\n",
    "    fn = len([chem for chem in positives if positives_count[chem] == 0])\n",
    "\n",
    "    prec = tp / (tp + fp)\n",
    "    rec = tp / (tp + fn)\n",
    "    f1 = ( 2 * prec * rec) / (prec + rec)\n",
    "    prec, rec, f1\n",
    "    \n",
    "    print('tp=%d fp=%d fn=%d prec=%.3f rec=%.3f f1=%.3f' % (tp, fp, fn, prec, rec, f1))\n",
    "    return tp, fp, fn, prec, rec, f1"
   ]
  },
  {
   "cell_type": "code",
   "execution_count": 17,
   "metadata": {},
   "outputs": [],
   "source": [
    "def load_controller(results_dir, N, rt_tol):\n",
    "    analysis_name = 'experiment_N_%d_rttol_%d' % (N, rt_tol)    \n",
    "    pickle_in = '%s/%s.p' % (results_dir, analysis_name) \n",
    "    print('Loading %s' % analysis_name)                    \n",
    "    try:\n",
    "        controller = load_obj(pickle_in)\n",
    "    except FileNotFoundError:\n",
    "        controller = None\n",
    "    return controller"
   ]
  },
  {
   "cell_type": "markdown",
   "metadata": {},
   "source": [
    "### Load experiment results"
   ]
  },
  {
   "cell_type": "code",
   "execution_count": 10,
   "metadata": {},
   "outputs": [],
   "source": [
    "results_dir = '../models/dda_results'"
   ]
  },
  {
   "cell_type": "code",
   "execution_count": 11,
   "metadata": {},
   "outputs": [],
   "source": [
    "dataset = load_obj('%s/noisy_dataset.p' % results_dir)"
   ]
  },
  {
   "cell_type": "markdown",
   "metadata": {},
   "source": [
    "### Compute performance"
   ]
  },
  {
   "cell_type": "code",
   "execution_count": 12,
   "metadata": {},
   "outputs": [],
   "source": [
    "%matplotlib inline"
   ]
  },
  {
   "cell_type": "markdown",
   "metadata": {},
   "source": [
    "#### Fixed N = 10 and varying rt_tols"
   ]
  },
  {
   "cell_type": "code",
   "execution_count": 18,
   "metadata": {},
   "outputs": [
    {
     "name": "stdout",
     "output_type": "stream",
     "text": [
      "Loading experiment_N_10_rttol_5\n",
      "tp=1226 fp=756 fn=8598 prec=0.619 rec=0.125 f1=0.208\n",
      "Loading experiment_N_10_rttol_10\n",
      "tp=1151 fp=623 fn=8673 prec=0.649 rec=0.117 f1=0.198\n",
      "Loading experiment_N_10_rttol_15\n",
      "tp=1062 fp=525 fn=8762 prec=0.669 rec=0.108 f1=0.186\n",
      "Loading experiment_N_10_rttol_20\n",
      "tp=983 fp=475 fn=8841 prec=0.674 rec=0.100 f1=0.174\n",
      "Loading experiment_N_10_rttol_25\n",
      "tp=928 fp=445 fn=8896 prec=0.676 rec=0.094 f1=0.166\n",
      "Loading experiment_N_10_rttol_30\n",
      "tp=872 fp=422 fn=8952 prec=0.674 rec=0.089 f1=0.157\n"
     ]
    }
   ],
   "source": [
    "Ns = [10]\n",
    "rt_tols = list(range(5, 31, 5))\n",
    "results = []\n",
    "for N in Ns:\n",
    "    for rt_tol in rt_tols:\n",
    "        controller = load_controller(results_dir, N, rt_tol)\n",
    "        if controller is not None:\n",
    "             res = (N, rt_tol) + compute_performance(controller, dataset)            \n",
    "        results.append(res)"
   ]
  },
  {
   "cell_type": "code",
   "execution_count": 19,
   "metadata": {},
   "outputs": [
    {
     "data": {
      "text/plain": [
       "<matplotlib.axes._subplots.AxesSubplot at 0x2be00d1bf98>"
      ]
     },
     "execution_count": 19,
     "metadata": {},
     "output_type": "execute_result"
    },
    {
     "data": {
      "image/png": "[encoded data removed]",
      "text/plain": [
       "<Figure size 432x288 with 1 Axes>"
      ]
     },
     "metadata": {
      "needs_background": "light"
     },
     "output_type": "display_data"
    },
    {
     "data": {
      "image/png": "[encoded data removed]",
      "text/plain": [
       "<Figure size 432x288 with 1 Axes>"
      ]
     },
     "metadata": {
      "needs_background": "light"
     },
     "output_type": "display_data"
    },
    {
     "data": {
      "image/png": "[encoded data removed]",
      "text/plain": [
       "<Figure size 432x288 with 1 Axes>"
      ]
     },
     "metadata": {
      "needs_background": "light"
     },
     "output_type": "display_data"
    }
   ],
   "source": [
    "df = pd.DataFrame(results, columns=['N', 'rt_tol', 'TP', 'FP', 'FN', 'Prec', 'Rec', 'F1'])\n",
    "df.plot.line(x='rt_tol', y=['Prec'])\n",
    "df.plot.line(x='rt_tol', y=['Rec'])\n",
    "df.plot.line(x='rt_tol', y=['F1'])"
   ]
  },
  {
   "cell_type": "code",
   "execution_count": 20,
   "metadata": {},
   "outputs": [
    {
     "data": {
      "text/html": [
       "<div>\n",
       "<style scoped>\n",
       "    .dataframe tbody tr th:only-of-type {\n",
       "        vertical-align: middle;\n",
       "    }\n",
       "\n",
       "    .dataframe tbody tr th {\n",
       "        vertical-align: top;\n",
       "    }\n",
       "\n",
       "    .dataframe thead th {\n",
       "        text-align: right;\n",
       "    }\n",
       "</style>\n",
       "<table border=\"1\" class=\"dataframe\">\n",
       "  <thead>\n",
       "    <tr style=\"text-align: right;\">\n",
       "      <th></th>\n",
       "      <th>N</th>\n",
       "      <th>rt_tol</th>\n",
       "      <th>TP</th>\n",
       "      <th>FP</th>\n",
       "      <th>FN</th>\n",
       "      <th>Prec</th>\n",
       "      <th>Rec</th>\n",
       "      <th>F1</th>\n",
       "    </tr>\n",
       "  </thead>\n",
       "  <tbody>\n",
       "    <tr>\n",
       "      <th>0</th>\n",
       "      <td>10</td>\n",
       "      <td>5</td>\n",
       "      <td>1226</td>\n",
       "      <td>756</td>\n",
       "      <td>8598</td>\n",
       "      <td>0.618567</td>\n",
       "      <td>0.124796</td>\n",
       "      <td>0.207691</td>\n",
       "    </tr>\n",
       "    <tr>\n",
       "      <th>1</th>\n",
       "      <td>10</td>\n",
       "      <td>10</td>\n",
       "      <td>1151</td>\n",
       "      <td>623</td>\n",
       "      <td>8673</td>\n",
       "      <td>0.648816</td>\n",
       "      <td>0.117162</td>\n",
       "      <td>0.198482</td>\n",
       "    </tr>\n",
       "    <tr>\n",
       "      <th>2</th>\n",
       "      <td>10</td>\n",
       "      <td>15</td>\n",
       "      <td>1062</td>\n",
       "      <td>525</td>\n",
       "      <td>8762</td>\n",
       "      <td>0.669187</td>\n",
       "      <td>0.108103</td>\n",
       "      <td>0.186136</td>\n",
       "    </tr>\n",
       "    <tr>\n",
       "      <th>3</th>\n",
       "      <td>10</td>\n",
       "      <td>20</td>\n",
       "      <td>983</td>\n",
       "      <td>475</td>\n",
       "      <td>8841</td>\n",
       "      <td>0.674211</td>\n",
       "      <td>0.100061</td>\n",
       "      <td>0.174260</td>\n",
       "    </tr>\n",
       "    <tr>\n",
       "      <th>4</th>\n",
       "      <td>10</td>\n",
       "      <td>25</td>\n",
       "      <td>928</td>\n",
       "      <td>445</td>\n",
       "      <td>8896</td>\n",
       "      <td>0.675892</td>\n",
       "      <td>0.094463</td>\n",
       "      <td>0.165759</td>\n",
       "    </tr>\n",
       "    <tr>\n",
       "      <th>5</th>\n",
       "      <td>10</td>\n",
       "      <td>30</td>\n",
       "      <td>872</td>\n",
       "      <td>422</td>\n",
       "      <td>8952</td>\n",
       "      <td>0.673879</td>\n",
       "      <td>0.088762</td>\n",
       "      <td>0.156863</td>\n",
       "    </tr>\n",
       "  </tbody>\n",
       "</table>\n",
       "</div>"
      ],
      "text/plain": [
       "    N  rt_tol    TP   FP    FN      Prec       Rec        F1\n",
       "0  10       5  1226  756  8598  0.618567  0.124796  0.207691\n",
       "1  10      10  1151  623  8673  0.648816  0.117162  0.198482\n",
       "2  10      15  1062  525  8762  0.669187  0.108103  0.186136\n",
       "3  10      20   983  475  8841  0.674211  0.100061  0.174260\n",
       "4  10      25   928  445  8896  0.675892  0.094463  0.165759\n",
       "5  10      30   872  422  8952  0.673879  0.088762  0.156863"
      ]
     },
     "execution_count": 20,
     "metadata": {},
     "output_type": "execute_result"
    }
   ],
   "source": [
    "df"
   ]
  },
  {
   "cell_type": "markdown",
   "metadata": {},
   "source": [
    "#### Fixed rt_tol = 15 and varying Ns"
   ]
  },
  {
   "cell_type": "code",
   "execution_count": 23,
   "metadata": {},
   "outputs": [
    {
     "data": {
      "text/plain": [
       "[10, 20, 30, 40, 50, 60, 70, 80, 90, 100]"
      ]
     },
     "execution_count": 23,
     "metadata": {},
     "output_type": "execute_result"
    }
   ],
   "source": [
    "Ns = list(range(10, 101, 10)) # top-N DDA fragmentation\n",
    "Ns"
   ]
  },
  {
   "cell_type": "code",
   "execution_count": 24,
   "metadata": {},
   "outputs": [
    {
     "name": "stdout",
     "output_type": "stream",
     "text": [
      "Loading experiment_N_10_rttol_15\n",
      "tp=1062 fp=525 fn=8762 prec=0.669 rec=0.108 f1=0.186\n",
      "Loading experiment_N_20_rttol_15\n",
      "tp=1854 fp=1003 fn=7970 prec=0.649 rec=0.189 f1=0.292\n",
      "Loading experiment_N_30_rttol_15\n",
      "tp=2567 fp=1336 fn=7257 prec=0.658 rec=0.261 f1=0.374\n",
      "Loading experiment_N_40_rttol_15\n",
      "tp=3109 fp=1622 fn=6715 prec=0.657 rec=0.316 f1=0.427\n",
      "Loading experiment_N_50_rttol_15\n",
      "tp=3583 fp=1873 fn=6241 prec=0.657 rec=0.365 f1=0.469\n",
      "Loading experiment_N_60_rttol_15\n",
      "tp=3983 fp=2046 fn=5841 prec=0.661 rec=0.405 f1=0.502\n",
      "Loading experiment_N_70_rttol_15\n",
      "tp=4274 fp=2203 fn=5550 prec=0.660 rec=0.435 f1=0.524\n",
      "Loading experiment_N_80_rttol_15\n",
      "tp=4494 fp=2323 fn=5330 prec=0.659 rec=0.457 f1=0.540\n",
      "Loading experiment_N_90_rttol_15\n",
      "tp=4555 fp=2447 fn=5269 prec=0.651 rec=0.464 f1=0.541\n",
      "Loading experiment_N_100_rttol_15\n",
      "tp=4708 fp=2522 fn=5116 prec=0.651 rec=0.479 f1=0.552\n"
     ]
    }
   ],
   "source": [
    "rt_tol = 15\n",
    "Ns = list(range(2, 101, 2)) # top-N DDA fragmentation\n",
    "Ns = list(range(10, 101, 10)) # top-N DDA fragmentation\n",
    "results = []\n",
    "for N in Ns:\n",
    "    controller = load_controller(results_dir, N, rt_tol)\n",
    "    if controller is not None:\n",
    "         res = (N, rt_tol) + compute_performance(controller, dataset)            \n",
    "    results.append(res)"
   ]
  },
  {
   "cell_type": "code",
   "execution_count": 25,
   "metadata": {},
   "outputs": [
    {
     "data": {
      "text/plain": [
       "<matplotlib.axes._subplots.AxesSubplot at 0x2bd6a1920f0>"
      ]
     },
     "execution_count": 25,
     "metadata": {},
     "output_type": "execute_result"
    },
    {
     "data": {
      "image/png": "[encoded data removed]",
      "text/plain": [
       "<Figure size 432x288 with 1 Axes>"
      ]
     },
     "metadata": {
      "needs_background": "light"
     },
     "output_type": "display_data"
    },
    {
     "data": {
      "image/png": "[encoded data removed]",
      "text/plain": [
       "<Figure size 432x288 with 1 Axes>"
      ]
     },
     "metadata": {
      "needs_background": "light"
     },
     "output_type": "display_data"
    },
    {
     "data": {
      "image/png": "[encoded data removed]",
      "text/plain": [
       "<Figure size 432x288 with 1 Axes>"
      ]
     },
     "metadata": {
      "needs_background": "light"
     },
     "output_type": "display_data"
    }
   ],
   "source": [
    "df = pd.DataFrame(results, columns=['N', 'rt_tol', 'TP', 'FP', 'FN', 'Prec', 'Rec', 'F1'])\n",
    "df.plot.line(x='N', y=['Prec'])\n",
    "df.plot.line(x='N', y=['Rec'])\n",
    "df.plot.line(x='N', y=['F1'])"
   ]
  },
  {
   "cell_type": "code",
   "execution_count": 26,
   "metadata": {},
   "outputs": [
    {
     "data": {
      "text/html": [
       "<div>\n",
       "<style scoped>\n",
       "    .dataframe tbody tr th:only-of-type {\n",
       "        vertical-align: middle;\n",
       "    }\n",
       "\n",
       "    .dataframe tbody tr th {\n",
       "        vertical-align: top;\n",
       "    }\n",
       "\n",
       "    .dataframe thead th {\n",
       "        text-align: right;\n",
       "    }\n",
       "</style>\n",
       "<table border=\"1\" class=\"dataframe\">\n",
       "  <thead>\n",
       "    <tr style=\"text-align: right;\">\n",
       "      <th></th>\n",
       "      <th>N</th>\n",
       "      <th>rt_tol</th>\n",
       "      <th>TP</th>\n",
       "      <th>FP</th>\n",
       "      <th>FN</th>\n",
       "      <th>Prec</th>\n",
       "      <th>Rec</th>\n",
       "      <th>F1</th>\n",
       "    </tr>\n",
       "  </thead>\n",
       "  <tbody>\n",
       "    <tr>\n",
       "      <th>0</th>\n",
       "      <td>10</td>\n",
       "      <td>15</td>\n",
       "      <td>1062</td>\n",
       "      <td>525</td>\n",
       "      <td>8762</td>\n",
       "      <td>0.669187</td>\n",
       "      <td>0.108103</td>\n",
       "      <td>0.186136</td>\n",
       "    </tr>\n",
       "    <tr>\n",
       "      <th>1</th>\n",
       "      <td>20</td>\n",
       "      <td>15</td>\n",
       "      <td>1854</td>\n",
       "      <td>1003</td>\n",
       "      <td>7970</td>\n",
       "      <td>0.648932</td>\n",
       "      <td>0.188721</td>\n",
       "      <td>0.292406</td>\n",
       "    </tr>\n",
       "    <tr>\n",
       "      <th>2</th>\n",
       "      <td>30</td>\n",
       "      <td>15</td>\n",
       "      <td>2567</td>\n",
       "      <td>1336</td>\n",
       "      <td>7257</td>\n",
       "      <td>0.657699</td>\n",
       "      <td>0.261299</td>\n",
       "      <td>0.374007</td>\n",
       "    </tr>\n",
       "    <tr>\n",
       "      <th>3</th>\n",
       "      <td>40</td>\n",
       "      <td>15</td>\n",
       "      <td>3109</td>\n",
       "      <td>1622</td>\n",
       "      <td>6715</td>\n",
       "      <td>0.657155</td>\n",
       "      <td>0.316470</td>\n",
       "      <td>0.427207</td>\n",
       "    </tr>\n",
       "    <tr>\n",
       "      <th>4</th>\n",
       "      <td>50</td>\n",
       "      <td>15</td>\n",
       "      <td>3583</td>\n",
       "      <td>1873</td>\n",
       "      <td>6241</td>\n",
       "      <td>0.656708</td>\n",
       "      <td>0.364719</td>\n",
       "      <td>0.468979</td>\n",
       "    </tr>\n",
       "    <tr>\n",
       "      <th>5</th>\n",
       "      <td>60</td>\n",
       "      <td>15</td>\n",
       "      <td>3983</td>\n",
       "      <td>2046</td>\n",
       "      <td>5841</td>\n",
       "      <td>0.660640</td>\n",
       "      <td>0.405436</td>\n",
       "      <td>0.502492</td>\n",
       "    </tr>\n",
       "    <tr>\n",
       "      <th>6</th>\n",
       "      <td>70</td>\n",
       "      <td>15</td>\n",
       "      <td>4274</td>\n",
       "      <td>2203</td>\n",
       "      <td>5550</td>\n",
       "      <td>0.659873</td>\n",
       "      <td>0.435057</td>\n",
       "      <td>0.524385</td>\n",
       "    </tr>\n",
       "    <tr>\n",
       "      <th>7</th>\n",
       "      <td>80</td>\n",
       "      <td>15</td>\n",
       "      <td>4494</td>\n",
       "      <td>2323</td>\n",
       "      <td>5330</td>\n",
       "      <td>0.659234</td>\n",
       "      <td>0.457451</td>\n",
       "      <td>0.540112</td>\n",
       "    </tr>\n",
       "    <tr>\n",
       "      <th>8</th>\n",
       "      <td>90</td>\n",
       "      <td>15</td>\n",
       "      <td>4555</td>\n",
       "      <td>2447</td>\n",
       "      <td>5269</td>\n",
       "      <td>0.650528</td>\n",
       "      <td>0.463660</td>\n",
       "      <td>0.541424</td>\n",
       "    </tr>\n",
       "    <tr>\n",
       "      <th>9</th>\n",
       "      <td>100</td>\n",
       "      <td>15</td>\n",
       "      <td>4708</td>\n",
       "      <td>2522</td>\n",
       "      <td>5116</td>\n",
       "      <td>0.651176</td>\n",
       "      <td>0.479235</td>\n",
       "      <td>0.552129</td>\n",
       "    </tr>\n",
       "  </tbody>\n",
       "</table>\n",
       "</div>"
      ],
      "text/plain": [
       "     N  rt_tol    TP    FP    FN      Prec       Rec        F1\n",
       "0   10      15  1062   525  8762  0.669187  0.108103  0.186136\n",
       "1   20      15  1854  1003  7970  0.648932  0.188721  0.292406\n",
       "2   30      15  2567  1336  7257  0.657699  0.261299  0.374007\n",
       "3   40      15  3109  1622  6715  0.657155  0.316470  0.427207\n",
       "4   50      15  3583  1873  6241  0.656708  0.364719  0.468979\n",
       "5   60      15  3983  2046  5841  0.660640  0.405436  0.502492\n",
       "6   70      15  4274  2203  5550  0.659873  0.435057  0.524385\n",
       "7   80      15  4494  2323  5330  0.659234  0.457451  0.540112\n",
       "8   90      15  4555  2447  5269  0.650528  0.463660  0.541424\n",
       "9  100      15  4708  2522  5116  0.651176  0.479235  0.552129"
      ]
     },
     "execution_count": 26,
     "metadata": {},
     "output_type": "execute_result"
    }
   ],
   "source": [
    "df"
   ]
  },
  {
   "cell_type": "markdown",
   "metadata": {},
   "source": [
    "### Compute performance for varying Ns and rt_tols"
   ]
  },
  {
   "cell_type": "code",
   "execution_count": null,
   "metadata": {},
   "outputs": [],
   "source": [
    "Ns = list(range(2, 51, 2)) # top-N DDA fragmentation\n",
    "rt_tols = list(range(5, 31, 5)) # the rt window around a selected precursor ion to prevent it from fragmented multiple times"
   ]
  },
  {
   "cell_type": "code",
   "execution_count": null,
   "metadata": {},
   "outputs": [],
   "source": [
    "X, Y = np.meshgrid(Ns, rt_tols)\n",
    "Z_precision = np.zeros_like(X).astype(float)\n",
    "Z_recall = np.zeros_like(X).astype(float)\n",
    "Z_f1 = np.zeros_like(X).astype(float)"
   ]
  },
  {
   "cell_type": "code",
   "execution_count": null,
   "metadata": {
    "scrolled": true
   },
   "outputs": [],
   "source": [
    "for j in range(X.shape[1]):\n",
    "    for i in range(X.shape[0]):    \n",
    "        N = X[i, j]\n",
    "        rt_tol = Y[i, j]            \n",
    "        analysis_name = 'experiment_N_%d_rttol_%d' % (N, rt_tol)    \n",
    "        pickle_in = '%s/%s.p' % (results_dir, analysis_name) \n",
    "\n",
    "        print('Loading %s' % analysis_name)                    \n",
    "        try:\n",
    "            controller = load_obj(pickle_in)\n",
    "        except FileNotFoundError:\n",
    "            controller = None\n",
    "\n",
    "        # compute performance\n",
    "        if controller is not None:\n",
    "            tp, fp, fn, prec, rec, f1 = compute_performance(controller, dataset)\n",
    "            Z_precision[i, j] = prec\n",
    "            Z_recall[i, j] = rec\n",
    "            Z_f1[i, j] = f1"
   ]
  },
  {
   "cell_type": "markdown",
   "metadata": {},
   "source": [
    "### Make plot"
   ]
  },
  {
   "cell_type": "code",
   "execution_count": null,
   "metadata": {},
   "outputs": [],
   "source": [
    "plot_data = {\n",
    "    'X': X,\n",
    "    'Y': Y,\n",
    "    'Z_precision': Z_precision,\n",
    "    'Z_recall': Z_recall,\n",
    "    'Z_f1': Z_f1\n",
    "}"
   ]
  },
  {
   "cell_type": "code",
   "execution_count": null,
   "metadata": {},
   "outputs": [],
   "source": [
    "save_obj(plot_data, results_dir + '/plot_data.p')"
   ]
  },
  {
   "cell_type": "code",
   "execution_count": null,
   "metadata": {},
   "outputs": [],
   "source": [
    "def make_plot(X, Y, Z, xlabel, ylabel, zlabel, title):\n",
    "    # Plot the surface.\n",
    "    fig = plt.figure()\n",
    "    ax = fig.gca(projection='3d')\n",
    "    surf = ax.plot_surface(X, Y, Z, cmap=cm.coolwarm,\n",
    "                           linewidth=0, antialiased=False)\n",
    "\n",
    "    # Customize the z axis.\n",
    "    # ax.set_zlim(-1.01, 1.01)\n",
    "    # ax.zaxis.set_major_locator(LinearLocator(10))\n",
    "    # ax.zaxis.set_major_formatter(FormatStrFormatter('%.02f'))\n",
    "\n",
    "    # Add a color bar which maps values to colors.\n",
    "    fig.colorbar(surf, shrink=0.5, aspect=5)\n",
    "    ax.set_xlabel(xlabel)\n",
    "    ax.set_ylabel(ylabel)\n",
    "    ax.set_zlabel(zlabel)    \n",
    "    plt.title(title)\n",
    "    plt.tight_layout()\n",
    "    plt.show()"
   ]
  },
  {
   "cell_type": "code",
   "execution_count": null,
   "metadata": {},
   "outputs": [],
   "source": [
    "%matplotlib notebook"
   ]
  },
  {
   "cell_type": "code",
   "execution_count": null,
   "metadata": {},
   "outputs": [],
   "source": [
    "make_plot(X, Y, Z_precision, 'N', 'Dynamic exclusion window (s)', 'Precision', 'Precision with varying Ns and dynamic exclusion windows')"
   ]
  },
  {
   "cell_type": "code",
   "execution_count": null,
   "metadata": {},
   "outputs": [],
   "source": [
    "make_plot(X, Y, Z_recall, 'N', 'Dynamic exclusion window (s)', 'Recall', 'Recall with varying Ns and dynamic exclusion windows')"
   ]
  },
  {
   "cell_type": "code",
   "execution_count": null,
   "metadata": {},
   "outputs": [],
   "source": [
    "make_plot(X, Y, Z_f1, 'N', 'Dynamic exclusion window (s)', 'F_1', 'F_1 score with varying Ns and dynamic exclusion windows')"
   ]
  },
  {
   "cell_type": "code",
   "execution_count": null,
   "metadata": {},
   "outputs": [],
   "source": [
    "%matplotlib inline"
   ]
  },
  {
   "cell_type": "code",
   "execution_count": null,
   "metadata": {},
   "outputs": [],
   "source": [
    "make_plot(X, Y, Z_precision, 'N', 'Dynamic exclusion window (s)', 'Precision', 'Precision with varying Ns and dynamic exclusion windows')"
   ]
  },
  {
   "cell_type": "code",
   "execution_count": null,
   "metadata": {},
   "outputs": [],
   "source": [
    "make_plot(X, Y, Z_recall, 'N', 'Dynamic exclusion window (s)', 'Recall', 'Recall with varying Ns and dynamic exclusion windows')"
   ]
  },
  {
   "cell_type": "code",
   "execution_count": null,
   "metadata": {},
   "outputs": [],
   "source": [
    "make_plot(X, Y, Z_f1, 'N', 'Dynamic exclusion window (s)', 'F_1', 'F_1 score with varying Ns and dynamic exclusion windows')"
   ]
  },
  {
   "cell_type": "code",
   "execution_count": null,
   "metadata": {},
   "outputs": [],
   "source": []
  }
 ],
 "metadata": {
  "kernelspec": {
   "display_name": "Python 3",
   "language": "python",
   "name": "python3"
  },
  "language_info": {
   "codemirror_mode": {
    "name": "ipython",
    "version": 3
   },
   "file_extension": ".py",
   "mimetype": "text/x-python",
   "name": "python",
   "nbconvert_exporter": "python",
   "pygments_lexer": "ipython3",
   "version": "3.6.6"
  }
 },
 "nbformat": 4,
 "nbformat_minor": 2
}
