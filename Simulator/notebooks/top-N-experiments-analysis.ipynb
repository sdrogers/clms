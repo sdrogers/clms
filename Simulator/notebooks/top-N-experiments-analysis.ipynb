{
 "cells": [
  {
   "cell_type": "markdown",
   "metadata": {},
   "source": [
    "# Experiment: Varying N in top-N DDA fragmentation"
   ]
  },
  {
   "cell_type": "code",
   "execution_count": 1,
   "metadata": {},
   "outputs": [],
   "source": [
    "%load_ext autoreload\n",
    "%autoreload 2"
   ]
  },
  {
   "cell_type": "code",
   "execution_count": 2,
   "metadata": {},
   "outputs": [],
   "source": [
    "from mpl_toolkits.mplot3d import Axes3D\n",
    "import matplotlib.pyplot as plt\n",
    "from matplotlib import cm\n",
    "from matplotlib.ticker import LinearLocator, FormatStrFormatter\n",
    "import numpy as np\n",
    "import sys\n",
    "from collections import defaultdict"
   ]
  },
  {
   "cell_type": "code",
   "execution_count": 3,
   "metadata": {},
   "outputs": [],
   "source": [
    "sys.path.append('../codes')"
   ]
  },
  {
   "cell_type": "code",
   "execution_count": 4,
   "metadata": {},
   "outputs": [],
   "source": [
    "from VMSfunctions.Chemicals import *\n",
    "from VMSfunctions.Chromatograms import *\n",
    "from VMSfunctions.MassSpec import *\n",
    "from VMSfunctions.Controller import *\n",
    "from VMSfunctions.Common import *\n",
    "from VMSfunctions.DataGenerator import *\n",
    "from VMSfunctions.Noise import *"
   ]
  },
  {
   "cell_type": "markdown",
   "metadata": {},
   "source": [
    "### Useful functions"
   ]
  },
  {
   "cell_type": "markdown",
   "metadata": {},
   "source": [
    "Performance is calculated by the proportion of original input peaks that got fragmented for varying values of `N` and `rt_tol`. More is better."
   ]
  },
  {
   "cell_type": "code",
   "execution_count": 5,
   "metadata": {},
   "outputs": [],
   "source": [
    "def find_chem(to_find, chem_list):\n",
    "    for chem in chem_list:\n",
    "        if chem.max_intensity == to_find.max_intensity and \\\n",
    "            chem.rt == to_find.rt and \\\n",
    "            chem.chromatogram == to_find.chromatogram:\n",
    "            return chem\n",
    "    return None"
   ]
  },
  {
   "cell_type": "code",
   "execution_count": 6,
   "metadata": {},
   "outputs": [],
   "source": [
    "def count_fragmented(chem, fragmented_chems):\n",
    "    peaks = fragmented_chems[chem]\n",
    "    ms_counts = defaultdict(int)\n",
    "    for p in peaks:\n",
    "        ms_counts[p.ms_level] += 1\n",
    "    return ms_counts"
   ]
  },
  {
   "cell_type": "code",
   "execution_count": 7,
   "metadata": {},
   "outputs": [],
   "source": [
    "def get_total_peaks(controller, ms_level):\n",
    "    num_peaks = [scan.num_peaks for scan in controller.scans[ms_level]]\n",
    "    return sum(num_peaks)\n",
    "\n",
    "def get_num_fragmented_chems(controller, dataset):\n",
    "    fragmented_chems = controller.mass_spec.chemicals_to_peaks\n",
    "    total = 0\n",
    "    for i in range(len(dataset)):\n",
    "        # if i % 1000 == 0:\n",
    "        #     print(i, '/', len(dataset))\n",
    "        chem = dataset[i]\n",
    "        found = find_chem(chem, fragmented_chems)\n",
    "        if found:\n",
    "            ms_counts = count_fragmented(found, fragmented_chems)\n",
    "            if ms_counts[2] > 0:\n",
    "                total += 1\n",
    "    prop = float(total) / len(dataset)\n",
    "    return prop\n",
    "\n",
    "def compute_performance(controller, dataset):\n",
    "    total_ms2_peaks = get_total_peaks(controller, 2)\n",
    "    props = get_num_fragmented_chems(controller, dataset)\n",
    "    print('total_ms2_peaks %d props %.4f' % (total_ms2_peaks, props))    \n",
    "    return total_ms2_peaks, props"
   ]
  },
  {
   "cell_type": "code",
   "execution_count": 8,
   "metadata": {},
   "outputs": [],
   "source": [
    "def load_controller(N, rt_tol):\n",
    "    analysis_name = 'experiment_N_%d_rttol_%d' % (N, rt_tol)    \n",
    "    pickle_in = '%s/%s.p' % (results_dir, analysis_name) \n",
    "    print('Loading %s' % analysis_name)                    \n",
    "    try:\n",
    "        controller = load_obj(pickle_in)\n",
    "    except FileNotFoundError:\n",
    "        controller = None\n",
    "    return controller"
   ]
  },
  {
   "cell_type": "markdown",
   "metadata": {},
   "source": [
    "### Load experiment results"
   ]
  },
  {
   "cell_type": "code",
   "execution_count": null,
   "metadata": {},
   "outputs": [],
   "source": [
    "results_dir = '../models/dda_results_2'"
   ]
  },
  {
   "cell_type": "code",
   "execution_count": null,
   "metadata": {},
   "outputs": [],
   "source": [
    "dataset = load_obj('%s/dataset.p' % results_dir)"
   ]
  },
  {
   "cell_type": "code",
   "execution_count": null,
   "metadata": {},
   "outputs": [],
   "source": [
    "Ns = range(1, 21, 1) # top-N DDA fragmentation\n",
    "rt_tols = range(5, 31, 5) # the rt window around a selected precursor ion to prevent it from fragmented multiple times"
   ]
  },
  {
   "cell_type": "markdown",
   "metadata": {},
   "source": [
    "### Compute performance"
   ]
  },
  {
   "cell_type": "code",
   "execution_count": null,
   "metadata": {},
   "outputs": [
    {
     "name": "stdout",
     "output_type": "stream",
     "text": [
      "Loading experiment_N_10_rttol_5\n",
      "total_ms2_peaks 94773 props 0.1281\n",
      "Loading experiment_N_10_rttol_10\n",
      "total_ms2_peaks 62345 props 0.1213\n",
      "Loading experiment_N_10_rttol_15\n",
      "total_ms2_peaks 51014 props 0.1126\n",
      "Loading experiment_N_10_rttol_20\n",
      "total_ms2_peaks 46469 props 0.1047\n",
      "Loading experiment_N_10_rttol_25\n",
      "total_ms2_peaks 41753 props 0.0972\n",
      "Loading experiment_N_10_rttol_30\n",
      "total_ms2_peaks 39848 props 0.0936\n"
     ]
    }
   ],
   "source": [
    "N = 10\n",
    "total_ms2_peaks_arr = []\n",
    "props_arr = []\n",
    "for rt_tol in rt_tols:\n",
    "    controller = load_controller(N, rt_tol)\n",
    "    if controller is not None:\n",
    "        total_ms2_peaks, props = compute_performance(controller, dataset)\n",
    "    else:\n",
    "        total_ms2_peaks = 0\n",
    "        props = 0\n",
    "    total_ms2_peaks_arr.append(total_ms2_peaks)\n",
    "    props_arr.append(props)"
   ]
  },
  {
   "cell_type": "code",
   "execution_count": null,
   "metadata": {},
   "outputs": [],
   "source": [
    "%matplotlib inline"
   ]
  },
  {
   "cell_type": "markdown",
   "metadata": {},
   "source": [
    "Total ms2 peaks for N = 10 and varying rt_tols"
   ]
  },
  {
   "cell_type": "code",
   "execution_count": null,
   "metadata": {},
   "outputs": [
    {
     "data": {
      "text/plain": [
       "Text(0.5, 1.0, 'N=10')"
      ]
     },
     "execution_count": 14,
     "metadata": {},
     "output_type": "execute_result"
    },
    {
     "data": {
      "image/png": "[encoded data removed]",
      "text/plain": [
       "<Figure size 432x288 with 1 Axes>"
      ]
     },
     "metadata": {
      "needs_background": "light"
     },
     "output_type": "display_data"
    }
   ],
   "source": [
    "plt.plot(rt_tols, total_ms2_peaks_arr)\n",
    "plt.xlabel('rt_tol')\n",
    "plt.ylabel('Total MS2 Peaks')\n",
    "plt.title('N=%d' % N)"
   ]
  },
  {
   "cell_type": "markdown",
   "metadata": {},
   "source": [
    "Proportion of the input ms1 peaks that got fragmented for N = 10 and varying rt_tols"
   ]
  },
  {
   "cell_type": "code",
   "execution_count": null,
   "metadata": {},
   "outputs": [
    {
     "data": {
      "text/plain": [
       "Text(0.5, 1.0, 'N=10')"
      ]
     },
     "execution_count": 15,
     "metadata": {},
     "output_type": "execute_result"
    },
    {
     "data": {
      "image/png": "[encoded data removed]",
      "text/plain": [
       "<Figure size 432x288 with 1 Axes>"
      ]
     },
     "metadata": {
      "needs_background": "light"
     },
     "output_type": "display_data"
    }
   ],
   "source": [
    "plt.plot(rt_tols, props_arr)\n",
    "plt.xlabel('rt_tol')\n",
    "plt.ylabel('MS1 peaks that got fragmented')\n",
    "plt.title('N=%d' % N)"
   ]
  },
  {
   "cell_type": "code",
   "execution_count": null,
   "metadata": {},
   "outputs": [
    {
     "name": "stdout",
     "output_type": "stream",
     "text": [
      "Loading experiment_N_1_rttol_5\n",
      "total_ms2_peaks 19787 props 0.0241\n",
      "Loading experiment_N_2_rttol_5\n",
      "total_ms2_peaks 31286 props 0.0396\n",
      "Loading experiment_N_3_rttol_5\n",
      "total_ms2_peaks 40617 props 0.0555\n",
      "Loading experiment_N_4_rttol_5\n",
      "total_ms2_peaks 48805 props 0.0686\n",
      "Loading experiment_N_5_rttol_5\n",
      "total_ms2_peaks 57503 props 0.0814\n",
      "Loading experiment_N_6_rttol_5\n",
      "total_ms2_peaks 66223 props 0.0927\n",
      "Loading experiment_N_7_rttol_5\n",
      "total_ms2_peaks 74101 props 0.1024\n",
      "Loading experiment_N_8_rttol_5\n",
      "total_ms2_peaks 81819 props 0.1125\n",
      "Loading experiment_N_9_rttol_5\n",
      "total_ms2_peaks 88671 props 0.1209\n",
      "Loading experiment_N_10_rttol_5\n",
      "total_ms2_peaks 94773 props 0.1281\n",
      "Loading experiment_N_11_rttol_5\n",
      "total_ms2_peaks 105394 props 0.1366\n",
      "Loading experiment_N_12_rttol_5\n",
      "total_ms2_peaks 111135 props 0.1451\n",
      "Loading experiment_N_13_rttol_5\n",
      "total_ms2_peaks 117476 props 0.1529\n",
      "Loading experiment_N_14_rttol_5\n",
      "total_ms2_peaks 122955 props 0.1610\n",
      "Loading experiment_N_15_rttol_5\n",
      "total_ms2_peaks 127139 props 0.1673\n",
      "Loading experiment_N_16_rttol_5\n",
      "total_ms2_peaks 133187 props 0.1729\n",
      "Loading experiment_N_17_rttol_5\n",
      "total_ms2_peaks 137141 props 0.1794\n",
      "Loading experiment_N_18_rttol_5\n",
      "total_ms2_peaks 140510 props 0.1843\n",
      "Loading experiment_N_19_rttol_5\n",
      "total_ms2_peaks 145184 props 0.1902\n",
      "Loading experiment_N_20_rttol_5\n",
      "total_ms2_peaks 148358 props 0.1935\n"
     ]
    }
   ],
   "source": [
    "rt_tol = 5\n",
    "total_ms2_peaks_arr = []\n",
    "props_arr = []\n",
    "for N in Ns:\n",
    "    controller = load_controller(N, rt_tol)\n",
    "    if controller is not None:\n",
    "        total_ms2_peaks, props = compute_performance(controller, dataset)\n",
    "    else:\n",
    "        total_ms2_peaks = 0\n",
    "        props = 0\n",
    "    total_ms2_peaks_arr.append(total_ms2_peaks)\n",
    "    props_arr.append(props)"
   ]
  },
  {
   "cell_type": "markdown",
   "metadata": {},
   "source": [
    "Total ms2 peaks for rt_tol = 5 and varying Ns"
   ]
  },
  {
   "cell_type": "code",
   "execution_count": null,
   "metadata": {},
   "outputs": [
    {
     "data": {
      "text/plain": [
       "Text(0.5, 1.0, 'rt_tol=5')"
      ]
     },
     "execution_count": 17,
     "metadata": {},
     "output_type": "execute_result"
    },
    {
     "data": {
      "image/png": "[encoded data removed]",
      "text/plain": [
       "<Figure size 432x288 with 1 Axes>"
      ]
     },
     "metadata": {
      "needs_background": "light"
     },
     "output_type": "display_data"
    }
   ],
   "source": [
    "plt.plot(Ns, total_ms2_peaks_arr)\n",
    "plt.xlabel('N')\n",
    "plt.ylabel('Total MS2 Peaks')\n",
    "plt.title('rt_tol=5')"
   ]
  },
  {
   "cell_type": "markdown",
   "metadata": {},
   "source": [
    "Proportion of the input ms1 peaks that got fragmented for rt_tol = 5 and varying Ns"
   ]
  },
  {
   "cell_type": "code",
   "execution_count": null,
   "metadata": {},
   "outputs": [
    {
     "data": {
      "text/plain": [
       "Text(0.5, 1.0, 'rt_tol=5')"
      ]
     },
     "execution_count": 18,
     "metadata": {},
     "output_type": "execute_result"
    },
    {
     "data": {
      "image/png": "[encoded data removed]",
      "text/plain": [
       "<Figure size 432x288 with 1 Axes>"
      ]
     },
     "metadata": {
      "needs_background": "light"
     },
     "output_type": "display_data"
    }
   ],
   "source": [
    "plt.plot(Ns, props_arr)\n",
    "plt.xlabel('N')\n",
    "plt.ylabel('MS1 peaks that got fragmented')\n",
    "plt.title('rt_tol=5')"
   ]
  },
  {
   "cell_type": "markdown",
   "metadata": {},
   "source": [
    "### Compute performance for varying Ns and rt_tols"
   ]
  },
  {
   "cell_type": "code",
   "execution_count": null,
   "metadata": {},
   "outputs": [],
   "source": [
    "X, Y = np.meshgrid(Ns, rt_tols)\n",
    "Z_total_ms2_peaks = np.zeros_like(X)\n",
    "Z_num_fragmented_chems = np.zeros_like(X).astype(float)"
   ]
  },
  {
   "cell_type": "code",
   "execution_count": null,
   "metadata": {
    "scrolled": true
   },
   "outputs": [
    {
     "name": "stdout",
     "output_type": "stream",
     "text": [
      "Loading experiment_N_1_rttol_5\n",
      "total_ms2_peaks 19787 props 0.0241\n",
      "Loading experiment_N_1_rttol_10\n",
      "total_ms2_peaks 12377 props 0.0224\n",
      "Loading experiment_N_1_rttol_15\n",
      "total_ms2_peaks 10690 props 0.0218\n",
      "Loading experiment_N_1_rttol_20\n",
      "total_ms2_peaks 9835 props 0.0203\n",
      "Loading experiment_N_1_rttol_25\n",
      "total_ms2_peaks 8651 props 0.0202\n",
      "Loading experiment_N_1_rttol_30\n",
      "total_ms2_peaks 8286 props 0.0192\n",
      "Loading experiment_N_2_rttol_5\n",
      "total_ms2_peaks 31286 props 0.0396\n",
      "Loading experiment_N_2_rttol_10\n",
      "total_ms2_peaks 19337 props 0.0372\n",
      "Loading experiment_N_2_rttol_15\n",
      "total_ms2_peaks 16589 props 0.0352\n",
      "Loading experiment_N_2_rttol_20\n",
      "total_ms2_peaks 14566 props 0.0336\n",
      "Loading experiment_N_2_rttol_25\n",
      "total_ms2_peaks 13181 props 0.0317\n",
      "Loading experiment_N_2_rttol_30\n",
      "total_ms2_peaks 12424 props 0.0307\n",
      "Loading experiment_N_3_rttol_5\n",
      "total_ms2_peaks 40617 props 0.0555\n",
      "Loading experiment_N_3_rttol_10\n",
      "total_ms2_peaks 26369 props 0.0518\n",
      "Loading experiment_N_3_rttol_15\n",
      "total_ms2_peaks 21741 props 0.0480\n",
      "Loading experiment_N_3_rttol_20\n",
      "total_ms2_peaks 19337 props 0.0445\n",
      "Loading experiment_N_3_rttol_25\n"
     ]
    }
   ],
   "source": [
    "for j in range(X.shape[1]):\n",
    "    for i in range(X.shape[0]):    \n",
    "        if Z_total_ms2_peaks[i, j] == 0:\n",
    "            N = X[i, j]\n",
    "            rt_tol = Y[i, j]            \n",
    "            analysis_name = 'experiment_N_%d_rttol_%d' % (N, rt_tol)    \n",
    "            pickle_in = '%s/%s.p' % (results_dir, analysis_name) \n",
    "\n",
    "            print('Loading %s' % analysis_name)                    \n",
    "            try:\n",
    "                controller = load_obj(pickle_in)\n",
    "            except FileNotFoundError:\n",
    "                controller = None\n",
    "\n",
    "            # compute performance\n",
    "            if controller is not None:\n",
    "                total_ms2_peaks, props = compute_performance(controller, dataset)\n",
    "                Z_total_ms2_peaks[i, j] = total_ms2_peaks\n",
    "                Z_num_fragmented_chems[i, j] = props"
   ]
  },
  {
   "cell_type": "markdown",
   "metadata": {},
   "source": [
    "### Make plot"
   ]
  },
  {
   "cell_type": "code",
   "execution_count": null,
   "metadata": {},
   "outputs": [],
   "source": [
    "def make_plot(X, Y, Z):\n",
    "    # Plot the surface.\n",
    "    fig = plt.figure()\n",
    "    ax = fig.gca(projection='3d')\n",
    "    surf = ax.plot_surface(X, Y, Z, cmap=cm.coolwarm,\n",
    "                           linewidth=0, antialiased=False)\n",
    "\n",
    "    # Customize the z axis.\n",
    "    # ax.set_zlim(-1.01, 1.01)\n",
    "    # ax.zaxis.set_major_locator(LinearLocator(10))\n",
    "    # ax.zaxis.set_major_formatter(FormatStrFormatter('%.02f'))\n",
    "\n",
    "    # Add a color bar which maps values to colors.\n",
    "    fig.colorbar(surf, shrink=0.5, aspect=5)\n",
    "    plt.show()"
   ]
  },
  {
   "cell_type": "code",
   "execution_count": null,
   "metadata": {},
   "outputs": [],
   "source": [
    "%matplotlib notebook"
   ]
  },
  {
   "cell_type": "code",
   "execution_count": null,
   "metadata": {},
   "outputs": [],
   "source": [
    "make_plot(X, Y, Z_total_ms2_peaks)"
   ]
  },
  {
   "cell_type": "code",
   "execution_count": null,
   "metadata": {},
   "outputs": [],
   "source": [
    "make_plot(X, Y, Z_num_fragmented_chems)"
   ]
  },
  {
   "cell_type": "code",
   "execution_count": null,
   "metadata": {},
   "outputs": [],
   "source": [
    "# %matplotlib inline"
   ]
  },
  {
   "cell_type": "code",
   "execution_count": null,
   "metadata": {},
   "outputs": [],
   "source": [
    "# make_plot(X, Y, Z_total_ms2_peaks)"
   ]
  },
  {
   "cell_type": "code",
   "execution_count": null,
   "metadata": {},
   "outputs": [],
   "source": [
    "# make_plot(X, Y, Z_num_fragmented_chems)"
   ]
  },
  {
   "cell_type": "code",
   "execution_count": null,
   "metadata": {},
   "outputs": [],
   "source": []
  }
 ],
 "metadata": {
  "kernelspec": {
   "display_name": "Python 3",
   "language": "python",
   "name": "python3"
  },
  "language_info": {
   "codemirror_mode": {
    "name": "ipython",
    "version": 3
   },
   "file_extension": ".py",
   "mimetype": "text/x-python",
   "name": "python",
   "nbconvert_exporter": "python",
   "pygments_lexer": "ipython3",
   "version": "3.6.6"
  }
 },
 "nbformat": 4,
 "nbformat_minor": 2
}
