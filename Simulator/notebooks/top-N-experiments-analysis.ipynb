{
 "cells": [
  {
   "cell_type": "markdown",
   "metadata": {},
   "source": [
    "# Experiment: Varying N in top-N DDA fragmentation"
   ]
  },
  {
   "cell_type": "code",
   "execution_count": 1,
   "metadata": {},
   "outputs": [],
   "source": [
    "%load_ext autoreload\n",
    "%autoreload 2"
   ]
  },
  {
   "cell_type": "code",
   "execution_count": 2,
   "metadata": {},
   "outputs": [],
   "source": [
    "from mpl_toolkits.mplot3d import Axes3D\n",
    "import matplotlib.pyplot as plt\n",
    "from matplotlib import cm\n",
    "from matplotlib.ticker import LinearLocator, FormatStrFormatter\n",
    "import numpy as np\n",
    "import sys\n",
    "from collections import defaultdict\n",
    "import seaborn as sns"
   ]
  },
  {
   "cell_type": "code",
   "execution_count": 3,
   "metadata": {},
   "outputs": [],
   "source": [
    "sys.path.append('../codes')"
   ]
  },
  {
   "cell_type": "code",
   "execution_count": 4,
   "metadata": {},
   "outputs": [],
   "source": [
    "from VMSfunctions.Chemicals import *\n",
    "from VMSfunctions.Chromatograms import *\n",
    "from VMSfunctions.MassSpec import *\n",
    "from VMSfunctions.Controller import *\n",
    "from VMSfunctions.Common import *\n",
    "from VMSfunctions.DataGenerator import *\n",
    "from VMSfunctions.Noise import *"
   ]
  },
  {
   "cell_type": "markdown",
   "metadata": {},
   "source": [
    "### Useful functions"
   ]
  },
  {
   "cell_type": "markdown",
   "metadata": {},
   "source": [
    "Performance is calculated by precision, recall and the mean square error of intensity when the fragmentation event occur to the maximum intensity of the chromatographic peak."
   ]
  },
  {
   "cell_type": "code",
   "execution_count": 5,
   "metadata": {},
   "outputs": [],
   "source": [
    "def get_key(chem):\n",
    "    # turn a chem into (mz, rt, intensity) for equal comparison\n",
    "    return (tuple(chem.isotopes), chem.rt, chem.max_intensity)\n",
    "\n",
    "def get_frag_events(controller, ms_level):\n",
    "    # get the fragmentation events for all chemicals for an ms level\n",
    "    filtered_frag_events = list(filter(lambda x: x.ms_level == ms_level, controller.mass_spec.fragmentation_events))\n",
    "    chem_to_frag_events = defaultdict(list)\n",
    "    for frag_event in filtered_frag_events:\n",
    "        key = get_key(frag_event.chem)\n",
    "        chem_to_frag_events[key].append(frag_event)\n",
    "    return dict(chem_to_frag_events)\n",
    "\n",
    "def count_frag_events(key, chem_to_frag_events):\n",
    "    # count how many good and bad fragmentation events for each chemical (key)\n",
    "    frag_events = chem_to_frag_events[key]\n",
    "    good_count = 0\n",
    "    bad_count = 0\n",
    "    for frag_event in frag_events:\n",
    "        chem = frag_event.chem\n",
    "        rt_match = chem.chromatogram._rt_match(frag_event.query_rt - chem.rt)\n",
    "        if rt_match:\n",
    "            good_count += 1\n",
    "        else:\n",
    "            bad_count += 1\n",
    "    return good_count, bad_count\n",
    "\n",
    "def get_chem_frag_counts(chem_list, chem_to_frag_events):\n",
    "    # get the count of good/bad fragmentation events for all chemicals in chem_list\n",
    "    results = {}\n",
    "    for i in range(len(chem_list)):\n",
    "        chem = chem_list[i]\n",
    "        key = get_key(chem)\n",
    "        try:\n",
    "            good_count, bad_count = count_frag_events(key, chem_to_frag_events)\n",
    "        except KeyError:\n",
    "            good_count = 0\n",
    "            bad_count = 0\n",
    "        results[chem] = {\n",
    "            'good': good_count, \n",
    "            'bad': bad_count\n",
    "        }\n",
    "    return results"
   ]
  },
  {
   "cell_type": "code",
   "execution_count": 6,
   "metadata": {},
   "outputs": [],
   "source": [
    "def compute_performance(controller, dataset):\n",
    "    ms_level = 2\n",
    "    chem_to_frag_events = get_frag_events(controller, ms_level)\n",
    "    positives = list(filter(lambda x: x.type == 'data', dataset))\n",
    "    negatives = list(filter(lambda x: x.type == 'noise', dataset))\n",
    "    positives_count = get_chem_frag_counts(positives, chem_to_frag_events)\n",
    "    negatives_count = get_chem_frag_counts(negatives, chem_to_frag_events)    \n",
    "\n",
    "    # count the following:\n",
    "    # true positive = is an xcms peak (positive) and is fragmented within the chemical's elution time\n",
    "    # false positive = is not an xcms peak (negative) and is fragmented within the chemical's elution time\n",
    "    # false negative = is an xcms peak (positive) and is not fragmented within the chemical's elution time\n",
    "    tp = len([chem for chem in positives if positives_count[chem]['good'] > 0])\n",
    "    fp = len([chem for chem in negatives if negatives_count[chem]['good'] > 0])\n",
    "    fn = len([chem for chem in positives if positives_count[chem]['good'] == 0])\n",
    "\n",
    "    prec = tp / (tp + fp)\n",
    "    rec = tp / (tp + fn)\n",
    "    f1 = ( 2 * prec * rec) / (prec + rec)\n",
    "    prec, rec, f1\n",
    "    return tp, fp, fn, prec, rec, f1"
   ]
  },
  {
   "cell_type": "code",
   "execution_count": 7,
   "metadata": {},
   "outputs": [],
   "source": [
    "def load_controller(results_dir, N, rt_tol):\n",
    "    analysis_name = 'experiment_N_%d_rttol_%d' % (N, rt_tol)    \n",
    "    pickle_in = '%s/%s.p' % (results_dir, analysis_name) \n",
    "    print('Loading %s' % analysis_name)                    \n",
    "    try:\n",
    "        controller = load_obj(pickle_in)\n",
    "    except FileNotFoundError:\n",
    "        controller = None\n",
    "    return controller\n",
    "\n",
    "def load_controllers(results_dir, Ns, rt_tols):\n",
    "    controllers = []\n",
    "    for N in Ns:\n",
    "        for rt_tol in rt_tols:\n",
    "            controller = load_controller(results_dir, N, rt_tol)\n",
    "            if controller is not None:\n",
    "                controllers.append(controller)\n",
    "    return controllers"
   ]
  },
  {
   "cell_type": "markdown",
   "metadata": {},
   "source": [
    "### Load experiment results"
   ]
  },
  {
   "cell_type": "code",
   "execution_count": 8,
   "metadata": {},
   "outputs": [],
   "source": [
    "results_dir = '../models/dda_results'"
   ]
  },
  {
   "cell_type": "code",
   "execution_count": 9,
   "metadata": {},
   "outputs": [],
   "source": [
    "dataset = load_obj('%s/noisy_dataset.p' % results_dir)"
   ]
  },
  {
   "cell_type": "markdown",
   "metadata": {},
   "source": [
    "### Compute performance"
   ]
  },
  {
   "cell_type": "code",
   "execution_count": 10,
   "metadata": {},
   "outputs": [],
   "source": [
    "%matplotlib inline"
   ]
  },
  {
   "cell_type": "markdown",
   "metadata": {},
   "source": [
    "#### Fixed rt_tol = 15 and varying Ns"
   ]
  },
  {
   "cell_type": "code",
   "execution_count": 11,
   "metadata": {
    "scrolled": true
   },
   "outputs": [],
   "source": [
    "Ns = [1, 2, 3, 5, 10, 15, 20, 25, 30, 35, 40, 45, 50, 55, 60, 65, 70, 75, 80, 85, 90, 95, 100]\n",
    "rt_tols = [15]"
   ]
  },
  {
   "cell_type": "code",
   "execution_count": 12,
   "metadata": {},
   "outputs": [
    {
     "name": "stdout",
     "output_type": "stream",
     "text": [
      "Loading experiment_N_1_rttol_15\n",
      "N=1 rt_tol=15 tp=4366 fp=3363 fn=5462 prec=0.565 rec=0.444 f1=0.497\n",
      "Loading experiment_N_2_rttol_15\n",
      "N=2 rt_tol=15 tp=4652 fp=3630 fn=5176 prec=0.562 rec=0.473 f1=0.514\n",
      "Loading experiment_N_3_rttol_15\n",
      "N=3 rt_tol=15 tp=4782 fp=3690 fn=5046 prec=0.564 rec=0.487 f1=0.523\n",
      "Loading experiment_N_5_rttol_15\n",
      "N=5 rt_tol=15 tp=4926 fp=3855 fn=4902 prec=0.561 rec=0.501 f1=0.529\n",
      "Loading experiment_N_10_rttol_15\n",
      "N=10 rt_tol=15 tp=5118 fp=3996 fn=4710 prec=0.562 rec=0.521 f1=0.540\n",
      "Loading experiment_N_15_rttol_15\n",
      "N=15 rt_tol=15 tp=5188 fp=4050 fn=4640 prec=0.562 rec=0.528 f1=0.544\n",
      "Loading experiment_N_20_rttol_15\n",
      "N=20 rt_tol=15 tp=5188 fp=4057 fn=4640 prec=0.561 rec=0.528 f1=0.544\n",
      "Loading experiment_N_25_rttol_15\n",
      "N=25 rt_tol=15 tp=5193 fp=4090 fn=4635 prec=0.559 rec=0.528 f1=0.543\n",
      "Loading experiment_N_30_rttol_15\n",
      "N=30 rt_tol=15 tp=5191 fp=4111 fn=4637 prec=0.558 rec=0.528 f1=0.543\n",
      "Loading experiment_N_35_rttol_15\n",
      "N=35 rt_tol=15 tp=5186 fp=4088 fn=4642 prec=0.559 rec=0.528 f1=0.543\n",
      "Loading experiment_N_40_rttol_15\n",
      "N=40 rt_tol=15 tp=5244 fp=4174 fn=4584 prec=0.557 rec=0.534 f1=0.545\n",
      "Loading experiment_N_45_rttol_15\n",
      "N=45 rt_tol=15 tp=5225 fp=4144 fn=4603 prec=0.558 rec=0.532 f1=0.544\n",
      "Loading experiment_N_50_rttol_15\n",
      "N=50 rt_tol=15 tp=5164 fp=4178 fn=4664 prec=0.553 rec=0.525 f1=0.539\n",
      "Loading experiment_N_55_rttol_15\n",
      "N=55 rt_tol=15 tp=5111 fp=4177 fn=4717 prec=0.550 rec=0.520 f1=0.535\n",
      "Loading experiment_N_60_rttol_15\n",
      "N=60 rt_tol=15 tp=5079 fp=4180 fn=4749 prec=0.549 rec=0.517 f1=0.532\n",
      "Loading experiment_N_65_rttol_15\n",
      "N=65 rt_tol=15 tp=5096 fp=4165 fn=4732 prec=0.550 rec=0.519 f1=0.534\n",
      "Loading experiment_N_70_rttol_15\n",
      "N=70 rt_tol=15 tp=5092 fp=4207 fn=4736 prec=0.548 rec=0.518 f1=0.532\n",
      "Loading experiment_N_75_rttol_15\n",
      "N=75 rt_tol=15 tp=5084 fp=4204 fn=4744 prec=0.547 rec=0.517 f1=0.532\n",
      "Loading experiment_N_80_rttol_15\n",
      "N=80 rt_tol=15 tp=5108 fp=4280 fn=4720 prec=0.544 rec=0.520 f1=0.532\n",
      "Loading experiment_N_85_rttol_15\n",
      "N=85 rt_tol=15 tp=5082 fp=4270 fn=4746 prec=0.543 rec=0.517 f1=0.530\n",
      "Loading experiment_N_90_rttol_15\n",
      "N=90 rt_tol=15 tp=5043 fp=4241 fn=4785 prec=0.543 rec=0.513 f1=0.528\n",
      "Loading experiment_N_95_rttol_15\n",
      "N=95 rt_tol=15 tp=4961 fp=4291 fn=4867 prec=0.536 rec=0.505 f1=0.520\n",
      "Loading experiment_N_100_rttol_15\n",
      "N=100 rt_tol=15 tp=4934 fp=4205 fn=4894 prec=0.540 rec=0.502 f1=0.520\n"
     ]
    }
   ],
   "source": [
    "results = []\n",
    "for N in Ns:\n",
    "    for rt_tol in rt_tols:\n",
    "        controller = load_controller(results_dir, N, rt_tol)\n",
    "        if controller is not None:\n",
    "            tp, fp, fn, prec, rec, f1 = compute_performance(controller, dataset)      \n",
    "            print('N=%d rt_tol=%d tp=%d fp=%d fn=%d prec=%.3f rec=%.3f f1=%.3f' % (N, rt_tol, tp, fp, fn, prec, rec, f1))\n",
    "            res = (N, rt_tol, tp, fp, fn, prec, rec, f1)    \n",
    "            results.append(res)            "
   ]
  },
  {
   "cell_type": "code",
   "execution_count": null,
   "metadata": {},
   "outputs": [],
   "source": [
    "df = pd.DataFrame(results, columns=['N', 'rt_tol', 'TP', 'FP', 'FN', 'Prec', 'Rec', 'F1'])"
   ]
  },
  {
   "cell_type": "code",
   "execution_count": 16,
   "metadata": {},
   "outputs": [],
   "source": [
    "def make_plot(df, X, Y, title, ylabel):\n",
    "    df.plot.line(x=X, y=Y)\n",
    "    plt.title(title)\n",
    "    plt.ylabel(ylabel)"
   ]
  },
  {
   "cell_type": "code",
   "execution_count": 17,
   "metadata": {},
   "outputs": [
    {
     "data": {
      "image/png": "[encoded data removed]",
      "text/plain": [
       "<Figure size 432x288 with 1 Axes>"
      ]
     },
     "metadata": {
      "needs_background": "light"
     },
     "output_type": "display_data"
    }
   ],
   "source": [
    "make_plot(df, 'N', ['Prec'], 'Precision vs N', 'Precision')"
   ]
  },
  {
   "cell_type": "code",
   "execution_count": 19,
   "metadata": {},
   "outputs": [
    {
     "data": {
      "image/png": "[encoded data removed]",
      "text/plain": [
       "<Figure size 432x288 with 1 Axes>"
      ]
     },
     "metadata": {
      "needs_background": "light"
     },
     "output_type": "display_data"
    }
   ],
   "source": [
    "make_plot(df, 'N', ['Rec'], 'Recall vs N', 'Recall')"
   ]
  },
  {
   "cell_type": "code",
   "execution_count": 20,
   "metadata": {},
   "outputs": [
    {
     "data": {
      "image/png": "[encoded data removed]",
      "text/plain": [
       "<Figure size 432x288 with 1 Axes>"
      ]
     },
     "metadata": {
      "needs_background": "light"
     },
     "output_type": "display_data"
    }
   ],
   "source": [
    "make_plot(df, 'N', ['F1'], 'F1 vs N', 'F1')"
   ]
  },
  {
   "cell_type": "code",
   "execution_count": 22,
   "metadata": {},
   "outputs": [
    {
     "data": {
      "image/png": "[encoded data removed]",
      "text/plain": [
       "<Figure size 432x288 with 1 Axes>"
      ]
     },
     "metadata": {
      "needs_background": "light"
     },
     "output_type": "display_data"
    }
   ],
   "source": [
    "make_plot(df, 'N', ['TP', 'FP', 'FN'], 'TP, FP, FN vs N', 'TP, FP, FN')"
   ]
  },
  {
   "cell_type": "code",
   "execution_count": 23,
   "metadata": {},
   "outputs": [
    {
     "data": {
      "text/html": [
       "<div>\n",
       "<style scoped>\n",
       "    .dataframe tbody tr th:only-of-type {\n",
       "        vertical-align: middle;\n",
       "    }\n",
       "\n",
       "    .dataframe tbody tr th {\n",
       "        vertical-align: top;\n",
       "    }\n",
       "\n",
       "    .dataframe thead th {\n",
       "        text-align: right;\n",
       "    }\n",
       "</style>\n",
       "<table border=\"1\" class=\"dataframe\">\n",
       "  <thead>\n",
       "    <tr style=\"text-align: right;\">\n",
       "      <th></th>\n",
       "      <th>N</th>\n",
       "      <th>rt_tol</th>\n",
       "      <th>TP</th>\n",
       "      <th>FP</th>\n",
       "      <th>FN</th>\n",
       "      <th>Prec</th>\n",
       "      <th>Rec</th>\n",
       "      <th>F1</th>\n",
       "    </tr>\n",
       "  </thead>\n",
       "  <tbody>\n",
       "    <tr>\n",
       "      <th>0</th>\n",
       "      <td>1</td>\n",
       "      <td>15</td>\n",
       "      <td>4366</td>\n",
       "      <td>3363</td>\n",
       "      <td>5462</td>\n",
       "      <td>0.564885</td>\n",
       "      <td>0.444241</td>\n",
       "      <td>0.497351</td>\n",
       "    </tr>\n",
       "    <tr>\n",
       "      <th>1</th>\n",
       "      <td>2</td>\n",
       "      <td>15</td>\n",
       "      <td>4652</td>\n",
       "      <td>3630</td>\n",
       "      <td>5176</td>\n",
       "      <td>0.561700</td>\n",
       "      <td>0.473341</td>\n",
       "      <td>0.513749</td>\n",
       "    </tr>\n",
       "    <tr>\n",
       "      <th>2</th>\n",
       "      <td>3</td>\n",
       "      <td>15</td>\n",
       "      <td>4782</td>\n",
       "      <td>3690</td>\n",
       "      <td>5046</td>\n",
       "      <td>0.564448</td>\n",
       "      <td>0.486569</td>\n",
       "      <td>0.522623</td>\n",
       "    </tr>\n",
       "    <tr>\n",
       "      <th>3</th>\n",
       "      <td>5</td>\n",
       "      <td>15</td>\n",
       "      <td>4926</td>\n",
       "      <td>3855</td>\n",
       "      <td>4902</td>\n",
       "      <td>0.560984</td>\n",
       "      <td>0.501221</td>\n",
       "      <td>0.529421</td>\n",
       "    </tr>\n",
       "    <tr>\n",
       "      <th>4</th>\n",
       "      <td>10</td>\n",
       "      <td>15</td>\n",
       "      <td>5118</td>\n",
       "      <td>3996</td>\n",
       "      <td>4710</td>\n",
       "      <td>0.561554</td>\n",
       "      <td>0.520757</td>\n",
       "      <td>0.540386</td>\n",
       "    </tr>\n",
       "    <tr>\n",
       "      <th>5</th>\n",
       "      <td>15</td>\n",
       "      <td>15</td>\n",
       "      <td>5188</td>\n",
       "      <td>4050</td>\n",
       "      <td>4640</td>\n",
       "      <td>0.561593</td>\n",
       "      <td>0.527880</td>\n",
       "      <td>0.544215</td>\n",
       "    </tr>\n",
       "    <tr>\n",
       "      <th>6</th>\n",
       "      <td>20</td>\n",
       "      <td>15</td>\n",
       "      <td>5188</td>\n",
       "      <td>4057</td>\n",
       "      <td>4640</td>\n",
       "      <td>0.561168</td>\n",
       "      <td>0.527880</td>\n",
       "      <td>0.544015</td>\n",
       "    </tr>\n",
       "    <tr>\n",
       "      <th>7</th>\n",
       "      <td>25</td>\n",
       "      <td>15</td>\n",
       "      <td>5193</td>\n",
       "      <td>4090</td>\n",
       "      <td>4635</td>\n",
       "      <td>0.559410</td>\n",
       "      <td>0.528388</td>\n",
       "      <td>0.543457</td>\n",
       "    </tr>\n",
       "    <tr>\n",
       "      <th>8</th>\n",
       "      <td>30</td>\n",
       "      <td>15</td>\n",
       "      <td>5191</td>\n",
       "      <td>4111</td>\n",
       "      <td>4637</td>\n",
       "      <td>0.558052</td>\n",
       "      <td>0.528185</td>\n",
       "      <td>0.542708</td>\n",
       "    </tr>\n",
       "    <tr>\n",
       "      <th>9</th>\n",
       "      <td>35</td>\n",
       "      <td>15</td>\n",
       "      <td>5186</td>\n",
       "      <td>4088</td>\n",
       "      <td>4642</td>\n",
       "      <td>0.559198</td>\n",
       "      <td>0.527676</td>\n",
       "      <td>0.542980</td>\n",
       "    </tr>\n",
       "    <tr>\n",
       "      <th>10</th>\n",
       "      <td>40</td>\n",
       "      <td>15</td>\n",
       "      <td>5244</td>\n",
       "      <td>4174</td>\n",
       "      <td>4584</td>\n",
       "      <td>0.556806</td>\n",
       "      <td>0.533578</td>\n",
       "      <td>0.544944</td>\n",
       "    </tr>\n",
       "    <tr>\n",
       "      <th>11</th>\n",
       "      <td>45</td>\n",
       "      <td>15</td>\n",
       "      <td>5225</td>\n",
       "      <td>4144</td>\n",
       "      <td>4603</td>\n",
       "      <td>0.557690</td>\n",
       "      <td>0.531644</td>\n",
       "      <td>0.544356</td>\n",
       "    </tr>\n",
       "    <tr>\n",
       "      <th>12</th>\n",
       "      <td>50</td>\n",
       "      <td>15</td>\n",
       "      <td>5164</td>\n",
       "      <td>4178</td>\n",
       "      <td>4664</td>\n",
       "      <td>0.552772</td>\n",
       "      <td>0.525438</td>\n",
       "      <td>0.538758</td>\n",
       "    </tr>\n",
       "    <tr>\n",
       "      <th>13</th>\n",
       "      <td>55</td>\n",
       "      <td>15</td>\n",
       "      <td>5111</td>\n",
       "      <td>4177</td>\n",
       "      <td>4717</td>\n",
       "      <td>0.550280</td>\n",
       "      <td>0.520045</td>\n",
       "      <td>0.534735</td>\n",
       "    </tr>\n",
       "    <tr>\n",
       "      <th>14</th>\n",
       "      <td>60</td>\n",
       "      <td>15</td>\n",
       "      <td>5079</td>\n",
       "      <td>4180</td>\n",
       "      <td>4749</td>\n",
       "      <td>0.548547</td>\n",
       "      <td>0.516789</td>\n",
       "      <td>0.532195</td>\n",
       "    </tr>\n",
       "    <tr>\n",
       "      <th>15</th>\n",
       "      <td>65</td>\n",
       "      <td>15</td>\n",
       "      <td>5096</td>\n",
       "      <td>4165</td>\n",
       "      <td>4732</td>\n",
       "      <td>0.550265</td>\n",
       "      <td>0.518519</td>\n",
       "      <td>0.533920</td>\n",
       "    </tr>\n",
       "    <tr>\n",
       "      <th>16</th>\n",
       "      <td>70</td>\n",
       "      <td>15</td>\n",
       "      <td>5092</td>\n",
       "      <td>4207</td>\n",
       "      <td>4736</td>\n",
       "      <td>0.547586</td>\n",
       "      <td>0.518112</td>\n",
       "      <td>0.532441</td>\n",
       "    </tr>\n",
       "    <tr>\n",
       "      <th>17</th>\n",
       "      <td>75</td>\n",
       "      <td>15</td>\n",
       "      <td>5084</td>\n",
       "      <td>4204</td>\n",
       "      <td>4744</td>\n",
       "      <td>0.547373</td>\n",
       "      <td>0.517298</td>\n",
       "      <td>0.531910</td>\n",
       "    </tr>\n",
       "    <tr>\n",
       "      <th>18</th>\n",
       "      <td>80</td>\n",
       "      <td>15</td>\n",
       "      <td>5108</td>\n",
       "      <td>4280</td>\n",
       "      <td>4720</td>\n",
       "      <td>0.544099</td>\n",
       "      <td>0.519740</td>\n",
       "      <td>0.531640</td>\n",
       "    </tr>\n",
       "    <tr>\n",
       "      <th>19</th>\n",
       "      <td>85</td>\n",
       "      <td>15</td>\n",
       "      <td>5082</td>\n",
       "      <td>4270</td>\n",
       "      <td>4746</td>\n",
       "      <td>0.543413</td>\n",
       "      <td>0.517094</td>\n",
       "      <td>0.529927</td>\n",
       "    </tr>\n",
       "    <tr>\n",
       "      <th>20</th>\n",
       "      <td>90</td>\n",
       "      <td>15</td>\n",
       "      <td>5043</td>\n",
       "      <td>4241</td>\n",
       "      <td>4785</td>\n",
       "      <td>0.543193</td>\n",
       "      <td>0.513126</td>\n",
       "      <td>0.527731</td>\n",
       "    </tr>\n",
       "    <tr>\n",
       "      <th>21</th>\n",
       "      <td>95</td>\n",
       "      <td>15</td>\n",
       "      <td>4961</td>\n",
       "      <td>4291</td>\n",
       "      <td>4867</td>\n",
       "      <td>0.536208</td>\n",
       "      <td>0.504782</td>\n",
       "      <td>0.520021</td>\n",
       "    </tr>\n",
       "    <tr>\n",
       "      <th>22</th>\n",
       "      <td>100</td>\n",
       "      <td>15</td>\n",
       "      <td>4934</td>\n",
       "      <td>4205</td>\n",
       "      <td>4894</td>\n",
       "      <td>0.539884</td>\n",
       "      <td>0.502035</td>\n",
       "      <td>0.520272</td>\n",
       "    </tr>\n",
       "  </tbody>\n",
       "</table>\n",
       "</div>"
      ],
      "text/plain": [
       "      N  rt_tol    TP    FP    FN      Prec       Rec        F1\n",
       "0     1      15  4366  3363  5462  0.564885  0.444241  0.497351\n",
       "1     2      15  4652  3630  5176  0.561700  0.473341  0.513749\n",
       "2     3      15  4782  3690  5046  0.564448  0.486569  0.522623\n",
       "3     5      15  4926  3855  4902  0.560984  0.501221  0.529421\n",
       "4    10      15  5118  3996  4710  0.561554  0.520757  0.540386\n",
       "5    15      15  5188  4050  4640  0.561593  0.527880  0.544215\n",
       "6    20      15  5188  4057  4640  0.561168  0.527880  0.544015\n",
       "7    25      15  5193  4090  4635  0.559410  0.528388  0.543457\n",
       "8    30      15  5191  4111  4637  0.558052  0.528185  0.542708\n",
       "9    35      15  5186  4088  4642  0.559198  0.527676  0.542980\n",
       "10   40      15  5244  4174  4584  0.556806  0.533578  0.544944\n",
       "11   45      15  5225  4144  4603  0.557690  0.531644  0.544356\n",
       "12   50      15  5164  4178  4664  0.552772  0.525438  0.538758\n",
       "13   55      15  5111  4177  4717  0.550280  0.520045  0.534735\n",
       "14   60      15  5079  4180  4749  0.548547  0.516789  0.532195\n",
       "15   65      15  5096  4165  4732  0.550265  0.518519  0.533920\n",
       "16   70      15  5092  4207  4736  0.547586  0.518112  0.532441\n",
       "17   75      15  5084  4204  4744  0.547373  0.517298  0.531910\n",
       "18   80      15  5108  4280  4720  0.544099  0.519740  0.531640\n",
       "19   85      15  5082  4270  4746  0.543413  0.517094  0.529927\n",
       "20   90      15  5043  4241  4785  0.543193  0.513126  0.527731\n",
       "21   95      15  4961  4291  4867  0.536208  0.504782  0.520021\n",
       "22  100      15  4934  4205  4894  0.539884  0.502035  0.520272"
      ]
     },
     "execution_count": 23,
     "metadata": {},
     "output_type": "execute_result"
    }
   ],
   "source": [
    "df"
   ]
  },
  {
   "cell_type": "markdown",
   "metadata": {},
   "source": [
    "#### Fixed N = 10 and varying rt_tols"
   ]
  },
  {
   "cell_type": "code",
   "execution_count": null,
   "metadata": {},
   "outputs": [],
   "source": [
    "Ns = [10]\n",
    "rt_tols = list(range(15, 301, 15))\n",
    "controllers = load_controllers(results_dir, Ns, rt_tols)"
   ]
  },
  {
   "cell_type": "code",
   "execution_count": null,
   "metadata": {},
   "outputs": [],
   "source": [
    "results = []\n",
    "for controller in controllers:\n",
    "    N = controller.N\n",
    "    rt_tol = controller.rt_tol\n",
    "    tp, fp, fn, prec, rec, f1 = compute_performance(controller, dataset)      \n",
    "    print('N=%d rt_tol=%d tp=%d fp=%d fn=%d prec=%.3f rec=%.3f f1=%.3f' % (N, rt_tol, tp, fp, fn, prec, rec, f1))\n",
    "    res = (N, rt_tol, tp, fp, fn, prec, rec, f1)    \n",
    "    results.append(res)"
   ]
  },
  {
   "cell_type": "code",
   "execution_count": null,
   "metadata": {},
   "outputs": [],
   "source": [
    "df = pd.DataFrame(results, columns=['N', 'rt_tol', 'TP', 'FP', 'FN', 'Prec', 'Rec', 'F1'])\n",
    "df.plot.line(x='N', y=['Prec'])\n",
    "plt.title('Precision vs N')\n",
    "plt.ylabel('Precision')\n",
    "\n",
    "df.plot.line(x='N', y=['Rec'])\n",
    "plt.title('Recall vs N')\n",
    "plt.ylabel('Recall')\n",
    "\n",
    "df.plot.line(x='N', y=['F1'])\n",
    "plt.title('F1 vs N')\n",
    "plt.ylabel('F1')"
   ]
  },
  {
   "cell_type": "code",
   "execution_count": null,
   "metadata": {},
   "outputs": [],
   "source": [
    "df"
   ]
  },
  {
   "cell_type": "markdown",
   "metadata": {},
   "source": [
    "### Compute performance for varying Ns and rt_tols"
   ]
  },
  {
   "cell_type": "code",
   "execution_count": null,
   "metadata": {},
   "outputs": [],
   "source": [
    "Ns = [1, 2, 3, 5, 10, 15, 20, 25, 30, 35, 40, 45, 50, 55, 60, 65, 70, 75, 80, 85, 90, 95, 100]\n",
    "rt_tols = list(range(15, 301, 15))"
   ]
  },
  {
   "cell_type": "code",
   "execution_count": null,
   "metadata": {},
   "outputs": [],
   "source": [
    "X, Y = np.meshgrid(Ns, rt_tols)\n",
    "Z_precision = np.zeros_like(X).astype(float)\n",
    "Z_recall = np.zeros_like(X).astype(float)\n",
    "Z_f1 = np.zeros_like(X).astype(float)"
   ]
  },
  {
   "cell_type": "code",
   "execution_count": null,
   "metadata": {
    "scrolled": true
   },
   "outputs": [],
   "source": [
    "for j in range(X.shape[1]):\n",
    "    for i in range(X.shape[0]):    \n",
    "        N = X[i, j]\n",
    "        rt_tol = Y[i, j]            \n",
    "        analysis_name = 'experiment_N_%d_rttol_%d' % (N, rt_tol)    \n",
    "        pickle_in = '%s/%s.p' % (results_dir, analysis_name) \n",
    "\n",
    "        print('Loading %s' % analysis_name)                    \n",
    "        try:\n",
    "            controller = load_obj(pickle_in)\n",
    "        except FileNotFoundError:\n",
    "            controller = None\n",
    "\n",
    "        # compute performance\n",
    "        if controller is not None:\n",
    "            tp, fp, fn, prec, rec, f1 = compute_performance(controller, dataset)\n",
    "            Z_precision[i, j] = prec\n",
    "            Z_recall[i, j] = rec\n",
    "            Z_f1[i, j] = f1"
   ]
  },
  {
   "cell_type": "markdown",
   "metadata": {},
   "source": [
    "### Make plot"
   ]
  },
  {
   "cell_type": "code",
   "execution_count": null,
   "metadata": {},
   "outputs": [],
   "source": [
    "plot_data = {\n",
    "    'X': X,\n",
    "    'Y': Y,\n",
    "    'Z_precision': Z_precision,\n",
    "    'Z_recall': Z_recall,\n",
    "    'Z_f1': Z_f1\n",
    "}"
   ]
  },
  {
   "cell_type": "code",
   "execution_count": null,
   "metadata": {},
   "outputs": [],
   "source": [
    "save_obj(plot_data, results_dir + '/plot_data.p')"
   ]
  },
  {
   "cell_type": "code",
   "execution_count": null,
   "metadata": {},
   "outputs": [],
   "source": [
    "def make_plot(X, Y, Z, xlabel, ylabel, zlabel, title):\n",
    "    # Plot the surface.\n",
    "    fig = plt.figure()\n",
    "    ax = fig.gca(projection='3d')\n",
    "    surf = ax.plot_surface(X, Y, Z, cmap=cm.coolwarm,\n",
    "                           linewidth=0, antialiased=False)\n",
    "\n",
    "    # Customize the z axis.\n",
    "    # ax.set_zlim(-1.01, 1.01)\n",
    "    # ax.zaxis.set_major_locator(LinearLocator(10))\n",
    "    # ax.zaxis.set_major_formatter(FormatStrFormatter('%.02f'))\n",
    "\n",
    "    # Add a color bar which maps values to colors.\n",
    "    fig.colorbar(surf, shrink=0.5, aspect=5)\n",
    "    ax.set_xlabel(xlabel)\n",
    "    ax.set_ylabel(ylabel)\n",
    "    ax.set_zlabel(zlabel)    \n",
    "    plt.title(title)\n",
    "    plt.tight_layout()\n",
    "    plt.show()"
   ]
  },
  {
   "cell_type": "code",
   "execution_count": null,
   "metadata": {},
   "outputs": [],
   "source": [
    "%matplotlib notebook"
   ]
  },
  {
   "cell_type": "code",
   "execution_count": null,
   "metadata": {},
   "outputs": [],
   "source": [
    "make_plot(X, Y, Z_precision, 'N', 'Dynamic exclusion window (s)', 'Precision', 'Precision with varying Ns and dynamic exclusion windows')"
   ]
  },
  {
   "cell_type": "code",
   "execution_count": null,
   "metadata": {},
   "outputs": [],
   "source": [
    "make_plot(X, Y, Z_recall, 'N', 'Dynamic exclusion window (s)', 'Recall', 'Recall with varying Ns and dynamic exclusion windows')"
   ]
  },
  {
   "cell_type": "code",
   "execution_count": null,
   "metadata": {},
   "outputs": [],
   "source": [
    "make_plot(X, Y, Z_f1, 'N', 'Dynamic exclusion window (s)', 'F_1', 'F_1 score with varying Ns and dynamic exclusion windows')"
   ]
  },
  {
   "cell_type": "code",
   "execution_count": null,
   "metadata": {},
   "outputs": [],
   "source": [
    "%matplotlib inline"
   ]
  },
  {
   "cell_type": "code",
   "execution_count": null,
   "metadata": {},
   "outputs": [],
   "source": [
    "make_plot(X, Y, Z_precision, 'N', 'Dynamic exclusion window (s)', 'Precision', 'Precision with varying Ns and dynamic exclusion windows')"
   ]
  },
  {
   "cell_type": "code",
   "execution_count": null,
   "metadata": {},
   "outputs": [],
   "source": [
    "make_plot(X, Y, Z_recall, 'N', 'Dynamic exclusion window (s)', 'Recall', 'Recall with varying Ns and dynamic exclusion windows')"
   ]
  },
  {
   "cell_type": "code",
   "execution_count": null,
   "metadata": {},
   "outputs": [],
   "source": [
    "make_plot(X, Y, Z_f1, 'N', 'Dynamic exclusion window (s)', 'F_1', 'F_1 score with varying Ns and dynamic exclusion windows')"
   ]
  },
  {
   "cell_type": "code",
   "execution_count": null,
   "metadata": {},
   "outputs": [],
   "source": []
  }
 ],
 "metadata": {
  "kernelspec": {
   "display_name": "Python 3",
   "language": "python",
   "name": "python3"
  },
  "language_info": {
   "codemirror_mode": {
    "name": "ipython",
    "version": 3
   },
   "file_extension": ".py",
   "mimetype": "text/x-python",
   "name": "python",
   "nbconvert_exporter": "python",
   "pygments_lexer": "ipython3",
   "version": "3.6.6"
  }
 },
 "nbformat": 4,
 "nbformat_minor": 2
}
