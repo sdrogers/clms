{
 "cells": [
  {
   "cell_type": "markdown",
   "metadata": {},
   "source": [
    "# ROI Extraction"
   ]
  },
  {
   "cell_type": "code",
   "execution_count": 1,
   "metadata": {},
   "outputs": [],
   "source": [
    "import sys\n",
    "sys.path.append('../codes')"
   ]
  },
  {
   "cell_type": "code",
   "execution_count": 2,
   "metadata": {},
   "outputs": [],
   "source": [
    "%load_ext autoreload\n",
    "%autoreload 2"
   ]
  },
  {
   "cell_type": "code",
   "execution_count": 3,
   "metadata": {},
   "outputs": [],
   "source": [
    "%matplotlib inline"
   ]
  },
  {
   "cell_type": "code",
   "execution_count": 4,
   "metadata": {},
   "outputs": [],
   "source": [
    "import numpy as np\n",
    "import pandas as pd\n",
    "import pylab as plt\n",
    "\n",
    "from VMSfunctions.Common import *\n",
    "from VMSfunctions.DataGenerator import *\n",
    "from VMSfunctions.Chromatograms import *"
   ]
  },
  {
   "cell_type": "markdown",
   "metadata": {},
   "source": [
    "### 1. Load justin beer data"
   ]
  },
  {
   "cell_type": "code",
   "execution_count": 5,
   "metadata": {},
   "outputs": [],
   "source": [
    "ds = DataSource()"
   ]
  },
  {
   "cell_type": "code",
   "execution_count": 6,
   "metadata": {
    "scrolled": true
   },
   "outputs": [
    {
     "name": "stderr",
     "output_type": "stream",
     "text": [
      "INFO:DataGenerator:Loading Beer_1_full1.mzML\n",
      "INFO:DataGenerator:Loading Beer_1_full2.mzML\n",
      "INFO:DataGenerator:Loading Beer_1_full3.mzML\n",
      "INFO:DataGenerator:Loading Beer_2_full1.mzML\n",
      "INFO:DataGenerator:Loading Beer_2_full2.mzML\n",
      "INFO:DataGenerator:Loading Beer_2_full3.mzML\n",
      "INFO:DataGenerator:Loading Beer_3_full1.mzML\n",
      "INFO:DataGenerator:Loading Beer_3_full2.mzML\n",
      "INFO:DataGenerator:Loading Beer_3_full3.mzML\n",
      "INFO:DataGenerator:Loading Beer_QC_full1.mzML\n",
      "INFO:DataGenerator:Loading Beer_QC_full2.mzML\n",
      "INFO:DataGenerator:Loading Beer_QC_full3.mzML\n"
     ]
    }
   ],
   "source": [
    "mzml_path = 'C:\\\\Users\\\\joewa\\\\University of Glasgow\\\\Vinny Davies - CLDS Metabolomics Project\\\\Data\\\\Beers_4Beers_compared\\\\Positive\\\\samples\\\\mzML'\n",
    "ds.load_data(mzml_path)"
   ]
  },
  {
   "cell_type": "code",
   "execution_count": 7,
   "metadata": {},
   "outputs": [],
   "source": [
    "roi_file = 'C:\\\\Users\\\\joewa\\\\University of Glasgow\\\\Vinny Davies - CLDS Metabolomics Project\\\\Data\\\\Beers_4Beers_compared\\\\rois.csv'\n",
    "# ds.extract_roi(roi_file)"
   ]
  },
  {
   "cell_type": "code",
   "execution_count": 8,
   "metadata": {},
   "outputs": [],
   "source": [
    "df = pd.read_csv(roi_file)"
   ]
  },
  {
   "cell_type": "code",
   "execution_count": 9,
   "metadata": {},
   "outputs": [],
   "source": [
    "unique_filenames = df['file'].unique()"
   ]
  },
  {
   "cell_type": "code",
   "execution_count": 10,
   "metadata": {},
   "outputs": [],
   "source": [
    "from tqdm import tqdm\n",
    "tqdm.pandas()"
   ]
  },
  {
   "cell_type": "code",
   "execution_count": 11,
   "metadata": {},
   "outputs": [
    {
     "name": "stderr",
     "output_type": "stream",
     "text": [
      "100%|███████████████████████████████████████████████████████████████████| 394970/394970 [03:17<00:00, 2001.22it/s]\n"
     ]
    }
   ],
   "source": [
    "res = df.progress_apply(lambda x: x.to_json(), axis=1)"
   ]
  },
  {
   "cell_type": "code",
   "execution_count": null,
   "metadata": {},
   "outputs": [],
   "source": [
    "res[0]"
   ]
  },
  {
   "cell_type": "markdown",
   "metadata": {},
   "source": [
    "### 2. Load ROI data exported from XCMS"
   ]
  },
  {
   "cell_type": "code",
   "execution_count": null,
   "metadata": {},
   "outputs": [],
   "source": [
    "all_rois = {} # key: file_name, value: a dict of rois, rois_mzmin, rois_mzmax, rois_rtmin, rois_rtmax\n",
    "for filename in unique_filenames:\n",
    "    print('Processing ROIs for %s' % filename)\n",
    "    rois_data = { \n",
    "        'rois': [],\n",
    "        'mzmin': [],\n",
    "        'mzmax': [],\n",
    "        'rtmin': [],\n",
    "        'rtmax': []\n",
    "    } \n",
    "    \n",
    "    # convert each row of the dataframe to roi objects\n",
    "    for idx, row in df.iterrows():\n",
    "        if (idx % 10000 == 0):\n",
    "            print('%6d/%6d' % (idx, df.shape[0]))\n",
    "        file_name = row['file']\n",
    "        mzmin = row['mzmin']\n",
    "        mzmax = row['mzmax']\n",
    "        rtmin = row['rtmin']\n",
    "        rtmax = row['rtmax']\n",
    "        scmin = row['scmin']\n",
    "        scmax = row['scmax']\n",
    "        pickedPeak = row['pickedPeak']\n",
    "        mode = row['mode']    \n",
    "        roi = RegionOfInterest(file_name, mode, pickedPeak, (mzmin, mzmax), (rtmin, rtmax), (scmin, scmax))\n",
    "\n",
    "        rois_data['rois'].append(roi)\n",
    "        rois_data['mzmin'].append(mzmin)\n",
    "        rois_data['mzmax'].append(mzmax)\n",
    "        rois_data['rtmin'].append(rtmin)\n",
    "        rois_data['rtmax'].append(rtmax)\n",
    "\n",
    "    # convert all values to numpy arrays\n",
    "    rois_data['rois'] = np.array(rois_data['rois'])\n",
    "    rois_data['mzmin'] = np.array(rois_data['mzmin'])\n",
    "    rois_data['mzmax'] = np.array(rois_data['mzmax'])\n",
    "    rois_data['rtmin'] = np.array(rois_data['rtmin'])\n",
    "    rois_data['rtmax'] = np.array(rois_data['rtmax'])                \n",
    "    all_rois[filename] = rois_data\n",
    "    \n",
    "    print('%d ROIs added' % len(rois_data['rois']))"
   ]
  },
  {
   "cell_type": "code",
   "execution_count": null,
   "metadata": {},
   "outputs": [],
   "source": [
    "def get_containing_rois(p, rois_data):\n",
    "    mzmin_check = rois_data['mzmin'] <= p.mz\n",
    "    mzmax_check = p.mz <= rois_data['mzmax']\n",
    "    rtmin_check = rois_data['rtmin'] <= p.rt\n",
    "    rtmax_check = p.rt <= rois_data['rtmax']\n",
    "    idx = np.nonzero(mzmin_check & mzmax_check & rtmin_check & rtmax_check)[0]\n",
    "    rois = rois_data['rois'][idx]\n",
    "    return rois"
   ]
  },
  {
   "cell_type": "code",
   "execution_count": null,
   "metadata": {},
   "outputs": [],
   "source": [
    "for filename in unique_filenames:\n",
    "    spectra = ds.file_spectra[filename]\n",
    "    for scan_id, spectrum in spectra.items():\n",
    "        print('%4d/%d processing spectrum %s' % (scan_id, len(spectra), spectrum))\n",
    "        rt = ds._get_rt(spectrum)\n",
    "        for mz, intensity in spectrum.peaks('raw'):\n",
    "            p = PeakSample(mz, rt, intensity, spectrum.ms_level)            \n",
    "            rois = get_containing_rois(p, rois_data)\n",
    "            for roi in rois:\n",
    "                roi.add(p)            "
   ]
  },
  {
   "cell_type": "code",
   "execution_count": null,
   "metadata": {},
   "outputs": [],
   "source": [
    "save_obj(all_rois, '../models/all_rois.p')"
   ]
  },
  {
   "cell_type": "markdown",
   "metadata": {},
   "source": [
    "### Plot some ROIs we found"
   ]
  },
  {
   "cell_type": "code",
   "execution_count": null,
   "metadata": {},
   "outputs": [],
   "source": [
    "all_rois = load_obj('../models/all_rois.p')"
   ]
  },
  {
   "cell_type": "code",
   "execution_count": null,
   "metadata": {},
   "outputs": [],
   "source": [
    "file_name = list(all_rois.keys())[0]"
   ]
  },
  {
   "cell_type": "code",
   "execution_count": null,
   "metadata": {},
   "outputs": [],
   "source": [
    "file_name"
   ]
  },
  {
   "cell_type": "code",
   "execution_count": null,
   "metadata": {},
   "outputs": [],
   "source": [
    "rois_data = all_rois[file_name]"
   ]
  },
  {
   "cell_type": "code",
   "execution_count": null,
   "metadata": {
    "scrolled": true
   },
   "outputs": [],
   "source": [
    "for roi in rois_data['rois'][0:10]:\n",
    "    mzs = [p.mz for p in roi.peaks]\n",
    "    rts = [p.rt for p in roi.peaks]\n",
    "    intensities = [p.intensity for p in roi.peaks]\n",
    "    print(mzs)\n",
    "    print(rts)\n",
    "    print(intensities)\n",
    "    print(roi.pickedPeak)\n",
    "    print()"
   ]
  },
  {
   "cell_type": "code",
   "execution_count": null,
   "metadata": {},
   "outputs": [],
   "source": [
    "true_rois = [roi for roi in rois_data['rois'] if roi.pickedPeak]\n",
    "false_rois = [roi for roi in rois_data['rois'] if not roi.pickedPeak]"
   ]
  },
  {
   "cell_type": "code",
   "execution_count": null,
   "metadata": {},
   "outputs": [],
   "source": [
    "print(len(true_rois))\n",
    "print(len(false_rois))"
   ]
  },
  {
   "cell_type": "code",
   "execution_count": null,
   "metadata": {},
   "outputs": [],
   "source": [
    "def plot_roi(roi_list, min_length, title):\n",
    "    count = 0\n",
    "    for roi in roi_list:\n",
    "        mzs = [p.mz for p in roi.peaks]\n",
    "        rts = [p.rt for p in roi.peaks]\n",
    "        intensities = [p.intensity for p in roi.peaks]\n",
    "        if len(rts) > min_length and rts[0] > 180:\n",
    "            plt.plot(rts, intensities)\n",
    "            plt.xlabel('RT')\n",
    "            plt.ylabel('Intensity')\n",
    "            plt.title(title)\n",
    "            plt.show()\n",
    "            count += 1\n",
    "            if count >= 3:\n",
    "                break"
   ]
  },
  {
   "cell_type": "code",
   "execution_count": null,
   "metadata": {
    "scrolled": false
   },
   "outputs": [],
   "source": [
    "plot_roi(true_rois, 30, 'ROI detected as peak')"
   ]
  },
  {
   "cell_type": "code",
   "execution_count": null,
   "metadata": {},
   "outputs": [],
   "source": [
    "plot_roi(false_rois, 500, 'ROI detected as not peak')"
   ]
  },
  {
   "cell_type": "markdown",
   "metadata": {},
   "source": [
    "Check that we're finding the chromatograms we exported before"
   ]
  },
  {
   "cell_type": "code",
   "execution_count": null,
   "metadata": {},
   "outputs": [],
   "source": [
    "def to_chromatogram(roi):\n",
    "    if len(roi.peaks) == 0 or len(roi.peaks) == 1:\n",
    "        return None\n",
    "    mzs = [p.mz for p in roi.peaks]\n",
    "    rts = [p.rt for p in roi.peaks]\n",
    "    intensities = [p.intensity for p in roi.peaks]\n",
    "    chrom = EmpiricalChromatogram(rts, mzs, intensities)\n",
    "    return chrom"
   ]
  },
  {
   "cell_type": "code",
   "execution_count": null,
   "metadata": {},
   "outputs": [],
   "source": [
    "def rois_to_chromatograms(rois):\n",
    "    chromatograms = []\n",
    "    for roi in rois:\n",
    "        chrom = to_chromatogram(roi)\n",
    "        if chrom is not None:\n",
    "            chromatograms.append(chrom)\n",
    "    return chromatograms"
   ]
  },
  {
   "cell_type": "code",
   "execution_count": null,
   "metadata": {},
   "outputs": [],
   "source": [
    "extracted_chromatograms = rois_to_chromatograms(true_rois)"
   ]
  },
  {
   "cell_type": "code",
   "execution_count": null,
   "metadata": {},
   "outputs": [],
   "source": [
    "xcms_output = '../models/beer_ms1_peaks.csv.gz'\n",
    "exported_chromatograms = ChromatogramCreator(xcms_output).chromatograms"
   ]
  },
  {
   "cell_type": "code",
   "execution_count": null,
   "metadata": {},
   "outputs": [],
   "source": [
    "len(extracted_chromatograms)"
   ]
  },
  {
   "cell_type": "code",
   "execution_count": null,
   "metadata": {},
   "outputs": [],
   "source": [
    "len(exported_chromatograms)"
   ]
  },
  {
   "cell_type": "code",
   "execution_count": null,
   "metadata": {},
   "outputs": [],
   "source": [
    "def check(chrom, to_search):\n",
    "    for i in range(len(to_search)):\n",
    "        item = to_search[j]\n",
    "        if chrom == item:\n",
    "            print('Found', chrom, 'at', i)\n",
    "            return i\n",
    "    return None"
   ]
  },
  {
   "cell_type": "code",
   "execution_count": null,
   "metadata": {},
   "outputs": [],
   "source": [
    "check(extracted_chromatograms[1000], exported_chromatograms)"
   ]
  },
  {
   "cell_type": "code",
   "execution_count": null,
   "metadata": {},
   "outputs": [],
   "source": [
    "check(extracted_chromatograms[1001], exported_chromatograms)"
   ]
  },
  {
   "cell_type": "code",
   "execution_count": null,
   "metadata": {},
   "outputs": [],
   "source": [
    "check(extracted_chromatograms[1002], exported_chromatograms)"
   ]
  },
  {
   "cell_type": "code",
   "execution_count": null,
   "metadata": {
    "scrolled": true
   },
   "outputs": [],
   "source": [
    "i = 1000\n",
    "plt.plot(extracted_chromatograms[i].raw_rts, extracted_chromatograms[i].raw_intensities)\n",
    "print(extracted_chromatograms[i].raw_rts)\n",
    "print(extracted_chromatograms[i].raw_intensities)\n",
    "print(extracted_chromatograms[i].raw_mzs)"
   ]
  },
  {
   "cell_type": "code",
   "execution_count": null,
   "metadata": {},
   "outputs": [],
   "source": [
    "for i in range(len(exported_chromatograms)):\n",
    "    chrom = exported_chromatograms[i]\n",
    "    rt = chrom.raw_rts[0]\n",
    "    if 266.140 < rt < 266.150:\n",
    "        print(i)\n",
    "        break"
   ]
  },
  {
   "cell_type": "code",
   "execution_count": null,
   "metadata": {},
   "outputs": [],
   "source": [
    "i = 1882\n",
    "plt.plot(exported_chromatograms[i].raw_rts, exported_chromatograms[i].raw_intensities)"
   ]
  },
  {
   "cell_type": "code",
   "execution_count": null,
   "metadata": {},
   "outputs": [],
   "source": []
  }
 ],
 "metadata": {
  "kernelspec": {
   "display_name": "Python 3",
   "language": "python",
   "name": "python3"
  },
  "language_info": {
   "codemirror_mode": {
    "name": "ipython",
    "version": 3
   },
   "file_extension": ".py",
   "mimetype": "text/x-python",
   "name": "python",
   "nbconvert_exporter": "python",
   "pygments_lexer": "ipython3",
   "version": "3.6.6"
  }
 },
 "nbformat": 4,
 "nbformat_minor": 2
}
