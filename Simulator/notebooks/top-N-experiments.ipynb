{
 "cells": [
  {
   "cell_type": "markdown",
   "metadata": {},
   "source": [
    "### Experiment: Varying N in top-N DDA fragmentation"
   ]
  },
  {
   "cell_type": "markdown",
   "metadata": {},
   "source": [
    "We demonstrate that the simulator can be used for scan-level closed-loop DDA experiments. \n",
    "- Take an existing data. Find out which MS1 peaks are linked to which MS2 peaks.\n",
    "- Run all MS1 peaks through the simulator’s Top-N protocol. \n",
    "- If N is greater than the real data, do we see the same MS1 peaks from (1) being fragmented again, plus additional fragment peaks?\n",
    "- Can we use the simulator to find a new N that maximises the number of MS1 peaks being fragmented?\n",
    "- Verification on actual machine.\n",
    "- Talk to stefan about machine time."
   ]
  },
  {
   "cell_type": "code",
   "execution_count": 1,
   "metadata": {},
   "outputs": [],
   "source": [
    "%matplotlib inline"
   ]
  },
  {
   "cell_type": "code",
   "execution_count": 2,
   "metadata": {},
   "outputs": [],
   "source": [
    "%load_ext autoreload\n",
    "%autoreload 2"
   ]
  },
  {
   "cell_type": "code",
   "execution_count": 3,
   "metadata": {},
   "outputs": [],
   "source": [
    "import numpy as np\n",
    "import pandas as pd\n",
    "import sys\n",
    "import scipy.stats\n",
    "import pylab as plt\n",
    "from IPython import display\n",
    "import pylab as plt"
   ]
  },
  {
   "cell_type": "code",
   "execution_count": 4,
   "metadata": {},
   "outputs": [],
   "source": [
    "sys.path.append('../codes')"
   ]
  },
  {
   "cell_type": "code",
   "execution_count": 5,
   "metadata": {},
   "outputs": [],
   "source": [
    "from VMSfunctions.Chemicals import *\n",
    "from VMSfunctions.Chromatograms import *\n",
    "from VMSfunctions.MassSpec import *\n",
    "from VMSfunctions.Controller import *\n",
    "from VMSfunctions.Common import *\n",
    "from VMSfunctions.DataGenerator import *"
   ]
  },
  {
   "cell_type": "markdown",
   "metadata": {},
   "source": [
    "Load densities trained on 4 beer data (see [loader_kde](loader_kde.ipynb))."
   ]
  },
  {
   "cell_type": "code",
   "execution_count": 6,
   "metadata": {},
   "outputs": [],
   "source": [
    "ps = load_obj('../models/peak_sampler_4_beers.p')"
   ]
  },
  {
   "cell_type": "markdown",
   "metadata": {},
   "source": [
    "Load chromatogram data exported from the real data"
   ]
  },
  {
   "cell_type": "code",
   "execution_count": 7,
   "metadata": {},
   "outputs": [
    {
     "name": "stderr",
     "output_type": "stream",
     "text": [
      "DEBUG:Chemicals:Loading 0 chromatograms\n",
      "../codes\\VMSfunctions\\Common.py:56: RuntimeWarning:\n",
      "\n",
      "divide by zero encountered in double_scalars\n",
      "\n",
      "DEBUG:Chemicals:Loading 5000 chromatograms\n",
      "DEBUG:Chemicals:Loading 10000 chromatograms\n",
      "DEBUG:Chemicals:Loading 15000 chromatograms\n",
      "DEBUG:Chemicals:Loading 20000 chromatograms\n",
      "DEBUG:Chemicals:Loading 25000 chromatograms\n",
      "DEBUG:Chemicals:Loading 30000 chromatograms\n",
      "DEBUG:Chemicals:Loading 35000 chromatograms\n",
      "DEBUG:Chemicals:Loading 40000 chromatograms\n",
      "DEBUG:Chemicals:Loading 45000 chromatograms\n"
     ]
    }
   ],
   "source": [
    "xcms_output = '../models/beer_ms1_peaks.csv.gz'\n",
    "cc = ChromatogramCreator(xcms_output)"
   ]
  },
  {
   "cell_type": "code",
   "execution_count": 8,
   "metadata": {},
   "outputs": [
    {
     "data": {
      "text/plain": [
       "array([UnknownChemical mz=118.0862 rt=531.71 max_intensity=1723984512.00,\n",
       "       UnknownChemical mz=118.0862 rt=531.55 max_intensity=1642510080.00,\n",
       "       UnknownChemical mz=116.0705 rt=577.81 max_intensity=2235291136.00,\n",
       "       ..., UnknownChemical mz=231.1244 rt=1393.23 max_intensity=5235.98,\n",
       "       UnknownChemical mz=237.0524 rt=1396.85 max_intensity=6229.18,\n",
       "       UnknownChemical mz=176.9613 rt=1390.25 max_intensity=4970.76],\n",
       "      dtype=object)"
      ]
     },
     "execution_count": 8,
     "metadata": {},
     "output_type": "execute_result"
    }
   ],
   "source": [
    "cc.chemicals"
   ]
  },
  {
   "cell_type": "markdown",
   "metadata": {},
   "source": [
    "### Set up a Top-N controller"
   ]
  },
  {
   "cell_type": "code",
   "execution_count": 14,
   "metadata": {},
   "outputs": [],
   "source": [
    "max_rt = 10                    # the maximum retention time of scans to generate\n",
    "N = 5                           # top-5 DDA fragmentation\n",
    "mz_tol = 5                      # the mz isolation window around a selected precursor ion\n",
    "rt_tol = 15                     # the rt window around a selected precursor ion to prevent it from fragmented multiple times\n",
    "min_ms2_intensity = 5000        # the minimum ms2 peak intensity"
   ]
  },
  {
   "cell_type": "code",
   "execution_count": 17,
   "metadata": {
    "scrolled": false
   },
   "outputs": [
    {
     "name": "stderr",
     "output_type": "stream",
     "text": [
      "INFO:TopNController:Acquisition open\n",
      "INFO:TopNController:Received Scan 24 num_peaks=11 rt=3.19 ms_level=1\n",
      "DEBUG:TopNController:Isolated precursor ion 237.8684 window (237.8672, 237.8695)\n",
      "DEBUG:TopNController:Dynamic exclusion from_mz 237.8672 to_mz 237.8695 from_rt 0.00 to_rt 18.19\n",
      "DEBUG:TopNController:Isolated precursor ion 171.1986 window (171.1977, 171.1994)\n",
      "DEBUG:TopNController:Dynamic exclusion from_mz 171.1977 to_mz 171.1994 from_rt 0.00 to_rt 18.19\n",
      "DEBUG:TopNController:Isolated precursor ion 231.0894 window (231.0883, 231.0906)\n",
      "DEBUG:TopNController:Dynamic exclusion from_mz 231.0883 to_mz 231.0906 from_rt 0.00 to_rt 18.19\n",
      "DEBUG:TopNController:Isolated precursor ion 539.7347 window (539.7320, 539.7374)\n",
      "DEBUG:TopNController:Dynamic exclusion from_mz 539.7320 to_mz 539.7374 from_rt 0.00 to_rt 18.19\n",
      "DEBUG:TopNController:Isolated precursor ion 203.1141 window (203.1131, 203.1151)\n",
      "DEBUG:TopNController:Dynamic exclusion from_mz 203.1131 to_mz 203.1151 from_rt 0.00 to_rt 18.19\n",
      "INFO:TopNController:Received Scan 30 num_peaks=22 rt=4.37 ms_level=1\n",
      "DEBUG:TopNController:Isolated precursor ion 165.1154 window (165.1145, 165.1162)\n",
      "DEBUG:TopNController:Dynamic exclusion from_mz 165.1145 to_mz 165.1162 from_rt 0.00 to_rt 19.37\n",
      "DEBUG:TopNController:Isolated precursor ion 131.9573 window (131.9567, 131.9580)\n",
      "DEBUG:TopNController:Dynamic exclusion from_mz 131.9567 to_mz 131.9580 from_rt 0.00 to_rt 19.37\n",
      "DEBUG:TopNController:Excluded precursor ion mz 203.1140 rt 4.37\n",
      "DEBUG:TopNController:Isolated precursor ion 166.1106 window (166.1098, 166.1114)\n",
      "DEBUG:TopNController:Dynamic exclusion from_mz 166.1098 to_mz 166.1114 from_rt 0.00 to_rt 19.37\n",
      "DEBUG:TopNController:Excluded precursor ion mz 166.1106 rt 4.37\n",
      "INFO:TopNController:Received Scan 34 num_peaks=146 rt=5.00 ms_level=1\n",
      "DEBUG:TopNController:Isolated precursor ion 159.8941 window (159.8933, 159.8949)\n",
      "DEBUG:TopNController:Dynamic exclusion from_mz 159.8933 to_mz 159.8949 from_rt 0.00 to_rt 20.00\n",
      "DEBUG:TopNController:Isolated precursor ion 177.8662 window (177.8653, 177.8671)\n",
      "DEBUG:TopNController:Dynamic exclusion from_mz 177.8653 to_mz 177.8671 from_rt 0.00 to_rt 20.00\n",
      "DEBUG:TopNController:Isolated precursor ion 176.0950 window (176.0942, 176.0959)\n",
      "DEBUG:TopNController:Dynamic exclusion from_mz 176.0942 to_mz 176.0959 from_rt 0.00 to_rt 20.00\n",
      "DEBUG:TopNController:Isolated precursor ion 175.8680 window (175.8671, 175.8688)\n",
      "DEBUG:TopNController:Dynamic exclusion from_mz 175.8671 to_mz 175.8688 from_rt 0.00 to_rt 20.00\n",
      "DEBUG:TopNController:Isolated precursor ion 145.9731 window (145.9724, 145.9739)\n",
      "DEBUG:TopNController:Dynamic exclusion from_mz 145.9724 to_mz 145.9739 from_rt 0.00 to_rt 20.00\n",
      "INFO:TopNController:Received Scan 40 num_peaks=223 rt=5.88 ms_level=1\n",
      "DEBUG:TopNController:Excluded precursor ion mz 159.8941 rt 5.88\n",
      "DEBUG:TopNController:Excluded precursor ion mz 177.8661 rt 5.88\n",
      "DEBUG:TopNController:Excluded precursor ion mz 175.8680 rt 5.88\n",
      "DEBUG:TopNController:Excluded precursor ion mz 176.0949 rt 5.88\n",
      "DEBUG:TopNController:Excluded precursor ion mz 145.9730 rt 5.88\n",
      "INFO:TopNController:Received Scan 41 num_peaks=223 rt=6.01 ms_level=1\n",
      "DEBUG:TopNController:Excluded precursor ion mz 159.8941 rt 6.01\n",
      "DEBUG:TopNController:Excluded precursor ion mz 177.8661 rt 6.01\n",
      "DEBUG:TopNController:Excluded precursor ion mz 175.8680 rt 6.01\n",
      "DEBUG:TopNController:Excluded precursor ion mz 176.0949 rt 6.01\n",
      "DEBUG:TopNController:Excluded precursor ion mz 145.9730 rt 6.01\n",
      "INFO:TopNController:Received Scan 42 num_peaks=223 rt=6.08 ms_level=1\n",
      "DEBUG:TopNController:Excluded precursor ion mz 159.8941 rt 6.08\n",
      "DEBUG:TopNController:Excluded precursor ion mz 177.8661 rt 6.08\n",
      "DEBUG:TopNController:Excluded precursor ion mz 175.8680 rt 6.08\n",
      "DEBUG:TopNController:Excluded precursor ion mz 176.0949 rt 6.08\n",
      "DEBUG:TopNController:Excluded precursor ion mz 145.9730 rt 6.08\n",
      "INFO:TopNController:Received Scan 43 num_peaks=223 rt=6.17 ms_level=1\n",
      "DEBUG:TopNController:Excluded precursor ion mz 159.8941 rt 6.17\n",
      "DEBUG:TopNController:Excluded precursor ion mz 177.8661 rt 6.17\n",
      "DEBUG:TopNController:Excluded precursor ion mz 175.8680 rt 6.17\n",
      "DEBUG:TopNController:Excluded precursor ion mz 176.0949 rt 6.17\n",
      "DEBUG:TopNController:Excluded precursor ion mz 145.9730 rt 6.17\n",
      "INFO:TopNController:Received Scan 44 num_peaks=223 rt=6.25 ms_level=1\n",
      "DEBUG:TopNController:Excluded precursor ion mz 159.8941 rt 6.25\n",
      "DEBUG:TopNController:Excluded precursor ion mz 177.8661 rt 6.25\n",
      "DEBUG:TopNController:Excluded precursor ion mz 175.8680 rt 6.25\n",
      "DEBUG:TopNController:Excluded precursor ion mz 176.0949 rt 6.25\n",
      "DEBUG:TopNController:Isolated precursor ion 198.1620 window (198.1610, 198.1630)\n",
      "DEBUG:TopNController:Dynamic exclusion from_mz 198.1610 to_mz 198.1630 from_rt 0.00 to_rt 21.25\n",
      "INFO:TopNController:Received Scan 46 num_peaks=223 rt=6.46 ms_level=1\n",
      "DEBUG:TopNController:Excluded precursor ion mz 159.8941 rt 6.46\n",
      "DEBUG:TopNController:Excluded precursor ion mz 177.8661 rt 6.46\n",
      "DEBUG:TopNController:Excluded precursor ion mz 175.8680 rt 6.46\n",
      "DEBUG:TopNController:Excluded precursor ion mz 176.0949 rt 6.46\n",
      "DEBUG:TopNController:Excluded precursor ion mz 198.1620 rt 6.46\n",
      "INFO:TopNController:Received Scan 47 num_peaks=223 rt=6.52 ms_level=1\n",
      "DEBUG:TopNController:Excluded precursor ion mz 159.8941 rt 6.52\n",
      "DEBUG:TopNController:Excluded precursor ion mz 177.8661 rt 6.52\n",
      "DEBUG:TopNController:Excluded precursor ion mz 175.8680 rt 6.52\n",
      "DEBUG:TopNController:Excluded precursor ion mz 176.0949 rt 6.52\n",
      "DEBUG:TopNController:Excluded precursor ion mz 198.1620 rt 6.52\n",
      "INFO:TopNController:Received Scan 48 num_peaks=223 rt=6.64 ms_level=1\n",
      "DEBUG:TopNController:Excluded precursor ion mz 159.8941 rt 6.64\n",
      "DEBUG:TopNController:Excluded precursor ion mz 175.8680 rt 6.64\n",
      "DEBUG:TopNController:Excluded precursor ion mz 177.8661 rt 6.64\n",
      "DEBUG:TopNController:Excluded precursor ion mz 176.0949 rt 6.64\n",
      "DEBUG:TopNController:Excluded precursor ion mz 198.1620 rt 6.64\n",
      "INFO:TopNController:Received Scan 49 num_peaks=223 rt=6.71 ms_level=1\n",
      "DEBUG:TopNController:Excluded precursor ion mz 159.8941 rt 6.71\n",
      "DEBUG:TopNController:Excluded precursor ion mz 175.8680 rt 6.71\n",
      "DEBUG:TopNController:Excluded precursor ion mz 177.8661 rt 6.71\n",
      "DEBUG:TopNController:Excluded precursor ion mz 176.0949 rt 6.71\n",
      "DEBUG:TopNController:Excluded precursor ion mz 198.1620 rt 6.71\n",
      "INFO:TopNController:Received Scan 50 num_peaks=223 rt=6.98 ms_level=1\n",
      "DEBUG:TopNController:Excluded precursor ion mz 159.8941 rt 6.98\n",
      "DEBUG:TopNController:Excluded precursor ion mz 175.8680 rt 6.98\n",
      "DEBUG:TopNController:Excluded precursor ion mz 177.8661 rt 6.98\n",
      "DEBUG:TopNController:Excluded precursor ion mz 176.0949 rt 6.98\n",
      "DEBUG:TopNController:Excluded precursor ion mz 198.1620 rt 6.98\n",
      "INFO:TopNController:Received Scan 51 num_peaks=222 rt=7.17 ms_level=1\n",
      "DEBUG:TopNController:Excluded precursor ion mz 159.8941 rt 7.17\n",
      "DEBUG:TopNController:Excluded precursor ion mz 175.8680 rt 7.17\n",
      "DEBUG:TopNController:Excluded precursor ion mz 177.8661 rt 7.17\n",
      "DEBUG:TopNController:Excluded precursor ion mz 176.0949 rt 7.17\n",
      "DEBUG:TopNController:Excluded precursor ion mz 198.1620 rt 7.17\n",
      "INFO:TopNController:Received Scan 52 num_peaks=222 rt=7.24 ms_level=1\n",
      "DEBUG:TopNController:Excluded precursor ion mz 159.8941 rt 7.24\n",
      "DEBUG:TopNController:Excluded precursor ion mz 175.8680 rt 7.24\n",
      "DEBUG:TopNController:Excluded precursor ion mz 177.8661 rt 7.24\n",
      "DEBUG:TopNController:Excluded precursor ion mz 176.0949 rt 7.24\n",
      "DEBUG:TopNController:Excluded precursor ion mz 198.1620 rt 7.24\n",
      "INFO:TopNController:Received Scan 53 num_peaks=234 rt=7.43 ms_level=1\n",
      "DEBUG:TopNController:Excluded precursor ion mz 159.8941 rt 7.43\n",
      "DEBUG:TopNController:Excluded precursor ion mz 175.8680 rt 7.43\n",
      "DEBUG:TopNController:Excluded precursor ion mz 177.8661 rt 7.43\n",
      "DEBUG:TopNController:Excluded precursor ion mz 176.0949 rt 7.43\n",
      "DEBUG:TopNController:Excluded precursor ion mz 198.1620 rt 7.43\n",
      "INFO:TopNController:Received Scan 54 num_peaks=249 rt=7.51 ms_level=1\n",
      "DEBUG:TopNController:Excluded precursor ion mz 159.8941 rt 7.51\n",
      "DEBUG:TopNController:Excluded precursor ion mz 175.8680 rt 7.51\n",
      "DEBUG:TopNController:Excluded precursor ion mz 177.8661 rt 7.51\n",
      "DEBUG:TopNController:Excluded precursor ion mz 176.0949 rt 7.51\n",
      "DEBUG:TopNController:Excluded precursor ion mz 198.1620 rt 7.51\n"
     ]
    },
    {
     "name": "stderr",
     "output_type": "stream",
     "text": [
      "INFO:TopNController:Received Scan 55 num_peaks=249 rt=7.58 ms_level=1\n",
      "DEBUG:TopNController:Excluded precursor ion mz 159.8941 rt 7.58\n",
      "DEBUG:TopNController:Excluded precursor ion mz 175.8680 rt 7.58\n",
      "DEBUG:TopNController:Excluded precursor ion mz 177.8661 rt 7.58\n",
      "DEBUG:TopNController:Excluded precursor ion mz 176.0949 rt 7.58\n",
      "DEBUG:TopNController:Excluded precursor ion mz 198.1620 rt 7.58\n",
      "INFO:TopNController:Received Scan 56 num_peaks=249 rt=7.75 ms_level=1\n",
      "DEBUG:TopNController:Excluded precursor ion mz 159.8941 rt 7.75\n",
      "DEBUG:TopNController:Excluded precursor ion mz 175.8680 rt 7.75\n",
      "DEBUG:TopNController:Excluded precursor ion mz 177.8661 rt 7.75\n",
      "DEBUG:TopNController:Excluded precursor ion mz 176.0949 rt 7.75\n",
      "DEBUG:TopNController:Excluded precursor ion mz 198.1620 rt 7.75\n",
      "INFO:TopNController:Received Scan 57 num_peaks=249 rt=7.83 ms_level=1\n",
      "DEBUG:TopNController:Excluded precursor ion mz 159.8941 rt 7.83\n",
      "DEBUG:TopNController:Excluded precursor ion mz 175.8680 rt 7.83\n",
      "DEBUG:TopNController:Excluded precursor ion mz 177.8661 rt 7.83\n",
      "DEBUG:TopNController:Excluded precursor ion mz 176.0949 rt 7.83\n",
      "DEBUG:TopNController:Excluded precursor ion mz 198.1620 rt 7.83\n",
      "INFO:TopNController:Received Scan 58 num_peaks=249 rt=7.90 ms_level=1\n",
      "DEBUG:TopNController:Excluded precursor ion mz 159.8941 rt 7.90\n",
      "DEBUG:TopNController:Excluded precursor ion mz 175.8680 rt 7.90\n",
      "DEBUG:TopNController:Excluded precursor ion mz 177.8661 rt 7.90\n",
      "DEBUG:TopNController:Excluded precursor ion mz 176.0949 rt 7.90\n",
      "DEBUG:TopNController:Excluded precursor ion mz 198.1620 rt 7.90\n",
      "INFO:TopNController:Received Scan 59 num_peaks=249 rt=7.96 ms_level=1\n",
      "DEBUG:TopNController:Excluded precursor ion mz 159.8941 rt 7.96\n",
      "DEBUG:TopNController:Excluded precursor ion mz 175.8680 rt 7.96\n",
      "DEBUG:TopNController:Excluded precursor ion mz 177.8661 rt 7.96\n",
      "DEBUG:TopNController:Excluded precursor ion mz 176.0949 rt 7.96\n",
      "DEBUG:TopNController:Excluded precursor ion mz 198.1620 rt 7.96\n",
      "INFO:TopNController:Received Scan 60 num_peaks=249 rt=8.03 ms_level=1\n",
      "DEBUG:TopNController:Excluded precursor ion mz 159.8941 rt 8.03\n",
      "DEBUG:TopNController:Excluded precursor ion mz 175.8680 rt 8.03\n",
      "DEBUG:TopNController:Excluded precursor ion mz 177.8661 rt 8.03\n",
      "DEBUG:TopNController:Excluded precursor ion mz 176.0949 rt 8.03\n",
      "DEBUG:TopNController:Excluded precursor ion mz 198.1620 rt 8.03\n",
      "INFO:TopNController:Received Scan 61 num_peaks=249 rt=8.10 ms_level=1\n",
      "DEBUG:TopNController:Excluded precursor ion mz 159.8941 rt 8.10\n",
      "DEBUG:TopNController:Excluded precursor ion mz 175.8680 rt 8.10\n",
      "DEBUG:TopNController:Excluded precursor ion mz 177.8661 rt 8.10\n",
      "DEBUG:TopNController:Excluded precursor ion mz 176.0949 rt 8.10\n",
      "DEBUG:TopNController:Excluded precursor ion mz 198.1620 rt 8.10\n",
      "INFO:TopNController:Received Scan 62 num_peaks=249 rt=8.17 ms_level=1\n",
      "DEBUG:TopNController:Excluded precursor ion mz 159.8941 rt 8.17\n",
      "DEBUG:TopNController:Excluded precursor ion mz 175.8680 rt 8.17\n",
      "DEBUG:TopNController:Excluded precursor ion mz 177.8661 rt 8.17\n",
      "DEBUG:TopNController:Excluded precursor ion mz 176.0949 rt 8.17\n",
      "DEBUG:TopNController:Excluded precursor ion mz 198.1620 rt 8.17\n",
      "INFO:TopNController:Received Scan 63 num_peaks=249 rt=8.23 ms_level=1\n",
      "DEBUG:TopNController:Excluded precursor ion mz 159.8941 rt 8.23\n",
      "DEBUG:TopNController:Excluded precursor ion mz 175.8680 rt 8.23\n",
      "DEBUG:TopNController:Excluded precursor ion mz 177.8661 rt 8.23\n",
      "DEBUG:TopNController:Excluded precursor ion mz 198.1620 rt 8.23\n",
      "DEBUG:TopNController:Excluded precursor ion mz 176.0949 rt 8.23\n",
      "INFO:TopNController:Received Scan 64 num_peaks=249 rt=8.29 ms_level=1\n",
      "DEBUG:TopNController:Excluded precursor ion mz 159.8941 rt 8.29\n",
      "DEBUG:TopNController:Excluded precursor ion mz 175.8680 rt 8.29\n",
      "DEBUG:TopNController:Excluded precursor ion mz 177.8661 rt 8.29\n",
      "DEBUG:TopNController:Excluded precursor ion mz 198.1620 rt 8.29\n",
      "DEBUG:TopNController:Excluded precursor ion mz 176.0949 rt 8.29\n",
      "INFO:TopNController:Received Scan 65 num_peaks=249 rt=8.36 ms_level=1\n",
      "DEBUG:TopNController:Excluded precursor ion mz 159.8941 rt 8.36\n",
      "DEBUG:TopNController:Excluded precursor ion mz 175.8680 rt 8.36\n",
      "DEBUG:TopNController:Excluded precursor ion mz 177.8661 rt 8.36\n",
      "DEBUG:TopNController:Excluded precursor ion mz 198.1620 rt 8.36\n",
      "DEBUG:TopNController:Excluded precursor ion mz 176.0949 rt 8.36\n",
      "INFO:TopNController:Received Scan 66 num_peaks=249 rt=8.47 ms_level=1\n",
      "DEBUG:TopNController:Excluded precursor ion mz 159.8941 rt 8.47\n",
      "DEBUG:TopNController:Excluded precursor ion mz 175.8680 rt 8.47\n",
      "DEBUG:TopNController:Excluded precursor ion mz 177.8661 rt 8.47\n",
      "DEBUG:TopNController:Excluded precursor ion mz 198.1620 rt 8.47\n",
      "DEBUG:TopNController:Excluded precursor ion mz 176.0949 rt 8.47\n",
      "INFO:TopNController:Received Scan 67 num_peaks=249 rt=8.54 ms_level=1\n",
      "DEBUG:TopNController:Excluded precursor ion mz 159.8941 rt 8.54\n",
      "DEBUG:TopNController:Excluded precursor ion mz 175.8680 rt 8.54\n",
      "DEBUG:TopNController:Excluded precursor ion mz 177.8661 rt 8.54\n",
      "DEBUG:TopNController:Excluded precursor ion mz 198.1620 rt 8.54\n",
      "DEBUG:TopNController:Excluded precursor ion mz 176.0949 rt 8.54\n",
      "INFO:TopNController:Received Scan 68 num_peaks=254 rt=8.62 ms_level=1\n",
      "DEBUG:TopNController:Excluded precursor ion mz 159.8941 rt 8.62\n",
      "DEBUG:TopNController:Excluded precursor ion mz 175.8680 rt 8.62\n",
      "DEBUG:TopNController:Excluded precursor ion mz 177.8661 rt 8.62\n",
      "DEBUG:TopNController:Excluded precursor ion mz 198.1620 rt 8.62\n",
      "DEBUG:TopNController:Excluded precursor ion mz 176.0949 rt 8.62\n",
      "INFO:TopNController:Received Scan 69 num_peaks=270 rt=8.93 ms_level=1\n",
      "DEBUG:TopNController:Excluded precursor ion mz 159.8941 rt 8.93\n",
      "DEBUG:TopNController:Excluded precursor ion mz 175.8680 rt 8.93\n",
      "DEBUG:TopNController:Excluded precursor ion mz 177.8661 rt 8.93\n",
      "DEBUG:TopNController:Excluded precursor ion mz 198.1620 rt 8.93\n",
      "DEBUG:TopNController:Excluded precursor ion mz 176.0949 rt 8.93\n",
      "INFO:TopNController:Received Scan 70 num_peaks=270 rt=9.25 ms_level=1\n",
      "DEBUG:TopNController:Excluded precursor ion mz 159.8941 rt 9.25\n",
      "DEBUG:TopNController:Excluded precursor ion mz 175.8680 rt 9.25\n",
      "DEBUG:TopNController:Excluded precursor ion mz 177.8661 rt 9.25\n",
      "DEBUG:TopNController:Excluded precursor ion mz 198.1620 rt 9.25\n",
      "DEBUG:TopNController:Excluded precursor ion mz 176.0949 rt 9.25\n",
      "INFO:TopNController:Received Scan 71 num_peaks=270 rt=9.45 ms_level=1\n",
      "DEBUG:TopNController:Excluded precursor ion mz 159.8941 rt 9.45\n",
      "DEBUG:TopNController:Excluded precursor ion mz 175.8680 rt 9.45\n",
      "DEBUG:TopNController:Excluded precursor ion mz 177.8661 rt 9.45\n",
      "DEBUG:TopNController:Excluded precursor ion mz 198.1620 rt 9.45\n",
      "DEBUG:TopNController:Excluded precursor ion mz 176.0949 rt 9.45\n",
      "INFO:TopNController:Received Scan 72 num_peaks=270 rt=9.51 ms_level=1\n",
      "DEBUG:TopNController:Excluded precursor ion mz 159.8941 rt 9.51\n",
      "DEBUG:TopNController:Excluded precursor ion mz 175.8680 rt 9.51\n",
      "DEBUG:TopNController:Excluded precursor ion mz 177.8661 rt 9.51\n",
      "DEBUG:TopNController:Excluded precursor ion mz 198.1620 rt 9.51\n",
      "DEBUG:TopNController:Excluded precursor ion mz 176.0949 rt 9.51\n",
      "INFO:TopNController:Received Scan 73 num_peaks=270 rt=9.61 ms_level=1\n",
      "DEBUG:TopNController:Excluded precursor ion mz 159.8941 rt 9.61\n",
      "DEBUG:TopNController:Excluded precursor ion mz 175.8680 rt 9.61\n",
      "DEBUG:TopNController:Excluded precursor ion mz 177.8661 rt 9.61\n",
      "DEBUG:TopNController:Excluded precursor ion mz 198.1620 rt 9.61\n",
      "DEBUG:TopNController:Excluded precursor ion mz 176.0949 rt 9.61\n",
      "INFO:TopNController:Received Scan 74 num_peaks=270 rt=9.69 ms_level=1\n",
      "DEBUG:TopNController:Excluded precursor ion mz 159.8941 rt 9.69\n",
      "DEBUG:TopNController:Excluded precursor ion mz 175.8680 rt 9.69\n",
      "DEBUG:TopNController:Excluded precursor ion mz 177.8661 rt 9.69\n",
      "DEBUG:TopNController:Excluded precursor ion mz 198.1620 rt 9.69\n",
      "DEBUG:TopNController:Excluded precursor ion mz 176.0949 rt 9.69\n",
      "INFO:TopNController:Received Scan 75 num_peaks=270 rt=9.77 ms_level=1\n",
      "DEBUG:TopNController:Excluded precursor ion mz 159.8941 rt 9.77\n",
      "DEBUG:TopNController:Excluded precursor ion mz 175.8680 rt 9.77\n",
      "DEBUG:TopNController:Excluded precursor ion mz 177.8661 rt 9.77\n",
      "DEBUG:TopNController:Excluded precursor ion mz 198.1620 rt 9.77\n",
      "DEBUG:TopNController:Excluded precursor ion mz 176.0949 rt 9.77\n",
      "INFO:TopNController:Received Scan 76 num_peaks=277 rt=9.85 ms_level=1\n"
     ]
    },
    {
     "name": "stderr",
     "output_type": "stream",
     "text": [
      "DEBUG:TopNController:Excluded precursor ion mz 159.8941 rt 9.85\n",
      "DEBUG:TopNController:Excluded precursor ion mz 175.8680 rt 9.85\n",
      "DEBUG:TopNController:Excluded precursor ion mz 177.8661 rt 9.85\n",
      "DEBUG:TopNController:Excluded precursor ion mz 198.1620 rt 9.85\n",
      "DEBUG:TopNController:Excluded precursor ion mz 176.0949 rt 9.85\n",
      "INFO:TopNController:Received Scan 77 num_peaks=278 rt=9.97 ms_level=1\n",
      "DEBUG:TopNController:Excluded precursor ion mz 159.8941 rt 9.97\n",
      "DEBUG:TopNController:Excluded precursor ion mz 175.8680 rt 9.97\n",
      "DEBUG:TopNController:Excluded precursor ion mz 177.8661 rt 9.97\n",
      "DEBUG:TopNController:Excluded precursor ion mz 198.1620 rt 9.97\n",
      "DEBUG:TopNController:Excluded precursor ion mz 176.0949 rt 9.97\n",
      "INFO:TopNController:Acquisition closing\n"
     ]
    }
   ],
   "source": [
    "mass_spec = IndependentMassSpectrometer(POSITIVE, cc.chemicals, density=ps.density_estimator)\n",
    "controller = TopNController(mass_spec, N, mz_tol, rt_tol, min_ms2_intensity=min_ms2_intensity)\n",
    "\n",
    "# set_log_level_info()\n",
    "# controller.make_plot = False\n",
    "\n",
    "set_log_level_debug()\n",
    "controller.make_plot = True\n",
    "\n",
    "controller.run(max_rt)"
   ]
  },
  {
   "cell_type": "code",
   "execution_count": null,
   "metadata": {},
   "outputs": [],
   "source": []
  }
 ],
 "metadata": {
  "kernelspec": {
   "display_name": "Python 3",
   "language": "python",
   "name": "python3"
  },
  "language_info": {
   "codemirror_mode": {
    "name": "ipython",
    "version": 3
   },
   "file_extension": ".py",
   "mimetype": "text/x-python",
   "name": "python",
   "nbconvert_exporter": "python",
   "pygments_lexer": "ipython3",
   "version": "3.6.6"
  }
 },
 "nbformat": 4,
 "nbformat_minor": 2
}
