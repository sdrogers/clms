{
 "cells": [
  {
   "cell_type": "code",
   "execution_count": 1,
   "metadata": {},
   "outputs": [],
   "source": [
    "%load_ext autoreload\n",
    "%autoreload 2"
   ]
  },
  {
   "cell_type": "code",
   "execution_count": 2,
   "metadata": {},
   "outputs": [],
   "source": [
    "import numpy as np\n",
    "import random\n",
    "import matplotlib.pyplot as plt\n",
    "import sys"
   ]
  },
  {
   "cell_type": "code",
   "execution_count": 3,
   "metadata": {},
   "outputs": [],
   "source": [
    "sys.path.append('../codes')"
   ]
  },
  {
   "cell_type": "code",
   "execution_count": 4,
   "metadata": {},
   "outputs": [],
   "source": [
    "from VMSfunctions.VMS import *\n",
    "from VMSfunctions.Common import Peak"
   ]
  },
  {
   "cell_type": "markdown",
   "metadata": {},
   "source": [
    "# Generate fake Peaks"
   ]
  },
  {
   "cell_type": "code",
   "execution_count": 5,
   "metadata": {},
   "outputs": [],
   "source": [
    "from VMSfunctions.Common import load_obj\n",
    "from VMSfunctions.DataGenerator import PeakSampler"
   ]
  },
  {
   "cell_type": "code",
   "execution_count": 30,
   "metadata": {},
   "outputs": [],
   "source": [
    "m = Sample_Dataset('../../../beer_data/peak_sampler_4_beers.p',50)"
   ]
  },
  {
   "cell_type": "markdown",
   "metadata": {},
   "source": [
    "# Scanning Methods"
   ]
  },
  {
   "cell_type": "code",
   "execution_count": 7,
   "metadata": {},
   "outputs": [],
   "source": [
    "class Dataset_Scan(object):\n",
    "    def __init__(self,dataset,ms1_window_range,rt,ms_level):\n",
    "        if ms_level == 2:\n",
    "            self.scan_result = [None] * len(dataset.ms1_names)\n",
    "            for dataset_index in range(0,len(dataset.peaks)):\n",
    "                if dataset.peaks[dataset_index].ms_level==2: # this needs changing to be MS1 as MS2 wouldnt be known\n",
    "                    dataset.peaks[dataset_index].get(ms_level,rt,ms1_window_range)\n",
    "                    self.scan_result[dataset.ms2_names.index(dataset.peaks[dataset_index])] = dataset.peaks[dataset_index].in_range\n",
    "        else:\n",
    "            print(\"this doesn't work yet!\")"
   ]
  },
  {
   "cell_type": "code",
   "execution_count": 34,
   "metadata": {},
   "outputs": [],
   "source": [
    "import math\n",
    "class Dia_Basic(object):\n",
    "    def __init__(self,dataset,num_windows,window_type,ms1_range=[[None],[None]],range_slack=0.01):\n",
    "        self.locations = []\n",
    "        self.scan_results = []\n",
    "        # if no ms1_range provided, initialise the scan range from dataset\n",
    "        if ms1_range==[[None],[None]]:\n",
    "            ms1_range_difference = dataset.ms1_range[1][0] - dataset.ms1_range[0][0]\n",
    "            ms1_range = [[dataset.ms1_range[0][0] - range_slack*ms1_range_difference],[dataset.ms1_range[1][0] + range_slack*ms1_range_difference]]\n",
    "        else:\n",
    "            ms1_range_difference = ms1_range[1][0] - ms1_range[0][0] \n",
    "        # Look at whether components are within the different isolation windows\n",
    "        if window_type==\"even\":\n",
    "            for window_index in range(0,num_windows):\n",
    "                ms1_window_range = [[ms1_range[0][0] + window_index*((ms1_range_difference * (1 + 2*range_slack))/num_windows)],[ms1_range[0][0] + (window_index+1)*((ms1_range_difference * (1 + 2*range_slack))/num_windows)]]\n",
    "                self.locations.append(ms1_window_range)\n",
    "                self.scan_results.append(Dataset_Scan(dataset,ms1_window_range,0,2).scan_result)\n",
    "        elif window_type==\"percentile\":\n",
    "            dataset.ms1_values()\n",
    "            adjusted_percentiles = np.percentile(dataset.ms1_values,range(0,100 + int(100/num_windows),int(100/num_windows))).tolist()\n",
    "            adjusted_percentiles[0] = adjusted_percentiles[0] - range_slack*ms1_range_difference\n",
    "            adjusted_percentiles[-1] = adjusted_percentiles[-1] + range_slack*ms1_range_difference\n",
    "            for window_index in range(0,num_windows):\n",
    "                ms1_window_range = [[adjusted_percentiles[window_index]],[adjusted_percentiles[window_index+1]]]\n",
    "                self.locations.append(ms1_window_range)\n",
    "                self.scan_results.append(Dataset_Scan(dataset,ms1_window_range,0,2).scan_result)\n",
    "        else:\n",
    "            sys.exit(\"Incorrect window_type specified\")\n",
    "        self.ms1_names = dataset.ms1_names\n",
    "        self.ms2_names = dataset.ms2_names\n",
    "        \n",
    "    def bin_walls(self):\n",
    "        self.bin_walls = list(set(sum(sum(d1.locations,[]),[])))\n",
    "    \n",
    "    def location_all(self):\n",
    "        self.location_all = []\n",
    "        for i in range(0,len(self.ms1_names)):\n",
    "            found=False\n",
    "            j=0\n",
    "            while found==False:\n",
    "                if self.scan_results[j][i]==1:\n",
    "                    self.location_all.append(self.locations[j])\n",
    "                    found=True\n",
    "                else:\n",
    "                    j+=1  \n",
    "            \n",
    "    def entropy(self):\n",
    "        self.location_all()\n",
    "        entropy_vec = []\n",
    "        for i in range(0,len(self.locations)):\n",
    "            entropy_vec.extend([0])\n",
    "            for j in range(0,len(self.ms1_names)):\n",
    "                if self.locations[i]==self.location_all[j]:\n",
    "                    entropy_vec[i] +=1\n",
    "        entropy_vec_nozero = [value for value in entropy_vec if value != 0]\n",
    "        self.entropy = sum([math.log(y) for y in entropy_vec_nozero])\n",
    "        self.entropy_vec = entropy_vec"
   ]
  },
  {
   "cell_type": "code",
   "execution_count": 35,
   "metadata": {},
   "outputs": [
    {
     "ename": "TypeError",
     "evalue": "'list' object is not callable",
     "output_type": "error",
     "traceback": [
      "\u001b[1;31m---------------------------------------------------------------------------\u001b[0m",
      "\u001b[1;31mTypeError\u001b[0m                                 Traceback (most recent call last)",
      "\u001b[1;32m<ipython-input-35-71bf39cb16f3>\u001b[0m in \u001b[0;36m<module>\u001b[1;34m\u001b[0m\n\u001b[0;32m      1\u001b[0m \u001b[0md1\u001b[0m \u001b[1;33m=\u001b[0m \u001b[0mDia_Basic\u001b[0m\u001b[1;33m(\u001b[0m\u001b[0mm\u001b[0m\u001b[1;33m,\u001b[0m\u001b[1;36m10\u001b[0m\u001b[1;33m,\u001b[0m\u001b[1;34m\"even\"\u001b[0m\u001b[1;33m)\u001b[0m\u001b[1;33m\u001b[0m\u001b[0m\n\u001b[0;32m      2\u001b[0m \u001b[0md1\u001b[0m\u001b[1;33m.\u001b[0m\u001b[0mentropy\u001b[0m\u001b[1;33m(\u001b[0m\u001b[1;33m)\u001b[0m\u001b[1;33m\u001b[0m\u001b[0m\n\u001b[1;32m----> 3\u001b[1;33m \u001b[0md2\u001b[0m \u001b[1;33m=\u001b[0m \u001b[0mDia_Basic\u001b[0m\u001b[1;33m(\u001b[0m\u001b[0mm\u001b[0m\u001b[1;33m,\u001b[0m\u001b[1;36m10\u001b[0m\u001b[1;33m,\u001b[0m\u001b[1;34m\"percentile\"\u001b[0m\u001b[1;33m)\u001b[0m\u001b[1;33m\u001b[0m\u001b[0m\n\u001b[0m\u001b[0;32m      4\u001b[0m \u001b[0md2\u001b[0m\u001b[1;33m.\u001b[0m\u001b[0mentropy\u001b[0m\u001b[1;33m(\u001b[0m\u001b[1;33m)\u001b[0m\u001b[1;33m\u001b[0m\u001b[0m\n\u001b[0;32m      5\u001b[0m \u001b[0mprint\u001b[0m\u001b[1;33m(\u001b[0m\u001b[0md1\u001b[0m\u001b[1;33m.\u001b[0m\u001b[0mentropy_vec\u001b[0m\u001b[1;33m)\u001b[0m\u001b[1;33m\u001b[0m\u001b[0m\n",
      "\u001b[1;32m<ipython-input-34-719c5b39c5c2>\u001b[0m in \u001b[0;36m__init__\u001b[1;34m(self, dataset, num_windows, window_type, ms1_range, range_slack)\u001b[0m\n\u001b[0;32m     17\u001b[0m                 \u001b[0mself\u001b[0m\u001b[1;33m.\u001b[0m\u001b[0mscan_results\u001b[0m\u001b[1;33m.\u001b[0m\u001b[0mappend\u001b[0m\u001b[1;33m(\u001b[0m\u001b[0mDataset_Scan\u001b[0m\u001b[1;33m(\u001b[0m\u001b[0mdataset\u001b[0m\u001b[1;33m,\u001b[0m\u001b[0mms1_window_range\u001b[0m\u001b[1;33m,\u001b[0m\u001b[1;36m0\u001b[0m\u001b[1;33m,\u001b[0m\u001b[1;36m2\u001b[0m\u001b[1;33m)\u001b[0m\u001b[1;33m.\u001b[0m\u001b[0mscan_result\u001b[0m\u001b[1;33m)\u001b[0m\u001b[1;33m\u001b[0m\u001b[0m\n\u001b[0;32m     18\u001b[0m         \u001b[1;32melif\u001b[0m \u001b[0mwindow_type\u001b[0m\u001b[1;33m==\u001b[0m\u001b[1;34m\"percentile\"\u001b[0m\u001b[1;33m:\u001b[0m\u001b[1;33m\u001b[0m\u001b[0m\n\u001b[1;32m---> 19\u001b[1;33m             \u001b[0mdataset\u001b[0m\u001b[1;33m.\u001b[0m\u001b[0mms1_values\u001b[0m\u001b[1;33m(\u001b[0m\u001b[1;33m)\u001b[0m\u001b[1;33m\u001b[0m\u001b[0m\n\u001b[0m\u001b[0;32m     20\u001b[0m             \u001b[0madjusted_percentiles\u001b[0m \u001b[1;33m=\u001b[0m \u001b[0mnp\u001b[0m\u001b[1;33m.\u001b[0m\u001b[0mpercentile\u001b[0m\u001b[1;33m(\u001b[0m\u001b[0mdataset\u001b[0m\u001b[1;33m.\u001b[0m\u001b[0mms1_values\u001b[0m\u001b[1;33m,\u001b[0m\u001b[0mrange\u001b[0m\u001b[1;33m(\u001b[0m\u001b[1;36m0\u001b[0m\u001b[1;33m,\u001b[0m\u001b[1;36m100\u001b[0m \u001b[1;33m+\u001b[0m \u001b[0mint\u001b[0m\u001b[1;33m(\u001b[0m\u001b[1;36m100\u001b[0m\u001b[1;33m/\u001b[0m\u001b[0mnum_windows\u001b[0m\u001b[1;33m)\u001b[0m\u001b[1;33m,\u001b[0m\u001b[0mint\u001b[0m\u001b[1;33m(\u001b[0m\u001b[1;36m100\u001b[0m\u001b[1;33m/\u001b[0m\u001b[0mnum_windows\u001b[0m\u001b[1;33m)\u001b[0m\u001b[1;33m)\u001b[0m\u001b[1;33m)\u001b[0m\u001b[1;33m.\u001b[0m\u001b[0mtolist\u001b[0m\u001b[1;33m(\u001b[0m\u001b[1;33m)\u001b[0m\u001b[1;33m\u001b[0m\u001b[0m\n\u001b[0;32m     21\u001b[0m             \u001b[0madjusted_percentiles\u001b[0m\u001b[1;33m[\u001b[0m\u001b[1;36m0\u001b[0m\u001b[1;33m]\u001b[0m \u001b[1;33m=\u001b[0m \u001b[0madjusted_percentiles\u001b[0m\u001b[1;33m[\u001b[0m\u001b[1;36m0\u001b[0m\u001b[1;33m]\u001b[0m \u001b[1;33m-\u001b[0m \u001b[0mrange_slack\u001b[0m\u001b[1;33m*\u001b[0m\u001b[0mms1_range_difference\u001b[0m\u001b[1;33m\u001b[0m\u001b[0m\n",
      "\u001b[1;31mTypeError\u001b[0m: 'list' object is not callable"
     ]
    }
   ],
   "source": [
    "d1 = Dia_Basic(m,10,\"even\")\n",
    "d1.entropy()\n",
    "d2 = Dia_Basic(m,10,\"percentile\")\n",
    "d2.entropy()\n",
    "print(d1.entropy_vec)\n",
    "print(d2.entropy_vec)\n",
    "print(d1.entropy)\n",
    "print(d2.entropy)\n"
   ]
  },
  {
   "cell_type": "code",
   "execution_count": 25,
   "metadata": {},
   "outputs": [
    {
     "data": {
      "image/png": "[encoded data removed]",
      "text/plain": [
       "<Figure size 1440x720 with 1 Axes>"
      ]
     },
     "metadata": {
      "needs_background": "light"
     },
     "output_type": "display_data"
    }
   ],
   "source": [
    "test1_result = []\n",
    "test2_result = []\n",
    "test3_result = []\n",
    "test4_result = []\n",
    "test5_result = []\n",
    "test6_result = []\n",
    "\n",
    "for i in range(0,100):\n",
    "    Data_test1=Sample_Dataset('../../../beer_data/peak_sampler_4_beers.p',10)\n",
    "    Data_test2=Sample_Dataset('../../../beer_data/peak_sampler_4_beers.p',50)\n",
    "    Data_test3=Sample_Dataset('../../../beer_data/peak_sampler_4_beers.p',100)\n",
    "    test1=Dia_Basic(Data_test1,10,\"even\")\n",
    "    test2=Dia_Basic(Data_test1,10,\"percentile\")\n",
    "    test3=Dia_Basic(Data_test2,10,\"even\")\n",
    "    test4=Dia_Basic(Data_test2,10,\"percentile\")\n",
    "    test5=Dia_Basic(Data_test3,10,\"even\")\n",
    "    test6=Dia_Basic(Data_test3,10,\"percentile\")\n",
    "    test1.entropy()\n",
    "    test2.entropy()\n",
    "    test3.entropy()\n",
    "    test4.entropy()\n",
    "    test5.entropy()\n",
    "    test6.entropy()\n",
    "    test1_result.append(math.log(test1.entropy+1))\n",
    "    test2_result.append(math.log(test2.entropy+1))\n",
    "    test3_result.append(math.log(test3.entropy+1))\n",
    "    test4_result.append(math.log(test4.entropy+1))\n",
    "    test5_result.append(math.log(test5.entropy+1))\n",
    "    test6_result.append(math.log(test6.entropy+1))\n",
    "    \n",
    "test_result = [test1_result,test2_result,test3_result,test4_result,test5_result,test6_result]\n",
    "\n",
    "plt.figure(figsize=(20,10))\n",
    "plt.axvline(x=2.5,color='k')\n",
    "plt.axvline(x=4.5,color='k')\n",
    "plt.boxplot(test_result)\n",
    "plt.ylabel(\"log(Entropy+1)\")\n",
    "plt.title(\"Basic Design\")\n",
    "plt.xticks([1,2,3,4,5,6],[\"Original 10\",\"Percentile 10\",\"Original 50\",\"Percentile 50\",\"Original 100\",\"Percentile 100\"])\n",
    "plt.show()"
   ]
  },
  {
   "cell_type": "code",
   "execution_count": null,
   "metadata": {},
   "outputs": [],
   "source": []
  }
 ],
 "metadata": {
  "kernelspec": {
   "display_name": "Python 3",
   "language": "python",
   "name": "python3"
  },
  "language_info": {
   "codemirror_mode": {
    "name": "ipython",
    "version": 3
   },
   "file_extension": ".py",
   "mimetype": "text/x-python",
   "name": "python",
   "nbconvert_exporter": "python",
   "pygments_lexer": "ipython3",
   "version": "3.6.6"
  }
 },
 "nbformat": 4,
 "nbformat_minor": 2
}
