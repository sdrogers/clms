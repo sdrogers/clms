{
 "cells": [
  {
   "cell_type": "code",
   "execution_count": 1,
   "metadata": {},
   "outputs": [],
   "source": [
    "%load_ext autoreload\n",
    "%autoreload 2"
   ]
  },
  {
   "cell_type": "code",
   "execution_count": 2,
   "metadata": {},
   "outputs": [],
   "source": [
    "import numpy as np\n",
    "import random\n",
    "import matplotlib.pyplot as plt\n",
    "import sys"
   ]
  },
  {
   "cell_type": "code",
   "execution_count": 3,
   "metadata": {},
   "outputs": [],
   "source": [
    "sys.path.append('../codes')"
   ]
  },
  {
   "cell_type": "code",
   "execution_count": 5,
   "metadata": {},
   "outputs": [],
   "source": [
    "from VMSfunctions.VMS import *\n",
    "from VMSfunctions.Common import Peak"
   ]
  },
  {
   "cell_type": "code",
   "execution_count": 282,
   "metadata": {},
   "outputs": [],
   "source": [
    "class MS_Data(object):\n",
    "  def __init__(self,dataset,rt):\n",
    "    self.mz_ms1 = []\n",
    "    self.intensity_ms1 = []\n",
    "    self.mz_ms2 = []\n",
    "    self.intensity_ms2 = []\n",
    "    self.ms1_object = []\n",
    "    for i in range(0,len(dataset)):\n",
    "        if(dataset[i].rt==rt):\n",
    "            if(dataset[i].ms_level==1):\n",
    "                if(dataset[i] in self.ms1_object):\n",
    "                    self.mz_ms1[self.ms1_object.index(dataset[i])] = dataset[i].mz\n",
    "                    self.intensity_ms1[self.ms1_object.index(dataset[i])] = dataset[i].intensity\n",
    "                else:\n",
    "                    self.mz_ms1.append(dataset[i].mz)\n",
    "                    self.intensity_ms1.append(dataset[i].intensity)\n",
    "                    self.mz_ms2.append(None)\n",
    "                    self.intensity_ms2.append(None)\n",
    "                    self.ms1_object.append(dataset[i]) \n",
    "            else:\n",
    "                if(dataset[i].parent in self.ms1_object):\n",
    "                    self.mz_ms2[self.ms1_object.index(dataset[i].parent)] = dataset[i].mz\n",
    "                    self.intensity_ms2[self.ms1_object.index(dataset[i].parent)] = dataset[i].intensity\n",
    "                else:\n",
    "                    self.mz_ms1.append(None)\n",
    "                    self.intensity_ms1.append(None)\n",
    "                    self.mz_ms2.append(dataset[i].mz)\n",
    "                    self.intensity_ms2.append(dataset[i].intensity)\n",
    "                    self.ms1_object.append(dataset[i].parent) \n",
    "                    \n",
    "  def MS_Plot(self,MS_type,Index=None,width=1,xlabel=0,ylabel=0,title=0,ylim=0,xlim=0,colours=None):\n",
    "    MSplot(MS_type,self.mz_ms1,self.intensity_ms1,self.mz_ms2,self.intensity_ms2,index=Index,width=1,xlabel=0,ylabel=0,title=0,ylim=0,xlim=0,colours=None)   \n",
    "\n",
    "  def MS_Scan(self,range_min,range_max,plot=False,colour=False):\n",
    "    which_in_range = np.zeros(len(self.mz_ms1))\n",
    "    for i in range(0,len(range_min)):\n",
    "        which_in_range = np.add(which_in_range,np.concatenate(((np.array(self.mz_ms1)<=range_max[i]) & (np.array(self.mz_ms1)>range_min[i]))*1))\n",
    "    which_in_range2 = np.array(which_in_range)==1\n",
    "    mylist=np.array(range(0,len(self.mz_ms1)))[which_in_range2]\n",
    "    mz_ms2_list = [self.mz_ms2[i] for i in mylist]\n",
    "    intensity_ms2_list = [self.intensity_ms2[i] for i in mylist]\n",
    "    return([mz_ms2_list,intensity_ms2_list])\n",
    "    # NEED TO RETURN AN OBJECT HERE SOMEHOW???\n",
    "\n",
    "\n",
    "    #if plot==True:\n",
    "    #    intensity_ms2_list = [x for _,x in sorted(zip(mz_ms2_list,intensity_ms2_list))]\n",
    "    #    mz_ms2_list.sort()\n",
    "    #    if colour==True:\n",
    "    #        available_colours=[\"b\",\"g\",\"r\",\"c\",\"m\",\"y\",\"k\"]\n",
    "    #        colours=[]\n",
    "    #        for i in range(0,len(mz_ms2_list)):\n",
    "    #            colours.append([available_colours[i%7]]*len(mz_ms2_list[i]))\n",
    "    #        colours = sum(colours,[])\n",
    "    #        MSplot(MStype=\"MS2\",Data_mz_MS2=[sum(mz_ms2_list,[])],Data_intensity_ms2=[sum(intensity_ms2_list,[])],index=0,colours=colours)\n",
    "    #    else:\n",
    "    #        MSplot(MStype=\"MS2\",Data_mz_MS2=[sum(mz_ms2_list,[])],Data_intensity_ms2=[sum(intensity_ms2_list,[])],index=0)\n",
    "\n",
    "  def MS_MultiScan(self,scan_bottom_initial,scan_top_initial,scan_bottom_secondary,scan_top_secondary):\n",
    "    scans = []\n",
    "    scan_location = []\n",
    "    scan_result = [[] for e in range(0,len(scan_bottom_initial))] \n",
    "    for i in range(0,len(scan_bottom_initial)):\n",
    "        which_in_range = np.zeros(len(self.mz_ms1))\n",
    "        for j in range(0,len(scan_bottom_initial[i])):\n",
    "            which_in_range = np.add(which_in_range,np.concatenate(((np.array(self.mz_ms1)<=scan_top_initial[i][j]) & (np.array(self.mz_ms1)>scan_bottom_initial[i][j]))*1))\n",
    "        which_in_range2 = np.array(which_in_range)==1\n",
    "        mylist=np.array(range(0,len(self.mz_ms1)))[which_in_range2]\n",
    "        mz_ms2_list = [self.mz_ms2[i] for i in mylist]\n",
    "        scans.extend(sum(mz_ms2_list,[]))\n",
    "        scan_location.append(sum([scan_bottom_initial[i],scan_top_initial[i]],[]))\n",
    "        for j in range(0,len(scan_bottom_initial)):\n",
    "            if j==i:\n",
    "                scan_result[j].extend([1]*len(sum(mz_ms2_list,[])))\n",
    "            else:\n",
    "                scan_result[j].extend([0]*len(sum(mz_ms2_list,[])))\n",
    "    if len(set(scans))!=len(scans):\n",
    "        sys.exit(\"An area has been scanned twice in the initial set up phase\")\n",
    "\n",
    "    for i in range(0,len(scan_bottom_secondary)):\n",
    "        which_in_range = np.zeros(len(self.mz_ms1))\n",
    "        for j in range(0,len(scan_bottom_secondary[i])):\n",
    "            which_in_range = np.add(which_in_range,np.concatenate(((np.array(self.mz_ms1)<=scan_top_secondary[i][j]) & (np.array(self.mz_ms1)>scan_bottom_secondary[i][j]))*1))\n",
    "        which_in_range2 = np.array(which_in_range)==1\n",
    "        mylist=np.array(range(0,len(self.mz_ms1)))[which_in_range2]\n",
    "        mz_ms2_list = [self.mz_ms2[i] for i in mylist]\n",
    "        if len(scan_bottom_secondary[i])==1:\n",
    "            scan_location.append(sum([scan_bottom_secondary[i],scan_top_secondary[i]],[]))\n",
    "        else:\n",
    "            scan_location.append([scan_bottom_secondary[i],scan_top_secondary[i]])\n",
    "        ms2_s = sum(mz_ms2_list,[])\n",
    "        s_scan = [None]*len(scans)\n",
    "        for j in range(0,len(scans)):\n",
    "            if scans[j] in sum(mz_ms2_list,[]):\n",
    "                s_scan[j]=1\n",
    "            else:\n",
    "                s_scan[j]=0\n",
    "        scan_result.extend([s_scan])\n",
    "    scans=[scans]\n",
    "    scans.extend(scan_result)\n",
    "    return({'Scan Results':scans, 'Scan Locations':scan_location})"
   ]
  },
  {
   "cell_type": "markdown",
   "metadata": {},
   "source": [
    "# Generate fake Peaks"
   ]
  },
  {
   "cell_type": "code",
   "execution_count": 9,
   "metadata": {},
   "outputs": [],
   "source": [
    "Dataset=[]\n",
    "for i in range(0,10):\n",
    "    Dataset.append(Peak(np.random.normal(300,50,1).tolist(), 1, 1000, 1,None))\n",
    "    Dataset.append(Peak(np.random.normal(200,20,3).tolist(), 1, [1000,1000,1000], 2, Dataset[2*i]))"
   ]
  },
  {
   "cell_type": "code",
   "execution_count": 10,
   "metadata": {},
   "outputs": [],
   "source": [
    "p = MS_Data(Dataset,1)"
   ]
  },
  {
   "cell_type": "markdown",
   "metadata": {},
   "source": [
    "# Generate some Plots and Scans"
   ]
  },
  {
   "cell_type": "code",
   "execution_count": 11,
   "metadata": {},
   "outputs": [
    {
     "data": {
      "text/plain": [
       "[[316.9557438533929],\n",
       " [358.69069907736906],\n",
       " [217.87485679816274],\n",
       " [245.42142911055973],\n",
       " [318.70289202841275],\n",
       " [349.8739016195877],\n",
       " [302.82577186550003],\n",
       " [340.4516917559482],\n",
       " [215.37904584950502],\n",
       " [260.3703150932511]]"
      ]
     },
     "execution_count": 11,
     "metadata": {},
     "output_type": "execute_result"
    }
   ],
   "source": [
    "p.MS_Scan([200],[250],plot=True,colour=True)\n",
    "\n",
    "p.mz_ms1"
   ]
  },
  {
   "cell_type": "code",
   "execution_count": 12,
   "metadata": {},
   "outputs": [
    {
     "data": {
      "text/plain": [
       "[[200, 400], [200, 250], [250, 300], [300, 350], [350, 400]]"
      ]
     },
     "execution_count": 12,
     "metadata": {},
     "output_type": "execute_result"
    }
   ],
   "source": [
    "p.MS_MultiScan([[200]],[[400]],[[200],[250],[300],[350]],[[250],[300],[350],[400]])[\"Scan Locations\"]\n"
   ]
  },
  {
   "cell_type": "markdown",
   "metadata": {},
   "source": [
    "# Scanning Methods"
   ]
  },
  {
   "cell_type": "code",
   "execution_count": 292,
   "metadata": {},
   "outputs": [],
   "source": [
    "from VMSfunctions.MSbasicDIA import *"
   ]
  },
  {
   "cell_type": "code",
   "execution_count": 293,
   "metadata": {},
   "outputs": [
    {
     "ename": "NameError",
     "evalue": "name 'MSentropy' is not defined",
     "output_type": "error",
     "traceback": [
      "\u001b[1;31m---------------------------------------------------------------------------\u001b[0m",
      "\u001b[1;31mNameError\u001b[0m                                 Traceback (most recent call last)",
      "\u001b[1;32m<ipython-input-293-16b750c75b25>\u001b[0m in \u001b[0;36m<module>\u001b[1;34m\u001b[0m\n\u001b[1;32m----> 1\u001b[1;33m \u001b[0mMSbasicDIA\u001b[0m\u001b[1;33m(\u001b[0m\u001b[0mp\u001b[0m\u001b[1;33m,\u001b[0m\u001b[1;36m200\u001b[0m\u001b[1;33m,\u001b[0m\u001b[1;36m400\u001b[0m\u001b[1;33m,\u001b[0m\u001b[1;36m8\u001b[0m\u001b[1;33m)\u001b[0m\u001b[1;33m\u001b[0m\u001b[0m\n\u001b[0m",
      "\u001b[1;32m~\\work\\clms\\Simulator\\codes\\VMSfunctions\\MSbasicDIA.py\u001b[0m in \u001b[0;36mMSbasicDIA\u001b[1;34m(Data, MS1_range_bottom, MS1_range_top, num_windows, window_type)\u001b[0m\n\u001b[0;32m     38\u001b[0m                 \u001b[0mj\u001b[0m\u001b[1;33m+=\u001b[0m\u001b[1;36m1\u001b[0m\u001b[1;33m\u001b[0m\u001b[0m\n\u001b[0;32m     39\u001b[0m     \u001b[1;31m# calculate entropy\u001b[0m\u001b[1;33m\u001b[0m\u001b[1;33m\u001b[0m\u001b[0m\n\u001b[1;32m---> 40\u001b[1;33m     \u001b[0mentropy\u001b[0m\u001b[1;33m=\u001b[0m\u001b[0mMSentropy\u001b[0m\u001b[1;33m.\u001b[0m\u001b[0mMSentropy\u001b[0m\u001b[1;33m(\u001b[0m\u001b[0mData\u001b[0m\u001b[1;33m,\u001b[0m\u001b[0mDIA_lower\u001b[0m\u001b[1;33m,\u001b[0m\u001b[0mDIA_upper\u001b[0m\u001b[1;33m)\u001b[0m\u001b[1;33m\u001b[0m\u001b[0m\n\u001b[0m\u001b[0;32m     41\u001b[0m     \u001b[0mDIA_results\u001b[0m \u001b[1;33m=\u001b[0m \u001b[1;33m{\u001b[0m\u001b[1;34m'MS2 Locations'\u001b[0m\u001b[1;33m:\u001b[0m\u001b[0mDIA_result2\u001b[0m\u001b[1;33m,\u001b[0m\u001b[1;34m'DIA_lower'\u001b[0m\u001b[1;33m:\u001b[0m\u001b[0mDIA_lower\u001b[0m\u001b[1;33m,\u001b[0m \u001b[1;34m'DIA_upper'\u001b[0m\u001b[1;33m:\u001b[0m\u001b[0mDIA_upper\u001b[0m\u001b[1;33m,\u001b[0m \u001b[1;34m'entropy'\u001b[0m\u001b[1;33m:\u001b[0m\u001b[0mentropy\u001b[0m\u001b[1;33m,\u001b[0m \u001b[1;34m'Scan Results'\u001b[0m\u001b[1;33m:\u001b[0m\u001b[0mDIA_result\u001b[0m\u001b[1;33m[\u001b[0m\u001b[1;34m\"Scan Results\"\u001b[0m\u001b[1;33m]\u001b[0m\u001b[1;33m,\u001b[0m\u001b[1;34m'Scan Locations'\u001b[0m\u001b[1;33m:\u001b[0m\u001b[0mDIA_result\u001b[0m\u001b[1;33m[\u001b[0m\u001b[1;34m\"Scan Locations\"\u001b[0m\u001b[1;33m]\u001b[0m\u001b[1;33m}\u001b[0m\u001b[1;33m\u001b[0m\u001b[0m\n\u001b[0;32m     42\u001b[0m     \u001b[1;32mreturn\u001b[0m\u001b[1;33m(\u001b[0m\u001b[0mDIA_results\u001b[0m\u001b[1;33m)\u001b[0m\u001b[1;33m\u001b[0m\u001b[0m\n",
      "\u001b[1;31mNameError\u001b[0m: name 'MSentropy' is not defined"
     ]
    }
   ],
   "source": [
    "MSbasicDIA(p,200,400,8)"
   ]
  },
  {
   "cell_type": "code",
   "execution_count": null,
   "metadata": {},
   "outputs": [],
   "source": []
  }
 ],
 "metadata": {
  "kernelspec": {
   "display_name": "Python 3",
   "language": "python",
   "name": "python3"
  },
  "language_info": {
   "codemirror_mode": {
    "name": "ipython",
    "version": 3
   },
   "file_extension": ".py",
   "mimetype": "text/x-python",
   "name": "python",
   "nbconvert_exporter": "python",
   "pygments_lexer": "ipython3",
   "version": "3.6.6"
  }
 },
 "nbformat": 4,
 "nbformat_minor": 2
}
