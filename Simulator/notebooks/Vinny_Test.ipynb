{
 "cells": [
  {
   "cell_type": "code",
   "execution_count": 1,
   "metadata": {},
   "outputs": [],
   "source": [
    "%load_ext autoreload\n",
    "%autoreload 2"
   ]
  },
  {
   "cell_type": "code",
   "execution_count": 2,
   "metadata": {},
   "outputs": [
    {
     "name": "stdout",
     "output_type": "stream",
     "text": [
      "Pretty printing has been turned OFF\n"
     ]
    }
   ],
   "source": [
    "%pprint"
   ]
  },
  {
   "cell_type": "code",
   "execution_count": 3,
   "metadata": {},
   "outputs": [],
   "source": [
    "import numpy as np\n",
    "import random\n",
    "import matplotlib.pyplot as plt\n",
    "import sys"
   ]
  },
  {
   "cell_type": "code",
   "execution_count": 4,
   "metadata": {},
   "outputs": [],
   "source": [
    "sys.path.append('../codes')"
   ]
  },
  {
   "cell_type": "code",
   "execution_count": 5,
   "metadata": {},
   "outputs": [],
   "source": [
    "from VMSfunctions.VMS import *\n",
    "from VMSfunctions.Common import Peak"
   ]
  },
  {
   "cell_type": "markdown",
   "metadata": {},
   "source": [
    "# Generate Fake Peaks"
   ]
  },
  {
   "cell_type": "code",
   "execution_count": 6,
   "metadata": {},
   "outputs": [],
   "source": [
    "from VMSfunctions.Common import load_obj\n",
    "from VMSfunctions.DataGenerator import PeakSampler"
   ]
  },
  {
   "cell_type": "code",
   "execution_count": 7,
   "metadata": {},
   "outputs": [],
   "source": [
    "m = Sample_Dataset('../../../beer_data/peak_sampler_4_beers.p',50)"
   ]
  },
  {
   "cell_type": "markdown",
   "metadata": {},
   "source": [
    "# Basic Scanning Methods"
   ]
  },
  {
   "cell_type": "code",
   "execution_count": 8,
   "metadata": {},
   "outputs": [],
   "source": [
    "test1_result = []\n",
    "test2_result = []\n",
    "test3_result = []\n",
    "test4_result = []\n",
    "test5_result = []\n",
    "test6_result = []\n",
    "\n",
    "for i in range(0,100):\n",
    "    Data_test1=Sample_Dataset('../../../beer_data/peak_sampler_4_beers.p',10)\n",
    "    Data_test2=Sample_Dataset('../../../beer_data/peak_sampler_4_beers.p',50)\n",
    "    Data_test3=Sample_Dataset('../../../beer_data/peak_sampler_4_beers.p',100)\n",
    "    test1=Dia_Basic(Data_test1,10,\"even\")\n",
    "    test2=Dia_Basic(Data_test1,10,\"percentile\")\n",
    "    test3=Dia_Basic(Data_test2,10,\"even\")\n",
    "    test4=Dia_Basic(Data_test2,10,\"percentile\")\n",
    "    test5=Dia_Basic(Data_test3,10,\"even\")\n",
    "    test6=Dia_Basic(Data_test3,10,\"percentile\")\n",
    "    test1_result.append(test1.entropy())\n",
    "    test2_result.append(test2.entropy())\n",
    "    test3_result.append(test3.entropy())\n",
    "    test4_result.append(test4.entropy())\n",
    "    test5_result.append(test5.entropy())\n",
    "    test6_result.append(test6.entropy())\n",
    "    \n",
    "test_result = [test1_result,test2_result,test3_result,test4_result,test5_result,test6_result]"
   ]
  },
  {
   "cell_type": "code",
   "execution_count": 9,
   "metadata": {},
   "outputs": [
    {
     "data": {
      "image/png": "[encoded data removed]",
      "text/plain": [
       "<Figure size 1440x720 with 1 Axes>"
      ]
     },
     "metadata": {
      "needs_background": "light"
     },
     "output_type": "display_data"
    }
   ],
   "source": [
    "plt.figure(figsize=(20,10))\n",
    "plt.axvline(x=2.5,color='k')\n",
    "plt.axvline(x=4.5,color='k')\n",
    "plt.boxplot(test_result)\n",
    "plt.ylabel(\"Entropy\")\n",
    "plt.title(\"Basic Design\")\n",
    "plt.xticks([1,2,3,4,5,6],[\"Original 10\",\"Percentile 10\",\"Original 50\",\"Percentile 50\",\"Original 100\",\"Percentile 100\"])\n",
    "plt.show()"
   ]
  },
  {
   "cell_type": "markdown",
   "metadata": {},
   "source": [
    "# Kaufmann Scanning Method"
   ]
  },
  {
   "cell_type": "markdown",
   "metadata": {},
   "source": [
    "Need to update ms1_range to be [(min,max)]"
   ]
  },
  {
   "cell_type": "code",
   "execution_count": 29,
   "metadata": {},
   "outputs": [],
   "source": [
    "import math\n",
    "class Dia_Kaufmann(object):\n",
    "    def __init__(self,dataset,num_windows,window_type,kaufmann_design,rt=0,ms_level=2,ms1_range=[[None],[None]],range_slack=0.01):\n",
    "        if num_windows!=64:\n",
    "            print(\"num_windows must equal 64. Has not been set up for any other values yet.\")\n",
    "            return None\n",
    "        self.locations = []\n",
    "        self.scan_results = []\n",
    "        # if no ms1_range provided, initialise the scan range from dataset\n",
    "        if ms1_range==[[None],[None]]:\n",
    "            ms1_range_difference = dataset.ms1_range[0][1] - dataset.ms1_range[0][0]\n",
    "            ms1_range = [[dataset.ms1_range[0][0] - range_slack*ms1_range_difference],[dataset.ms1_range[0][1] + range_slack*ms1_range_difference]]\n",
    "        else:\n",
    "            ms1_range_difference = ms1_range[0][1] - ms1_range[0][0] \n",
    "        # get names\n",
    "        self.ms1_names = dataset.ms1_names\n",
    "        self.ms2_names = dataset.ms2_names\n",
    "        # Create bin_walls        \n",
    "        if window_type==\"even\":\n",
    "            self.bin_walls=[min(dataset.ms1_values())]\n",
    "            for window_index in range(0,num_windows):\n",
    "                self.bin_walls.append(ms1_range[0][0] + ((window_index+1)/num_windows)*ms1_range_difference)\n",
    "            self.bin_walls[0] = self.bin_walls[0] - range_slack*ms1_range_difference\n",
    "            self.bin_walls[-1] = self.bin_walls[-1] + range_slack*ms1_range_difference\n",
    "        elif window_type==\"percentile\":\n",
    "            self.bin_walls = np.percentile(dataset.ms1_values(),range(0,100 + int(100/num_windows),int(100/num_windows))).tolist()\n",
    "            self.bin_walls[0] = self.bin_walls[0] - range_slack*ms1_range_difference\n",
    "            self.bin_walls[-1] = self.bin_walls[-1] + range_slack*ms1_range_difference\n",
    "        else:\n",
    "            sys.exit(\"Incorrect window_type specified\")\n",
    "        # use separate class which creates windows here\n",
    "        self.locations=Kaufmann_Windows(self.bin_walls,kaufmann_design)\n",
    "        # scan locations\n",
    "        self.scan_results = []\n",
    "        for window_index in range(0,len(self.locations)):\n",
    "            self.scan_results.append(Dataset_Scan(dataset,ms_level,rt,self.location[window_index]).scan_result)\n",
    "        \n",
    "class Kaufmann_Windows(object):\n",
    "    def __init__(self,bin_walls,kaufmann_design):\n",
    "        if kaufmann_design == \"nested\":\n",
    "            self.locations = []\n",
    "            for i in range(0,8):\n",
    "                self.locations.append([(bin_walls[(0+i*8)],bin_walls[(8+i*8)])])\n",
    "            locations_internal = [[],[],[],[]]\n",
    "            for i in range(0,4):\n",
    "                locations_internal[0].append((bin_walls[(4 + i*16)],bin_walls[(12 + i*16)]))\n",
    "                locations_internal[1].append((bin_walls[(2 + i*16)],bin_walls[(6 + i*16)]))\n",
    "                locations_internal[1].append((bin_walls[(10 + i*16)],bin_walls[(14 + i*16)]))\n",
    "                locations_internal[2].append((bin_walls[(1 + i*16)],bin_walls[(3 + i*16)]))\n",
    "                locations_internal[2].append((bin_walls[(9 + i*16)],bin_walls[(11 + i*16)]))\n",
    "                locations_internal[3].append((bin_walls[(5 + i*16)],bin_walls[(7 + i*16)]))\n",
    "                locations_internal[3].append((bin_walls[(13 + i*16)],bin_walls[(15 + i*16)]))\n",
    "            self.locations.append(locations_internal)\n",
    "        else:\n",
    "            print(\"not done yet\")"
   ]
  },
  {
   "cell_type": "code",
   "execution_count": 31,
   "metadata": {},
   "outputs": [
    {
     "name": "stdout",
     "output_type": "stream",
     "text": [
      "[(94.80293705876167, 136.54661479064703), (190.21705758878534, 231.96073532067066), (285.631178118809, 327.37485585069436), (381.04529864883267, 422.788976380718)]\n",
      "\n",
      "[(82.8761719925087, 100.76631959188813), (130.58323225752054, 148.47337985689998), (178.29029252253235, 196.18044012191183), (225.99735278754423, 243.88750038692365), (273.70441305255605, 291.59456065193547), (321.41147331756787, 339.3016209169473), (369.1185335825797, 387.0086811819591), (416.8255938475915, 434.715741446971)]\n"
     ]
    },
    {
     "data": {
      "text/plain": [
       "[[(70.94940692625575, 118.65646719126758)], [(118.65646719126758, 166.36352745627943)], [(166.36352745627943, 214.07058772129125)], [(214.07058772129125, 261.77764798630307)], [(261.77764798630307, 309.4847082513149)], [(309.4847082513149, 357.19176851632676)], [(357.19176851632676, 404.8988287813386)], [(404.8988287813386, 456.4224538675513)]]"
      ]
     },
     "execution_count": 31,
     "metadata": {},
     "output_type": "execute_result"
    }
   ],
   "source": [
    "Kaufmann_Windows(Dia_Kaufmann(m,64,\"even\",1).bin_walls,kaufmann_design=\"nested\").locations"
   ]
  },
  {
   "cell_type": "code",
   "execution_count": 18,
   "metadata": {},
   "outputs": [
    {
     "name": "stdout",
     "output_type": "stream",
     "text": [
      "1 3 5 7 9\n"
     ]
    }
   ],
   "source": [
    "        if window_type==\"even\":\n",
    "            for window_index in range(0,num_windows):\n",
    "                ms1_window_range = [(ms1_range[0][0] + window_index*((ms1_range_difference * (1 + 2*range_slack))/num_windows),ms1_range[0][0] + (window_index+1)*((ms1_range_difference * (1 + 2*range_slack))/num_windows))]\n",
    "                self.locations.append(ms1_window_range)\n",
    "                self.scan_results.append(Dataset_Scan(dataset,ms_level,rt,ms1_window_range).scan_result)\n",
    "        elif window_type==\"percentile\":\n",
    "            adjusted_percentiles = np.percentile(dataset.ms1_values(),range(0,100 + int(100/num_windows),int(100/num_windows))).tolist()\n",
    "            adjusted_percentiles[0] = adjusted_percentiles[0] - range_slack*ms1_range_difference\n",
    "            adjusted_percentiles[-1] = adjusted_percentiles[-1] + range_slack*ms1_range_difference\n",
    "            for window_index in range(0,num_windows):\n",
    "                ms1_window_range = [(adjusted_percentiles[window_index],adjusted_percentiles[window_index+1])]\n",
    "                self.locations.append(ms1_window_range)\n",
    "                self.scan_results.append(Dataset_Scan(dataset,ms_level,rt,ms1_window_range).scan_result)\n",
    "        else:\n",
    "            sys.exit(\"Incorrect window_type specified\")\n",
    "        self.ms1_names = dataset.ms1_names\n",
    "        self.ms2_names = dataset.ms2_names\n",
    "        \n",
    "    def bin_walls(self):\n",
    "        bin_walls = list(set(np.array(sum(d1.locations,[])).flatten()))\n",
    "        return(bin_walls)\n",
    "    \n",
    "    def location_all(self):\n",
    "        location_all = []\n",
    "        for i in range(0,len(self.ms1_names)):\n",
    "            found=False\n",
    "            j=0\n",
    "            while found==False:\n",
    "                if self.scan_results[j][i]==1:\n",
    "                    location_all.append(self.locations[j])\n",
    "                    found=True\n",
    "                else:\n",
    "                    j+=1  \n",
    "        return(location_all)\n",
    "            \n",
    "    def entropy(self):\n",
    "        entropy_vec = []\n",
    "        for i in range(0,len(self.locations)):\n",
    "            entropy_vec.extend([0])\n",
    "            for j in range(0,len(self.ms1_names)):\n",
    "                if self.locations[i]==self.location_all()[j]:\n",
    "                    entropy_vec[i] +=1\n",
    "        entropy_vec_nozero = [value for value in entropy_vec if value != 0]\n",
    "        entropy = sum([math.log(1/y) for y in entropy_vec_nozero])\n",
    "        return(entropy)"
   ]
  },
  {
   "cell_type": "code",
   "execution_count": 31,
   "metadata": {},
   "outputs": [
    {
     "data": {
      "text/plain": [
       "[([76.89291351066741], [430.7099399460854])]"
      ]
     },
     "execution_count": 31,
     "metadata": {},
     "output_type": "execute_result"
    }
   ],
   "source": [
    "m.ms1_range"
   ]
  },
  {
   "cell_type": "code",
   "execution_count": 32,
   "metadata": {},
   "outputs": [
    {
     "data": {
      "text/plain": [
       "[1]"
      ]
     },
     "execution_count": 32,
     "metadata": {},
     "output_type": "execute_result"
    }
   ],
   "source": [
    "[1]"
   ]
  },
  {
   "cell_type": "code",
   "execution_count": 21,
   "metadata": {},
   "outputs": [
    {
     "data": {
      "text/plain": [
       "2"
      ]
     },
     "execution_count": 21,
     "metadata": {},
     "output_type": "execute_result"
    }
   ],
   "source": [
    "x = [1,2,3,4]\n",
    "i=1\n",
    "x[0+i*1]"
   ]
  }
 ],
 "metadata": {
  "kernelspec": {
   "display_name": "Python 3",
   "language": "python",
   "name": "python3"
  },
  "language_info": {
   "codemirror_mode": {
    "name": "ipython",
    "version": 3
   },
   "file_extension": ".py",
   "mimetype": "text/x-python",
   "name": "python",
   "nbconvert_exporter": "python",
   "pygments_lexer": "ipython3",
   "version": "3.6.6"
  }
 },
 "nbformat": 4,
 "nbformat_minor": 2
}
