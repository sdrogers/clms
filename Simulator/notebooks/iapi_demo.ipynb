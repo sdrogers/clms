{
 "cells": [
  {
   "cell_type": "markdown",
   "metadata": {},
   "source": [
    "# IAPI Demo"
   ]
  },
  {
   "cell_type": "markdown",
   "metadata": {},
   "source": [
    "This notebook to demonstrate how we can use pythonnet (http://pythonnet.github.io/) to call Thermo's Instrument Application Programming Interface\n",
    " (https://github.com/thermofisherlsms/iapi) libraries from Python."
   ]
  },
  {
   "cell_type": "markdown",
   "metadata": {},
   "source": [
    "Import Python for .NET by importing the `clr` package below."
   ]
  },
  {
   "cell_type": "code",
   "execution_count": 1,
   "metadata": {},
   "outputs": [],
   "source": [
    "%matplotlib inline"
   ]
  },
  {
   "cell_type": "code",
   "execution_count": 2,
   "metadata": {},
   "outputs": [],
   "source": [
    "import sys\n",
    "import os\n",
    "import glob\n",
    "import datetime\n",
    "import time\n",
    "\n",
    "from IPython import display\n",
    "import pylab as plt\n",
    "import numpy as np\n",
    "\n",
    "import clr"
   ]
  },
  {
   "cell_type": "markdown",
   "metadata": {},
   "source": [
    "We need to add the directory containing the .dll files for IAPI to Python path."
   ]
  },
  {
   "cell_type": "code",
   "execution_count": 3,
   "metadata": {},
   "outputs": [],
   "source": [
    "ref_dir = './../../Interface/IAPI_Assembly/bin/Debug/netstandard2.0'\n",
    "sys.path.append(ref_dir)"
   ]
  },
  {
   "cell_type": "markdown",
   "metadata": {},
   "source": [
    "Check that we can find the assembly (package) in Python path. Here *IAPI_Assembly* is my own assembly to generate some synthetic data."
   ]
  },
  {
   "cell_type": "code",
   "execution_count": 4,
   "metadata": {},
   "outputs": [
    {
     "data": {
      "text/plain": [
       "'./../../Interface/IAPI_Assembly/bin/Debug/netstandard2.0\\\\IAPI_Assembly.dll'"
      ]
     },
     "execution_count": 4,
     "metadata": {},
     "output_type": "execute_result"
    }
   ],
   "source": [
    "clr.FindAssembly('IAPI_Assembly')"
   ]
  },
  {
   "cell_type": "markdown",
   "metadata": {},
   "source": [
    "Everything seems okay, so we load the assembly."
   ]
  },
  {
   "cell_type": "code",
   "execution_count": 5,
   "metadata": {},
   "outputs": [
    {
     "name": "stdout",
     "output_type": "stream",
     "text": [
      "IAPI_Assembly, Version=1.0.0.0, Culture=neutral, PublicKeyToken=null\n"
     ]
    }
   ],
   "source": [
    "ref = clr.AddReference('IAPI_Assembly')\n",
    "print(ref)"
   ]
  },
  {
   "cell_type": "code",
   "execution_count": 6,
   "metadata": {},
   "outputs": [
    {
     "data": {
      "text/plain": [
       "['mscorlib',\n",
       " 'clrmodule',\n",
       " 'Python.Runtime',\n",
       " 'System.Security',\n",
       " 'System.Xml',\n",
       " 'System.Configuration',\n",
       " 'System.Data.SqlXml',\n",
       " 'System.Core',\n",
       " 'System',\n",
       " '__CodeGenerator_Assembly',\n",
       " 'e__NativeCall_Assembly',\n",
       " 'IAPI_Assembly',\n",
       " 'netstandard',\n",
       " 'Fusion.API-1.0',\n",
       " 'API-2.0',\n",
       " 'Spectrum-1.0']"
      ]
     },
     "execution_count": 6,
     "metadata": {},
     "output_type": "execute_result"
    }
   ],
   "source": [
    "from clr import ListAssemblies\n",
    "short = list(ListAssemblies(False))\n",
    "short"
   ]
  },
  {
   "cell_type": "markdown",
   "metadata": {},
   "source": [
    "*FusionContainer* is a class written in C#. It loads scans from an .mzML file and uses the interfaces from IAPI for the objects that holds the data."
   ]
  },
  {
   "cell_type": "code",
   "execution_count": 7,
   "metadata": {},
   "outputs": [],
   "source": [
    "from IAPI_Assembly import FusionContainer"
   ]
  },
  {
   "cell_type": "code",
   "execution_count": 8,
   "metadata": {},
   "outputs": [],
   "source": [
    "filename = 'C:\\\\Users\\\\joewa\\\\Work\\\\git\\\\clms\\\\test_data\\\\Beer_1_full1.mzML'\n",
    "fusionContainer = FusionContainer(filename)"
   ]
  },
  {
   "cell_type": "code",
   "execution_count": 9,
   "metadata": {},
   "outputs": [],
   "source": [
    "fusionContainer.StartOnlineAccess()"
   ]
  },
  {
   "cell_type": "code",
   "execution_count": 10,
   "metadata": {},
   "outputs": [],
   "source": [
    "while not fusionContainer.ServiceConnected:\n",
    "    time.sleep(0.1)"
   ]
  },
  {
   "cell_type": "code",
   "execution_count": 11,
   "metadata": {},
   "outputs": [],
   "source": [
    "fusionAccess = fusionContainer.Get(1)"
   ]
  },
  {
   "cell_type": "code",
   "execution_count": 12,
   "metadata": {},
   "outputs": [],
   "source": [
    "fusionScanContainer = fusionAccess.GetMsScanContainer(0)"
   ]
  },
  {
   "cell_type": "markdown",
   "metadata": {},
   "source": [
    "Register an event handler to handle arriving scans. New scans arrive following the elution time specified in the mzML file. Below we just plot them."
   ]
  },
  {
   "cell_type": "code",
   "execution_count": 13,
   "metadata": {},
   "outputs": [],
   "source": [
    "def my_handler(sender, e):\n",
    "    scan = e.GetScan()\n",
    "    mzs = []\n",
    "    intensities = []\n",
    "    for c in scan.Centroids:\n",
    "        mzs.append(c.Mz)\n",
    "        intensities.append(c.Intensity)\n",
    "    mzs = np.array(mzs)\n",
    "    intensities = np.array(intensities)\n",
    "    plt.clf()\n",
    "    plt.plot(mzs, intensities)\n",
    "    plt.title('Scan {0} -- {1} peaks'.format(scan.Header['Scan'], scan.CentroidCount))\n",
    "    display.clear_output(wait=True)\n",
    "    display.display(plt.gcf())"
   ]
  },
  {
   "cell_type": "code",
   "execution_count": 14,
   "metadata": {
    "scrolled": false
   },
   "outputs": [
    {
     "data": {
      "image/png": "[encoded data removed]",
      "text/plain": [
       "<Figure size 432x288 with 1 Axes>"
      ]
     },
     "metadata": {},
     "output_type": "display_data"
    }
   ],
   "source": [
    "fusionScanContainer.MsScanArrived += my_handler"
   ]
  },
  {
   "cell_type": "code",
   "execution_count": null,
   "metadata": {},
   "outputs": [],
   "source": []
  }
 ],
 "metadata": {
  "kernelspec": {
   "display_name": "Python 3",
   "language": "python",
   "name": "python3"
  },
  "language_info": {
   "codemirror_mode": {
    "name": "ipython",
    "version": 3
   },
   "file_extension": ".py",
   "mimetype": "text/x-python",
   "name": "python",
   "nbconvert_exporter": "python",
   "pygments_lexer": "ipython3",
   "version": "3.6.5"
  }
 },
 "nbformat": 4,
 "nbformat_minor": 2
}
