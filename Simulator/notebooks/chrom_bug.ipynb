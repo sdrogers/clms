{
 "cells": [
  {
   "cell_type": "markdown",
   "metadata": {},
   "source": [
    "### Bug for Vinny 😅"
   ]
  },
  {
   "cell_type": "markdown",
   "metadata": {},
   "source": [
    "Got a negative relative intensity value for the following chromatogram. Need to fix."
   ]
  },
  {
   "cell_type": "code",
   "execution_count": 1,
   "metadata": {},
   "outputs": [],
   "source": [
    "import numpy as np\n",
    "import pandas as pd\n",
    "import sys\n",
    "import scipy.stats\n",
    "import pylab as plt"
   ]
  },
  {
   "cell_type": "code",
   "execution_count": 2,
   "metadata": {},
   "outputs": [],
   "source": [
    "%load_ext autoreload\n",
    "%autoreload 2"
   ]
  },
  {
   "cell_type": "code",
   "execution_count": 3,
   "metadata": {},
   "outputs": [],
   "source": [
    "sys.path.append('../codes')"
   ]
  },
  {
   "cell_type": "code",
   "execution_count": 4,
   "metadata": {},
   "outputs": [],
   "source": [
    "from VMSfunctions.model import *\n",
    "from VMSfunctions.Common import *\n",
    "from VMSfunctions.DataGenerator import *"
   ]
  },
  {
   "cell_type": "code",
   "execution_count": 5,
   "metadata": {},
   "outputs": [],
   "source": [
    "def plot_chromatogram(chrom):\n",
    "    f, axarr = plt.subplots(2, sharex=True)\n",
    "    axarr[0].plot(chrom.rts, chrom.intensities)\n",
    "    axarr[0].set_title('Chromatogram')\n",
    "    axarr[0].set_ylabel('intensity')\n",
    "    axarr[1].scatter(chrom.rts, chrom.mzs)\n",
    "    axarr[1].set_ylabel('mz')\n",
    "    axarr[1].set_xlabel('RT')    \n",
    "    plt.show()"
   ]
  },
  {
   "cell_type": "code",
   "execution_count": 6,
   "metadata": {},
   "outputs": [],
   "source": [
    "rts = [573.853, 575.089, 576.324, 577.558, 578.793, 580.027, 581.264,\n",
    "       582.533, 583.769, 585.007, 586.243, 587.48 , 588.719, 589.957]\n",
    "\n",
    "mzs = [306.08071899, 306.08068848, 306.08105469, 306.08081055,\n",
    "       306.08074951, 306.08102417, 306.08078003, 306.0809021 ,\n",
    "       306.08074951, 306.08084106, 306.08078003, 306.08078003,\n",
    "       306.08105469, 306.08108521]\n",
    "\n",
    "intensities = [ 232879.9375 ,  797254.1875 , 1113487.25   , 2290494.5    ,\n",
    "       3040097.5    , 2689553.75   , 3064002.25   , 2677243.25   ,\n",
    "       2242599.75   , 1734974.625  , 1348842.75   , 1111597.     ,\n",
    "        681967.375  ,  519607.40625]\n",
    "\n",
    "chrom = EmpiricalChromatogram(rts, mzs, intensities)"
   ]
  },
  {
   "cell_type": "code",
   "execution_count": 10,
   "metadata": {},
   "outputs": [
    {
     "data": {
      "image/png": "[encoded data removed]",
      "text/plain": [
       "<Figure size 432x288 with 2 Axes>"
      ]
     },
     "metadata": {
      "needs_background": "light"
     },
     "output_type": "display_data"
    }
   ],
   "source": [
    "plot_chromatogram(chrom)"
   ]
  },
  {
   "cell_type": "code",
   "execution_count": 15,
   "metadata": {},
   "outputs": [],
   "source": [
    "query_rt = 0.636"
   ]
  },
  {
   "cell_type": "code",
   "execution_count": 17,
   "metadata": {},
   "outputs": [
    {
     "data": {
      "text/plain": [
       "0.028006034579535898"
      ]
     },
     "execution_count": 17,
     "metadata": {},
     "output_type": "execute_result"
    }
   ],
   "source": [
    "chrom.get_relative_intensity(query_rt)"
   ]
  },
  {
   "cell_type": "code",
   "execution_count": null,
   "metadata": {},
   "outputs": [],
   "source": []
  },
  {
   "cell_type": "code",
   "execution_count": null,
   "metadata": {},
   "outputs": [],
   "source": []
  }
 ],
 "metadata": {
  "kernelspec": {
   "display_name": "Python 3",
   "language": "python",
   "name": "python3"
  },
  "language_info": {
   "codemirror_mode": {
    "name": "ipython",
    "version": 3
   },
   "file_extension": ".py",
   "mimetype": "text/x-python",
   "name": "python",
   "nbconvert_exporter": "python",
   "pygments_lexer": "ipython3",
   "version": "3.6.6"
  }
 },
 "nbformat": 4,
 "nbformat_minor": 2
}
