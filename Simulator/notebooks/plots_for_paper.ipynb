{
 "cells": [
  {
   "cell_type": "markdown",
   "metadata": {},
   "source": [
    "# Results"
   ]
  },
  {
   "cell_type": "code",
   "execution_count": 1,
   "metadata": {},
   "outputs": [],
   "source": [
    "%load_ext autoreload\n",
    "%autoreload 2"
   ]
  },
  {
   "cell_type": "code",
   "execution_count": 2,
   "metadata": {},
   "outputs": [],
   "source": [
    "import numpy as np\n",
    "import sys\n",
    "import scipy.stats\n",
    "import re\n",
    "import os\n",
    "import pandas as pd\n",
    "import seaborn as sns"
   ]
  },
  {
   "cell_type": "code",
   "execution_count": 3,
   "metadata": {},
   "outputs": [],
   "source": [
    "sys.path.append('../codes')"
   ]
  },
  {
   "cell_type": "code",
   "execution_count": 4,
   "metadata": {},
   "outputs": [],
   "source": [
    "from VMSfunctions.Chemicals import *\n",
    "from VMSfunctions.Chromatograms import *\n",
    "from VMSfunctions.MassSpec import *\n",
    "from VMSfunctions.Controller import *\n",
    "from VMSfunctions.Common import *\n",
    "from VMSfunctions.DataGenerator import *\n",
    "from VMSfunctions.Noise import *"
   ]
  },
  {
   "cell_type": "code",
   "execution_count": 5,
   "metadata": {},
   "outputs": [],
   "source": [
    "base_dir = 'C:\\\\Users\\\\joewa\\\\University of Glasgow\\\\Vinny Davies - CLDS Metabolomics Project\\\\'"
   ]
  },
  {
   "cell_type": "code",
   "execution_count": 6,
   "metadata": {},
   "outputs": [],
   "source": [
    "# base_dir = 'C:\\\\Users\\\\Vinny\\\\OneDrive - University of Glasgow\\\\CLDS Metabolomics Project\\\\'"
   ]
  },
  {
   "cell_type": "markdown",
   "metadata": {},
   "source": [
    "## A. MS1 Spectra in ToppView"
   ]
  },
  {
   "cell_type": "markdown",
   "metadata": {},
   "source": [
    "## B. CentWave"
   ]
  },
  {
   "cell_type": "markdown",
   "metadata": {},
   "source": [
    "Load mzML in peak picking, and see if the same peaks are picked again.\n",
    "\n",
    "![title](img/placeholder.png)"
   ]
  },
  {
   "cell_type": "markdown",
   "metadata": {},
   "source": [
    "Boxplot comparing the intensity and number of peaks per scan distributions of MS1 peaks in the simulator vs picked peaks.\n",
    "- X-axis: samples\n",
    "- Y-axis: log_2 intensity"
   ]
  },
  {
   "cell_type": "code",
   "execution_count": 7,
   "metadata": {},
   "outputs": [],
   "source": [
    "df = pd.read_csv(os.path.join(base_dir, 'Manuscript\\\\B. CentWave\\\\mzML\\\\extracted_peaks_ms1.csv'))"
   ]
  },
  {
   "cell_type": "code",
   "execution_count": 9,
   "metadata": {},
   "outputs": [],
   "source": [
    "min_ms1_intensity = 2.5E5\n",
    "rt_range = [(3*60, 21*60)]\n",
    "mz_range = [(0, 1050)]"
   ]
  },
  {
   "cell_type": "code",
   "execution_count": 10,
   "metadata": {},
   "outputs": [],
   "source": [
    "intensity_col = 'maxo'\n",
    "df = df[(df['rt'] > rt_range[0][0]) & (df['rt'] < rt_range[0][1])]\n",
    "df = df[(df['rt'] > mz_range[0][0]) & (df['rt'] < mz_range[0][1])]\n",
    "df = df[(df[intensity_col] > min_ms1_intensity)]\n",
    "df['log_intensity'] = df.apply(lambda row: np.log(row[intensity_col]), axis=1)"
   ]
  },
  {
   "cell_type": "code",
   "execution_count": 11,
   "metadata": {},
   "outputs": [
    {
     "data": {
      "text/html": [
       "<div>\n",
       "<style scoped>\n",
       "    .dataframe tbody tr th:only-of-type {\n",
       "        vertical-align: middle;\n",
       "    }\n",
       "\n",
       "    .dataframe tbody tr th {\n",
       "        vertical-align: top;\n",
       "    }\n",
       "\n",
       "    .dataframe thead th {\n",
       "        text-align: right;\n",
       "    }\n",
       "</style>\n",
       "<table border=\"1\" class=\"dataframe\">\n",
       "  <thead>\n",
       "    <tr style=\"text-align: right;\">\n",
       "      <th></th>\n",
       "      <th>mz</th>\n",
       "      <th>mzmin</th>\n",
       "      <th>mzmax</th>\n",
       "      <th>rt</th>\n",
       "      <th>rtmin</th>\n",
       "      <th>rtmax</th>\n",
       "      <th>into</th>\n",
       "      <th>intb</th>\n",
       "      <th>maxo</th>\n",
       "      <th>sn</th>\n",
       "      <th>sample</th>\n",
       "      <th>is_filled</th>\n",
       "      <th>msLevel</th>\n",
       "      <th>filename</th>\n",
       "      <th>log_intensity</th>\n",
       "    </tr>\n",
       "  </thead>\n",
       "  <tbody>\n",
       "    <tr>\n",
       "      <th>750</th>\n",
       "      <td>144.927427</td>\n",
       "      <td>144.927414</td>\n",
       "      <td>144.927429</td>\n",
       "      <td>183.153</td>\n",
       "      <td>180.803</td>\n",
       "      <td>187.447</td>\n",
       "      <td>2.250382e+06</td>\n",
       "      <td>2.249581e+06</td>\n",
       "      <td>362842.78125</td>\n",
       "      <td>237</td>\n",
       "      <td>1</td>\n",
       "      <td>0</td>\n",
       "      <td>1</td>\n",
       "      <td>Beer_multibeers_1_T10_POS.mzML</td>\n",
       "      <td>12.801725</td>\n",
       "    </tr>\n",
       "    <tr>\n",
       "      <th>752</th>\n",
       "      <td>144.927423</td>\n",
       "      <td>144.927414</td>\n",
       "      <td>144.927444</td>\n",
       "      <td>190.271</td>\n",
       "      <td>187.447</td>\n",
       "      <td>193.056</td>\n",
       "      <td>1.881383e+06</td>\n",
       "      <td>1.880697e+06</td>\n",
       "      <td>354913.84375</td>\n",
       "      <td>232</td>\n",
       "      <td>1</td>\n",
       "      <td>0</td>\n",
       "      <td>1</td>\n",
       "      <td>Beer_multibeers_1_T10_POS.mzML</td>\n",
       "      <td>12.779630</td>\n",
       "    </tr>\n",
       "    <tr>\n",
       "      <th>758</th>\n",
       "      <td>144.927420</td>\n",
       "      <td>144.927414</td>\n",
       "      <td>144.927429</td>\n",
       "      <td>194.628</td>\n",
       "      <td>193.056</td>\n",
       "      <td>196.019</td>\n",
       "      <td>9.907583e+05</td>\n",
       "      <td>9.903845e+05</td>\n",
       "      <td>341178.93750</td>\n",
       "      <td>223</td>\n",
       "      <td>1</td>\n",
       "      <td>0</td>\n",
       "      <td>1</td>\n",
       "      <td>Beer_multibeers_1_T10_POS.mzML</td>\n",
       "      <td>12.740162</td>\n",
       "    </tr>\n",
       "    <tr>\n",
       "      <th>905</th>\n",
       "      <td>416.287359</td>\n",
       "      <td>416.287262</td>\n",
       "      <td>416.287476</td>\n",
       "      <td>203.562</td>\n",
       "      <td>197.891</td>\n",
       "      <td>214.562</td>\n",
       "      <td>2.816761e+06</td>\n",
       "      <td>2.814201e+06</td>\n",
       "      <td>282655.46875</td>\n",
       "      <td>144</td>\n",
       "      <td>1</td>\n",
       "      <td>0</td>\n",
       "      <td>1</td>\n",
       "      <td>Beer_multibeers_1_T10_POS.mzML</td>\n",
       "      <td>12.551984</td>\n",
       "    </tr>\n",
       "    <tr>\n",
       "      <th>951</th>\n",
       "      <td>275.163931</td>\n",
       "      <td>275.163849</td>\n",
       "      <td>275.164001</td>\n",
       "      <td>203.562</td>\n",
       "      <td>197.356</td>\n",
       "      <td>217.851</td>\n",
       "      <td>3.398315e+06</td>\n",
       "      <td>3.391158e+06</td>\n",
       "      <td>347291.37500</td>\n",
       "      <td>134</td>\n",
       "      <td>1</td>\n",
       "      <td>0</td>\n",
       "      <td>1</td>\n",
       "      <td>Beer_multibeers_1_T10_POS.mzML</td>\n",
       "      <td>12.757919</td>\n",
       "    </tr>\n",
       "  </tbody>\n",
       "</table>\n",
       "</div>"
      ],
      "text/plain": [
       "             mz       mzmin       mzmax       rt    rtmin    rtmax  \\\n",
       "750  144.927427  144.927414  144.927429  183.153  180.803  187.447   \n",
       "752  144.927423  144.927414  144.927444  190.271  187.447  193.056   \n",
       "758  144.927420  144.927414  144.927429  194.628  193.056  196.019   \n",
       "905  416.287359  416.287262  416.287476  203.562  197.891  214.562   \n",
       "951  275.163931  275.163849  275.164001  203.562  197.356  217.851   \n",
       "\n",
       "             into          intb          maxo   sn  sample  is_filled  \\\n",
       "750  2.250382e+06  2.249581e+06  362842.78125  237       1          0   \n",
       "752  1.881383e+06  1.880697e+06  354913.84375  232       1          0   \n",
       "758  9.907583e+05  9.903845e+05  341178.93750  223       1          0   \n",
       "905  2.816761e+06  2.814201e+06  282655.46875  144       1          0   \n",
       "951  3.398315e+06  3.391158e+06  347291.37500  134       1          0   \n",
       "\n",
       "     msLevel                        filename  log_intensity  \n",
       "750        1  Beer_multibeers_1_T10_POS.mzML      12.801725  \n",
       "752        1  Beer_multibeers_1_T10_POS.mzML      12.779630  \n",
       "758        1  Beer_multibeers_1_T10_POS.mzML      12.740162  \n",
       "905        1  Beer_multibeers_1_T10_POS.mzML      12.551984  \n",
       "951        1  Beer_multibeers_1_T10_POS.mzML      12.757919  "
      ]
     },
     "execution_count": 11,
     "metadata": {},
     "output_type": "execute_result"
    }
   ],
   "source": [
    "df.head()"
   ]
  },
  {
   "cell_type": "code",
   "execution_count": 12,
   "metadata": {},
   "outputs": [],
   "source": [
    "def make_boxplot(df, x, y, xticklabels, title):\n",
    "    g = sns.catplot(x=x, y=y,  kind='box', data=df)\n",
    "    if xticklabels is not None:\n",
    "        g.set_xticklabels(xticklabels, rotation=90)\n",
    "    else:\n",
    "        g.set_xticklabels(rotation=90)        \n",
    "    plt.title(title)\n",
    "    plt.tight_layout()"
   ]
  },
  {
   "cell_type": "code",
   "execution_count": 13,
   "metadata": {},
   "outputs": [
    {
     "data": {
      "text/html": [
       "<div>\n",
       "<style scoped>\n",
       "    .dataframe tbody tr th:only-of-type {\n",
       "        vertical-align: middle;\n",
       "    }\n",
       "\n",
       "    .dataframe tbody tr th {\n",
       "        vertical-align: top;\n",
       "    }\n",
       "\n",
       "    .dataframe thead th {\n",
       "        text-align: right;\n",
       "    }\n",
       "</style>\n",
       "<table border=\"1\" class=\"dataframe\">\n",
       "  <thead>\n",
       "    <tr style=\"text-align: right;\">\n",
       "      <th></th>\n",
       "      <th>mz</th>\n",
       "      <th>mzmin</th>\n",
       "      <th>mzmax</th>\n",
       "      <th>rt</th>\n",
       "      <th>rtmin</th>\n",
       "      <th>rtmax</th>\n",
       "      <th>into</th>\n",
       "      <th>intb</th>\n",
       "      <th>maxo</th>\n",
       "      <th>sn</th>\n",
       "      <th>sample</th>\n",
       "      <th>is_filled</th>\n",
       "      <th>msLevel</th>\n",
       "      <th>log_intensity</th>\n",
       "    </tr>\n",
       "    <tr>\n",
       "      <th>filename</th>\n",
       "      <th></th>\n",
       "      <th></th>\n",
       "      <th></th>\n",
       "      <th></th>\n",
       "      <th></th>\n",
       "      <th></th>\n",
       "      <th></th>\n",
       "      <th></th>\n",
       "      <th></th>\n",
       "      <th></th>\n",
       "      <th></th>\n",
       "      <th></th>\n",
       "      <th></th>\n",
       "      <th></th>\n",
       "    </tr>\n",
       "  </thead>\n",
       "  <tbody>\n",
       "    <tr>\n",
       "      <th>Beer_multibeers_1_T10_POS.mzML</th>\n",
       "      <td>245.185763</td>\n",
       "      <td>245.185623</td>\n",
       "      <td>245.185806</td>\n",
       "      <td>535.500000</td>\n",
       "      <td>515.446000</td>\n",
       "      <td>553.764000</td>\n",
       "      <td>8.480185e+06</td>\n",
       "      <td>8.291979e+06</td>\n",
       "      <td>619540.81250</td>\n",
       "      <td>63.0</td>\n",
       "      <td>1.0</td>\n",
       "      <td>0.0</td>\n",
       "      <td>1.0</td>\n",
       "      <td>13.336734</td>\n",
       "    </tr>\n",
       "    <tr>\n",
       "      <th>Beer_multibeers_2_T10_POS.mzML</th>\n",
       "      <td>251.155055</td>\n",
       "      <td>251.154900</td>\n",
       "      <td>251.155205</td>\n",
       "      <td>496.563000</td>\n",
       "      <td>476.251000</td>\n",
       "      <td>513.606000</td>\n",
       "      <td>9.635722e+06</td>\n",
       "      <td>9.352157e+06</td>\n",
       "      <td>688746.15625</td>\n",
       "      <td>50.0</td>\n",
       "      <td>2.0</td>\n",
       "      <td>0.0</td>\n",
       "      <td>1.0</td>\n",
       "      <td>13.442628</td>\n",
       "    </tr>\n",
       "    <tr>\n",
       "      <th>Beer_multibeers_3_T10_POS.mzML</th>\n",
       "      <td>241.179595</td>\n",
       "      <td>241.179520</td>\n",
       "      <td>241.179642</td>\n",
       "      <td>575.216000</td>\n",
       "      <td>556.651000</td>\n",
       "      <td>593.693000</td>\n",
       "      <td>8.469015e+06</td>\n",
       "      <td>8.148377e+06</td>\n",
       "      <td>598816.43750</td>\n",
       "      <td>85.0</td>\n",
       "      <td>3.0</td>\n",
       "      <td>0.0</td>\n",
       "      <td>1.0</td>\n",
       "      <td>13.302710</td>\n",
       "    </tr>\n",
       "    <tr>\n",
       "      <th>no_noise_ms1_controller.mzML</th>\n",
       "      <td>214.693481</td>\n",
       "      <td>214.693481</td>\n",
       "      <td>214.693481</td>\n",
       "      <td>542.178257</td>\n",
       "      <td>537.068547</td>\n",
       "      <td>546.604132</td>\n",
       "      <td>4.214744e+06</td>\n",
       "      <td>4.214732e+06</td>\n",
       "      <td>493267.31250</td>\n",
       "      <td>487704.5</td>\n",
       "      <td>4.0</td>\n",
       "      <td>0.0</td>\n",
       "      <td>1.0</td>\n",
       "      <td>13.108807</td>\n",
       "    </tr>\n",
       "  </tbody>\n",
       "</table>\n",
       "</div>"
      ],
      "text/plain": [
       "                                        mz       mzmin       mzmax  \\\n",
       "filename                                                             \n",
       "Beer_multibeers_1_T10_POS.mzML  245.185763  245.185623  245.185806   \n",
       "Beer_multibeers_2_T10_POS.mzML  251.155055  251.154900  251.155205   \n",
       "Beer_multibeers_3_T10_POS.mzML  241.179595  241.179520  241.179642   \n",
       "no_noise_ms1_controller.mzML    214.693481  214.693481  214.693481   \n",
       "\n",
       "                                        rt       rtmin       rtmax  \\\n",
       "filename                                                             \n",
       "Beer_multibeers_1_T10_POS.mzML  535.500000  515.446000  553.764000   \n",
       "Beer_multibeers_2_T10_POS.mzML  496.563000  476.251000  513.606000   \n",
       "Beer_multibeers_3_T10_POS.mzML  575.216000  556.651000  593.693000   \n",
       "no_noise_ms1_controller.mzML    542.178257  537.068547  546.604132   \n",
       "\n",
       "                                        into          intb          maxo  \\\n",
       "filename                                                                   \n",
       "Beer_multibeers_1_T10_POS.mzML  8.480185e+06  8.291979e+06  619540.81250   \n",
       "Beer_multibeers_2_T10_POS.mzML  9.635722e+06  9.352157e+06  688746.15625   \n",
       "Beer_multibeers_3_T10_POS.mzML  8.469015e+06  8.148377e+06  598816.43750   \n",
       "no_noise_ms1_controller.mzML    4.214744e+06  4.214732e+06  493267.31250   \n",
       "\n",
       "                                      sn  sample  is_filled  msLevel  \\\n",
       "filename                                                               \n",
       "Beer_multibeers_1_T10_POS.mzML      63.0     1.0        0.0      1.0   \n",
       "Beer_multibeers_2_T10_POS.mzML      50.0     2.0        0.0      1.0   \n",
       "Beer_multibeers_3_T10_POS.mzML      85.0     3.0        0.0      1.0   \n",
       "no_noise_ms1_controller.mzML    487704.5     4.0        0.0      1.0   \n",
       "\n",
       "                                log_intensity  \n",
       "filename                                       \n",
       "Beer_multibeers_1_T10_POS.mzML      13.336734  \n",
       "Beer_multibeers_2_T10_POS.mzML      13.442628  \n",
       "Beer_multibeers_3_T10_POS.mzML      13.302710  \n",
       "no_noise_ms1_controller.mzML        13.108807  "
      ]
     },
     "execution_count": 13,
     "metadata": {},
     "output_type": "execute_result"
    }
   ],
   "source": [
    "df.groupby('filename').median()"
   ]
  },
  {
   "cell_type": "code",
   "execution_count": 14,
   "metadata": {},
   "outputs": [
    {
     "data": {
      "image/png": "[encoded data removed]",
      "text/plain": [
       "<Figure size 360x360 with 1 Axes>"
      ]
     },
     "metadata": {
      "needs_background": "light"
     },
     "output_type": "display_data"
    }
   ],
   "source": [
    "make_boxplot(df, 'filename', 'mz', None, \n",
    "             'm/z distributions of MS1 features')"
   ]
  },
  {
   "cell_type": "code",
   "execution_count": 15,
   "metadata": {
    "scrolled": false
   },
   "outputs": [
    {
     "data": {
      "image/png": "[encoded data removed]",
      "text/plain": [
       "<Figure size 360x360 with 1 Axes>"
      ]
     },
     "metadata": {
      "needs_background": "light"
     },
     "output_type": "display_data"
    }
   ],
   "source": [
    "make_boxplot(df, 'filename', 'rt', None, \n",
    "             'RT distributions of MS1 features')"
   ]
  },
  {
   "cell_type": "code",
   "execution_count": 16,
   "metadata": {},
   "outputs": [
    {
     "data": {
      "image/png": "[encoded data removed]",
      "text/plain": [
       "<Figure size 360x360 with 1 Axes>"
      ]
     },
     "metadata": {
      "needs_background": "light"
     },
     "output_type": "display_data"
    }
   ],
   "source": [
    "make_boxplot(df, 'filename', 'log_intensity', None, \n",
    "             'Intensity distributions of MS1 features')"
   ]
  },
  {
   "cell_type": "markdown",
   "metadata": {},
   "source": [
    "## C. Top-N DDA Fragmentation Compared to the Real Data"
   ]
  },
  {
   "cell_type": "markdown",
   "metadata": {},
   "source": [
    "Load beer1pos file and run it through DDA controller.\n",
    "- Boxplot of the number of MS1/MS2 peaks per scan of simulated vs original"
   ]
  },
  {
   "cell_type": "code",
   "execution_count": null,
   "metadata": {},
   "outputs": [],
   "source": [
    "def get_df(data_type, filename, ms_level, controller, log=False):\n",
    "    observed_values = ds.get_data(data_type, filename, ms_level, max_data=1E8)\n",
    "    \n",
    "    simulated_values = []    \n",
    "    if data_type == N_PEAKS:\n",
    "        simulated_values = [scan.num_peaks for scan in controller.scans[ms_level]]\n",
    "    elif data_type == RT:\n",
    "        simulated_values = [scan.rt for scan in controller.scans[ms_level]]        \n",
    "    elif data_type == MZ:\n",
    "        for scan in controller.scans[ms_level]:\n",
    "            if len(scan.mzs) > 0:\n",
    "                simulated_values.extend(scan.mzs)\n",
    "    elif data_type == INTENSITY:\n",
    "        for scan in controller.scans[ms_level]:\n",
    "            if len(scan.intensities) > 0:\n",
    "                simulated_values.extend(scan.intensities)        \n",
    "    simulated_values = np.array(simulated_values)\n",
    "    \n",
    "    if log:\n",
    "        observed_values = np.log(observed_values)\n",
    "        simulated_values = np.log(simulated_values)\n",
    "\n",
    "    col1 = np.append(observed_values, simulated_values)\n",
    "    col2 = np.append(np.array([0] * len(observed_values)), np.array([1] * len(simulated_values)))\n",
    "    \n",
    "    col1.astype(np.int)\n",
    "    col2.astype(np.int)\n",
    "    \n",
    "    df = pd.DataFrame(np.stack([col1, col2], axis=1), columns=[data_type, 'filename'])\n",
    "    return df"
   ]
  },
  {
   "cell_type": "code",
   "execution_count": null,
   "metadata": {
    "scrolled": true
   },
   "outputs": [],
   "source": [
    "mzml_path = os.path.join(base_dir, 'Data\\\\multibeers_urine_data\\\\beers\\\\fragmentation')\n",
    "ds = DataSource()\n",
    "ds.load_data(mzml_path)"
   ]
  },
  {
   "cell_type": "code",
   "execution_count": null,
   "metadata": {},
   "outputs": [],
   "source": [
    "controller = load_obj(os.path.join(base_dir, 'Manuscript\\\\C. Top-N DDA Fragmentation Compared to the Real Data\\\\mzML\\\\experiment_N_10_rttol_15.p'))"
   ]
  },
  {
   "cell_type": "code",
   "execution_count": null,
   "metadata": {},
   "outputs": [],
   "source": [
    "filename = 'Beer_multibeers_1_T10_POS.mzML'\n",
    "ms_level = 1"
   ]
  },
  {
   "cell_type": "code",
   "execution_count": null,
   "metadata": {},
   "outputs": [],
   "source": [
    "df = get_df(MZ, filename, ms_level, controller)\n",
    "make_boxplot(df, 'filename', MZ, ['beer1', 'simulated'], \n",
    "             'mz distributions of MS%d peaks' % ms_level)\n",
    "\n",
    "df = get_df(RT, filename, ms_level, controller)\n",
    "make_boxplot(df, 'filename', RT, ['beer1', 'simulated'], \n",
    "             'RT distributions of MS%d peaks' % ms_level)\n",
    "\n",
    "df = get_df(INTENSITY, filename, ms_level, controller, log=True)\n",
    "make_boxplot(df, 'filename', INTENSITY, ['beer1', 'simulated'], \n",
    "             'Intensity distributions of MS%d peaks' % ms_level)\n",
    "\n",
    "df = get_df(N_PEAKS, filename, ms_level, controller)\n",
    "make_boxplot(df, 'filename', 'n_peaks', ['beer1', 'simulated'], \n",
    "             'Number of peaks per scan of MS%d peaks' % ms_level)"
   ]
  },
  {
   "cell_type": "code",
   "execution_count": null,
   "metadata": {},
   "outputs": [],
   "source": [
    "filename = 'Beer_multibeers_1_T10_POS.mzML'\n",
    "ms_level = 2"
   ]
  },
  {
   "cell_type": "code",
   "execution_count": null,
   "metadata": {},
   "outputs": [],
   "source": [
    "df = get_df(MZ, filename, ms_level, controller)\n",
    "make_boxplot(df, 'filename', MZ, ['beer1', 'simulated'], \n",
    "             'mz distributions of MS%d peaks' % ms_level)\n",
    "\n",
    "df = get_df(RT, filename, ms_level, controller)\n",
    "make_boxplot(df, 'filename', RT, ['beer1', 'simulated'], \n",
    "             'RT distributions of MS%d peaks' % ms_level)\n",
    "\n",
    "df = get_df(INTENSITY, filename, ms_level, controller, log=True)\n",
    "make_boxplot(df, 'filename', INTENSITY, ['beer1', 'simulated'], \n",
    "             'Intensity distributions of MS%d peaks' % ms_level)\n",
    "\n",
    "df = get_df(N_PEAKS, filename, ms_level, controller)\n",
    "make_boxplot(df, 'filename', 'n_peaks', ['beer1', 'simulated'], \n",
    "             'Number of peaks per scan of MS%d peaks' % ms_level)"
   ]
  },
  {
   "cell_type": "markdown",
   "metadata": {},
   "source": [
    "## D. Case Study 1: Varying N in top-N DDA fragmentation"
   ]
  },
  {
   "cell_type": "markdown",
   "metadata": {},
   "source": [
    "Vary Ns from the data in C and plot the following for each N:\n",
    "- Proportion of the original MS1 peaks that were fragmented\n",
    "- Number of MS2 peaks that map to the original MS1 peak\n",
    "- 3D plot of various values for Ns vs dynamic exclusion windows?\n",
    "- Number of MS1 peaks that can be picked by XCMS CentWave"
   ]
  },
  {
   "cell_type": "code",
   "execution_count": null,
   "metadata": {},
   "outputs": [],
   "source": [
    "df = pd.read_csv(os.path.join(base_dir, 'Manuscript\\\\D. Case Study 1 Varying N in top-N DDA fragmentation\\\\mzML\\\\extracted_peaks_ms1.csv'))"
   ]
  },
  {
   "cell_type": "code",
   "execution_count": null,
   "metadata": {},
   "outputs": [],
   "source": [
    "df.head()"
   ]
  },
  {
   "cell_type": "code",
   "execution_count": null,
   "metadata": {},
   "outputs": [],
   "source": [
    "df['log_intensity'] = df.apply(lambda row: np.log(row['into']), axis=1)"
   ]
  },
  {
   "cell_type": "code",
   "execution_count": null,
   "metadata": {},
   "outputs": [],
   "source": [
    "def make_boxplot(df, x, y, xticklabels, title):\n",
    "    plt.gcf().set_size_inches(15, 5)\n",
    "    g = sns.catplot(x=x, y=y,  kind='box', data=df)\n",
    "    if xticklabels is not None:\n",
    "        g.set_xticklabels(xticklabels, rotation=90)\n",
    "    else:\n",
    "        g.set_xticklabels(rotation=90)        \n",
    "    plt.title(title)\n",
    "    plt.tight_layout()"
   ]
  },
  {
   "cell_type": "code",
   "execution_count": null,
   "metadata": {},
   "outputs": [],
   "source": [
    "make_boxplot(df, 'filename', 'mz', None, \n",
    "             'mz distributions of MS1 features detected by CentWave')\n",
    "\n",
    "make_boxplot(df, 'filename', 'rt', None, \n",
    "             'rt distributions of MS1 features detected by CentWave')\n",
    "\n",
    "make_boxplot(df, 'filename', 'log_intensity', None, \n",
    "             'Intensity distributions of MS1 features detected by CentWave')"
   ]
  },
  {
   "cell_type": "code",
   "execution_count": null,
   "metadata": {},
   "outputs": [],
   "source": [
    "count_df = df.groupby('filename').size().reset_index(name='counts')"
   ]
  },
  {
   "cell_type": "code",
   "execution_count": null,
   "metadata": {},
   "outputs": [],
   "source": [
    "# count_df['N'] = df.apply(lambda row: row.values, axis=1)"
   ]
  },
  {
   "cell_type": "code",
   "execution_count": null,
   "metadata": {},
   "outputs": [],
   "source": [
    "arrays = []\n",
    "for arr in count_df.values:\n",
    "    N = arr[0].split('_')[2]\n",
    "    arrays.append((arr[0], N, arr[1]))\n",
    "arrays = np.array(arrays)"
   ]
  },
  {
   "cell_type": "code",
   "execution_count": null,
   "metadata": {},
   "outputs": [],
   "source": [
    "df = pd.DataFrame(arrays, columns=['filename', 'N', 'count'])"
   ]
  },
  {
   "cell_type": "code",
   "execution_count": null,
   "metadata": {},
   "outputs": [],
   "source": [
    "df['N'] = df['N'].apply(int)\n",
    "df['count'] = df['count'].apply(int)"
   ]
  },
  {
   "cell_type": "code",
   "execution_count": null,
   "metadata": {},
   "outputs": [],
   "source": [
    "df = df.sort_values('N')"
   ]
  },
  {
   "cell_type": "code",
   "execution_count": null,
   "metadata": {},
   "outputs": [],
   "source": [
    "df.head()"
   ]
  },
  {
   "cell_type": "code",
   "execution_count": null,
   "metadata": {},
   "outputs": [],
   "source": [
    "sns.lineplot(x='N', y='count', data=df)\n",
    "plt.title('Number of MS1 features detected by CentWave')"
   ]
  },
  {
   "cell_type": "markdown",
   "metadata": {},
   "source": [
    "## E. Case Study 2: Reproduce DIA results"
   ]
  },
  {
   "cell_type": "markdown",
   "metadata": {},
   "source": [
    "![title](img/placeholder.png)"
   ]
  },
  {
   "cell_type": "markdown",
   "metadata": {},
   "source": [
    "## F. Case Study 3: Reproduce DsDA results"
   ]
  },
  {
   "cell_type": "markdown",
   "metadata": {},
   "source": [
    "Same as Table 1 in the DsDA paper:\n",
    "- The percentage of all detected features that were sampled by MS/MS at least once.\n",
    "- The percentage of all features detected in at least 20% of the injections that were sampled by MS/MS at least once.\n",
    "- The total number of MS/MS events (absolute counts) that map to a feature\n",
    "\n",
    "![title](img/capture1.png)"
   ]
  },
  {
   "cell_type": "markdown",
   "metadata": {},
   "source": [
    "Same as Figure 1 in the DsDA paper:\n",
    "- Create 20 samples, run them through DsDA with or without maxdepth.\n",
    "- Figure 1. *Complex small-molecule sample injected 20 times using standard DDA (A), DsDA (B), or DsDA with the MaxDepth option enabled (C). Each panel contains a scatterplot in which each point represents an XCMS feature. All black points are plotted with sizes proportional to the number of times they were sampled for MS/MS (see legend). All points colored red remained unsampled at the end of the 20-injection sequence*\n",
    "\n",
    "![title](img/capture2.png)"
   ]
  },
  {
   "cell_type": "code",
   "execution_count": null,
   "metadata": {},
   "outputs": [],
   "source": []
  }
 ],
 "metadata": {
  "kernelspec": {
   "display_name": "Python 3",
   "language": "python",
   "name": "python3"
  },
  "language_info": {
   "codemirror_mode": {
    "name": "ipython",
    "version": 3
   },
   "file_extension": ".py",
   "mimetype": "text/x-python",
   "name": "python",
   "nbconvert_exporter": "python",
   "pygments_lexer": "ipython3",
   "version": "3.6.6"
  }
 },
 "nbformat": 4,
 "nbformat_minor": 2
}
