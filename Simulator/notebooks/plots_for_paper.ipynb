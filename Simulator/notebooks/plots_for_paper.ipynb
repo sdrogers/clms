{
 "cells": [
  {
   "cell_type": "markdown",
   "metadata": {},
   "source": [
    "# Results"
   ]
  },
  {
   "cell_type": "code",
   "execution_count": 1,
   "metadata": {},
   "outputs": [],
   "source": [
    "%load_ext autoreload\n",
    "%autoreload 2"
   ]
  },
  {
   "cell_type": "code",
   "execution_count": 2,
   "metadata": {},
   "outputs": [],
   "source": [
    "import numpy as np\n",
    "import sys\n",
    "import scipy.stats\n",
    "import re\n",
    "import os\n",
    "import pandas as pd\n",
    "import seaborn as sns"
   ]
  },
  {
   "cell_type": "code",
   "execution_count": 3,
   "metadata": {},
   "outputs": [],
   "source": [
    "sys.path.append('../codes')"
   ]
  },
  {
   "cell_type": "code",
   "execution_count": 4,
   "metadata": {},
   "outputs": [],
   "source": [
    "from VMSfunctions.Chemicals import *\n",
    "from VMSfunctions.Chromatograms import *\n",
    "from VMSfunctions.MassSpec import *\n",
    "from VMSfunctions.Controller import *\n",
    "from VMSfunctions.Common import *\n",
    "from VMSfunctions.DataGenerator import *\n",
    "from VMSfunctions.Noise import *"
   ]
  },
  {
   "cell_type": "code",
   "execution_count": 5,
   "metadata": {},
   "outputs": [],
   "source": [
    "base_dir = 'C:\\\\Users\\\\joewa\\\\University of Glasgow\\\\Vinny Davies - CLDS Metabolomics Project\\\\'"
   ]
  },
  {
   "cell_type": "code",
   "execution_count": 6,
   "metadata": {},
   "outputs": [],
   "source": [
    "# base_dir = 'C:\\\\Users\\\\Vinny\\\\OneDrive - University of Glasgow\\\\CLDS Metabolomics Project\\\\'"
   ]
  },
  {
   "cell_type": "markdown",
   "metadata": {},
   "source": [
    "## A. MS1 Spectra in ToppView"
   ]
  },
  {
   "cell_type": "markdown",
   "metadata": {},
   "source": [
    "## B. CentWave"
   ]
  },
  {
   "cell_type": "markdown",
   "metadata": {},
   "source": [
    "Load mzML in peak picking, and see if the same peaks are picked again.\n",
    "\n",
    "![title](img/placeholder.png)"
   ]
  },
  {
   "cell_type": "markdown",
   "metadata": {},
   "source": [
    "Boxplot comparing the intensity and number of peaks per scan distributions of MS1 peaks in the simulator vs picked peaks.\n",
    "- X-axis: samples\n",
    "- Y-axis: log_2 intensity"
   ]
  },
  {
   "cell_type": "code",
   "execution_count": 7,
   "metadata": {},
   "outputs": [],
   "source": [
    "df = pd.read_csv(os.path.join(base_dir, 'Manuscript\\\\B. CentWave\\\\mzML\\\\extracted_peaks_ms1.csv'))"
   ]
  },
  {
   "cell_type": "code",
   "execution_count": 8,
   "metadata": {},
   "outputs": [],
   "source": [
    "min_ms1_intensity = 2.5E5\n",
    "rt_range = [(3*60, 21*60)]\n",
    "mz_range = [(0, 1050)]"
   ]
  },
  {
   "cell_type": "code",
   "execution_count": 9,
   "metadata": {},
   "outputs": [],
   "source": [
    "intensity_col = 'maxo'\n",
    "df = df[(df['rt'] > rt_range[0][0]) & (df['rt'] < rt_range[0][1])]\n",
    "df = df[(df['rt'] > mz_range[0][0]) & (df['rt'] < mz_range[0][1])]\n",
    "df = df[(df[intensity_col] > min_ms1_intensity)]\n",
    "df['log_intensity'] = df.apply(lambda row: np.log(row[intensity_col]), axis=1)"
   ]
  },
  {
   "cell_type": "code",
   "execution_count": 10,
   "metadata": {},
   "outputs": [
    {
     "data": {
      "text/html": [
       "<div>\n",
       "<style scoped>\n",
       "    .dataframe tbody tr th:only-of-type {\n",
       "        vertical-align: middle;\n",
       "    }\n",
       "\n",
       "    .dataframe tbody tr th {\n",
       "        vertical-align: top;\n",
       "    }\n",
       "\n",
       "    .dataframe thead th {\n",
       "        text-align: right;\n",
       "    }\n",
       "</style>\n",
       "<table border=\"1\" class=\"dataframe\">\n",
       "  <thead>\n",
       "    <tr style=\"text-align: right;\">\n",
       "      <th></th>\n",
       "      <th>mz</th>\n",
       "      <th>mzmin</th>\n",
       "      <th>mzmax</th>\n",
       "      <th>rt</th>\n",
       "      <th>rtmin</th>\n",
       "      <th>rtmax</th>\n",
       "      <th>into</th>\n",
       "      <th>intb</th>\n",
       "      <th>maxo</th>\n",
       "      <th>sn</th>\n",
       "      <th>sample</th>\n",
       "      <th>is_filled</th>\n",
       "      <th>msLevel</th>\n",
       "      <th>filename</th>\n",
       "      <th>log_intensity</th>\n",
       "    </tr>\n",
       "  </thead>\n",
       "  <tbody>\n",
       "    <tr>\n",
       "      <th>200</th>\n",
       "      <td>128.953466</td>\n",
       "      <td>128.953430</td>\n",
       "      <td>128.953506</td>\n",
       "      <td>193.483</td>\n",
       "      <td>165.756</td>\n",
       "      <td>215.408</td>\n",
       "      <td>6.641639e+07</td>\n",
       "      <td>6.608331e+07</td>\n",
       "      <td>1.948148e+06</td>\n",
       "      <td>112</td>\n",
       "      <td>1</td>\n",
       "      <td>0</td>\n",
       "      <td>1</td>\n",
       "      <td>Beer_multibeers_1_fullscan1.mzML</td>\n",
       "      <td>14.482390</td>\n",
       "    </tr>\n",
       "    <tr>\n",
       "      <th>223</th>\n",
       "      <td>402.271539</td>\n",
       "      <td>402.271179</td>\n",
       "      <td>402.272064</td>\n",
       "      <td>204.018</td>\n",
       "      <td>198.778</td>\n",
       "      <td>212.928</td>\n",
       "      <td>1.719215e+06</td>\n",
       "      <td>1.719202e+06</td>\n",
       "      <td>2.516077e+05</td>\n",
       "      <td>251607</td>\n",
       "      <td>1</td>\n",
       "      <td>0</td>\n",
       "      <td>1</td>\n",
       "      <td>Beer_multibeers_1_fullscan1.mzML</td>\n",
       "      <td>12.435626</td>\n",
       "    </tr>\n",
       "    <tr>\n",
       "      <th>238</th>\n",
       "      <td>321.196281</td>\n",
       "      <td>321.196045</td>\n",
       "      <td>321.196533</td>\n",
       "      <td>210.280</td>\n",
       "      <td>204.018</td>\n",
       "      <td>215.408</td>\n",
       "      <td>1.868589e+06</td>\n",
       "      <td>1.867575e+06</td>\n",
       "      <td>3.243222e+05</td>\n",
       "      <td>215</td>\n",
       "      <td>1</td>\n",
       "      <td>0</td>\n",
       "      <td>1</td>\n",
       "      <td>Beer_multibeers_1_fullscan1.mzML</td>\n",
       "      <td>12.689493</td>\n",
       "    </tr>\n",
       "    <tr>\n",
       "      <th>240</th>\n",
       "      <td>365.222356</td>\n",
       "      <td>365.221771</td>\n",
       "      <td>365.222687</td>\n",
       "      <td>210.280</td>\n",
       "      <td>202.760</td>\n",
       "      <td>216.687</td>\n",
       "      <td>1.750961e+06</td>\n",
       "      <td>1.748449e+06</td>\n",
       "      <td>2.863134e+05</td>\n",
       "      <td>136</td>\n",
       "      <td>1</td>\n",
       "      <td>0</td>\n",
       "      <td>1</td>\n",
       "      <td>Beer_multibeers_1_fullscan1.mzML</td>\n",
       "      <td>12.564842</td>\n",
       "    </tr>\n",
       "    <tr>\n",
       "      <th>242</th>\n",
       "      <td>275.163879</td>\n",
       "      <td>275.163757</td>\n",
       "      <td>275.164032</td>\n",
       "      <td>205.268</td>\n",
       "      <td>197.513</td>\n",
       "      <td>211.521</td>\n",
       "      <td>4.486897e+06</td>\n",
       "      <td>4.471453e+06</td>\n",
       "      <td>5.350006e+05</td>\n",
       "      <td>93</td>\n",
       "      <td>1</td>\n",
       "      <td>0</td>\n",
       "      <td>1</td>\n",
       "      <td>Beer_multibeers_1_fullscan1.mzML</td>\n",
       "      <td>13.190023</td>\n",
       "    </tr>\n",
       "  </tbody>\n",
       "</table>\n",
       "</div>"
      ],
      "text/plain": [
       "             mz       mzmin       mzmax       rt    rtmin    rtmax  \\\n",
       "200  128.953466  128.953430  128.953506  193.483  165.756  215.408   \n",
       "223  402.271539  402.271179  402.272064  204.018  198.778  212.928   \n",
       "238  321.196281  321.196045  321.196533  210.280  204.018  215.408   \n",
       "240  365.222356  365.221771  365.222687  210.280  202.760  216.687   \n",
       "242  275.163879  275.163757  275.164032  205.268  197.513  211.521   \n",
       "\n",
       "             into          intb          maxo      sn  sample  is_filled  \\\n",
       "200  6.641639e+07  6.608331e+07  1.948148e+06     112       1          0   \n",
       "223  1.719215e+06  1.719202e+06  2.516077e+05  251607       1          0   \n",
       "238  1.868589e+06  1.867575e+06  3.243222e+05     215       1          0   \n",
       "240  1.750961e+06  1.748449e+06  2.863134e+05     136       1          0   \n",
       "242  4.486897e+06  4.471453e+06  5.350006e+05      93       1          0   \n",
       "\n",
       "     msLevel                          filename  log_intensity  \n",
       "200        1  Beer_multibeers_1_fullscan1.mzML      14.482390  \n",
       "223        1  Beer_multibeers_1_fullscan1.mzML      12.435626  \n",
       "238        1  Beer_multibeers_1_fullscan1.mzML      12.689493  \n",
       "240        1  Beer_multibeers_1_fullscan1.mzML      12.564842  \n",
       "242        1  Beer_multibeers_1_fullscan1.mzML      13.190023  "
      ]
     },
     "execution_count": 10,
     "metadata": {},
     "output_type": "execute_result"
    }
   ],
   "source": [
    "df.head()"
   ]
  },
  {
   "cell_type": "code",
   "execution_count": 11,
   "metadata": {},
   "outputs": [],
   "source": [
    "def make_boxplot(df, x, y, xticklabels, title):\n",
    "    g = sns.catplot(x=x, y=y,  kind='box', data=df)\n",
    "    if xticklabels is not None:\n",
    "        g.set_xticklabels(xticklabels, rotation=90)\n",
    "    else:\n",
    "        g.set_xticklabels(rotation=90)        \n",
    "    plt.title(title)\n",
    "    plt.tight_layout()\n",
    "    plt.show()"
   ]
  },
  {
   "cell_type": "code",
   "execution_count": 12,
   "metadata": {},
   "outputs": [],
   "source": [
    "def make_hist(df, col_name, file_name, title):\n",
    "    gb = df.groupby('filename')\n",
    "    group_df = gb.get_group(file_name)\n",
    "    vals = group_df[col_name].values\n",
    "    print(vals, len(vals))\n",
    "    _ = plt.hist(vals, bins=100)\n",
    "    plt.title(title)\n",
    "    plt.tight_layout()\n",
    "    plt.show()"
   ]
  },
  {
   "cell_type": "markdown",
   "metadata": {},
   "source": [
    "Plot MS1 features"
   ]
  },
  {
   "cell_type": "code",
   "execution_count": 13,
   "metadata": {},
   "outputs": [
    {
     "data": {
      "text/html": [
       "<div>\n",
       "<style scoped>\n",
       "    .dataframe tbody tr th:only-of-type {\n",
       "        vertical-align: middle;\n",
       "    }\n",
       "\n",
       "    .dataframe tbody tr th {\n",
       "        vertical-align: top;\n",
       "    }\n",
       "\n",
       "    .dataframe thead th {\n",
       "        text-align: right;\n",
       "    }\n",
       "</style>\n",
       "<table border=\"1\" class=\"dataframe\">\n",
       "  <thead>\n",
       "    <tr style=\"text-align: right;\">\n",
       "      <th></th>\n",
       "      <th>mz</th>\n",
       "      <th>mzmin</th>\n",
       "      <th>mzmax</th>\n",
       "      <th>rt</th>\n",
       "      <th>rtmin</th>\n",
       "      <th>rtmax</th>\n",
       "      <th>into</th>\n",
       "      <th>intb</th>\n",
       "      <th>maxo</th>\n",
       "      <th>sn</th>\n",
       "      <th>sample</th>\n",
       "      <th>is_filled</th>\n",
       "      <th>msLevel</th>\n",
       "      <th>log_intensity</th>\n",
       "    </tr>\n",
       "    <tr>\n",
       "      <th>filename</th>\n",
       "      <th></th>\n",
       "      <th></th>\n",
       "      <th></th>\n",
       "      <th></th>\n",
       "      <th></th>\n",
       "      <th></th>\n",
       "      <th></th>\n",
       "      <th></th>\n",
       "      <th></th>\n",
       "      <th></th>\n",
       "      <th></th>\n",
       "      <th></th>\n",
       "      <th></th>\n",
       "      <th></th>\n",
       "    </tr>\n",
       "  </thead>\n",
       "  <tbody>\n",
       "    <tr>\n",
       "      <th>Beer_multibeers_12_fullscan1.mzML</th>\n",
       "      <td>975</td>\n",
       "      <td>975</td>\n",
       "      <td>975</td>\n",
       "      <td>975</td>\n",
       "      <td>975</td>\n",
       "      <td>975</td>\n",
       "      <td>975</td>\n",
       "      <td>975</td>\n",
       "      <td>975</td>\n",
       "      <td>975</td>\n",
       "      <td>975</td>\n",
       "      <td>975</td>\n",
       "      <td>975</td>\n",
       "      <td>975</td>\n",
       "    </tr>\n",
       "    <tr>\n",
       "      <th>Beer_multibeers_18_fullscan1.mzML</th>\n",
       "      <td>6881</td>\n",
       "      <td>6881</td>\n",
       "      <td>6881</td>\n",
       "      <td>6881</td>\n",
       "      <td>6881</td>\n",
       "      <td>6881</td>\n",
       "      <td>6881</td>\n",
       "      <td>6881</td>\n",
       "      <td>6881</td>\n",
       "      <td>6881</td>\n",
       "      <td>6881</td>\n",
       "      <td>6881</td>\n",
       "      <td>6881</td>\n",
       "      <td>6881</td>\n",
       "    </tr>\n",
       "    <tr>\n",
       "      <th>Beer_multibeers_1_fullscan1.mzML</th>\n",
       "      <td>5721</td>\n",
       "      <td>5721</td>\n",
       "      <td>5721</td>\n",
       "      <td>5721</td>\n",
       "      <td>5721</td>\n",
       "      <td>5721</td>\n",
       "      <td>5721</td>\n",
       "      <td>5721</td>\n",
       "      <td>5721</td>\n",
       "      <td>5721</td>\n",
       "      <td>5721</td>\n",
       "      <td>5721</td>\n",
       "      <td>5721</td>\n",
       "      <td>5721</td>\n",
       "    </tr>\n",
       "    <tr>\n",
       "      <th>Beer_multibeers_6_fullscan1.mzML</th>\n",
       "      <td>5614</td>\n",
       "      <td>5614</td>\n",
       "      <td>5614</td>\n",
       "      <td>5614</td>\n",
       "      <td>5614</td>\n",
       "      <td>5614</td>\n",
       "      <td>5614</td>\n",
       "      <td>5614</td>\n",
       "      <td>5614</td>\n",
       "      <td>5614</td>\n",
       "      <td>5614</td>\n",
       "      <td>5614</td>\n",
       "      <td>5614</td>\n",
       "      <td>5614</td>\n",
       "    </tr>\n",
       "    <tr>\n",
       "      <th>no_noise_ms1_controller.mzML</th>\n",
       "      <td>3718</td>\n",
       "      <td>3718</td>\n",
       "      <td>3718</td>\n",
       "      <td>3718</td>\n",
       "      <td>3718</td>\n",
       "      <td>3718</td>\n",
       "      <td>3718</td>\n",
       "      <td>3718</td>\n",
       "      <td>3718</td>\n",
       "      <td>3718</td>\n",
       "      <td>3718</td>\n",
       "      <td>3718</td>\n",
       "      <td>3718</td>\n",
       "      <td>3718</td>\n",
       "    </tr>\n",
       "    <tr>\n",
       "      <th>noisy_ms1_controller.mzML</th>\n",
       "      <td>4864</td>\n",
       "      <td>4864</td>\n",
       "      <td>4864</td>\n",
       "      <td>4864</td>\n",
       "      <td>4864</td>\n",
       "      <td>4864</td>\n",
       "      <td>4864</td>\n",
       "      <td>4864</td>\n",
       "      <td>4864</td>\n",
       "      <td>4864</td>\n",
       "      <td>4864</td>\n",
       "      <td>4864</td>\n",
       "      <td>4864</td>\n",
       "      <td>4864</td>\n",
       "    </tr>\n",
       "  </tbody>\n",
       "</table>\n",
       "</div>"
      ],
      "text/plain": [
       "                                     mz  mzmin  mzmax    rt  rtmin  rtmax  \\\n",
       "filename                                                                    \n",
       "Beer_multibeers_12_fullscan1.mzML   975    975    975   975    975    975   \n",
       "Beer_multibeers_18_fullscan1.mzML  6881   6881   6881  6881   6881   6881   \n",
       "Beer_multibeers_1_fullscan1.mzML   5721   5721   5721  5721   5721   5721   \n",
       "Beer_multibeers_6_fullscan1.mzML   5614   5614   5614  5614   5614   5614   \n",
       "no_noise_ms1_controller.mzML       3718   3718   3718  3718   3718   3718   \n",
       "noisy_ms1_controller.mzML          4864   4864   4864  4864   4864   4864   \n",
       "\n",
       "                                   into  intb  maxo    sn  sample  is_filled  \\\n",
       "filename                                                                       \n",
       "Beer_multibeers_12_fullscan1.mzML   975   975   975   975     975        975   \n",
       "Beer_multibeers_18_fullscan1.mzML  6881  6881  6881  6881    6881       6881   \n",
       "Beer_multibeers_1_fullscan1.mzML   5721  5721  5721  5721    5721       5721   \n",
       "Beer_multibeers_6_fullscan1.mzML   5614  5614  5614  5614    5614       5614   \n",
       "no_noise_ms1_controller.mzML       3718  3718  3718  3718    3718       3718   \n",
       "noisy_ms1_controller.mzML          4864  4864  4864  4864    4864       4864   \n",
       "\n",
       "                                   msLevel  log_intensity  \n",
       "filename                                                   \n",
       "Beer_multibeers_12_fullscan1.mzML      975            975  \n",
       "Beer_multibeers_18_fullscan1.mzML     6881           6881  \n",
       "Beer_multibeers_1_fullscan1.mzML      5721           5721  \n",
       "Beer_multibeers_6_fullscan1.mzML      5614           5614  \n",
       "no_noise_ms1_controller.mzML          3718           3718  \n",
       "noisy_ms1_controller.mzML             4864           4864  "
      ]
     },
     "execution_count": 13,
     "metadata": {},
     "output_type": "execute_result"
    }
   ],
   "source": [
    "df.groupby('filename').count()"
   ]
  },
  {
   "cell_type": "code",
   "execution_count": 14,
   "metadata": {},
   "outputs": [
    {
     "data": {
      "text/html": [
       "<div>\n",
       "<style scoped>\n",
       "    .dataframe tbody tr th:only-of-type {\n",
       "        vertical-align: middle;\n",
       "    }\n",
       "\n",
       "    .dataframe tbody tr th {\n",
       "        vertical-align: top;\n",
       "    }\n",
       "\n",
       "    .dataframe thead th {\n",
       "        text-align: right;\n",
       "    }\n",
       "</style>\n",
       "<table border=\"1\" class=\"dataframe\">\n",
       "  <thead>\n",
       "    <tr style=\"text-align: right;\">\n",
       "      <th></th>\n",
       "      <th>mz</th>\n",
       "      <th>mzmin</th>\n",
       "      <th>mzmax</th>\n",
       "      <th>rt</th>\n",
       "      <th>rtmin</th>\n",
       "      <th>rtmax</th>\n",
       "      <th>into</th>\n",
       "      <th>intb</th>\n",
       "      <th>maxo</th>\n",
       "      <th>sn</th>\n",
       "      <th>sample</th>\n",
       "      <th>is_filled</th>\n",
       "      <th>msLevel</th>\n",
       "      <th>log_intensity</th>\n",
       "    </tr>\n",
       "    <tr>\n",
       "      <th>filename</th>\n",
       "      <th></th>\n",
       "      <th></th>\n",
       "      <th></th>\n",
       "      <th></th>\n",
       "      <th></th>\n",
       "      <th></th>\n",
       "      <th></th>\n",
       "      <th></th>\n",
       "      <th></th>\n",
       "      <th></th>\n",
       "      <th></th>\n",
       "      <th></th>\n",
       "      <th></th>\n",
       "      <th></th>\n",
       "    </tr>\n",
       "  </thead>\n",
       "  <tbody>\n",
       "    <tr>\n",
       "      <th>Beer_multibeers_12_fullscan1.mzML</th>\n",
       "      <td>235.143884</td>\n",
       "      <td>235.143860</td>\n",
       "      <td>235.143906</td>\n",
       "      <td>720.150000</td>\n",
       "      <td>713.865000</td>\n",
       "      <td>726.494000</td>\n",
       "      <td>7.052825e+06</td>\n",
       "      <td>6.876543e+06</td>\n",
       "      <td>678254.81250</td>\n",
       "      <td>85.0</td>\n",
       "      <td>2.0</td>\n",
       "      <td>0.0</td>\n",
       "      <td>1.0</td>\n",
       "      <td>13.427278</td>\n",
       "    </tr>\n",
       "    <tr>\n",
       "      <th>Beer_multibeers_18_fullscan1.mzML</th>\n",
       "      <td>261.111910</td>\n",
       "      <td>261.111816</td>\n",
       "      <td>261.112030</td>\n",
       "      <td>440.726000</td>\n",
       "      <td>430.657000</td>\n",
       "      <td>449.635000</td>\n",
       "      <td>6.520123e+06</td>\n",
       "      <td>6.382879e+06</td>\n",
       "      <td>732490.50000</td>\n",
       "      <td>51.0</td>\n",
       "      <td>3.0</td>\n",
       "      <td>0.0</td>\n",
       "      <td>1.0</td>\n",
       "      <td>13.504206</td>\n",
       "    </tr>\n",
       "    <tr>\n",
       "      <th>Beer_multibeers_1_fullscan1.mzML</th>\n",
       "      <td>246.097181</td>\n",
       "      <td>246.096970</td>\n",
       "      <td>246.097321</td>\n",
       "      <td>514.102000</td>\n",
       "      <td>505.389000</td>\n",
       "      <td>525.598000</td>\n",
       "      <td>6.463699e+06</td>\n",
       "      <td>6.341058e+06</td>\n",
       "      <td>675971.12500</td>\n",
       "      <td>47.0</td>\n",
       "      <td>1.0</td>\n",
       "      <td>0.0</td>\n",
       "      <td>1.0</td>\n",
       "      <td>13.423906</td>\n",
       "    </tr>\n",
       "    <tr>\n",
       "      <th>Beer_multibeers_6_fullscan1.mzML</th>\n",
       "      <td>267.108497</td>\n",
       "      <td>267.108337</td>\n",
       "      <td>267.108673</td>\n",
       "      <td>477.883000</td>\n",
       "      <td>469.013000</td>\n",
       "      <td>486.944000</td>\n",
       "      <td>5.824679e+06</td>\n",
       "      <td>5.701706e+06</td>\n",
       "      <td>602564.28125</td>\n",
       "      <td>53.0</td>\n",
       "      <td>4.0</td>\n",
       "      <td>0.0</td>\n",
       "      <td>1.0</td>\n",
       "      <td>13.308950</td>\n",
       "    </tr>\n",
       "    <tr>\n",
       "      <th>no_noise_ms1_controller.mzML</th>\n",
       "      <td>213.063689</td>\n",
       "      <td>213.063530</td>\n",
       "      <td>213.063904</td>\n",
       "      <td>515.170316</td>\n",
       "      <td>507.412610</td>\n",
       "      <td>522.785961</td>\n",
       "      <td>6.099584e+06</td>\n",
       "      <td>6.094738e+06</td>\n",
       "      <td>664304.53125</td>\n",
       "      <td>651934.0</td>\n",
       "      <td>5.0</td>\n",
       "      <td>0.0</td>\n",
       "      <td>1.0</td>\n",
       "      <td>13.406496</td>\n",
       "    </tr>\n",
       "    <tr>\n",
       "      <th>noisy_ms1_controller.mzML</th>\n",
       "      <td>218.136408</td>\n",
       "      <td>218.136124</td>\n",
       "      <td>218.136635</td>\n",
       "      <td>545.345213</td>\n",
       "      <td>536.178211</td>\n",
       "      <td>554.373555</td>\n",
       "      <td>5.117699e+06</td>\n",
       "      <td>5.113215e+06</td>\n",
       "      <td>546030.25000</td>\n",
       "      <td>535110.5</td>\n",
       "      <td>6.0</td>\n",
       "      <td>0.0</td>\n",
       "      <td>1.0</td>\n",
       "      <td>13.210430</td>\n",
       "    </tr>\n",
       "  </tbody>\n",
       "</table>\n",
       "</div>"
      ],
      "text/plain": [
       "                                           mz       mzmin       mzmax  \\\n",
       "filename                                                                \n",
       "Beer_multibeers_12_fullscan1.mzML  235.143884  235.143860  235.143906   \n",
       "Beer_multibeers_18_fullscan1.mzML  261.111910  261.111816  261.112030   \n",
       "Beer_multibeers_1_fullscan1.mzML   246.097181  246.096970  246.097321   \n",
       "Beer_multibeers_6_fullscan1.mzML   267.108497  267.108337  267.108673   \n",
       "no_noise_ms1_controller.mzML       213.063689  213.063530  213.063904   \n",
       "noisy_ms1_controller.mzML          218.136408  218.136124  218.136635   \n",
       "\n",
       "                                           rt       rtmin       rtmax  \\\n",
       "filename                                                                \n",
       "Beer_multibeers_12_fullscan1.mzML  720.150000  713.865000  726.494000   \n",
       "Beer_multibeers_18_fullscan1.mzML  440.726000  430.657000  449.635000   \n",
       "Beer_multibeers_1_fullscan1.mzML   514.102000  505.389000  525.598000   \n",
       "Beer_multibeers_6_fullscan1.mzML   477.883000  469.013000  486.944000   \n",
       "no_noise_ms1_controller.mzML       515.170316  507.412610  522.785961   \n",
       "noisy_ms1_controller.mzML          545.345213  536.178211  554.373555   \n",
       "\n",
       "                                           into          intb          maxo  \\\n",
       "filename                                                                      \n",
       "Beer_multibeers_12_fullscan1.mzML  7.052825e+06  6.876543e+06  678254.81250   \n",
       "Beer_multibeers_18_fullscan1.mzML  6.520123e+06  6.382879e+06  732490.50000   \n",
       "Beer_multibeers_1_fullscan1.mzML   6.463699e+06  6.341058e+06  675971.12500   \n",
       "Beer_multibeers_6_fullscan1.mzML   5.824679e+06  5.701706e+06  602564.28125   \n",
       "no_noise_ms1_controller.mzML       6.099584e+06  6.094738e+06  664304.53125   \n",
       "noisy_ms1_controller.mzML          5.117699e+06  5.113215e+06  546030.25000   \n",
       "\n",
       "                                         sn  sample  is_filled  msLevel  \\\n",
       "filename                                                                  \n",
       "Beer_multibeers_12_fullscan1.mzML      85.0     2.0        0.0      1.0   \n",
       "Beer_multibeers_18_fullscan1.mzML      51.0     3.0        0.0      1.0   \n",
       "Beer_multibeers_1_fullscan1.mzML       47.0     1.0        0.0      1.0   \n",
       "Beer_multibeers_6_fullscan1.mzML       53.0     4.0        0.0      1.0   \n",
       "no_noise_ms1_controller.mzML       651934.0     5.0        0.0      1.0   \n",
       "noisy_ms1_controller.mzML          535110.5     6.0        0.0      1.0   \n",
       "\n",
       "                                   log_intensity  \n",
       "filename                                          \n",
       "Beer_multibeers_12_fullscan1.mzML      13.427278  \n",
       "Beer_multibeers_18_fullscan1.mzML      13.504206  \n",
       "Beer_multibeers_1_fullscan1.mzML       13.423906  \n",
       "Beer_multibeers_6_fullscan1.mzML       13.308950  \n",
       "no_noise_ms1_controller.mzML           13.406496  \n",
       "noisy_ms1_controller.mzML              13.210430  "
      ]
     },
     "execution_count": 14,
     "metadata": {},
     "output_type": "execute_result"
    }
   ],
   "source": [
    "df.groupby('filename').median()"
   ]
  },
  {
   "cell_type": "code",
   "execution_count": 15,
   "metadata": {},
   "outputs": [
    {
     "name": "stdout",
     "output_type": "stream",
     "text": [
      "[ 193.483  204.018  210.28  ...  916.207 1020.82   809.581] 5721\n"
     ]
    },
    {
     "data": {
      "image/png": "[encoded data removed]",
      "text/plain": [
       "<Figure size 432x288 with 1 Axes>"
      ]
     },
     "metadata": {
      "needs_background": "light"
     },
     "output_type": "display_data"
    },
    {
     "name": "stdout",
     "output_type": "stream",
     "text": [
      "[ 185.44028791  186.68194243  189.32581501 ... 1039.02755687 1032.53377894\n",
      " 1048.2977746 ] 3718\n"
     ]
    },
    {
     "data": {
      "image/png": "[encoded data removed]",
      "text/plain": [
       "<Figure size 432x288 with 1 Axes>"
      ]
     },
     "metadata": {
      "needs_background": "light"
     },
     "output_type": "display_data"
    },
    {
     "name": "stdout",
     "output_type": "stream",
     "text": [
      "[ 186.27474581  188.8125202   186.27474581 ...  873.87607496 1010.90974286\n",
      "  987.52257349] 4864\n"
     ]
    },
    {
     "data": {
      "image/png": "[encoded data removed]",
      "text/plain": [
       "<Figure size 432x288 with 1 Axes>"
      ]
     },
     "metadata": {
      "needs_background": "light"
     },
     "output_type": "display_data"
    }
   ],
   "source": [
    "fname = 'Beer_multibeers_1_fullscan1.mzML'\n",
    "make_hist(df, 'rt', fname, 'RT - %s' % fname)\n",
    "\n",
    "fname = 'no_noise_ms1_controller.mzML'\n",
    "make_hist(df, 'rt', fname, 'RT - %s' % fname)\n",
    "\n",
    "fname = 'noisy_ms1_controller.mzML'\n",
    "make_hist(df, 'rt', fname, 'RT - %s' % fname)"
   ]
  },
  {
   "cell_type": "code",
   "execution_count": 16,
   "metadata": {},
   "outputs": [
    {
     "data": {
      "image/png": "[encoded data removed]",
      "text/plain": [
       "<Figure size 360x360 with 1 Axes>"
      ]
     },
     "metadata": {
      "needs_background": "light"
     },
     "output_type": "display_data"
    }
   ],
   "source": [
    "make_boxplot(df, 'filename', 'mz', None, \n",
    "             'm/z distributions of MS1 features')"
   ]
  },
  {
   "cell_type": "code",
   "execution_count": 17,
   "metadata": {
    "scrolled": false
   },
   "outputs": [
    {
     "data": {
      "image/png": "[encoded data removed]",
      "text/plain": [
       "<Figure size 360x360 with 1 Axes>"
      ]
     },
     "metadata": {
      "needs_background": "light"
     },
     "output_type": "display_data"
    }
   ],
   "source": [
    "make_boxplot(df, 'filename', 'rt', None, \n",
    "             'RT distributions of MS1 features')"
   ]
  },
  {
   "cell_type": "code",
   "execution_count": 18,
   "metadata": {},
   "outputs": [
    {
     "data": {
      "image/png": "[encoded data removed]",
      "text/plain": [
       "<Figure size 360x360 with 1 Axes>"
      ]
     },
     "metadata": {
      "needs_background": "light"
     },
     "output_type": "display_data"
    }
   ],
   "source": [
    "make_boxplot(df, 'filename', 'log_intensity', None, \n",
    "             'Intensity distributions of MS1 features')"
   ]
  },
  {
   "cell_type": "markdown",
   "metadata": {},
   "source": [
    "## C. Top-N DDA Fragmentation Compared to the Real Data"
   ]
  },
  {
   "cell_type": "markdown",
   "metadata": {},
   "source": [
    "We want to compare the DDA results against real data.\n",
    "- Do peak picking and make boxplots of m/z, RT and intensity values of MS1 peaks.\n",
    "- Show the fragmentation event plot in ToppView of real vs simulated data.\n",
    "- Show some of the largest peaks and their fragmentation pattern.\n",
    "- Show for the T10 data, what’s their precision and recall values and RMSE."
   ]
  },
  {
   "cell_type": "code",
   "execution_count": null,
   "metadata": {},
   "outputs": [],
   "source": []
  },
  {
   "cell_type": "markdown",
   "metadata": {},
   "source": [
    "## D. Case Study 1: Varying N in top-N DDA fragmentation"
   ]
  },
  {
   "cell_type": "markdown",
   "metadata": {},
   "source": [
    "Vary Ns from the data in C and plot the following for each N:\n",
    "- Proportion of the original MS1 peaks that were fragmented\n",
    "- Number of MS2 peaks that map to the original MS1 peak\n",
    "- 3D plot of various values for Ns vs dynamic exclusion windows?\n",
    "- Number of MS1 peaks that can be picked by XCMS CentWave"
   ]
  },
  {
   "cell_type": "code",
   "execution_count": null,
   "metadata": {},
   "outputs": [],
   "source": [
    "df = pd.read_csv(os.path.join(base_dir, 'Manuscript\\\\D. Case Study 1 Varying N in top-N DDA fragmentation\\\\mzML\\\\extracted_peaks_ms1.csv'))"
   ]
  },
  {
   "cell_type": "code",
   "execution_count": null,
   "metadata": {},
   "outputs": [],
   "source": [
    "df.head()"
   ]
  },
  {
   "cell_type": "code",
   "execution_count": null,
   "metadata": {},
   "outputs": [],
   "source": [
    "df['log_intensity'] = df.apply(lambda row: np.log(row['into']), axis=1)"
   ]
  },
  {
   "cell_type": "code",
   "execution_count": null,
   "metadata": {},
   "outputs": [],
   "source": [
    "def make_boxplot(df, x, y, xticklabels, title):\n",
    "    plt.gcf().set_size_inches(15, 5)\n",
    "    g = sns.catplot(x=x, y=y,  kind='box', data=df)\n",
    "    if xticklabels is not None:\n",
    "        g.set_xticklabels(xticklabels, rotation=90)\n",
    "    else:\n",
    "        g.set_xticklabels(rotation=90)        \n",
    "    plt.title(title)\n",
    "    plt.tight_layout()"
   ]
  },
  {
   "cell_type": "code",
   "execution_count": null,
   "metadata": {},
   "outputs": [],
   "source": [
    "make_boxplot(df, 'filename', 'mz', None, \n",
    "             'mz distributions of MS1 features detected by CentWave')\n",
    "\n",
    "make_boxplot(df, 'filename', 'rt', None, \n",
    "             'rt distributions of MS1 features detected by CentWave')\n",
    "\n",
    "make_boxplot(df, 'filename', 'log_intensity', None, \n",
    "             'Intensity distributions of MS1 features detected by CentWave')"
   ]
  },
  {
   "cell_type": "code",
   "execution_count": null,
   "metadata": {},
   "outputs": [],
   "source": [
    "count_df = df.groupby('filename').size().reset_index(name='counts')"
   ]
  },
  {
   "cell_type": "code",
   "execution_count": null,
   "metadata": {},
   "outputs": [],
   "source": [
    "# count_df['N'] = df.apply(lambda row: row.values, axis=1)"
   ]
  },
  {
   "cell_type": "code",
   "execution_count": null,
   "metadata": {},
   "outputs": [],
   "source": [
    "arrays = []\n",
    "for arr in count_df.values:\n",
    "    N = arr[0].split('_')[2]\n",
    "    arrays.append((arr[0], N, arr[1]))\n",
    "arrays = np.array(arrays)"
   ]
  },
  {
   "cell_type": "code",
   "execution_count": null,
   "metadata": {},
   "outputs": [],
   "source": [
    "df = pd.DataFrame(arrays, columns=['filename', 'N', 'count'])"
   ]
  },
  {
   "cell_type": "code",
   "execution_count": null,
   "metadata": {},
   "outputs": [],
   "source": [
    "df['N'] = df['N'].apply(int)\n",
    "df['count'] = df['count'].apply(int)"
   ]
  },
  {
   "cell_type": "code",
   "execution_count": null,
   "metadata": {},
   "outputs": [],
   "source": [
    "df = df.sort_values('N')"
   ]
  },
  {
   "cell_type": "code",
   "execution_count": null,
   "metadata": {},
   "outputs": [],
   "source": [
    "df.head()"
   ]
  },
  {
   "cell_type": "code",
   "execution_count": null,
   "metadata": {},
   "outputs": [],
   "source": [
    "sns.lineplot(x='N', y='count', data=df)\n",
    "plt.title('Number of MS1 features detected by CentWave')"
   ]
  },
  {
   "cell_type": "markdown",
   "metadata": {},
   "source": [
    "## E. Case Study 2: Reproduce DIA results"
   ]
  },
  {
   "cell_type": "markdown",
   "metadata": {},
   "source": [
    "![title](img/placeholder.png)"
   ]
  },
  {
   "cell_type": "markdown",
   "metadata": {},
   "source": [
    "## F. Case Study 3: Reproduce DsDA results"
   ]
  },
  {
   "cell_type": "markdown",
   "metadata": {},
   "source": [
    "Same as Table 1 in the DsDA paper:\n",
    "- The percentage of all detected features that were sampled by MS/MS at least once.\n",
    "- The percentage of all features detected in at least 20% of the injections that were sampled by MS/MS at least once.\n",
    "- The total number of MS/MS events (absolute counts) that map to a feature\n",
    "\n",
    "![title](img/capture1.png)"
   ]
  },
  {
   "cell_type": "markdown",
   "metadata": {},
   "source": [
    "Same as Figure 1 in the DsDA paper:\n",
    "- Create 20 samples, run them through DsDA with or without maxdepth.\n",
    "- Figure 1. *Complex small-molecule sample injected 20 times using standard DDA (A), DsDA (B), or DsDA with the MaxDepth option enabled (C). Each panel contains a scatterplot in which each point represents an XCMS feature. All black points are plotted with sizes proportional to the number of times they were sampled for MS/MS (see legend). All points colored red remained unsampled at the end of the 20-injection sequence*\n",
    "\n",
    "![title](img/capture2.png)"
   ]
  },
  {
   "cell_type": "code",
   "execution_count": null,
   "metadata": {},
   "outputs": [],
   "source": []
  }
 ],
 "metadata": {
  "kernelspec": {
   "display_name": "Python 3",
   "language": "python",
   "name": "python3"
  },
  "language_info": {
   "codemirror_mode": {
    "name": "ipython",
    "version": 3
   },
   "file_extension": ".py",
   "mimetype": "text/x-python",
   "name": "python",
   "nbconvert_exporter": "python",
   "pygments_lexer": "ipython3",
   "version": "3.6.6"
  }
 },
 "nbformat": 4,
 "nbformat_minor": 2
}
