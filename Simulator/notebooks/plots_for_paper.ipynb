{
 "cells": [
  {
   "cell_type": "markdown",
   "metadata": {},
   "source": [
    "# Results"
   ]
  },
  {
   "cell_type": "code",
   "execution_count": 45,
   "metadata": {},
   "outputs": [
    {
     "name": "stdout",
     "output_type": "stream",
     "text": [
      "The autoreload extension is already loaded. To reload it, use:\n",
      "  %reload_ext autoreload\n"
     ]
    }
   ],
   "source": [
    "%load_ext autoreload\n",
    "%autoreload 2"
   ]
  },
  {
   "cell_type": "code",
   "execution_count": 46,
   "metadata": {},
   "outputs": [],
   "source": [
    "import numpy as np\n",
    "import sys\n",
    "import scipy.stats\n",
    "import re\n",
    "import os\n",
    "import pandas as pd\n",
    "import seaborn as sns"
   ]
  },
  {
   "cell_type": "code",
   "execution_count": 47,
   "metadata": {},
   "outputs": [],
   "source": [
    "sys.path.append('../codes')"
   ]
  },
  {
   "cell_type": "code",
   "execution_count": 48,
   "metadata": {},
   "outputs": [],
   "source": [
    "from VMSfunctions.Chemicals import *\n",
    "from VMSfunctions.Chromatograms import *\n",
    "from VMSfunctions.MassSpec import *\n",
    "from VMSfunctions.Controller import *\n",
    "from VMSfunctions.Common import *\n",
    "from VMSfunctions.DataGenerator import *\n",
    "from VMSfunctions.Noise import *"
   ]
  },
  {
   "cell_type": "code",
   "execution_count": 49,
   "metadata": {},
   "outputs": [],
   "source": [
    "base_dir = 'C:\\\\Users\\\\joewa\\\\University of Glasgow\\\\Vinny Davies - CLDS Metabolomics Project\\\\'\n",
    "base_dir = 'C:\\\\Users\\\\Vinny\\\\OneDrive - University of Glasgow\\\\CLDS Metabolomics Project\\\\'"
   ]
  },
  {
   "cell_type": "markdown",
   "metadata": {},
   "source": [
    "## A. MS1 Spectra in ToppView"
   ]
  },
  {
   "cell_type": "markdown",
   "metadata": {},
   "source": [
    "## B. CentWave"
   ]
  },
  {
   "cell_type": "markdown",
   "metadata": {},
   "source": [
    "Load mzML in peak picking, and see if the same peaks are picked again.\n",
    "\n",
    "![title](img/placeholder.png)"
   ]
  },
  {
   "cell_type": "markdown",
   "metadata": {},
   "source": [
    "Boxplot comparing the intensity and number of peaks per scan distributions of MS1 peaks in the simulator vs picked peaks.\n",
    "- X-axis: samples\n",
    "- Y-axis: log_2 intensity"
   ]
  },
  {
   "cell_type": "code",
   "execution_count": 50,
   "metadata": {},
   "outputs": [],
   "source": [
    "df = pd.read_csv(os.path.join(base_dir, 'Manuscript\\\\B. CentWave\\\\mzML\\\\extracted_peaks_ms1.csv'))"
   ]
  },
  {
   "cell_type": "code",
   "execution_count": 51,
   "metadata": {},
   "outputs": [],
   "source": [
    "df['log_intensity'] = df.apply(lambda row: np.log(row['into']), axis=1)"
   ]
  },
  {
   "cell_type": "code",
   "execution_count": 52,
   "metadata": {},
   "outputs": [
    {
     "data": {
      "text/html": [
       "<div>\n",
       "<style scoped>\n",
       "    .dataframe tbody tr th:only-of-type {\n",
       "        vertical-align: middle;\n",
       "    }\n",
       "\n",
       "    .dataframe tbody tr th {\n",
       "        vertical-align: top;\n",
       "    }\n",
       "\n",
       "    .dataframe thead th {\n",
       "        text-align: right;\n",
       "    }\n",
       "</style>\n",
       "<table border=\"1\" class=\"dataframe\">\n",
       "  <thead>\n",
       "    <tr style=\"text-align: right;\">\n",
       "      <th></th>\n",
       "      <th>mz</th>\n",
       "      <th>mzmin</th>\n",
       "      <th>mzmax</th>\n",
       "      <th>rt</th>\n",
       "      <th>rtmin</th>\n",
       "      <th>rtmax</th>\n",
       "      <th>into</th>\n",
       "      <th>intb</th>\n",
       "      <th>maxo</th>\n",
       "      <th>sn</th>\n",
       "      <th>sample</th>\n",
       "      <th>is_filled</th>\n",
       "      <th>msLevel</th>\n",
       "      <th>filename</th>\n",
       "      <th>log_intensity</th>\n",
       "    </tr>\n",
       "  </thead>\n",
       "  <tbody>\n",
       "    <tr>\n",
       "      <th>0</th>\n",
       "      <td>185.153705</td>\n",
       "      <td>185.153610</td>\n",
       "      <td>185.153717</td>\n",
       "      <td>3.05013</td>\n",
       "      <td>0.116381</td>\n",
       "      <td>5.58738</td>\n",
       "      <td>31246.861465</td>\n",
       "      <td>30803.377497</td>\n",
       "      <td>6806.964844</td>\n",
       "      <td>8</td>\n",
       "      <td>1</td>\n",
       "      <td>0</td>\n",
       "      <td>1</td>\n",
       "      <td>Beer_multibeers_1_fullscan1.mzML</td>\n",
       "      <td>10.349674</td>\n",
       "    </tr>\n",
       "    <tr>\n",
       "      <th>1</th>\n",
       "      <td>222.185283</td>\n",
       "      <td>222.185120</td>\n",
       "      <td>222.185394</td>\n",
       "      <td>1.77138</td>\n",
       "      <td>0.116381</td>\n",
       "      <td>5.58738</td>\n",
       "      <td>51845.186724</td>\n",
       "      <td>51488.390919</td>\n",
       "      <td>14122.940430</td>\n",
       "      <td>20</td>\n",
       "      <td>1</td>\n",
       "      <td>0</td>\n",
       "      <td>1</td>\n",
       "      <td>Beer_multibeers_1_fullscan1.mzML</td>\n",
       "      <td>10.856017</td>\n",
       "    </tr>\n",
       "    <tr>\n",
       "      <th>2</th>\n",
       "      <td>246.206421</td>\n",
       "      <td>246.206375</td>\n",
       "      <td>246.206482</td>\n",
       "      <td>1.77138</td>\n",
       "      <td>0.116381</td>\n",
       "      <td>5.58738</td>\n",
       "      <td>51319.567441</td>\n",
       "      <td>51048.598523</td>\n",
       "      <td>16752.429688</td>\n",
       "      <td>32</td>\n",
       "      <td>1</td>\n",
       "      <td>0</td>\n",
       "      <td>1</td>\n",
       "      <td>Beer_multibeers_1_fullscan1.mzML</td>\n",
       "      <td>10.845827</td>\n",
       "    </tr>\n",
       "    <tr>\n",
       "      <th>3</th>\n",
       "      <td>232.081600</td>\n",
       "      <td>232.081467</td>\n",
       "      <td>232.081741</td>\n",
       "      <td>4.31951</td>\n",
       "      <td>0.116381</td>\n",
       "      <td>7.04338</td>\n",
       "      <td>34392.652858</td>\n",
       "      <td>34387.111258</td>\n",
       "      <td>8553.839844</td>\n",
       "      <td>8553</td>\n",
       "      <td>1</td>\n",
       "      <td>0</td>\n",
       "      <td>1</td>\n",
       "      <td>Beer_multibeers_1_fullscan1.mzML</td>\n",
       "      <td>10.445598</td>\n",
       "    </tr>\n",
       "    <tr>\n",
       "      <th>4</th>\n",
       "      <td>234.123735</td>\n",
       "      <td>234.123566</td>\n",
       "      <td>234.123932</td>\n",
       "      <td>3.05013</td>\n",
       "      <td>0.116381</td>\n",
       "      <td>7.04338</td>\n",
       "      <td>70650.684311</td>\n",
       "      <td>66739.738031</td>\n",
       "      <td>15284.734375</td>\n",
       "      <td>6</td>\n",
       "      <td>1</td>\n",
       "      <td>0</td>\n",
       "      <td>1</td>\n",
       "      <td>Beer_multibeers_1_fullscan1.mzML</td>\n",
       "      <td>11.165503</td>\n",
       "    </tr>\n",
       "  </tbody>\n",
       "</table>\n",
       "</div>"
      ],
      "text/plain": [
       "           mz       mzmin       mzmax       rt     rtmin    rtmax  \\\n",
       "0  185.153705  185.153610  185.153717  3.05013  0.116381  5.58738   \n",
       "1  222.185283  222.185120  222.185394  1.77138  0.116381  5.58738   \n",
       "2  246.206421  246.206375  246.206482  1.77138  0.116381  5.58738   \n",
       "3  232.081600  232.081467  232.081741  4.31951  0.116381  7.04338   \n",
       "4  234.123735  234.123566  234.123932  3.05013  0.116381  7.04338   \n",
       "\n",
       "           into          intb          maxo    sn  sample  is_filled  msLevel  \\\n",
       "0  31246.861465  30803.377497   6806.964844     8       1          0        1   \n",
       "1  51845.186724  51488.390919  14122.940430    20       1          0        1   \n",
       "2  51319.567441  51048.598523  16752.429688    32       1          0        1   \n",
       "3  34392.652858  34387.111258   8553.839844  8553       1          0        1   \n",
       "4  70650.684311  66739.738031  15284.734375     6       1          0        1   \n",
       "\n",
       "                           filename  log_intensity  \n",
       "0  Beer_multibeers_1_fullscan1.mzML      10.349674  \n",
       "1  Beer_multibeers_1_fullscan1.mzML      10.856017  \n",
       "2  Beer_multibeers_1_fullscan1.mzML      10.845827  \n",
       "3  Beer_multibeers_1_fullscan1.mzML      10.445598  \n",
       "4  Beer_multibeers_1_fullscan1.mzML      11.165503  "
      ]
     },
     "execution_count": 52,
     "metadata": {},
     "output_type": "execute_result"
    }
   ],
   "source": [
    "df.head()"
   ]
  },
  {
   "cell_type": "code",
   "execution_count": 53,
   "metadata": {},
   "outputs": [],
   "source": [
    "def make_boxplot(df, x, y, xticklabels, title):\n",
    "    g = sns.catplot(x=x, y=y,  kind='box', data=df)\n",
    "    if xticklabels is not None:\n",
    "        g.set_xticklabels(xticklabels, rotation=90)\n",
    "    else:\n",
    "        g.set_xticklabels(rotation=90)        \n",
    "    plt.title(title)\n",
    "    plt.tight_layout()"
   ]
  },
  {
   "cell_type": "code",
   "execution_count": 54,
   "metadata": {},
   "outputs": [
    {
     "data": {
      "text/html": [
       "<div>\n",
       "<style scoped>\n",
       "    .dataframe tbody tr th:only-of-type {\n",
       "        vertical-align: middle;\n",
       "    }\n",
       "\n",
       "    .dataframe tbody tr th {\n",
       "        vertical-align: top;\n",
       "    }\n",
       "\n",
       "    .dataframe thead th {\n",
       "        text-align: right;\n",
       "    }\n",
       "</style>\n",
       "<table border=\"1\" class=\"dataframe\">\n",
       "  <thead>\n",
       "    <tr style=\"text-align: right;\">\n",
       "      <th></th>\n",
       "      <th>mz</th>\n",
       "      <th>mzmin</th>\n",
       "      <th>mzmax</th>\n",
       "      <th>rt</th>\n",
       "      <th>rtmin</th>\n",
       "      <th>rtmax</th>\n",
       "      <th>into</th>\n",
       "      <th>intb</th>\n",
       "      <th>maxo</th>\n",
       "      <th>sn</th>\n",
       "      <th>sample</th>\n",
       "      <th>is_filled</th>\n",
       "      <th>msLevel</th>\n",
       "      <th>log_intensity</th>\n",
       "    </tr>\n",
       "    <tr>\n",
       "      <th>filename</th>\n",
       "      <th></th>\n",
       "      <th></th>\n",
       "      <th></th>\n",
       "      <th></th>\n",
       "      <th></th>\n",
       "      <th></th>\n",
       "      <th></th>\n",
       "      <th></th>\n",
       "      <th></th>\n",
       "      <th></th>\n",
       "      <th></th>\n",
       "      <th></th>\n",
       "      <th></th>\n",
       "      <th></th>\n",
       "    </tr>\n",
       "  </thead>\n",
       "  <tbody>\n",
       "    <tr>\n",
       "      <th>Beer_multibeers_10_fullscan1.mzML</th>\n",
       "      <td>259.078668</td>\n",
       "      <td>259.078644</td>\n",
       "      <td>259.078857</td>\n",
       "      <td>472.552000</td>\n",
       "      <td>465.001000</td>\n",
       "      <td>482.640000</td>\n",
       "      <td>2.610378e+06</td>\n",
       "      <td>2.540480e+06</td>\n",
       "      <td>321752.437500</td>\n",
       "      <td>35</td>\n",
       "      <td>2</td>\n",
       "      <td>0</td>\n",
       "      <td>1</td>\n",
       "      <td>14.775006</td>\n",
       "    </tr>\n",
       "    <tr>\n",
       "      <th>Beer_multibeers_11_fullscan1.mzML</th>\n",
       "      <td>261.115908</td>\n",
       "      <td>261.115707</td>\n",
       "      <td>261.116074</td>\n",
       "      <td>448.768000</td>\n",
       "      <td>441.026000</td>\n",
       "      <td>459.269000</td>\n",
       "      <td>2.077051e+06</td>\n",
       "      <td>2.015171e+06</td>\n",
       "      <td>247692.054688</td>\n",
       "      <td>33</td>\n",
       "      <td>3</td>\n",
       "      <td>0</td>\n",
       "      <td>1</td>\n",
       "      <td>14.546460</td>\n",
       "    </tr>\n",
       "    <tr>\n",
       "      <th>Beer_multibeers_12_fullscan1.mzML</th>\n",
       "      <td>227.158213</td>\n",
       "      <td>227.158066</td>\n",
       "      <td>227.158302</td>\n",
       "      <td>637.590000</td>\n",
       "      <td>630.432500</td>\n",
       "      <td>646.462000</td>\n",
       "      <td>1.052569e+06</td>\n",
       "      <td>9.944424e+05</td>\n",
       "      <td>122891.710938</td>\n",
       "      <td>39</td>\n",
       "      <td>4</td>\n",
       "      <td>0</td>\n",
       "      <td>1</td>\n",
       "      <td>13.866744</td>\n",
       "    </tr>\n",
       "    <tr>\n",
       "      <th>Beer_multibeers_13_fullscan1.mzML</th>\n",
       "      <td>274.185449</td>\n",
       "      <td>274.185303</td>\n",
       "      <td>274.185562</td>\n",
       "      <td>512.824000</td>\n",
       "      <td>501.985500</td>\n",
       "      <td>521.608000</td>\n",
       "      <td>2.478946e+06</td>\n",
       "      <td>2.407074e+06</td>\n",
       "      <td>297562.609375</td>\n",
       "      <td>39</td>\n",
       "      <td>5</td>\n",
       "      <td>0</td>\n",
       "      <td>1</td>\n",
       "      <td>14.723344</td>\n",
       "    </tr>\n",
       "    <tr>\n",
       "      <th>Beer_multibeers_14_fullscan1.mzML</th>\n",
       "      <td>256.117632</td>\n",
       "      <td>256.117416</td>\n",
       "      <td>256.117874</td>\n",
       "      <td>425.792000</td>\n",
       "      <td>420.839000</td>\n",
       "      <td>432.186000</td>\n",
       "      <td>2.137893e+06</td>\n",
       "      <td>2.070568e+06</td>\n",
       "      <td>264346.359375</td>\n",
       "      <td>35</td>\n",
       "      <td>6</td>\n",
       "      <td>0</td>\n",
       "      <td>1</td>\n",
       "      <td>14.575332</td>\n",
       "    </tr>\n",
       "    <tr>\n",
       "      <th>Beer_multibeers_15_fullscan1.mzML</th>\n",
       "      <td>250.083728</td>\n",
       "      <td>250.083511</td>\n",
       "      <td>250.083900</td>\n",
       "      <td>500.577000</td>\n",
       "      <td>493.722000</td>\n",
       "      <td>509.906000</td>\n",
       "      <td>3.702739e+06</td>\n",
       "      <td>3.580059e+06</td>\n",
       "      <td>429392.890625</td>\n",
       "      <td>33</td>\n",
       "      <td>7</td>\n",
       "      <td>0</td>\n",
       "      <td>1</td>\n",
       "      <td>15.124583</td>\n",
       "    </tr>\n",
       "    <tr>\n",
       "      <th>Beer_multibeers_16_fullscan1.mzML</th>\n",
       "      <td>254.102035</td>\n",
       "      <td>254.101974</td>\n",
       "      <td>254.102081</td>\n",
       "      <td>478.421000</td>\n",
       "      <td>468.330000</td>\n",
       "      <td>488.381000</td>\n",
       "      <td>3.802149e+06</td>\n",
       "      <td>3.694597e+06</td>\n",
       "      <td>446675.296875</td>\n",
       "      <td>34</td>\n",
       "      <td>8</td>\n",
       "      <td>0</td>\n",
       "      <td>1</td>\n",
       "      <td>15.151077</td>\n",
       "    </tr>\n",
       "    <tr>\n",
       "      <th>Beer_multibeers_17_fullscan1.mzML</th>\n",
       "      <td>267.122506</td>\n",
       "      <td>267.122345</td>\n",
       "      <td>267.122650</td>\n",
       "      <td>495.273000</td>\n",
       "      <td>486.469000</td>\n",
       "      <td>505.233000</td>\n",
       "      <td>2.924936e+06</td>\n",
       "      <td>2.842924e+06</td>\n",
       "      <td>348732.500000</td>\n",
       "      <td>32</td>\n",
       "      <td>9</td>\n",
       "      <td>0</td>\n",
       "      <td>1</td>\n",
       "      <td>14.888783</td>\n",
       "    </tr>\n",
       "    <tr>\n",
       "      <th>Beer_multibeers_18_fullscan1.mzML</th>\n",
       "      <td>257.198244</td>\n",
       "      <td>257.198029</td>\n",
       "      <td>257.198349</td>\n",
       "      <td>445.711000</td>\n",
       "      <td>437.016000</td>\n",
       "      <td>453.595000</td>\n",
       "      <td>3.458462e+06</td>\n",
       "      <td>3.356371e+06</td>\n",
       "      <td>415484.453125</td>\n",
       "      <td>39</td>\n",
       "      <td>10</td>\n",
       "      <td>0</td>\n",
       "      <td>1</td>\n",
       "      <td>15.056334</td>\n",
       "    </tr>\n",
       "    <tr>\n",
       "      <th>Beer_multibeers_19_fullscan1.mzML</th>\n",
       "      <td>260.118845</td>\n",
       "      <td>260.118515</td>\n",
       "      <td>260.119003</td>\n",
       "      <td>449.533000</td>\n",
       "      <td>441.881000</td>\n",
       "      <td>457.579000</td>\n",
       "      <td>2.519097e+06</td>\n",
       "      <td>2.456201e+06</td>\n",
       "      <td>294575.765625</td>\n",
       "      <td>31</td>\n",
       "      <td>11</td>\n",
       "      <td>0</td>\n",
       "      <td>1</td>\n",
       "      <td>14.739411</td>\n",
       "    </tr>\n",
       "    <tr>\n",
       "      <th>Beer_multibeers_1_fullscan1.mzML</th>\n",
       "      <td>259.074849</td>\n",
       "      <td>259.074768</td>\n",
       "      <td>259.074921</td>\n",
       "      <td>482.872000</td>\n",
       "      <td>475.372000</td>\n",
       "      <td>492.876000</td>\n",
       "      <td>2.701241e+06</td>\n",
       "      <td>2.616990e+06</td>\n",
       "      <td>321534.156250</td>\n",
       "      <td>32</td>\n",
       "      <td>1</td>\n",
       "      <td>0</td>\n",
       "      <td>1</td>\n",
       "      <td>14.809222</td>\n",
       "    </tr>\n",
       "    <tr>\n",
       "      <th>Beer_multibeers_2_fullscan1.mzML</th>\n",
       "      <td>263.122271</td>\n",
       "      <td>263.122162</td>\n",
       "      <td>263.122513</td>\n",
       "      <td>461.846000</td>\n",
       "      <td>454.066000</td>\n",
       "      <td>469.963500</td>\n",
       "      <td>2.697304e+06</td>\n",
       "      <td>2.612570e+06</td>\n",
       "      <td>314578.734375</td>\n",
       "      <td>31</td>\n",
       "      <td>12</td>\n",
       "      <td>0</td>\n",
       "      <td>1</td>\n",
       "      <td>14.807763</td>\n",
       "    </tr>\n",
       "    <tr>\n",
       "      <th>Beer_multibeers_3_fullscan1.mzML</th>\n",
       "      <td>257.149342</td>\n",
       "      <td>257.149124</td>\n",
       "      <td>257.149551</td>\n",
       "      <td>477.979000</td>\n",
       "      <td>469.217000</td>\n",
       "      <td>486.759000</td>\n",
       "      <td>2.474168e+06</td>\n",
       "      <td>2.399841e+06</td>\n",
       "      <td>300716.921875</td>\n",
       "      <td>36</td>\n",
       "      <td>13</td>\n",
       "      <td>0</td>\n",
       "      <td>1</td>\n",
       "      <td>14.721415</td>\n",
       "    </tr>\n",
       "    <tr>\n",
       "      <th>Beer_multibeers_4_fullscan1.mzML</th>\n",
       "      <td>252.170376</td>\n",
       "      <td>252.169968</td>\n",
       "      <td>252.170555</td>\n",
       "      <td>464.045000</td>\n",
       "      <td>455.170000</td>\n",
       "      <td>474.033000</td>\n",
       "      <td>2.658466e+06</td>\n",
       "      <td>2.578060e+06</td>\n",
       "      <td>322867.890625</td>\n",
       "      <td>37</td>\n",
       "      <td>14</td>\n",
       "      <td>0</td>\n",
       "      <td>1</td>\n",
       "      <td>14.793260</td>\n",
       "    </tr>\n",
       "    <tr>\n",
       "      <th>Beer_multibeers_5_fullscan1.mzML</th>\n",
       "      <td>247.128385</td>\n",
       "      <td>247.128189</td>\n",
       "      <td>247.128540</td>\n",
       "      <td>465.141000</td>\n",
       "      <td>457.386000</td>\n",
       "      <td>475.265000</td>\n",
       "      <td>2.853203e+06</td>\n",
       "      <td>2.766544e+06</td>\n",
       "      <td>333677.718750</td>\n",
       "      <td>34</td>\n",
       "      <td>15</td>\n",
       "      <td>0</td>\n",
       "      <td>1</td>\n",
       "      <td>14.863953</td>\n",
       "    </tr>\n",
       "    <tr>\n",
       "      <th>Beer_multibeers_6_fullscan1.mzML</th>\n",
       "      <td>269.124098</td>\n",
       "      <td>269.123749</td>\n",
       "      <td>269.124329</td>\n",
       "      <td>443.163000</td>\n",
       "      <td>435.676000</td>\n",
       "      <td>452.230000</td>\n",
       "      <td>2.243762e+06</td>\n",
       "      <td>2.176310e+06</td>\n",
       "      <td>268749.062500</td>\n",
       "      <td>31</td>\n",
       "      <td>16</td>\n",
       "      <td>0</td>\n",
       "      <td>1</td>\n",
       "      <td>14.623665</td>\n",
       "    </tr>\n",
       "    <tr>\n",
       "      <th>Beer_multibeers_7_fullscan1.mzML</th>\n",
       "      <td>255.170123</td>\n",
       "      <td>255.170067</td>\n",
       "      <td>255.170250</td>\n",
       "      <td>473.441000</td>\n",
       "      <td>463.407000</td>\n",
       "      <td>482.491000</td>\n",
       "      <td>1.931541e+06</td>\n",
       "      <td>1.875388e+06</td>\n",
       "      <td>231455.453125</td>\n",
       "      <td>35</td>\n",
       "      <td>17</td>\n",
       "      <td>0</td>\n",
       "      <td>1</td>\n",
       "      <td>14.473829</td>\n",
       "    </tr>\n",
       "    <tr>\n",
       "      <th>Beer_multibeers_8_fullscan1.mzML</th>\n",
       "      <td>263.131633</td>\n",
       "      <td>263.131592</td>\n",
       "      <td>263.131744</td>\n",
       "      <td>464.673000</td>\n",
       "      <td>456.653000</td>\n",
       "      <td>473.561000</td>\n",
       "      <td>2.069849e+06</td>\n",
       "      <td>1.993755e+06</td>\n",
       "      <td>243988.656250</td>\n",
       "      <td>32</td>\n",
       "      <td>18</td>\n",
       "      <td>0</td>\n",
       "      <td>1</td>\n",
       "      <td>14.542986</td>\n",
       "    </tr>\n",
       "    <tr>\n",
       "      <th>Beer_multibeers_9_fullscan1.mzML</th>\n",
       "      <td>278.092485</td>\n",
       "      <td>278.092316</td>\n",
       "      <td>278.092590</td>\n",
       "      <td>485.454000</td>\n",
       "      <td>476.580000</td>\n",
       "      <td>494.262000</td>\n",
       "      <td>2.402369e+06</td>\n",
       "      <td>2.335202e+06</td>\n",
       "      <td>286770.750000</td>\n",
       "      <td>36</td>\n",
       "      <td>19</td>\n",
       "      <td>0</td>\n",
       "      <td>1</td>\n",
       "      <td>14.691966</td>\n",
       "    </tr>\n",
       "    <tr>\n",
       "      <th>no_noise_ms1_controller.mzML</th>\n",
       "      <td>267.026349</td>\n",
       "      <td>267.026306</td>\n",
       "      <td>267.026428</td>\n",
       "      <td>694.398958</td>\n",
       "      <td>683.784024</td>\n",
       "      <td>702.727026</td>\n",
       "      <td>2.901980e+05</td>\n",
       "      <td>2.901806e+05</td>\n",
       "      <td>36291.507812</td>\n",
       "      <td>35322</td>\n",
       "      <td>20</td>\n",
       "      <td>0</td>\n",
       "      <td>1</td>\n",
       "      <td>12.578319</td>\n",
       "    </tr>\n",
       "  </tbody>\n",
       "</table>\n",
       "</div>"
      ],
      "text/plain": [
       "                                           mz       mzmin       mzmax  \\\n",
       "filename                                                                \n",
       "Beer_multibeers_10_fullscan1.mzML  259.078668  259.078644  259.078857   \n",
       "Beer_multibeers_11_fullscan1.mzML  261.115908  261.115707  261.116074   \n",
       "Beer_multibeers_12_fullscan1.mzML  227.158213  227.158066  227.158302   \n",
       "Beer_multibeers_13_fullscan1.mzML  274.185449  274.185303  274.185562   \n",
       "Beer_multibeers_14_fullscan1.mzML  256.117632  256.117416  256.117874   \n",
       "Beer_multibeers_15_fullscan1.mzML  250.083728  250.083511  250.083900   \n",
       "Beer_multibeers_16_fullscan1.mzML  254.102035  254.101974  254.102081   \n",
       "Beer_multibeers_17_fullscan1.mzML  267.122506  267.122345  267.122650   \n",
       "Beer_multibeers_18_fullscan1.mzML  257.198244  257.198029  257.198349   \n",
       "Beer_multibeers_19_fullscan1.mzML  260.118845  260.118515  260.119003   \n",
       "Beer_multibeers_1_fullscan1.mzML   259.074849  259.074768  259.074921   \n",
       "Beer_multibeers_2_fullscan1.mzML   263.122271  263.122162  263.122513   \n",
       "Beer_multibeers_3_fullscan1.mzML   257.149342  257.149124  257.149551   \n",
       "Beer_multibeers_4_fullscan1.mzML   252.170376  252.169968  252.170555   \n",
       "Beer_multibeers_5_fullscan1.mzML   247.128385  247.128189  247.128540   \n",
       "Beer_multibeers_6_fullscan1.mzML   269.124098  269.123749  269.124329   \n",
       "Beer_multibeers_7_fullscan1.mzML   255.170123  255.170067  255.170250   \n",
       "Beer_multibeers_8_fullscan1.mzML   263.131633  263.131592  263.131744   \n",
       "Beer_multibeers_9_fullscan1.mzML   278.092485  278.092316  278.092590   \n",
       "no_noise_ms1_controller.mzML       267.026349  267.026306  267.026428   \n",
       "\n",
       "                                           rt       rtmin       rtmax  \\\n",
       "filename                                                                \n",
       "Beer_multibeers_10_fullscan1.mzML  472.552000  465.001000  482.640000   \n",
       "Beer_multibeers_11_fullscan1.mzML  448.768000  441.026000  459.269000   \n",
       "Beer_multibeers_12_fullscan1.mzML  637.590000  630.432500  646.462000   \n",
       "Beer_multibeers_13_fullscan1.mzML  512.824000  501.985500  521.608000   \n",
       "Beer_multibeers_14_fullscan1.mzML  425.792000  420.839000  432.186000   \n",
       "Beer_multibeers_15_fullscan1.mzML  500.577000  493.722000  509.906000   \n",
       "Beer_multibeers_16_fullscan1.mzML  478.421000  468.330000  488.381000   \n",
       "Beer_multibeers_17_fullscan1.mzML  495.273000  486.469000  505.233000   \n",
       "Beer_multibeers_18_fullscan1.mzML  445.711000  437.016000  453.595000   \n",
       "Beer_multibeers_19_fullscan1.mzML  449.533000  441.881000  457.579000   \n",
       "Beer_multibeers_1_fullscan1.mzML   482.872000  475.372000  492.876000   \n",
       "Beer_multibeers_2_fullscan1.mzML   461.846000  454.066000  469.963500   \n",
       "Beer_multibeers_3_fullscan1.mzML   477.979000  469.217000  486.759000   \n",
       "Beer_multibeers_4_fullscan1.mzML   464.045000  455.170000  474.033000   \n",
       "Beer_multibeers_5_fullscan1.mzML   465.141000  457.386000  475.265000   \n",
       "Beer_multibeers_6_fullscan1.mzML   443.163000  435.676000  452.230000   \n",
       "Beer_multibeers_7_fullscan1.mzML   473.441000  463.407000  482.491000   \n",
       "Beer_multibeers_8_fullscan1.mzML   464.673000  456.653000  473.561000   \n",
       "Beer_multibeers_9_fullscan1.mzML   485.454000  476.580000  494.262000   \n",
       "no_noise_ms1_controller.mzML       694.398958  683.784024  702.727026   \n",
       "\n",
       "                                           into          intb           maxo  \\\n",
       "filename                                                                       \n",
       "Beer_multibeers_10_fullscan1.mzML  2.610378e+06  2.540480e+06  321752.437500   \n",
       "Beer_multibeers_11_fullscan1.mzML  2.077051e+06  2.015171e+06  247692.054688   \n",
       "Beer_multibeers_12_fullscan1.mzML  1.052569e+06  9.944424e+05  122891.710938   \n",
       "Beer_multibeers_13_fullscan1.mzML  2.478946e+06  2.407074e+06  297562.609375   \n",
       "Beer_multibeers_14_fullscan1.mzML  2.137893e+06  2.070568e+06  264346.359375   \n",
       "Beer_multibeers_15_fullscan1.mzML  3.702739e+06  3.580059e+06  429392.890625   \n",
       "Beer_multibeers_16_fullscan1.mzML  3.802149e+06  3.694597e+06  446675.296875   \n",
       "Beer_multibeers_17_fullscan1.mzML  2.924936e+06  2.842924e+06  348732.500000   \n",
       "Beer_multibeers_18_fullscan1.mzML  3.458462e+06  3.356371e+06  415484.453125   \n",
       "Beer_multibeers_19_fullscan1.mzML  2.519097e+06  2.456201e+06  294575.765625   \n",
       "Beer_multibeers_1_fullscan1.mzML   2.701241e+06  2.616990e+06  321534.156250   \n",
       "Beer_multibeers_2_fullscan1.mzML   2.697304e+06  2.612570e+06  314578.734375   \n",
       "Beer_multibeers_3_fullscan1.mzML   2.474168e+06  2.399841e+06  300716.921875   \n",
       "Beer_multibeers_4_fullscan1.mzML   2.658466e+06  2.578060e+06  322867.890625   \n",
       "Beer_multibeers_5_fullscan1.mzML   2.853203e+06  2.766544e+06  333677.718750   \n",
       "Beer_multibeers_6_fullscan1.mzML   2.243762e+06  2.176310e+06  268749.062500   \n",
       "Beer_multibeers_7_fullscan1.mzML   1.931541e+06  1.875388e+06  231455.453125   \n",
       "Beer_multibeers_8_fullscan1.mzML   2.069849e+06  1.993755e+06  243988.656250   \n",
       "Beer_multibeers_9_fullscan1.mzML   2.402369e+06  2.335202e+06  286770.750000   \n",
       "no_noise_ms1_controller.mzML       2.901980e+05  2.901806e+05   36291.507812   \n",
       "\n",
       "                                      sn  sample  is_filled  msLevel  \\\n",
       "filename                                                               \n",
       "Beer_multibeers_10_fullscan1.mzML     35       2          0        1   \n",
       "Beer_multibeers_11_fullscan1.mzML     33       3          0        1   \n",
       "Beer_multibeers_12_fullscan1.mzML     39       4          0        1   \n",
       "Beer_multibeers_13_fullscan1.mzML     39       5          0        1   \n",
       "Beer_multibeers_14_fullscan1.mzML     35       6          0        1   \n",
       "Beer_multibeers_15_fullscan1.mzML     33       7          0        1   \n",
       "Beer_multibeers_16_fullscan1.mzML     34       8          0        1   \n",
       "Beer_multibeers_17_fullscan1.mzML     32       9          0        1   \n",
       "Beer_multibeers_18_fullscan1.mzML     39      10          0        1   \n",
       "Beer_multibeers_19_fullscan1.mzML     31      11          0        1   \n",
       "Beer_multibeers_1_fullscan1.mzML      32       1          0        1   \n",
       "Beer_multibeers_2_fullscan1.mzML      31      12          0        1   \n",
       "Beer_multibeers_3_fullscan1.mzML      36      13          0        1   \n",
       "Beer_multibeers_4_fullscan1.mzML      37      14          0        1   \n",
       "Beer_multibeers_5_fullscan1.mzML      34      15          0        1   \n",
       "Beer_multibeers_6_fullscan1.mzML      31      16          0        1   \n",
       "Beer_multibeers_7_fullscan1.mzML      35      17          0        1   \n",
       "Beer_multibeers_8_fullscan1.mzML      32      18          0        1   \n",
       "Beer_multibeers_9_fullscan1.mzML      36      19          0        1   \n",
       "no_noise_ms1_controller.mzML       35322      20          0        1   \n",
       "\n",
       "                                   log_intensity  \n",
       "filename                                          \n",
       "Beer_multibeers_10_fullscan1.mzML      14.775006  \n",
       "Beer_multibeers_11_fullscan1.mzML      14.546460  \n",
       "Beer_multibeers_12_fullscan1.mzML      13.866744  \n",
       "Beer_multibeers_13_fullscan1.mzML      14.723344  \n",
       "Beer_multibeers_14_fullscan1.mzML      14.575332  \n",
       "Beer_multibeers_15_fullscan1.mzML      15.124583  \n",
       "Beer_multibeers_16_fullscan1.mzML      15.151077  \n",
       "Beer_multibeers_17_fullscan1.mzML      14.888783  \n",
       "Beer_multibeers_18_fullscan1.mzML      15.056334  \n",
       "Beer_multibeers_19_fullscan1.mzML      14.739411  \n",
       "Beer_multibeers_1_fullscan1.mzML       14.809222  \n",
       "Beer_multibeers_2_fullscan1.mzML       14.807763  \n",
       "Beer_multibeers_3_fullscan1.mzML       14.721415  \n",
       "Beer_multibeers_4_fullscan1.mzML       14.793260  \n",
       "Beer_multibeers_5_fullscan1.mzML       14.863953  \n",
       "Beer_multibeers_6_fullscan1.mzML       14.623665  \n",
       "Beer_multibeers_7_fullscan1.mzML       14.473829  \n",
       "Beer_multibeers_8_fullscan1.mzML       14.542986  \n",
       "Beer_multibeers_9_fullscan1.mzML       14.691966  \n",
       "no_noise_ms1_controller.mzML           12.578319  "
      ]
     },
     "execution_count": 54,
     "metadata": {},
     "output_type": "execute_result"
    }
   ],
   "source": [
    "df.groupby('filename').median()"
   ]
  },
  {
   "cell_type": "code",
   "execution_count": 55,
   "metadata": {},
   "outputs": [],
   "source": [
    "rt_range = [(3*60, 21*60)]\n",
    "df = df[(df['rt'] > rt_range[0][0]) & (df['rt'] < rt_range[0][1])]"
   ]
  },
  {
   "cell_type": "code",
   "execution_count": 58,
   "metadata": {},
   "outputs": [
    {
     "data": {
      "image/png": "[encoded data removed]",
      "text/plain": [
       "<Figure size 360x360 with 1 Axes>"
      ]
     },
     "metadata": {
      "needs_background": "light"
     },
     "output_type": "display_data"
    }
   ],
   "source": [
    "make_boxplot(df, 'filename', 'mz', ['beer1', 'beer2', 'beer3', 'simulated'], \n",
    "             'm/z distributions of MS1 features')"
   ]
  },
  {
   "cell_type": "code",
   "execution_count": 59,
   "metadata": {
    "scrolled": true
   },
   "outputs": [
    {
     "data": {
      "image/png": "[encoded data removed]",
      "text/plain": [
       "<Figure size 360x360 with 1 Axes>"
      ]
     },
     "metadata": {
      "needs_background": "light"
     },
     "output_type": "display_data"
    }
   ],
   "source": [
    "make_boxplot(df, 'filename', 'rt', ['beer1', 'beer2', 'beer3'], \n",
    "             'RT distributions of MS1 features')"
   ]
  },
  {
   "cell_type": "code",
   "execution_count": 60,
   "metadata": {},
   "outputs": [
    {
     "data": {
      "image/png": "[encoded data removed]",
      "text/plain": [
       "<Figure size 360x360 with 1 Axes>"
      ]
     },
     "metadata": {
      "needs_background": "light"
     },
     "output_type": "display_data"
    }
   ],
   "source": [
    "make_boxplot(df, 'filename', 'log_intensity', ['beer1', 'beer2', 'beer3', 'simulated'], \n",
    "             'Intensity distributions of MS1 features')"
   ]
  },
  {
   "cell_type": "markdown",
   "metadata": {},
   "source": [
    "## C. Top-N DDA Fragmentation Compared to the Real Data"
   ]
  },
  {
   "cell_type": "markdown",
   "metadata": {},
   "source": [
    "Load beer1pos file and run it through DDA controller.\n",
    "- Boxplot of the number of MS1/MS2 peaks per scan of simulated vs original"
   ]
  },
  {
   "cell_type": "code",
   "execution_count": 143,
   "metadata": {},
   "outputs": [],
   "source": [
    "def get_df(data_type, filename, ms_level, controller, log=False):\n",
    "    observed_values = ds.get_data(data_type, filename, ms_level, max_data=1E8)\n",
    "    \n",
    "    simulated_values = []    \n",
    "    if data_type == N_PEAKS:\n",
    "        simulated_values = [scan.num_peaks for scan in controller.scans[ms_level]]\n",
    "    elif data_type == RT:\n",
    "        simulated_values = [scan.rt for scan in controller.scans[ms_level]]        \n",
    "    elif data_type == MZ:\n",
    "        for scan in controller.scans[ms_level]:\n",
    "            if len(scan.mzs) > 0:\n",
    "                simulated_values.extend(scan.mzs)\n",
    "    elif data_type == INTENSITY:\n",
    "        for scan in controller.scans[ms_level]:\n",
    "            if len(scan.intensities) > 0:\n",
    "                simulated_values.extend(scan.intensities)        \n",
    "    simulated_values = np.array(simulated_values)\n",
    "    \n",
    "    if log:\n",
    "        observed_values = np.log(observed_values)\n",
    "        simulated_values = np.log(simulated_values)\n",
    "\n",
    "    col1 = np.append(observed_values, simulated_values)\n",
    "    col2 = np.append(np.array([0] * len(observed_values)), np.array([1] * len(simulated_values)))\n",
    "    \n",
    "    col1.astype(np.int)\n",
    "    col2.astype(np.int)\n",
    "    \n",
    "    df = pd.DataFrame(np.stack([col1, col2], axis=1), columns=[data_type, 'filename'])\n",
    "    return df"
   ]
  },
  {
   "cell_type": "code",
   "execution_count": 53,
   "metadata": {
    "scrolled": true
   },
   "outputs": [
    {
     "name": "stdout",
     "output_type": "stream",
     "text": [
      "C:\\Users\\joewa\\University of Glasgow\\Vinny Davies - CLDS Metabolomics Project\\Data\\multibeers_urine_data\\beers\\fragmentation\\Beer_multibeers_10_T10_POS.mzML\n",
      "C:\\Users\\joewa\\University of Glasgow\\Vinny Davies - CLDS Metabolomics Project\\Data\\multibeers_urine_data\\beers\\fragmentation\\Beer_multibeers_11_T10_POS.mzML\n",
      "C:\\Users\\joewa\\University of Glasgow\\Vinny Davies - CLDS Metabolomics Project\\Data\\multibeers_urine_data\\beers\\fragmentation\\Beer_multibeers_12_T10_POS.mzML\n",
      "C:\\Users\\joewa\\University of Glasgow\\Vinny Davies - CLDS Metabolomics Project\\Data\\multibeers_urine_data\\beers\\fragmentation\\Beer_multibeers_13_T10_POS.mzML\n",
      "C:\\Users\\joewa\\University of Glasgow\\Vinny Davies - CLDS Metabolomics Project\\Data\\multibeers_urine_data\\beers\\fragmentation\\Beer_multibeers_14_T10_POS.mzML\n",
      "C:\\Users\\joewa\\University of Glasgow\\Vinny Davies - CLDS Metabolomics Project\\Data\\multibeers_urine_data\\beers\\fragmentation\\Beer_multibeers_15_T10_POS.mzML\n",
      "C:\\Users\\joewa\\University of Glasgow\\Vinny Davies - CLDS Metabolomics Project\\Data\\multibeers_urine_data\\beers\\fragmentation\\Beer_multibeers_16_T10_POS.mzML\n",
      "C:\\Users\\joewa\\University of Glasgow\\Vinny Davies - CLDS Metabolomics Project\\Data\\multibeers_urine_data\\beers\\fragmentation\\Beer_multibeers_17_T10_POS.mzML\n",
      "C:\\Users\\joewa\\University of Glasgow\\Vinny Davies - CLDS Metabolomics Project\\Data\\multibeers_urine_data\\beers\\fragmentation\\Beer_multibeers_18_T10_POS.mzML\n",
      "C:\\Users\\joewa\\University of Glasgow\\Vinny Davies - CLDS Metabolomics Project\\Data\\multibeers_urine_data\\beers\\fragmentation\\Beer_multibeers_19_T10_POS.mzML\n",
      "C:\\Users\\joewa\\University of Glasgow\\Vinny Davies - CLDS Metabolomics Project\\Data\\multibeers_urine_data\\beers\\fragmentation\\Beer_multibeers_1_T10_POS.mzML\n",
      "C:\\Users\\joewa\\University of Glasgow\\Vinny Davies - CLDS Metabolomics Project\\Data\\multibeers_urine_data\\beers\\fragmentation\\Beer_multibeers_2_T10_POS.mzML\n",
      "C:\\Users\\joewa\\University of Glasgow\\Vinny Davies - CLDS Metabolomics Project\\Data\\multibeers_urine_data\\beers\\fragmentation\\Beer_multibeers_3_T10_POS.mzML\n",
      "C:\\Users\\joewa\\University of Glasgow\\Vinny Davies - CLDS Metabolomics Project\\Data\\multibeers_urine_data\\beers\\fragmentation\\Beer_multibeers_4_T10_POS.mzML\n",
      "C:\\Users\\joewa\\University of Glasgow\\Vinny Davies - CLDS Metabolomics Project\\Data\\multibeers_urine_data\\beers\\fragmentation\\Beer_multibeers_5_T10_POS.mzML\n",
      "C:\\Users\\joewa\\University of Glasgow\\Vinny Davies - CLDS Metabolomics Project\\Data\\multibeers_urine_data\\beers\\fragmentation\\Beer_multibeers_6_T10_POS.mzML\n",
      "C:\\Users\\joewa\\University of Glasgow\\Vinny Davies - CLDS Metabolomics Project\\Data\\multibeers_urine_data\\beers\\fragmentation\\Beer_multibeers_7_T10_POS.mzML\n",
      "C:\\Users\\joewa\\University of Glasgow\\Vinny Davies - CLDS Metabolomics Project\\Data\\multibeers_urine_data\\beers\\fragmentation\\Beer_multibeers_8_T10_POS.mzML\n",
      "C:\\Users\\joewa\\University of Glasgow\\Vinny Davies - CLDS Metabolomics Project\\Data\\multibeers_urine_data\\beers\\fragmentation\\Beer_multibeers_9_T10_POS.mzML\n"
     ]
    }
   ],
   "source": [
    "mzml_path = os.path.join(base_dir, 'Data\\\\multibeers_urine_data\\\\beers\\\\fragmentation')\n",
    "ds = DataSource()\n",
    "ds.load_data(mzml_path)"
   ]
  },
  {
   "cell_type": "code",
   "execution_count": 64,
   "metadata": {},
   "outputs": [],
   "source": [
    "controller = load_obj(os.path.join(base_dir, 'Manuscript\\\\C. Top-N DDA Fragmentation Compared to the Real Data\\\\mzML\\\\experiment_N_10_rttol_15.p'))"
   ]
  },
  {
   "cell_type": "code",
   "execution_count": 149,
   "metadata": {},
   "outputs": [],
   "source": [
    "filename = 'Beer_multibeers_1_T10_POS.mzML'\n",
    "ms_level = 1"
   ]
  },
  {
   "cell_type": "code",
   "execution_count": 151,
   "metadata": {},
   "outputs": [
    {
     "data": {
      "image/png": "[encoded data removed]",
      "text/plain": [
       "<Figure size 360x360 with 1 Axes>"
      ]
     },
     "metadata": {
      "needs_background": "light"
     },
     "output_type": "display_data"
    },
    {
     "data": {
      "image/png": "[encoded data removed]",
      "text/plain": [
       "<Figure size 360x360 with 1 Axes>"
      ]
     },
     "metadata": {
      "needs_background": "light"
     },
     "output_type": "display_data"
    },
    {
     "data": {
      "image/png": "[encoded data removed]",
      "text/plain": [
       "<Figure size 360x360 with 1 Axes>"
      ]
     },
     "metadata": {
      "needs_background": "light"
     },
     "output_type": "display_data"
    },
    {
     "data": {
      "image/png": "[encoded data removed]",
      "text/plain": [
       "<Figure size 360x360 with 1 Axes>"
      ]
     },
     "metadata": {
      "needs_background": "light"
     },
     "output_type": "display_data"
    }
   ],
   "source": [
    "df = get_df(MZ, filename, ms_level, controller)\n",
    "make_boxplot(df, 'filename', MZ, ['beer1', 'simulated'], \n",
    "             'mz distributions of MS%d peaks' % ms_level)\n",
    "\n",
    "df = get_df(RT, filename, ms_level, controller)\n",
    "make_boxplot(df, 'filename', RT, ['beer1', 'simulated'], \n",
    "             'RT distributions of MS%d peaks' % ms_level)\n",
    "\n",
    "df = get_df(INTENSITY, filename, ms_level, controller, log=True)\n",
    "make_boxplot(df, 'filename', INTENSITY, ['beer1', 'simulated'], \n",
    "             'Intensity distributions of MS%d peaks' % ms_level)\n",
    "\n",
    "df = get_df(N_PEAKS, filename, ms_level, controller)\n",
    "make_boxplot(df, 'filename', 'n_peaks', ['beer1', 'simulated'], \n",
    "             'Number of peaks per scan of MS%d peaks' % ms_level)"
   ]
  },
  {
   "cell_type": "code",
   "execution_count": 152,
   "metadata": {},
   "outputs": [],
   "source": [
    "filename = 'Beer_multibeers_1_T10_POS.mzML'\n",
    "ms_level = 2"
   ]
  },
  {
   "cell_type": "code",
   "execution_count": 153,
   "metadata": {},
   "outputs": [
    {
     "data": {
      "image/png": "[encoded data removed]",
      "text/plain": [
       "<Figure size 360x360 with 1 Axes>"
      ]
     },
     "metadata": {
      "needs_background": "light"
     },
     "output_type": "display_data"
    },
    {
     "data": {
      "image/png": "[encoded data removed]",
      "text/plain": [
       "<Figure size 360x360 with 1 Axes>"
      ]
     },
     "metadata": {
      "needs_background": "light"
     },
     "output_type": "display_data"
    },
    {
     "data": {
      "image/png": "[encoded data removed]",
      "text/plain": [
       "<Figure size 360x360 with 1 Axes>"
      ]
     },
     "metadata": {
      "needs_background": "light"
     },
     "output_type": "display_data"
    },
    {
     "data": {
      "image/png": "[encoded data removed]",
      "text/plain": [
       "<Figure size 360x360 with 1 Axes>"
      ]
     },
     "metadata": {
      "needs_background": "light"
     },
     "output_type": "display_data"
    }
   ],
   "source": [
    "df = get_df(MZ, filename, ms_level, controller)\n",
    "make_boxplot(df, 'filename', MZ, ['beer1', 'simulated'], \n",
    "             'mz distributions of MS%d peaks' % ms_level)\n",
    "\n",
    "df = get_df(RT, filename, ms_level, controller)\n",
    "make_boxplot(df, 'filename', RT, ['beer1', 'simulated'], \n",
    "             'RT distributions of MS%d peaks' % ms_level)\n",
    "\n",
    "df = get_df(INTENSITY, filename, ms_level, controller, log=True)\n",
    "make_boxplot(df, 'filename', INTENSITY, ['beer1', 'simulated'], \n",
    "             'Intensity distributions of MS%d peaks' % ms_level)\n",
    "\n",
    "df = get_df(N_PEAKS, filename, ms_level, controller)\n",
    "make_boxplot(df, 'filename', 'n_peaks', ['beer1', 'simulated'], \n",
    "             'Number of peaks per scan of MS%d peaks' % ms_level)"
   ]
  },
  {
   "cell_type": "markdown",
   "metadata": {},
   "source": [
    "## D. Case Study 1: Varying N in top-N DDA fragmentation"
   ]
  },
  {
   "cell_type": "markdown",
   "metadata": {},
   "source": [
    "Vary Ns from the data in C and plot the following for each N:\n",
    "- Proportion of the original MS1 peaks that were fragmented\n",
    "- Number of MS2 peaks that map to the original MS1 peak\n",
    "- 3D plot of various values for Ns vs dynamic exclusion windows?\n",
    "- Number of MS1 peaks that can be picked by XCMS CentWave"
   ]
  },
  {
   "cell_type": "code",
   "execution_count": 234,
   "metadata": {},
   "outputs": [],
   "source": [
    "df = pd.read_csv(os.path.join(base_dir, 'Manuscript\\\\D. Case Study 1 Varying N in top-N DDA fragmentation\\\\mzML\\\\extracted_peaks_ms1.csv'))"
   ]
  },
  {
   "cell_type": "code",
   "execution_count": 235,
   "metadata": {},
   "outputs": [
    {
     "data": {
      "text/html": [
       "<div>\n",
       "<style scoped>\n",
       "    .dataframe tbody tr th:only-of-type {\n",
       "        vertical-align: middle;\n",
       "    }\n",
       "\n",
       "    .dataframe tbody tr th {\n",
       "        vertical-align: top;\n",
       "    }\n",
       "\n",
       "    .dataframe thead th {\n",
       "        text-align: right;\n",
       "    }\n",
       "</style>\n",
       "<table border=\"1\" class=\"dataframe\">\n",
       "  <thead>\n",
       "    <tr style=\"text-align: right;\">\n",
       "      <th></th>\n",
       "      <th>mz</th>\n",
       "      <th>mzmin</th>\n",
       "      <th>mzmax</th>\n",
       "      <th>rt</th>\n",
       "      <th>rtmin</th>\n",
       "      <th>rtmax</th>\n",
       "      <th>into</th>\n",
       "      <th>intb</th>\n",
       "      <th>maxo</th>\n",
       "      <th>sn</th>\n",
       "      <th>sample</th>\n",
       "      <th>is_filled</th>\n",
       "      <th>msLevel</th>\n",
       "      <th>filename</th>\n",
       "    </tr>\n",
       "  </thead>\n",
       "  <tbody>\n",
       "    <tr>\n",
       "      <th>0</th>\n",
       "      <td>203.955615</td>\n",
       "      <td>203.955566</td>\n",
       "      <td>203.955658</td>\n",
       "      <td>182.883215</td>\n",
       "      <td>180.293011</td>\n",
       "      <td>185.614453</td>\n",
       "      <td>4.470330e+04</td>\n",
       "      <td>4.469798e+04</td>\n",
       "      <td>9330.422852</td>\n",
       "      <td>9329</td>\n",
       "      <td>1</td>\n",
       "      <td>0</td>\n",
       "      <td>1</td>\n",
       "      <td>experiment_N_10_rttol_15.mzML</td>\n",
       "    </tr>\n",
       "    <tr>\n",
       "      <th>1</th>\n",
       "      <td>88.112063</td>\n",
       "      <td>88.112045</td>\n",
       "      <td>88.112091</td>\n",
       "      <td>211.932500</td>\n",
       "      <td>194.457195</td>\n",
       "      <td>216.755917</td>\n",
       "      <td>1.513498e+06</td>\n",
       "      <td>1.487857e+06</td>\n",
       "      <td>122235.937500</td>\n",
       "      <td>20</td>\n",
       "      <td>1</td>\n",
       "      <td>0</td>\n",
       "      <td>1</td>\n",
       "      <td>experiment_N_10_rttol_15.mzML</td>\n",
       "    </tr>\n",
       "    <tr>\n",
       "      <th>2</th>\n",
       "      <td>88.112063</td>\n",
       "      <td>88.112045</td>\n",
       "      <td>88.112091</td>\n",
       "      <td>186.414965</td>\n",
       "      <td>180.293011</td>\n",
       "      <td>186.502019</td>\n",
       "      <td>4.243501e+05</td>\n",
       "      <td>4.160592e+05</td>\n",
       "      <td>71833.117188</td>\n",
       "      <td>20</td>\n",
       "      <td>1</td>\n",
       "      <td>0</td>\n",
       "      <td>1</td>\n",
       "      <td>experiment_N_10_rttol_15.mzML</td>\n",
       "    </tr>\n",
       "    <tr>\n",
       "      <th>3</th>\n",
       "      <td>430.388625</td>\n",
       "      <td>430.388245</td>\n",
       "      <td>430.389435</td>\n",
       "      <td>187.344328</td>\n",
       "      <td>187.262020</td>\n",
       "      <td>192.533277</td>\n",
       "      <td>5.192320e+04</td>\n",
       "      <td>5.191792e+04</td>\n",
       "      <td>17075.250000</td>\n",
       "      <td>17074</td>\n",
       "      <td>1</td>\n",
       "      <td>0</td>\n",
       "      <td>1</td>\n",
       "      <td>experiment_N_10_rttol_15.mzML</td>\n",
       "    </tr>\n",
       "    <tr>\n",
       "      <th>4</th>\n",
       "      <td>151.099459</td>\n",
       "      <td>151.099380</td>\n",
       "      <td>151.099564</td>\n",
       "      <td>190.840213</td>\n",
       "      <td>186.177245</td>\n",
       "      <td>195.054898</td>\n",
       "      <td>7.129594e+04</td>\n",
       "      <td>7.128706e+04</td>\n",
       "      <td>11950.869141</td>\n",
       "      <td>11950</td>\n",
       "      <td>1</td>\n",
       "      <td>0</td>\n",
       "      <td>1</td>\n",
       "      <td>experiment_N_10_rttol_15.mzML</td>\n",
       "    </tr>\n",
       "  </tbody>\n",
       "</table>\n",
       "</div>"
      ],
      "text/plain": [
       "           mz       mzmin       mzmax          rt       rtmin       rtmax  \\\n",
       "0  203.955615  203.955566  203.955658  182.883215  180.293011  185.614453   \n",
       "1   88.112063   88.112045   88.112091  211.932500  194.457195  216.755917   \n",
       "2   88.112063   88.112045   88.112091  186.414965  180.293011  186.502019   \n",
       "3  430.388625  430.388245  430.389435  187.344328  187.262020  192.533277   \n",
       "4  151.099459  151.099380  151.099564  190.840213  186.177245  195.054898   \n",
       "\n",
       "           into          intb           maxo     sn  sample  is_filled  \\\n",
       "0  4.470330e+04  4.469798e+04    9330.422852   9329       1          0   \n",
       "1  1.513498e+06  1.487857e+06  122235.937500     20       1          0   \n",
       "2  4.243501e+05  4.160592e+05   71833.117188     20       1          0   \n",
       "3  5.192320e+04  5.191792e+04   17075.250000  17074       1          0   \n",
       "4  7.129594e+04  7.128706e+04   11950.869141  11950       1          0   \n",
       "\n",
       "   msLevel                       filename  \n",
       "0        1  experiment_N_10_rttol_15.mzML  \n",
       "1        1  experiment_N_10_rttol_15.mzML  \n",
       "2        1  experiment_N_10_rttol_15.mzML  \n",
       "3        1  experiment_N_10_rttol_15.mzML  \n",
       "4        1  experiment_N_10_rttol_15.mzML  "
      ]
     },
     "execution_count": 235,
     "metadata": {},
     "output_type": "execute_result"
    }
   ],
   "source": [
    "df.head()"
   ]
  },
  {
   "cell_type": "code",
   "execution_count": 236,
   "metadata": {},
   "outputs": [],
   "source": [
    "df['log_intensity'] = df.apply(lambda row: np.log(row['into']), axis=1)"
   ]
  },
  {
   "cell_type": "code",
   "execution_count": 245,
   "metadata": {},
   "outputs": [],
   "source": [
    "def make_boxplot(df, x, y, xticklabels, title):\n",
    "    plt.gcf().set_size_inches(15, 5)\n",
    "    g = sns.catplot(x=x, y=y,  kind='box', data=df)\n",
    "    if xticklabels is not None:\n",
    "        g.set_xticklabels(xticklabels, rotation=90)\n",
    "    else:\n",
    "        g.set_xticklabels(rotation=90)        \n",
    "    plt.title(title)\n",
    "    plt.tight_layout()"
   ]
  },
  {
   "cell_type": "code",
   "execution_count": 246,
   "metadata": {},
   "outputs": [
    {
     "data": {
      "text/plain": [
       "<Figure size 1080x360 with 0 Axes>"
      ]
     },
     "metadata": {},
     "output_type": "display_data"
    },
    {
     "data": {
      "image/png": "[encoded data removed]",
      "text/plain": [
       "<Figure size 1080x360 with 1 Axes>"
      ]
     },
     "metadata": {
      "needs_background": "light"
     },
     "output_type": "display_data"
    },
    {
     "data": {
      "image/png": "[encoded data removed]",
      "text/plain": [
       "<Figure size 1080x360 with 1 Axes>"
      ]
     },
     "metadata": {
      "needs_background": "light"
     },
     "output_type": "display_data"
    },
    {
     "data": {
      "image/png": "[encoded data removed]",
      "text/plain": [
       "<Figure size 360x360 with 1 Axes>"
      ]
     },
     "metadata": {
      "needs_background": "light"
     },
     "output_type": "display_data"
    }
   ],
   "source": [
    "make_boxplot(df, 'filename', 'mz', None, \n",
    "             'mz distributions of MS1 features detected by CentWave')\n",
    "\n",
    "make_boxplot(df, 'filename', 'rt', None, \n",
    "             'rt distributions of MS1 features detected by CentWave')\n",
    "\n",
    "make_boxplot(df, 'filename', 'log_intensity', None, \n",
    "             'Intensity distributions of MS1 features detected by CentWave')"
   ]
  },
  {
   "cell_type": "code",
   "execution_count": 201,
   "metadata": {},
   "outputs": [],
   "source": [
    "count_df = df.groupby('filename').size().reset_index(name='counts')"
   ]
  },
  {
   "cell_type": "code",
   "execution_count": 202,
   "metadata": {},
   "outputs": [],
   "source": [
    "# count_df['N'] = df.apply(lambda row: row.values, axis=1)"
   ]
  },
  {
   "cell_type": "code",
   "execution_count": 210,
   "metadata": {},
   "outputs": [],
   "source": [
    "arrays = []\n",
    "for arr in count_df.values:\n",
    "    N = arr[0].split('_')[2]\n",
    "    arrays.append((arr[0], N, arr[1]))\n",
    "arrays = np.array(arrays)"
   ]
  },
  {
   "cell_type": "code",
   "execution_count": 218,
   "metadata": {},
   "outputs": [],
   "source": [
    "df = pd.DataFrame(arrays, columns=['filename', 'N', 'count'])"
   ]
  },
  {
   "cell_type": "code",
   "execution_count": 225,
   "metadata": {},
   "outputs": [],
   "source": [
    "df['N'] = df['N'].apply(int)\n",
    "df['count'] = df['count'].apply(int)"
   ]
  },
  {
   "cell_type": "code",
   "execution_count": 228,
   "metadata": {},
   "outputs": [],
   "source": [
    "df = df.sort_values('N')"
   ]
  },
  {
   "cell_type": "code",
   "execution_count": 229,
   "metadata": {},
   "outputs": [
    {
     "data": {
      "text/html": [
       "<div>\n",
       "<style scoped>\n",
       "    .dataframe tbody tr th:only-of-type {\n",
       "        vertical-align: middle;\n",
       "    }\n",
       "\n",
       "    .dataframe tbody tr th {\n",
       "        vertical-align: top;\n",
       "    }\n",
       "\n",
       "    .dataframe thead th {\n",
       "        text-align: right;\n",
       "    }\n",
       "</style>\n",
       "<table border=\"1\" class=\"dataframe\">\n",
       "  <thead>\n",
       "    <tr style=\"text-align: right;\">\n",
       "      <th></th>\n",
       "      <th>filename</th>\n",
       "      <th>N</th>\n",
       "      <th>count</th>\n",
       "    </tr>\n",
       "  </thead>\n",
       "  <tbody>\n",
       "    <tr>\n",
       "      <th>10</th>\n",
       "      <td>experiment_N_2_rttol_15.mzML</td>\n",
       "      <td>2</td>\n",
       "      <td>9797</td>\n",
       "    </tr>\n",
       "    <tr>\n",
       "      <th>21</th>\n",
       "      <td>experiment_N_4_rttol_15.mzML</td>\n",
       "      <td>4</td>\n",
       "      <td>9646</td>\n",
       "    </tr>\n",
       "    <tr>\n",
       "      <th>23</th>\n",
       "      <td>experiment_N_6_rttol_15.mzML</td>\n",
       "      <td>6</td>\n",
       "      <td>9841</td>\n",
       "    </tr>\n",
       "    <tr>\n",
       "      <th>24</th>\n",
       "      <td>experiment_N_8_rttol_15.mzML</td>\n",
       "      <td>8</td>\n",
       "      <td>9723</td>\n",
       "    </tr>\n",
       "    <tr>\n",
       "      <th>0</th>\n",
       "      <td>experiment_N_10_rttol_15.mzML</td>\n",
       "      <td>10</td>\n",
       "      <td>9876</td>\n",
       "    </tr>\n",
       "  </tbody>\n",
       "</table>\n",
       "</div>"
      ],
      "text/plain": [
       "                         filename   N  count\n",
       "10   experiment_N_2_rttol_15.mzML   2   9797\n",
       "21   experiment_N_4_rttol_15.mzML   4   9646\n",
       "23   experiment_N_6_rttol_15.mzML   6   9841\n",
       "24   experiment_N_8_rttol_15.mzML   8   9723\n",
       "0   experiment_N_10_rttol_15.mzML  10   9876"
      ]
     },
     "execution_count": 229,
     "metadata": {},
     "output_type": "execute_result"
    }
   ],
   "source": [
    "df.head()"
   ]
  },
  {
   "cell_type": "code",
   "execution_count": 232,
   "metadata": {},
   "outputs": [
    {
     "data": {
      "text/plain": [
       "Text(0.5, 1.0, 'Number of MS1 features detected by CentWave')"
      ]
     },
     "execution_count": 232,
     "metadata": {},
     "output_type": "execute_result"
    },
    {
     "data": {
      "image/png": "[encoded data removed]",
      "text/plain": [
       "<Figure size 432x288 with 1 Axes>"
      ]
     },
     "metadata": {
      "needs_background": "light"
     },
     "output_type": "display_data"
    }
   ],
   "source": [
    "sns.lineplot(x='N', y='count', data=df)\n",
    "plt.title('Number of MS1 features detected by CentWave')"
   ]
  },
  {
   "cell_type": "markdown",
   "metadata": {},
   "source": [
    "## E. Case Study 2: Reproduce DIA results"
   ]
  },
  {
   "cell_type": "markdown",
   "metadata": {},
   "source": [
    "![title](img/placeholder.png)"
   ]
  },
  {
   "cell_type": "markdown",
   "metadata": {},
   "source": [
    "## F. Case Study 3: Reproduce DsDA results"
   ]
  },
  {
   "cell_type": "markdown",
   "metadata": {},
   "source": [
    "Same as Table 1 in the DsDA paper:\n",
    "- The percentage of all detected features that were sampled by MS/MS at least once.\n",
    "- The percentage of all features detected in at least 20% of the injections that were sampled by MS/MS at least once.\n",
    "- The total number of MS/MS events (absolute counts) that map to a feature\n",
    "\n",
    "![title](img/capture1.png)"
   ]
  },
  {
   "cell_type": "markdown",
   "metadata": {},
   "source": [
    "Same as Figure 1 in the DsDA paper:\n",
    "- Create 20 samples, run them through DsDA with or without maxdepth.\n",
    "- Figure 1. *Complex small-molecule sample injected 20 times using standard DDA (A), DsDA (B), or DsDA with the MaxDepth option enabled (C). Each panel contains a scatterplot in which each point represents an XCMS feature. All black points are plotted with sizes proportional to the number of times they were sampled for MS/MS (see legend). All points colored red remained unsampled at the end of the 20-injection sequence*\n",
    "\n",
    "![title](img/capture2.png)"
   ]
  },
  {
   "cell_type": "code",
   "execution_count": null,
   "metadata": {},
   "outputs": [],
   "source": []
  }
 ],
 "metadata": {
  "kernelspec": {
   "display_name": "Python 3",
   "language": "python",
   "name": "python3"
  },
  "language_info": {
   "codemirror_mode": {
    "name": "ipython",
    "version": 3
   },
   "file_extension": ".py",
   "mimetype": "text/x-python",
   "name": "python",
   "nbconvert_exporter": "python",
   "pygments_lexer": "ipython3",
   "version": "3.6.6"
  }
 },
 "nbformat": 4,
 "nbformat_minor": 2
}
