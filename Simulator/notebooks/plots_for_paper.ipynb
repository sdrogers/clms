{
 "cells": [
  {
   "cell_type": "markdown",
   "metadata": {},
   "source": [
    "# Results"
   ]
  },
  {
   "cell_type": "code",
   "execution_count": 1,
   "metadata": {},
   "outputs": [],
   "source": [
    "%load_ext autoreload\n",
    "%autoreload 2"
   ]
  },
  {
   "cell_type": "code",
   "execution_count": 2,
   "metadata": {},
   "outputs": [],
   "source": [
    "import numpy as np\n",
    "import sys\n",
    "import scipy.stats\n",
    "import re\n",
    "import os\n",
    "import pandas as pd\n",
    "import seaborn as sns"
   ]
  },
  {
   "cell_type": "code",
   "execution_count": 3,
   "metadata": {},
   "outputs": [],
   "source": [
    "sys.path.append('../codes')"
   ]
  },
  {
   "cell_type": "code",
   "execution_count": 4,
   "metadata": {},
   "outputs": [],
   "source": [
    "from VMSfunctions.Chemicals import *\n",
    "from VMSfunctions.Chromatograms import *\n",
    "from VMSfunctions.MassSpec import *\n",
    "from VMSfunctions.Controller import *\n",
    "from VMSfunctions.Common import *\n",
    "from VMSfunctions.DataGenerator import *\n",
    "from VMSfunctions.Noise import *"
   ]
  },
  {
   "cell_type": "code",
   "execution_count": 5,
   "metadata": {},
   "outputs": [],
   "source": [
    "base_dir = 'C:\\\\Users\\\\joewa\\\\University of Glasgow\\\\Vinny Davies - CLDS Metabolomics Project\\\\'"
   ]
  },
  {
   "cell_type": "code",
   "execution_count": 6,
   "metadata": {},
   "outputs": [],
   "source": [
    "# base_dir = 'C:\\\\Users\\\\Vinny\\\\OneDrive - University of Glasgow\\\\CLDS Metabolomics Project\\\\'"
   ]
  },
  {
   "cell_type": "markdown",
   "metadata": {},
   "source": [
    "## B. Peak Picking (CentWave) Results"
   ]
  },
  {
   "cell_type": "markdown",
   "metadata": {},
   "source": [
    "#### Load mzML in peak picking, and see if the same peaks are picked again."
   ]
  },
  {
   "cell_type": "code",
   "execution_count": null,
   "metadata": {},
   "outputs": [],
   "source": []
  },
  {
   "cell_type": "markdown",
   "metadata": {},
   "source": [
    "#### Boxplot comparing the mz, rt and intensity distributions of simulated MS1 peaks vs those from some beer files."
   ]
  },
  {
   "cell_type": "code",
   "execution_count": 7,
   "metadata": {},
   "outputs": [],
   "source": [
    "df = pd.read_csv(os.path.join(base_dir, 'Manuscript\\\\B. CentWave\\\\mzML\\\\extracted_peaks_ms1.csv'))"
   ]
  },
  {
   "cell_type": "code",
   "execution_count": 8,
   "metadata": {},
   "outputs": [],
   "source": [
    "min_ms1_intensity = 1.75E5\n",
    "rt_range = [(3*60, 21*60)]\n",
    "mz_range = [(0, 1050)]"
   ]
  },
  {
   "cell_type": "code",
   "execution_count": 9,
   "metadata": {},
   "outputs": [],
   "source": [
    "intensity_col = 'maxo'\n",
    "df = df[(df['rt'] > rt_range[0][0]) & (df['rt'] < rt_range[0][1])]\n",
    "df = df[(df['rt'] > mz_range[0][0]) & (df['rt'] < mz_range[0][1])]\n",
    "df = df[(df[intensity_col] > min_ms1_intensity)]\n",
    "df['log_intensity'] = df.apply(lambda row: np.log(row[intensity_col]), axis=1)"
   ]
  },
  {
   "cell_type": "code",
   "execution_count": 10,
   "metadata": {},
   "outputs": [
    {
     "data": {
      "text/html": [
       "<div>\n",
       "<style scoped>\n",
       "    .dataframe tbody tr th:only-of-type {\n",
       "        vertical-align: middle;\n",
       "    }\n",
       "\n",
       "    .dataframe tbody tr th {\n",
       "        vertical-align: top;\n",
       "    }\n",
       "\n",
       "    .dataframe thead th {\n",
       "        text-align: right;\n",
       "    }\n",
       "</style>\n",
       "<table border=\"1\" class=\"dataframe\">\n",
       "  <thead>\n",
       "    <tr style=\"text-align: right;\">\n",
       "      <th></th>\n",
       "      <th>mz</th>\n",
       "      <th>mzmin</th>\n",
       "      <th>mzmax</th>\n",
       "      <th>rt</th>\n",
       "      <th>rtmin</th>\n",
       "      <th>rtmax</th>\n",
       "      <th>into</th>\n",
       "      <th>intb</th>\n",
       "      <th>maxo</th>\n",
       "      <th>sn</th>\n",
       "      <th>sample</th>\n",
       "      <th>is_filled</th>\n",
       "      <th>msLevel</th>\n",
       "      <th>filename</th>\n",
       "      <th>log_intensity</th>\n",
       "    </tr>\n",
       "  </thead>\n",
       "  <tbody>\n",
       "    <tr>\n",
       "      <th>175</th>\n",
       "      <td>144.927465</td>\n",
       "      <td>144.927368</td>\n",
       "      <td>144.927551</td>\n",
       "      <td>180.270</td>\n",
       "      <td>125.944</td>\n",
       "      <td>227.040</td>\n",
       "      <td>1.380150e+07</td>\n",
       "      <td>1.378399e+07</td>\n",
       "      <td>2.334051e+05</td>\n",
       "      <td>105</td>\n",
       "      <td>1</td>\n",
       "      <td>0</td>\n",
       "      <td>1</td>\n",
       "      <td>Beer_multibeers_1_fullscan1.mzML</td>\n",
       "      <td>12.360531</td>\n",
       "    </tr>\n",
       "    <tr>\n",
       "      <th>188</th>\n",
       "      <td>255.055099</td>\n",
       "      <td>255.054810</td>\n",
       "      <td>255.055389</td>\n",
       "      <td>182.986</td>\n",
       "      <td>157.797</td>\n",
       "      <td>223.123</td>\n",
       "      <td>5.723220e+06</td>\n",
       "      <td>5.631491e+06</td>\n",
       "      <td>1.915483e+05</td>\n",
       "      <td>32</td>\n",
       "      <td>1</td>\n",
       "      <td>0</td>\n",
       "      <td>1</td>\n",
       "      <td>Beer_multibeers_1_fullscan1.mzML</td>\n",
       "      <td>12.162895</td>\n",
       "    </tr>\n",
       "    <tr>\n",
       "      <th>200</th>\n",
       "      <td>128.953466</td>\n",
       "      <td>128.953430</td>\n",
       "      <td>128.953506</td>\n",
       "      <td>193.483</td>\n",
       "      <td>165.756</td>\n",
       "      <td>215.408</td>\n",
       "      <td>6.641639e+07</td>\n",
       "      <td>6.608331e+07</td>\n",
       "      <td>1.948148e+06</td>\n",
       "      <td>112</td>\n",
       "      <td>1</td>\n",
       "      <td>0</td>\n",
       "      <td>1</td>\n",
       "      <td>Beer_multibeers_1_fullscan1.mzML</td>\n",
       "      <td>14.482390</td>\n",
       "    </tr>\n",
       "    <tr>\n",
       "      <th>223</th>\n",
       "      <td>402.271539</td>\n",
       "      <td>402.271179</td>\n",
       "      <td>402.272064</td>\n",
       "      <td>204.018</td>\n",
       "      <td>198.778</td>\n",
       "      <td>212.928</td>\n",
       "      <td>1.719215e+06</td>\n",
       "      <td>1.719202e+06</td>\n",
       "      <td>2.516077e+05</td>\n",
       "      <td>251607</td>\n",
       "      <td>1</td>\n",
       "      <td>0</td>\n",
       "      <td>1</td>\n",
       "      <td>Beer_multibeers_1_fullscan1.mzML</td>\n",
       "      <td>12.435626</td>\n",
       "    </tr>\n",
       "    <tr>\n",
       "      <th>238</th>\n",
       "      <td>321.196281</td>\n",
       "      <td>321.196045</td>\n",
       "      <td>321.196533</td>\n",
       "      <td>210.280</td>\n",
       "      <td>204.018</td>\n",
       "      <td>215.408</td>\n",
       "      <td>1.868589e+06</td>\n",
       "      <td>1.867575e+06</td>\n",
       "      <td>3.243222e+05</td>\n",
       "      <td>215</td>\n",
       "      <td>1</td>\n",
       "      <td>0</td>\n",
       "      <td>1</td>\n",
       "      <td>Beer_multibeers_1_fullscan1.mzML</td>\n",
       "      <td>12.689493</td>\n",
       "    </tr>\n",
       "  </tbody>\n",
       "</table>\n",
       "</div>"
      ],
      "text/plain": [
       "             mz       mzmin       mzmax       rt    rtmin    rtmax  \\\n",
       "175  144.927465  144.927368  144.927551  180.270  125.944  227.040   \n",
       "188  255.055099  255.054810  255.055389  182.986  157.797  223.123   \n",
       "200  128.953466  128.953430  128.953506  193.483  165.756  215.408   \n",
       "223  402.271539  402.271179  402.272064  204.018  198.778  212.928   \n",
       "238  321.196281  321.196045  321.196533  210.280  204.018  215.408   \n",
       "\n",
       "             into          intb          maxo      sn  sample  is_filled  \\\n",
       "175  1.380150e+07  1.378399e+07  2.334051e+05     105       1          0   \n",
       "188  5.723220e+06  5.631491e+06  1.915483e+05      32       1          0   \n",
       "200  6.641639e+07  6.608331e+07  1.948148e+06     112       1          0   \n",
       "223  1.719215e+06  1.719202e+06  2.516077e+05  251607       1          0   \n",
       "238  1.868589e+06  1.867575e+06  3.243222e+05     215       1          0   \n",
       "\n",
       "     msLevel                          filename  log_intensity  \n",
       "175        1  Beer_multibeers_1_fullscan1.mzML      12.360531  \n",
       "188        1  Beer_multibeers_1_fullscan1.mzML      12.162895  \n",
       "200        1  Beer_multibeers_1_fullscan1.mzML      14.482390  \n",
       "223        1  Beer_multibeers_1_fullscan1.mzML      12.435626  \n",
       "238        1  Beer_multibeers_1_fullscan1.mzML      12.689493  "
      ]
     },
     "execution_count": 10,
     "metadata": {},
     "output_type": "execute_result"
    }
   ],
   "source": [
    "df.head()"
   ]
  },
  {
   "cell_type": "code",
   "execution_count": 11,
   "metadata": {},
   "outputs": [],
   "source": [
    "def make_boxplot(df, x, y, xticklabels, title):\n",
    "    g = sns.catplot(x=x, y=y,  kind='box', data=df)\n",
    "    if xticklabels is not None:\n",
    "        g.set_xticklabels(xticklabels, rotation=90)\n",
    "    else:\n",
    "        g.set_xticklabels(rotation=90)        \n",
    "    plt.title(title)\n",
    "    plt.tight_layout()\n",
    "    plt.show()"
   ]
  },
  {
   "cell_type": "code",
   "execution_count": 12,
   "metadata": {},
   "outputs": [],
   "source": [
    "def make_hist(df, col_name, file_name, title):\n",
    "    gb = df.groupby('filename')\n",
    "    group_df = gb.get_group(file_name)\n",
    "    vals = group_df[col_name].values\n",
    "    print(vals, len(vals))\n",
    "    _ = plt.hist(vals, bins=100)\n",
    "    plt.title(title)\n",
    "    plt.tight_layout()\n",
    "    plt.show()"
   ]
  },
  {
   "cell_type": "markdown",
   "metadata": {},
   "source": [
    "Plot MS1 features"
   ]
  },
  {
   "cell_type": "code",
   "execution_count": 13,
   "metadata": {},
   "outputs": [
    {
     "data": {
      "text/html": [
       "<div>\n",
       "<style scoped>\n",
       "    .dataframe tbody tr th:only-of-type {\n",
       "        vertical-align: middle;\n",
       "    }\n",
       "\n",
       "    .dataframe tbody tr th {\n",
       "        vertical-align: top;\n",
       "    }\n",
       "\n",
       "    .dataframe thead th {\n",
       "        text-align: right;\n",
       "    }\n",
       "</style>\n",
       "<table border=\"1\" class=\"dataframe\">\n",
       "  <thead>\n",
       "    <tr style=\"text-align: right;\">\n",
       "      <th></th>\n",
       "      <th>mz</th>\n",
       "      <th>mzmin</th>\n",
       "      <th>mzmax</th>\n",
       "      <th>rt</th>\n",
       "      <th>rtmin</th>\n",
       "      <th>rtmax</th>\n",
       "      <th>into</th>\n",
       "      <th>intb</th>\n",
       "      <th>maxo</th>\n",
       "      <th>sn</th>\n",
       "      <th>sample</th>\n",
       "      <th>is_filled</th>\n",
       "      <th>msLevel</th>\n",
       "      <th>log_intensity</th>\n",
       "    </tr>\n",
       "    <tr>\n",
       "      <th>filename</th>\n",
       "      <th></th>\n",
       "      <th></th>\n",
       "      <th></th>\n",
       "      <th></th>\n",
       "      <th></th>\n",
       "      <th></th>\n",
       "      <th></th>\n",
       "      <th></th>\n",
       "      <th></th>\n",
       "      <th></th>\n",
       "      <th></th>\n",
       "      <th></th>\n",
       "      <th></th>\n",
       "      <th></th>\n",
       "    </tr>\n",
       "  </thead>\n",
       "  <tbody>\n",
       "    <tr>\n",
       "      <th>Beer_multibeers_12_fullscan1.mzML</th>\n",
       "      <td>1257</td>\n",
       "      <td>1257</td>\n",
       "      <td>1257</td>\n",
       "      <td>1257</td>\n",
       "      <td>1257</td>\n",
       "      <td>1257</td>\n",
       "      <td>1257</td>\n",
       "      <td>1257</td>\n",
       "      <td>1257</td>\n",
       "      <td>1257</td>\n",
       "      <td>1257</td>\n",
       "      <td>1257</td>\n",
       "      <td>1257</td>\n",
       "      <td>1257</td>\n",
       "    </tr>\n",
       "    <tr>\n",
       "      <th>Beer_multibeers_18_fullscan1.mzML</th>\n",
       "      <td>7967</td>\n",
       "      <td>7967</td>\n",
       "      <td>7967</td>\n",
       "      <td>7967</td>\n",
       "      <td>7967</td>\n",
       "      <td>7967</td>\n",
       "      <td>7967</td>\n",
       "      <td>7967</td>\n",
       "      <td>7967</td>\n",
       "      <td>7967</td>\n",
       "      <td>7967</td>\n",
       "      <td>7967</td>\n",
       "      <td>7967</td>\n",
       "      <td>7967</td>\n",
       "    </tr>\n",
       "    <tr>\n",
       "      <th>Beer_multibeers_1_fullscan1.mzML</th>\n",
       "      <td>6808</td>\n",
       "      <td>6808</td>\n",
       "      <td>6808</td>\n",
       "      <td>6808</td>\n",
       "      <td>6808</td>\n",
       "      <td>6808</td>\n",
       "      <td>6808</td>\n",
       "      <td>6808</td>\n",
       "      <td>6808</td>\n",
       "      <td>6808</td>\n",
       "      <td>6808</td>\n",
       "      <td>6808</td>\n",
       "      <td>6808</td>\n",
       "      <td>6808</td>\n",
       "    </tr>\n",
       "    <tr>\n",
       "      <th>Beer_multibeers_6_fullscan1.mzML</th>\n",
       "      <td>7025</td>\n",
       "      <td>7025</td>\n",
       "      <td>7025</td>\n",
       "      <td>7025</td>\n",
       "      <td>7025</td>\n",
       "      <td>7025</td>\n",
       "      <td>7025</td>\n",
       "      <td>7025</td>\n",
       "      <td>7025</td>\n",
       "      <td>7025</td>\n",
       "      <td>7025</td>\n",
       "      <td>7025</td>\n",
       "      <td>7025</td>\n",
       "      <td>7025</td>\n",
       "    </tr>\n",
       "    <tr>\n",
       "      <th>no_noise_ms1_controller.mzML</th>\n",
       "      <td>4021</td>\n",
       "      <td>4021</td>\n",
       "      <td>4021</td>\n",
       "      <td>4021</td>\n",
       "      <td>4021</td>\n",
       "      <td>4021</td>\n",
       "      <td>4021</td>\n",
       "      <td>4021</td>\n",
       "      <td>4021</td>\n",
       "      <td>4021</td>\n",
       "      <td>4021</td>\n",
       "      <td>4021</td>\n",
       "      <td>4021</td>\n",
       "      <td>4021</td>\n",
       "    </tr>\n",
       "    <tr>\n",
       "      <th>noisy_ms1_controller.mzML</th>\n",
       "      <td>5891</td>\n",
       "      <td>5891</td>\n",
       "      <td>5891</td>\n",
       "      <td>5891</td>\n",
       "      <td>5891</td>\n",
       "      <td>5891</td>\n",
       "      <td>5891</td>\n",
       "      <td>5891</td>\n",
       "      <td>5891</td>\n",
       "      <td>5891</td>\n",
       "      <td>5891</td>\n",
       "      <td>5891</td>\n",
       "      <td>5891</td>\n",
       "      <td>5891</td>\n",
       "    </tr>\n",
       "  </tbody>\n",
       "</table>\n",
       "</div>"
      ],
      "text/plain": [
       "                                     mz  mzmin  mzmax    rt  rtmin  rtmax  \\\n",
       "filename                                                                    \n",
       "Beer_multibeers_12_fullscan1.mzML  1257   1257   1257  1257   1257   1257   \n",
       "Beer_multibeers_18_fullscan1.mzML  7967   7967   7967  7967   7967   7967   \n",
       "Beer_multibeers_1_fullscan1.mzML   6808   6808   6808  6808   6808   6808   \n",
       "Beer_multibeers_6_fullscan1.mzML   7025   7025   7025  7025   7025   7025   \n",
       "no_noise_ms1_controller.mzML       4021   4021   4021  4021   4021   4021   \n",
       "noisy_ms1_controller.mzML          5891   5891   5891  5891   5891   5891   \n",
       "\n",
       "                                   into  intb  maxo    sn  sample  is_filled  \\\n",
       "filename                                                                       \n",
       "Beer_multibeers_12_fullscan1.mzML  1257  1257  1257  1257    1257       1257   \n",
       "Beer_multibeers_18_fullscan1.mzML  7967  7967  7967  7967    7967       7967   \n",
       "Beer_multibeers_1_fullscan1.mzML   6808  6808  6808  6808    6808       6808   \n",
       "Beer_multibeers_6_fullscan1.mzML   7025  7025  7025  7025    7025       7025   \n",
       "no_noise_ms1_controller.mzML       4021  4021  4021  4021    4021       4021   \n",
       "noisy_ms1_controller.mzML          5891  5891  5891  5891    5891       5891   \n",
       "\n",
       "                                   msLevel  log_intensity  \n",
       "filename                                                   \n",
       "Beer_multibeers_12_fullscan1.mzML     1257           1257  \n",
       "Beer_multibeers_18_fullscan1.mzML     7967           7967  \n",
       "Beer_multibeers_1_fullscan1.mzML      6808           6808  \n",
       "Beer_multibeers_6_fullscan1.mzML      7025           7025  \n",
       "no_noise_ms1_controller.mzML          4021           4021  \n",
       "noisy_ms1_controller.mzML             5891           5891  "
      ]
     },
     "execution_count": 13,
     "metadata": {},
     "output_type": "execute_result"
    }
   ],
   "source": [
    "df.groupby('filename').count()"
   ]
  },
  {
   "cell_type": "code",
   "execution_count": 14,
   "metadata": {},
   "outputs": [
    {
     "data": {
      "text/html": [
       "<div>\n",
       "<style scoped>\n",
       "    .dataframe tbody tr th:only-of-type {\n",
       "        vertical-align: middle;\n",
       "    }\n",
       "\n",
       "    .dataframe tbody tr th {\n",
       "        vertical-align: top;\n",
       "    }\n",
       "\n",
       "    .dataframe thead th {\n",
       "        text-align: right;\n",
       "    }\n",
       "</style>\n",
       "<table border=\"1\" class=\"dataframe\">\n",
       "  <thead>\n",
       "    <tr style=\"text-align: right;\">\n",
       "      <th></th>\n",
       "      <th>mz</th>\n",
       "      <th>mzmin</th>\n",
       "      <th>mzmax</th>\n",
       "      <th>rt</th>\n",
       "      <th>rtmin</th>\n",
       "      <th>rtmax</th>\n",
       "      <th>into</th>\n",
       "      <th>intb</th>\n",
       "      <th>maxo</th>\n",
       "      <th>sn</th>\n",
       "      <th>sample</th>\n",
       "      <th>is_filled</th>\n",
       "      <th>msLevel</th>\n",
       "      <th>log_intensity</th>\n",
       "    </tr>\n",
       "    <tr>\n",
       "      <th>filename</th>\n",
       "      <th></th>\n",
       "      <th></th>\n",
       "      <th></th>\n",
       "      <th></th>\n",
       "      <th></th>\n",
       "      <th></th>\n",
       "      <th></th>\n",
       "      <th></th>\n",
       "      <th></th>\n",
       "      <th></th>\n",
       "      <th></th>\n",
       "      <th></th>\n",
       "      <th></th>\n",
       "      <th></th>\n",
       "    </tr>\n",
       "  </thead>\n",
       "  <tbody>\n",
       "    <tr>\n",
       "      <th>Beer_multibeers_12_fullscan1.mzML</th>\n",
       "      <td>234.076885</td>\n",
       "      <td>234.076813</td>\n",
       "      <td>234.076950</td>\n",
       "      <td>717.640000</td>\n",
       "      <td>709.865000</td>\n",
       "      <td>723.949000</td>\n",
       "      <td>5.052289e+06</td>\n",
       "      <td>4.848250e+06</td>\n",
       "      <td>466060.03125</td>\n",
       "      <td>75</td>\n",
       "      <td>2</td>\n",
       "      <td>0</td>\n",
       "      <td>1</td>\n",
       "      <td>13.052070</td>\n",
       "    </tr>\n",
       "    <tr>\n",
       "      <th>Beer_multibeers_18_fullscan1.mzML</th>\n",
       "      <td>266.138415</td>\n",
       "      <td>266.138275</td>\n",
       "      <td>266.138580</td>\n",
       "      <td>426.950000</td>\n",
       "      <td>422.009000</td>\n",
       "      <td>433.306000</td>\n",
       "      <td>5.164055e+06</td>\n",
       "      <td>5.062477e+06</td>\n",
       "      <td>599715.81250</td>\n",
       "      <td>45</td>\n",
       "      <td>3</td>\n",
       "      <td>0</td>\n",
       "      <td>1</td>\n",
       "      <td>13.304211</td>\n",
       "    </tr>\n",
       "    <tr>\n",
       "      <th>Beer_multibeers_1_fullscan1.mzML</th>\n",
       "      <td>252.108323</td>\n",
       "      <td>252.108170</td>\n",
       "      <td>252.108551</td>\n",
       "      <td>494.115000</td>\n",
       "      <td>484.110000</td>\n",
       "      <td>502.911000</td>\n",
       "      <td>5.009870e+06</td>\n",
       "      <td>4.880431e+06</td>\n",
       "      <td>533100.90625</td>\n",
       "      <td>42</td>\n",
       "      <td>1</td>\n",
       "      <td>0</td>\n",
       "      <td>1</td>\n",
       "      <td>13.186466</td>\n",
       "    </tr>\n",
       "    <tr>\n",
       "      <th>Beer_multibeers_6_fullscan1.mzML</th>\n",
       "      <td>273.134278</td>\n",
       "      <td>273.134247</td>\n",
       "      <td>273.134308</td>\n",
       "      <td>448.264000</td>\n",
       "      <td>439.400000</td>\n",
       "      <td>461.135000</td>\n",
       "      <td>4.285033e+06</td>\n",
       "      <td>4.196025e+06</td>\n",
       "      <td>457976.18750</td>\n",
       "      <td>44</td>\n",
       "      <td>4</td>\n",
       "      <td>0</td>\n",
       "      <td>1</td>\n",
       "      <td>13.034572</td>\n",
       "    </tr>\n",
       "    <tr>\n",
       "      <th>no_noise_ms1_controller.mzML</th>\n",
       "      <td>212.025382</td>\n",
       "      <td>212.025208</td>\n",
       "      <td>212.025681</td>\n",
       "      <td>517.690683</td>\n",
       "      <td>509.944952</td>\n",
       "      <td>525.295451</td>\n",
       "      <td>5.365102e+06</td>\n",
       "      <td>5.365092e+06</td>\n",
       "      <td>607018.25000</td>\n",
       "      <td>599318</td>\n",
       "      <td>5</td>\n",
       "      <td>0</td>\n",
       "      <td>1</td>\n",
       "      <td>13.316314</td>\n",
       "    </tr>\n",
       "    <tr>\n",
       "      <th>noisy_ms1_controller.mzML</th>\n",
       "      <td>220.141079</td>\n",
       "      <td>220.141022</td>\n",
       "      <td>220.141159</td>\n",
       "      <td>542.834460</td>\n",
       "      <td>533.663303</td>\n",
       "      <td>550.344807</td>\n",
       "      <td>4.091254e+06</td>\n",
       "      <td>4.091230e+06</td>\n",
       "      <td>441307.87500</td>\n",
       "      <td>430317</td>\n",
       "      <td>6</td>\n",
       "      <td>0</td>\n",
       "      <td>1</td>\n",
       "      <td>12.997498</td>\n",
       "    </tr>\n",
       "  </tbody>\n",
       "</table>\n",
       "</div>"
      ],
      "text/plain": [
       "                                           mz       mzmin       mzmax  \\\n",
       "filename                                                                \n",
       "Beer_multibeers_12_fullscan1.mzML  234.076885  234.076813  234.076950   \n",
       "Beer_multibeers_18_fullscan1.mzML  266.138415  266.138275  266.138580   \n",
       "Beer_multibeers_1_fullscan1.mzML   252.108323  252.108170  252.108551   \n",
       "Beer_multibeers_6_fullscan1.mzML   273.134278  273.134247  273.134308   \n",
       "no_noise_ms1_controller.mzML       212.025382  212.025208  212.025681   \n",
       "noisy_ms1_controller.mzML          220.141079  220.141022  220.141159   \n",
       "\n",
       "                                           rt       rtmin       rtmax  \\\n",
       "filename                                                                \n",
       "Beer_multibeers_12_fullscan1.mzML  717.640000  709.865000  723.949000   \n",
       "Beer_multibeers_18_fullscan1.mzML  426.950000  422.009000  433.306000   \n",
       "Beer_multibeers_1_fullscan1.mzML   494.115000  484.110000  502.911000   \n",
       "Beer_multibeers_6_fullscan1.mzML   448.264000  439.400000  461.135000   \n",
       "no_noise_ms1_controller.mzML       517.690683  509.944952  525.295451   \n",
       "noisy_ms1_controller.mzML          542.834460  533.663303  550.344807   \n",
       "\n",
       "                                           into          intb          maxo  \\\n",
       "filename                                                                      \n",
       "Beer_multibeers_12_fullscan1.mzML  5.052289e+06  4.848250e+06  466060.03125   \n",
       "Beer_multibeers_18_fullscan1.mzML  5.164055e+06  5.062477e+06  599715.81250   \n",
       "Beer_multibeers_1_fullscan1.mzML   5.009870e+06  4.880431e+06  533100.90625   \n",
       "Beer_multibeers_6_fullscan1.mzML   4.285033e+06  4.196025e+06  457976.18750   \n",
       "no_noise_ms1_controller.mzML       5.365102e+06  5.365092e+06  607018.25000   \n",
       "noisy_ms1_controller.mzML          4.091254e+06  4.091230e+06  441307.87500   \n",
       "\n",
       "                                       sn  sample  is_filled  msLevel  \\\n",
       "filename                                                                \n",
       "Beer_multibeers_12_fullscan1.mzML      75       2          0        1   \n",
       "Beer_multibeers_18_fullscan1.mzML      45       3          0        1   \n",
       "Beer_multibeers_1_fullscan1.mzML       42       1          0        1   \n",
       "Beer_multibeers_6_fullscan1.mzML       44       4          0        1   \n",
       "no_noise_ms1_controller.mzML       599318       5          0        1   \n",
       "noisy_ms1_controller.mzML          430317       6          0        1   \n",
       "\n",
       "                                   log_intensity  \n",
       "filename                                          \n",
       "Beer_multibeers_12_fullscan1.mzML      13.052070  \n",
       "Beer_multibeers_18_fullscan1.mzML      13.304211  \n",
       "Beer_multibeers_1_fullscan1.mzML       13.186466  \n",
       "Beer_multibeers_6_fullscan1.mzML       13.034572  \n",
       "no_noise_ms1_controller.mzML           13.316314  \n",
       "noisy_ms1_controller.mzML              12.997498  "
      ]
     },
     "execution_count": 14,
     "metadata": {},
     "output_type": "execute_result"
    }
   ],
   "source": [
    "df.groupby('filename').median()"
   ]
  },
  {
   "cell_type": "code",
   "execution_count": 15,
   "metadata": {},
   "outputs": [
    {
     "name": "stdout",
     "output_type": "stream",
     "text": [
      "[ 180.27   182.986  193.483 ...  916.207 1020.82   809.581] 6808\n"
     ]
    },
    {
     "data": {
      "image/png": "[encoded data removed]",
      "text/plain": [
       "<Figure size 432x288 with 1 Axes>"
      ]
     },
     "metadata": {
      "needs_background": "light"
     },
     "output_type": "display_data"
    },
    {
     "name": "stdout",
     "output_type": "stream",
     "text": [
      "[ 185.44028791  186.68194243  189.32581501 ... 1039.02755687 1032.53377894\n",
      " 1048.2977746 ] 4021\n"
     ]
    },
    {
     "data": {
      "image/png": "[encoded data removed]",
      "text/plain": [
       "<Figure size 432x288 with 1 Axes>"
      ]
     },
     "metadata": {
      "needs_background": "light"
     },
     "output_type": "display_data"
    },
    {
     "name": "stdout",
     "output_type": "stream",
     "text": [
      "[ 186.27474581  188.8125202   186.27474581 ...  873.87607496 1010.90974286\n",
      "  987.52257349] 5891\n"
     ]
    },
    {
     "data": {
      "image/png": "[encoded data removed]",
      "text/plain": [
       "<Figure size 432x288 with 1 Axes>"
      ]
     },
     "metadata": {
      "needs_background": "light"
     },
     "output_type": "display_data"
    }
   ],
   "source": [
    "fname = 'Beer_multibeers_1_fullscan1.mzML'\n",
    "make_hist(df, 'rt', fname, 'RT - %s' % fname)\n",
    "\n",
    "fname = 'no_noise_ms1_controller.mzML'\n",
    "make_hist(df, 'rt', fname, 'RT - %s' % fname)\n",
    "\n",
    "fname = 'noisy_ms1_controller.mzML'\n",
    "make_hist(df, 'rt', fname, 'RT - %s' % fname)"
   ]
  },
  {
   "cell_type": "code",
   "execution_count": 16,
   "metadata": {},
   "outputs": [
    {
     "data": {
      "image/png": "[encoded data removed]",
      "text/plain": [
       "<Figure size 360x360 with 1 Axes>"
      ]
     },
     "metadata": {
      "needs_background": "light"
     },
     "output_type": "display_data"
    }
   ],
   "source": [
    "make_boxplot(df, 'filename', 'mz', None, \n",
    "             'm/z distributions of MS1 features')"
   ]
  },
  {
   "cell_type": "code",
   "execution_count": 17,
   "metadata": {
    "scrolled": false
   },
   "outputs": [
    {
     "data": {
      "image/png": "[encoded data removed]",
      "text/plain": [
       "<Figure size 360x360 with 1 Axes>"
      ]
     },
     "metadata": {
      "needs_background": "light"
     },
     "output_type": "display_data"
    }
   ],
   "source": [
    "make_boxplot(df, 'filename', 'rt', None, \n",
    "             'RT distributions of MS1 features')"
   ]
  },
  {
   "cell_type": "code",
   "execution_count": 18,
   "metadata": {},
   "outputs": [
    {
     "data": {
      "image/png": "[encoded data removed]",
      "text/plain": [
       "<Figure size 360x360 with 1 Axes>"
      ]
     },
     "metadata": {
      "needs_background": "light"
     },
     "output_type": "display_data"
    }
   ],
   "source": [
    "make_boxplot(df, 'filename', 'log_intensity', None, \n",
    "             'Intensity distributions of MS1 features')"
   ]
  },
  {
   "cell_type": "markdown",
   "metadata": {},
   "source": [
    "## C. Top-N DDA Fragmentation Compared to the Real Data"
   ]
  },
  {
   "cell_type": "markdown",
   "metadata": {},
   "source": [
    "Plot chromatograms"
   ]
  },
  {
   "cell_type": "code",
   "execution_count": 19,
   "metadata": {},
   "outputs": [],
   "source": [
    "base_dir = 'C:\\\\Users\\\\joewa\\\\Work\\\\git\\\\clms\\\\Simulator'\n",
    "dataset = load_obj(os.path.join(base_dir, 'models\\\\dda_results\\\\dataset.p'))\n",
    "noisy_dataset = load_obj(os.path.join(base_dir, 'models\\\\dda_results\\\\noisy_dataset.p'))"
   ]
  },
  {
   "cell_type": "code",
   "execution_count": 20,
   "metadata": {},
   "outputs": [],
   "source": [
    "min_intensity = 1.75E5\n",
    "positives = list(filter(lambda x: x.type == 'data' and x.max_intensity > min_intensity, noisy_dataset))\n",
    "negatives = list(filter(lambda x: x.type == 'noise'and x.max_intensity > min_intensity, noisy_dataset))"
   ]
  },
  {
   "cell_type": "code",
   "execution_count": 21,
   "metadata": {},
   "outputs": [
    {
     "data": {
      "text/plain": [
       "(7077, 2565)"
      ]
     },
     "execution_count": 21,
     "metadata": {},
     "output_type": "execute_result"
    }
   ],
   "source": [
    "len(positives), len(negatives)"
   ]
  },
  {
   "cell_type": "code",
   "execution_count": 22,
   "metadata": {},
   "outputs": [
    {
     "name": "stdout",
     "output_type": "stream",
     "text": [
      "0 / 2565\n",
      "1000 / 2565\n",
      "2000 / 2565\n",
      "0 / 7077\n",
      "1000 / 7077\n",
      "2000 / 7077\n",
      "3000 / 7077\n",
      "4000 / 7077\n",
      "5000 / 7077\n",
      "6000 / 7077\n",
      "7000 / 7077\n"
     ]
    },
    {
     "data": {
      "image/png": "[encoded data removed]",
      "text/plain": [
       "<Figure size 432x288 with 1 Axes>"
      ]
     },
     "metadata": {
      "needs_background": "light"
     },
     "output_type": "display_data"
    }
   ],
   "source": [
    "plt.figure()\n",
    "\n",
    "for i in range(len(negatives)):\n",
    "    chem = negatives[i]\n",
    "    X = chem.chromatogram.raw_rts\n",
    "    Y = chem.chromatogram.raw_mzs\n",
    "    plt.scatter(X, Y, c='r', s=0.1, alpha=0.05)\n",
    "    if i % 1000 == 0:\n",
    "        print(i, '/', len(negatives))\n",
    "\n",
    "for i in range(len(positives)):\n",
    "    chem = positives[i]\n",
    "    X = chem.chromatogram.raw_rts\n",
    "    Y = chem.chromatogram.raw_mzs\n",
    "    plt.scatter(X, Y, c='b', s=0.1, alpha=0.05)\n",
    "    if i % 1000 == 0:\n",
    "        print(i, '/', len(positives))"
   ]
  },
  {
   "cell_type": "markdown",
   "metadata": {},
   "source": [
    "We want to compare the DDA results (T10) against real data.\n",
    "- Boxplot comparing the mz, rt and intensity distributions of simulated MS1 peaks vs those from beer1pos T10."
   ]
  },
  {
   "cell_type": "code",
   "execution_count": 26,
   "metadata": {},
   "outputs": [],
   "source": [
    "base_dir = 'C:\\\\Users\\\\joewa\\\\University of Glasgow\\\\Vinny Davies - CLDS Metabolomics Project'"
   ]
  },
  {
   "cell_type": "code",
   "execution_count": 27,
   "metadata": {},
   "outputs": [],
   "source": [
    "df = pd.read_csv(os.path.join(base_dir, 'Manuscript\\\\C. Top-N DDA Fragmentation Compared to the Real Data\\\\mzML\\\\extracted_peaks_ms1.csv'))"
   ]
  },
  {
   "cell_type": "code",
   "execution_count": 29,
   "metadata": {},
   "outputs": [],
   "source": [
    "min_ms1_intensity = 1.75E5\n",
    "rt_range = [(3*60, 21*60)]\n",
    "mz_range = [(0, 1050)]"
   ]
  },
  {
   "cell_type": "code",
   "execution_count": 30,
   "metadata": {},
   "outputs": [],
   "source": [
    "intensity_col = 'maxo'\n",
    "df = df[(df['rt'] > rt_range[0][0]) & (df['rt'] < rt_range[0][1])]\n",
    "df = df[(df['rt'] > mz_range[0][0]) & (df['rt'] < mz_range[0][1])]\n",
    "df = df[(df[intensity_col] > min_ms1_intensity)]\n",
    "df['log_intensity'] = df.apply(lambda row: np.log(row[intensity_col]), axis=1)"
   ]
  },
  {
   "cell_type": "code",
   "execution_count": 31,
   "metadata": {},
   "outputs": [
    {
     "data": {
      "image/png": "[encoded data removed]",
      "text/plain": [
       "<Figure size 360x360 with 1 Axes>"
      ]
     },
     "metadata": {
      "needs_background": "light"
     },
     "output_type": "display_data"
    }
   ],
   "source": [
    "make_boxplot(df, 'filename', 'mz', None, \n",
    "             'm/z distributions of MS1 features')"
   ]
  },
  {
   "cell_type": "code",
   "execution_count": 32,
   "metadata": {},
   "outputs": [
    {
     "data": {
      "image/png": "[encoded data removed]",
      "text/plain": [
       "<Figure size 360x360 with 1 Axes>"
      ]
     },
     "metadata": {
      "needs_background": "light"
     },
     "output_type": "display_data"
    }
   ],
   "source": [
    "make_boxplot(df, 'filename', 'rt', None, \n",
    "             'RT distributions of MS1 features')"
   ]
  },
  {
   "cell_type": "code",
   "execution_count": 33,
   "metadata": {},
   "outputs": [
    {
     "data": {
      "image/png": "[encoded data removed]",
      "text/plain": [
       "<Figure size 360x360 with 1 Axes>"
      ]
     },
     "metadata": {
      "needs_background": "light"
     },
     "output_type": "display_data"
    }
   ],
   "source": [
    "make_boxplot(df, 'filename', 'log_intensity', None, \n",
    "             'Intensity distributions of MS1 features')"
   ]
  },
  {
   "cell_type": "markdown",
   "metadata": {},
   "source": [
    "- Peak picking results:\n",
    "    - How many chemicals are detected as MS1 peaks by XCMS?"
   ]
  },
  {
   "cell_type": "code",
   "execution_count": 34,
   "metadata": {},
   "outputs": [
    {
     "data": {
      "text/plain": [
       "(4924, 15)"
      ]
     },
     "execution_count": 34,
     "metadata": {},
     "output_type": "execute_result"
    }
   ],
   "source": [
    "filename = 'experiment_N_10_rttol_15.mzML'\n",
    "filtered_df = df.loc[df['filename'] == filename]\n",
    "filtered_df.shape"
   ]
  },
  {
   "cell_type": "code",
   "execution_count": 35,
   "metadata": {},
   "outputs": [],
   "source": [
    "def f(peak_mz, chrom_mzs):\n",
    "    peak_mz = peak_mz - PROTON_MASS\n",
    "    chrom_mzs = chrom_mzs - PROTON_MASS\n",
    "    return peak_mz, chrom_mzs"
   ]
  },
  {
   "cell_type": "code",
   "execution_count": 36,
   "metadata": {},
   "outputs": [
    {
     "data": {
      "text/plain": [
       "4924"
      ]
     },
     "execution_count": 36,
     "metadata": {},
     "output_type": "execute_result"
    }
   ],
   "source": [
    "detected_chemicals = []\n",
    "for index, row in filtered_df.iterrows():\n",
    "    mz = row['mz'] - PROTON_MASS\n",
    "    rt = row['rt']\n",
    "    max_intensity = row['maxo']\n",
    "    chrom = None\n",
    "    chem = UnknownChemical(mz, rt, max_intensity, chrom, children=None)\n",
    "    detected_chemicals.append(chem)\n",
    "    \n",
    "len(detected_chemicals)"
   ]
  },
  {
   "cell_type": "code",
   "execution_count": 37,
   "metadata": {},
   "outputs": [],
   "source": [
    "def load_controller(results_dir, N, rt_tol):\n",
    "    analysis_name = 'experiment_N_%d_rttol_%d' % (N, rt_tol)    \n",
    "    pickle_in = '%s/%s.p' % (results_dir, analysis_name) \n",
    "    print('Loading %s' % analysis_name)                    \n",
    "    try:\n",
    "        controller = load_obj(pickle_in)\n",
    "    except FileNotFoundError:\n",
    "        controller = None\n",
    "    return controller"
   ]
  },
  {
   "cell_type": "code",
   "execution_count": 38,
   "metadata": {},
   "outputs": [],
   "source": [
    "def find_chem(to_find, chem_list, mz_tol, rt_tol, intensity_tol):\n",
    "    for chem in chem_list:\n",
    "        chem_mz = chem.isotopes[0][0]\n",
    "        chem_mz_range = (chem_mz * (1-mz_tol/1e6), chem_mz * (1+mz_tol/1e6))\n",
    "        chem_rt_range = (chem.rt - rt_tol, chem.rt + rt_tol)\n",
    "        chem_intensity_range = (chem.max_intensity - intensity_tol, chem.max_intensity + intensity_tol)\n",
    "        to_find_mz = to_find.isotopes[0][0]\n",
    "        if (chem_mz_range[0] < to_find_mz < chem_mz_range[1]) and \\\n",
    "            (chem_rt_range[0] < to_find.rt < chem_rt_range[1] and \\\n",
    "            (chem_intensity_range[0] < to_find.max_intensity < chem_intensity_range[1])):\n",
    "            return chem\n",
    "    return None"
   ]
  },
  {
   "cell_type": "code",
   "execution_count": 43,
   "metadata": {},
   "outputs": [
    {
     "name": "stdout",
     "output_type": "stream",
     "text": [
      "Loading experiment_N_10_rttol_15\n"
     ]
    }
   ],
   "source": [
    "N = 10\n",
    "rt_tol = 15\n",
    "results_dir = os.path.join(base_dir, 'Manuscript\\\\C. Top-N DDA Fragmentation Compared to the Real Data')\n",
    "controller = load_controller(results_dir, N, rt_tol)"
   ]
  },
  {
   "cell_type": "code",
   "execution_count": 45,
   "metadata": {},
   "outputs": [
    {
     "name": "stdout",
     "output_type": "stream",
     "text": [
      "27377 9828 17549\n"
     ]
    }
   ],
   "source": [
    "dataset = load_obj(os.path.join(results_dir, 'noisy_dataset.p'))\n",
    "positives = list(filter(lambda x: x.type == 'data', dataset))\n",
    "negatives = list(filter(lambda x: x.type == 'noise', dataset))\n",
    "print(len(dataset), len(positives), len(negatives))"
   ]
  },
  {
   "cell_type": "code",
   "execution_count": 46,
   "metadata": {},
   "outputs": [
    {
     "name": "stdout",
     "output_type": "stream",
     "text": [
      "0 / 27377 {}\n",
      "1000 / 27377 {'data': 195}\n",
      "2000 / 27377 {'data': 604}\n",
      "3000 / 27377 {'data': 1057}\n",
      "4000 / 27377 {'data': 1581}\n",
      "5000 / 27377 {'data': 2097}\n",
      "6000 / 27377 {'data': 2592}\n",
      "7000 / 27377 {'data': 2999}\n",
      "8000 / 27377 {'data': 3208}\n",
      "9000 / 27377 {'data': 3261}\n",
      "10000 / 27377 {'data': 3266}\n",
      "11000 / 27377 {'data': 3266, 'noise': 7}\n",
      "12000 / 27377 {'data': 3266, 'noise': 35}\n",
      "13000 / 27377 {'data': 3266, 'noise': 67}\n",
      "14000 / 27377 {'data': 3266, 'noise': 67}\n",
      "15000 / 27377 {'data': 3266, 'noise': 71}\n",
      "16000 / 27377 {'data': 3266, 'noise': 92}\n",
      "17000 / 27377 {'data': 3266, 'noise': 111}\n",
      "18000 / 27377 {'data': 3266, 'noise': 114}\n",
      "19000 / 27377 {'data': 3266, 'noise': 166}\n",
      "20000 / 27377 {'data': 3266, 'noise': 189}\n",
      "21000 / 27377 {'data': 3266, 'noise': 238}\n",
      "22000 / 27377 {'data': 3266, 'noise': 307}\n",
      "23000 / 27377 {'data': 3266, 'noise': 434}\n",
      "24000 / 27377 {'data': 3266, 'noise': 514}\n",
      "25000 / 27377 {'data': 3266, 'noise': 644}\n",
      "26000 / 27377 {'data': 3266, 'noise': 851}\n",
      "27000 / 27377 {'data': 3266, 'noise': 1063}\n"
     ]
    }
   ],
   "source": [
    "mz_tol = 10\n",
    "rt_tol = 30\n",
    "intensity_tol = 1e5\n",
    "count_found = defaultdict(int)\n",
    "for i in range(len(dataset)):\n",
    "    chem = dataset[i]\n",
    "    if i % 1000 == 0:\n",
    "        print(i, '/', len(dataset), dict(count_found))\n",
    "    found = find_chem(chem, detected_chemicals, mz_tol, rt_tol, intensity_tol)\n",
    "    if found:\n",
    "        chem.found = True\n",
    "        count_found[chem.type] += 1\n",
    "    else:\n",
    "        chem.found = False"
   ]
  },
  {
   "cell_type": "code",
   "execution_count": 54,
   "metadata": {},
   "outputs": [
    {
     "data": {
      "text/plain": [
       "defaultdict(int, {'data': 3266, 'noise': 1110})"
      ]
     },
     "execution_count": 54,
     "metadata": {},
     "output_type": "execute_result"
    }
   ],
   "source": [
    "count_found"
   ]
  },
  {
   "cell_type": "code",
   "execution_count": 61,
   "metadata": {},
   "outputs": [
    {
     "data": {
      "text/plain": [
       "0.06325146732007522"
      ]
     },
     "execution_count": 61,
     "metadata": {},
     "output_type": "execute_result"
    }
   ],
   "source": [
    "1110/17549"
   ]
  },
  {
   "cell_type": "markdown",
   "metadata": {},
   "source": [
    "- Compute:\n",
    "    - Proportion of the original MS1 peaks that were fragmented\n",
    "    - Number of MS2 peaks that map to the original MS1 peak\n",
    "    - Show the fragmentation event plot in ToppView of real vs simulated data."
   ]
  },
  {
   "cell_type": "code",
   "execution_count": 47,
   "metadata": {},
   "outputs": [],
   "source": [
    "def count_fragmented(chem, fragmented_chems):\n",
    "    peaks = fragmented_chems[chem]\n",
    "    ms_counts = defaultdict(int)\n",
    "    for p in peaks:\n",
    "        ms_counts[p.ms_level] += 1\n",
    "    return ms_counts"
   ]
  },
  {
   "cell_type": "code",
   "execution_count": 48,
   "metadata": {},
   "outputs": [],
   "source": [
    "def find_chem(to_find, chem_list):\n",
    "    for chem in chem_list:\n",
    "        assert chem is not None\n",
    "        assert to_find is not None\n",
    "        if chem.max_intensity == to_find.max_intensity and \\\n",
    "            chem.rt == to_find.rt and \\\n",
    "            chem.chromatogram == to_find.chromatogram:\n",
    "            return chem\n",
    "    return None"
   ]
  },
  {
   "cell_type": "code",
   "execution_count": 49,
   "metadata": {},
   "outputs": [],
   "source": [
    "def get_frag_events(controller, ms_level):\n",
    "    filtered_frag_events = list(filter(lambda x: x.ms_level == ms_level, controller.mass_spec.fragmentation_events))\n",
    "    chem_to_frag_events = defaultdict(list)\n",
    "    for frag_event in filtered_frag_events:\n",
    "        chem_to_frag_events[frag_event.chem].append(frag_event)\n",
    "    return dict(chem_to_frag_events)\n",
    "\n",
    "def count_frag_events(chem, chem_to_frag_events):\n",
    "    return len(chem_to_frag_events[chem])\n",
    "\n",
    "def get_chem_frag_counts(chem_list, chem_to_frag_events):\n",
    "    results = {}\n",
    "    for i in range(len(chem_list)):\n",
    "        chem = chem_list[i]\n",
    "        found = find_chem(chem, chem_to_frag_events)\n",
    "        try:\n",
    "            count = count_frag_events(found, chem_to_frag_events)\n",
    "        except KeyError:\n",
    "            count = 0\n",
    "        results[chem] = count\n",
    "    return results"
   ]
  },
  {
   "cell_type": "code",
   "execution_count": 50,
   "metadata": {},
   "outputs": [],
   "source": [
    "positives_found = list(filter(lambda x: x.found, positives))\n",
    "negatives_found = list(filter(lambda x: x.found, negatives))"
   ]
  },
  {
   "cell_type": "code",
   "execution_count": 51,
   "metadata": {},
   "outputs": [
    {
     "data": {
      "text/plain": [
       "(3266, 1110)"
      ]
     },
     "execution_count": 51,
     "metadata": {},
     "output_type": "execute_result"
    }
   ],
   "source": [
    "len(positives_found), len(negatives_found)"
   ]
  },
  {
   "cell_type": "code",
   "execution_count": 52,
   "metadata": {},
   "outputs": [],
   "source": [
    "ms_level = 2\n",
    "chem_to_frag_events = get_frag_events(controller, ms_level)\n",
    "positives_fragmented_count = get_chem_frag_counts(positives, chem_to_frag_events)\n",
    "negatives_fragmented_count = get_chem_frag_counts(negatives, chem_to_frag_events)    "
   ]
  },
  {
   "cell_type": "code",
   "execution_count": 53,
   "metadata": {},
   "outputs": [
    {
     "data": {
      "text/plain": [
       "(5118, 0.5207570207570208, 3996, 0.22770528235227078)"
      ]
     },
     "execution_count": 53,
     "metadata": {},
     "output_type": "execute_result"
    }
   ],
   "source": [
    "frag_positives = [chem for chem in positives_fragmented_count if positives_fragmented_count[chem] > 0]\n",
    "frag_negatives = [chem for chem in negatives_fragmented_count if negatives_fragmented_count[chem] > 0]\n",
    "len(frag_positives), len(frag_positives)/len(positives_fragmented_count), len(frag_negatives), len(frag_negatives)/len(negatives_fragmented_count)"
   ]
  },
  {
   "cell_type": "code",
   "execution_count": 57,
   "metadata": {},
   "outputs": [
    {
     "data": {
      "text/plain": [
       "9114"
      ]
     },
     "execution_count": 57,
     "metadata": {},
     "output_type": "execute_result"
    }
   ],
   "source": [
    "5118 + 3996"
   ]
  },
  {
   "cell_type": "code",
   "execution_count": 58,
   "metadata": {},
   "outputs": [],
   "source": [
    "positives_found_fragmented_count = get_chem_frag_counts(positives_found, chem_to_frag_events)\n",
    "negatives_found_fragmented_count = get_chem_frag_counts(negatives_found, chem_to_frag_events)    "
   ]
  },
  {
   "cell_type": "code",
   "execution_count": 59,
   "metadata": {},
   "outputs": [
    {
     "data": {
      "text/plain": [
       "(1890, 0.19230769230769232, 499, 0.02843466864208787)"
      ]
     },
     "execution_count": 59,
     "metadata": {},
     "output_type": "execute_result"
    }
   ],
   "source": [
    "frag_positives = [chem for chem in positives_found_fragmented_count if positives_found_fragmented_count[chem] > 0]\n",
    "frag_negatives = [chem for chem in negatives_found_fragmented_count if negatives_found_fragmented_count[chem] > 0]\n",
    "len(frag_positives), len(frag_positives)/len(positives_fragmented_count), len(frag_negatives), len(frag_negatives)/len(negatives_fragmented_count)"
   ]
  },
  {
   "cell_type": "code",
   "execution_count": 62,
   "metadata": {},
   "outputs": [
    {
     "data": {
      "text/plain": [
       "2389"
      ]
     },
     "execution_count": 62,
     "metadata": {},
     "output_type": "execute_result"
    }
   ],
   "source": [
    "1890 + 499"
   ]
  },
  {
   "cell_type": "markdown",
   "metadata": {},
   "source": [
    "## D. Case Study 1: Varying N in top-N DDA fragmentation"
   ]
  },
  {
   "cell_type": "markdown",
   "metadata": {},
   "source": [
    "Vary N from 2 … 100, and see what happens.\n",
    "Hypotheses, as N increases:\n",
    "- Precision should decrease then flattens\n",
    "- Recall should increase then flattens\n",
    "- Number of MS1 peaks detected by CentWave should decrease\n",
    "\n",
    "Let ground truth peaks = chemicals detected as MS1 peaks by XCMS, then\n",
    "- Positives: chemicals detected as MS1 peaks by XCMS\n",
    "- Negatives: chemicals not detected as MS1 peaks by XCMS\n",
    "\n",
    "Precision and recall are calculated as follows:\n",
    "- True positives = is positive and is fragmented\n",
    "- False positives = is negative and is fragmented\n",
    "- False negatives = is positive but is not fragmented\n",
    "- Prec = tp / (tp + fp)\n",
    "- Rec = tp / (tp + fn)\n",
    "- f1 = ( 2 * prec * rec) / (prec + rec)\n",
    "\n",
    "Try to put the real T10 data on the plot.\n",
    "\n",
    "Compute how close we fragment to the top of the chromatographic peak.\n",
    "\n",
    "Varying Ns and dynamic exclusion windows"
   ]
  },
  {
   "cell_type": "code",
   "execution_count": null,
   "metadata": {},
   "outputs": [],
   "source": [
    "df = pd.read_csv(os.path.join(base_dir, 'Manuscript\\\\D. Case Study 1 Varying N in top-N DDA fragmentation\\\\mzML\\\\extracted_peaks_ms1.csv'))"
   ]
  },
  {
   "cell_type": "code",
   "execution_count": null,
   "metadata": {},
   "outputs": [],
   "source": [
    "df.head()"
   ]
  },
  {
   "cell_type": "code",
   "execution_count": null,
   "metadata": {},
   "outputs": [],
   "source": [
    "df['log_intensity'] = df.apply(lambda row: np.log(row['into']), axis=1)"
   ]
  },
  {
   "cell_type": "code",
   "execution_count": null,
   "metadata": {},
   "outputs": [],
   "source": [
    "def make_boxplot(df, x, y, xticklabels, title):\n",
    "    plt.gcf().set_size_inches(15, 5)\n",
    "    g = sns.catplot(x=x, y=y,  kind='box', data=df)\n",
    "    if xticklabels is not None:\n",
    "        g.set_xticklabels(xticklabels, rotation=90)\n",
    "    else:\n",
    "        g.set_xticklabels(rotation=90)        \n",
    "    plt.title(title)\n",
    "    plt.tight_layout()"
   ]
  },
  {
   "cell_type": "code",
   "execution_count": null,
   "metadata": {},
   "outputs": [],
   "source": [
    "make_boxplot(df, 'filename', 'mz', None, \n",
    "             'mz distributions of MS1 features detected by CentWave')\n",
    "\n",
    "make_boxplot(df, 'filename', 'rt', None, \n",
    "             'rt distributions of MS1 features detected by CentWave')\n",
    "\n",
    "make_boxplot(df, 'filename', 'log_intensity', None, \n",
    "             'Intensity distributions of MS1 features detected by CentWave')"
   ]
  },
  {
   "cell_type": "code",
   "execution_count": null,
   "metadata": {},
   "outputs": [],
   "source": [
    "count_df = df.groupby('filename').size().reset_index(name='counts')"
   ]
  },
  {
   "cell_type": "code",
   "execution_count": null,
   "metadata": {},
   "outputs": [],
   "source": [
    "# count_df['N'] = df.apply(lambda row: row.values, axis=1)"
   ]
  },
  {
   "cell_type": "code",
   "execution_count": null,
   "metadata": {},
   "outputs": [],
   "source": [
    "arrays = []\n",
    "for arr in count_df.values:\n",
    "    N = arr[0].split('_')[2]\n",
    "    arrays.append((arr[0], N, arr[1]))\n",
    "arrays = np.array(arrays)"
   ]
  },
  {
   "cell_type": "code",
   "execution_count": null,
   "metadata": {},
   "outputs": [],
   "source": [
    "df = pd.DataFrame(arrays, columns=['filename', 'N', 'count'])"
   ]
  },
  {
   "cell_type": "code",
   "execution_count": null,
   "metadata": {},
   "outputs": [],
   "source": [
    "df['N'] = df['N'].apply(int)\n",
    "df['count'] = df['count'].apply(int)"
   ]
  },
  {
   "cell_type": "code",
   "execution_count": null,
   "metadata": {},
   "outputs": [],
   "source": [
    "df = df.sort_values('N')"
   ]
  },
  {
   "cell_type": "code",
   "execution_count": null,
   "metadata": {},
   "outputs": [],
   "source": [
    "df.head()"
   ]
  },
  {
   "cell_type": "code",
   "execution_count": null,
   "metadata": {},
   "outputs": [],
   "source": [
    "sns.lineplot(x='N', y='count', data=df)\n",
    "plt.title('Number of MS1 features detected by CentWave')"
   ]
  },
  {
   "cell_type": "markdown",
   "metadata": {},
   "source": [
    "## E. Case Study 2: Reproduce DIA results"
   ]
  },
  {
   "cell_type": "markdown",
   "metadata": {},
   "source": [
    "![title](img/placeholder.png)"
   ]
  },
  {
   "cell_type": "markdown",
   "metadata": {},
   "source": [
    "## F. Case Study 3: Reproduce DsDA results"
   ]
  },
  {
   "cell_type": "markdown",
   "metadata": {},
   "source": [
    "Same as Table 1 in the DsDA paper:\n",
    "- The percentage of all detected features that were sampled by MS/MS at least once.\n",
    "- The percentage of all features detected in at least 20% of the injections that were sampled by MS/MS at least once.\n",
    "- The total number of MS/MS events (absolute counts) that map to a feature\n",
    "\n",
    "![title](img/capture1.png)"
   ]
  },
  {
   "cell_type": "markdown",
   "metadata": {},
   "source": [
    "Same as Figure 1 in the DsDA paper:\n",
    "- Create 20 samples, run them through DsDA with or without maxdepth.\n",
    "- Figure 1. *Complex small-molecule sample injected 20 times using standard DDA (A), DsDA (B), or DsDA with the MaxDepth option enabled (C). Each panel contains a scatterplot in which each point represents an XCMS feature. All black points are plotted with sizes proportional to the number of times they were sampled for MS/MS (see legend). All points colored red remained unsampled at the end of the 20-injection sequence*\n",
    "\n",
    "![title](img/capture2.png)"
   ]
  },
  {
   "cell_type": "code",
   "execution_count": null,
   "metadata": {},
   "outputs": [],
   "source": []
  }
 ],
 "metadata": {
  "kernelspec": {
   "display_name": "Python 3",
   "language": "python",
   "name": "python3"
  },
  "language_info": {
   "codemirror_mode": {
    "name": "ipython",
    "version": 3
   },
   "file_extension": ".py",
   "mimetype": "text/x-python",
   "name": "python",
   "nbconvert_exporter": "python",
   "pygments_lexer": "ipython3",
   "version": "3.6.6"
  }
 },
 "nbformat": 4,
 "nbformat_minor": 2
}
