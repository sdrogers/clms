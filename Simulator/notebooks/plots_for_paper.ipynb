{
 "cells": [
  {
   "cell_type": "markdown",
   "metadata": {},
   "source": [
    "# Results"
   ]
  },
  {
   "cell_type": "code",
   "execution_count": 1,
   "metadata": {},
   "outputs": [],
   "source": [
    "%load_ext autoreload\n",
    "%autoreload 2"
   ]
  },
  {
   "cell_type": "code",
   "execution_count": 2,
   "metadata": {},
   "outputs": [],
   "source": [
    "import numpy as np\n",
    "import sys\n",
    "import scipy.stats\n",
    "import re\n",
    "import os\n",
    "import pandas as pd\n",
    "import seaborn as sns"
   ]
  },
  {
   "cell_type": "code",
   "execution_count": 3,
   "metadata": {},
   "outputs": [],
   "source": [
    "sys.path.append('../codes')"
   ]
  },
  {
   "cell_type": "code",
   "execution_count": 4,
   "metadata": {},
   "outputs": [],
   "source": [
    "from VMSfunctions.Chemicals import *\n",
    "from VMSfunctions.Chromatograms import *\n",
    "from VMSfunctions.MassSpec import *\n",
    "from VMSfunctions.Controller import *\n",
    "from VMSfunctions.Common import *\n",
    "from VMSfunctions.DataGenerator import *\n",
    "from VMSfunctions.Noise import *"
   ]
  },
  {
   "cell_type": "code",
   "execution_count": 5,
   "metadata": {},
   "outputs": [],
   "source": [
    "base_dir = 'C:\\\\Users\\\\joewa\\\\University of Glasgow\\\\Vinny Davies - CLDS Metabolomics Project\\\\'"
   ]
  },
  {
   "cell_type": "code",
   "execution_count": 6,
   "metadata": {},
   "outputs": [],
   "source": [
    "# base_dir = 'C:\\\\Users\\\\Vinny\\\\OneDrive - University of Glasgow\\\\CLDS Metabolomics Project\\\\'"
   ]
  },
  {
   "cell_type": "markdown",
   "metadata": {},
   "source": [
    "## B. Peak Picking (CentWave) Results"
   ]
  },
  {
   "cell_type": "markdown",
   "metadata": {},
   "source": [
    "#### Load mzML in peak picking, and see if the same peaks are picked again."
   ]
  },
  {
   "cell_type": "code",
   "execution_count": null,
   "metadata": {},
   "outputs": [],
   "source": []
  },
  {
   "cell_type": "markdown",
   "metadata": {},
   "source": [
    "#### Boxplot comparing the mz, rt and intensity distributions of simulated MS1 peaks vs those from some beer files."
   ]
  },
  {
   "cell_type": "code",
   "execution_count": 7,
   "metadata": {},
   "outputs": [],
   "source": [
    "df = pd.read_csv(os.path.join(base_dir, 'Manuscript\\\\B. CentWave\\\\mzML\\\\extracted_peaks_ms1.csv'))"
   ]
  },
  {
   "cell_type": "code",
   "execution_count": 8,
   "metadata": {},
   "outputs": [],
   "source": [
    "min_ms1_intensity = 2.5E5\n",
    "rt_range = [(3*60, 21*60)]\n",
    "mz_range = [(0, 1050)]"
   ]
  },
  {
   "cell_type": "code",
   "execution_count": 9,
   "metadata": {},
   "outputs": [],
   "source": [
    "intensity_col = 'maxo'\n",
    "df = df[(df['rt'] > rt_range[0][0]) & (df['rt'] < rt_range[0][1])]\n",
    "df = df[(df['rt'] > mz_range[0][0]) & (df['rt'] < mz_range[0][1])]\n",
    "df = df[(df[intensity_col] > min_ms1_intensity)]\n",
    "df['log_intensity'] = df.apply(lambda row: np.log(row[intensity_col]), axis=1)"
   ]
  },
  {
   "cell_type": "code",
   "execution_count": 10,
   "metadata": {},
   "outputs": [
    {
     "data": {
      "text/html": [
       "<div>\n",
       "<style scoped>\n",
       "    .dataframe tbody tr th:only-of-type {\n",
       "        vertical-align: middle;\n",
       "    }\n",
       "\n",
       "    .dataframe tbody tr th {\n",
       "        vertical-align: top;\n",
       "    }\n",
       "\n",
       "    .dataframe thead th {\n",
       "        text-align: right;\n",
       "    }\n",
       "</style>\n",
       "<table border=\"1\" class=\"dataframe\">\n",
       "  <thead>\n",
       "    <tr style=\"text-align: right;\">\n",
       "      <th></th>\n",
       "      <th>mz</th>\n",
       "      <th>mzmin</th>\n",
       "      <th>mzmax</th>\n",
       "      <th>rt</th>\n",
       "      <th>rtmin</th>\n",
       "      <th>rtmax</th>\n",
       "      <th>into</th>\n",
       "      <th>intb</th>\n",
       "      <th>maxo</th>\n",
       "      <th>sn</th>\n",
       "      <th>sample</th>\n",
       "      <th>is_filled</th>\n",
       "      <th>msLevel</th>\n",
       "      <th>filename</th>\n",
       "      <th>log_intensity</th>\n",
       "    </tr>\n",
       "  </thead>\n",
       "  <tbody>\n",
       "    <tr>\n",
       "      <th>200</th>\n",
       "      <td>128.953466</td>\n",
       "      <td>128.953430</td>\n",
       "      <td>128.953506</td>\n",
       "      <td>193.483</td>\n",
       "      <td>165.756</td>\n",
       "      <td>215.408</td>\n",
       "      <td>6.641639e+07</td>\n",
       "      <td>6.608331e+07</td>\n",
       "      <td>1.948148e+06</td>\n",
       "      <td>112</td>\n",
       "      <td>1</td>\n",
       "      <td>0</td>\n",
       "      <td>1</td>\n",
       "      <td>Beer_multibeers_1_fullscan1.mzML</td>\n",
       "      <td>14.482390</td>\n",
       "    </tr>\n",
       "    <tr>\n",
       "      <th>223</th>\n",
       "      <td>402.271539</td>\n",
       "      <td>402.271179</td>\n",
       "      <td>402.272064</td>\n",
       "      <td>204.018</td>\n",
       "      <td>198.778</td>\n",
       "      <td>212.928</td>\n",
       "      <td>1.719215e+06</td>\n",
       "      <td>1.719202e+06</td>\n",
       "      <td>2.516077e+05</td>\n",
       "      <td>251607</td>\n",
       "      <td>1</td>\n",
       "      <td>0</td>\n",
       "      <td>1</td>\n",
       "      <td>Beer_multibeers_1_fullscan1.mzML</td>\n",
       "      <td>12.435626</td>\n",
       "    </tr>\n",
       "    <tr>\n",
       "      <th>238</th>\n",
       "      <td>321.196281</td>\n",
       "      <td>321.196045</td>\n",
       "      <td>321.196533</td>\n",
       "      <td>210.280</td>\n",
       "      <td>204.018</td>\n",
       "      <td>215.408</td>\n",
       "      <td>1.868589e+06</td>\n",
       "      <td>1.867575e+06</td>\n",
       "      <td>3.243222e+05</td>\n",
       "      <td>215</td>\n",
       "      <td>1</td>\n",
       "      <td>0</td>\n",
       "      <td>1</td>\n",
       "      <td>Beer_multibeers_1_fullscan1.mzML</td>\n",
       "      <td>12.689493</td>\n",
       "    </tr>\n",
       "    <tr>\n",
       "      <th>240</th>\n",
       "      <td>365.222356</td>\n",
       "      <td>365.221771</td>\n",
       "      <td>365.222687</td>\n",
       "      <td>210.280</td>\n",
       "      <td>202.760</td>\n",
       "      <td>216.687</td>\n",
       "      <td>1.750961e+06</td>\n",
       "      <td>1.748449e+06</td>\n",
       "      <td>2.863134e+05</td>\n",
       "      <td>136</td>\n",
       "      <td>1</td>\n",
       "      <td>0</td>\n",
       "      <td>1</td>\n",
       "      <td>Beer_multibeers_1_fullscan1.mzML</td>\n",
       "      <td>12.564842</td>\n",
       "    </tr>\n",
       "    <tr>\n",
       "      <th>242</th>\n",
       "      <td>275.163879</td>\n",
       "      <td>275.163757</td>\n",
       "      <td>275.164032</td>\n",
       "      <td>205.268</td>\n",
       "      <td>197.513</td>\n",
       "      <td>211.521</td>\n",
       "      <td>4.486897e+06</td>\n",
       "      <td>4.471453e+06</td>\n",
       "      <td>5.350006e+05</td>\n",
       "      <td>93</td>\n",
       "      <td>1</td>\n",
       "      <td>0</td>\n",
       "      <td>1</td>\n",
       "      <td>Beer_multibeers_1_fullscan1.mzML</td>\n",
       "      <td>13.190023</td>\n",
       "    </tr>\n",
       "  </tbody>\n",
       "</table>\n",
       "</div>"
      ],
      "text/plain": [
       "             mz       mzmin       mzmax       rt    rtmin    rtmax  \\\n",
       "200  128.953466  128.953430  128.953506  193.483  165.756  215.408   \n",
       "223  402.271539  402.271179  402.272064  204.018  198.778  212.928   \n",
       "238  321.196281  321.196045  321.196533  210.280  204.018  215.408   \n",
       "240  365.222356  365.221771  365.222687  210.280  202.760  216.687   \n",
       "242  275.163879  275.163757  275.164032  205.268  197.513  211.521   \n",
       "\n",
       "             into          intb          maxo      sn  sample  is_filled  \\\n",
       "200  6.641639e+07  6.608331e+07  1.948148e+06     112       1          0   \n",
       "223  1.719215e+06  1.719202e+06  2.516077e+05  251607       1          0   \n",
       "238  1.868589e+06  1.867575e+06  3.243222e+05     215       1          0   \n",
       "240  1.750961e+06  1.748449e+06  2.863134e+05     136       1          0   \n",
       "242  4.486897e+06  4.471453e+06  5.350006e+05      93       1          0   \n",
       "\n",
       "     msLevel                          filename  log_intensity  \n",
       "200        1  Beer_multibeers_1_fullscan1.mzML      14.482390  \n",
       "223        1  Beer_multibeers_1_fullscan1.mzML      12.435626  \n",
       "238        1  Beer_multibeers_1_fullscan1.mzML      12.689493  \n",
       "240        1  Beer_multibeers_1_fullscan1.mzML      12.564842  \n",
       "242        1  Beer_multibeers_1_fullscan1.mzML      13.190023  "
      ]
     },
     "execution_count": 10,
     "metadata": {},
     "output_type": "execute_result"
    }
   ],
   "source": [
    "df.head()"
   ]
  },
  {
   "cell_type": "code",
   "execution_count": 11,
   "metadata": {},
   "outputs": [],
   "source": [
    "def make_boxplot(df, x, y, xticklabels, title):\n",
    "    g = sns.catplot(x=x, y=y,  kind='box', data=df)\n",
    "    if xticklabels is not None:\n",
    "        g.set_xticklabels(xticklabels, rotation=90)\n",
    "    else:\n",
    "        g.set_xticklabels(rotation=90)        \n",
    "    plt.title(title)\n",
    "    plt.tight_layout()\n",
    "    plt.show()"
   ]
  },
  {
   "cell_type": "code",
   "execution_count": 12,
   "metadata": {},
   "outputs": [],
   "source": [
    "def make_hist(df, col_name, file_name, title):\n",
    "    gb = df.groupby('filename')\n",
    "    group_df = gb.get_group(file_name)\n",
    "    vals = group_df[col_name].values\n",
    "    print(vals, len(vals))\n",
    "    _ = plt.hist(vals, bins=100)\n",
    "    plt.title(title)\n",
    "    plt.tight_layout()\n",
    "    plt.show()"
   ]
  },
  {
   "cell_type": "markdown",
   "metadata": {},
   "source": [
    "Plot MS1 features"
   ]
  },
  {
   "cell_type": "code",
   "execution_count": 13,
   "metadata": {},
   "outputs": [
    {
     "data": {
      "text/html": [
       "<div>\n",
       "<style scoped>\n",
       "    .dataframe tbody tr th:only-of-type {\n",
       "        vertical-align: middle;\n",
       "    }\n",
       "\n",
       "    .dataframe tbody tr th {\n",
       "        vertical-align: top;\n",
       "    }\n",
       "\n",
       "    .dataframe thead th {\n",
       "        text-align: right;\n",
       "    }\n",
       "</style>\n",
       "<table border=\"1\" class=\"dataframe\">\n",
       "  <thead>\n",
       "    <tr style=\"text-align: right;\">\n",
       "      <th></th>\n",
       "      <th>mz</th>\n",
       "      <th>mzmin</th>\n",
       "      <th>mzmax</th>\n",
       "      <th>rt</th>\n",
       "      <th>rtmin</th>\n",
       "      <th>rtmax</th>\n",
       "      <th>into</th>\n",
       "      <th>intb</th>\n",
       "      <th>maxo</th>\n",
       "      <th>sn</th>\n",
       "      <th>sample</th>\n",
       "      <th>is_filled</th>\n",
       "      <th>msLevel</th>\n",
       "      <th>log_intensity</th>\n",
       "    </tr>\n",
       "    <tr>\n",
       "      <th>filename</th>\n",
       "      <th></th>\n",
       "      <th></th>\n",
       "      <th></th>\n",
       "      <th></th>\n",
       "      <th></th>\n",
       "      <th></th>\n",
       "      <th></th>\n",
       "      <th></th>\n",
       "      <th></th>\n",
       "      <th></th>\n",
       "      <th></th>\n",
       "      <th></th>\n",
       "      <th></th>\n",
       "      <th></th>\n",
       "    </tr>\n",
       "  </thead>\n",
       "  <tbody>\n",
       "    <tr>\n",
       "      <th>Beer_multibeers_12_fullscan1.mzML</th>\n",
       "      <td>975</td>\n",
       "      <td>975</td>\n",
       "      <td>975</td>\n",
       "      <td>975</td>\n",
       "      <td>975</td>\n",
       "      <td>975</td>\n",
       "      <td>975</td>\n",
       "      <td>975</td>\n",
       "      <td>975</td>\n",
       "      <td>975</td>\n",
       "      <td>975</td>\n",
       "      <td>975</td>\n",
       "      <td>975</td>\n",
       "      <td>975</td>\n",
       "    </tr>\n",
       "    <tr>\n",
       "      <th>Beer_multibeers_18_fullscan1.mzML</th>\n",
       "      <td>6881</td>\n",
       "      <td>6881</td>\n",
       "      <td>6881</td>\n",
       "      <td>6881</td>\n",
       "      <td>6881</td>\n",
       "      <td>6881</td>\n",
       "      <td>6881</td>\n",
       "      <td>6881</td>\n",
       "      <td>6881</td>\n",
       "      <td>6881</td>\n",
       "      <td>6881</td>\n",
       "      <td>6881</td>\n",
       "      <td>6881</td>\n",
       "      <td>6881</td>\n",
       "    </tr>\n",
       "    <tr>\n",
       "      <th>Beer_multibeers_1_fullscan1.mzML</th>\n",
       "      <td>5721</td>\n",
       "      <td>5721</td>\n",
       "      <td>5721</td>\n",
       "      <td>5721</td>\n",
       "      <td>5721</td>\n",
       "      <td>5721</td>\n",
       "      <td>5721</td>\n",
       "      <td>5721</td>\n",
       "      <td>5721</td>\n",
       "      <td>5721</td>\n",
       "      <td>5721</td>\n",
       "      <td>5721</td>\n",
       "      <td>5721</td>\n",
       "      <td>5721</td>\n",
       "    </tr>\n",
       "    <tr>\n",
       "      <th>Beer_multibeers_6_fullscan1.mzML</th>\n",
       "      <td>5614</td>\n",
       "      <td>5614</td>\n",
       "      <td>5614</td>\n",
       "      <td>5614</td>\n",
       "      <td>5614</td>\n",
       "      <td>5614</td>\n",
       "      <td>5614</td>\n",
       "      <td>5614</td>\n",
       "      <td>5614</td>\n",
       "      <td>5614</td>\n",
       "      <td>5614</td>\n",
       "      <td>5614</td>\n",
       "      <td>5614</td>\n",
       "      <td>5614</td>\n",
       "    </tr>\n",
       "    <tr>\n",
       "      <th>no_noise_ms1_controller.mzML</th>\n",
       "      <td>3718</td>\n",
       "      <td>3718</td>\n",
       "      <td>3718</td>\n",
       "      <td>3718</td>\n",
       "      <td>3718</td>\n",
       "      <td>3718</td>\n",
       "      <td>3718</td>\n",
       "      <td>3718</td>\n",
       "      <td>3718</td>\n",
       "      <td>3718</td>\n",
       "      <td>3718</td>\n",
       "      <td>3718</td>\n",
       "      <td>3718</td>\n",
       "      <td>3718</td>\n",
       "    </tr>\n",
       "    <tr>\n",
       "      <th>noisy_ms1_controller.mzML</th>\n",
       "      <td>4864</td>\n",
       "      <td>4864</td>\n",
       "      <td>4864</td>\n",
       "      <td>4864</td>\n",
       "      <td>4864</td>\n",
       "      <td>4864</td>\n",
       "      <td>4864</td>\n",
       "      <td>4864</td>\n",
       "      <td>4864</td>\n",
       "      <td>4864</td>\n",
       "      <td>4864</td>\n",
       "      <td>4864</td>\n",
       "      <td>4864</td>\n",
       "      <td>4864</td>\n",
       "    </tr>\n",
       "  </tbody>\n",
       "</table>\n",
       "</div>"
      ],
      "text/plain": [
       "                                     mz  mzmin  mzmax    rt  rtmin  rtmax  \\\n",
       "filename                                                                    \n",
       "Beer_multibeers_12_fullscan1.mzML   975    975    975   975    975    975   \n",
       "Beer_multibeers_18_fullscan1.mzML  6881   6881   6881  6881   6881   6881   \n",
       "Beer_multibeers_1_fullscan1.mzML   5721   5721   5721  5721   5721   5721   \n",
       "Beer_multibeers_6_fullscan1.mzML   5614   5614   5614  5614   5614   5614   \n",
       "no_noise_ms1_controller.mzML       3718   3718   3718  3718   3718   3718   \n",
       "noisy_ms1_controller.mzML          4864   4864   4864  4864   4864   4864   \n",
       "\n",
       "                                   into  intb  maxo    sn  sample  is_filled  \\\n",
       "filename                                                                       \n",
       "Beer_multibeers_12_fullscan1.mzML   975   975   975   975     975        975   \n",
       "Beer_multibeers_18_fullscan1.mzML  6881  6881  6881  6881    6881       6881   \n",
       "Beer_multibeers_1_fullscan1.mzML   5721  5721  5721  5721    5721       5721   \n",
       "Beer_multibeers_6_fullscan1.mzML   5614  5614  5614  5614    5614       5614   \n",
       "no_noise_ms1_controller.mzML       3718  3718  3718  3718    3718       3718   \n",
       "noisy_ms1_controller.mzML          4864  4864  4864  4864    4864       4864   \n",
       "\n",
       "                                   msLevel  log_intensity  \n",
       "filename                                                   \n",
       "Beer_multibeers_12_fullscan1.mzML      975            975  \n",
       "Beer_multibeers_18_fullscan1.mzML     6881           6881  \n",
       "Beer_multibeers_1_fullscan1.mzML      5721           5721  \n",
       "Beer_multibeers_6_fullscan1.mzML      5614           5614  \n",
       "no_noise_ms1_controller.mzML          3718           3718  \n",
       "noisy_ms1_controller.mzML             4864           4864  "
      ]
     },
     "execution_count": 13,
     "metadata": {},
     "output_type": "execute_result"
    }
   ],
   "source": [
    "df.groupby('filename').count()"
   ]
  },
  {
   "cell_type": "code",
   "execution_count": 14,
   "metadata": {},
   "outputs": [
    {
     "data": {
      "text/html": [
       "<div>\n",
       "<style scoped>\n",
       "    .dataframe tbody tr th:only-of-type {\n",
       "        vertical-align: middle;\n",
       "    }\n",
       "\n",
       "    .dataframe tbody tr th {\n",
       "        vertical-align: top;\n",
       "    }\n",
       "\n",
       "    .dataframe thead th {\n",
       "        text-align: right;\n",
       "    }\n",
       "</style>\n",
       "<table border=\"1\" class=\"dataframe\">\n",
       "  <thead>\n",
       "    <tr style=\"text-align: right;\">\n",
       "      <th></th>\n",
       "      <th>mz</th>\n",
       "      <th>mzmin</th>\n",
       "      <th>mzmax</th>\n",
       "      <th>rt</th>\n",
       "      <th>rtmin</th>\n",
       "      <th>rtmax</th>\n",
       "      <th>into</th>\n",
       "      <th>intb</th>\n",
       "      <th>maxo</th>\n",
       "      <th>sn</th>\n",
       "      <th>sample</th>\n",
       "      <th>is_filled</th>\n",
       "      <th>msLevel</th>\n",
       "      <th>log_intensity</th>\n",
       "    </tr>\n",
       "    <tr>\n",
       "      <th>filename</th>\n",
       "      <th></th>\n",
       "      <th></th>\n",
       "      <th></th>\n",
       "      <th></th>\n",
       "      <th></th>\n",
       "      <th></th>\n",
       "      <th></th>\n",
       "      <th></th>\n",
       "      <th></th>\n",
       "      <th></th>\n",
       "      <th></th>\n",
       "      <th></th>\n",
       "      <th></th>\n",
       "      <th></th>\n",
       "    </tr>\n",
       "  </thead>\n",
       "  <tbody>\n",
       "    <tr>\n",
       "      <th>Beer_multibeers_12_fullscan1.mzML</th>\n",
       "      <td>235.143884</td>\n",
       "      <td>235.143860</td>\n",
       "      <td>235.143906</td>\n",
       "      <td>720.150000</td>\n",
       "      <td>713.865000</td>\n",
       "      <td>726.494000</td>\n",
       "      <td>7.052825e+06</td>\n",
       "      <td>6.876543e+06</td>\n",
       "      <td>678254.81250</td>\n",
       "      <td>85.0</td>\n",
       "      <td>2.0</td>\n",
       "      <td>0.0</td>\n",
       "      <td>1.0</td>\n",
       "      <td>13.427278</td>\n",
       "    </tr>\n",
       "    <tr>\n",
       "      <th>Beer_multibeers_18_fullscan1.mzML</th>\n",
       "      <td>261.111910</td>\n",
       "      <td>261.111816</td>\n",
       "      <td>261.112030</td>\n",
       "      <td>440.726000</td>\n",
       "      <td>430.657000</td>\n",
       "      <td>449.635000</td>\n",
       "      <td>6.520123e+06</td>\n",
       "      <td>6.382879e+06</td>\n",
       "      <td>732490.50000</td>\n",
       "      <td>51.0</td>\n",
       "      <td>3.0</td>\n",
       "      <td>0.0</td>\n",
       "      <td>1.0</td>\n",
       "      <td>13.504206</td>\n",
       "    </tr>\n",
       "    <tr>\n",
       "      <th>Beer_multibeers_1_fullscan1.mzML</th>\n",
       "      <td>246.097181</td>\n",
       "      <td>246.096970</td>\n",
       "      <td>246.097321</td>\n",
       "      <td>514.102000</td>\n",
       "      <td>505.389000</td>\n",
       "      <td>525.598000</td>\n",
       "      <td>6.463699e+06</td>\n",
       "      <td>6.341058e+06</td>\n",
       "      <td>675971.12500</td>\n",
       "      <td>47.0</td>\n",
       "      <td>1.0</td>\n",
       "      <td>0.0</td>\n",
       "      <td>1.0</td>\n",
       "      <td>13.423906</td>\n",
       "    </tr>\n",
       "    <tr>\n",
       "      <th>Beer_multibeers_6_fullscan1.mzML</th>\n",
       "      <td>267.108497</td>\n",
       "      <td>267.108337</td>\n",
       "      <td>267.108673</td>\n",
       "      <td>477.883000</td>\n",
       "      <td>469.013000</td>\n",
       "      <td>486.944000</td>\n",
       "      <td>5.824679e+06</td>\n",
       "      <td>5.701706e+06</td>\n",
       "      <td>602564.28125</td>\n",
       "      <td>53.0</td>\n",
       "      <td>4.0</td>\n",
       "      <td>0.0</td>\n",
       "      <td>1.0</td>\n",
       "      <td>13.308950</td>\n",
       "    </tr>\n",
       "    <tr>\n",
       "      <th>no_noise_ms1_controller.mzML</th>\n",
       "      <td>213.063689</td>\n",
       "      <td>213.063530</td>\n",
       "      <td>213.063904</td>\n",
       "      <td>515.170316</td>\n",
       "      <td>507.412610</td>\n",
       "      <td>522.785961</td>\n",
       "      <td>6.099584e+06</td>\n",
       "      <td>6.094738e+06</td>\n",
       "      <td>664304.53125</td>\n",
       "      <td>651934.0</td>\n",
       "      <td>5.0</td>\n",
       "      <td>0.0</td>\n",
       "      <td>1.0</td>\n",
       "      <td>13.406496</td>\n",
       "    </tr>\n",
       "    <tr>\n",
       "      <th>noisy_ms1_controller.mzML</th>\n",
       "      <td>218.136408</td>\n",
       "      <td>218.136124</td>\n",
       "      <td>218.136635</td>\n",
       "      <td>545.345213</td>\n",
       "      <td>536.178211</td>\n",
       "      <td>554.373555</td>\n",
       "      <td>5.117699e+06</td>\n",
       "      <td>5.113215e+06</td>\n",
       "      <td>546030.25000</td>\n",
       "      <td>535110.5</td>\n",
       "      <td>6.0</td>\n",
       "      <td>0.0</td>\n",
       "      <td>1.0</td>\n",
       "      <td>13.210430</td>\n",
       "    </tr>\n",
       "  </tbody>\n",
       "</table>\n",
       "</div>"
      ],
      "text/plain": [
       "                                           mz       mzmin       mzmax  \\\n",
       "filename                                                                \n",
       "Beer_multibeers_12_fullscan1.mzML  235.143884  235.143860  235.143906   \n",
       "Beer_multibeers_18_fullscan1.mzML  261.111910  261.111816  261.112030   \n",
       "Beer_multibeers_1_fullscan1.mzML   246.097181  246.096970  246.097321   \n",
       "Beer_multibeers_6_fullscan1.mzML   267.108497  267.108337  267.108673   \n",
       "no_noise_ms1_controller.mzML       213.063689  213.063530  213.063904   \n",
       "noisy_ms1_controller.mzML          218.136408  218.136124  218.136635   \n",
       "\n",
       "                                           rt       rtmin       rtmax  \\\n",
       "filename                                                                \n",
       "Beer_multibeers_12_fullscan1.mzML  720.150000  713.865000  726.494000   \n",
       "Beer_multibeers_18_fullscan1.mzML  440.726000  430.657000  449.635000   \n",
       "Beer_multibeers_1_fullscan1.mzML   514.102000  505.389000  525.598000   \n",
       "Beer_multibeers_6_fullscan1.mzML   477.883000  469.013000  486.944000   \n",
       "no_noise_ms1_controller.mzML       515.170316  507.412610  522.785961   \n",
       "noisy_ms1_controller.mzML          545.345213  536.178211  554.373555   \n",
       "\n",
       "                                           into          intb          maxo  \\\n",
       "filename                                                                      \n",
       "Beer_multibeers_12_fullscan1.mzML  7.052825e+06  6.876543e+06  678254.81250   \n",
       "Beer_multibeers_18_fullscan1.mzML  6.520123e+06  6.382879e+06  732490.50000   \n",
       "Beer_multibeers_1_fullscan1.mzML   6.463699e+06  6.341058e+06  675971.12500   \n",
       "Beer_multibeers_6_fullscan1.mzML   5.824679e+06  5.701706e+06  602564.28125   \n",
       "no_noise_ms1_controller.mzML       6.099584e+06  6.094738e+06  664304.53125   \n",
       "noisy_ms1_controller.mzML          5.117699e+06  5.113215e+06  546030.25000   \n",
       "\n",
       "                                         sn  sample  is_filled  msLevel  \\\n",
       "filename                                                                  \n",
       "Beer_multibeers_12_fullscan1.mzML      85.0     2.0        0.0      1.0   \n",
       "Beer_multibeers_18_fullscan1.mzML      51.0     3.0        0.0      1.0   \n",
       "Beer_multibeers_1_fullscan1.mzML       47.0     1.0        0.0      1.0   \n",
       "Beer_multibeers_6_fullscan1.mzML       53.0     4.0        0.0      1.0   \n",
       "no_noise_ms1_controller.mzML       651934.0     5.0        0.0      1.0   \n",
       "noisy_ms1_controller.mzML          535110.5     6.0        0.0      1.0   \n",
       "\n",
       "                                   log_intensity  \n",
       "filename                                          \n",
       "Beer_multibeers_12_fullscan1.mzML      13.427278  \n",
       "Beer_multibeers_18_fullscan1.mzML      13.504206  \n",
       "Beer_multibeers_1_fullscan1.mzML       13.423906  \n",
       "Beer_multibeers_6_fullscan1.mzML       13.308950  \n",
       "no_noise_ms1_controller.mzML           13.406496  \n",
       "noisy_ms1_controller.mzML              13.210430  "
      ]
     },
     "execution_count": 14,
     "metadata": {},
     "output_type": "execute_result"
    }
   ],
   "source": [
    "df.groupby('filename').median()"
   ]
  },
  {
   "cell_type": "code",
   "execution_count": 15,
   "metadata": {},
   "outputs": [
    {
     "name": "stdout",
     "output_type": "stream",
     "text": [
      "[ 193.483  204.018  210.28  ...  916.207 1020.82   809.581] 5721\n"
     ]
    },
    {
     "data": {
      "image/png": "[encoded data removed]",
      "text/plain": [
       "<Figure size 432x288 with 1 Axes>"
      ]
     },
     "metadata": {
      "needs_background": "light"
     },
     "output_type": "display_data"
    },
    {
     "name": "stdout",
     "output_type": "stream",
     "text": [
      "[ 185.44028791  186.68194243  189.32581501 ... 1039.02755687 1032.53377894\n",
      " 1048.2977746 ] 3718\n"
     ]
    },
    {
     "data": {
      "image/png": "[encoded data removed]",
      "text/plain": [
       "<Figure size 432x288 with 1 Axes>"
      ]
     },
     "metadata": {
      "needs_background": "light"
     },
     "output_type": "display_data"
    },
    {
     "name": "stdout",
     "output_type": "stream",
     "text": [
      "[ 186.27474581  188.8125202   186.27474581 ...  873.87607496 1010.90974286\n",
      "  987.52257349] 4864\n"
     ]
    },
    {
     "data": {
      "image/png": "[encoded data removed]",
      "text/plain": [
       "<Figure size 432x288 with 1 Axes>"
      ]
     },
     "metadata": {
      "needs_background": "light"
     },
     "output_type": "display_data"
    }
   ],
   "source": [
    "fname = 'Beer_multibeers_1_fullscan1.mzML'\n",
    "make_hist(df, 'rt', fname, 'RT - %s' % fname)\n",
    "\n",
    "fname = 'no_noise_ms1_controller.mzML'\n",
    "make_hist(df, 'rt', fname, 'RT - %s' % fname)\n",
    "\n",
    "fname = 'noisy_ms1_controller.mzML'\n",
    "make_hist(df, 'rt', fname, 'RT - %s' % fname)"
   ]
  },
  {
   "cell_type": "code",
   "execution_count": 16,
   "metadata": {},
   "outputs": [
    {
     "data": {
      "image/png": "[encoded data removed]",
      "text/plain": [
       "<Figure size 360x360 with 1 Axes>"
      ]
     },
     "metadata": {
      "needs_background": "light"
     },
     "output_type": "display_data"
    }
   ],
   "source": [
    "make_boxplot(df, 'filename', 'mz', None, \n",
    "             'm/z distributions of MS1 features')"
   ]
  },
  {
   "cell_type": "code",
   "execution_count": 17,
   "metadata": {
    "scrolled": false
   },
   "outputs": [
    {
     "data": {
      "image/png": "[encoded data removed]",
      "text/plain": [
       "<Figure size 360x360 with 1 Axes>"
      ]
     },
     "metadata": {
      "needs_background": "light"
     },
     "output_type": "display_data"
    }
   ],
   "source": [
    "make_boxplot(df, 'filename', 'rt', None, \n",
    "             'RT distributions of MS1 features')"
   ]
  },
  {
   "cell_type": "code",
   "execution_count": 18,
   "metadata": {},
   "outputs": [
    {
     "data": {
      "image/png": "[encoded data removed]",
      "text/plain": [
       "<Figure size 360x360 with 1 Axes>"
      ]
     },
     "metadata": {
      "needs_background": "light"
     },
     "output_type": "display_data"
    }
   ],
   "source": [
    "make_boxplot(df, 'filename', 'log_intensity', None, \n",
    "             'Intensity distributions of MS1 features')"
   ]
  },
  {
   "cell_type": "markdown",
   "metadata": {},
   "source": [
    "## C. Top-N DDA Fragmentation Compared to the Real Data"
   ]
  },
  {
   "cell_type": "markdown",
   "metadata": {},
   "source": [
    "Plot chromatograms"
   ]
  },
  {
   "cell_type": "code",
   "execution_count": 19,
   "metadata": {},
   "outputs": [],
   "source": [
    "base_dir = 'C:\\\\Users\\\\joewa\\\\Work\\\\git\\\\clms\\\\Simulator'\n",
    "dataset = load_obj(os.path.join(base_dir, 'models\\\\dda_results\\\\dataset.p'))\n",
    "noisy_dataset = load_obj(os.path.join(base_dir, 'models\\\\dda_results\\\\noisy_dataset.p'))"
   ]
  },
  {
   "cell_type": "code",
   "execution_count": 54,
   "metadata": {},
   "outputs": [],
   "source": [
    "min_intensity = 2.5E5\n",
    "positives = list(filter(lambda x: x.type == 'data' and x.max_intensity > min_intensity, noisy_dataset))\n",
    "negatives = list(filter(lambda x: x.type == 'noise'and x.max_intensity > min_intensity, noisy_dataset))"
   ]
  },
  {
   "cell_type": "code",
   "execution_count": 55,
   "metadata": {},
   "outputs": [
    {
     "data": {
      "text/plain": [
       "(5922, 1305)"
      ]
     },
     "execution_count": 55,
     "metadata": {},
     "output_type": "execute_result"
    }
   ],
   "source": [
    "len(positives), len(negatives)"
   ]
  },
  {
   "cell_type": "code",
   "execution_count": 56,
   "metadata": {},
   "outputs": [
    {
     "name": "stdout",
     "output_type": "stream",
     "text": [
      "0 / 1305\n",
      "1000 / 1305\n",
      "0 / 5922\n",
      "1000 / 5922\n",
      "2000 / 5922\n",
      "3000 / 5922\n",
      "4000 / 5922\n",
      "5000 / 5922\n"
     ]
    },
    {
     "data": {
      "image/png": "[encoded data removed]",
      "text/plain": [
       "<Figure size 432x288 with 1 Axes>"
      ]
     },
     "metadata": {
      "needs_background": "light"
     },
     "output_type": "display_data"
    }
   ],
   "source": [
    "plt.figure()\n",
    "\n",
    "for i in range(len(negatives)):\n",
    "    chem = negatives[i]\n",
    "    X = chem.chromatogram.raw_rts\n",
    "    Y = chem.chromatogram.raw_mzs\n",
    "    plt.scatter(X, Y, c='r', s=0.1, alpha=0.05)\n",
    "    if i % 1000 == 0:\n",
    "        print(i, '/', len(negatives))\n",
    "\n",
    "for i in range(len(positives)):\n",
    "    chem = positives[i]\n",
    "    X = chem.chromatogram.raw_rts\n",
    "    Y = chem.chromatogram.raw_mzs\n",
    "    plt.scatter(X, Y, c='b', s=0.1, alpha=0.05)\n",
    "    if i % 1000 == 0:\n",
    "        print(i, '/', len(positives))"
   ]
  },
  {
   "cell_type": "markdown",
   "metadata": {},
   "source": [
    "We want to compare the DDA results (T10) against real data.\n",
    "- Boxplot comparing the mz, rt and intensity distributions of simulated MS1 peaks vs those from beer1pos T10."
   ]
  },
  {
   "cell_type": "code",
   "execution_count": 19,
   "metadata": {},
   "outputs": [],
   "source": [
    "df = pd.read_csv(os.path.join(base_dir, 'Manuscript\\\\C. Top-N DDA Fragmentation Compared to the Real Data\\\\mzML\\\\extracted_peaks_ms1.csv'))"
   ]
  },
  {
   "cell_type": "code",
   "execution_count": 20,
   "metadata": {},
   "outputs": [],
   "source": [
    "min_ms1_intensity = 2.5E5\n",
    "rt_range = [(3*60, 21*60)]\n",
    "mz_range = [(0, 1050)]"
   ]
  },
  {
   "cell_type": "code",
   "execution_count": 21,
   "metadata": {},
   "outputs": [],
   "source": [
    "intensity_col = 'maxo'\n",
    "df = df[(df['rt'] > rt_range[0][0]) & (df['rt'] < rt_range[0][1])]\n",
    "df = df[(df['rt'] > mz_range[0][0]) & (df['rt'] < mz_range[0][1])]\n",
    "df = df[(df[intensity_col] > min_ms1_intensity)]\n",
    "df['log_intensity'] = df.apply(lambda row: np.log(row[intensity_col]), axis=1)"
   ]
  },
  {
   "cell_type": "code",
   "execution_count": 23,
   "metadata": {},
   "outputs": [
    {
     "data": {
      "image/png": "[encoded data removed]",
      "text/plain": [
       "<Figure size 360x360 with 1 Axes>"
      ]
     },
     "metadata": {
      "needs_background": "light"
     },
     "output_type": "display_data"
    }
   ],
   "source": [
    "make_boxplot(df, 'filename', 'mz', None, \n",
    "             'm/z distributions of MS1 features')"
   ]
  },
  {
   "cell_type": "code",
   "execution_count": 24,
   "metadata": {},
   "outputs": [
    {
     "data": {
      "image/png": "[encoded data removed]",
      "text/plain": [
       "<Figure size 360x360 with 1 Axes>"
      ]
     },
     "metadata": {
      "needs_background": "light"
     },
     "output_type": "display_data"
    }
   ],
   "source": [
    "make_boxplot(df, 'filename', 'rt', None, \n",
    "             'RT distributions of MS1 features')"
   ]
  },
  {
   "cell_type": "code",
   "execution_count": 25,
   "metadata": {},
   "outputs": [
    {
     "data": {
      "image/png": "[encoded data removed]",
      "text/plain": [
       "<Figure size 360x360 with 1 Axes>"
      ]
     },
     "metadata": {
      "needs_background": "light"
     },
     "output_type": "display_data"
    }
   ],
   "source": [
    "make_boxplot(df, 'filename', 'log_intensity', None, \n",
    "             'Intensity distributions of MS1 features')"
   ]
  },
  {
   "cell_type": "markdown",
   "metadata": {},
   "source": [
    "- Peak picking results:\n",
    "    - How many chemicals are detected as MS1 peaks by XCMS?"
   ]
  },
  {
   "cell_type": "code",
   "execution_count": 43,
   "metadata": {},
   "outputs": [
    {
     "data": {
      "text/plain": [
       "(5821, 15)"
      ]
     },
     "execution_count": 43,
     "metadata": {},
     "output_type": "execute_result"
    }
   ],
   "source": [
    "filename = 'experiment_N_10_rttol_15.mzML'\n",
    "filtered_df = df.loc[df['filename'] == filename]\n",
    "filtered_df.shape"
   ]
  },
  {
   "cell_type": "code",
   "execution_count": 44,
   "metadata": {},
   "outputs": [],
   "source": [
    "def f(peak_mz, chrom_mzs):\n",
    "    peak_mz = peak_mz - PROTON_MASS\n",
    "    chrom_mzs = chrom_mzs - PROTON_MASS\n",
    "    return peak_mz, chrom_mzs"
   ]
  },
  {
   "cell_type": "code",
   "execution_count": 47,
   "metadata": {},
   "outputs": [
    {
     "data": {
      "text/plain": [
       "5821"
      ]
     },
     "execution_count": 47,
     "metadata": {},
     "output_type": "execute_result"
    }
   ],
   "source": [
    "detected_chemicals = []\n",
    "for index, row in filtered_df.iterrows():\n",
    "    mz = row['mz'] - PROTON_MASS\n",
    "    rt = row['rt']\n",
    "    max_intensity = row['maxo']\n",
    "    chrom = None\n",
    "    chem = UnknownChemical(mz, rt, max_intensity, chrom, children=None)\n",
    "    detected_chemicals.append(chem)\n",
    "    \n",
    "len(detected_chemicals)"
   ]
  },
  {
   "cell_type": "code",
   "execution_count": 51,
   "metadata": {},
   "outputs": [],
   "source": [
    "def load_controller(results_dir, N, rt_tol):\n",
    "    analysis_name = 'experiment_N_%d_rttol_%d' % (N, rt_tol)    \n",
    "    pickle_in = '%s/%s.p' % (results_dir, analysis_name) \n",
    "    print('Loading %s' % analysis_name)                    \n",
    "    try:\n",
    "        controller = load_obj(pickle_in)\n",
    "    except FileNotFoundError:\n",
    "        controller = None\n",
    "    return controller"
   ]
  },
  {
   "cell_type": "code",
   "execution_count": 85,
   "metadata": {},
   "outputs": [],
   "source": [
    "def find_chem(to_find, chem_list, mz_tol, rt_tol, intensity_tol):\n",
    "    for chem in chem_list:\n",
    "        chem_mz = chem.isotopes[0][0]\n",
    "        chem_mz_range = (chem_mz * (1-mz_tol/1e6), chem_mz * (1+mz_tol/1e6))\n",
    "        chem_rt_range = (chem.rt - rt_tol, chem.rt + rt_tol)\n",
    "        chem_intensity_range = (chem.max_intensity - intensity_tol, chem.max_intensity + intensity_tol)\n",
    "        to_find_mz = to_find.isotopes[0][0]\n",
    "        if (chem_mz_range[0] < to_find_mz < chem_mz_range[1]) and \\\n",
    "            (chem_rt_range[0] < to_find.rt < chem_rt_range[1] and \\\n",
    "            (chem_intensity_range[0] < to_find.max_intensity < chem_intensity_range[1])):\n",
    "            return chem\n",
    "    return None"
   ]
  },
  {
   "cell_type": "code",
   "execution_count": 59,
   "metadata": {},
   "outputs": [],
   "source": [
    "N = 10\n",
    "rt_tol = 15\n",
    "results_dir = os.path.join(base_dir, 'Manuscript\\\\C. Top-N DDA Fragmentation Compared to the Real Data\\\\')\n",
    "controller = load_controller(results_dir, N, rt_tol)"
   ]
  },
  {
   "cell_type": "code",
   "execution_count": 64,
   "metadata": {},
   "outputs": [
    {
     "name": "stdout",
     "output_type": "stream",
     "text": [
      "27373 9824 17549\n"
     ]
    }
   ],
   "source": [
    "dataset = load_obj(os.path.join(results_dir, 'noisy_dataset.p'))\n",
    "positives = list(filter(lambda x: x.type == 'data', dataset))\n",
    "negatives = list(filter(lambda x: x.type == 'noise', dataset))\n",
    "print(len(dataset), len(positives), len(negatives))"
   ]
  },
  {
   "cell_type": "code",
   "execution_count": 101,
   "metadata": {},
   "outputs": [
    {
     "name": "stdout",
     "output_type": "stream",
     "text": [
      "0 / 27373 {}\n",
      "1000 / 27373 {'data': 411}\n",
      "2000 / 27373 {'data': 906}\n",
      "3000 / 27373 {'data': 1423}\n",
      "4000 / 27373 {'data': 1967}\n",
      "5000 / 27373 {'data': 2475}\n",
      "6000 / 27373 {'data': 2906}\n",
      "7000 / 27373 {'data': 3154}\n",
      "8000 / 27373 {'data': 3251}\n",
      "9000 / 27373 {'data': 3261}\n",
      "10000 / 27373 {'data': 3261}\n",
      "11000 / 27373 {'data': 3261, 'noise': 4}\n",
      "12000 / 27373 {'data': 3261, 'noise': 46}\n",
      "13000 / 27373 {'data': 3261, 'noise': 93}\n",
      "14000 / 27373 {'data': 3261, 'noise': 93}\n",
      "15000 / 27373 {'data': 3261, 'noise': 96}\n",
      "16000 / 27373 {'data': 3261, 'noise': 127}\n",
      "17000 / 27373 {'data': 3261, 'noise': 149}\n",
      "18000 / 27373 {'data': 3261, 'noise': 152}\n",
      "19000 / 27373 {'data': 3261, 'noise': 203}\n",
      "20000 / 27373 {'data': 3261, 'noise': 217}\n",
      "21000 / 27373 {'data': 3261, 'noise': 262}\n",
      "22000 / 27373 {'data': 3261, 'noise': 303}\n",
      "23000 / 27373 {'data': 3261, 'noise': 385}\n",
      "24000 / 27373 {'data': 3261, 'noise': 433}\n",
      "25000 / 27373 {'data': 3261, 'noise': 515}\n",
      "26000 / 27373 {'data': 3261, 'noise': 691}\n",
      "27000 / 27373 {'data': 3261, 'noise': 884}\n"
     ]
    }
   ],
   "source": [
    "mz_tol = 10\n",
    "rt_tol = 30\n",
    "intensity_tol = 1e5\n",
    "count_found = defaultdict(int)\n",
    "for i in range(len(dataset)):\n",
    "    chem = dataset[i]\n",
    "    if i % 1000 == 0:\n",
    "        print(i, '/', len(dataset), dict(count_found))\n",
    "    found = find_chem(chem, detected_chemicals, mz_tol, rt_tol, intensity_tol)\n",
    "    if found:\n",
    "        chem.found = True\n",
    "        count_found[chem.type] += 1\n",
    "    else:\n",
    "        chem.found = False"
   ]
  },
  {
   "cell_type": "code",
   "execution_count": 96,
   "metadata": {},
   "outputs": [
    {
     "data": {
      "text/plain": [
       "defaultdict(int, {'data': 3261, 'noise': 928})"
      ]
     },
     "execution_count": 96,
     "metadata": {},
     "output_type": "execute_result"
    }
   ],
   "source": [
    "count_found"
   ]
  },
  {
   "cell_type": "code",
   "execution_count": 100,
   "metadata": {},
   "outputs": [
    {
     "data": {
      "text/plain": [
       "0.1530340116172871"
      ]
     },
     "execution_count": 100,
     "metadata": {},
     "output_type": "execute_result"
    }
   ],
   "source": [
    "4189/27373"
   ]
  },
  {
   "cell_type": "markdown",
   "metadata": {},
   "source": [
    "- Compute:\n",
    "    - Proportion of the original MS1 peaks that were fragmented\n",
    "    - Number of MS2 peaks that map to the original MS1 peak\n",
    "    - Show the fragmentation event plot in ToppView of real vs simulated data."
   ]
  },
  {
   "cell_type": "code",
   "execution_count": 102,
   "metadata": {},
   "outputs": [],
   "source": [
    "def count_fragmented(chem, fragmented_chems):\n",
    "    peaks = fragmented_chems[chem]\n",
    "    ms_counts = defaultdict(int)\n",
    "    for p in peaks:\n",
    "        ms_counts[p.ms_level] += 1\n",
    "    return ms_counts"
   ]
  },
  {
   "cell_type": "code",
   "execution_count": 107,
   "metadata": {},
   "outputs": [],
   "source": [
    "def find_chem(to_find, chem_list):\n",
    "    for chem in chem_list:\n",
    "        assert chem is not None\n",
    "        assert to_find is not None\n",
    "        if chem.max_intensity == to_find.max_intensity and \\\n",
    "            chem.rt == to_find.rt and \\\n",
    "            chem.chromatogram == to_find.chromatogram:\n",
    "            return chem\n",
    "    return None"
   ]
  },
  {
   "cell_type": "code",
   "execution_count": 108,
   "metadata": {},
   "outputs": [],
   "source": [
    "def get_frag_events(controller, ms_level):\n",
    "    filtered_frag_events = list(filter(lambda x: x.ms_level == ms_level, controller.mass_spec.fragmentation_events))\n",
    "    chem_to_frag_events = defaultdict(list)\n",
    "    for frag_event in filtered_frag_events:\n",
    "        chem_to_frag_events[frag_event.chem].append(frag_event)\n",
    "    return dict(chem_to_frag_events)\n",
    "\n",
    "def count_frag_events(chem, chem_to_frag_events):\n",
    "    return len(chem_to_frag_events[chem])\n",
    "\n",
    "def get_chem_frag_counts(chem_list, chem_to_frag_events):\n",
    "    results = {}\n",
    "    for i in range(len(chem_list)):\n",
    "        chem = chem_list[i]\n",
    "        found = find_chem(chem, chem_to_frag_events)\n",
    "        try:\n",
    "            count = count_frag_events(found, chem_to_frag_events)\n",
    "        except KeyError:\n",
    "            count = 0\n",
    "        results[chem] = count\n",
    "    return results"
   ]
  },
  {
   "cell_type": "code",
   "execution_count": 109,
   "metadata": {},
   "outputs": [],
   "source": [
    "positives_found = list(filter(lambda x: x.found, positives))\n",
    "negatives_found = list(filter(lambda x: x.found, negatives))"
   ]
  },
  {
   "cell_type": "code",
   "execution_count": 110,
   "metadata": {},
   "outputs": [
    {
     "data": {
      "text/plain": [
       "(3261, 928)"
      ]
     },
     "execution_count": 110,
     "metadata": {},
     "output_type": "execute_result"
    }
   ],
   "source": [
    "len(positives_found), len(negatives_found)"
   ]
  },
  {
   "cell_type": "code",
   "execution_count": 112,
   "metadata": {},
   "outputs": [],
   "source": [
    "ms_level = 2\n",
    "chem_to_frag_events = get_frag_events(controller, ms_level)\n",
    "positives_fragmented_count = get_chem_frag_counts(positives, chem_to_frag_events)\n",
    "negatives_fragmented_count = get_chem_frag_counts(negatives, chem_to_frag_events)    "
   ]
  },
  {
   "cell_type": "code",
   "execution_count": 118,
   "metadata": {},
   "outputs": [
    {
     "data": {
      "text/plain": [
       "(1062, 0.10810260586319219, 525, 0.029916234543278818)"
      ]
     },
     "execution_count": 118,
     "metadata": {},
     "output_type": "execute_result"
    }
   ],
   "source": [
    "frag_positives = [chem for chem in positives_fragmented_count if positives_fragmented_count[chem] > 0]\n",
    "frag_negatives = [chem for chem in negatives_fragmented_count if negatives_fragmented_count[chem] > 0]\n",
    "len(frag_positives), len(frag_positives)/len(positives_fragmented_count), len(frag_negatives), len(frag_negatives)/len(negatives_fragmented_count)"
   ]
  },
  {
   "cell_type": "code",
   "execution_count": 121,
   "metadata": {},
   "outputs": [
    {
     "data": {
      "text/plain": [
       "0.1530340116172871"
      ]
     },
     "execution_count": 121,
     "metadata": {},
     "output_type": "execute_result"
    }
   ],
   "source": [
    "(4189) /27373"
   ]
  },
  {
   "cell_type": "code",
   "execution_count": 122,
   "metadata": {},
   "outputs": [],
   "source": [
    "positives_found_fragmented_count = get_chem_frag_counts(positives_found, chem_to_frag_events)\n",
    "negatives_found_fragmented_count = get_chem_frag_counts(negatives_found, chem_to_frag_events)    "
   ]
  },
  {
   "cell_type": "code",
   "execution_count": 123,
   "metadata": {},
   "outputs": [
    {
     "data": {
      "text/plain": [
       "(412, 0.041938110749185666, 57, 0.0032480483218417003)"
      ]
     },
     "execution_count": 123,
     "metadata": {},
     "output_type": "execute_result"
    }
   ],
   "source": [
    "frag_positives = [chem for chem in positives_found_fragmented_count if positives_found_fragmented_count[chem] > 0]\n",
    "frag_negatives = [chem for chem in negatives_found_fragmented_count if negatives_found_fragmented_count[chem] > 0]\n",
    "len(frag_positives), len(frag_positives)/len(positives_fragmented_count), len(frag_negatives), len(frag_negatives)/len(negatives_fragmented_count)"
   ]
  },
  {
   "cell_type": "code",
   "execution_count": 125,
   "metadata": {},
   "outputs": [
    {
     "data": {
      "text/plain": [
       "0.11195989496299832"
      ]
     },
     "execution_count": 125,
     "metadata": {},
     "output_type": "execute_result"
    }
   ],
   "source": [
    "(412 + 57) / (len(positives_found_fragmented_count) + len(negatives_found_fragmented_count))"
   ]
  },
  {
   "cell_type": "markdown",
   "metadata": {},
   "source": [
    "## D. Case Study 1: Varying N in top-N DDA fragmentation"
   ]
  },
  {
   "cell_type": "markdown",
   "metadata": {},
   "source": [
    "Vary N from 2 … 100, and see what happens.\n",
    "Hypotheses, as N increases:\n",
    "- Precision should decrease then flattens\n",
    "- Recall should increase then flattens\n",
    "- Number of MS1 peaks detected by CentWave should decrease\n",
    "\n",
    "Let ground truth peaks = chemicals detected as MS1 peaks by XCMS, then\n",
    "- Positives: chemicals detected as MS1 peaks by XCMS\n",
    "- Negatives: chemicals not detected as MS1 peaks by XCMS\n",
    "\n",
    "Precision and recall are calculated as follows:\n",
    "- True positives = is positive and is fragmented\n",
    "- False positives = is negative and is fragmented\n",
    "- False negatives = is positive but is not fragmented\n",
    "- Prec = tp / (tp + fp)\n",
    "- Rec = tp / (tp + fn)\n",
    "- f1 = ( 2 * prec * rec) / (prec + rec)\n",
    "\n",
    "Try to put the real T10 data on the plot.\n",
    "\n",
    "Compute how close we fragment to the top of the chromatographic peak.\n",
    "\n",
    "Varying Ns and dynamic exclusion windows"
   ]
  },
  {
   "cell_type": "code",
   "execution_count": null,
   "metadata": {},
   "outputs": [],
   "source": [
    "df = pd.read_csv(os.path.join(base_dir, 'Manuscript\\\\D. Case Study 1 Varying N in top-N DDA fragmentation\\\\mzML\\\\extracted_peaks_ms1.csv'))"
   ]
  },
  {
   "cell_type": "code",
   "execution_count": null,
   "metadata": {},
   "outputs": [],
   "source": [
    "df.head()"
   ]
  },
  {
   "cell_type": "code",
   "execution_count": null,
   "metadata": {},
   "outputs": [],
   "source": [
    "df['log_intensity'] = df.apply(lambda row: np.log(row['into']), axis=1)"
   ]
  },
  {
   "cell_type": "code",
   "execution_count": null,
   "metadata": {},
   "outputs": [],
   "source": [
    "def make_boxplot(df, x, y, xticklabels, title):\n",
    "    plt.gcf().set_size_inches(15, 5)\n",
    "    g = sns.catplot(x=x, y=y,  kind='box', data=df)\n",
    "    if xticklabels is not None:\n",
    "        g.set_xticklabels(xticklabels, rotation=90)\n",
    "    else:\n",
    "        g.set_xticklabels(rotation=90)        \n",
    "    plt.title(title)\n",
    "    plt.tight_layout()"
   ]
  },
  {
   "cell_type": "code",
   "execution_count": null,
   "metadata": {},
   "outputs": [],
   "source": [
    "make_boxplot(df, 'filename', 'mz', None, \n",
    "             'mz distributions of MS1 features detected by CentWave')\n",
    "\n",
    "make_boxplot(df, 'filename', 'rt', None, \n",
    "             'rt distributions of MS1 features detected by CentWave')\n",
    "\n",
    "make_boxplot(df, 'filename', 'log_intensity', None, \n",
    "             'Intensity distributions of MS1 features detected by CentWave')"
   ]
  },
  {
   "cell_type": "code",
   "execution_count": null,
   "metadata": {},
   "outputs": [],
   "source": [
    "count_df = df.groupby('filename').size().reset_index(name='counts')"
   ]
  },
  {
   "cell_type": "code",
   "execution_count": null,
   "metadata": {},
   "outputs": [],
   "source": [
    "# count_df['N'] = df.apply(lambda row: row.values, axis=1)"
   ]
  },
  {
   "cell_type": "code",
   "execution_count": null,
   "metadata": {},
   "outputs": [],
   "source": [
    "arrays = []\n",
    "for arr in count_df.values:\n",
    "    N = arr[0].split('_')[2]\n",
    "    arrays.append((arr[0], N, arr[1]))\n",
    "arrays = np.array(arrays)"
   ]
  },
  {
   "cell_type": "code",
   "execution_count": null,
   "metadata": {},
   "outputs": [],
   "source": [
    "df = pd.DataFrame(arrays, columns=['filename', 'N', 'count'])"
   ]
  },
  {
   "cell_type": "code",
   "execution_count": null,
   "metadata": {},
   "outputs": [],
   "source": [
    "df['N'] = df['N'].apply(int)\n",
    "df['count'] = df['count'].apply(int)"
   ]
  },
  {
   "cell_type": "code",
   "execution_count": null,
   "metadata": {},
   "outputs": [],
   "source": [
    "df = df.sort_values('N')"
   ]
  },
  {
   "cell_type": "code",
   "execution_count": null,
   "metadata": {},
   "outputs": [],
   "source": [
    "df.head()"
   ]
  },
  {
   "cell_type": "code",
   "execution_count": null,
   "metadata": {},
   "outputs": [],
   "source": [
    "sns.lineplot(x='N', y='count', data=df)\n",
    "plt.title('Number of MS1 features detected by CentWave')"
   ]
  },
  {
   "cell_type": "markdown",
   "metadata": {},
   "source": [
    "## E. Case Study 2: Reproduce DIA results"
   ]
  },
  {
   "cell_type": "markdown",
   "metadata": {},
   "source": [
    "![title](img/placeholder.png)"
   ]
  },
  {
   "cell_type": "markdown",
   "metadata": {},
   "source": [
    "## F. Case Study 3: Reproduce DsDA results"
   ]
  },
  {
   "cell_type": "markdown",
   "metadata": {},
   "source": [
    "Same as Table 1 in the DsDA paper:\n",
    "- The percentage of all detected features that were sampled by MS/MS at least once.\n",
    "- The percentage of all features detected in at least 20% of the injections that were sampled by MS/MS at least once.\n",
    "- The total number of MS/MS events (absolute counts) that map to a feature\n",
    "\n",
    "![title](img/capture1.png)"
   ]
  },
  {
   "cell_type": "markdown",
   "metadata": {},
   "source": [
    "Same as Figure 1 in the DsDA paper:\n",
    "- Create 20 samples, run them through DsDA with or without maxdepth.\n",
    "- Figure 1. *Complex small-molecule sample injected 20 times using standard DDA (A), DsDA (B), or DsDA with the MaxDepth option enabled (C). Each panel contains a scatterplot in which each point represents an XCMS feature. All black points are plotted with sizes proportional to the number of times they were sampled for MS/MS (see legend). All points colored red remained unsampled at the end of the 20-injection sequence*\n",
    "\n",
    "![title](img/capture2.png)"
   ]
  },
  {
   "cell_type": "code",
   "execution_count": null,
   "metadata": {},
   "outputs": [],
   "source": []
  }
 ],
 "metadata": {
  "kernelspec": {
   "display_name": "Python 3",
   "language": "python",
   "name": "python3"
  },
  "language_info": {
   "codemirror_mode": {
    "name": "ipython",
    "version": 3
   },
   "file_extension": ".py",
   "mimetype": "text/x-python",
   "name": "python",
   "nbconvert_exporter": "python",
   "pygments_lexer": "ipython3",
   "version": "3.6.6"
  }
 },
 "nbformat": 4,
 "nbformat_minor": 2
}
