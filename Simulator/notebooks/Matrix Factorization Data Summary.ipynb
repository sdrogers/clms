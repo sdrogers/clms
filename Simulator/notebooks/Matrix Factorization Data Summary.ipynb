{
 "cells": [
  {
   "cell_type": "code",
   "execution_count": 1,
   "metadata": {},
   "outputs": [],
   "source": [
    "import sys\n",
    "sys.path.append('../codes')"
   ]
  },
  {
   "cell_type": "code",
   "execution_count": 2,
   "metadata": {},
   "outputs": [],
   "source": [
    "%load_ext autoreload\n",
    "%autoreload 2"
   ]
  },
  {
   "cell_type": "code",
   "execution_count": 3,
   "metadata": {},
   "outputs": [],
   "source": [
    "%matplotlib inline"
   ]
  },
  {
   "cell_type": "code",
   "execution_count": 5,
   "metadata": {},
   "outputs": [],
   "source": [
    "import numpy as np\n",
    "import pandas as pd\n",
    "import pylab as plt\n",
    "\n",
    "from VMSfunctions.Common import *\n",
    "from VMSfunctions.DataGenerator import *\n",
    "from VMSfunctions.Chromatograms import *"
   ]
  },
  {
   "cell_type": "code",
   "execution_count": 6,
   "metadata": {},
   "outputs": [],
   "source": [
    "set_log_level_debug()"
   ]
  },
  {
   "cell_type": "markdown",
   "metadata": {},
   "source": [
    "# Load Data"
   ]
  },
  {
   "cell_type": "code",
   "execution_count": 17,
   "metadata": {},
   "outputs": [],
   "source": [
    "base_dir = 'C:\\\\Users\\\\Vinny\\\\OneDrive - University of Glasgow\\\\CLDS Metabolomics Project\\\\'\n",
    "mzml_path_beer = base_dir + 'Data\\\\multibeers_urine_data\\\\beers\\\\fullscan'\n",
    "mzml_path_urine = base_dir + 'Data\\\\multibeers_urine_data\\\\urines\\\\fullscan'"
   ]
  },
  {
   "cell_type": "code",
   "execution_count": 18,
   "metadata": {
    "collapsed": true
   },
   "outputs": [
    {
     "name": "stderr",
     "output_type": "stream",
     "text": [
      "INFO:DataSource:Loading Beer_multibeers_10_fullscan1.mzML\n"
     ]
    },
    {
     "name": "stdout",
     "output_type": "stream",
     "text": [
      "C:\\Users\\Vinny\\OneDrive - University of Glasgow\\CLDS Metabolomics Project\\Data\\multibeers_urine_data\\beers\\fullscan\\Beer_multibeers_10_fullscan1.mzML\n"
     ]
    },
    {
     "name": "stderr",
     "output_type": "stream",
     "text": [
      "INFO:DataSource:Loading Beer_multibeers_11_fullscan1.mzML\n",
      "INFO:DataSource:Loading Beer_multibeers_12_fullscan1.mzML\n"
     ]
    },
    {
     "name": "stdout",
     "output_type": "stream",
     "text": [
      "C:\\Users\\Vinny\\OneDrive - University of Glasgow\\CLDS Metabolomics Project\\Data\\multibeers_urine_data\\beers\\fullscan\\Beer_multibeers_11_fullscan1.mzML\n",
      "C:\\Users\\Vinny\\OneDrive - University of Glasgow\\CLDS Metabolomics Project\\Data\\multibeers_urine_data\\beers\\fullscan\\Beer_multibeers_12_fullscan1.mzML\n"
     ]
    },
    {
     "name": "stderr",
     "output_type": "stream",
     "text": [
      "INFO:DataSource:Loading Beer_multibeers_13_fullscan1.mzML\n",
      "INFO:DataSource:Loading Beer_multibeers_14_fullscan1.mzML\n"
     ]
    },
    {
     "name": "stdout",
     "output_type": "stream",
     "text": [
      "C:\\Users\\Vinny\\OneDrive - University of Glasgow\\CLDS Metabolomics Project\\Data\\multibeers_urine_data\\beers\\fullscan\\Beer_multibeers_13_fullscan1.mzML\n",
      "C:\\Users\\Vinny\\OneDrive - University of Glasgow\\CLDS Metabolomics Project\\Data\\multibeers_urine_data\\beers\\fullscan\\Beer_multibeers_14_fullscan1.mzML\n"
     ]
    },
    {
     "name": "stderr",
     "output_type": "stream",
     "text": [
      "INFO:DataSource:Loading Beer_multibeers_15_fullscan1.mzML\n"
     ]
    },
    {
     "name": "stdout",
     "output_type": "stream",
     "text": [
      "C:\\Users\\Vinny\\OneDrive - University of Glasgow\\CLDS Metabolomics Project\\Data\\multibeers_urine_data\\beers\\fullscan\\Beer_multibeers_15_fullscan1.mzML\n"
     ]
    },
    {
     "name": "stderr",
     "output_type": "stream",
     "text": [
      "INFO:DataSource:Loading Beer_multibeers_16_fullscan1.mzML\n",
      "INFO:DataSource:Loading Beer_multibeers_17_fullscan1.mzML\n"
     ]
    },
    {
     "name": "stdout",
     "output_type": "stream",
     "text": [
      "C:\\Users\\Vinny\\OneDrive - University of Glasgow\\CLDS Metabolomics Project\\Data\\multibeers_urine_data\\beers\\fullscan\\Beer_multibeers_16_fullscan1.mzML\n",
      "C:\\Users\\Vinny\\OneDrive - University of Glasgow\\CLDS Metabolomics Project\\Data\\multibeers_urine_data\\beers\\fullscan\\Beer_multibeers_17_fullscan1.mzML\n"
     ]
    },
    {
     "name": "stderr",
     "output_type": "stream",
     "text": [
      "INFO:DataSource:Loading Beer_multibeers_18_fullscan1.mzML\n",
      "INFO:DataSource:Loading Beer_multibeers_19_fullscan1.mzML\n"
     ]
    },
    {
     "name": "stdout",
     "output_type": "stream",
     "text": [
      "C:\\Users\\Vinny\\OneDrive - University of Glasgow\\CLDS Metabolomics Project\\Data\\multibeers_urine_data\\beers\\fullscan\\Beer_multibeers_18_fullscan1.mzML\n",
      "C:\\Users\\Vinny\\OneDrive - University of Glasgow\\CLDS Metabolomics Project\\Data\\multibeers_urine_data\\beers\\fullscan\\Beer_multibeers_19_fullscan1.mzML\n"
     ]
    },
    {
     "name": "stderr",
     "output_type": "stream",
     "text": [
      "INFO:DataSource:Loading Beer_multibeers_1_fullscan1.mzML\n",
      "INFO:DataSource:Loading Beer_multibeers_2_fullscan1.mzML\n"
     ]
    },
    {
     "name": "stdout",
     "output_type": "stream",
     "text": [
      "C:\\Users\\Vinny\\OneDrive - University of Glasgow\\CLDS Metabolomics Project\\Data\\multibeers_urine_data\\beers\\fullscan\\Beer_multibeers_1_fullscan1.mzML\n",
      "C:\\Users\\Vinny\\OneDrive - University of Glasgow\\CLDS Metabolomics Project\\Data\\multibeers_urine_data\\beers\\fullscan\\Beer_multibeers_2_fullscan1.mzML\n"
     ]
    },
    {
     "name": "stderr",
     "output_type": "stream",
     "text": [
      "INFO:DataSource:Loading Beer_multibeers_3_fullscan1.mzML\n"
     ]
    },
    {
     "name": "stdout",
     "output_type": "stream",
     "text": [
      "C:\\Users\\Vinny\\OneDrive - University of Glasgow\\CLDS Metabolomics Project\\Data\\multibeers_urine_data\\beers\\fullscan\\Beer_multibeers_3_fullscan1.mzML\n"
     ]
    },
    {
     "name": "stderr",
     "output_type": "stream",
     "text": [
      "INFO:DataSource:Loading Beer_multibeers_4_fullscan1.mzML\n",
      "INFO:DataSource:Loading Beer_multibeers_5_fullscan1.mzML\n"
     ]
    },
    {
     "name": "stdout",
     "output_type": "stream",
     "text": [
      "C:\\Users\\Vinny\\OneDrive - University of Glasgow\\CLDS Metabolomics Project\\Data\\multibeers_urine_data\\beers\\fullscan\\Beer_multibeers_4_fullscan1.mzML\n",
      "C:\\Users\\Vinny\\OneDrive - University of Glasgow\\CLDS Metabolomics Project\\Data\\multibeers_urine_data\\beers\\fullscan\\Beer_multibeers_5_fullscan1.mzML\n"
     ]
    },
    {
     "name": "stderr",
     "output_type": "stream",
     "text": [
      "INFO:DataSource:Loading Beer_multibeers_6_fullscan1.mzML\n",
      "INFO:DataSource:Loading Beer_multibeers_7_fullscan1.mzML\n"
     ]
    },
    {
     "name": "stdout",
     "output_type": "stream",
     "text": [
      "C:\\Users\\Vinny\\OneDrive - University of Glasgow\\CLDS Metabolomics Project\\Data\\multibeers_urine_data\\beers\\fullscan\\Beer_multibeers_6_fullscan1.mzML\n",
      "C:\\Users\\Vinny\\OneDrive - University of Glasgow\\CLDS Metabolomics Project\\Data\\multibeers_urine_data\\beers\\fullscan\\Beer_multibeers_7_fullscan1.mzML\n"
     ]
    },
    {
     "name": "stderr",
     "output_type": "stream",
     "text": [
      "INFO:DataSource:Loading Beer_multibeers_8_fullscan1.mzML\n",
      "INFO:DataSource:Loading Beer_multibeers_9_fullscan1.mzML\n"
     ]
    },
    {
     "name": "stdout",
     "output_type": "stream",
     "text": [
      "C:\\Users\\Vinny\\OneDrive - University of Glasgow\\CLDS Metabolomics Project\\Data\\multibeers_urine_data\\beers\\fullscan\\Beer_multibeers_8_fullscan1.mzML\n",
      "C:\\Users\\Vinny\\OneDrive - University of Glasgow\\CLDS Metabolomics Project\\Data\\multibeers_urine_data\\beers\\fullscan\\Beer_multibeers_9_fullscan1.mzML\n"
     ]
    },
    {
     "name": "stderr",
     "output_type": "stream",
     "text": [
      "INFO:DataSource:Loading Urine_StrokeDrugs_02_fullscan.mzML\n"
     ]
    },
    {
     "name": "stdout",
     "output_type": "stream",
     "text": [
      "C:\\Users\\Vinny\\OneDrive - University of Glasgow\\CLDS Metabolomics Project\\Data\\multibeers_urine_data\\urines\\fullscan\\Urine_StrokeDrugs_02_fullscan.mzML\n",
      "C:\\Users\\Vinny\\OneDrive - University of Glasgow\\CLDS Metabolomics Project\\Data\\multibeers_urine_data\\urines\\fullscan\\Urine_StrokeDrugs_03_fullscan.mzML\n"
     ]
    },
    {
     "name": "stderr",
     "output_type": "stream",
     "text": [
      "INFO:DataSource:Loading Urine_StrokeDrugs_03_fullscan.mzML\n"
     ]
    },
    {
     "name": "stdout",
     "output_type": "stream",
     "text": [
      "C:\\Users\\Vinny\\OneDrive - University of Glasgow\\CLDS Metabolomics Project\\Data\\multibeers_urine_data\\urines\\fullscan\\Urine_StrokeDrugs_08_fullscan.mzML\n"
     ]
    },
    {
     "name": "stderr",
     "output_type": "stream",
     "text": [
      "INFO:DataSource:Loading Urine_StrokeDrugs_08_fullscan.mzML\n"
     ]
    },
    {
     "name": "stdout",
     "output_type": "stream",
     "text": [
      "C:\\Users\\Vinny\\OneDrive - University of Glasgow\\CLDS Metabolomics Project\\Data\\multibeers_urine_data\\urines\\fullscan\\Urine_StrokeDrugs_09_fullscan.mzML\n"
     ]
    },
    {
     "name": "stderr",
     "output_type": "stream",
     "text": [
      "INFO:DataSource:Loading Urine_StrokeDrugs_09_fullscan.mzML\n"
     ]
    },
    {
     "name": "stdout",
     "output_type": "stream",
     "text": [
      "C:\\Users\\Vinny\\OneDrive - University of Glasgow\\CLDS Metabolomics Project\\Data\\multibeers_urine_data\\urines\\fullscan\\Urine_StrokeDrugs_105_fullscan.mzML\n"
     ]
    },
    {
     "name": "stderr",
     "output_type": "stream",
     "text": [
      "INFO:DataSource:Loading Urine_StrokeDrugs_105_fullscan.mzML\n"
     ]
    },
    {
     "name": "stdout",
     "output_type": "stream",
     "text": [
      "C:\\Users\\Vinny\\OneDrive - University of Glasgow\\CLDS Metabolomics Project\\Data\\multibeers_urine_data\\urines\\fullscan\\Urine_StrokeDrugs_17_fullscan.mzML\n"
     ]
    },
    {
     "name": "stderr",
     "output_type": "stream",
     "text": [
      "INFO:DataSource:Loading Urine_StrokeDrugs_17_fullscan.mzML\n"
     ]
    },
    {
     "name": "stdout",
     "output_type": "stream",
     "text": [
      "C:\\Users\\Vinny\\OneDrive - University of Glasgow\\CLDS Metabolomics Project\\Data\\multibeers_urine_data\\urines\\fullscan\\Urine_StrokeDrugs_18_fullscan.mzML\n"
     ]
    },
    {
     "name": "stderr",
     "output_type": "stream",
     "text": [
      "INFO:DataSource:Loading Urine_StrokeDrugs_18_fullscan.mzML\n"
     ]
    },
    {
     "name": "stdout",
     "output_type": "stream",
     "text": [
      "C:\\Users\\Vinny\\OneDrive - University of Glasgow\\CLDS Metabolomics Project\\Data\\multibeers_urine_data\\urines\\fullscan\\Urine_StrokeDrugs_28_fullscan.mzML\n"
     ]
    },
    {
     "name": "stderr",
     "output_type": "stream",
     "text": [
      "INFO:DataSource:Loading Urine_StrokeDrugs_28_fullscan.mzML\n"
     ]
    },
    {
     "name": "stdout",
     "output_type": "stream",
     "text": [
      "C:\\Users\\Vinny\\OneDrive - University of Glasgow\\CLDS Metabolomics Project\\Data\\multibeers_urine_data\\urines\\fullscan\\Urine_StrokeDrugs_32_fullscan.mzML\n"
     ]
    },
    {
     "name": "stderr",
     "output_type": "stream",
     "text": [
      "INFO:DataSource:Loading Urine_StrokeDrugs_32_fullscan.mzML\n"
     ]
    },
    {
     "name": "stdout",
     "output_type": "stream",
     "text": [
      "C:\\Users\\Vinny\\OneDrive - University of Glasgow\\CLDS Metabolomics Project\\Data\\multibeers_urine_data\\urines\\fullscan\\Urine_StrokeDrugs_38_fullscan.mzML\n"
     ]
    },
    {
     "name": "stderr",
     "output_type": "stream",
     "text": [
      "INFO:DataSource:Loading Urine_StrokeDrugs_38_fullscan.mzML\n"
     ]
    },
    {
     "name": "stdout",
     "output_type": "stream",
     "text": [
      "C:\\Users\\Vinny\\OneDrive - University of Glasgow\\CLDS Metabolomics Project\\Data\\multibeers_urine_data\\urines\\fullscan\\Urine_StrokeDrugs_49_fullscan.mzML\n"
     ]
    },
    {
     "name": "stderr",
     "output_type": "stream",
     "text": [
      "INFO:DataSource:Loading Urine_StrokeDrugs_49_fullscan.mzML\n"
     ]
    },
    {
     "name": "stdout",
     "output_type": "stream",
     "text": [
      "C:\\Users\\Vinny\\OneDrive - University of Glasgow\\CLDS Metabolomics Project\\Data\\multibeers_urine_data\\urines\\fullscan\\Urine_StrokeDrugs_51_fullscan.mzML\n"
     ]
    },
    {
     "name": "stderr",
     "output_type": "stream",
     "text": [
      "INFO:DataSource:Loading Urine_StrokeDrugs_51_fullscan.mzML\n"
     ]
    },
    {
     "name": "stdout",
     "output_type": "stream",
     "text": [
      "C:\\Users\\Vinny\\OneDrive - University of Glasgow\\CLDS Metabolomics Project\\Data\\multibeers_urine_data\\urines\\fullscan\\Urine_StrokeDrugs_52_fullscan.mzML\n"
     ]
    },
    {
     "name": "stderr",
     "output_type": "stream",
     "text": [
      "INFO:DataSource:Loading Urine_StrokeDrugs_52_fullscan.mzML\n"
     ]
    },
    {
     "name": "stdout",
     "output_type": "stream",
     "text": [
      "C:\\Users\\Vinny\\OneDrive - University of Glasgow\\CLDS Metabolomics Project\\Data\\multibeers_urine_data\\urines\\fullscan\\Urine_StrokeDrugs_53_fullscan.mzML\n"
     ]
    },
    {
     "name": "stderr",
     "output_type": "stream",
     "text": [
      "INFO:DataSource:Loading Urine_StrokeDrugs_53_fullscan.mzML\n"
     ]
    },
    {
     "name": "stdout",
     "output_type": "stream",
     "text": [
      "C:\\Users\\Vinny\\OneDrive - University of Glasgow\\CLDS Metabolomics Project\\Data\\multibeers_urine_data\\urines\\fullscan\\Urine_StrokeDrugs_54_fullscan.mzML\n"
     ]
    },
    {
     "name": "stderr",
     "output_type": "stream",
     "text": [
      "INFO:DataSource:Loading Urine_StrokeDrugs_54_fullscan.mzML\n"
     ]
    },
    {
     "name": "stdout",
     "output_type": "stream",
     "text": [
      "C:\\Users\\Vinny\\OneDrive - University of Glasgow\\CLDS Metabolomics Project\\Data\\multibeers_urine_data\\urines\\fullscan\\Urine_StrokeDrugs_57_fullscan.mzML\n"
     ]
    },
    {
     "name": "stderr",
     "output_type": "stream",
     "text": [
      "INFO:DataSource:Loading Urine_StrokeDrugs_57_fullscan.mzML\n"
     ]
    },
    {
     "name": "stdout",
     "output_type": "stream",
     "text": [
      "C:\\Users\\Vinny\\OneDrive - University of Glasgow\\CLDS Metabolomics Project\\Data\\multibeers_urine_data\\urines\\fullscan\\Urine_StrokeDrugs_58_fullscan.mzML\n"
     ]
    },
    {
     "name": "stderr",
     "output_type": "stream",
     "text": [
      "INFO:DataSource:Loading Urine_StrokeDrugs_58_fullscan.mzML\n"
     ]
    },
    {
     "name": "stdout",
     "output_type": "stream",
     "text": [
      "C:\\Users\\Vinny\\OneDrive - University of Glasgow\\CLDS Metabolomics Project\\Data\\multibeers_urine_data\\urines\\fullscan\\Urine_StrokeDrugs_72_fullscan.mzML\n"
     ]
    },
    {
     "name": "stderr",
     "output_type": "stream",
     "text": [
      "INFO:DataSource:Loading Urine_StrokeDrugs_72_fullscan.mzML\n"
     ]
    },
    {
     "name": "stdout",
     "output_type": "stream",
     "text": [
      "C:\\Users\\Vinny\\OneDrive - University of Glasgow\\CLDS Metabolomics Project\\Data\\multibeers_urine_data\\urines\\fullscan\\Urine_StrokeDrugs_80_fullscan.mzML\n"
     ]
    },
    {
     "name": "stderr",
     "output_type": "stream",
     "text": [
      "INFO:DataSource:Loading Urine_StrokeDrugs_80_fullscan.mzML\n"
     ]
    },
    {
     "name": "stdout",
     "output_type": "stream",
     "text": [
      "C:\\Users\\Vinny\\OneDrive - University of Glasgow\\CLDS Metabolomics Project\\Data\\multibeers_urine_data\\urines\\fullscan\\Urine_StrokeDrugs_85_fullscan.mzML\n"
     ]
    },
    {
     "name": "stderr",
     "output_type": "stream",
     "text": [
      "INFO:DataSource:Loading Urine_StrokeDrugs_85_fullscan.mzML\n"
     ]
    },
    {
     "name": "stdout",
     "output_type": "stream",
     "text": [
      "C:\\Users\\Vinny\\OneDrive - University of Glasgow\\CLDS Metabolomics Project\\Data\\multibeers_urine_data\\urines\\fullscan\\Urine_StrokeDrugs_93_fullscan.mzML\n"
     ]
    },
    {
     "name": "stderr",
     "output_type": "stream",
     "text": [
      "INFO:DataSource:Loading Urine_StrokeDrugs_93_fullscan.mzML\n"
     ]
    },
    {
     "name": "stdout",
     "output_type": "stream",
     "text": [
      "C:\\Users\\Vinny\\OneDrive - University of Glasgow\\CLDS Metabolomics Project\\Data\\multibeers_urine_data\\urines\\fullscan\\Urine_StrokeDrugs_97_fullscan.mzML\n"
     ]
    },
    {
     "name": "stderr",
     "output_type": "stream",
     "text": [
      "INFO:DataSource:Loading Urine_StrokeDrugs_97_fullscan.mzML\n"
     ]
    }
   ],
   "source": [
    "ds_beer = DataSource()\n",
    "ds_beer.load_data(mzml_path_beer)\n",
    "ds_urine = DataSource()\n",
    "ds_urine.load_data(mzml_path_urine)"
   ]
  },
  {
   "cell_type": "markdown",
   "metadata": {},
   "source": [
    "# Collect Data"
   ]
  },
  {
   "cell_type": "code",
   "execution_count": 146,
   "metadata": {},
   "outputs": [],
   "source": [
    "class BlockData(object):\n",
    "    def __init__(self, data, mz_width, rt_width, rt_slide, rt_range = [(0,1000)], mz_start = [(0,1000)]):\n",
    "        keys = list(data.file_spectra.keys())\n",
    "        rt_spec = [(rt, rt + rt_width) for rt in range(rt_range[0][0], rt_range[0][1], rt_slide)]\n",
    "        mz_spec = [(mz, mz + mz_width) for mz in range(mz_range[0][0], mz_range[0][1], mz_width)]\n",
    "        self.rt_spec = rt_spec\n",
    "        self.mz_spec = mz_spec\n",
    "        self.block_spec = []\n",
    "        for i in range(len(rt_spec)):\n",
    "            for j in range(len(mz_spec)):\n",
    "                self.block_spec.append([rt_spec[i],mz_spec[j]])\n",
    "        self.max_intensities = []\n",
    "        self.mean_intensities = []        \n",
    "        for key in keys:\n",
    "            spectra = data.file_spectra[key]\n",
    "            times = np.array([spectra[i].scan_time[0] for i in spectra])\n",
    "            for block_index in range(len(self.block_spec)):\n",
    "                time_range_bottom = self.block_spec[block_index][0][0] < times # rt_range need to be from block_spec\n",
    "                time_range_top = times < self.block_spec[block_index][0][1]\n",
    "                which_times = np.nonzero(time_range_bottom & time_range_top)[0]\n",
    "                intensities = []\n",
    "                for time_index in which_times:\n",
    "                    scan_index = int(np.where(which_times == time_index)[0])\n",
    "                    mz_range_bottom = spectra[scan_index].mz > self.block_spec[block_index][1][0]\n",
    "                    mz_range_top = spectra[scan_index].mz < self.block_spec[block_index][1][1]\n",
    "                    which_mzs = np.nonzero(mz_range_bottom & mz_range_top)[0]\n",
    "                    intensities.append(spectra[scan_index].i[which_mzs])\n",
    "                    # append extra intensities\n",
    "                # save max intensity\n",
    "                # save mean intensity          \n",
    "            print(\"Processed\", key)         "
   ]
  },
  {
   "cell_type": "code",
   "execution_count": 148,
   "metadata": {},
   "outputs": [
    {
     "name": "stdout",
     "output_type": "stream",
     "text": [
      "Processed Beer_multibeers_10_fullscan1.mzML\n",
      "Processed Beer_multibeers_11_fullscan1.mzML\n",
      "Processed Beer_multibeers_12_fullscan1.mzML\n",
      "Processed Beer_multibeers_13_fullscan1.mzML\n",
      "Processed Beer_multibeers_14_fullscan1.mzML\n",
      "Processed Beer_multibeers_15_fullscan1.mzML\n",
      "Processed Beer_multibeers_16_fullscan1.mzML\n",
      "Processed Beer_multibeers_17_fullscan1.mzML\n",
      "Processed Beer_multibeers_18_fullscan1.mzML\n",
      "Processed Beer_multibeers_19_fullscan1.mzML\n",
      "Processed Beer_multibeers_1_fullscan1.mzML\n",
      "Processed Beer_multibeers_2_fullscan1.mzML\n",
      "Processed Beer_multibeers_3_fullscan1.mzML\n",
      "Processed Beer_multibeers_4_fullscan1.mzML\n",
      "Processed Beer_multibeers_5_fullscan1.mzML\n",
      "Processed Beer_multibeers_6_fullscan1.mzML\n",
      "Processed Beer_multibeers_7_fullscan1.mzML\n",
      "Processed Beer_multibeers_8_fullscan1.mzML\n",
      "Processed Beer_multibeers_9_fullscan1.mzML\n"
     ]
    }
   ],
   "source": [
    "data = BlockData(ds_beer, 100, 100, 50)"
   ]
  },
  {
   "cell_type": "code",
   "execution_count": 149,
   "metadata": {},
   "outputs": [
    {
     "data": {
      "text/plain": [
       "[[(0, 100), (0, 100)],\n",
       " [(0, 100), (100, 200)],\n",
       " [(0, 100), (200, 300)],\n",
       " [(0, 100), (300, 400)],\n",
       " [(0, 100), (400, 500)],\n",
       " [(0, 100), (500, 600)],\n",
       " [(0, 100), (600, 700)],\n",
       " [(0, 100), (700, 800)],\n",
       " [(0, 100), (800, 900)],\n",
       " [(0, 100), (900, 1000)],\n",
       " [(50, 150), (0, 100)],\n",
       " [(50, 150), (100, 200)],\n",
       " [(50, 150), (200, 300)],\n",
       " [(50, 150), (300, 400)],\n",
       " [(50, 150), (400, 500)],\n",
       " [(50, 150), (500, 600)],\n",
       " [(50, 150), (600, 700)],\n",
       " [(50, 150), (700, 800)],\n",
       " [(50, 150), (800, 900)],\n",
       " [(50, 150), (900, 1000)],\n",
       " [(100, 200), (0, 100)],\n",
       " [(100, 200), (100, 200)],\n",
       " [(100, 200), (200, 300)],\n",
       " [(100, 200), (300, 400)],\n",
       " [(100, 200), (400, 500)],\n",
       " [(100, 200), (500, 600)],\n",
       " [(100, 200), (600, 700)],\n",
       " [(100, 200), (700, 800)],\n",
       " [(100, 200), (800, 900)],\n",
       " [(100, 200), (900, 1000)],\n",
       " [(150, 250), (0, 100)],\n",
       " [(150, 250), (100, 200)],\n",
       " [(150, 250), (200, 300)],\n",
       " [(150, 250), (300, 400)],\n",
       " [(150, 250), (400, 500)],\n",
       " [(150, 250), (500, 600)],\n",
       " [(150, 250), (600, 700)],\n",
       " [(150, 250), (700, 800)],\n",
       " [(150, 250), (800, 900)],\n",
       " [(150, 250), (900, 1000)],\n",
       " [(200, 300), (0, 100)],\n",
       " [(200, 300), (100, 200)],\n",
       " [(200, 300), (200, 300)],\n",
       " [(200, 300), (300, 400)],\n",
       " [(200, 300), (400, 500)],\n",
       " [(200, 300), (500, 600)],\n",
       " [(200, 300), (600, 700)],\n",
       " [(200, 300), (700, 800)],\n",
       " [(200, 300), (800, 900)],\n",
       " [(200, 300), (900, 1000)],\n",
       " [(250, 350), (0, 100)],\n",
       " [(250, 350), (100, 200)],\n",
       " [(250, 350), (200, 300)],\n",
       " [(250, 350), (300, 400)],\n",
       " [(250, 350), (400, 500)],\n",
       " [(250, 350), (500, 600)],\n",
       " [(250, 350), (600, 700)],\n",
       " [(250, 350), (700, 800)],\n",
       " [(250, 350), (800, 900)],\n",
       " [(250, 350), (900, 1000)],\n",
       " [(300, 400), (0, 100)],\n",
       " [(300, 400), (100, 200)],\n",
       " [(300, 400), (200, 300)],\n",
       " [(300, 400), (300, 400)],\n",
       " [(300, 400), (400, 500)],\n",
       " [(300, 400), (500, 600)],\n",
       " [(300, 400), (600, 700)],\n",
       " [(300, 400), (700, 800)],\n",
       " [(300, 400), (800, 900)],\n",
       " [(300, 400), (900, 1000)],\n",
       " [(350, 450), (0, 100)],\n",
       " [(350, 450), (100, 200)],\n",
       " [(350, 450), (200, 300)],\n",
       " [(350, 450), (300, 400)],\n",
       " [(350, 450), (400, 500)],\n",
       " [(350, 450), (500, 600)],\n",
       " [(350, 450), (600, 700)],\n",
       " [(350, 450), (700, 800)],\n",
       " [(350, 450), (800, 900)],\n",
       " [(350, 450), (900, 1000)],\n",
       " [(400, 500), (0, 100)],\n",
       " [(400, 500), (100, 200)],\n",
       " [(400, 500), (200, 300)],\n",
       " [(400, 500), (300, 400)],\n",
       " [(400, 500), (400, 500)],\n",
       " [(400, 500), (500, 600)],\n",
       " [(400, 500), (600, 700)],\n",
       " [(400, 500), (700, 800)],\n",
       " [(400, 500), (800, 900)],\n",
       " [(400, 500), (900, 1000)],\n",
       " [(450, 550), (0, 100)],\n",
       " [(450, 550), (100, 200)],\n",
       " [(450, 550), (200, 300)],\n",
       " [(450, 550), (300, 400)],\n",
       " [(450, 550), (400, 500)],\n",
       " [(450, 550), (500, 600)],\n",
       " [(450, 550), (600, 700)],\n",
       " [(450, 550), (700, 800)],\n",
       " [(450, 550), (800, 900)],\n",
       " [(450, 550), (900, 1000)],\n",
       " [(500, 600), (0, 100)],\n",
       " [(500, 600), (100, 200)],\n",
       " [(500, 600), (200, 300)],\n",
       " [(500, 600), (300, 400)],\n",
       " [(500, 600), (400, 500)],\n",
       " [(500, 600), (500, 600)],\n",
       " [(500, 600), (600, 700)],\n",
       " [(500, 600), (700, 800)],\n",
       " [(500, 600), (800, 900)],\n",
       " [(500, 600), (900, 1000)],\n",
       " [(550, 650), (0, 100)],\n",
       " [(550, 650), (100, 200)],\n",
       " [(550, 650), (200, 300)],\n",
       " [(550, 650), (300, 400)],\n",
       " [(550, 650), (400, 500)],\n",
       " [(550, 650), (500, 600)],\n",
       " [(550, 650), (600, 700)],\n",
       " [(550, 650), (700, 800)],\n",
       " [(550, 650), (800, 900)],\n",
       " [(550, 650), (900, 1000)],\n",
       " [(600, 700), (0, 100)],\n",
       " [(600, 700), (100, 200)],\n",
       " [(600, 700), (200, 300)],\n",
       " [(600, 700), (300, 400)],\n",
       " [(600, 700), (400, 500)],\n",
       " [(600, 700), (500, 600)],\n",
       " [(600, 700), (600, 700)],\n",
       " [(600, 700), (700, 800)],\n",
       " [(600, 700), (800, 900)],\n",
       " [(600, 700), (900, 1000)],\n",
       " [(650, 750), (0, 100)],\n",
       " [(650, 750), (100, 200)],\n",
       " [(650, 750), (200, 300)],\n",
       " [(650, 750), (300, 400)],\n",
       " [(650, 750), (400, 500)],\n",
       " [(650, 750), (500, 600)],\n",
       " [(650, 750), (600, 700)],\n",
       " [(650, 750), (700, 800)],\n",
       " [(650, 750), (800, 900)],\n",
       " [(650, 750), (900, 1000)],\n",
       " [(700, 800), (0, 100)],\n",
       " [(700, 800), (100, 200)],\n",
       " [(700, 800), (200, 300)],\n",
       " [(700, 800), (300, 400)],\n",
       " [(700, 800), (400, 500)],\n",
       " [(700, 800), (500, 600)],\n",
       " [(700, 800), (600, 700)],\n",
       " [(700, 800), (700, 800)],\n",
       " [(700, 800), (800, 900)],\n",
       " [(700, 800), (900, 1000)],\n",
       " [(750, 850), (0, 100)],\n",
       " [(750, 850), (100, 200)],\n",
       " [(750, 850), (200, 300)],\n",
       " [(750, 850), (300, 400)],\n",
       " [(750, 850), (400, 500)],\n",
       " [(750, 850), (500, 600)],\n",
       " [(750, 850), (600, 700)],\n",
       " [(750, 850), (700, 800)],\n",
       " [(750, 850), (800, 900)],\n",
       " [(750, 850), (900, 1000)],\n",
       " [(800, 900), (0, 100)],\n",
       " [(800, 900), (100, 200)],\n",
       " [(800, 900), (200, 300)],\n",
       " [(800, 900), (300, 400)],\n",
       " [(800, 900), (400, 500)],\n",
       " [(800, 900), (500, 600)],\n",
       " [(800, 900), (600, 700)],\n",
       " [(800, 900), (700, 800)],\n",
       " [(800, 900), (800, 900)],\n",
       " [(800, 900), (900, 1000)],\n",
       " [(850, 950), (0, 100)],\n",
       " [(850, 950), (100, 200)],\n",
       " [(850, 950), (200, 300)],\n",
       " [(850, 950), (300, 400)],\n",
       " [(850, 950), (400, 500)],\n",
       " [(850, 950), (500, 600)],\n",
       " [(850, 950), (600, 700)],\n",
       " [(850, 950), (700, 800)],\n",
       " [(850, 950), (800, 900)],\n",
       " [(850, 950), (900, 1000)],\n",
       " [(900, 1000), (0, 100)],\n",
       " [(900, 1000), (100, 200)],\n",
       " [(900, 1000), (200, 300)],\n",
       " [(900, 1000), (300, 400)],\n",
       " [(900, 1000), (400, 500)],\n",
       " [(900, 1000), (500, 600)],\n",
       " [(900, 1000), (600, 700)],\n",
       " [(900, 1000), (700, 800)],\n",
       " [(900, 1000), (800, 900)],\n",
       " [(900, 1000), (900, 1000)],\n",
       " [(950, 1050), (0, 100)],\n",
       " [(950, 1050), (100, 200)],\n",
       " [(950, 1050), (200, 300)],\n",
       " [(950, 1050), (300, 400)],\n",
       " [(950, 1050), (400, 500)],\n",
       " [(950, 1050), (500, 600)],\n",
       " [(950, 1050), (600, 700)],\n",
       " [(950, 1050), (700, 800)],\n",
       " [(950, 1050), (800, 900)],\n",
       " [(950, 1050), (900, 1000)]]"
      ]
     },
     "execution_count": 149,
     "metadata": {},
     "output_type": "execute_result"
    }
   ],
   "source": [
    "data.block_spec"
   ]
  },
  {
   "cell_type": "code",
   "execution_count": null,
   "metadata": {},
   "outputs": [],
   "source": [
    "\n",
    "\n",
    "\n",
    "\n",
    "\n",
    "\n",
    "\n",
    "\n",
    "\n",
    "\n",
    "\n",
    "\n",
    "\n",
    "\n",
    "\n",
    "\n",
    "\n",
    "\n"
   ]
  }
 ],
 "metadata": {
  "kernelspec": {
   "display_name": "Python 3",
   "language": "python",
   "name": "python3"
  },
  "language_info": {
   "codemirror_mode": {
    "name": "ipython",
    "version": 3
   },
   "file_extension": ".py",
   "mimetype": "text/x-python",
   "name": "python",
   "nbconvert_exporter": "python",
   "pygments_lexer": "ipython3",
   "version": "3.6.6"
  }
 },
 "nbformat": 4,
 "nbformat_minor": 2
}
