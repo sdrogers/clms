{
 "cells": [
  {
   "cell_type": "markdown",
   "metadata": {},
   "source": [
    "### Fixing mzML writing"
   ]
  },
  {
   "cell_type": "code",
   "execution_count": 1,
   "metadata": {},
   "outputs": [],
   "source": [
    "%matplotlib inline"
   ]
  },
  {
   "cell_type": "code",
   "execution_count": 2,
   "metadata": {},
   "outputs": [],
   "source": [
    "%load_ext autoreload\n",
    "%autoreload 2"
   ]
  },
  {
   "cell_type": "code",
   "execution_count": 3,
   "metadata": {},
   "outputs": [],
   "source": [
    "import numpy as np\n",
    "import pandas as pd\n",
    "import sys\n",
    "import scipy.stats\n",
    "import pylab as plt\n",
    "from IPython import display\n",
    "import pylab as plt"
   ]
  },
  {
   "cell_type": "code",
   "execution_count": 4,
   "metadata": {},
   "outputs": [],
   "source": [
    "sys.path.append('../codes')"
   ]
  },
  {
   "cell_type": "code",
   "execution_count": 5,
   "metadata": {},
   "outputs": [],
   "source": [
    "from VMSfunctions.Chemicals import *\n",
    "from VMSfunctions.Chromatograms import *\n",
    "from VMSfunctions.MassSpec import *\n",
    "from VMSfunctions.Controller import *\n",
    "from VMSfunctions.Common import *\n",
    "from VMSfunctions.DataGenerator import *"
   ]
  },
  {
   "cell_type": "markdown",
   "metadata": {},
   "source": [
    "### PsiMS test"
   ]
  },
  {
   "cell_type": "code",
   "execution_count": 6,
   "metadata": {},
   "outputs": [],
   "source": [
    "from psims.mzml import MzMLWriter"
   ]
  },
  {
   "cell_type": "code",
   "execution_count": 7,
   "metadata": {},
   "outputs": [],
   "source": [
    "def get_next_arrays():\n",
    "    return np.random.rand(100), np.random.rand(100)"
   ]
  },
  {
   "cell_type": "code",
   "execution_count": 8,
   "metadata": {},
   "outputs": [],
   "source": [
    "writer = MzMLWriter(\"../models/test/mzML/write.mzML\")\n",
    "with writer:\n",
    "    writer.controlled_vocabularies()\n",
    "    writer.file_description([ # the list of file contents terms\n",
    "        \"MS1 spectrum\",\n",
    "        \"MSn spectrum\",\n",
    "        \"centroid spectrum\"\n",
    "    ])\n",
    "    writer.software_list([\n",
    "        {\"id\": \"psims-writer\",\n",
    "         \"version\": \"0.1.2\",\n",
    "         \"params\": [\n",
    "            \"python-psims\",\n",
    "        ]}\n",
    "    ])   \n",
    "    source = writer.Source(1, [\"electrospray ionization\", \"electrospray inlet\"])\n",
    "    analyzer = writer.Analyzer(2, [\n",
    "            \"fourier transform ion cyclotron resonance mass spectrometer\"\n",
    "        ])\n",
    "    detector = writer.Detector(3, [\"inductive detector\"])\n",
    "    config = writer.InstrumentConfiguration(id=\"IC1\", component_list=[source, analyzer, detector],\n",
    "                                            params=[\"LTQ-FT\"])\n",
    "    writer.instrument_configuration_list([config])\n",
    "\n",
    "#     methods = []\n",
    "#     methods.append(\n",
    "#         writer.ProcessingMethod(\n",
    "#             order=1, sofware_reference=\"psims-writer\", params=[\n",
    "#                 \"Gaussian smoothing\",\n",
    "#                 \"median baseline reduction\",\n",
    "#                 \"MS:1000035\", # peak picking\n",
    "#                 \"Conversion to mzML\"\n",
    "#             ]))\n",
    "#     processing = writer.DataProcessing(methods, id='DP1')\n",
    "#     writer.data_processing_list([processing])\n",
    "    writer.data_processing_list({'id': 'VMS'})    \n",
    "\n",
    "    with writer.run(id=1, instrument_configuration='IC1'):\n",
    "        # we will write 3,000 spectra\n",
    "        with writer.spectrum_list(count=1e3):\n",
    "            i = 0\n",
    "        while i < 1e3:\n",
    "            i += 1\n",
    "            ms1_mzs, ms1_intensities = get_next_arrays()\n",
    "            ms1_spectrum_id = \"index=%d\" % i\n",
    "            scan_time = 0.23 * i\n",
    "\n",
    "            writer.write_spectrum(\n",
    "                ms1_mzs, ms1_intensities, id=ms1_spectrum_id, centroided=True,\n",
    "                scan_start_time=scan_time, scan_window_list=[(0, 2000.0)],\n",
    "                params=[{\"ms level\": 1}, {\"total ion current\": ms1_intensities.sum()}])\n",
    "\n",
    "            for j in range(3):\n",
    "                i += 1\n",
    "                msn_mzs, msn_intensities = get_next_arrays()\n",
    "                msn_spectrum_id = \"index=%d\" % i\n",
    "                scan_time = 0.23 * i\n",
    "\n",
    "                k = np.random.randint(len(ms1_mzs))\n",
    "                precursor_info = {\n",
    "                    \"mz\": ms1_mzs[k], 'intensity': ms1_intensities[k], 'charge': 1,\n",
    "                    \"spectrum_reference\": ms1_spectrum_id,\n",
    "                    \"activation\": [\"HCD\", {\"collision energy\": 25.0}],\n",
    "#                     \"isolation_window\": (1.0, ms1_mzs[k], 1.0)\n",
    "                }\n",
    "\n",
    "                writer.write_spectrum(\n",
    "                    msn_mzs, msn_intensities, id=msn_spectrum_id, centroided=True,\n",
    "                    scan_start_time=scan_time, scan_window_list=[(0, 2000.0)],\n",
    "                    precursor_information=precursor_info,\n",
    "                    params=[{\"ms level\": 2}, {\"total ion current\": msn_intensities.sum()}])"
   ]
  },
  {
   "cell_type": "code",
   "execution_count": 9,
   "metadata": {},
   "outputs": [],
   "source": [
    "writer.close()"
   ]
  },
  {
   "cell_type": "markdown",
   "metadata": {},
   "source": [
    "### Top-N Controller Test"
   ]
  },
  {
   "cell_type": "code",
   "execution_count": null,
   "metadata": {},
   "outputs": [],
   "source": [
    "set_log_level_debug()"
   ]
  },
  {
   "cell_type": "markdown",
   "metadata": {},
   "source": [
    "Load densities trained on 19 beer data (see [loader_kde](loader_kde.ipynb))."
   ]
  },
  {
   "cell_type": "code",
   "execution_count": null,
   "metadata": {},
   "outputs": [],
   "source": [
    "base_dir = 'C:\\\\Users\\\\joewa\\\\University of Glasgow\\\\Vinny Davies - CLDS Metabolomics Project\\\\'"
   ]
  },
  {
   "cell_type": "code",
   "execution_count": null,
   "metadata": {},
   "outputs": [],
   "source": [
    "ps = load_obj(os.path.join(base_dir, 'Trained Models\\\\peak_sampler_19_beers_fullscan.p'))"
   ]
  },
  {
   "cell_type": "markdown",
   "metadata": {},
   "source": [
    "### Generate some chemicals"
   ]
  },
  {
   "cell_type": "code",
   "execution_count": null,
   "metadata": {},
   "outputs": [],
   "source": [
    "cc = ChromatogramCreator(os.path.join(base_dir, 'Trained Models\\\\chromatogram_19_beers.csv.gz'))"
   ]
  },
  {
   "cell_type": "code",
   "execution_count": null,
   "metadata": {},
   "outputs": [],
   "source": [
    "hmdb = load_obj(os.path.join(base_dir, 'Trained Models\\\\hmdb_compounds.p'))"
   ]
  },
  {
   "cell_type": "markdown",
   "metadata": {},
   "source": [
    "### Set up a Top-N controller"
   ]
  },
  {
   "cell_type": "markdown",
   "metadata": {},
   "source": [
    "We can run the dataset through a top-N DDA controller"
   ]
  },
  {
   "cell_type": "code",
   "execution_count": null,
   "metadata": {},
   "outputs": [],
   "source": [
    "# set_log_level_warning()\n",
    "# set_log_level_info()\n",
    "set_log_level_debug()"
   ]
  },
  {
   "cell_type": "code",
   "execution_count": null,
   "metadata": {},
   "outputs": [],
   "source": [
    "ps = load_obj(os.path.join(base_dir, 'Trained Models\\\\peak_sampler_19_beers_fragmentation.p'))"
   ]
  },
  {
   "cell_type": "code",
   "execution_count": null,
   "metadata": {},
   "outputs": [],
   "source": [
    "min_ms1_intensity = 2.5E5\n",
    "rt_range = [(3*60, 21*60)]\n",
    "mz_range = [(0, 1050)]\n",
    "n_ms1_peaks = 10000\n",
    "\n",
    "# alpha = 0.1\n",
    "# compound_list = hmdb\n",
    "# chemical_type = 'Known'\n",
    "\n",
    "alpha = math.inf\n",
    "compound_list = None\n",
    "chemical_type = 'Unknown'\n",
    "ms_levels = 2\n",
    "\n",
    "chemicals = ChemicalCreator(ps)\n",
    "dataset = chemicals.sample(cc, mz_range, rt_range, min_ms1_intensity, n_ms1_peaks, ms_levels=ms_levels, \n",
    "                           chemical_type=chemical_type, formula_list=None, compound_list=compound_list, alpha=alpha, fixed_mz=False)"
   ]
  },
  {
   "cell_type": "code",
   "execution_count": null,
   "metadata": {},
   "outputs": [],
   "source": [
    "N = 5                           # top-5 DDA fragmentation\n",
    "mz_tol = 5                      # the mz isolation window (Dalton) around a selected precursor ion\n",
    "rt_tol = 15                     # the rt window (second) around a selected precursor ion to prevent it from fragmented multiple times\n",
    "min_ms1_intensity = 2.5E5       # the minimum ms1 peak intensity to be fragmented"
   ]
  },
  {
   "cell_type": "code",
   "execution_count": null,
   "metadata": {},
   "outputs": [],
   "source": [
    "set_log_level_warning()"
   ]
  },
  {
   "cell_type": "code",
   "execution_count": null,
   "metadata": {
    "scrolled": true
   },
   "outputs": [],
   "source": [
    "mass_spec = IndependentMassSpectrometer(POSITIVE, dataset, density=ps.density_estimator)\n",
    "controller = TopNController(mass_spec, N, mz_tol, rt_tol, min_ms1_intensity)\n",
    "controller.make_plot = False\n",
    "controller.run(rt_range[0][0], rt_range[0][1])"
   ]
  },
  {
   "cell_type": "code",
   "execution_count": null,
   "metadata": {},
   "outputs": [],
   "source": [
    "controller.write_mzML('my_analysis', '../models/test/mzML/out.mzML')"
   ]
  }
 ],
 "metadata": {
  "kernelspec": {
   "display_name": "Python 3",
   "language": "python",
   "name": "python3"
  },
  "language_info": {
   "codemirror_mode": {
    "name": "ipython",
    "version": 3
   },
   "file_extension": ".py",
   "mimetype": "text/x-python",
   "name": "python",
   "nbconvert_exporter": "python",
   "pygments_lexer": "ipython3",
   "version": "3.6.6"
  }
 },
 "nbformat": 4,
 "nbformat_minor": 1
}
