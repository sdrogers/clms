{
 "cells": [
  {
   "cell_type": "markdown",
   "metadata": {},
   "source": [
    "### Fixing mzML writing"
   ]
  },
  {
   "cell_type": "code",
   "execution_count": 1,
   "metadata": {},
   "outputs": [],
   "source": [
    "%matplotlib inline"
   ]
  },
  {
   "cell_type": "code",
   "execution_count": 2,
   "metadata": {},
   "outputs": [],
   "source": [
    "%load_ext autoreload\n",
    "%autoreload 2"
   ]
  },
  {
   "cell_type": "code",
   "execution_count": 3,
   "metadata": {},
   "outputs": [],
   "source": [
    "import numpy as np\n",
    "import pandas as pd\n",
    "import sys\n",
    "import scipy.stats\n",
    "import pylab as plt\n",
    "from IPython import display\n",
    "import pylab as plt"
   ]
  },
  {
   "cell_type": "code",
   "execution_count": 4,
   "metadata": {},
   "outputs": [],
   "source": [
    "sys.path.append('../codes')"
   ]
  },
  {
   "cell_type": "code",
   "execution_count": 5,
   "metadata": {},
   "outputs": [],
   "source": [
    "from VMSfunctions.Chemicals import *\n",
    "from VMSfunctions.Chromatograms import *\n",
    "from VMSfunctions.MassSpec import *\n",
    "from VMSfunctions.Controller import *\n",
    "from VMSfunctions.Common import *\n",
    "from VMSfunctions.DataGenerator import *"
   ]
  },
  {
   "cell_type": "markdown",
   "metadata": {},
   "source": [
    "### Top-N Controller Test"
   ]
  },
  {
   "cell_type": "code",
   "execution_count": 6,
   "metadata": {},
   "outputs": [],
   "source": [
    "set_log_level_debug()\n",
    "base_dir = 'C:\\\\Users\\\\joewa\\\\University of Glasgow\\\\Vinny Davies - CLDS Metabolomics Project\\\\'\n",
    "ps = load_obj(base_dir + 'Trained Models\\\\peak_sampler_beer1pos_fragmentation.p')"
   ]
  },
  {
   "cell_type": "code",
   "execution_count": 7,
   "metadata": {},
   "outputs": [],
   "source": [
    "base_dir = 'C:\\\\Users\\\\joewa\\\\Work\\\\git\\\\clms\\\\Simulator'\n",
    "dataset = load_obj(os.path.join(base_dir, 'models\\\\dda_results\\\\dataset.p'))\n",
    "noisy_dataset = load_obj(os.path.join(base_dir, 'models\\\\dda_results\\\\noisy_dataset.p'))"
   ]
  },
  {
   "cell_type": "code",
   "execution_count": 8,
   "metadata": {},
   "outputs": [],
   "source": [
    "positives = list(filter(lambda x: x.type == 'data', noisy_dataset))\n",
    "negatives = list(filter(lambda x: x.type == 'noise', noisy_dataset))"
   ]
  },
  {
   "cell_type": "code",
   "execution_count": 9,
   "metadata": {},
   "outputs": [
    {
     "data": {
      "text/plain": [
       "(27377, 9828, 17549)"
      ]
     },
     "execution_count": 9,
     "metadata": {},
     "output_type": "execute_result"
    }
   ],
   "source": [
    "len(noisy_dataset), len(positives), len(negatives)"
   ]
  },
  {
   "cell_type": "code",
   "execution_count": 10,
   "metadata": {},
   "outputs": [],
   "source": [
    "isolation_window = 0.5   # the isolation window in Dalton around a selected precursor ion\n",
    "ionisation_mode = POSITIVE\n",
    "data = noisy_dataset\n",
    "density = ps.density_estimator\n",
    "min_ms1_intensity = 2.5E5 # minimum ms1 intensity to fragment\n",
    "min_rt = 3*60\n",
    "max_rt = 21*60\n",
    "N = 10\n",
    "rt_tol = 15"
   ]
  },
  {
   "cell_type": "code",
   "execution_count": 11,
   "metadata": {},
   "outputs": [],
   "source": [
    "# isolation_window = 1   # the isolation window in Dalton around a selected precursor ion\n",
    "# ionisation_mode = POSITIVE\n",
    "# data = noisy_dataset\n",
    "# density = ps.density_estimator\n",
    "# min_ms1_intensity = 1.75E5 # minimum ms1 intensity to fragment\n",
    "# min_rt = 3*60\n",
    "# max_rt = 21*60\n",
    "# N = 10\n",
    "# rt_tol = 15"
   ]
  },
  {
   "cell_type": "code",
   "execution_count": 12,
   "metadata": {},
   "outputs": [
    {
     "name": "stderr",
     "output_type": "stream",
     "text": [
      "1080.027568223991it [03:22, 15.64it/s]                                                                                                                                                                  \n"
     ]
    }
   ],
   "source": [
    "set_log_level_warning()\n",
    "mass_spec = IndependentMassSpectrometer(ionisation_mode, data, density=density)\n",
    "controller = TopNController(mass_spec, N, isolation_window,\n",
    "                            rt_tol, min_ms1_intensity)\n",
    "controller.run(min_rt, max_rt, True)\n",
    "controller.write_mzML('my_analysis', '../models/test/mzML/out_combined2.mzML')"
   ]
  },
  {
   "cell_type": "code",
   "execution_count": 13,
   "metadata": {},
   "outputs": [],
   "source": [
    "save_obj(controller, '../models/test/mzML/out_combined2.p')"
   ]
  }
 ],
 "metadata": {
  "kernelspec": {
   "display_name": "Python 3",
   "language": "python",
   "name": "python3"
  },
  "language_info": {
   "codemirror_mode": {
    "name": "ipython",
    "version": 3
   },
   "file_extension": ".py",
   "mimetype": "text/x-python",
   "name": "python",
   "nbconvert_exporter": "python",
   "pygments_lexer": "ipython3",
   "version": "3.6.6"
  }
 },
 "nbformat": 4,
 "nbformat_minor": 1
}
