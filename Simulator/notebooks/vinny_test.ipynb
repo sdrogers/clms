{
 "cells": [
  {
   "cell_type": "code",
   "execution_count": 1,
   "metadata": {},
   "outputs": [],
   "source": [
    "import numpy as np\n",
    "import sys\n",
    "import scipy.stats"
   ]
  },
  {
   "cell_type": "code",
   "execution_count": 2,
   "metadata": {},
   "outputs": [],
   "source": [
    "%load_ext autoreload\n",
    "%autoreload 2"
   ]
  },
  {
   "cell_type": "code",
   "execution_count": 3,
   "metadata": {},
   "outputs": [],
   "source": [
    "sys.path.append('../codes')"
   ]
  },
  {
   "cell_type": "code",
   "execution_count": 4,
   "metadata": {},
   "outputs": [
    {
     "name": "stdout",
     "output_type": "stream",
     "text": [
      "Pretty printing has been turned OFF\n"
     ]
    }
   ],
   "source": [
    "%pprint"
   ]
  },
  {
   "cell_type": "markdown",
   "metadata": {},
   "source": [
    "# Chromatogram"
   ]
  },
  {
   "cell_type": "code",
   "execution_count": 5,
   "metadata": {},
   "outputs": [],
   "source": [
    "class Chromatogram(object):\n",
    "    \n",
    "    def get_relative_intensity(self, query_rt):\n",
    "        raise NotImplementedError()\n",
    "        \n",
    "    def get_relative_mz(self, query_rt):\n",
    "        raise NotImplementedError()\n",
    "        \n",
    "    def _rt_match(self, rt):\n",
    "        raise NotImplementedError()"
   ]
  },
  {
   "cell_type": "markdown",
   "metadata": {},
   "source": [
    "# Empirical Chromatogram"
   ]
  },
  {
   "cell_type": "code",
   "execution_count": 6,
   "metadata": {},
   "outputs": [],
   "source": [
    "def chromatogramDensityNormalisation(rts, intensities):\n",
    "    \"\"\"\n",
    "    Definition to standardise the area under a chromatogram to 1. Returns updated intensities\n",
    "    \"\"\"\n",
    "    area = 0.0\n",
    "    for rt_index in range(len(rts)-1):\n",
    "        area += ((intensities[rt_index] + intensities[rt_index + 1])/2) / (rts[rt_index+1] - rts[rt_index])\n",
    "    new_intensities = [x * (1 / area) for x in intensities]\n",
    "    return new_intensities"
   ]
  },
  {
   "cell_type": "code",
   "execution_count": 7,
   "metadata": {},
   "outputs": [
    {
     "data": {
      "text/plain": [
       "[0.5, 0.5, 0.5]"
      ]
     },
     "execution_count": 7,
     "metadata": {},
     "output_type": "execute_result"
    }
   ],
   "source": [
    "chromatogramDensityNormalisation([2,3,4],[0.3,0.3,0.3])"
   ]
  },
  {
   "cell_type": "code",
   "execution_count": 8,
   "metadata": {},
   "outputs": [],
   "source": [
    "class EmpiricalChromatogram(Chromatogram):\n",
    "    \"\"\"\n",
    "    Empirical Chromatograms to be used within Chemicals\n",
    "    \"\"\"\n",
    "    def __init__(self, rts, mzs, intensities):\n",
    "        self.rts = [x - min(rts) for x in rts]\n",
    "        self.mzs = [x - sum(mzs)/len(mzs) for x in rts] # may want to just set this to 0 and remove from input\n",
    "        self.intensities = chromatogramDensityNormalisation(rts, intensities)\n",
    "\n",
    "    def get_relative_intensity(self, query_rt):\n",
    "        if self._rt_match(query_rt) == False:\n",
    "            return None\n",
    "        else:\n",
    "            return((self.intensities[self._get_rt_neighbours_which(query_rt)[0]] + \n",
    "                    (self.intensities[self._get_rt_neighbours_which(query_rt)[1]]\n",
    "                     -self.intensities[self._get_rt_neighbours_which(query_rt)[0]]) * self._get_distance(query_rt)))\n",
    "        \n",
    "    def get_relative_mz(self, query_rt):\n",
    "        if self._rt_match(query_rt) == False:\n",
    "            return None\n",
    "        else:\n",
    "            return((self.mzs[self._get_rt_neighbours_which(query_rt)[0]] + \n",
    "                    (self.mzs[self._get_rt_neighbours_which(query_rt)[1]]\n",
    "                     -self.mzs[self._get_rt_neighbours_which(query_rt)[0]]) * self._get_distance(query_rt)))\n",
    "        \n",
    "    def _get_rt_neighbours(self, query_rt):\n",
    "        rt_below = max(x for x in self.rts if x <= query_rt)\n",
    "        rt_above = min(x for x in self.rts if x >= query_rt)\n",
    "        return([rt_below, rt_above])\n",
    "    \n",
    "    def _get_rt_neighbours_which(self, query_rt):\n",
    "        which_rt_below = self.rts.index(self._get_rt_neighbours(query_rt)[0])\n",
    "        which_rt_above = self.rts.index(self._get_rt_neighbours(query_rt)[1])\n",
    "        return([which_rt_below, which_rt_above])\n",
    "        \n",
    "    def _get_distance(self, query_rt):\n",
    "        return((query_rt - self._get_rt_neighbours(query_rt)[0]) / \n",
    "               (self._get_rt_neighbours(query_rt)[0] - self._get_rt_neighbours(query_rt)[1]))\n",
    "    \n",
    "    def _rt_match(self, query_rt):\n",
    "        if query_rt < min(self.rts) or query_rt > max(self.rts):\n",
    "            return False\n",
    "        else:\n",
    "            return True"
   ]
  },
  {
   "cell_type": "code",
   "execution_count": 9,
   "metadata": {
    "scrolled": true
   },
   "outputs": [],
   "source": [
    "m = EmpiricalChromatogram([0,2,4,6,8],[1,2,3,4,5],[100,200,300,400,500])"
   ]
  },
  {
   "cell_type": "code",
   "execution_count": 10,
   "metadata": {},
   "outputs": [
    {
     "name": "stdout",
     "output_type": "stream",
     "text": [
      "0.25000000000000006\n",
      "None\n"
     ]
    }
   ],
   "source": [
    "print(m.get_relative_intensity(3))\n",
    "print(m.get_relative_intensity(10))"
   ]
  },
  {
   "cell_type": "code",
   "execution_count": 11,
   "metadata": {},
   "outputs": [
    {
     "name": "stdout",
     "output_type": "stream",
     "text": [
      "-2.0\n",
      "None\n"
     ]
    }
   ],
   "source": [
    "print(m.get_relative_mz(3))\n",
    "print(m.get_relative_mz(10))"
   ]
  },
  {
   "cell_type": "markdown",
   "metadata": {},
   "source": [
    "# Functional Chromatogram"
   ]
  },
  {
   "cell_type": "code",
   "execution_count": 12,
   "metadata": {},
   "outputs": [],
   "source": [
    "class FunctionalChromatogram(Chromatogram):\n",
    "    \"\"\"\n",
    "    Functional Chromatograms to be used within Chemicals\n",
    "    \"\"\"\n",
    "    def __init__(self, distribution, parameters, cutoff = 0.01):\n",
    "        self.cutoff = cutoff\n",
    "        self.mz = 0\n",
    "        if distribution == \"normal\":\n",
    "            self.distrib = scipy.stats.norm(parameters[0],parameters[1])\n",
    "        elif distribution == \"gamma\":\n",
    "            self.distrib = scipy.stats.gamma(parameters[0],parameters[1],parameters[2])\n",
    "        elif distribution == \"uniform\":\n",
    "            self.distrib = scipy.stats.uniform(parameters[0],parameters[1])\n",
    "        else:\n",
    "            raise NotImplementedError(\"distribution not implemented\")\n",
    "            \n",
    "    def get_relative_intensity(self, query_rt):\n",
    "        if self._rt_match(query_rt) == False:\n",
    "            return None\n",
    "        else:\n",
    "            return(self.distrib.pdf(query_rt + self.distrib.ppf(self.cutoff/2)) * ( 1 / (1 - self.cutoff)))\n",
    "        \n",
    "    def get_relative_mz(self, query_rt):\n",
    "        if self._rt_match(query_rt) == False:\n",
    "            return None\n",
    "        else:\n",
    "            return self.mz\n",
    "\n",
    "    def _rt_match(self, query_rt):\n",
    "        if query_rt < 0 or query_rt > self.distrib.ppf(1-(self.cutoff/2)) - self.distrib.ppf(self.cutoff/2):\n",
    "            return False\n",
    "        else:\n",
    "            return True"
   ]
  },
  {
   "cell_type": "code",
   "execution_count": 13,
   "metadata": {},
   "outputs": [],
   "source": [
    "m = FunctionalChromatogram(\"normal\",[0,1])"
   ]
  },
  {
   "cell_type": "code",
   "execution_count": 14,
   "metadata": {},
   "outputs": [
    {
     "name": "stdout",
     "output_type": "stream",
     "text": [
      "0.014605801037290308\n",
      "None\n"
     ]
    }
   ],
   "source": [
    "print(m.get_relative_intensity(0))\n",
    "print(m.get_relative_intensity(6))"
   ]
  },
  {
   "cell_type": "code",
   "execution_count": 17,
   "metadata": {},
   "outputs": [
    {
     "name": "stdout",
     "output_type": "stream",
     "text": [
      "0\n",
      "None\n"
     ]
    }
   ],
   "source": [
    "print(m.get_relative_mz(0))\n",
    "print(m.get_relative_mz(6))"
   ]
  },
  {
   "cell_type": "markdown",
   "metadata": {},
   "source": [
    "# Chemicals"
   ]
  },
  {
   "cell_type": "code",
   "execution_count": 18,
   "metadata": {},
   "outputs": [],
   "source": [
    "class Chemical(object):\n",
    "    \n",
    "    def __repr__(self):\n",
    "        raise NotImplementedError()\n",
    "\n",
    "    def get_mz_peaks(self, rt, ms_level, isolation_windows):\n",
    "        raise NotImplementedError()\n",
    "        \n",
    "    def _rt_match(self, query_rt): # could remove this if we wanted to link chemicals and MSNs\n",
    "        raise NotImplementedError()"
   ]
  },
  {
   "cell_type": "markdown",
   "metadata": {},
   "source": [
    "# Unknown Chemicals"
   ]
  },
  {
   "cell_type": "code",
   "execution_count": 82,
   "metadata": {},
   "outputs": [],
   "source": [
    "class UnknownChemical(Chemical):\n",
    "\n",
    "    def __init__(self, mz, rt, max_intensity, chromatogram, children):\n",
    "        self.mz = mz\n",
    "        self.rt = rt\n",
    "        self.max_intensity = max_intensity\n",
    "        self.chromatogram = chromatogram\n",
    "        self.children = children\n",
    "        \n",
    "    def __repr__(self):\n",
    "        return 'Peak mz=%.4f rt=%.2f intensity=%.2f' % (self.mz, self.rt, self.max_intensity)\n",
    "\n",
    "    def get_mz_peaks(self, query_rt, ms_level, isolation_windows):\n",
    "        if not self._rt_match(query_rt):\n",
    "            return None\n",
    "        if not self._isolation_match(isolation_windows[0]):\n",
    "            return None\n",
    "        if ms_level == 1:\n",
    "            intensity = self._get_intensity(query_rt)\n",
    "            mz = self.mz + self.chromatogram.get_relative_mz(query_rt - self.rt)\n",
    "            return [(mz, intensity)]\n",
    "        else:\n",
    "            mz_peaks = []\n",
    "            for i in range(len(self.children)):\n",
    "                mz_peaks.append(self.children[i].get_mz_peaks(query_rt,ms_level,isolation_windows)) #check whether append is right\n",
    "            return mz_peaks\n",
    "        \n",
    "    def _get_intensity(self, query_rt):\n",
    "        return(self.max_intensity * self.chromatogram.get_relative_intensity(query_rt - self.rt))\n",
    "    \n",
    "    def _rt_match(self, query_rt):\n",
    "        if self.chromatogram._rt_match(query_rt - self.rt) == True:\n",
    "            return True\n",
    "        else:\n",
    "            return False\n",
    "\n",
    "    def _isolation_match(self, isolation_windows):                        \n",
    "        # assumes list is formated like:\n",
    "        # [[(ms1_min_1,ms1_max_1),(ms1_min_2,ms1_max_2),...],...,[(msn_min_1,msn_max_1),(msn_min_2,msn_max_2),...]]\n",
    "        for window in isolation_windows:\n",
    "            if (self.mz > window[0] and self.mz <= window[1]):\n",
    "                return True\n",
    "        return False"
   ]
  },
  {
   "cell_type": "markdown",
   "metadata": {},
   "source": [
    "# Known Chemicals"
   ]
  },
  {
   "cell_type": "code",
   "execution_count": null,
   "metadata": {},
   "outputs": [],
   "source": []
  },
  {
   "cell_type": "markdown",
   "metadata": {},
   "source": [
    "# MSN"
   ]
  },
  {
   "cell_type": "code",
   "execution_count": 83,
   "metadata": {},
   "outputs": [],
   "source": [
    "class MSN(object):\n",
    "    def __init__(self, mz,\n",
    "                 ms_level,                          # the ms-level: 1, 2, ...\n",
    "                 parent_mass_prop,                  # proportion of parents mass\n",
    "                 children=None,                     # other MSN objects which are children\n",
    "                 parent= None):\n",
    "        self.mz = mz\n",
    "        self.ms_level = ms_level\n",
    "        self.parent_mass_prop = parent_mass_prop\n",
    "        self.children = children\n",
    "        self.parent = parent\n",
    "\n",
    "    def __repr__(self):\n",
    "        return 'Peak mz=%.4f ms_level=%d' % (self.mz, self.ms_level) # may need to update naming convention\n",
    "\n",
    "    def get_mz_peaks(self, query_rt, ms_level, isolation_windows):\n",
    "        if not self._isolation_match(isolation_windows[ms_level-1]):\n",
    "            return None\n",
    "        if ms_level == self.ms_level:\n",
    "            intensity = self._get_intensity(query_rt)\n",
    "            mz = self.mz\n",
    "            return (mz, intensity)\n",
    "        else:\n",
    "            mz_peaks = []\n",
    "            for i in range(len(self.children)):\n",
    "                mz_peaks.append(self.children[i].get_mz_peaks(ms_level,isolation_windows)) #check whether append is right\n",
    "            return mz_peaks\n",
    "        \n",
    "    def _get_intensity(self, query_rt):\n",
    "        return self.parent._get_intensity(query_rt) * self.parent_mass_prop\n",
    "    \n",
    "    def _isolation_match(self, isolation_windows):\n",
    "        # assumes list is formated like:\n",
    "        # [(min_1,max_1),(min_2,max_2),...],\n",
    "        for window in isolation_windows:\n",
    "            if (self.mz > window[0] and self.mz <= window[1]):\n",
    "                return True\n",
    "        return False"
   ]
  },
  {
   "cell_type": "markdown",
   "metadata": {},
   "source": [
    "# Test"
   ]
  },
  {
   "cell_type": "code",
   "execution_count": 84,
   "metadata": {},
   "outputs": [],
   "source": [
    "chrom = FunctionalChromatogram(\"normal\", [0,1])\n",
    "frag1 = MSN(50,2,0.5)\n",
    "frag2 = MSN(50,2,0.7)\n",
    "chem = UnknownChemical(100, 100, 10000, chrom, [frag1, frag2])\n",
    "frag1.parent = chem\n",
    "frag2.parent = chem"
   ]
  },
  {
   "cell_type": "code",
   "execution_count": 85,
   "metadata": {},
   "outputs": [
    {
     "data": {
      "text/plain": [
       "[(50, 582.1254632557357), (50, 814.9756485580299)]"
      ]
     },
     "execution_count": 85,
     "metadata": {},
     "output_type": "execute_result"
    }
   ],
   "source": [
    "chem.get_mz_peaks(101,2,[[(0,300)],[(0,100)]])"
   ]
  },
  {
   "cell_type": "code",
   "execution_count": 40,
   "metadata": {},
   "outputs": [
    {
     "name": "stdout",
     "output_type": "stream",
     "text": [
      "None\n"
     ]
    }
   ],
   "source": [
    "print(frag.children)"
   ]
  },
  {
   "cell_type": "code",
   "execution_count": null,
   "metadata": {},
   "outputs": [],
   "source": []
  }
 ],
 "metadata": {
  "kernelspec": {
   "display_name": "Python 3",
   "language": "python",
   "name": "python3"
  },
  "language_info": {
   "codemirror_mode": {
    "name": "ipython",
    "version": 3
   },
   "file_extension": ".py",
   "mimetype": "text/x-python",
   "name": "python",
   "nbconvert_exporter": "python",
   "pygments_lexer": "ipython3",
   "version": "3.6.6"
  }
 },
 "nbformat": 4,
 "nbformat_minor": 2
}
