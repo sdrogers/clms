{
 "cells": [
  {
   "cell_type": "code",
   "execution_count": 1,
   "metadata": {},
   "outputs": [],
   "source": [
    "import numpy as np\n",
    "import sys\n",
    "import scipy.stats\n",
    "import re"
   ]
  },
  {
   "cell_type": "code",
   "execution_count": 2,
   "metadata": {},
   "outputs": [],
   "source": [
    "%load_ext autoreload\n",
    "%autoreload 2"
   ]
  },
  {
   "cell_type": "code",
   "execution_count": 3,
   "metadata": {},
   "outputs": [],
   "source": [
    "sys.path.append('../codes')"
   ]
  },
  {
   "cell_type": "code",
   "execution_count": 4,
   "metadata": {},
   "outputs": [
    {
     "name": "stdout",
     "output_type": "stream",
     "text": [
      "Pretty printing has been turned OFF\n"
     ]
    }
   ],
   "source": [
    "%pprint"
   ]
  },
  {
   "cell_type": "code",
   "execution_count": 5,
   "metadata": {},
   "outputs": [],
   "source": [
    "from VMSfunctions.Common import *\n",
    "from VMSfunctions.Chemicals import *\n",
    "from VMSfunctions.Chromatograms import *\n",
    "from VMSfunctions.MassSpec import *\n",
    "from VMSfunctions.Controller import *"
   ]
  },
  {
   "cell_type": "markdown",
   "metadata": {},
   "source": [
    "# Mass Spec test"
   ]
  },
  {
   "cell_type": "code",
   "execution_count": 6,
   "metadata": {},
   "outputs": [],
   "source": [
    "import pickle\n",
    "hmdb = pickle.load(open('../../../Compounds/hmdb_compounds.p','rb'))"
   ]
  },
  {
   "cell_type": "code",
   "execution_count": 7,
   "metadata": {},
   "outputs": [],
   "source": [
    "xcms_output = '../models/beer_ms1_peaks.csv.gz'\n",
    "cc = ChromatogramCreator(xcms_output)"
   ]
  },
  {
   "cell_type": "code",
   "execution_count": 8,
   "metadata": {},
   "outputs": [
    {
     "name": "stderr",
     "output_type": "stream",
     "text": [
      "WARNING:root:Old pickle format detected. Please regenerate this file.\n"
     ]
    }
   ],
   "source": [
    "ps = load_obj('../models/peak_sampler_4_beers.p')\n",
    "chemicals = ChemicalCreator(ps)"
   ]
  },
  {
   "cell_type": "markdown",
   "metadata": {},
   "source": [
    "# Improve Chemical Creator"
   ]
  },
  {
   "cell_type": "markdown",
   "metadata": {},
   "source": [
    "Need to test the chemical creator in more situations to make sure the code works as intended"
   ]
  },
  {
   "cell_type": "code",
   "execution_count": 9,
   "metadata": {},
   "outputs": [
    {
     "name": "stderr",
     "output_type": "stream",
     "text": [
      "DEBUG:ChemicalCreator:200 ms1 peaks to be created.\n",
      "DEBUG:ChemicalCreator:i = 0\n",
      "DEBUG:ChemicalCreator:i = 25\n",
      "DEBUG:ChemicalCreator:i = 50\n",
      "DEBUG:ChemicalCreator:i = 75\n",
      "DEBUG:ChemicalCreator:i = 100\n",
      "DEBUG:ChemicalCreator:i = 125\n",
      "DEBUG:ChemicalCreator:i = 150\n",
      "DEBUG:ChemicalCreator:i = 175\n"
     ]
    }
   ],
   "source": [
    "min_ms1_intensity = 2E5\n",
    "rt_range = [(3*60, 21*60)]\n",
    "mz_range = [(0, 1000)]\n",
    "set_log_level_debug()\n",
    "dataset = chemicals.sample(cc, mz_range, rt_range, min_ms1_intensity, 200, 2, \"Known\", None, hmdb, 0.1)"
   ]
  },
  {
   "cell_type": "code",
   "execution_count": 10,
   "metadata": {},
   "outputs": [],
   "source": [
    "#min_ms1_intensity = 2E5\n",
    "#min_rt = 3*60\n",
    "#max_rt = 21*60\n",
    "#chemicals = ChemicalCreator(ps)\n",
    "#dataset = chemicals.sample_from_chromatograms(cc, min_rt, max_rt, min_ms1_intensity, ms_levels=2)"
   ]
  },
  {
   "cell_type": "markdown",
   "metadata": {},
   "source": [
    "# Test Top N Controller"
   ]
  },
  {
   "cell_type": "code",
   "execution_count": null,
   "metadata": {
    "scrolled": true
   },
   "outputs": [],
   "source": [
    "max_rt = 10*60                  # the maximum retention time of scans to generate\n",
    "N = 1                           # top-5 DDA fragmentation\n",
    "mz_tol = 5                      # the mz isolation window around a selected precursor ion\n",
    "rt_tol = 15                     # the rt window around a selected precursor ion to prevent it from fragmented multiple times\n",
    "min_ms2_intensity = 5000        # the minimum ms2 peak intensity\n",
    "\n",
    "mass_spec = IndependentMassSpectrometer(POSITIVE, dataset, density=ps.density_estimator)\n",
    "controller = TopNController(mass_spec, N, mz_tol, rt_tol, min_ms2_intensity=min_ms2_intensity)\n",
    "\n",
    "set_log_level_warning() # We don't want to see too many messages as the controller is running\n",
    "# set_log_level_info()\n",
    "# set_log_level_debug()\n",
    "\n",
    "controller.run(0, max_rt)"
   ]
  },
  {
   "cell_type": "code",
   "execution_count": 11,
   "metadata": {},
   "outputs": [],
   "source": [
    "controller.write_mzML('my_analysis2', '../models/out2.mzML')\n",
    "# save_obj(controller, '../models/noisy_top_N_controllers.p')"
   ]
  },
  {
   "cell_type": "markdown",
   "metadata": {},
   "source": [
    "# DIA Mass Spec"
   ]
  },
  {
   "cell_type": "code",
   "execution_count": null,
   "metadata": {},
   "outputs": [],
   "source": [
    "dia_design = \"basic\"\n",
    "window_type = \"even\"\n",
    "kaufmann_design = None\n",
    "extra_bins = 0\n",
    "num_windows=10\n",
    "\n",
    "mass_spec = IndependentMassSpectrometer(POSITIVE, dataset, density=ps.density_estimator)\n",
    "controller = TreeController(mass_spec, dia_design, window_type, kaufmann_design, extra_bins, num_windows)\n",
    "\n",
    "set_log_level_warning() # We don't want to see too many messages as the controller is running\n",
    "# set_log_level_info()\n",
    "# set_log_level_debug()\n",
    "\n",
    "controller.run(max_rt)"
   ]
  },
  {
   "cell_type": "markdown",
   "metadata": {},
   "source": [
    "# Multiple Datasets for DsDA"
   ]
  },
  {
   "cell_type": "code",
   "execution_count": null,
   "metadata": {},
   "outputs": [],
   "source": [
    "min_ms1_intensity = 2E5\n",
    "rt_range = [(3*60, 21*60)]\n",
    "mz_range = [(0, 1000)]\n",
    "set_log_level_debug()\n",
    "dataset = chemicals.sample(cc, mz_range, rt_range, min_ms1_intensity, 200, 2, \"Known\", None, hmdb, 0.1)"
   ]
  },
  {
   "cell_type": "code",
   "execution_count": 19,
   "metadata": {},
   "outputs": [],
   "source": [
    "n_samples = [10]\n",
    "classes = [\"class1\"]\n",
    "intensity_noise_sd = [1000]\n",
    "change_probabilities = None\n",
    "change_differences_means = None\n",
    "change_differences_sds = None\n",
    "dropout_probabilities = None \n",
    "experimental_classes = None \n",
    "experimental_probabilitities = None \n",
    "experimental_sds = None\n",
    "\n",
    "multiple_samples = MultiSampleCreator(dataset, n_samples, classes, intensity_noise_sd, \n",
    "                                      change_probabilities, change_differences_means, change_differences_sds, dropout_probabilities,\n",
    "                                     experimental_classes, experimental_probabilitities, experimental_sds)"
   ]
  },
  {
   "cell_type": "code",
   "execution_count": 23,
   "metadata": {},
   "outputs": [
    {
     "name": "stdout",
     "output_type": "stream",
     "text": [
      "['unchanged' 'unchanged' 'unchanged' 'unchanged' 'unchanged' 'unchanged'\n",
      " 'unchanged' 'unchanged' 'unchanged' 'unchanged']\n",
      "\n",
      "KnownChemical - 'C21H41NO3' rt=440.74 max_intensity=831102.18\n",
      "KnownChemical - 'C21H41NO3' rt=440.74 max_intensity=833599.33\n",
      "KnownChemical - 'C21H41NO3' rt=440.74 max_intensity=832134.09\n"
     ]
    }
   ],
   "source": [
    "print(multiple_samples.samples[0][0])\n",
    "print(multiple_samples.samples[1][0])\n",
    "print(multiple_samples.samples[2][0])"
   ]
  },
  {
   "cell_type": "markdown",
   "metadata": {},
   "source": [
    "# Create Multiple Datasets"
   ]
  },
  {
   "cell_type": "code",
   "execution_count": 10,
   "metadata": {},
   "outputs": [
    {
     "name": "stderr",
     "output_type": "stream",
     "text": [
      "DEBUG:ChemicalCreator:200 ms1 peaks to be created.\n",
      "DEBUG:ChemicalCreator:i = 0\n",
      "DEBUG:ChemicalCreator:i = 25\n",
      "DEBUG:ChemicalCreator:i = 50\n",
      "DEBUG:ChemicalCreator:i = 75\n",
      "DEBUG:ChemicalCreator:i = 100\n",
      "DEBUG:ChemicalCreator:i = 125\n",
      "DEBUG:ChemicalCreator:i = 150\n",
      "DEBUG:ChemicalCreator:i = 175\n"
     ]
    }
   ],
   "source": [
    "min_ms1_intensity = 2E5\n",
    "rt_range = [(3*60, 21*60)]\n",
    "mz_range = [(0, 1000)]\n",
    "set_log_level_debug()\n",
    "dataset = chemicals.sample(cc, mz_range, rt_range, min_ms1_intensity, 200, 2, \"Known\", None, hmdb, 0.1)"
   ]
  },
  {
   "cell_type": "code",
   "execution_count": 12,
   "metadata": {
    "scrolled": true
   },
   "outputs": [
    {
     "name": "stderr",
     "output_type": "stream",
     "text": [
      "DEBUG:MultiSampleCreator:Classes, Statuses and Differences defined.\n",
      "DEBUG:MultiSampleCreator:Dataset 1 of 15 created.\n",
      "DEBUG:MultiSampleCreator:Dataset 2 of 15 created.\n",
      "DEBUG:MultiSampleCreator:Dataset 3 of 15 created.\n",
      "DEBUG:MultiSampleCreator:Dataset 4 of 15 created.\n",
      "DEBUG:MultiSampleCreator:Dataset 5 of 15 created.\n",
      "DEBUG:MultiSampleCreator:Dataset 6 of 15 created.\n",
      "DEBUG:MultiSampleCreator:Dataset 7 of 15 created.\n",
      "DEBUG:MultiSampleCreator:Dataset 8 of 15 created.\n",
      "DEBUG:MultiSampleCreator:Dataset 9 of 15 created.\n",
      "DEBUG:MultiSampleCreator:Dataset 10 of 15 created.\n",
      "DEBUG:MultiSampleCreator:Dataset 11 of 15 created.\n",
      "DEBUG:MultiSampleCreator:Dataset 12 of 15 created.\n",
      "DEBUG:MultiSampleCreator:Dataset 13 of 15 created.\n",
      "DEBUG:MultiSampleCreator:Dataset 14 of 15 created.\n",
      "DEBUG:MultiSampleCreator:Dataset 15 of 15 created.\n"
     ]
    }
   ],
   "source": [
    "n_samples = [5,5,5]\n",
    "classes = [\"class1\",\"class2\",\"class3\"]\n",
    "intensity_noise_sd = [1000]\n",
    "change_probabilities = [0.2,0.2]\n",
    "change_differences_means = [10000,20000]\n",
    "change_differences_sds = [0,0] # 0 means fixed difference between class and class1\n",
    "dropout_probabilities = [0.2,0.2,0.2]\n",
    "experimental_classes = None # [[\"male\",\"female\"],[\"Positive\",\"Negative\",\"Unknown\"]]\n",
    "experimental_probabilitities = None # [[0.5,0.5],[0.33,0.33,0.34]]\n",
    "experimental_sds = None # [[250],[250]]\n",
    "\n",
    "multiple_samples = MultiSampleCreator(dataset, n_samples, classes, intensity_noise_sd, \n",
    "                                      change_probabilities, change_differences_means, change_differences_sds, dropout_probabilities,\n",
    "                                     experimental_classes, experimental_probabilitities, experimental_sds)"
   ]
  },
  {
   "cell_type": "code",
   "execution_count": 13,
   "metadata": {},
   "outputs": [
    {
     "name": "stdout",
     "output_type": "stream",
     "text": [
      "['missing' 'unchanged' 'missing']\n",
      "['changed' 'unchanged' 'missing']\n",
      "['unchanged' 'changed' 'unchanged']\n",
      "\n",
      "KnownChemical - 'C16H10O6' rt=677.99 max_intensity=599590.29\n",
      "KnownChemical - 'C21H41NO3' rt=440.74 max_intensity=844200.14\n",
      "KnownChemical - 'C21H41NO3' rt=440.74 max_intensity=832027.17\n"
     ]
    }
   ],
   "source": [
    "print(multiple_samples.chemical_statuses[0][0:3])\n",
    "print(multiple_samples.chemical_statuses[1][0:3])\n",
    "print(multiple_samples.chemical_statuses[2][0:3])\n",
    "\n",
    "print( )\n",
    "\n",
    "print(multiple_samples.samples[0][0])\n",
    "print(multiple_samples.samples[5][0])\n",
    "print(multiple_samples.samples[10][0])\n"
   ]
  },
  {
   "cell_type": "code",
   "execution_count": 14,
   "metadata": {
    "scrolled": true
   },
   "outputs": [
    {
     "name": "stdout",
     "output_type": "stream",
     "text": [
      "199810.66612140546 class1\n",
      "199099.58348289476 class1\n",
      "199690.4869862474 class1\n",
      "200458.89942748673 class1\n",
      "199403.47481122456 class1\n",
      "\n",
      "201991.84376336203 class2 missing 0\n",
      "199396.63283881344 class2 missing 0\n",
      "200045.12749024702 class2 missing 0\n",
      "199157.52528710864 class2 missing 0\n",
      "201517.48651029007 class2 missing 0\n",
      "\n",
      "416598.1807030687 class3 missing 0\n",
      "414090.69737828185 class3 missing 0\n",
      "414020.3759501198 class3 missing 0\n",
      "414691.90588332113 class3 missing 0\n",
      "414079.23433044663 class3 missing 0\n"
     ]
    }
   ],
   "source": [
    "i = 2\n",
    "for j in range(len(multiple_samples.samples)):\n",
    "    if j>0 and multiple_samples.sample_classes[j] != multiple_samples.sample_classes[j-1]:\n",
    "        print( )\n",
    "    if multiple_samples.sample_classes[j] == multiple_samples.classes[0]:\n",
    "        print(multiple_samples.samples[j][i].max_intensity, multiple_samples.sample_classes[j])\n",
    "    else:\n",
    "        print(multiple_samples.samples[j][i].max_intensity, multiple_samples.sample_classes[j],\n",
    "              multiple_samples.chemical_statuses[np.where(np.array(multiple_samples.classes)==multiple_samples.sample_classes[j])[0][0]-1][i],\n",
    "             multiple_samples.chemical_differences_from_class1[np.where(np.array(multiple_samples.classes)==multiple_samples.sample_classes[j])[0][0]][i])"
   ]
  },
  {
   "cell_type": "code",
   "execution_count": 15,
   "metadata": {},
   "outputs": [
    {
     "name": "stderr",
     "output_type": "stream",
     "text": [
      "600.0685579180773it [00:07, 82.61it/s]                                                                                 \n"
     ]
    }
   ],
   "source": [
    "max_rt = 10*60                  # the maximum retention time of scans to generate\n",
    "N = 1                           # top-5 DDA fragmentation\n",
    "isolation_window = 0.5          # the isolation window in Dalton around a selected precursor ion\n",
    "rt_tol = 15                     # the rt window around a selected precursor ion to prevent it from fragmented multiple times\n",
    "min_ms1_intensity = 2E5         # the minimum ms1 peak intensity\n",
    "multi_dataset = multiple_samples.samples[0]\n",
    "\n",
    "mass_spec = IndependentMassSpectrometer(POSITIVE, multi_dataset, density=ps.density_estimator)\n",
    "controller = TopNController(mass_spec, N, isolation_window, rt_tol, min_ms1_intensity)\n",
    "\n",
    "set_log_level_warning() # We don't want to see too many messages as the controller is running\n",
    "# set_log_level_info()\n",
    "# set_log_level_debug()\n",
    "\n",
    "controller.run(0, max_rt)"
   ]
  },
  {
   "cell_type": "markdown",
   "metadata": {},
   "source": [
    "# To Do\n",
    "\n",
    "- Convolutional neural networks to identify ROI\n",
    "    - pad so all same length\n",
    "    - link ROI to final peaks to see how many peaks there are\n",
    "    - predict how many peaks in a ROI\n",
    "\n",
    "- Talk to Stefan about how basic strategies in the MS would work\n",
    "    - how does interact with exclusion window\n",
    "    - what does it do if we see no peaks"
   ]
  },
  {
   "cell_type": "code",
   "execution_count": null,
   "metadata": {},
   "outputs": [],
   "source": []
  },
  {
   "cell_type": "code",
   "execution_count": null,
   "metadata": {},
   "outputs": [],
   "source": []
  },
  {
   "cell_type": "code",
   "execution_count": null,
   "metadata": {},
   "outputs": [],
   "source": []
  },
  {
   "cell_type": "code",
   "execution_count": null,
   "metadata": {},
   "outputs": [],
   "source": []
  },
  {
   "cell_type": "code",
   "execution_count": null,
   "metadata": {},
   "outputs": [],
   "source": []
  },
  {
   "cell_type": "code",
   "execution_count": null,
   "metadata": {},
   "outputs": [],
   "source": []
  },
  {
   "cell_type": "code",
   "execution_count": null,
   "metadata": {},
   "outputs": [],
   "source": []
  },
  {
   "cell_type": "code",
   "execution_count": null,
   "metadata": {},
   "outputs": [],
   "source": []
  },
  {
   "cell_type": "code",
   "execution_count": null,
   "metadata": {},
   "outputs": [],
   "source": []
  }
 ],
 "metadata": {
  "kernelspec": {
   "display_name": "Python 3",
   "language": "python",
   "name": "python3"
  },
  "language_info": {
   "codemirror_mode": {
    "name": "ipython",
    "version": 3
   },
   "file_extension": ".py",
   "mimetype": "text/x-python",
   "name": "python",
   "nbconvert_exporter": "python",
   "pygments_lexer": "ipython3",
   "version": "3.6.6"
  }
 },
 "nbformat": 4,
 "nbformat_minor": 2
}
