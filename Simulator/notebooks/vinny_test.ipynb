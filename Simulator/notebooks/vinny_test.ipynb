{
 "cells": [
  {
   "cell_type": "code",
   "execution_count": 1,
   "metadata": {},
   "outputs": [],
   "source": [
    "import numpy as np\n",
    "import sys\n",
    "import scipy.stats\n",
    "import re"
   ]
  },
  {
   "cell_type": "code",
   "execution_count": 2,
   "metadata": {},
   "outputs": [],
   "source": [
    "%load_ext autoreload\n",
    "%autoreload 2"
   ]
  },
  {
   "cell_type": "code",
   "execution_count": 3,
   "metadata": {},
   "outputs": [],
   "source": [
    "sys.path.append('../codes')"
   ]
  },
  {
   "cell_type": "code",
   "execution_count": 4,
   "metadata": {},
   "outputs": [
    {
     "name": "stdout",
     "output_type": "stream",
     "text": [
      "Pretty printing has been turned OFF\n"
     ]
    }
   ],
   "source": [
    "%pprint"
   ]
  },
  {
   "cell_type": "code",
   "execution_count": 5,
   "metadata": {},
   "outputs": [],
   "source": [
    "from VMSfunctions.Common import *\n",
    "from VMSfunctions.Chemicals import *\n",
    "from VMSfunctions.Chromatograms import *\n",
    "from VMSfunctions.MassSpec import *"
   ]
  },
  {
   "cell_type": "markdown",
   "metadata": {},
   "source": [
    "# Functional Example"
   ]
  },
  {
   "cell_type": "code",
   "execution_count": 6,
   "metadata": {},
   "outputs": [],
   "source": [
    "chrom = FunctionalChromatogram(\"normal\", [0,1])\n",
    "frag1 = MSN(50,2,0.5)\n",
    "frag2 = MSN(55,2,0.7)\n",
    "chem = UnknownChemical(100, 100, 10000, chrom, [frag1, frag2])\n",
    "frag1.parent = chem\n",
    "frag2.parent = chem\n",
    "\n",
    "frag1_1 = MSN(30,3,0.3,None,frag1)\n",
    "frag1_2 = MSN(35,3,0.5,None,frag1)\n",
    "frag1.children = [frag1_1, frag1_2]"
   ]
  },
  {
   "cell_type": "code",
   "execution_count": 7,
   "metadata": {},
   "outputs": [
    {
     "name": "stdout",
     "output_type": "stream",
     "text": [
      "[(100, 1, 'Mono')]\n",
      "[('M+H', 1)]\n"
     ]
    }
   ],
   "source": [
    "print(chem.isotopes)\n",
    "print(chem.adducts)"
   ]
  },
  {
   "cell_type": "code",
   "execution_count": 8,
   "metadata": {},
   "outputs": [
    {
     "data": {
      "text/plain": [
       "[(98.992724, 1164.2509265114713)]"
      ]
     },
     "execution_count": 8,
     "metadata": {},
     "output_type": "execute_result"
    }
   ],
   "source": [
    "chem.get_all_mz_peaks(101,1,[[(0,300)]])"
   ]
  },
  {
   "cell_type": "code",
   "execution_count": 9,
   "metadata": {},
   "outputs": [
    {
     "data": {
      "text/plain": [
       "[(48.992724, 582.1254632557357), (53.992724, 814.9756485580299)]"
      ]
     },
     "execution_count": 9,
     "metadata": {},
     "output_type": "execute_result"
    }
   ],
   "source": [
    "chem.get_all_mz_peaks(101,2,[[(0,300)]])"
   ]
  },
  {
   "cell_type": "code",
   "execution_count": 10,
   "metadata": {
    "scrolled": true
   },
   "outputs": [
    {
     "data": {
      "text/plain": [
       "[(28.992724, 174.6376389767207), (33.992724, 291.06273162786783)]"
      ]
     },
     "execution_count": 10,
     "metadata": {},
     "output_type": "execute_result"
    }
   ],
   "source": [
    "chem.get_all_mz_peaks(101,3,[[(0,300)],[(0,300)]])"
   ]
  },
  {
   "cell_type": "markdown",
   "metadata": {},
   "source": [
    "# Emprical Example"
   ]
  },
  {
   "cell_type": "code",
   "execution_count": 11,
   "metadata": {},
   "outputs": [],
   "source": [
    "chrom = FunctionalChromatogram(\"normal\", [0,1])\n",
    "frag1 = MSN(50,2,0.5)\n",
    "frag2 = MSN(55,2,0.7)\n",
    "chrom = FunctionalChromatogram(\"normal\", [0,1])\n",
    "formula = Formula(\"C12HgFS\",200)\n",
    "isotopes = Isotopes(formula)\n",
    "adducts = Adducts(formula)\n",
    "chem2 = KnownChemical(formula,isotopes,adducts,100, 10000, chrom, [frag1, frag2])\n",
    "frag1.parent = chem2\n",
    "frag2.parent = chem2\n",
    "\n",
    "frag1_1 = MSN(30,3,0.3,None,frag1)\n",
    "frag1_2 = MSN(35,3,0.5,None,frag1)\n",
    "frag1.children = [frag1_1, frag1_2]"
   ]
  },
  {
   "cell_type": "code",
   "execution_count": 12,
   "metadata": {},
   "outputs": [
    {
     "name": "stdout",
     "output_type": "stream",
     "text": [
      "[('M+H', 1.0)]\n",
      "[(200, 0.8822479928635149, 'Mono'), (198.9966451622, 0.11775200713648519, '1C13')]\n"
     ]
    }
   ],
   "source": [
    "print(chem2.adducts)\n",
    "print(chem2.isotopes)"
   ]
  },
  {
   "cell_type": "code",
   "execution_count": 13,
   "metadata": {},
   "outputs": [
    {
     "data": {
      "text/plain": [
       "[(198.992724, 1027.158043104233), (197.9893691622, 137.09288340723828)]"
      ]
     },
     "execution_count": 13,
     "metadata": {},
     "output_type": "execute_result"
    }
   ],
   "source": [
    "chem2.get_all_mz_peaks(101,1,[[(0,300)]])"
   ]
  },
  {
   "cell_type": "code",
   "execution_count": 14,
   "metadata": {},
   "outputs": [
    {
     "data": {
      "text/plain": [
       "[(48.992724, 513.5790215521165), (53.992724, 719.010630172963)]"
      ]
     },
     "execution_count": 14,
     "metadata": {},
     "output_type": "execute_result"
    }
   ],
   "source": [
    "chem2.get_all_mz_peaks(101,2,[[(0,300)]])"
   ]
  },
  {
   "cell_type": "code",
   "execution_count": 15,
   "metadata": {},
   "outputs": [
    {
     "data": {
      "text/plain": [
       "[(28.992724, 154.07370646563496), (33.992724, 256.78951077605825)]"
      ]
     },
     "execution_count": 15,
     "metadata": {},
     "output_type": "execute_result"
    }
   ],
   "source": [
    "chem2.get_all_mz_peaks(101,3,[[(0,300)],[(0,300)]])"
   ]
  },
  {
   "cell_type": "markdown",
   "metadata": {},
   "source": [
    "# Mass Spec test"
   ]
  },
  {
   "cell_type": "code",
   "execution_count": 16,
   "metadata": {},
   "outputs": [
    {
     "name": "stderr",
     "output_type": "stream",
     "text": [
      "c:\\users\\vinny\\.virtualenvs\\simulator-r22bo2kk\\lib\\site-packages\\sklearn\\base.py:251: UserWarning:\n",
      "\n",
      "Trying to unpickle estimator KernelDensity from version 0.20.0 when using version 0.20.2. This might lead to breaking code or invalid results. Use at your own risk.\n",
      "\n"
     ]
    },
    {
     "name": "stdout",
     "output_type": "stream",
     "text": [
      "0\n"
     ]
    },
    {
     "name": "stderr",
     "output_type": "stream",
     "text": [
      "../codes\\VMSfunctions\\Common.py:49: RuntimeWarning:\n",
      "\n",
      "divide by zero encountered in double_scalars\n",
      "\n"
     ]
    },
    {
     "name": "stdout",
     "output_type": "stream",
     "text": [
      "5000\n",
      "10000\n",
      "15000\n",
      "20000\n",
      "25000\n",
      "30000\n",
      "35000\n",
      "40000\n",
      "45000\n",
      "50000\n",
      "55000\n"
     ]
    }
   ],
   "source": [
    "ps = load_obj('../models/peak_sampler_4_beers.p')\n",
    "xcms_output = '../models/beer_ms1_peaks.csv.gz'\n",
    "chromatograms = ChromatogramCreator(xcms_output)"
   ]
  },
  {
   "cell_type": "code",
   "execution_count": 18,
   "metadata": {},
   "outputs": [],
   "source": [
    "chemicals = ChemicalCreator(ps, chromatograms)"
   ]
  },
  {
   "cell_type": "code",
   "execution_count": 19,
   "metadata": {},
   "outputs": [],
   "source": [
    "min_ms1_intensity = 2E5\n",
    "min_rt = 3*60\n",
    "max_rt = 21*60\n",
    "dataset = chemicals.sample(min_rt, max_rt, min_ms1_intensity, 100, 2, \"Unknown\",\"Empirical\",None, False)"
   ]
  },
  {
   "cell_type": "code",
   "execution_count": 21,
   "metadata": {},
   "outputs": [],
   "source": [
    "scan_parameters = {\n",
    "    'isolation_windows': [[(0, 1e3)]], # TODO: change to dictionary?\n",
    "    'ms_level': 1\n",
    "}    \n",
    "sampled_chemicals = chemicals.sample(min_rt, max_rt, min_ms1_intensity, 100, 2, \"Unknown\",\"Empirical\",None, False)\n",
    "mass_spec = IndependentMassSpectrometer(sampled_chemicals, scan_parameters)"
   ]
  },
  {
   "cell_type": "code",
   "execution_count": 31,
   "metadata": {},
   "outputs": [],
   "source": [
    "scan_windows = {\n",
    "    2: [(0, 20), (0, 1e3)],\n",
    "}\n",
    "mass_spec._get_all_mz_peaks(dataset[0], 874, 3, [[(0, 1e3)],[(0, 1e3)]])"
   ]
  },
  {
   "cell_type": "code",
   "execution_count": null,
   "metadata": {},
   "outputs": [],
   "source": []
  }
 ],
 "metadata": {
  "kernelspec": {
   "display_name": "Python 3",
   "language": "python",
   "name": "python3"
  },
  "language_info": {
   "codemirror_mode": {
    "name": "ipython",
    "version": 3
   },
   "file_extension": ".py",
   "mimetype": "text/x-python",
   "name": "python",
   "nbconvert_exporter": "python",
   "pygments_lexer": "ipython3",
   "version": "3.6.6"
  }
 },
 "nbformat": 4,
 "nbformat_minor": 2
}
