{
 "cells": [
  {
   "cell_type": "code",
   "execution_count": 3,
   "metadata": {},
   "outputs": [],
   "source": [
    "import numpy as np\n",
    "import sys\n",
    "import scipy.stats\n",
    "import re"
   ]
  },
  {
   "cell_type": "code",
   "execution_count": 4,
   "metadata": {},
   "outputs": [],
   "source": [
    "%load_ext autoreload\n",
    "%autoreload 2"
   ]
  },
  {
   "cell_type": "code",
   "execution_count": 5,
   "metadata": {},
   "outputs": [],
   "source": [
    "sys.path.append('../codes')"
   ]
  },
  {
   "cell_type": "code",
   "execution_count": 6,
   "metadata": {},
   "outputs": [
    {
     "name": "stdout",
     "output_type": "stream",
     "text": [
      "Pretty printing has been turned OFF\n"
     ]
    }
   ],
   "source": [
    "%pprint"
   ]
  },
  {
   "cell_type": "code",
   "execution_count": 27,
   "metadata": {},
   "outputs": [],
   "source": [
    "from VMSfunctions.Common import *\n",
    "from VMSfunctions.model import *"
   ]
  },
  {
   "cell_type": "markdown",
   "metadata": {},
   "source": [
    "# Chemicals"
   ]
  },
  {
   "cell_type": "code",
   "execution_count": 28,
   "metadata": {},
   "outputs": [],
   "source": [
    "# read this in? https://www.sisweb.com/referenc/source/exactmas.htm\n",
    "\n",
    "def ElementCharacterisitics(object):\n",
    "    self.mz_diff = 1.0033548378\n",
    "    self.carbon_proportions = [0.989, 0.011]   # 12, 13\n",
    "    self.oxygen_proportions = [0.9976, 0.0004, 0.002] # 16, 17, 18"
   ]
  },
  {
   "cell_type": "code",
   "execution_count": 29,
   "metadata": {},
   "outputs": [],
   "source": [
    "class Formula(object):\n",
    "    def __init__(self, formula_string, mz):\n",
    "        self.formula_string = formula_string\n",
    "        self.mz = mz # calculate this later\n",
    "        \n",
    "    def _get_mz(self):\n",
    "        return self.mz\n",
    "    \n",
    "    def _get_n_element(self, element):\n",
    "        if self.formula_string == element:\n",
    "            return 1\n",
    "        split_formula = self.formula_string.split(element)\n",
    "        if(len(split_formula)==1):\n",
    "            return 0\n",
    "        for i in range(len(split_formula)):\n",
    "            if split_formula[i+1][0].isdigit():\n",
    "                return float(re.split('[A-Z]+',split_formula[i+1])[0])\n",
    "            else:\n",
    "                if split_formula[i+1][0].islower():\n",
    "                    pass\n",
    "                else:\n",
    "                    return 1\n",
    "        return 0"
   ]
  },
  {
   "cell_type": "code",
   "execution_count": 30,
   "metadata": {},
   "outputs": [],
   "source": [
    "class Isotopes(object):\n",
    "    def __init__(self, formula):\n",
    "        self.formula = formula\n",
    "        self.C12_proportion = 0.989\n",
    "        self.mz_diff = 1.0033548378\n",
    "        \n",
    "    def get_isotopes(self, total_proportion):\n",
    "        # update this to work properly\n",
    "        peaks = [() for i in range(len(self._get_isotope_proportions(total_proportion)))]\n",
    "        for i in range(len(peaks)):\n",
    "            peaks[i] += (self._get_isotope_mz(self._get_isotope_names(i)),)\n",
    "            peaks[i] += (self._get_isotope_proportions(total_proportion)[i],)\n",
    "            peaks[i] += (self._get_isotope_names(i),)\n",
    "        return peaks\n",
    "    # outputs [(mz_1, intensity_proportion_1, isotope_name_1),...,(mz_n, intensity_proportion_n, isotope_name_n)]\n",
    "    \n",
    "    def _get_isotope_proportions(self, total_proportion):\n",
    "        proportions = [] \n",
    "        while sum(proportions) < total_proportion:\n",
    "            proportions.extend([scipy.stats.binom.pmf(len(proportions),self.formula._get_n_element(\"C\"),1-self.C12_proportion)])        \n",
    "        normalised_proportions = [proportions[i]/sum(proportions) for i in range(len(proportions))]\n",
    "        return normalised_proportions\n",
    "    \n",
    "    def _get_isotope_names(self, isotope_number):\n",
    "        if isotope_number == 0:\n",
    "            return \"Mono\"\n",
    "        else:\n",
    "            return str(isotope_number) + \"C13\"\n",
    "    \n",
    "    def _get_isotope_mz(self, isotope):\n",
    "        if isotope == \"Mono\":\n",
    "            return self.formula._get_mz()\n",
    "        elif isotope[-3:] == \"C13\":\n",
    "            return self.formula._get_mz() - float(isotope.split(\"C13\")[0]) * self.mz_diff\n",
    "        else:\n",
    "            return None\n",
    "            # turn this into a proper function"
   ]
  },
  {
   "cell_type": "code",
   "execution_count": 81,
   "metadata": {},
   "outputs": [],
   "source": [
    "class Aducts(object):\n",
    "    def __init__(self, formula):\n",
    "        self.aduct_names = [\"M+H\", \"[M+ACN]+H\", \"[M+CH3OH]+H\", \"[M+NH3]+H\"] # remove eventually\n",
    "        self.formula = formula\n",
    "        \n",
    "    def get_aducts(self):\n",
    "        aducts = []\n",
    "        proportions = self._get_aduct_proportions()\n",
    "        for j in range(len(self.aduct_names)):\n",
    "            if proportions[j] != 0:\n",
    "                aducts.extend([(self._get_aduct_names()[j], proportions[j])])\n",
    "        return aducts\n",
    "    \n",
    "    def _get_aduct_proportions(self):\n",
    "        # replace this with something proper\n",
    "        proportions = np.random.binomial(1,0.1,3) * np.random.uniform(0.1,0.2,3)\n",
    "        proportions = [1-sum(proportions)] + proportions.tolist()\n",
    "        return proportions\n",
    "    \n",
    "    def _get_aduct_names(self):\n",
    "        return self.aduct_names"
   ]
  },
  {
   "cell_type": "code",
   "execution_count": 82,
   "metadata": {},
   "outputs": [
    {
     "name": "stdout",
     "output_type": "stream",
     "text": [
      "C22HgFS\n",
      "22.0\n",
      "[(100, 0.7853807179964822, 'Mono'), (98.9966451622, 0.19217607053099056, '1C13'), (97.9932903244, 0.022443211472527185, '2C13')]\n",
      "[('M+H', 1.0)]\n"
     ]
    }
   ],
   "source": [
    "# requires you to run stuff below to test\n",
    "chrom = FunctionalChromatogram(\"normal\", [0,1])\n",
    "formula = Formula(\"C22HgFS\",100)\n",
    "isotopes = Isotopes(formula)\n",
    "aducts = Aducts(formula)\n",
    "chem = KnownChemical(formula,isotopes,aducts,100, 10000, chrom, None)\n",
    "print(chem.formula.formula_string)\n",
    "print(chem.formula._get_n_element(\"C\"))\n",
    "print(chem.isotopes)\n",
    "print(chem.aducts)"
   ]
  },
  {
   "cell_type": "code",
   "execution_count": 83,
   "metadata": {},
   "outputs": [],
   "source": [
    "def aductTransformation(mz, aduct):\n",
    "    if aduct == \"M+H\":\n",
    "        return (mz - 1.007276)\n",
    "    elif aduct == \"[M+ACN]+H\":\n",
    "        return (mz - 42.03383)\n",
    "    elif aduct == \"[M+CH3OH]+H\":\n",
    "        return (mz - 33.03349)\n",
    "    elif aduct == \"[M+NH3]+H\":\n",
    "        return (mz - 18.03383)    \n",
    "    else:\n",
    "        return None\n",
    "    # turn this into a proper function"
   ]
  },
  {
   "cell_type": "code",
   "execution_count": 84,
   "metadata": {},
   "outputs": [],
   "source": [
    "class Chemical(object):\n",
    "    \n",
    "    def __repr__(self):\n",
    "        raise NotImplementedError()\n",
    "        \n",
    "    def get_all_mz_peaks(self, query_rt, ms_level, isolation_windows):\n",
    "        if ms_level == 1:\n",
    "            if not self._rt_match(query_rt):\n",
    "                return None\n",
    "        mz_peaks = []\n",
    "        for which_isotope in range(len(self.isotopes)):\n",
    "            for which_aduct in range(len(self._get_aducts()[which_isotope])):\n",
    "                mz_peaks.extend(self._get_mz_peaks(query_rt, ms_level, isolation_windows, which_isotope, which_aduct))\n",
    "        if mz_peaks == []:\n",
    "            return None\n",
    "        else:\n",
    "            return mz_peaks\n",
    "\n",
    "    def _get_mz_peaks(self, query_rt, ms_level, isolation_windows, which_isotope, which_aduct):\n",
    "        mz_peaks = []\n",
    "        if ms_level ==1 and self.ms_level == 1:\n",
    "            if self._isolation_match(query_rt, isolation_windows[0], which_isotope, which_aduct): # check just first set of windows\n",
    "                intensity = self._get_intensity(query_rt, which_isotope, which_aduct)\n",
    "                mz = self._get_mz(query_rt, which_isotope, which_aduct)\n",
    "                mz_peaks.extend([(mz, intensity)])\n",
    "        elif ms_level > 1 and which_isotope > 0:\n",
    "            pass\n",
    "        elif ms_level == self.ms_level:\n",
    "            intensity = self._get_intensity(query_rt, which_isotope, which_aduct)\n",
    "            mz = self._get_mz(query_rt, which_isotope, which_aduct)\n",
    "            return [(mz, intensity)]\n",
    "        else:\n",
    "            if self._isolation_match(query_rt, isolation_windows[self.ms_level-1], which_isotope, which_aduct) and self.children != None:\n",
    "                for i in range(len(self.children)):\n",
    "                    mz_peaks.extend(self.children[i]._get_mz_peaks(query_rt, ms_level, isolation_windows, which_isotope, which_aduct))\n",
    "            else:\n",
    "                return []\n",
    "        return mz_peaks\n",
    "        \n",
    "    def _get_aducts(self):\n",
    "        if self.ms_level == 1:\n",
    "            return self.aducts\n",
    "        else:\n",
    "            return self.parent._get_aducts()\n",
    "        \n",
    "    def _rt_match(self, query_rt):\n",
    "        if self.ms_level == 1:\n",
    "            if self.chromatogram._rt_match(query_rt - self.rt) == True:\n",
    "                return True\n",
    "            else:\n",
    "                return False\n",
    "        else:\n",
    "            True\n",
    "        \n",
    "    def _get_intensity(self, query_rt, which_isotope, which_aduct):\n",
    "        if self.ms_level == 1:\n",
    "            intensity = self.isotopes[which_isotope][1] * self._get_aducts()[which_isotope][which_aduct][1] * self.max_intensity\n",
    "            return (intensity * self.chromatogram.get_relative_intensity(query_rt - self.rt))\n",
    "        else:\n",
    "            return (self.parent._get_intensity(query_rt, which_isotope, which_aduct) * self.parent_mass_prop)\n",
    "\n",
    "    def _get_mz(self, query_rt, which_isotope, which_aduct):\n",
    "        if self.ms_level == 1:\n",
    "            return (aductTransformation(self.isotopes[which_isotope][0], self._get_aducts()[which_isotope][which_aduct][0]) + self.chromatogram.get_relative_mz(query_rt - self.rt))\n",
    "        else:\n",
    "            return (aductTransformation(self.isotopes[which_isotope][0], self._get_aducts()[which_isotope][which_aduct][0]))\n",
    "            \n",
    "    def _isolation_match(self, query_rt, isolation_windows, which_isotope, which_aduct):                        \n",
    "        # assumes list is formated like:\n",
    "        # [(min_1,max_1),(min_2,max_2),...]\n",
    "        for window in isolation_windows:\n",
    "            if (self._get_mz(query_rt, which_isotope, which_aduct) > window[0] and self._get_mz(query_rt, which_isotope, which_aduct) <= window[1]):\n",
    "                return True\n",
    "        return False"
   ]
  },
  {
   "cell_type": "code",
   "execution_count": 85,
   "metadata": {},
   "outputs": [],
   "source": [
    "class UnknownChemical(Chemical):\n",
    "    \"\"\"\n",
    "    Chemical from an unknown chemical formula\n",
    "    \"\"\"\n",
    "    def __init__(self, mz, rt, max_intensity, chromatogram, children = None):\n",
    "        self.max_intensity = max_intensity\n",
    "        self.isotopes = [(mz, 1, \"Mono\")] # [(mz, intensity_proportion, isotope,name)]\n",
    "        self.aducts = [[(\"M+H\",1)]]\n",
    "        self.rt = rt\n",
    "        self.chromatogram = chromatogram\n",
    "        self.children = children\n",
    "        self.ms_level = 1\n",
    "        \n",
    "    def __repr__(self):\n",
    "         return 'UnknownChemical mz=%.4f rt=%.2f max_intensity=%.2f' % (self.isotopes[0][0], self.rt, self.isotopes[0][1])"
   ]
  },
  {
   "cell_type": "code",
   "execution_count": 86,
   "metadata": {},
   "outputs": [],
   "source": [
    "class KnownChemical(Chemical):\n",
    "    \"\"\"\n",
    "    Chemical from an known chemical formula\n",
    "    \"\"\"\n",
    "    def __init__(self, formula, isotopes, aducts, rt, max_intensity, chromatogram, children = None, total_proportion = 0.99):\n",
    "        self.formula = formula\n",
    "        self.isotopes = isotopes.get_isotopes(total_proportion)\n",
    "        self.aducts = aducts.get_aducts()\n",
    "        self.rt = rt\n",
    "        self.max_intensity = max_intensity\n",
    "        self.chromatogram = chromatogram\n",
    "        self.children = children\n",
    "        self.ms_level = 1\n",
    "    \n",
    "    def __repr__(self):\n",
    "         return 'KnownChemical - %r' % (self.formula.formula_string)"
   ]
  },
  {
   "cell_type": "code",
   "execution_count": 87,
   "metadata": {},
   "outputs": [],
   "source": [
    "class MSN(Chemical):\n",
    "    \"\"\"\n",
    "    ms2+ fragments\n",
    "    \"\"\"\n",
    "    def __init__(self, mz, ms_level, parent_mass_prop, children=None, parent= None):\n",
    "        self.isotopes = [(mz,None,\"MSN\")]\n",
    "        self.ms_level = ms_level\n",
    "        self.parent_mass_prop = parent_mass_prop\n",
    "        self.children = children\n",
    "        self.parent = parent\n",
    "        \n",
    "    def __repr__(self):\n",
    "         return 'MSN Fragment mz=%.4f ms_level=%d' % (self.isotopes[0][0], self.ms_level)"
   ]
  },
  {
   "cell_type": "code",
   "execution_count": 88,
   "metadata": {},
   "outputs": [],
   "source": [
    "chrom = FunctionalChromatogram(\"normal\", [0,1])\n",
    "frag1 = MSN(50,2,0.5)\n",
    "frag2 = MSN(55,2,0.7)\n",
    "chem = UnknownChemical(100, 100, 10000, chrom, [frag1, frag2])\n",
    "frag1.parent = chem\n",
    "frag2.parent = chem\n",
    "\n",
    "frag1_1 = MSN(30,3,0.3,None,frag1)\n",
    "frag1_2 = MSN(35,3,0.5,None,frag1)\n",
    "frag1.children = [frag1_1, frag1_2]"
   ]
  },
  {
   "cell_type": "code",
   "execution_count": 89,
   "metadata": {},
   "outputs": [
    {
     "data": {
      "text/plain": [
       "[(98.992724, 1164.2509265114713)]"
      ]
     },
     "execution_count": 89,
     "metadata": {},
     "output_type": "execute_result"
    }
   ],
   "source": [
    "chem.get_all_mz_peaks(101,1,[[(0,300)]])"
   ]
  },
  {
   "cell_type": "code",
   "execution_count": 90,
   "metadata": {},
   "outputs": [
    {
     "data": {
      "text/plain": [
       "[(48.992724, 582.1254632557357), (53.992724, 814.9756485580299)]"
      ]
     },
     "execution_count": 90,
     "metadata": {},
     "output_type": "execute_result"
    }
   ],
   "source": [
    "chem.get_all_mz_peaks(101,2,[[(0,300)]])"
   ]
  },
  {
   "cell_type": "code",
   "execution_count": 91,
   "metadata": {
    "scrolled": true
   },
   "outputs": [
    {
     "data": {
      "text/plain": [
       "[(28.992724, 174.6376389767207), (33.992724, 291.06273162786783)]"
      ]
     },
     "execution_count": 91,
     "metadata": {},
     "output_type": "execute_result"
    }
   ],
   "source": [
    "chem.get_all_mz_peaks(101,3,[[(0,300)],[(0,300)]])"
   ]
  },
  {
   "cell_type": "code",
   "execution_count": 92,
   "metadata": {},
   "outputs": [],
   "source": [
    "# this doesnt work - will fix shortly\n",
    "chrom = FunctionalChromatogram(\"normal\", [0,1])\n",
    "frag1 = MSN(50,2,0.5)\n",
    "frag2 = MSN(55,2,0.7)\n",
    "chrom = FunctionalChromatogram(\"normal\", [0,1])\n",
    "formula = Formula(\"C22HgFS\",100)\n",
    "isotopes = Isotopes(formula)\n",
    "aducts = Aducts(formula)\n",
    "chem2 = KnownChemical(formula,isotopes,aducts,100, 10000, chrom, None)\n",
    "frag1.parent = chem2\n",
    "frag2.parent = chem2\n",
    "\n",
    "frag1_1 = MSN(30,3,0.3,None,frag1)\n",
    "frag1_2 = MSN(35,3,0.5,None,frag1)\n",
    "frag1.children = [frag1_1, frag1_2]"
   ]
  },
  {
   "cell_type": "code",
   "execution_count": 93,
   "metadata": {},
   "outputs": [
    {
     "ename": "TypeError",
     "evalue": "unsupported operand type(s) for +: 'NoneType' and 'int'",
     "output_type": "error",
     "traceback": [
      "\u001b[1;31m---------------------------------------------------------------------------\u001b[0m",
      "\u001b[1;31mTypeError\u001b[0m                                 Traceback (most recent call last)",
      "\u001b[1;32m<ipython-input-93-9d81ba0e1346>\u001b[0m in \u001b[0;36m<module>\u001b[1;34m\u001b[0m\n\u001b[1;32m----> 1\u001b[1;33m \u001b[0mchem2\u001b[0m\u001b[1;33m.\u001b[0m\u001b[0mget_all_mz_peaks\u001b[0m\u001b[1;33m(\u001b[0m\u001b[1;36m101\u001b[0m\u001b[1;33m,\u001b[0m\u001b[1;36m1\u001b[0m\u001b[1;33m,\u001b[0m\u001b[1;33m[\u001b[0m\u001b[1;33m[\u001b[0m\u001b[1;33m(\u001b[0m\u001b[1;36m0\u001b[0m\u001b[1;33m,\u001b[0m\u001b[1;36m300\u001b[0m\u001b[1;33m)\u001b[0m\u001b[1;33m]\u001b[0m\u001b[1;33m]\u001b[0m\u001b[1;33m)\u001b[0m\u001b[1;33m\u001b[0m\u001b[0m\n\u001b[0m",
      "\u001b[1;32m<ipython-input-84-6f4924c67849>\u001b[0m in \u001b[0;36mget_all_mz_peaks\u001b[1;34m(self, query_rt, ms_level, isolation_windows)\u001b[0m\n\u001b[0;32m     11\u001b[0m         \u001b[1;32mfor\u001b[0m \u001b[0mwhich_isotope\u001b[0m \u001b[1;32min\u001b[0m \u001b[0mrange\u001b[0m\u001b[1;33m(\u001b[0m\u001b[0mlen\u001b[0m\u001b[1;33m(\u001b[0m\u001b[0mself\u001b[0m\u001b[1;33m.\u001b[0m\u001b[0misotopes\u001b[0m\u001b[1;33m)\u001b[0m\u001b[1;33m)\u001b[0m\u001b[1;33m:\u001b[0m\u001b[1;33m\u001b[0m\u001b[0m\n\u001b[0;32m     12\u001b[0m             \u001b[1;32mfor\u001b[0m \u001b[0mwhich_aduct\u001b[0m \u001b[1;32min\u001b[0m \u001b[0mrange\u001b[0m\u001b[1;33m(\u001b[0m\u001b[0mlen\u001b[0m\u001b[1;33m(\u001b[0m\u001b[0mself\u001b[0m\u001b[1;33m.\u001b[0m\u001b[0m_get_aducts\u001b[0m\u001b[1;33m(\u001b[0m\u001b[1;33m)\u001b[0m\u001b[1;33m[\u001b[0m\u001b[0mwhich_isotope\u001b[0m\u001b[1;33m]\u001b[0m\u001b[1;33m)\u001b[0m\u001b[1;33m)\u001b[0m\u001b[1;33m:\u001b[0m\u001b[1;33m\u001b[0m\u001b[0m\n\u001b[1;32m---> 13\u001b[1;33m                 \u001b[0mmz_peaks\u001b[0m\u001b[1;33m.\u001b[0m\u001b[0mextend\u001b[0m\u001b[1;33m(\u001b[0m\u001b[0mself\u001b[0m\u001b[1;33m.\u001b[0m\u001b[0m_get_mz_peaks\u001b[0m\u001b[1;33m(\u001b[0m\u001b[0mquery_rt\u001b[0m\u001b[1;33m,\u001b[0m \u001b[0mms_level\u001b[0m\u001b[1;33m,\u001b[0m \u001b[0misolation_windows\u001b[0m\u001b[1;33m,\u001b[0m \u001b[0mwhich_isotope\u001b[0m\u001b[1;33m,\u001b[0m \u001b[0mwhich_aduct\u001b[0m\u001b[1;33m)\u001b[0m\u001b[1;33m)\u001b[0m\u001b[1;33m\u001b[0m\u001b[0m\n\u001b[0m\u001b[0;32m     14\u001b[0m         \u001b[1;32mif\u001b[0m \u001b[0mmz_peaks\u001b[0m \u001b[1;33m==\u001b[0m \u001b[1;33m[\u001b[0m\u001b[1;33m]\u001b[0m\u001b[1;33m:\u001b[0m\u001b[1;33m\u001b[0m\u001b[0m\n\u001b[0;32m     15\u001b[0m             \u001b[1;32mreturn\u001b[0m \u001b[1;32mNone\u001b[0m\u001b[1;33m\u001b[0m\u001b[0m\n",
      "\u001b[1;32m<ipython-input-84-6f4924c67849>\u001b[0m in \u001b[0;36m_get_mz_peaks\u001b[1;34m(self, query_rt, ms_level, isolation_windows, which_isotope, which_aduct)\u001b[0m\n\u001b[0;32m     20\u001b[0m         \u001b[0mmz_peaks\u001b[0m \u001b[1;33m=\u001b[0m \u001b[1;33m[\u001b[0m\u001b[1;33m]\u001b[0m\u001b[1;33m\u001b[0m\u001b[0m\n\u001b[0;32m     21\u001b[0m         \u001b[1;32mif\u001b[0m \u001b[0mms_level\u001b[0m \u001b[1;33m==\u001b[0m\u001b[1;36m1\u001b[0m \u001b[1;32mand\u001b[0m \u001b[0mself\u001b[0m\u001b[1;33m.\u001b[0m\u001b[0mms_level\u001b[0m \u001b[1;33m==\u001b[0m \u001b[1;36m1\u001b[0m\u001b[1;33m:\u001b[0m\u001b[1;33m\u001b[0m\u001b[0m\n\u001b[1;32m---> 22\u001b[1;33m             \u001b[1;32mif\u001b[0m \u001b[0mself\u001b[0m\u001b[1;33m.\u001b[0m\u001b[0m_isolation_match\u001b[0m\u001b[1;33m(\u001b[0m\u001b[0mquery_rt\u001b[0m\u001b[1;33m,\u001b[0m \u001b[0misolation_windows\u001b[0m\u001b[1;33m[\u001b[0m\u001b[1;36m0\u001b[0m\u001b[1;33m]\u001b[0m\u001b[1;33m,\u001b[0m \u001b[0mwhich_isotope\u001b[0m\u001b[1;33m,\u001b[0m \u001b[0mwhich_aduct\u001b[0m\u001b[1;33m)\u001b[0m\u001b[1;33m:\u001b[0m \u001b[1;31m# check just first set of windows\u001b[0m\u001b[1;33m\u001b[0m\u001b[0m\n\u001b[0m\u001b[0;32m     23\u001b[0m                 \u001b[0mintensity\u001b[0m \u001b[1;33m=\u001b[0m \u001b[0mself\u001b[0m\u001b[1;33m.\u001b[0m\u001b[0m_get_intensity\u001b[0m\u001b[1;33m(\u001b[0m\u001b[0mquery_rt\u001b[0m\u001b[1;33m,\u001b[0m \u001b[0mwhich_isotope\u001b[0m\u001b[1;33m,\u001b[0m \u001b[0mwhich_aduct\u001b[0m\u001b[1;33m)\u001b[0m\u001b[1;33m\u001b[0m\u001b[0m\n\u001b[0;32m     24\u001b[0m                 \u001b[0mmz\u001b[0m \u001b[1;33m=\u001b[0m \u001b[0mself\u001b[0m\u001b[1;33m.\u001b[0m\u001b[0m_get_mz\u001b[0m\u001b[1;33m(\u001b[0m\u001b[0mquery_rt\u001b[0m\u001b[1;33m,\u001b[0m \u001b[0mwhich_isotope\u001b[0m\u001b[1;33m,\u001b[0m \u001b[0mwhich_aduct\u001b[0m\u001b[1;33m)\u001b[0m\u001b[1;33m\u001b[0m\u001b[0m\n",
      "\u001b[1;32m<ipython-input-84-6f4924c67849>\u001b[0m in \u001b[0;36m_isolation_match\u001b[1;34m(self, query_rt, isolation_windows, which_isotope, which_aduct)\u001b[0m\n\u001b[0;32m     70\u001b[0m         \u001b[1;31m# [(min_1,max_1),(min_2,max_2),...]\u001b[0m\u001b[1;33m\u001b[0m\u001b[1;33m\u001b[0m\u001b[0m\n\u001b[0;32m     71\u001b[0m         \u001b[1;32mfor\u001b[0m \u001b[0mwindow\u001b[0m \u001b[1;32min\u001b[0m \u001b[0misolation_windows\u001b[0m\u001b[1;33m:\u001b[0m\u001b[1;33m\u001b[0m\u001b[0m\n\u001b[1;32m---> 72\u001b[1;33m             \u001b[1;32mif\u001b[0m \u001b[1;33m(\u001b[0m\u001b[0mself\u001b[0m\u001b[1;33m.\u001b[0m\u001b[0m_get_mz\u001b[0m\u001b[1;33m(\u001b[0m\u001b[0mquery_rt\u001b[0m\u001b[1;33m,\u001b[0m \u001b[0mwhich_isotope\u001b[0m\u001b[1;33m,\u001b[0m \u001b[0mwhich_aduct\u001b[0m\u001b[1;33m)\u001b[0m \u001b[1;33m>\u001b[0m \u001b[0mwindow\u001b[0m\u001b[1;33m[\u001b[0m\u001b[1;36m0\u001b[0m\u001b[1;33m]\u001b[0m \u001b[1;32mand\u001b[0m \u001b[0mself\u001b[0m\u001b[1;33m.\u001b[0m\u001b[0m_get_mz\u001b[0m\u001b[1;33m(\u001b[0m\u001b[0mquery_rt\u001b[0m\u001b[1;33m,\u001b[0m \u001b[0mwhich_isotope\u001b[0m\u001b[1;33m,\u001b[0m \u001b[0mwhich_aduct\u001b[0m\u001b[1;33m)\u001b[0m \u001b[1;33m<=\u001b[0m \u001b[0mwindow\u001b[0m\u001b[1;33m[\u001b[0m\u001b[1;36m1\u001b[0m\u001b[1;33m]\u001b[0m\u001b[1;33m)\u001b[0m\u001b[1;33m:\u001b[0m\u001b[1;33m\u001b[0m\u001b[0m\n\u001b[0m\u001b[0;32m     73\u001b[0m                 \u001b[1;32mreturn\u001b[0m \u001b[1;32mTrue\u001b[0m\u001b[1;33m\u001b[0m\u001b[0m\n\u001b[0;32m     74\u001b[0m         \u001b[1;32mreturn\u001b[0m \u001b[1;32mFalse\u001b[0m\u001b[1;33m\u001b[0m\u001b[0m\n",
      "\u001b[1;32m<ipython-input-84-6f4924c67849>\u001b[0m in \u001b[0;36m_get_mz\u001b[1;34m(self, query_rt, which_isotope, which_aduct)\u001b[0m\n\u001b[0;32m     62\u001b[0m     \u001b[1;32mdef\u001b[0m \u001b[0m_get_mz\u001b[0m\u001b[1;33m(\u001b[0m\u001b[0mself\u001b[0m\u001b[1;33m,\u001b[0m \u001b[0mquery_rt\u001b[0m\u001b[1;33m,\u001b[0m \u001b[0mwhich_isotope\u001b[0m\u001b[1;33m,\u001b[0m \u001b[0mwhich_aduct\u001b[0m\u001b[1;33m)\u001b[0m\u001b[1;33m:\u001b[0m\u001b[1;33m\u001b[0m\u001b[0m\n\u001b[0;32m     63\u001b[0m         \u001b[1;32mif\u001b[0m \u001b[0mself\u001b[0m\u001b[1;33m.\u001b[0m\u001b[0mms_level\u001b[0m \u001b[1;33m==\u001b[0m \u001b[1;36m1\u001b[0m\u001b[1;33m:\u001b[0m\u001b[1;33m\u001b[0m\u001b[0m\n\u001b[1;32m---> 64\u001b[1;33m             \u001b[1;32mreturn\u001b[0m \u001b[1;33m(\u001b[0m\u001b[0maductTransformation\u001b[0m\u001b[1;33m(\u001b[0m\u001b[0mself\u001b[0m\u001b[1;33m.\u001b[0m\u001b[0misotopes\u001b[0m\u001b[1;33m[\u001b[0m\u001b[0mwhich_isotope\u001b[0m\u001b[1;33m]\u001b[0m\u001b[1;33m[\u001b[0m\u001b[1;36m0\u001b[0m\u001b[1;33m]\u001b[0m\u001b[1;33m,\u001b[0m \u001b[0mself\u001b[0m\u001b[1;33m.\u001b[0m\u001b[0m_get_aducts\u001b[0m\u001b[1;33m(\u001b[0m\u001b[1;33m)\u001b[0m\u001b[1;33m[\u001b[0m\u001b[0mwhich_isotope\u001b[0m\u001b[1;33m]\u001b[0m\u001b[1;33m[\u001b[0m\u001b[0mwhich_aduct\u001b[0m\u001b[1;33m]\u001b[0m\u001b[1;33m[\u001b[0m\u001b[1;36m0\u001b[0m\u001b[1;33m]\u001b[0m\u001b[1;33m)\u001b[0m \u001b[1;33m+\u001b[0m \u001b[0mself\u001b[0m\u001b[1;33m.\u001b[0m\u001b[0mchromatogram\u001b[0m\u001b[1;33m.\u001b[0m\u001b[0mget_relative_mz\u001b[0m\u001b[1;33m(\u001b[0m\u001b[0mquery_rt\u001b[0m \u001b[1;33m-\u001b[0m \u001b[0mself\u001b[0m\u001b[1;33m.\u001b[0m\u001b[0mrt\u001b[0m\u001b[1;33m)\u001b[0m\u001b[1;33m)\u001b[0m\u001b[1;33m\u001b[0m\u001b[0m\n\u001b[0m\u001b[0;32m     65\u001b[0m         \u001b[1;32melse\u001b[0m\u001b[1;33m:\u001b[0m\u001b[1;33m\u001b[0m\u001b[0m\n\u001b[0;32m     66\u001b[0m             \u001b[1;32mreturn\u001b[0m \u001b[1;33m(\u001b[0m\u001b[0maductTransformation\u001b[0m\u001b[1;33m(\u001b[0m\u001b[0mself\u001b[0m\u001b[1;33m.\u001b[0m\u001b[0misotopes\u001b[0m\u001b[1;33m[\u001b[0m\u001b[0mwhich_isotope\u001b[0m\u001b[1;33m]\u001b[0m\u001b[1;33m[\u001b[0m\u001b[1;36m0\u001b[0m\u001b[1;33m]\u001b[0m\u001b[1;33m,\u001b[0m \u001b[0mself\u001b[0m\u001b[1;33m.\u001b[0m\u001b[0m_get_aducts\u001b[0m\u001b[1;33m(\u001b[0m\u001b[1;33m)\u001b[0m\u001b[1;33m[\u001b[0m\u001b[0mwhich_isotope\u001b[0m\u001b[1;33m]\u001b[0m\u001b[1;33m[\u001b[0m\u001b[0mwhich_aduct\u001b[0m\u001b[1;33m]\u001b[0m\u001b[1;33m[\u001b[0m\u001b[1;36m0\u001b[0m\u001b[1;33m]\u001b[0m\u001b[1;33m)\u001b[0m\u001b[1;33m)\u001b[0m\u001b[1;33m\u001b[0m\u001b[0m\n",
      "\u001b[1;31mTypeError\u001b[0m: unsupported operand type(s) for +: 'NoneType' and 'int'"
     ]
    }
   ],
   "source": [
    "chem2.get_all_mz_peaks(101,1,[[(0,300)]])"
   ]
  },
  {
   "cell_type": "code",
   "execution_count": 323,
   "metadata": {},
   "outputs": [
    {
     "data": {
      "text/plain": [
       "[(51, 419.1303335441297), (56, 586.7824669617816), (100, 46.57003706045886), (105, 65.1980518846424)]"
      ]
     },
     "execution_count": 323,
     "metadata": {},
     "output_type": "execute_result"
    }
   ],
   "source": [
    "chem2.get_all_mz_peaks(101,2,[[(0,300)]])"
   ]
  },
  {
   "cell_type": "code",
   "execution_count": 324,
   "metadata": {},
   "outputs": [
    {
     "data": {
      "text/plain": [
       "[(31, 125.73910006323891), (36, 209.56516677206486), (80, 13.971011118137657), (85, 23.28501853022943)]"
      ]
     },
     "execution_count": 324,
     "metadata": {},
     "output_type": "execute_result"
    }
   ],
   "source": [
    "chem2.get_all_mz_peaks(101,3,[[(0,300)],[(0,300)]])"
   ]
  },
  {
   "cell_type": "markdown",
   "metadata": {},
   "source": [
    "# Data Generator"
   ]
  },
  {
   "cell_type": "code",
   "execution_count": null,
   "metadata": {},
   "outputs": [],
   "source": [
    "class ChemicalCreater(object):\n",
    "    def __init__(self, density_estimator, chemical_type = None, n_peaks = None, formula_list = None):\n",
    "        self.density_estimator = density_estimator\n",
    "        self.chemical_type = chemical_type\n",
    "        self.n_peaks = n_peaks\n",
    "        self.formula_list = formula_list\n",
    "        \n",
    "    def sample(self, ms_level, chemical_type = None):\n",
    "        chemicals = []\n",
    "        \n",
    "        return chemicals"
   ]
  },
  {
   "cell_type": "code",
   "execution_count": null,
   "metadata": {},
   "outputs": [],
   "source": [
    "# this samples the dataset using ChemicalCreater\n",
    "class Sample_Dataset(object):\n",
    "\n",
    "\n",
    "\n",
    "\n",
    "\n",
    "\n",
    "\n",
    "\n",
    "\n",
    "\n",
    "\n",
    "\n",
    "\n",
    "\n",
    "\n",
    "\n",
    "\n",
    "\n",
    "\n",
    "\n",
    "\n",
    "\n",
    "\n"
   ]
  }
 ],
 "metadata": {
  "kernelspec": {
   "display_name": "Python 3",
   "language": "python",
   "name": "python3"
  },
  "language_info": {
   "codemirror_mode": {
    "name": "ipython",
    "version": 3
   },
   "file_extension": ".py",
   "mimetype": "text/x-python",
   "name": "python",
   "nbconvert_exporter": "python",
   "pygments_lexer": "ipython3",
   "version": "3.6.6"
  }
 },
 "nbformat": 4,
 "nbformat_minor": 2
}
