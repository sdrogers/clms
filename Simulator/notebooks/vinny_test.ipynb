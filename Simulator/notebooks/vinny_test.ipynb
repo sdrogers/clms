{
 "cells": [
  {
   "cell_type": "code",
   "execution_count": 1,
   "metadata": {},
   "outputs": [],
   "source": [
    "import numpy as np\n",
    "import sys\n",
    "import scipy.stats\n",
    "import re"
   ]
  },
  {
   "cell_type": "code",
   "execution_count": 2,
   "metadata": {},
   "outputs": [],
   "source": [
    "%load_ext autoreload\n",
    "%autoreload 2"
   ]
  },
  {
   "cell_type": "code",
   "execution_count": 3,
   "metadata": {},
   "outputs": [],
   "source": [
    "sys.path.append('../codes')"
   ]
  },
  {
   "cell_type": "code",
   "execution_count": 4,
   "metadata": {},
   "outputs": [
    {
     "name": "stdout",
     "output_type": "stream",
     "text": [
      "Pretty printing has been turned OFF\n"
     ]
    }
   ],
   "source": [
    "%pprint"
   ]
  },
  {
   "cell_type": "code",
   "execution_count": 5,
   "metadata": {},
   "outputs": [],
   "source": [
    "from VMSfunctions.Common import *\n",
    "from VMSfunctions.Chemicals import *\n",
    "from VMSfunctions.Chromatograms import *\n",
    "from VMSfunctions.MassSpec import *"
   ]
  },
  {
   "cell_type": "markdown",
   "metadata": {},
   "source": [
    "# Mass Spec test"
   ]
  },
  {
   "cell_type": "code",
   "execution_count": 6,
   "metadata": {},
   "outputs": [
    {
     "name": "stderr",
     "output_type": "stream",
     "text": [
      "c:\\users\\vinny\\.virtualenvs\\simulator-r22bo2kk\\lib\\site-packages\\sklearn\\base.py:253: UserWarning:\n",
      "\n",
      "Trying to unpickle estimator KernelDensity from version 0.20.2 when using version 0.20.3. This might lead to breaking code or invalid results. Use at your own risk.\n",
      "\n"
     ]
    },
    {
     "name": "stdout",
     "output_type": "stream",
     "text": [
      "0\n"
     ]
    },
    {
     "name": "stderr",
     "output_type": "stream",
     "text": [
      "../codes\\VMSfunctions\\Common.py:50: RuntimeWarning:\n",
      "\n",
      "divide by zero encountered in double_scalars\n",
      "\n"
     ]
    },
    {
     "name": "stdout",
     "output_type": "stream",
     "text": [
      "5000\n",
      "10000\n",
      "15000\n",
      "20000\n",
      "25000\n",
      "30000\n",
      "35000\n",
      "40000\n",
      "45000\n"
     ]
    }
   ],
   "source": [
    "ps = load_obj('../models/peak_sampler_4_beers.p')\n",
    "xcms_output = '../models/beer_ms1_peaks.csv.gz'\n",
    "chromatograms = ChromatogramCreator(xcms_output)"
   ]
  },
  {
   "cell_type": "code",
   "execution_count": 7,
   "metadata": {},
   "outputs": [],
   "source": [
    "chemicals = ChemicalCreator(ps, chromatograms)"
   ]
  },
  {
   "cell_type": "code",
   "execution_count": 137,
   "metadata": {},
   "outputs": [
    {
     "name": "stdout",
     "output_type": "stream",
     "text": [
      "Warning ms_level > 3 not implemented properly yet. Uses ms_level = 2 information for now\n"
     ]
    }
   ],
   "source": [
    "min_ms1_intensity = 2E5\n",
    "min_rt = 3*60\n",
    "max_rt = 21*60\n",
    "dataset = chemicals.sample(min_rt, max_rt, min_ms1_intensity, 2, 3, \"Unknown\",\"Empirical\", None, False, 0.01)"
   ]
  },
  {
   "cell_type": "code",
   "execution_count": null,
   "metadata": {},
   "outputs": [],
   "source": [
    "scan_parameters = {\n",
    "    'isolation_windows': [[(0, 1e3)]], # TODO: change to dictionary?\n",
    "    'ms_level': 1\n",
    "}    \n",
    "sampled_chemicals = chemicals.sample(min_rt, max_rt, min_ms1_intensity, 100, 2, \"Unknown\",\"Empirical\",None, False)\n",
    "mass_spec = IndependentMassSpectrometer(sampled_chemicals, scan_parameters)"
   ]
  },
  {
   "cell_type": "code",
   "execution_count": null,
   "metadata": {},
   "outputs": [],
   "source": [
    "scan_windows = {\n",
    "    2: [(0, 20), (0, 1e3)],\n",
    "}\n",
    "mass_spec._get_all_mz_peaks(dataset[0], 810, 2, [[(0, 1e3)]])"
   ]
  },
  {
   "cell_type": "code",
   "execution_count": 140,
   "metadata": {},
   "outputs": [],
   "source": [
    "import pickle\n",
    "hmdb = pickle.load(open('../../../Compounds/hmdb_compounds.p','rb'))"
   ]
  },
  {
   "cell_type": "code",
   "execution_count": 156,
   "metadata": {},
   "outputs": [
    {
     "name": "stdout",
     "output_type": "stream",
     "text": [
      "Warning ms_level > 3 not implemented properly yet. Uses ms_level = 2 information for now\n",
      "['C50H79O10P', 'C70H136O17P2', 'C69H134O17P2', 'C50H96O6', 'C60H116O6', 'C33H22O22', 'C44H84O6', 'C67H130O17P2', 'C4H8O', 'C59H96O6', 'C87H170O17P2', 'C52H100O6', 'C73H142O17P2', 'C75H146O17P2', 'C61H102O6', 'C54H104O6', 'C40H70NO10P', 'C69H134O17P2', 'C61H118O17P2', 'C69H134O17P2', 'C89H154O17P2', 'C72H136O17P2', 'C63H122O17P2', 'C8H2F17NO2S', 'C27H40O3', 'C54H104O6', 'C75H146O17P2', 'C49H94O6', 'C44H34O22', 'C25H24O12', 'C69H134O6', 'C19H30O2', 'C56H40O13S', 'C27H28O18', 'C67H130O17P2', 'C68H132O17P2', 'C78H148O17P2', 'C54H104O6', 'C4H4N2O2', 'C15H22O2', 'C37H72O5', 'C58H112O17P2', 'C55H98O6', 'C79H154O17P2', 'C65H104O6', 'C84H164O17P2', 'C67H130O17P2', 'C43H82O6', 'C13H12O4', 'C59H114O17P2', 'C51H94O6', 'C65H108O6', 'C23H26O11', 'C15H16O4', 'C36H66O5', 'C55H73N9O10S2', 'C63H122O17P2', 'C78H148O17P2', 'C82H160O17P2', 'C10H9NO5', 'C6H13NO2', 'C80H156O17P2', 'C51H90O6', 'C54H104O6', 'C19H18O2', 'C91H148O17P2', 'C64H122O6', 'C74H140O17P2', 'C6H12O2S', 'C73H142O17P2', 'C10H15NO2', 'C13H10O4', 'C50H96O6', 'C61H110O6', 'C41H66O5', 'C18H17NO2', 'C29H46O5', 'C77H150O17P2', 'C28H22O5', 'C76H148O17P2', 'C15H16O3', 'C10H13NO2', 'C89H174O17P2', 'C6H10O2', 'C71H134O17P2', 'C67H130O17P2', 'C57H102O6', 'C9H8O4', 'C71H138O17P2', 'C61H118O17P2', 'C81H154O17P2', 'C81H144O17P2', 'C59H104O6', 'C80H156O17P2', 'C59H114O6', 'C29H44O10', 'C60H116O6', 'C65H126O17P2', 'C10H12O4', 'C61H112O5']\n"
     ]
    }
   ],
   "source": [
    "min_ms1_intensity = 2E5\n",
    "min_rt = 3*60\n",
    "max_rt = 21*60\n",
    "dataset = chemicals.sample(min_rt, max_rt, min_ms1_intensity, 100, 3, \"Known\",\"Empirical\", None, False, 0.01, hmdb)"
   ]
  },
  {
   "cell_type": "code",
   "execution_count": 155,
   "metadata": {},
   "outputs": [
    {
     "data": {
      "text/plain": [
       "KnownChemical - 'C53H104NO8P' rt=790.90 max_intensity=381743.92"
      ]
     },
     "execution_count": 155,
     "metadata": {},
     "output_type": "execute_result"
    }
   ],
   "source": [
    "dataset[1]"
   ]
  }
 ],
 "metadata": {
  "kernelspec": {
   "display_name": "Python 3",
   "language": "python",
   "name": "python3"
  },
  "language_info": {
   "codemirror_mode": {
    "name": "ipython",
    "version": 3
   },
   "file_extension": ".py",
   "mimetype": "text/x-python",
   "name": "python",
   "nbconvert_exporter": "python",
   "pygments_lexer": "ipython3",
   "version": "3.6.6"
  }
 },
 "nbformat": 4,
 "nbformat_minor": 2
}
