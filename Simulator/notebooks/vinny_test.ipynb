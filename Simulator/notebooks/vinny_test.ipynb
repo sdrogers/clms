{
 "cells": [
  {
   "cell_type": "code",
   "execution_count": 1,
   "metadata": {},
   "outputs": [],
   "source": [
    "import numpy as np\n",
    "import sys\n",
    "import scipy.stats\n",
    "import re"
   ]
  },
  {
   "cell_type": "code",
   "execution_count": 2,
   "metadata": {},
   "outputs": [],
   "source": [
    "%load_ext autoreload\n",
    "%autoreload 2"
   ]
  },
  {
   "cell_type": "code",
   "execution_count": 3,
   "metadata": {},
   "outputs": [],
   "source": [
    "sys.path.append('../codes')"
   ]
  },
  {
   "cell_type": "code",
   "execution_count": 4,
   "metadata": {},
   "outputs": [
    {
     "name": "stdout",
     "output_type": "stream",
     "text": [
      "Pretty printing has been turned OFF\n"
     ]
    }
   ],
   "source": [
    "%pprint"
   ]
  },
  {
   "cell_type": "code",
   "execution_count": 5,
   "metadata": {},
   "outputs": [],
   "source": [
    "from VMSfunctions.Common import *\n",
    "from VMSfunctions.Chemicals import *\n",
    "from VMSfunctions.Chromatograms import *\n",
    "from VMSfunctions.MassSpec import *"
   ]
  },
  {
   "cell_type": "markdown",
   "metadata": {},
   "source": [
    "# Mass Spec test"
   ]
  },
  {
   "cell_type": "code",
   "execution_count": 6,
   "metadata": {},
   "outputs": [
    {
     "name": "stderr",
     "output_type": "stream",
     "text": [
      "c:\\users\\vinny\\.virtualenvs\\simulator-r22bo2kk\\lib\\site-packages\\sklearn\\base.py:253: UserWarning:\n",
      "\n",
      "Trying to unpickle estimator KernelDensity from version 0.20.2 when using version 0.20.3. This might lead to breaking code or invalid results. Use at your own risk.\n",
      "\n"
     ]
    },
    {
     "name": "stdout",
     "output_type": "stream",
     "text": [
      "0\n"
     ]
    },
    {
     "name": "stderr",
     "output_type": "stream",
     "text": [
      "../codes\\VMSfunctions\\Common.py:50: RuntimeWarning:\n",
      "\n",
      "divide by zero encountered in double_scalars\n",
      "\n"
     ]
    },
    {
     "name": "stdout",
     "output_type": "stream",
     "text": [
      "5000\n",
      "10000\n",
      "15000\n",
      "20000\n",
      "25000\n",
      "30000\n",
      "35000\n",
      "40000\n",
      "45000\n"
     ]
    }
   ],
   "source": [
    "ps = load_obj('../models/peak_sampler_4_beers.p')\n",
    "xcms_output = '../models/beer_ms1_peaks.csv.gz'\n",
    "chromatograms = ChromatogramCreator(xcms_output)"
   ]
  },
  {
   "cell_type": "code",
   "execution_count": 7,
   "metadata": {},
   "outputs": [],
   "source": [
    "chemicals = ChemicalCreator(ps, chromatograms)"
   ]
  },
  {
   "cell_type": "code",
   "execution_count": 8,
   "metadata": {},
   "outputs": [
    {
     "name": "stdout",
     "output_type": "stream",
     "text": [
      "Warning ms_level > 3 not implemented properly yet. Uses ms_level = 2 information for now\n"
     ]
    }
   ],
   "source": [
    "min_ms1_intensity = 2E5\n",
    "min_rt = 3*60\n",
    "max_rt = 21*60\n",
    "dataset = chemicals.sample(min_rt, max_rt, min_ms1_intensity, 100, 3, \"Unknown\",\"Empirical\",None, False)"
   ]
  },
  {
   "cell_type": "code",
   "execution_count": 9,
   "metadata": {},
   "outputs": [],
   "source": [
    "scan_parameters = {\n",
    "    'isolation_windows': [[(0, 1e3)]], # TODO: change to dictionary?\n",
    "    'ms_level': 1\n",
    "}    \n",
    "sampled_chemicals = chemicals.sample(min_rt, max_rt, min_ms1_intensity, 100, 2, \"Unknown\",\"Empirical\",None, False)\n",
    "mass_spec = IndependentMassSpectrometer(sampled_chemicals, scan_parameters)"
   ]
  },
  {
   "cell_type": "code",
   "execution_count": 27,
   "metadata": {},
   "outputs": [
    {
     "data": {
      "text/plain": [
       "[(67.4661379920823, 10948.055317032653), (87.62666577946767, 2264.746669422268), (119.09811334748623, 4058.560065347205), (71.53515090322713, 4257.21427928603), (122.73278830881634, 1847.0184666356133), (124.53176152723178, 2477.433642383482), (180.45913613188412, 2099.9177610604684), (145.29163704198518, 516.3099070801961), (134.44624543083398, 8534.871185006621), (77.77148014616239, 275.25250791252665), (275.58776247645955, 119.58833183514825), (70.5629803281249, 6829.1890317795), (63.81404260033734, 935.4721477016456), (111.77410613008331, 1261.8735595295525), (67.31226667655784, 658.2835827865454), (178.63490010417092, 4841.995627717692), (70.64959358219622, 24968.871895502383), (58.79629999155677, 1600.3393833798636), (580.2595507042162, 9500.823553345817), (89.23925218325577, 776.639449599284), (84.56579385478034, 1319.2936869834905), (65.89315289580847, 7760.316208749658), (57.46141889119433, 2222.9648266627514), (70.64397760845266, 4482.158784888476), (67.86195869508693, 18836.510281858336), (158.522908787809, 2988.5436749439045), (53.57022682123902, 28838.69479096187), (68.66509458160338, 1366.4524590066048), (147.87744111746045, 217.0373555646548)]"
      ]
     },
     "execution_count": 27,
     "metadata": {},
     "output_type": "execute_result"
    }
   ],
   "source": [
    "scan_windows = {\n",
    "    2: [(0, 20), (0, 1e3)],\n",
    "}\n",
    "mass_spec._get_all_mz_peaks(dataset[0], 810, 2, [[(0, 1e3)]])"
   ]
  },
  {
   "cell_type": "code",
   "execution_count": 20,
   "metadata": {},
   "outputs": [
    {
     "name": "stdout",
     "output_type": "stream",
     "text": [
      "0.42748731411043794\n",
      "0.07434713245109743\n",
      "3313961.883987893\n"
     ]
    }
   ],
   "source": [
    "print(dataset[0].children[0].parent_mass_prop)\n",
    "print(dataset[0].children[0].prop_ms2_mass)\n",
    "print(dataset[0].max_intensity)"
   ]
  },
  {
   "cell_type": "code",
   "execution_count": 26,
   "metadata": {},
   "outputs": [
    {
     "data": {
      "text/plain": [
       "10948.055317032653"
      ]
     },
     "execution_count": 26,
     "metadata": {},
     "output_type": "execute_result"
    }
   ],
   "source": [
    "344468.5121144637 * dataset[0].children[0].prop_ms2_mass * dataset[0].children[0].parent_mass_prop"
   ]
  }
 ],
 "metadata": {
  "kernelspec": {
   "display_name": "Python 3",
   "language": "python",
   "name": "python3"
  },
  "language_info": {
   "codemirror_mode": {
    "name": "ipython",
    "version": 3
   },
   "file_extension": ".py",
   "mimetype": "text/x-python",
   "name": "python",
   "nbconvert_exporter": "python",
   "pygments_lexer": "ipython3",
   "version": "3.6.6"
  }
 },
 "nbformat": 4,
 "nbformat_minor": 2
}
