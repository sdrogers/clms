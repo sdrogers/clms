{
 "cells": [
  {
   "cell_type": "code",
   "execution_count": 1,
   "metadata": {},
   "outputs": [],
   "source": [
    "import numpy as np\n",
    "import sys\n",
    "import scipy.stats\n",
    "import re"
   ]
  },
  {
   "cell_type": "code",
   "execution_count": 2,
   "metadata": {},
   "outputs": [],
   "source": [
    "%load_ext autoreload\n",
    "%autoreload 2"
   ]
  },
  {
   "cell_type": "code",
   "execution_count": 3,
   "metadata": {},
   "outputs": [],
   "source": [
    "sys.path.append('../codes')"
   ]
  },
  {
   "cell_type": "code",
   "execution_count": 4,
   "metadata": {},
   "outputs": [
    {
     "name": "stdout",
     "output_type": "stream",
     "text": [
      "Pretty printing has been turned OFF\n"
     ]
    }
   ],
   "source": [
    "%pprint"
   ]
  },
  {
   "cell_type": "code",
   "execution_count": 5,
   "metadata": {},
   "outputs": [],
   "source": [
    "from VMSfunctions.Common import *\n",
    "from VMSfunctions.model import *"
   ]
  },
  {
   "cell_type": "markdown",
   "metadata": {},
   "source": [
    "# Functional Example"
   ]
  },
  {
   "cell_type": "code",
   "execution_count": 6,
   "metadata": {},
   "outputs": [],
   "source": [
    "chrom = FunctionalChromatogram(\"normal\", [0,1])\n",
    "frag1 = MSN(50,2,0.5)\n",
    "frag2 = MSN(55,2,0.7)\n",
    "chem = UnknownChemical(100, 100, 10000, chrom, [frag1, frag2])\n",
    "frag1.parent = chem\n",
    "frag2.parent = chem\n",
    "\n",
    "frag1_1 = MSN(30,3,0.3,None,frag1)\n",
    "frag1_2 = MSN(35,3,0.5,None,frag1)\n",
    "frag1.children = [frag1_1, frag1_2]"
   ]
  },
  {
   "cell_type": "code",
   "execution_count": 7,
   "metadata": {},
   "outputs": [
    {
     "name": "stdout",
     "output_type": "stream",
     "text": [
      "[(100, 1, 'Mono')]\n",
      "[('M+H', 1)]\n"
     ]
    }
   ],
   "source": [
    "print(chem.isotopes)\n",
    "print(chem.adducts)"
   ]
  },
  {
   "cell_type": "code",
   "execution_count": 8,
   "metadata": {},
   "outputs": [
    {
     "data": {
      "text/plain": [
       "[(98.992724, 1164.2509265114713)]"
      ]
     },
     "execution_count": 8,
     "metadata": {},
     "output_type": "execute_result"
    }
   ],
   "source": [
    "chem.get_all_mz_peaks(101,1,[[(0,300)]])"
   ]
  },
  {
   "cell_type": "code",
   "execution_count": 9,
   "metadata": {},
   "outputs": [
    {
     "data": {
      "text/plain": [
       "[(48.992724, 582.1254632557357), (53.992724, 814.9756485580299)]"
      ]
     },
     "execution_count": 9,
     "metadata": {},
     "output_type": "execute_result"
    }
   ],
   "source": [
    "chem.get_all_mz_peaks(101,2,[[(0,300)]])"
   ]
  },
  {
   "cell_type": "code",
   "execution_count": 10,
   "metadata": {
    "scrolled": true
   },
   "outputs": [
    {
     "data": {
      "text/plain": [
       "[(28.992724, 174.6376389767207), (33.992724, 291.06273162786783)]"
      ]
     },
     "execution_count": 10,
     "metadata": {},
     "output_type": "execute_result"
    }
   ],
   "source": [
    "chem.get_all_mz_peaks(101,3,[[(0,300)],[(0,300)]])"
   ]
  },
  {
   "cell_type": "markdown",
   "metadata": {},
   "source": [
    "# Emprical Example"
   ]
  },
  {
   "cell_type": "code",
   "execution_count": 11,
   "metadata": {},
   "outputs": [],
   "source": [
    "chrom = FunctionalChromatogram(\"normal\", [0,1])\n",
    "frag1 = MSN(50,2,0.5)\n",
    "frag2 = MSN(55,2,0.7)\n",
    "chrom = FunctionalChromatogram(\"normal\", [0,1])\n",
    "formula = Formula(\"C12HgFS\",200)\n",
    "isotopes = Isotopes(formula)\n",
    "adducts = Adducts(formula)\n",
    "chem2 = KnownChemical(formula,isotopes,adducts,100, 10000, chrom, [frag1, frag2])\n",
    "frag1.parent = chem2\n",
    "frag2.parent = chem2\n",
    "\n",
    "frag1_1 = MSN(30,3,0.3,None,frag1)\n",
    "frag1_2 = MSN(35,3,0.5,None,frag1)\n",
    "frag1.children = [frag1_1, frag1_2]"
   ]
  },
  {
   "cell_type": "code",
   "execution_count": 12,
   "metadata": {},
   "outputs": [
    {
     "name": "stdout",
     "output_type": "stream",
     "text": [
      "[('M+H', 0.8832362138891587), ('[M+NH3]+H', 0.11676378611084126)]\n",
      "[(200, 0.8822479928635149, 'Mono'), (198.9966451622, 0.11775200713648519, '1C13')]\n"
     ]
    }
   ],
   "source": [
    "print(chem2.adducts)\n",
    "print(chem2.isotopes)"
   ]
  },
  {
   "cell_type": "code",
   "execution_count": 13,
   "metadata": {},
   "outputs": [
    {
     "data": {
      "text/plain": [
       "[(198.992724, 907.2231810571801), (181.96617, 119.93486204705293), (197.9893691622, 121.085399291757)]"
      ]
     },
     "execution_count": 13,
     "metadata": {},
     "output_type": "execute_result"
    }
   ],
   "source": [
    "chem2.get_all_mz_peaks(101,1,[[(0,300)]])"
   ]
  },
  {
   "cell_type": "code",
   "execution_count": 14,
   "metadata": {},
   "outputs": [
    {
     "data": {
      "text/plain": [
       "[(48.992724, 453.61159052859006), (53.992724, 635.0562267400261), (31.96617, 59.967431023526466), (36.966170000000005, 83.95440343293704)]"
      ]
     },
     "execution_count": 14,
     "metadata": {},
     "output_type": "execute_result"
    }
   ],
   "source": [
    "chem2.get_all_mz_peaks(101,2,[[(0,300)]])"
   ]
  },
  {
   "cell_type": "code",
   "execution_count": 15,
   "metadata": {},
   "outputs": [
    {
     "data": {
      "text/plain": [
       "[(28.992724, 136.083477158577), (33.992724, 226.80579526429503), (11.966170000000002, 17.990229307057938), (16.96617, 29.983715511763233)]"
      ]
     },
     "execution_count": 15,
     "metadata": {},
     "output_type": "execute_result"
    }
   ],
   "source": [
    "chem2.get_all_mz_peaks(101,3,[[(0,300)],[(0,300)]])"
   ]
  },
  {
   "cell_type": "markdown",
   "metadata": {},
   "source": [
    "# Data Generator"
   ]
  },
  {
   "cell_type": "code",
   "execution_count": 62,
   "metadata": {},
   "outputs": [],
   "source": [
    "class ChemicalCreator(object):\n",
    "    def __init__(self, peak_sampler, xcms_output = None):\n",
    "        self.peak_sampler = peak_sampler\n",
    "        self.xcms_output = xcms_output\n",
    "        if self.xcms_output != None:\n",
    "            chromatograms = self._load_chromatograms(self.xcms_output)\n",
    "        else:\n",
    "            chromograms = None\n",
    "            \n",
    "    def sample(self,n_ms1_peaks=3000, ms_levels = 2, chemical_type = None, chromatogram_type = \"Empirical\", formula_list = None, use_chrom_tuple = False):\n",
    "        self.n_ms1_peaks = n_ms1_peaks\n",
    "        self.ms_levels = ms_levels\n",
    "        self.chemical_type = chemical_type\n",
    "        self.chromatogram_type = chromatogram_type\n",
    "        self.formula_list = formula_list\n",
    "        self.use_chrom_tuple = use_chrom_tuple\n",
    "        if self.ms_levels > 2:\n",
    "            print(\"Warning ms_level > 3 not implemented properly yet. Uses ms_level = 2 information for now\")\n",
    "        n_ms1_peaks = self._get_n(1)\n",
    "        chemicals = []\n",
    "        formula = None\n",
    "        for i in range(self._get_n(1)):\n",
    "            sampled_peak = self.peak_sampler.sample(ms_level=1, n_peaks=n_ms1_peaks)\n",
    "            chrom = self._get_chromatogram(chromatograms)\n",
    "            if self.chemical_type ==\"Known\":\n",
    "                formula = self.formula_list[i]\n",
    "            chemicals.append(self._get_chemical(1, formula, chromatograms[i], sampled_peak[i]))\n",
    "            chemicals[i].children = self._get_children(1, chemicals[i])\n",
    "        return chemicals\n",
    "    \n",
    "    # needs to standardise children intensities, such that they add up to parent intensity times scalign factor\n",
    "    \n",
    "    # need to add CRP\n",
    "    \n",
    "    def _get_children(parent_ms_level, parent):\n",
    "        children_ms_level = parent_ms_level + 1\n",
    "        n_peaks = self._get_n(children_ms_level)\n",
    "        if n_peaks == None:\n",
    "            return None \n",
    "        elif children_ms_level == self.ms_levels:\n",
    "            kids = []\n",
    "            for index_children in range(n_peaks):\n",
    "                kid = self._get_unknown_msn(children_ms_level, None, None, parent)\n",
    "                kids.append(kid)\n",
    "            return kids      \n",
    "        elif children_ms_level < self.ms_levels:\n",
    "            kids = []\n",
    "            for index_children in range(n_peaks):\n",
    "                kid = self._get_unknown_msn(children_ms_level, None, None, parent)\n",
    "                kid._get_children(children_ms_level, kid)\n",
    "                kids.append()\n",
    "            return kids      \n",
    "        else:\n",
    "            return None\n",
    "    \n",
    "    def _get_n(self, ms_level):\n",
    "        if ms_level == 1:\n",
    "            return self.n_ms1_peaks\n",
    "        elif ms_level ==2:\n",
    "            return self.peak_sampler.density_estimator.n_peaks(2, 1) # not sure this will work\n",
    "        else:\n",
    "            return self.peak_sampler.density_estimator.n_peaks(2, 1)\n",
    " \n",
    "    def _get_chemical(self, ms_level, formula, chromatogram, sampled_peak):\n",
    "        if formula != None:\n",
    "            return self._get_known_ms1(formula, chromatogram, sampled_peak)\n",
    "        else:\n",
    "            return self._get_unknown_msn(ms_level, chromatogram, sampled_peak)\n",
    "\n",
    "    def _get_known_ms1(self, formula, chromatogram, sampled_peak):\n",
    "        # eventually get rid of mz here\n",
    "        mz = self._get_mz(1, chromatogram, sampled_peak)\n",
    "        rt = self_get_rt(chromatogram, sampled_peak)\n",
    "        intensity = self.get_intensity(chromatogram, sampled_peak)\n",
    "        formula = Formula(formula,mz)\n",
    "        isotopes = Isotopes(formula)\n",
    "        adducts = Adducts(formula)\n",
    "        return KnownChemical(formula, isotopes, adducts, rt, intensity, chrom, None)\n",
    "    \n",
    "    def _get_unknown_msn(self, ms_level, chromatogram, sampled_peak, parent = None):\n",
    "        if ms_level == 1:\n",
    "            mz = self._get_mz(1, chromatogram, sampled_peak)\n",
    "            rt = self_get_rt(chromatogram, sampled_peak)\n",
    "            intensity = self.get_intensity(chromatogram, sampled_peak)\n",
    "            return UnknownChemical(mz, rt, intensity, chromatogram, None)\n",
    "        else:\n",
    "            mz = self._get_mz(ms_level, chromatogram, sampled_peak)\n",
    "            parent_mass_prop = self._get_parent_prop(ms_level)\n",
    "            return MSN(mz, ms_level, parent_mass_prop, None, parent)\n",
    "            \n",
    "    def _get_parent_prop(ms_level):\n",
    "        return np.random.unform(0.2,0.8,1)\n",
    "        # this needs to come from a density\n",
    "    \n",
    "    def _get_chromatogram(self, chromatograms):\n",
    "        if chromatograms != None:\n",
    "            selected = np.random.choice(len(chromatograms), 1)[0]\n",
    "            return chromatograms[selected]\n",
    "        else:\n",
    "            NotImplementedError(\"Functional Chromatograms not implemented here yet\")\n",
    "    \n",
    "    def _load_chromatograms(self, xcms_output):\n",
    "        return self._load_xcms_df(xcms_output)\n",
    "        \n",
    "    def _get_mz(ms_level, chromatogram, sampled_peak):\n",
    "        if chromatogram == None and sampled_peak == None:\n",
    "            if ms_level == 2:\n",
    "                return self.peak_sampler.sample(ms_level, 1).mz\n",
    "            else:\n",
    "                return self.peak_sampler.sample(2, 1).mz\n",
    "        elif use_chrom_tuple == False:\n",
    "            return sampled_peak.mz\n",
    "        else:\n",
    "            NotImplementedError()\n",
    "            # extract same stuff from chromatogram\n",
    "        \n",
    "    def _get_rt(chromatogram, sampled_peak):\n",
    "        if use_chrom_tuple == False:\n",
    "            return sampled_peak.rt\n",
    "        else:\n",
    "            NotImplementedError()\n",
    "            # extract same stuff from chromatogram\n",
    "\n",
    "    def _get_intensity(chromatogram, sampled_peak):\n",
    "        if use_chrom_tuple == False:\n",
    "            return sampled_peak.intensity\n",
    "        else:\n",
    "            NotImplementedError()\n",
    "            # extract same stuff from chromatogram\n",
    "            \n",
    "    def _load_xcms_df(self, df_file):\n",
    "        \"\"\"\n",
    "        Load CSV file of chromatogram information exported by the XCMS script 'process_data.R'\n",
    "        :param df_file: the input csv file exported by the script (in gzip format)\n",
    "        :return: a list of Chromatogram objects\n",
    "        \"\"\"\n",
    "        df = pd.read_csv(df_file, compression='gzip')\n",
    "        peak_ids = df.id.unique()\n",
    "        groups = df.groupby('id')\n",
    "        chroms = []\n",
    "        for i in range(len(peak_ids)):\n",
    "            if i % 5000 == 0:\n",
    "                print(i)\n",
    "            pid = peak_ids[i]\n",
    "            chrom = self._get_xcms_chromatograms(groups, pid)\n",
    "            if chrom is not None:\n",
    "                chroms.append(chrom)\n",
    "        return chroms\n",
    "    \n",
    "    def _get_xcms_chromatograms(self, groups, pid):\n",
    "        selected = groups.get_group(pid)\n",
    "        rts = self._get_values(selected, 'rt_values')\n",
    "        mzs = self._get_values(selected, 'mz_values')\n",
    "        intensities = self._get_values(selected, 'intensity_values')\n",
    "        assert len(rts) == len(mzs)\n",
    "        assert len(rts) == len(intensities)\n",
    "        if len(rts) > 1:\n",
    "            chrom = EmpiricalChromatogram(rts, mzs, intensities)\n",
    "        else:\n",
    "            chrom = None\n",
    "        return chrom\n",
    "    \n",
    "    def _get_values(self, df, column_name):\n",
    "        return df[column_name].values"
   ]
  },
  {
   "cell_type": "code",
   "execution_count": 63,
   "metadata": {},
   "outputs": [],
   "source": [
    "peak_sampler = load_obj('../models/peak_sampler_4_beers.p')\n",
    "xcms_output = '../models/beer_ms1_peaks.csv.gz'"
   ]
  },
  {
   "cell_type": "code",
   "execution_count": 64,
   "metadata": {},
   "outputs": [
    {
     "name": "stdout",
     "output_type": "stream",
     "text": [
      "0\n",
      "5000\n",
      "10000\n",
      "15000\n",
      "20000\n",
      "25000\n",
      "30000\n",
      "35000\n",
      "40000\n",
      "45000\n",
      "50000\n",
      "55000\n"
     ]
    }
   ],
   "source": [
    "dataset = ChemicalCreator(peak_sampler, xcms_output)"
   ]
  },
  {
   "cell_type": "code",
   "execution_count": 66,
   "metadata": {},
   "outputs": [
    {
     "ename": "NameError",
     "evalue": "name 'chromatograms' is not defined",
     "output_type": "error",
     "traceback": [
      "\u001b[1;31m---------------------------------------------------------------------------\u001b[0m",
      "\u001b[1;31mNameError\u001b[0m                                 Traceback (most recent call last)",
      "\u001b[1;32m<ipython-input-66-f730560fca7d>\u001b[0m in \u001b[0;36m<module>\u001b[1;34m\u001b[0m\n\u001b[1;32m----> 1\u001b[1;33m \u001b[0mdataset\u001b[0m\u001b[1;33m.\u001b[0m\u001b[0msample\u001b[0m\u001b[1;33m(\u001b[0m\u001b[1;36m1\u001b[0m\u001b[1;33m,\u001b[0m \u001b[1;36m2\u001b[0m\u001b[1;33m,\u001b[0m \u001b[1;34m\"Unknown\"\u001b[0m\u001b[1;33m,\u001b[0m\u001b[1;34m\"Empirical\"\u001b[0m\u001b[1;33m,\u001b[0m\u001b[1;32mNone\u001b[0m\u001b[1;33m,\u001b[0m \u001b[1;32mFalse\u001b[0m\u001b[1;33m)\u001b[0m\u001b[1;33m\u001b[0m\u001b[0m\n\u001b[0m",
      "\u001b[1;32m<ipython-input-62-a39449ebe1a7>\u001b[0m in \u001b[0;36msample\u001b[1;34m(self, n_ms1_peaks, ms_levels, chemical_type, chromatogram_type, formula_list, use_chrom_tuple)\u001b[0m\n\u001b[0;32m     22\u001b[0m         \u001b[1;32mfor\u001b[0m \u001b[0mi\u001b[0m \u001b[1;32min\u001b[0m \u001b[0mrange\u001b[0m\u001b[1;33m(\u001b[0m\u001b[0mself\u001b[0m\u001b[1;33m.\u001b[0m\u001b[0m_get_n\u001b[0m\u001b[1;33m(\u001b[0m\u001b[1;36m1\u001b[0m\u001b[1;33m)\u001b[0m\u001b[1;33m)\u001b[0m\u001b[1;33m:\u001b[0m\u001b[1;33m\u001b[0m\u001b[0m\n\u001b[0;32m     23\u001b[0m             \u001b[0msampled_peak\u001b[0m \u001b[1;33m=\u001b[0m \u001b[0mself\u001b[0m\u001b[1;33m.\u001b[0m\u001b[0mpeak_sampler\u001b[0m\u001b[1;33m.\u001b[0m\u001b[0msample\u001b[0m\u001b[1;33m(\u001b[0m\u001b[0mms_level\u001b[0m\u001b[1;33m=\u001b[0m\u001b[1;36m1\u001b[0m\u001b[1;33m,\u001b[0m \u001b[0mn_peaks\u001b[0m\u001b[1;33m=\u001b[0m\u001b[0mn_ms1_peaks\u001b[0m\u001b[1;33m)\u001b[0m\u001b[1;33m\u001b[0m\u001b[0m\n\u001b[1;32m---> 24\u001b[1;33m             \u001b[0mchrom\u001b[0m \u001b[1;33m=\u001b[0m \u001b[0mself\u001b[0m\u001b[1;33m.\u001b[0m\u001b[0m_get_chromatogram\u001b[0m\u001b[1;33m(\u001b[0m\u001b[0mchromatograms\u001b[0m\u001b[1;33m)\u001b[0m\u001b[1;33m\u001b[0m\u001b[0m\n\u001b[0m\u001b[0;32m     25\u001b[0m             \u001b[1;32mif\u001b[0m \u001b[0mself\u001b[0m\u001b[1;33m.\u001b[0m\u001b[0mchemical_type\u001b[0m \u001b[1;33m==\u001b[0m\u001b[1;34m\"Known\"\u001b[0m\u001b[1;33m:\u001b[0m\u001b[1;33m\u001b[0m\u001b[0m\n\u001b[0;32m     26\u001b[0m                 \u001b[0mformula\u001b[0m \u001b[1;33m=\u001b[0m \u001b[0mself\u001b[0m\u001b[1;33m.\u001b[0m\u001b[0mformula_list\u001b[0m\u001b[1;33m[\u001b[0m\u001b[0mi\u001b[0m\u001b[1;33m]\u001b[0m\u001b[1;33m\u001b[0m\u001b[0m\n",
      "\u001b[1;31mNameError\u001b[0m: name 'chromatograms' is not defined"
     ]
    }
   ],
   "source": [
    "dataset.sample(1, 2, \"Unknown\",\"Empirical\",None, False)"
   ]
  },
  {
   "cell_type": "code",
   "execution_count": null,
   "metadata": {},
   "outputs": [],
   "source": []
  }
 ],
 "metadata": {
  "kernelspec": {
   "display_name": "Python 3",
   "language": "python",
   "name": "python3"
  },
  "language_info": {
   "codemirror_mode": {
    "name": "ipython",
    "version": 3
   },
   "file_extension": ".py",
   "mimetype": "text/x-python",
   "name": "python",
   "nbconvert_exporter": "python",
   "pygments_lexer": "ipython3",
   "version": "3.6.6"
  }
 },
 "nbformat": 4,
 "nbformat_minor": 2
}
