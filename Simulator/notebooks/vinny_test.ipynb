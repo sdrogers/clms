{
 "cells": [
  {
   "cell_type": "code",
   "execution_count": 8,
   "metadata": {},
   "outputs": [],
   "source": [
    "import numpy as np\n",
    "import sys\n",
    "import scipy.stats\n",
    "import re\n",
    "import os"
   ]
  },
  {
   "cell_type": "code",
   "execution_count": 9,
   "metadata": {},
   "outputs": [
    {
     "name": "stdout",
     "output_type": "stream",
     "text": [
      "The autoreload extension is already loaded. To reload it, use:\n",
      "  %reload_ext autoreload\n"
     ]
    }
   ],
   "source": [
    "%load_ext autoreload\n",
    "%autoreload 2"
   ]
  },
  {
   "cell_type": "code",
   "execution_count": 10,
   "metadata": {},
   "outputs": [],
   "source": [
    "sys.path.append('../codes')"
   ]
  },
  {
   "cell_type": "code",
   "execution_count": 11,
   "metadata": {},
   "outputs": [
    {
     "name": "stdout",
     "output_type": "stream",
     "text": [
      "Pretty printing has been turned ON\n"
     ]
    }
   ],
   "source": [
    "%pprint"
   ]
  },
  {
   "cell_type": "code",
   "execution_count": 12,
   "metadata": {},
   "outputs": [],
   "source": [
    "from VMSfunctions.Common import *\n",
    "from VMSfunctions.Chemicals import *\n",
    "from VMSfunctions.Chromatograms import *\n",
    "from VMSfunctions.MassSpec import *\n",
    "from VMSfunctions.Controller import *"
   ]
  },
  {
   "cell_type": "markdown",
   "metadata": {},
   "source": [
    "# Mass Spec test"
   ]
  },
  {
   "cell_type": "code",
   "execution_count": 13,
   "metadata": {},
   "outputs": [],
   "source": [
    "base_dir = 'C:\\\\Users\\\\joewa\\\\University of Glasgow\\\\Vinny Davies - CLDS Metabolomics Project\\\\'\n",
    "base_dir = 'C:\\\\Users\\\\Vinny\\\\OneDrive - University of Glasgow\\\\CLDS Metabolomics Project\\\\'\n",
    "cc = ChromatogramCreator(os.path.join(base_dir, 'Trained Models\\\\chromatogram_19_beers.csv.gz'))"
   ]
  },
  {
   "cell_type": "code",
   "execution_count": 14,
   "metadata": {},
   "outputs": [],
   "source": [
    "hmdb = load_obj(os.path.join(base_dir, 'Trained Models\\\\hmdb_compounds.p'))"
   ]
  },
  {
   "cell_type": "code",
   "execution_count": 15,
   "metadata": {},
   "outputs": [],
   "source": [
    "ps = load_obj(os.path.join(base_dir, 'Trained Models\\\\peak_sampler_19_beers.p'))\n",
    "chemicals = ChemicalCreator(ps)"
   ]
  },
  {
   "cell_type": "markdown",
   "metadata": {},
   "source": [
    "# Improve Chemical Creator"
   ]
  },
  {
   "cell_type": "markdown",
   "metadata": {},
   "source": [
    "Need to test the chemical creator in more situations to make sure the code works as intended"
   ]
  },
  {
   "cell_type": "code",
   "execution_count": 34,
   "metadata": {},
   "outputs": [
    {
     "name": "stderr",
     "output_type": "stream",
     "text": [
      "DEBUG:ChemicalCreator:200 ms1 peaks to be created.\n",
      "DEBUG:ChemicalCreator:i = 0\n",
      "DEBUG:ChemicalCreator:i = 25\n",
      "DEBUG:ChemicalCreator:i = 50\n",
      "DEBUG:ChemicalCreator:i = 75\n",
      "DEBUG:ChemicalCreator:i = 100\n",
      "DEBUG:ChemicalCreator:i = 125\n",
      "DEBUG:ChemicalCreator:i = 150\n",
      "DEBUG:ChemicalCreator:i = 175\n"
     ]
    }
   ],
   "source": [
    "min_ms1_intensity = 2E5\n",
    "rt_range = [(3*60, 21*60)]\n",
    "mz_range = [(0, 1050)]\n",
    "set_log_level_debug()\n",
    "dataset = chemicals.sample(cc, mz_range, rt_range, min_ms1_intensity, 200, 2, \"Known\", None, hmdb, 0.1)"
   ]
  },
  {
   "cell_type": "code",
   "execution_count": 27,
   "metadata": {},
   "outputs": [],
   "source": [
    "# min_ms1_intensity = 2E5\n",
    "# min_rt = 3*60\n",
    "# max_rt = 21*60\n",
    "# chemicals = ChemicalCreator(ps)\n",
    "# dataset = chemicals.sample_from_chromatograms(cc, min_rt, max_rt, min_ms1_intensity, ms_levels=2)\n",
    "\n",
    "# TODO: Add way to specify n and then sample n chromatograms"
   ]
  },
  {
   "cell_type": "code",
   "execution_count": 35,
   "metadata": {},
   "outputs": [
    {
     "data": {
      "text/plain": [
       "[('M+H', 1.0),\n",
       " ('[M+ACN]+H', 0.10681555116192328),\n",
       " ('M+2Na-H', 0.18418822313482827),\n",
       " ('[M+DMSO]+H', 0.5632091234756443)]"
      ]
     },
     "execution_count": 35,
     "metadata": {},
     "output_type": "execute_result"
    }
   ],
   "source": [
    "dataset[0].adducts"
   ]
  },
  {
   "cell_type": "code",
   "execution_count": null,
   "metadata": {},
   "outputs": [],
   "source": []
  },
  {
   "cell_type": "markdown",
   "metadata": {},
   "source": [
    "# Multiple Datasets for DsDA"
   ]
  },
  {
   "cell_type": "code",
   "execution_count": 11,
   "metadata": {},
   "outputs": [
    {
     "name": "stderr",
     "output_type": "stream",
     "text": [
      "DEBUG:ChemicalCreator:200 ms1 peaks to be created.\n",
      "DEBUG:ChemicalCreator:i = 0\n",
      "DEBUG:ChemicalCreator:i = 25\n",
      "DEBUG:ChemicalCreator:i = 50\n",
      "DEBUG:ChemicalCreator:i = 75\n",
      "DEBUG:ChemicalCreator:i = 100\n",
      "DEBUG:ChemicalCreator:i = 125\n",
      "DEBUG:ChemicalCreator:i = 150\n",
      "DEBUG:ChemicalCreator:i = 175\n"
     ]
    }
   ],
   "source": [
    "min_ms1_intensity = 2E5\n",
    "rt_range = [(3*60, 21*60)]\n",
    "mz_range = [(0, 1000)]\n",
    "set_log_level_debug()\n",
    "dataset = chemicals.sample(cc, mz_range, rt_range, min_ms1_intensity, 200, 2, \"Known\", None, hmdb, 0.1)"
   ]
  },
  {
   "cell_type": "code",
   "execution_count": 12,
   "metadata": {},
   "outputs": [
    {
     "name": "stderr",
     "output_type": "stream",
     "text": [
      "DEBUG:MultiSampleCreator:Classes, Statuses and Differences defined.\n",
      "DEBUG:MultiSampleCreator:Dataset 1 of 10 created.\n",
      "DEBUG:MultiSampleCreator:Dataset 2 of 10 created.\n",
      "DEBUG:MultiSampleCreator:Dataset 3 of 10 created.\n",
      "DEBUG:MultiSampleCreator:Dataset 4 of 10 created.\n",
      "DEBUG:MultiSampleCreator:Dataset 5 of 10 created.\n",
      "DEBUG:MultiSampleCreator:Dataset 6 of 10 created.\n",
      "DEBUG:MultiSampleCreator:Dataset 7 of 10 created.\n",
      "DEBUG:MultiSampleCreator:Dataset 8 of 10 created.\n",
      "DEBUG:MultiSampleCreator:Dataset 9 of 10 created.\n",
      "DEBUG:MultiSampleCreator:Dataset 10 of 10 created.\n"
     ]
    }
   ],
   "source": [
    "n_samples = [10]\n",
    "classes = [\"class1\"]\n",
    "intensity_noise_sd = [1000]\n",
    "change_probabilities = None\n",
    "change_differences_means = None\n",
    "change_differences_sds = None\n",
    "dropout_probabilities = None \n",
    "experimental_classes = None \n",
    "experimental_probabilitities = None \n",
    "experimental_sds = None\n",
    "\n",
    "multiple_samples = MultiSampleCreator(dataset, n_samples, classes, intensity_noise_sd, \n",
    "                                      change_probabilities, change_differences_means, change_differences_sds, dropout_probabilities,\n",
    "                                     experimental_classes, experimental_probabilitities, experimental_sds)"
   ]
  },
  {
   "cell_type": "code",
   "execution_count": 13,
   "metadata": {},
   "outputs": [
    {
     "name": "stdout",
     "output_type": "stream",
     "text": [
      "KnownChemical - 'C11H12O5S' rt=794.70 max_intensity=311371.31\n",
      "KnownChemical - 'C11H12O5S' rt=794.70 max_intensity=310368.56\n",
      "KnownChemical - 'C11H12O5S' rt=794.70 max_intensity=312411.92\n"
     ]
    }
   ],
   "source": [
    "print(multiple_samples.samples[0][0])\n",
    "print(multiple_samples.samples[1][0])\n",
    "print(multiple_samples.samples[2][0])"
   ]
  },
  {
   "cell_type": "markdown",
   "metadata": {},
   "source": [
    "# Create Multiple Datasets"
   ]
  },
  {
   "cell_type": "code",
   "execution_count": 14,
   "metadata": {},
   "outputs": [
    {
     "name": "stderr",
     "output_type": "stream",
     "text": [
      "DEBUG:ChemicalCreator:200 ms1 peaks to be created.\n",
      "DEBUG:ChemicalCreator:i = 0\n",
      "DEBUG:ChemicalCreator:i = 25\n",
      "DEBUG:ChemicalCreator:i = 50\n",
      "DEBUG:ChemicalCreator:i = 75\n",
      "DEBUG:ChemicalCreator:i = 100\n",
      "DEBUG:ChemicalCreator:i = 125\n",
      "DEBUG:ChemicalCreator:i = 150\n",
      "DEBUG:ChemicalCreator:i = 175\n"
     ]
    }
   ],
   "source": [
    "min_ms1_intensity = 2E5\n",
    "rt_range = [(3*60, 21*60)]\n",
    "mz_range = [(0, 1000)]\n",
    "set_log_level_debug()\n",
    "dataset = chemicals.sample(cc, mz_range, rt_range, min_ms1_intensity, 200, 2, \"Known\", None, hmdb)"
   ]
  },
  {
   "cell_type": "code",
   "execution_count": 15,
   "metadata": {
    "scrolled": true
   },
   "outputs": [
    {
     "name": "stderr",
     "output_type": "stream",
     "text": [
      "DEBUG:MultiSampleCreator:Classes, Statuses and Differences defined.\n",
      "DEBUG:MultiSampleCreator:Dataset 1 of 15 created.\n",
      "DEBUG:MultiSampleCreator:Dataset 2 of 15 created.\n",
      "DEBUG:MultiSampleCreator:Dataset 3 of 15 created.\n",
      "DEBUG:MultiSampleCreator:Dataset 4 of 15 created.\n",
      "DEBUG:MultiSampleCreator:Dataset 5 of 15 created.\n",
      "DEBUG:MultiSampleCreator:Dataset 6 of 15 created.\n",
      "DEBUG:MultiSampleCreator:Dataset 7 of 15 created.\n",
      "DEBUG:MultiSampleCreator:Dataset 8 of 15 created.\n",
      "DEBUG:MultiSampleCreator:Dataset 9 of 15 created.\n",
      "DEBUG:MultiSampleCreator:Dataset 10 of 15 created.\n",
      "DEBUG:MultiSampleCreator:Dataset 11 of 15 created.\n",
      "DEBUG:MultiSampleCreator:Dataset 12 of 15 created.\n",
      "DEBUG:MultiSampleCreator:Dataset 13 of 15 created.\n",
      "DEBUG:MultiSampleCreator:Dataset 14 of 15 created.\n",
      "DEBUG:MultiSampleCreator:Dataset 15 of 15 created.\n"
     ]
    }
   ],
   "source": [
    "n_samples = [5,5,5]\n",
    "classes = [\"class1\",\"class2\",\"class3\"]\n",
    "intensity_noise_sd = [1000]\n",
    "change_probabilities = [0.2,0.2]\n",
    "change_differences_means = [10000,20000]\n",
    "change_differences_sds = [0,0] # 0 means fixed difference between class and class1\n",
    "dropout_probabilities = [0.2,0.2,0.2]\n",
    "experimental_classes = None # [[\"male\",\"female\"],[\"Positive\",\"Negative\",\"Unknown\"]]\n",
    "experimental_probabilitities = None # [[0.5,0.5],[0.33,0.33,0.34]]\n",
    "experimental_sds = None # [[250],[250]]\n",
    "\n",
    "multiple_samples = MultiSampleCreator(dataset, n_samples, classes, intensity_noise_sd, \n",
    "                                      change_probabilities, change_differences_means, change_differences_sds, dropout_probabilities,\n",
    "                                     experimental_classes, experimental_probabilitities, experimental_sds)"
   ]
  },
  {
   "cell_type": "code",
   "execution_count": 16,
   "metadata": {},
   "outputs": [
    {
     "name": "stdout",
     "output_type": "stream",
     "text": [
      "['unchanged' 'unchanged' 'unchanged']\n",
      "['unchanged' 'unchanged' 'unchanged']\n",
      "['unchanged' 'unchanged' 'unchanged']\n",
      "\n",
      "[KnownChemical - 'C17H36' rt=378.63 max_intensity=804516.46, KnownChemical - 'C5H13O14P3' rt=370.75 max_intensity=406911.61, KnownChemical - 'C48H87N3O15P2' rt=197.40 max_intensity=1146629.97]\n",
      "[KnownChemical - 'C17H36' rt=378.63 max_intensity=806861.33, KnownChemical - 'C5H13O14P3' rt=370.75 max_intensity=406861.20, KnownChemical - 'C48H87N3O15P2' rt=197.40 max_intensity=1147108.63]\n",
      "[KnownChemical - 'C17H36' rt=378.63 max_intensity=804682.40, KnownChemical - 'C5H13O14P3' rt=370.75 max_intensity=407722.54, KnownChemical - 'C48H87N3O15P2' rt=197.40 max_intensity=1143813.98]\n"
     ]
    }
   ],
   "source": [
    "print(multiple_samples.chemical_statuses[0][0:3])\n",
    "print(multiple_samples.chemical_statuses[1][0:3])\n",
    "print(multiple_samples.chemical_statuses[2][0:3])\n",
    "\n",
    "print( )\n",
    "\n",
    "print(multiple_samples.samples[0][0:3])\n",
    "print(multiple_samples.samples[5][0:3])\n",
    "print(multiple_samples.samples[10][0:3])\n"
   ]
  },
  {
   "cell_type": "code",
   "execution_count": 17,
   "metadata": {
    "scrolled": true
   },
   "outputs": [
    {
     "name": "stdout",
     "output_type": "stream",
     "text": [
      "804516.45929824 class1\n",
      "806033.7900130916 class1\n",
      "805907.7344418495 class1\n",
      "806065.6056768899 class1\n",
      "804184.109954954 class1\n",
      "\n",
      "806861.3340528313 class2 unchanged 0\n",
      "805240.9351216273 class2 unchanged 0\n",
      "806523.3703723467 class2 unchanged 0\n",
      "804120.1576747304 class2 unchanged 0\n",
      "806060.7234808601 class2 unchanged 0\n",
      "\n",
      "804682.401552305 class3 unchanged 0\n",
      "805845.453586074 class3 unchanged 0\n",
      "805236.8354346253 class3 unchanged 0\n",
      "804300.8860696106 class3 unchanged 0\n",
      "805687.0927033894 class3 unchanged 0\n"
     ]
    }
   ],
   "source": [
    "i = 0\n",
    "for j in range(len(multiple_samples.samples)):\n",
    "    if j>0 and multiple_samples.sample_classes[j] != multiple_samples.sample_classes[j-1]:\n",
    "        print( )\n",
    "    if multiple_samples.sample_classes[j] == multiple_samples.classes[0]:\n",
    "        print(multiple_samples.samples[j][i].max_intensity, multiple_samples.sample_classes[j])\n",
    "    else:\n",
    "        print(multiple_samples.samples[j][i].max_intensity, multiple_samples.sample_classes[j],\n",
    "              multiple_samples.chemical_statuses[np.where(np.array(multiple_samples.classes)==multiple_samples.sample_classes[j])[0][0]-1][i],\n",
    "             multiple_samples.chemical_differences_from_class1[np.where(np.array(multiple_samples.classes)==multiple_samples.sample_classes[j])[0][0]][i])"
   ]
  },
  {
   "cell_type": "code",
   "execution_count": 18,
   "metadata": {},
   "outputs": [
    {
     "name": "stderr",
     "output_type": "stream",
     "text": [
      "600.0756892507052it [00:08, 67.23it/s]                                                                                 \n"
     ]
    }
   ],
   "source": [
    "max_rt = 10*60                  # the maximum retention time of scans to generate\n",
    "N = 1                           # top-5 DDA fragmentation\n",
    "isolation_window = 0.5          # the isolation window in Dalton around a selected precursor ion\n",
    "rt_tol = 15                     # the rt window around a selected precursor ion to prevent it from fragmented multiple times\n",
    "min_ms1_intensity = 2E5         # the minimum ms1 peak intensity\n",
    "multi_dataset = multiple_samples.samples[0]\n",
    "\n",
    "mass_spec = IndependentMassSpectrometer(POSITIVE, multi_dataset, density=ps.density_estimator)\n",
    "controller = TopNController(mass_spec, N, isolation_window, rt_tol, min_ms1_intensity)\n",
    "\n",
    "set_log_level_warning() # We don't want to see too many messages as the controller is running\n",
    "# set_log_level_info()\n",
    "# set_log_level_debug()\n",
    "\n",
    "controller.run(0, max_rt)"
   ]
  },
  {
   "cell_type": "code",
   "execution_count": 19,
   "metadata": {},
   "outputs": [],
   "source": [
    "# controller.write_mzML('my_analysis2', '../models/out2.mzML')\n",
    "# save_obj(controller, '../models/noisy_top_N_controllers.p')"
   ]
  },
  {
   "cell_type": "markdown",
   "metadata": {},
   "source": [
    "# Calculate DIA performance"
   ]
  },
  {
   "cell_type": "code",
   "execution_count": 52,
   "metadata": {},
   "outputs": [
    {
     "name": "stderr",
     "output_type": "stream",
     "text": [
      "DEBUG:ChemicalCreator:50 ms1 peaks to be created.\n",
      "DEBUG:ChemicalCreator:i = 0\n",
      "DEBUG:ChemicalCreator:i = 25\n",
      "DEBUG:ChemicalCreator:3000 ms1 peaks to be created.\n",
      "DEBUG:ChemicalCreator:i = 0\n",
      "DEBUG:ChemicalCreator:i = 25\n",
      "DEBUG:ChemicalCreator:i = 50\n",
      "DEBUG:ChemicalCreator:i = 75\n",
      "DEBUG:ChemicalCreator:i = 100\n",
      "DEBUG:ChemicalCreator:i = 125\n",
      "DEBUG:ChemicalCreator:i = 150\n",
      "DEBUG:ChemicalCreator:i = 175\n",
      "DEBUG:ChemicalCreator:i = 200\n",
      "DEBUG:ChemicalCreator:i = 225\n",
      "DEBUG:ChemicalCreator:i = 250\n",
      "DEBUG:ChemicalCreator:i = 275\n",
      "DEBUG:ChemicalCreator:i = 300\n",
      "DEBUG:ChemicalCreator:i = 325\n",
      "DEBUG:ChemicalCreator:i = 350\n",
      "DEBUG:ChemicalCreator:i = 375\n",
      "DEBUG:ChemicalCreator:i = 400\n",
      "DEBUG:ChemicalCreator:i = 425\n",
      "DEBUG:ChemicalCreator:i = 450\n",
      "DEBUG:ChemicalCreator:i = 475\n",
      "DEBUG:ChemicalCreator:i = 500\n",
      "DEBUG:ChemicalCreator:i = 525\n",
      "DEBUG:ChemicalCreator:i = 550\n",
      "DEBUG:ChemicalCreator:i = 575\n",
      "DEBUG:ChemicalCreator:i = 600\n",
      "DEBUG:ChemicalCreator:i = 625\n",
      "DEBUG:ChemicalCreator:i = 650\n",
      "DEBUG:ChemicalCreator:i = 675\n",
      "DEBUG:ChemicalCreator:i = 700\n",
      "DEBUG:ChemicalCreator:i = 725\n",
      "DEBUG:ChemicalCreator:i = 750\n",
      "DEBUG:ChemicalCreator:i = 775\n",
      "DEBUG:ChemicalCreator:i = 800\n",
      "DEBUG:ChemicalCreator:i = 825\n",
      "DEBUG:ChemicalCreator:i = 850\n",
      "DEBUG:ChemicalCreator:i = 875\n",
      "DEBUG:ChemicalCreator:i = 900\n",
      "DEBUG:ChemicalCreator:i = 925\n",
      "DEBUG:ChemicalCreator:i = 950\n",
      "DEBUG:ChemicalCreator:i = 975\n",
      "DEBUG:ChemicalCreator:i = 1000\n",
      "DEBUG:ChemicalCreator:i = 1025\n",
      "DEBUG:ChemicalCreator:i = 1050\n",
      "DEBUG:ChemicalCreator:i = 1075\n",
      "DEBUG:ChemicalCreator:i = 1100\n",
      "DEBUG:ChemicalCreator:i = 1125\n",
      "DEBUG:ChemicalCreator:i = 1150\n",
      "DEBUG:ChemicalCreator:i = 1175\n",
      "DEBUG:ChemicalCreator:i = 1200\n",
      "DEBUG:ChemicalCreator:i = 1225\n",
      "DEBUG:ChemicalCreator:i = 1250\n",
      "DEBUG:ChemicalCreator:i = 1275\n",
      "DEBUG:ChemicalCreator:i = 1300\n",
      "DEBUG:ChemicalCreator:i = 1325\n",
      "DEBUG:ChemicalCreator:i = 1350\n",
      "DEBUG:ChemicalCreator:i = 1375\n",
      "DEBUG:ChemicalCreator:i = 1400\n",
      "DEBUG:ChemicalCreator:i = 1425\n",
      "DEBUG:ChemicalCreator:i = 1450\n",
      "DEBUG:ChemicalCreator:i = 1475\n",
      "DEBUG:ChemicalCreator:i = 1500\n",
      "DEBUG:ChemicalCreator:i = 1525\n",
      "DEBUG:ChemicalCreator:i = 1550\n",
      "DEBUG:ChemicalCreator:i = 1575\n",
      "DEBUG:ChemicalCreator:i = 1600\n",
      "DEBUG:ChemicalCreator:i = 1625\n",
      "DEBUG:ChemicalCreator:i = 1650\n",
      "DEBUG:ChemicalCreator:i = 1675\n",
      "DEBUG:ChemicalCreator:i = 1700\n",
      "DEBUG:ChemicalCreator:i = 1725\n",
      "DEBUG:ChemicalCreator:i = 1750\n",
      "DEBUG:ChemicalCreator:i = 1775\n",
      "DEBUG:ChemicalCreator:i = 1800\n",
      "DEBUG:ChemicalCreator:i = 1825\n",
      "DEBUG:ChemicalCreator:i = 1850\n",
      "DEBUG:ChemicalCreator:i = 1875\n",
      "DEBUG:ChemicalCreator:i = 1900\n",
      "DEBUG:ChemicalCreator:i = 1925\n",
      "DEBUG:ChemicalCreator:i = 1950\n",
      "DEBUG:ChemicalCreator:i = 1975\n",
      "DEBUG:ChemicalCreator:i = 2000\n",
      "DEBUG:ChemicalCreator:i = 2025\n",
      "DEBUG:ChemicalCreator:i = 2050\n",
      "DEBUG:ChemicalCreator:i = 2075\n",
      "DEBUG:ChemicalCreator:i = 2100\n",
      "DEBUG:ChemicalCreator:i = 2125\n",
      "DEBUG:ChemicalCreator:i = 2150\n",
      "DEBUG:ChemicalCreator:i = 2175\n",
      "DEBUG:ChemicalCreator:i = 2200\n",
      "DEBUG:ChemicalCreator:i = 2225\n",
      "DEBUG:ChemicalCreator:i = 2250\n",
      "DEBUG:ChemicalCreator:i = 2275\n",
      "DEBUG:ChemicalCreator:i = 2300\n",
      "DEBUG:ChemicalCreator:i = 2325\n",
      "DEBUG:ChemicalCreator:i = 2350\n",
      "DEBUG:ChemicalCreator:i = 2375\n",
      "DEBUG:ChemicalCreator:i = 2400\n",
      "DEBUG:ChemicalCreator:i = 2425\n",
      "DEBUG:ChemicalCreator:i = 2450\n",
      "DEBUG:ChemicalCreator:i = 2475\n",
      "DEBUG:ChemicalCreator:i = 2500\n",
      "DEBUG:ChemicalCreator:i = 2525\n",
      "DEBUG:ChemicalCreator:i = 2550\n",
      "DEBUG:ChemicalCreator:i = 2575\n",
      "DEBUG:ChemicalCreator:i = 2600\n",
      "DEBUG:ChemicalCreator:i = 2625\n",
      "DEBUG:ChemicalCreator:i = 2650\n",
      "DEBUG:ChemicalCreator:i = 2675\n",
      "DEBUG:ChemicalCreator:i = 2700\n",
      "DEBUG:ChemicalCreator:i = 2725\n",
      "DEBUG:ChemicalCreator:i = 2750\n",
      "DEBUG:ChemicalCreator:i = 2775\n",
      "DEBUG:ChemicalCreator:i = 2800\n",
      "DEBUG:ChemicalCreator:i = 2825\n",
      "DEBUG:ChemicalCreator:i = 2850\n",
      "DEBUG:ChemicalCreator:i = 2875\n",
      "DEBUG:ChemicalCreator:i = 2900\n",
      "DEBUG:ChemicalCreator:i = 2925\n",
      "DEBUG:ChemicalCreator:i = 2950\n",
      "DEBUG:ChemicalCreator:i = 2975\n"
     ]
    }
   ],
   "source": [
    "min_ms1_intensity = 2E5\n",
    "rt_range = [(180, 1260)]\n",
    "mz_range = [(0, 1050)]\n",
    "chemicals = ChemicalCreator(ps)\n",
    "dataset = chemicals.sample(cc, mz_range, rt_range, min_ms1_intensity, 50, 2, \"Unknown\", None, None, fixed_mz = True)\n",
    "big_dataset = chemicals.sample(cc, mz_range, rt_range, min_ms1_intensity, 3000, 2, \"Unknown\", None, None, fixed_mz = True)"
   ]
  },
  {
   "cell_type": "code",
   "execution_count": 66,
   "metadata": {},
   "outputs": [
    {
     "data": {
      "text/plain": [
       "array([0., 1.])"
      ]
     },
     "execution_count": 66,
     "metadata": {},
     "output_type": "execute_result"
    }
   ],
   "source": [
    "np.arange(1.5)"
   ]
  },
  {
   "cell_type": "code",
   "execution_count": 77,
   "metadata": {},
   "outputs": [
    {
     "data": {
      "text/plain": [
       "934166.3420434663"
      ]
     },
     "execution_count": 77,
     "metadata": {},
     "output_type": "execute_result"
    }
   ],
   "source": [
    "big_dataset[0].max_intensity"
   ]
  },
  {
   "cell_type": "code",
   "execution_count": 78,
   "metadata": {},
   "outputs": [
    {
     "data": {
      "text/plain": [
       "13.643238777010431"
      ]
     },
     "execution_count": 78,
     "metadata": {},
     "output_type": "execute_result"
    },
    {
     "data": {
      "image/png": "[encoded data removed]",
      "text/plain": [
       "<Figure size 432x288 with 1 Axes>"
      ]
     },
     "metadata": {
      "needs_background": "light"
     },
     "output_type": "display_data"
    }
   ],
   "source": [
    "big_dataset2 = ps.sample(1,3000,mz_range[0][0],mz_range[0][1],rt_range[0][0],rt_range[0][1],min_ms1_intensity)\n",
    "\n",
    "rts = [i.rt for i in big_dataset]\n",
    "mzs = [i.isotopes[0][0] for i in big_dataset]\n",
    "mzs2 = [i.mz for i in big_dataset2]\n",
    "int = np.log([i.max_intensity for i in big_dataset])\n",
    "int2 = np.log([i.intensity for i in big_dataset2])\n",
    "#plt.boxplot(rts)\n",
    "#np.median(rts)\n",
    "#binwidth=1\n",
    "#plt.hist(mzs,bins=np.arange(min(mzs), max(mzs) + binwidth, binwidth))\n",
    "#print(np.median(mzs))\n",
    "#print(np.median(mzs2))\n",
    "\n",
    "plt.boxplot(int)\n",
    "np.median(int)"
   ]
  },
  {
   "cell_type": "code",
   "execution_count": 44,
   "metadata": {},
   "outputs": [
    {
     "data": {
      "text/plain": [
       "869.6996455125027"
      ]
     },
     "execution_count": 44,
     "metadata": {},
     "output_type": "execute_result"
    }
   ],
   "source": [
    "big_dataset[0].isotopes[0][0]"
   ]
  },
  {
   "cell_type": "code",
   "execution_count": 33,
   "metadata": {},
   "outputs": [
    {
     "name": "stderr",
     "output_type": "stream",
     "text": [
      "1000.1212441446963it [00:01, 888.07it/s]                                                                               \n"
     ]
    }
   ],
   "source": [
    "max_rt = 10*60    \n",
    "dia_design = \"basic\"\n",
    "window_type = \"even\"\n",
    "kaufmann_design = None\n",
    "extra_bins = 0\n",
    "num_windows=5\n",
    "\n",
    "mass_spec = IndependentMassSpectrometer(POSITIVE, dataset, density=ps.density_estimator)\n",
    "controller = TreeController(mass_spec, dia_design, window_type, kaufmann_design, extra_bins, num_windows)\n",
    "\n",
    "set_log_level_warning() # We don't want to see too many messages as the controller is running\n",
    "# set_log_level_info()\n",
    "# set_log_level_debug()\n",
    "\n",
    "controller.run(0, rt_range[0][1])"
   ]
  },
  {
   "cell_type": "code",
   "execution_count": 34,
   "metadata": {},
   "outputs": [
    {
     "name": "stdout",
     "output_type": "stream",
     "text": [
      "1.0\n"
     ]
    },
    {
     "data": {
      "text/plain": [
       "[773.0910910685212, 774.4053689632048, 775.9566271274631, 776.8412512622145, 777.9182349634448, 778.7635197641818, 779.8720000682075, 780.7809743174365, 781.6965637895852, 783.013615612166, 784.120587233941, 785.1912615057842, 786.2348036568907, 787.2762572313691, 788.1231701554833, 789.590358741007, 790.3481800514637, 791.9259206467551, 792.954556028831, 793.9393053250727, 794.9655486210597, 795.9178587042596, 797.0453000945579, 798.0779113956464, 798.7499437609463, 799.7547529859805, 801.0162302823979, 801.9092083668785]"
      ]
     },
     "execution_count": 34,
     "metadata": {},
     "output_type": "execute_result"
    }
   ],
   "source": [
    "PROTON_MASS = 1.00727645199076\n",
    "\n",
    "ca = Controller_Analyser(controller)\n",
    "print(ca.proportion_ms1_fragmented)\n",
    "\n",
    "\n",
    "mz2 = ca.list_of_ms2_mzs_dataset[0] + PROTON_MASS\n",
    "\n",
    "times_alluting = []\n",
    "for scan in controller.scans[2]:\n",
    "    if mz2 in scan.mzs:\n",
    "        times_alluting.append(scan.rt)\n",
    "times_alluting # we know that this\n"
   ]
  },
  {
   "cell_type": "markdown",
   "metadata": {},
   "source": [
    "for each ms2\n",
    "    loop over each ms1\n",
    "        loop over scans\n",
    "            does it match the allution status of the ms2\n",
    "        \n",
    "- base on logic that we know the exact ellution times of the chemical\n",
    "- and no noise in mzs"
   ]
  },
  {
   "cell_type": "code",
   "execution_count": 46,
   "metadata": {},
   "outputs": [
    {
     "data": {
      "text/plain": [
       "165.68091394786302"
      ]
     },
     "execution_count": 46,
     "metadata": {},
     "output_type": "execute_result"
    }
   ],
   "source": [
    "ca.list_of_ms2_mzs_dataset[0]"
   ]
  },
  {
   "cell_type": "code",
   "execution_count": 49,
   "metadata": {
    "scrolled": true
   },
   "outputs": [
    {
     "name": "stdout",
     "output_type": "stream",
     "text": [
      "1\n",
      "[773.09109107 774.40536896 775.95662713 776.84125126 777.91823496\n",
      " 778.76351976 779.87200007 780.78097432 781.69656379 783.01361561\n",
      " 784.12058723 785.19126151 786.23480366 787.27625723 788.12317016\n",
      " 789.59035874 790.34818005 791.92592065 792.95455603 793.93930533\n",
      " 794.96554862 795.9178587  797.04530009 798.0779114  798.74994376\n",
      " 799.75475299 801.01623028 801.90920837]\n",
      "772.276249197165\n",
      "here\n",
      "387.1215430535046\n",
      "871.2107850796341\n",
      "221.4294326093136\n",
      "980.6510083164427\n",
      "773.2429361846852\n",
      "480.29166280675827\n",
      "221.81758078401018\n",
      "880.7080006736378\n",
      "432.919777548435\n",
      "955.6259291297836\n",
      "443.3079730544807\n",
      "615.3423329793908\n",
      "757.5237948024279\n",
      "460.536353615459\n",
      "496.4807677091643\n",
      "465.30083365261845\n",
      "442.0921784550659\n",
      "387.32322532122635\n",
      "755.9266000348038\n",
      "407.6139479988293\n",
      "784.7326800637989\n",
      "401.69374326584045\n",
      "233.45710436273248\n",
      "296.5751840362354\n",
      "951.5663791210458\n",
      "520.7669836230283\n",
      "983.0555527596586\n",
      "434.23578493107334\n",
      "766.7927886691672\n",
      "661.4681279395692\n",
      "178.53584684075096\n",
      "866.818420548515\n",
      "671.1191740483396\n",
      "695.0705808380225\n",
      "356.56508519757284\n",
      "535.6880240840948\n",
      "236.9131276935476\n",
      "745.0430935962856\n",
      "here\n",
      "221.27516352218802\n",
      "752.2830742489907\n",
      "392.8948050910737\n",
      "572.395953747314\n",
      "737.2380680805558\n",
      "509.6342686220343\n",
      "805.0920599428206\n",
      "779.0847287815358\n",
      "586.337685477605\n",
      "881.9188322375398\n",
      "554.8797290789375\n",
      "2\n",
      "[773.09109107 774.40536896 775.95662713 776.84125126 777.91823496\n",
      " 778.76351976 779.87200007 780.78097432 781.69656379 783.01361561\n",
      " 784.12058723 785.19126151 786.23480366 787.27625723 788.12317016\n",
      " 789.59035874 790.34818005 791.92592065 792.95455603 793.93930533\n",
      " 794.96554862 795.9178587  797.04530009 798.0779114  798.74994376\n",
      " 799.75475299 801.01623028 801.90920837]\n",
      "772.276249197165\n",
      "here\n",
      "387.1215430535046\n",
      "871.2107850796341\n",
      "221.4294326093136\n",
      "980.6510083164427\n",
      "773.2429361846852\n",
      "480.29166280675827\n",
      "221.81758078401018\n",
      "880.7080006736378\n",
      "432.919777548435\n",
      "955.6259291297836\n",
      "443.3079730544807\n",
      "615.3423329793908\n",
      "757.5237948024279\n",
      "460.536353615459\n",
      "496.4807677091643\n",
      "465.30083365261845\n",
      "442.0921784550659\n",
      "387.32322532122635\n",
      "755.9266000348038\n",
      "407.6139479988293\n",
      "784.7326800637989\n",
      "401.69374326584045\n",
      "233.45710436273248\n",
      "296.5751840362354\n",
      "951.5663791210458\n",
      "520.7669836230283\n",
      "983.0555527596586\n",
      "434.23578493107334\n",
      "766.7927886691672\n",
      "661.4681279395692\n",
      "178.53584684075096\n",
      "866.818420548515\n",
      "671.1191740483396\n",
      "695.0705808380225\n",
      "356.56508519757284\n",
      "535.6880240840948\n",
      "236.9131276935476\n",
      "745.0430935962856\n",
      "here\n",
      "221.27516352218802\n",
      "752.2830742489907\n",
      "392.8948050910737\n",
      "572.395953747314\n",
      "737.2380680805558\n",
      "509.6342686220343\n",
      "805.0920599428206\n",
      "779.0847287815358\n",
      "586.337685477605\n",
      "881.9188322375398\n",
      "554.8797290789375\n"
     ]
    }
   ],
   "source": [
    "number_of_possible_chemicals = []\n",
    "counter = 0\n",
    "for mz_dataset in ca.list_of_ms2_mzs_dataset[0:2]:\n",
    "    counter += 1\n",
    "    print(counter)\n",
    "    if mz_dataset + PROTON_MASS not in ca.list_of_ms2_mzs_controller:\n",
    "        possible_chemicals = len(controller.mass_spec.chemicals) \n",
    "        # this isnt technically accurate\n",
    "        # should technically be the number of chemicals we arent sure whether have been fragmented\n",
    "        number_of_possible_chemicals.append(possible_chemicals)\n",
    "    else:\n",
    "        possible_chemicals = 0\n",
    "        allution_times = []\n",
    "        for scan in controller.scans[2]:\n",
    "            if mz2 in scan.mzs:\n",
    "                allution_times.append(scan.rt)\n",
    "        allution_times = np.array(allution_times)\n",
    "        print(allution_times)\n",
    "        for chem in controller.mass_spec.chemicals:\n",
    "            print(chem.rt)\n",
    "            chemical_rt_range = [chem.rt, chem.rt + chem.chromatogram.rts[-1]]\n",
    "            if np.logical_and(chemical_rt_range[0] < allution_times,allution_times < chemical_rt_range[1]).all():\n",
    "                print(\"here\")\n",
    "                scan_num = 0\n",
    "                allution_status_matches = True\n",
    "                while allution_status_matches and scan_num < len(controller.scans[2]):\n",
    "                    # check status\n",
    "                    ms2_elluting = (mz_dataset + PROTON_MASS) in controller.scans[2][scan_num].mzs\n",
    "                    ms2_scan_status = controller.mass_spec._get_mz_peaks(chem, controller.scans[2][scan_num].rt, 1, controller.scans[2][scan_num].isolation_windows, 1, 1)\n",
    "                    ms2_in_scan = (ms2_scan_status is not None)\n",
    "                    if ms2_elluting != ms2_in_scan:\n",
    "                        allution_status = False\n",
    "                    scan_num += 1\n",
    "                possible_chemicals += int(allution_status)\n",
    "        number_of_possible_chemicals.append(possible_chemicals)"
   ]
  },
  {
   "cell_type": "code",
   "execution_count": 37,
   "metadata": {},
   "outputs": [
    {
     "data": {
      "text/plain": [
       "[0, 0, 0, 0, 0, 0, 0, 0, 0, 0, 0, 0, 0, 0, 0, 0, 0, 0, 0, 0, 0, 0, 0, 0, 0, 0, 0, 0, 0, 0, 0, 0, 0, 0, 0, 0, 0, 0, 0, 0, 0, 0, 0, 0, 0, 0, 0, 0, 0, 0, 0, 0, 0, 0, 0, 0, 0, 0, 0, 0, 0, 0, 0, 0, 0, 0, 0, 0, 0, 0, 0, 0, 0, 0, 0, 0, 0, 0, 0, 0, 0, 0, 0, 0, 0, 0, 0, 0, 0, 0, 0, 0, 0, 0, 0, 0, 0, 0, 0, 0, 0, 0, 0, 0, 0, 0, 0, 0, 0, 0, 0, 0, 0, 0, 0, 0, 0, 0, 0, 0, 0, 0, 0, 0, 0, 0, 0, 0, 0, 0, 0, 0, 0, 0, 0, 0, 0, 0, 0, 0, 0, 0, 0, 0, 0, 0, 0, 0, 0, 0, 0, 0, 0, 0, 0, 0, 0, 0, 0, 0, 0, 0, 0, 0, 0, 0, 0, 0, 0, 0, 0, 0, 0, 0, 0, 0, 0, 0, 0, 0, 0, 0, 0, 0, 0, 0, 0, 0, 0, 0, 0, 0, 0, 0, 0, 0, 0, 0, 0, 0, 0, 0, 0, 0, 0, 0, 0, 0, 0, 0, 0, 0, 0, 0, 0, 0, 0, 0, 0, 0, 0, 0, 0, 0, 0, 0, 0, 0, 0, 0, 0, 0, 0, 0, 0, 0, 0, 0, 0, 0, 0, 0, 0, 0, 0, 0, 0, 0, 0, 0, 0, 0, 0, 0, 0, 0, 0, 0, 0, 0, 0, 0, 0, 0, 0, 0, 0, 0, 0, 0, 0, 0, 0, 0, 0, 0, 0, 0, 0, 0, 0, 0, 0, 0, 0, 0, 0, 0, 0, 0, 0, 0, 0, 0, 0, 0, 0, 0, 0, 0, 0, 0, 0, 0, 0, 0, 0, 0, 0, 0, 0, 0, 0, 0, 0, 0, 0, 0, 0, 0, 0, 0, 0, 0, 0, 0, 0, 0, 0, 0, 0, 0, 0, 0, 0, 0, 0, 0, 0, 0, 0, 0, 0, 0, 0, 0, 0, 0, 0, 0, 0, 0, 0, 0, 0, 0, 0, 0, 0, 0, 0, 0, 0, 0, 0, 0, 0, 0, 0, 0, 0, 0, 0, 0, 0, 0, 0, 0, 0, 0, 0, 0, 0, 0, 0, 0, 0, 0, 0, 0, 0, 0, 0, 0, 0, 0, 0, 0, 0, 0, 0, 0, 0, 0, 0, 0, 0, 0, 0, 0, 0, 0, 0, 0, 0, 0, 0, 0, 0, 0, 0, 0, 0, 0, 0, 0, 0, 0, 0, 0, 0, 0, 0, 0, 0, 0, 0, 0, 0, 0, 0, 0, 0, 0, 0, 0, 0, 0, 0, 0, 0, 0, 0, 0, 0, 0, 0, 0, 0, 0, 0, 0, 0, 0, 0, 0, 0, 0, 0, 0, 0, 0, 0, 0, 0, 0, 0, 0, 0, 0, 0, 0, 0, 0, 0, 0, 0, 0, 0, 0, 0, 0, 0, 0, 0, 0, 0, 0, 0, 0, 0, 0, 0, 0, 0, 0, 0, 0, 0, 0, 0, 0, 0, 0, 0, 0, 0, 0, 0, 0, 0, 0, 0, 0, 0, 0, 0, 0, 0, 0, 0, 0, 0, 0, 0, 0, 0, 0, 0, 0, 0, 0, 0, 0, 0, 0, 0, 0, 0, 0, 0, 0, 0, 0, 0, 0, 0, 0, 0, 0, 0, 0, 0, 0, 0, 0, 0, 0, 0, 0, 0, 0, 0, 0, 0, 0, 0, 0, 0, 0, 0, 0, 0, 0, 0, 0, 0, 0, 0, 0, 0, 0, 0, 0, 0, 0, 0, 0, 0, 0, 0, 0, 0, 0, 0, 0, 0, 0, 0, 0, 0, 0, 0, 0, 0, 0, 0, 0, 0, 0, 0, 0, 0, 0, 0, 0, 0, 0, 0, 0, 0, 0, 0, 0, 0, 0, 0]"
      ]
     },
     "execution_count": 37,
     "metadata": {},
     "output_type": "execute_result"
    }
   ],
   "source": [
    "number_of_possible_chemicals"
   ]
  },
  {
   "cell_type": "code",
   "execution_count": null,
   "metadata": {},
   "outputs": [],
   "source": [
    "int(False)"
   ]
  },
  {
   "cell_type": "code",
   "execution_count": 23,
   "metadata": {},
   "outputs": [],
   "source": [
    "# only works when MS1 dont have shared MS2s\n",
    "# only works when no isotopes or adducts\n",
    "class Controller_Analyser(object):\n",
    "    def __init__ (self, controller):\n",
    "        \n",
    "        # calculate observed MS2 mzs\n",
    "        self.list_of_ms2_mzs_controller = []\n",
    "        for scan in controller.scans[2]:\n",
    "            self.list_of_ms2_mzs_controller.extend(scan.mzs.tolist())\n",
    "        self.list_of_ms2_mzs_controller = np.unique(np.array(self.list_of_ms2_mzs_controller))\n",
    "        \n",
    "        # calculate list of all MS2 mzs\n",
    "        self.list_of_ms2_mzs_dataset = []\n",
    "        for chem in controller.mass_spec.chemicals:\n",
    "            for child in chem.children:\n",
    "                self.list_of_ms2_mzs_dataset.append(child.isotopes[0][0])\n",
    "            \n",
    "        # calculate observed MS1 mzs\n",
    "        self.list_of_ms1_mzs_controller = []\n",
    "        for scan in controller.scans[1]:\n",
    "            self.list_of_ms1_mzs_controller.extend(scan.mzs.tolist())\n",
    "        self.list_of_ms1_mzs_controller = np.unique(np.array(self.list_of_ms1_mzs_controller))\n",
    "        \n",
    "        # proportion of MS1 observed\n",
    "        self.proportion_ms1_fragmented = len(self.list_of_ms1_mzs_controller) / len(controller.mass_spec.chemicals)\n",
    "        \n",
    "        # calculate all ms2 RTs\n",
    "        self.ms2_rts = []\n",
    "        for scan in controller.scans[2]:\n",
    "            self.ms2_rts.append(scan.rt)\n",
    "        \n",
    "        # calculate rt and mz region for each ms2 mz from dataset\n",
    "        "
   ]
  },
  {
   "cell_type": "markdown",
   "metadata": {},
   "source": [
    "Percentage of MS2 Fragmented"
   ]
  },
  {
   "cell_type": "code",
   "execution_count": null,
   "metadata": {
    "scrolled": true
   },
   "outputs": [],
   "source": [
    "max_rt = 10*60    \n",
    "dia_design = \"basic\"\n",
    "window_type = \"even\"\n",
    "kaufmann_design = None\n",
    "extra_bins = 0\n",
    "set_log_level_warning() # We don't want to see too many messages as the controller is running\n",
    "# set_log_level_info()\n",
    "# set_log_level_debug()\n",
    "mass_spec = IndependentMassSpectrometer(POSITIVE, dataset, density=ps.density_estimator)\n",
    "\n",
    "percent_id = []\n",
    "for i in range(num_windows):\n",
    "    num_windows=range(2,30,2)\n",
    "    controller = TreeController(mass_spec, dia_design, window_type, kaufmann_design, extra_bins, num_windows[i])\n",
    "    controller.run(0, max_rt)\n",
    "    CA = Controller_Analyser(controller)\n",
    "    percent_id.append(CA.percentage_ms2_fragmented)\n",
    "    "
   ]
  },
  {
   "cell_type": "code",
   "execution_count": null,
   "metadata": {},
   "outputs": [],
   "source": [
    "percent_id"
   ]
  },
  {
   "cell_type": "markdown",
   "metadata": {},
   "source": [
    "- can scan the MS at RT of MS2 scan, gets list of MS1 peaks in RT range (already have list of MS2 peaks). Will then need scan_location to get the MS1s in MZ range (needs adding)"
   ]
  },
  {
   "cell_type": "markdown",
   "metadata": {},
   "source": [
    "Assume we know which MS1 the MS2 come from"
   ]
  },
  {
   "cell_type": "markdown",
   "metadata": {},
   "source": [
    "# To Do\n",
    "\n",
    "- Convolutional neural networks to identify ROI\n",
    "    - pad so all same length\n",
    "    - link ROI to final peaks to see how many peaks there are\n",
    "    - predict how many peaks in a ROI\n",
    "\n",
    "- Talk to Stefan about how basic strategies in the MS would work\n",
    "    - how does interact with exclusion window\n",
    "    - what does it do if we see no peaks"
   ]
  }
 ],
 "metadata": {
  "kernelspec": {
   "display_name": "Python 3",
   "language": "python",
   "name": "python3"
  },
  "language_info": {
   "codemirror_mode": {
    "name": "ipython",
    "version": 3
   },
   "file_extension": ".py",
   "mimetype": "text/x-python",
   "name": "python",
   "nbconvert_exporter": "python",
   "pygments_lexer": "ipython3",
   "version": "3.6.6"
  }
 },
 "nbformat": 4,
 "nbformat_minor": 2
}
