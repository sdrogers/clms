{
 "cells": [
  {
   "cell_type": "code",
   "execution_count": 1,
   "metadata": {},
   "outputs": [],
   "source": [
    "import numpy as np\n",
    "import sys\n",
    "import scipy.stats\n",
    "import re\n",
    "import os"
   ]
  },
  {
   "cell_type": "code",
   "execution_count": 2,
   "metadata": {},
   "outputs": [],
   "source": [
    "%load_ext autoreload\n",
    "%autoreload 2"
   ]
  },
  {
   "cell_type": "code",
   "execution_count": 3,
   "metadata": {},
   "outputs": [],
   "source": [
    "sys.path.append('../codes')"
   ]
  },
  {
   "cell_type": "code",
   "execution_count": 4,
   "metadata": {},
   "outputs": [
    {
     "name": "stdout",
     "output_type": "stream",
     "text": [
      "Pretty printing has been turned OFF\n"
     ]
    }
   ],
   "source": [
    "%pprint"
   ]
  },
  {
   "cell_type": "code",
   "execution_count": 5,
   "metadata": {},
   "outputs": [],
   "source": [
    "from VMSfunctions.Common import *\n",
    "from VMSfunctions.Chemicals import *\n",
    "from VMSfunctions.Chromatograms import *\n",
    "from VMSfunctions.MassSpec import *\n",
    "from VMSfunctions.Controller import *"
   ]
  },
  {
   "cell_type": "markdown",
   "metadata": {},
   "source": [
    "# Mass Spec test"
   ]
  },
  {
   "cell_type": "code",
   "execution_count": 6,
   "metadata": {},
   "outputs": [],
   "source": [
    "base_dir = 'C:\\\\Users\\\\joewa\\\\University of Glasgow\\\\Vinny Davies - CLDS Metabolomics Project\\\\'\n",
    "base_dir = 'C:\\\\Users\\\\Vinny\\\\OneDrive - University of Glasgow\\\\CLDS Metabolomics Project\\\\'\n",
    "cc = ChromatogramCreator(os.path.join(base_dir, 'Trained Models\\\\chromatogram_19_beers.csv.gz'))"
   ]
  },
  {
   "cell_type": "code",
   "execution_count": 7,
   "metadata": {},
   "outputs": [],
   "source": [
    "hmdb = load_obj(os.path.join(base_dir, 'Trained Models\\\\hmdb_compounds.p'))"
   ]
  },
  {
   "cell_type": "code",
   "execution_count": 8,
   "metadata": {},
   "outputs": [],
   "source": [
    "ps = load_obj(os.path.join(base_dir, 'Trained Models\\\\peak_sampler_beer1pos_fragmentation.p'))\n",
    "chemicals = ChemicalCreator(ps)"
   ]
  },
  {
   "cell_type": "markdown",
   "metadata": {},
   "source": [
    "# Improve Chemical Creator"
   ]
  },
  {
   "cell_type": "markdown",
   "metadata": {},
   "source": [
    "Need to test the chemical creator in more situations to make sure the code works as intended"
   ]
  },
  {
   "cell_type": "code",
   "execution_count": 9,
   "metadata": {},
   "outputs": [
    {
     "name": "stderr",
     "output_type": "stream",
     "text": [
      "DEBUG:ChemicalCreator:200 ms1 peaks to be created.\n",
      "DEBUG:ChemicalCreator:i = 0\n",
      "DEBUG:ChemicalCreator:i = 25\n",
      "DEBUG:ChemicalCreator:i = 50\n",
      "DEBUG:ChemicalCreator:i = 75\n",
      "DEBUG:ChemicalCreator:i = 100\n",
      "DEBUG:ChemicalCreator:i = 125\n",
      "DEBUG:ChemicalCreator:i = 150\n",
      "DEBUG:ChemicalCreator:i = 175\n"
     ]
    }
   ],
   "source": [
    "min_ms1_intensity = 2E5\n",
    "rt_range = [(3*60, 21*60)]\n",
    "mz_range = [(0, 1050)]\n",
    "set_log_level_debug()\n",
    "dataset = chemicals.sample(cc, mz_range, rt_range, min_ms1_intensity, 200, 2, \"Known\", None, hmdb, 0.1)"
   ]
  },
  {
   "cell_type": "code",
   "execution_count": null,
   "metadata": {},
   "outputs": [],
   "source": [
    "# min_ms1_intensity = 2E5\n",
    "# min_rt = 3*60\n",
    "# max_rt = 21*60\n",
    "# chemicals = ChemicalCreator(ps)\n",
    "# dataset = chemicals.sample_from_chromatograms(cc, min_rt, max_rt, min_ms1_intensity, ms_levels=2)\n",
    "\n",
    "# TODO: Add way to specify n and then sample n chromatograms"
   ]
  },
  {
   "cell_type": "markdown",
   "metadata": {},
   "source": [
    "# Multiple Datasets for DsDA"
   ]
  },
  {
   "cell_type": "code",
   "execution_count": 10,
   "metadata": {},
   "outputs": [
    {
     "name": "stderr",
     "output_type": "stream",
     "text": [
      "DEBUG:ChemicalCreator:200 ms1 peaks to be created.\n",
      "DEBUG:ChemicalCreator:i = 0\n",
      "DEBUG:ChemicalCreator:i = 25\n",
      "DEBUG:ChemicalCreator:i = 50\n",
      "DEBUG:ChemicalCreator:i = 75\n",
      "DEBUG:ChemicalCreator:i = 100\n",
      "DEBUG:ChemicalCreator:i = 125\n",
      "DEBUG:ChemicalCreator:i = 150\n",
      "DEBUG:ChemicalCreator:i = 175\n"
     ]
    }
   ],
   "source": [
    "min_ms1_intensity = 2E5\n",
    "rt_range = [(3*60, 21*60)]\n",
    "mz_range = [(0, 1000)]\n",
    "set_log_level_debug()\n",
    "dataset = chemicals.sample(cc, mz_range, rt_range, min_ms1_intensity, 200, 2, \"Known\", None, hmdb, 0.1)"
   ]
  },
  {
   "cell_type": "code",
   "execution_count": 11,
   "metadata": {},
   "outputs": [
    {
     "name": "stderr",
     "output_type": "stream",
     "text": [
      "DEBUG:MultiSampleCreator:Classes, Statuses and Differences defined.\n",
      "DEBUG:MultiSampleCreator:Dataset 1 of 10 created.\n",
      "DEBUG:MultiSampleCreator:Dataset 2 of 10 created.\n",
      "DEBUG:MultiSampleCreator:Dataset 3 of 10 created.\n",
      "DEBUG:MultiSampleCreator:Dataset 4 of 10 created.\n",
      "DEBUG:MultiSampleCreator:Dataset 5 of 10 created.\n",
      "DEBUG:MultiSampleCreator:Dataset 6 of 10 created.\n",
      "DEBUG:MultiSampleCreator:Dataset 7 of 10 created.\n",
      "DEBUG:MultiSampleCreator:Dataset 8 of 10 created.\n",
      "DEBUG:MultiSampleCreator:Dataset 9 of 10 created.\n",
      "DEBUG:MultiSampleCreator:Dataset 10 of 10 created.\n"
     ]
    }
   ],
   "source": [
    "n_samples = [10]\n",
    "classes = [\"class1\"]\n",
    "intensity_noise_sd = [1000]\n",
    "change_probabilities = None\n",
    "change_differences_means = None\n",
    "change_differences_sds = None\n",
    "dropout_probabilities = None \n",
    "experimental_classes = None \n",
    "experimental_probabilitities = None \n",
    "experimental_sds = None\n",
    "\n",
    "multiple_samples = MultiSampleCreator(dataset, n_samples, classes, intensity_noise_sd, \n",
    "                                      change_probabilities, change_differences_means, change_differences_sds, dropout_probabilities,\n",
    "                                     experimental_classes, experimental_probabilitities, experimental_sds)"
   ]
  },
  {
   "cell_type": "code",
   "execution_count": 12,
   "metadata": {},
   "outputs": [
    {
     "name": "stdout",
     "output_type": "stream",
     "text": [
      "KnownChemical - 'C9H12NO5PS' rt=951.58 max_intensity=275420.62\n",
      "KnownChemical - 'C9H12NO5PS' rt=951.58 max_intensity=275097.52\n",
      "KnownChemical - 'C9H12NO5PS' rt=951.58 max_intensity=275157.88\n"
     ]
    }
   ],
   "source": [
    "print(multiple_samples.samples[0][0])\n",
    "print(multiple_samples.samples[1][0])\n",
    "print(multiple_samples.samples[2][0])"
   ]
  },
  {
   "cell_type": "markdown",
   "metadata": {},
   "source": [
    "# Create Multiple Datasets"
   ]
  },
  {
   "cell_type": "code",
   "execution_count": 13,
   "metadata": {},
   "outputs": [
    {
     "name": "stderr",
     "output_type": "stream",
     "text": [
      "DEBUG:ChemicalCreator:200 ms1 peaks to be created.\n",
      "DEBUG:ChemicalCreator:i = 0\n",
      "DEBUG:ChemicalCreator:i = 25\n",
      "DEBUG:ChemicalCreator:i = 50\n",
      "DEBUG:ChemicalCreator:i = 75\n",
      "DEBUG:ChemicalCreator:i = 100\n",
      "DEBUG:ChemicalCreator:i = 125\n",
      "DEBUG:ChemicalCreator:i = 150\n",
      "DEBUG:ChemicalCreator:i = 175\n"
     ]
    }
   ],
   "source": [
    "min_ms1_intensity = 2E5\n",
    "rt_range = [(3*60, 21*60)]\n",
    "mz_range = [(0, 1000)]\n",
    "set_log_level_debug()\n",
    "dataset = chemicals.sample(cc, mz_range, rt_range, min_ms1_intensity, 200, 2, \"Known\", None, hmdb)"
   ]
  },
  {
   "cell_type": "code",
   "execution_count": 14,
   "metadata": {
    "scrolled": true
   },
   "outputs": [
    {
     "name": "stderr",
     "output_type": "stream",
     "text": [
      "DEBUG:MultiSampleCreator:Classes, Statuses and Differences defined.\n",
      "DEBUG:MultiSampleCreator:Dataset 1 of 15 created.\n",
      "DEBUG:MultiSampleCreator:Dataset 2 of 15 created.\n",
      "DEBUG:MultiSampleCreator:Dataset 3 of 15 created.\n",
      "DEBUG:MultiSampleCreator:Dataset 4 of 15 created.\n",
      "DEBUG:MultiSampleCreator:Dataset 5 of 15 created.\n",
      "DEBUG:MultiSampleCreator:Dataset 6 of 15 created.\n",
      "DEBUG:MultiSampleCreator:Dataset 7 of 15 created.\n",
      "DEBUG:MultiSampleCreator:Dataset 8 of 15 created.\n",
      "DEBUG:MultiSampleCreator:Dataset 9 of 15 created.\n",
      "DEBUG:MultiSampleCreator:Dataset 10 of 15 created.\n",
      "DEBUG:MultiSampleCreator:Dataset 11 of 15 created.\n",
      "DEBUG:MultiSampleCreator:Dataset 12 of 15 created.\n",
      "DEBUG:MultiSampleCreator:Dataset 13 of 15 created.\n",
      "DEBUG:MultiSampleCreator:Dataset 14 of 15 created.\n",
      "DEBUG:MultiSampleCreator:Dataset 15 of 15 created.\n"
     ]
    }
   ],
   "source": [
    "n_samples = [5,5,5]\n",
    "classes = [\"class1\",\"class2\",\"class3\"]\n",
    "intensity_noise_sd = [1000]\n",
    "change_probabilities = [0.2,0.2]\n",
    "change_differences_means = [10000,20000]\n",
    "change_differences_sds = [0,0] # 0 means fixed difference between class and class1\n",
    "dropout_probabilities = [0.2,0.2,0.2]\n",
    "experimental_classes = None # [[\"male\",\"female\"],[\"Positive\",\"Negative\",\"Unknown\"]]\n",
    "experimental_probabilitities = None # [[0.5,0.5],[0.33,0.33,0.34]]\n",
    "experimental_sds = None # [[250],[250]]\n",
    "\n",
    "multiple_samples = MultiSampleCreator(dataset, n_samples, classes, intensity_noise_sd, \n",
    "                                      change_probabilities, change_differences_means, change_differences_sds, dropout_probabilities,\n",
    "                                     experimental_classes, experimental_probabilitities, experimental_sds)"
   ]
  },
  {
   "cell_type": "code",
   "execution_count": 15,
   "metadata": {},
   "outputs": [
    {
     "name": "stdout",
     "output_type": "stream",
     "text": [
      "['unchanged' 'missing' 'missing']\n",
      "['unchanged' 'unchanged' 'unchanged']\n",
      "['unchanged' 'unchanged' 'unchanged']\n",
      "\n",
      "[KnownChemical - 'C3H5NO3' rt=858.89 max_intensity=1584634.58, KnownChemical - 'C15H23NO3' rt=1042.34 max_intensity=1975856.83, KnownChemical - 'C7H3Cl5O' rt=295.82 max_intensity=1043712.77]\n",
      "[KnownChemical - 'C3H5NO3' rt=858.89 max_intensity=1585713.75, KnownChemical - 'C10H14N5O10PS' rt=1195.91 max_intensity=2223211.99, KnownChemical - 'C12H18' rt=1100.04 max_intensity=473964.96]\n",
      "[KnownChemical - 'C3H5NO3' rt=858.89 max_intensity=1585603.54, KnownChemical - 'C10H14N5O10PS' rt=1195.91 max_intensity=2222614.86, KnownChemical - 'C12H18' rt=1100.04 max_intensity=473417.23]\n"
     ]
    }
   ],
   "source": [
    "print(multiple_samples.chemical_statuses[0][0:3])\n",
    "print(multiple_samples.chemical_statuses[1][0:3])\n",
    "print(multiple_samples.chemical_statuses[2][0:3])\n",
    "\n",
    "print( )\n",
    "\n",
    "print(multiple_samples.samples[0][0:3])\n",
    "print(multiple_samples.samples[5][0:3])\n",
    "print(multiple_samples.samples[10][0:3])\n"
   ]
  },
  {
   "cell_type": "code",
   "execution_count": 16,
   "metadata": {
    "scrolled": true
   },
   "outputs": [
    {
     "name": "stdout",
     "output_type": "stream",
     "text": [
      "1584634.5780402194 class1\n",
      "1585592.7249060061 class1\n",
      "1582887.8159598918 class1\n",
      "1586173.9940251221 class1\n",
      "1584756.9602212952 class1\n",
      "\n",
      "1585713.750675501 class2 unchanged 0\n",
      "1584574.0368094775 class2 unchanged 0\n",
      "1586536.6473650574 class2 unchanged 0\n",
      "1585777.0372175665 class2 unchanged 0\n",
      "1583404.1813317295 class2 unchanged 0\n",
      "\n",
      "1585603.5365958293 class3 unchanged 0\n",
      "1584807.2282735447 class3 unchanged 0\n",
      "1583747.8860192234 class3 unchanged 0\n",
      "1584835.5708120842 class3 unchanged 0\n",
      "1584800.0236169572 class3 unchanged 0\n"
     ]
    }
   ],
   "source": [
    "i = 0\n",
    "for j in range(len(multiple_samples.samples)):\n",
    "    if j>0 and multiple_samples.sample_classes[j] != multiple_samples.sample_classes[j-1]:\n",
    "        print( )\n",
    "    if multiple_samples.sample_classes[j] == multiple_samples.classes[0]:\n",
    "        print(multiple_samples.samples[j][i].max_intensity, multiple_samples.sample_classes[j])\n",
    "    else:\n",
    "        print(multiple_samples.samples[j][i].max_intensity, multiple_samples.sample_classes[j],\n",
    "              multiple_samples.chemical_statuses[np.where(np.array(multiple_samples.classes)==multiple_samples.sample_classes[j])[0][0]-1][i],\n",
    "             multiple_samples.chemical_differences_from_class1[np.where(np.array(multiple_samples.classes)==multiple_samples.sample_classes[j])[0][0]][i])"
   ]
  },
  {
   "cell_type": "code",
   "execution_count": 17,
   "metadata": {},
   "outputs": [
    {
     "name": "stderr",
     "output_type": "stream",
     "text": [
      "600.006497110021it [00:03, 177.37it/s]                                                                                 \n"
     ]
    }
   ],
   "source": [
    "max_rt = 10*60                  # the maximum retention time of scans to generate\n",
    "N = 1                           # top-5 DDA fragmentation\n",
    "isolation_window = 0.5          # the isolation window in Dalton around a selected precursor ion\n",
    "rt_tol = 15                     # the rt window around a selected precursor ion to prevent it from fragmented multiple times\n",
    "min_ms1_intensity = 2E5         # the minimum ms1 peak intensity\n",
    "multi_dataset = multiple_samples.samples[0]\n",
    "\n",
    "mass_spec = IndependentMassSpectrometer(POSITIVE, multi_dataset, density=ps.density_estimator)\n",
    "controller = TopNController(mass_spec, N, isolation_window, rt_tol, min_ms1_intensity)\n",
    "\n",
    "set_log_level_warning() # We don't want to see too many messages as the controller is running\n",
    "# set_log_level_info()\n",
    "# set_log_level_debug()\n",
    "\n",
    "controller.run(0, max_rt)"
   ]
  },
  {
   "cell_type": "code",
   "execution_count": 18,
   "metadata": {},
   "outputs": [],
   "source": [
    "# controller.write_mzML('my_analysis2', '../models/out2.mzML')\n",
    "# save_obj(controller, '../models/noisy_top_N_controllers.p')"
   ]
  },
  {
   "cell_type": "markdown",
   "metadata": {},
   "source": [
    "# Example of DIA Methods across an Entire Dataset"
   ]
  },
  {
   "cell_type": "markdown",
   "metadata": {},
   "source": [
    "Generate test dataset"
   ]
  },
  {
   "cell_type": "code",
   "execution_count": 19,
   "metadata": {},
   "outputs": [],
   "source": [
    "min_ms1_intensity = 2E5\n",
    "rt_range = [(180, 1260)]\n",
    "mz_range = [(0, 1050)]\n",
    "chemicals = ChemicalCreator(ps)\n",
    "dataset = chemicals.sample(cc, mz_range, rt_range, min_ms1_intensity, 3000, 2, \"Unknown\", None, None, fixed_mz = True)"
   ]
  },
  {
   "cell_type": "markdown",
   "metadata": {},
   "source": [
    "Kaufmann and Walker Nested DIA method with Even windows (10)"
   ]
  },
  {
   "cell_type": "code",
   "execution_count": 20,
   "metadata": {},
   "outputs": [],
   "source": [
    "max_rt = 10*60    \n",
    "dia_design = \"kaufmann\"\n",
    "window_type = \"even\"\n",
    "kaufmann_design = \"nested\"\n",
    "extra_bins = 0\n",
    "num_windows=None # num_windows fixed for kaufmann methods, so not required\n",
    "\n",
    "mass_spec = IndependentMassSpectrometer(POSITIVE, dataset, density=ps.density_estimator)"
   ]
  },
  {
   "cell_type": "code",
   "execution_count": 29,
   "metadata": {},
   "outputs": [
    {
     "name": "stdout",
     "output_type": "stream",
     "text": [
      "1240.3724806753685\n",
      "[0.    1.274 2.514 3.753 4.992 6.27  7.51  8.749]\n",
      "[636.336 637.61  638.85  640.089 641.328 642.606 643.846 645.085]\n"
     ]
    }
   ],
   "source": [
    "print(dataset[0].rt)\n",
    "print(dataset[0].chromatogram.rts)\n",
    "print(dataset[0].chromatogram.raw_rts)"
   ]
  },
  {
   "cell_type": "code",
   "execution_count": 28,
   "metadata": {},
   "outputs": [
    {
     "name": "stdout",
     "output_type": "stream",
     "text": [
      "1237\n",
      "None\n",
      "1238\n",
      "None\n",
      "1239\n",
      "None\n",
      "1240\n",
      "None\n",
      "1241\n",
      "[(204.9815958453365, 149921.9555794806)]\n",
      "1242\n",
      "[(204.9815958453365, 199005.2912506645)]\n",
      "1243\n",
      "[(204.9815958453365, 122273.03058442891)]\n",
      "1244\n",
      "[(204.9815958453365, 293409.76542752876)]\n",
      "1245\n",
      "[(204.9815958453365, 387683.65565441933)]\n",
      "1246\n",
      "[(204.9815958453365, 350036.91713870637)]\n",
      "1247\n",
      "[(204.9815958453365, 231295.42644278373)]\n",
      "1248\n",
      "[(204.9815958453365, 111632.02792270221)]\n",
      "1249\n",
      "[(204.9815958453365, 143757.96840745801)]\n",
      "1250\n",
      "None\n",
      "1251\n",
      "None\n",
      "1252\n",
      "None\n",
      "1253\n",
      "None\n",
      "1254\n",
      "None\n"
     ]
    }
   ],
   "source": [
    "query_rt = range(1237,1255,1)\n",
    "for i in query_rt:\n",
    "    print(i)\n",
    "    print(mass_spec._get_all_mz_peaks(dataset[0], i, 1, [[(0,2000)]]))"
   ]
  },
  {
   "cell_type": "code",
   "execution_count": 26,
   "metadata": {},
   "outputs": [
    {
     "name": "stderr",
     "output_type": "stream",
     "text": [
      "1260.087895559426it [01:36, 13.03it/s]                                                                                 \n"
     ]
    }
   ],
   "source": [
    "max_rt = 10*60    \n",
    "dia_design = \"kaufmann\"\n",
    "window_type = \"even\"\n",
    "kaufmann_design = \"nested\"\n",
    "extra_bins = 0\n",
    "num_windows=None # num_windows fixed for kaufmann methods, so not required\n",
    "\n",
    "mass_spec = IndependentMassSpectrometer(POSITIVE, dataset, density=ps.density_estimator)\n",
    "controller = TreeController(mass_spec, dia_design, window_type, kaufmann_design, extra_bins, num_windows)\n",
    "\n",
    "set_log_level_warning()\n",
    "\n",
    "controller.run(0, rt_range[0][1])"
   ]
  },
  {
   "cell_type": "markdown",
   "metadata": {},
   "source": [
    "Standard DIA with Even Windows"
   ]
  },
  {
   "cell_type": "code",
   "execution_count": 16,
   "metadata": {},
   "outputs": [
    {
     "name": "stderr",
     "output_type": "stream",
     "text": [
      "1260.016190138303it [00:57, 21.81it/s]                                                                                 \n"
     ]
    }
   ],
   "source": [
    "max_rt = 10*60    \n",
    "dia_design = \"basic\"\n",
    "window_type = \"even\"\n",
    "kaufmann_design = None\n",
    "extra_bins = 0 # cant have extra bins\n",
    "num_windows=10\n",
    "\n",
    "mass_spec = IndependentMassSpectrometer(POSITIVE, dataset, density=ps.density_estimator)\n",
    "controller = TreeController(mass_spec, dia_design, window_type, kaufmann_design, extra_bins, num_windows)\n",
    "\n",
    "set_log_level_warning()\n",
    "\n",
    "controller.run(0, rt_range[0][1])"
   ]
  },
  {
   "cell_type": "markdown",
   "metadata": {},
   "source": [
    "Kaufmann and Walker Nested DIA method with Percentile-Based windows"
   ]
  },
  {
   "cell_type": "code",
   "execution_count": 27,
   "metadata": {},
   "outputs": [
    {
     "name": "stderr",
     "output_type": "stream",
     "text": [
      "1260.0673680589555it [01:37, 12.90it/s]                                                                                \n"
     ]
    }
   ],
   "source": [
    "max_rt = 10*60    \n",
    "dia_design = \"kaufmann\"\n",
    "window_type = \"percentile\"\n",
    "kaufmann_design = \"nested\"\n",
    "extra_bins = 0\n",
    "num_windows= None # num_windows fixed for kaufmann methods, so not required\n",
    "\n",
    "mass_spec = IndependentMassSpectrometer(POSITIVE, dataset, density=ps.density_estimator)\n",
    "controller = TreeController(mass_spec, dia_design, window_type, kaufmann_design, extra_bins, num_windows)\n",
    "\n",
    "set_log_level_warning()\n",
    "\n",
    "controller.run(0, rt_range[0][1])"
   ]
  },
  {
   "cell_type": "markdown",
   "metadata": {},
   "source": [
    "Standard DIA with Percentile-Based Windows (10)"
   ]
  },
  {
   "cell_type": "code",
   "execution_count": 18,
   "metadata": {
    "scrolled": true
   },
   "outputs": [
    {
     "name": "stderr",
     "output_type": "stream",
     "text": [
      "1260.049054431451it [00:56, 22.14it/s]                                                                                 \n"
     ]
    }
   ],
   "source": [
    "max_rt = 10*60    \n",
    "dia_design = \"basic\"\n",
    "window_type = \"percentile\"\n",
    "kaufmann_design = None\n",
    "extra_bins = 0 # cant have extra bins\n",
    "num_windows=10\n",
    "\n",
    "mass_spec = IndependentMassSpectrometer(POSITIVE, dataset, density=ps.density_estimator)\n",
    "controller = TreeController(mass_spec, dia_design, window_type, kaufmann_design, extra_bins, num_windows)\n",
    "\n",
    "set_log_level_warning()\n",
    "\n",
    "controller.run(0, rt_range[0][1])"
   ]
  },
  {
   "cell_type": "markdown",
   "metadata": {},
   "source": [
    "# Evaluate of DIA results on Restricted Dataset"
   ]
  },
  {
   "cell_type": "markdown",
   "metadata": {},
   "source": [
    "Create dataset in restricted RT space"
   ]
  },
  {
   "cell_type": "code",
   "execution_count": 9,
   "metadata": {},
   "outputs": [],
   "source": [
    "N = 100\n",
    "prop_ms2_mass = 0.7\n",
    "dataset = []\n",
    "chrom = FunctionalChromatogram(\"uniform\",[0,2000])\n",
    "for i in range(N):\n",
    "    mz = ps.sample(1,1)[0].mz\n",
    "    chem = UnknownChemical(mz, 0, 1E5, chrom, children=None)\n",
    "    n_children = int(ps.density_estimator.n_peaks(2, 1))\n",
    "    parent_mass_prop = [1/n_children for k in range(n_children)]\n",
    "    children = []\n",
    "    for j in range(n_children):\n",
    "        mz = ps.sample(2, 1)[0].mz\n",
    "        children.append(MSN(mz, 2, prop_ms2_mass, parent_mass_prop[j], None, chem))\n",
    "    chem.children = children\n",
    "    dataset.append(chem)"
   ]
  },
  {
   "cell_type": "code",
   "execution_count": 82,
   "metadata": {},
   "outputs": [],
   "source": [
    "scans_even_kauf = DiaRestrictedScanner(dataset, ps, 200, [(0,1000)], \"kaufmann\", \"even\", \"nested\", 0, None)\n",
    "scans_percent_kauf = DiaRestrictedScanner(dataset, ps, 200, [(0,1000)], \"kaufmann\", \"percentile\", \"nested\", 0, None)\n",
    "num_windows = 10\n",
    "scans_even_basic = DiaRestrictedScanner(dataset, ps, 200, [(0,1000)], \"basic\", \"even\", None, 0, num_windows)\n",
    "scans_percent_basic = DiaRestrictedScanner(dataset, ps, 200, [(0,1000)], \"basic\", \"percentile\", None, 0, num_windows)"
   ]
  },
  {
   "cell_type": "code",
   "execution_count": 83,
   "metadata": {
    "collapsed": true
   },
   "outputs": [
    {
     "data": {
      "text/plain": [
       "[[0.32434436104160874, 1.309390198279087, 2.3569023569023564, 0.8417508417508417, 2.07961972667855, 0.9303561935140882, 0.8221752407798918, 0.47775047775047774, 1.8607123870281763, 1.1047979797979797, 3.928170594837261, 0.6670478368591576], [1.6069788797061526, 1.4141414141414141, 0.5992124636192432, 2.7195027195027195, 1.7676767676767677, 0.8221752407798918, 2.2095959595959593, 2.3569023569023564, 1.473063973063973, 1.4141414141414141, 1.4141414141414141, 0.4591368227731864, 1.1047979797979797, 0.8838383838383839, 1.1784511784511782, 17.676767676767675, 4.419191919191919, 0.7365319865319865, 1.1784511784511782, 0.8034894398530763, 1.473063973063973, 1.309390198279087, 2.7195027195027195, 1.3597513597513597, 1.7676767676767677, 0.6546950991395435, 1.6069788797061526, 0.9555009555009555, 1.1784511784511782, 1.2190874259839777, 0.5123700775874689, 3.5353535353535355, 1.071319253137435, 1.0101010101010102, 0.8034894398530763, 1.7676767676767677, 0.6932065755595167, 0.7685551163812033, 1.3597513597513597, 1.9640852974186305, 0.3885003885003885, 1.1047979797979797, 0.7685551163812033, 1.6835016835016834, 0.7070707070707071, 1.071319253137435, 0.8622813500862281, 5.05050505050505, 0.9555009555009555, 1.8607123870281763], [1.1047979797979797, 1.9640852974186305, 1.473063973063973, 1.2190874259839777, 2.946127946127946, 0.5050505050505051, 1.2190874259839777, 1.309390198279087, 0.7856341189674523, 0.7856341189674523, 2.3569023569023564, 0.7856341189674523, 3.928170594837261, 1.2626262626262625, 0.8034894398530763, 1.6069788797061526, 1.2190874259839777, 0.8417508417508417, 0.5892255892255891, 2.7195027195027195, 0.4532504532504532, 0.9065009065009064], [2.525252525252525, 1.0101010101010102, 0.9065009065009064, 1.6835016835016834, 0.6202374623427255, 3.213957759412305, 0.7856341189674523, 0.48429500484295, 2.2095959595959593, 0.7365319865319865, 1.5371102327624067, 1.9640852974186305], [1.6835016835016834, 1.6835016835016834], [0.36826599326599324], [3.928170594837261], [], [3.928170594837261, 1.9640852974186305, 0.5992124636192432, 0.32434436104160874, 2.7195027195027195, 2.525252525252525, 1.473063973063973, 1.309390198279087, 2.3569023569023564, 1.7676767676767677, 0.8221752407798918, 1.2190874259839777, 0.8417508417508417, 1.6835016835016834, 0.6202374623427255, 2.07961972667855, 1.473063973063973, 1.4141414141414141, 0.9303561935140882, 0.4591368227731864, 0.8221752407798918, 1.1047979797979797, 0.47775047775047774, 17.676767676767675, 4.419191919191919, 1.473063973063973, 0.7856341189674523, 2.7195027195027195, 1.7676767676767677, 1.6069788797061526, 1.6069788797061526, 0.9555009555009555, 1.2190874259839777, 3.5353535353535355, 1.0101010101010102, 0.8034894398530763, 1.7676767676767677, 2.7195027195027195, 0.4532504532504532, 0.6932065755595167, 1.8607123870281763, 1.3597513597513597, 0.48429500484295, 1.1047979797979797, 1.9640852974186305, 0.7365319865319865, 1.1047979797979797, 1.5371102327624067, 1.9640852974186305, 0.7685551163812033, 0.9065009065009064, 1.6835016835016834, 0.7070707070707071, 3.928170594837261, 1.071319253137435, 0.8622813500862281, 0.6670478368591576, 0.9555009555009555], [1.6069788797061526, 1.9640852974186305, 0.5992124636192432, 1.309390198279087, 1.7676767676767677, 0.9065009065009064, 0.8221752407798918, 2.946127946127946, 0.5050505050505051, 1.2190874259839777, 2.2095959595959593, 3.213957759412305, 2.3569023569023564, 1.4141414141414141, 0.8221752407798918, 0.7856341189674523, 1.1047979797979797, 0.8838383838383839, 1.309390198279087, 1.1784511784511782, 17.676767676767675, 4.419191919191919, 1.1784511784511782, 0.7856341189674523, 1.473063973063973, 0.8034894398530763, 1.3597513597513597, 1.7676767676767677, 1.6069788797061526, 1.6069788797061526, 1.2190874259839777, 0.9555009555009555, 1.1784511784511782, 3.5353535353535355, 1.0101010101010102, 0.8034894398530763, 0.5892255892255891, 0.4532504532504532, 0.6932065755595167, 0.7685551163812033, 1.3597513597513597, 0.48429500484295, 1.9640852974186305, 0.3885003885003885, 1.1047979797979797, 1.9640852974186305, 0.7685551163812033, 0.9065009065009064, 1.6835016835016834, 0.7070707070707071, 3.928170594837261, 0.8622813500862281, 0.36826599326599324, 0.9555009555009555, 1.8607123870281763], [1.1047979797979797, 0.5992124636192432, 1.7676767676767677, 0.8221752407798918, 2.946127946127946, 0.5050505050505051, 0.6202374623427255, 1.473063973063973, 1.309390198279087, 0.7856341189674523, 4.419191919191919, 0.7856341189674523, 1.473063973063973, 3.928170594837261, 1.2626262626262625, 0.8034894398530763, 2.7195027195027195, 1.2190874259839777, 0.8417508417508417, 3.5353535353535355, 1.0101010101010102, 1.7676767676767677, 0.6932065755595167, 1.3597513597513597, 1.6835016835016834, 1.6835016835016834, 0.7070707070707071, 1.071319253137435, 0.8622813500862281, 0.9555009555009555], [1.6069788797061526, 1.4141414141414141, 0.32434436104160874, 1.473063973063973, 1.0101010101010102, 1.309390198279087, 2.3569023569023564, 3.213957759412305, 2.3569023569023564, 0.9303561935140882, 1.4141414141414141, 0.8221752407798918, 0.47775047775047774, 0.8034894398530763, 1.309390198279087, 0.6546950991395435, 1.1784511784511782, 2.7195027195027195, 0.7685551163812033, 2.2095959595959593, 1.1047979797979797, 3.928170594837261, 5.05050505050505]]"
      ]
     },
     "execution_count": 83,
     "metadata": {},
     "output_type": "execute_result"
    }
   ],
   "source": [
    "scans_even_kauf.ms2_intensities"
   ]
  },
  {
   "cell_type": "code",
   "execution_count": 81,
   "metadata": {},
   "outputs": [],
   "source": [
    "class DiaRestrictedScanner(object):\n",
    "    def __init__(self, dataset, density_estimator, initial_time, ms1_range, dia_design, window_type, kaufmann_design, extra_bins, num_windows=None):\n",
    "        self.dataset = dataset\n",
    "        self.density_estimator = density_estimator\n",
    "        self.initial_time = initial_time\n",
    "        self.ms1_range = ms1_range\n",
    "        self.dia_design = dia_design\n",
    "        self.window_type = window_type\n",
    "        self.kaufmann_design = kaufmann_design\n",
    "        self.extra_bins = extra_bins\n",
    "        self.num_windows = num_windows\n",
    "        \n",
    "        self.mass_spec = IndependentMassSpectrometer(POSITIVE, self.dataset, density=self.density_estimator)\n",
    "        self.ms1_scan_mzs = self._ms1_scan()\n",
    "        self.locations = self._calculate_windows()\n",
    "        self.ms2_scans = self._ms2_scans()\n",
    "        self.ms2_mzs, self.ms2_intensities = self._reformat_scans()\n",
    "        \n",
    "    def _calculate_windows(self):\n",
    "        return DiaWindows(self.ms1_scan_mzs, self.ms1_range, self.dia_design, self.window_type, self.kaufmann_design, self.extra_bins, self.num_windows).locations\n",
    "    \n",
    "    def _ms1_scan(self):\n",
    "        ms1_scan = [mass_spec._get_all_mz_peaks(dataset[i], 100, 1, [[(0,1E5)]])[0] for i in range(len(dataset))]\n",
    "        return ([ms1_scan[i][0] for i in range(len(ms1_scan))])\n",
    "    \n",
    "    def _ms2_scans(self):\n",
    "        ms2_scans = [[] for i in range(len(self.locations))]\n",
    "        for window_index in range(len(self.locations)):\n",
    "            locations = self.locations[window_index]\n",
    "            for dataset_index in range(len(self.dataset)):\n",
    "                new_ms2s = self.mass_spec._get_all_mz_peaks(self.dataset[dataset_index], 101 + window_index, 2, locations)\n",
    "                if new_ms2s is not None:\n",
    "                    ms2_scans[window_index].append(new_ms2s[0])\n",
    "        return ms2_scans\n",
    "    \n",
    "    def _reformat_scans(self):\n",
    "        ms2_mzs = [[] for i in self.ms2_scans]\n",
    "        ms2_intensities = [[] for i in self.ms2_scans]\n",
    "        for i in range(len(self.ms2_scans)):\n",
    "            for j in range(len(self.ms2_scans[i])):\n",
    "                ms2_mzs[i].append(self.ms2_scans[i][j][0])\n",
    "                ms2_intensities[i].append(self.ms2_scans[i][j][1])        \n",
    "        return ms2_mzs, ms2_intensities"
   ]
  },
  {
   "cell_type": "code",
   "execution_count": null,
   "metadata": {},
   "outputs": [],
   "source": [
    "class DiaRestrictedAnalyser(object)\n",
    "    def __init__(self, DiaRestrictedAnalyser):\n",
    "        \n",
    "# can probably just use old functions now - rather than this"
   ]
  },
  {
   "cell_type": "markdown",
   "metadata": {},
   "source": [
    "# Calculate DIA performance (Overall)"
   ]
  },
  {
   "cell_type": "code",
   "execution_count": null,
   "metadata": {},
   "outputs": [],
   "source": [
    "min_ms1_intensity = 2E5\n",
    "rt_range = [(180, 1260)]\n",
    "mz_range = [(0, 1050)]\n",
    "chemicals = ChemicalCreator(ps)\n",
    "dataset = chemicals.sample(cc, mz_range, rt_range, min_ms1_intensity, 50, 2, \"Unknown\", None, None, fixed_mz = True)\n",
    "big_dataset = chemicals.sample(cc, mz_range, rt_range, min_ms1_intensity, 3000, 2, \"Unknown\", None, None, fixed_mz = True)"
   ]
  },
  {
   "cell_type": "code",
   "execution_count": null,
   "metadata": {},
   "outputs": [],
   "source": [
    "max_rt = 10*60    \n",
    "dia_design = \"basic\"\n",
    "window_type = \"even\"\n",
    "kaufmann_design = None\n",
    "extra_bins = 0\n",
    "num_windows=5\n",
    "\n",
    "mass_spec = IndependentMassSpectrometer(POSITIVE, dataset, density=ps.density_estimator)\n",
    "controller = TreeController(mass_spec, dia_design, window_type, kaufmann_design, extra_bins, num_windows)\n",
    "\n",
    "set_log_level_warning() # We don't want to see too many messages as the controller is running\n",
    "# set_log_level_info()\n",
    "# set_log_level_debug()\n",
    "\n",
    "controller.run(0, rt_range[0][1])"
   ]
  },
  {
   "cell_type": "code",
   "execution_count": null,
   "metadata": {},
   "outputs": [],
   "source": [
    "PROTON_MASS = 1.00727645199076\n",
    "\n",
    "ca = Controller_Analyser(controller)\n",
    "print(ca.proportion_ms1_fragmented)\n",
    "\n",
    "\n",
    "mz2 = ca.list_of_ms2_mzs_dataset[0] + PROTON_MASS\n",
    "\n",
    "times_alluting = []\n",
    "for scan in controller.scans[2]:\n",
    "    if mz2 in scan.mzs:\n",
    "        times_alluting.append(scan.rt)\n",
    "times_alluting # we know that this\n"
   ]
  },
  {
   "cell_type": "markdown",
   "metadata": {},
   "source": [
    "for each ms2\n",
    "    loop over each ms1\n",
    "        loop over scans\n",
    "            does it match the allution status of the ms2\n",
    "        \n",
    "- base on logic that we know the exact ellution times of the chemical\n",
    "- and no noise in mzs"
   ]
  },
  {
   "cell_type": "code",
   "execution_count": null,
   "metadata": {},
   "outputs": [],
   "source": [
    "number_of_possible_chemicals = []\n",
    "counter = 0\n",
    "for mz_dataset in ca.list_of_ms2_mzs_dataset[0:2]:\n",
    "    counter += 1\n",
    "    print(counter)\n",
    "    if mz_dataset + PROTON_MASS not in ca.list_of_ms2_mzs_controller:\n",
    "        possible_chemicals = len(controller.mass_spec.chemicals) \n",
    "        # this isnt technically accurate\n",
    "        # should technically be the number of chemicals we arent sure whether have been fragmented\n",
    "        number_of_possible_chemicals.append(possible_chemicals)\n",
    "    else:\n",
    "        possible_chemicals = 0\n",
    "        allution_times = []\n",
    "        for scan in controller.scans[2]:\n",
    "            if mz2 in scan.mzs:\n",
    "                allution_times.append(scan.rt)\n",
    "        allution_times = np.array(allution_times)\n",
    "        print(allution_times)\n",
    "        for chem in controller.mass_spec.chemicals:\n",
    "            print(chem.rt)\n",
    "            chemical_rt_range = [chem.rt, chem.rt + chem.chromatogram.rts[-1]]\n",
    "            if np.logical_and(chemical_rt_range[0] < allution_times,allution_times < chemical_rt_range[1]).all():\n",
    "                print(\"here\")\n",
    "                scan_num = 0\n",
    "                allution_status_matches = True\n",
    "                while allution_status_matches and scan_num < len(controller.scans[2]):\n",
    "                    # check status\n",
    "                    ms2_elluting = (mz_dataset + PROTON_MASS) in controller.scans[2][scan_num].mzs\n",
    "                    ms2_scan_status = controller.mass_spec._get_mz_peaks(chem, controller.scans[2][scan_num].rt, 1, controller.scans[2][scan_num].isolation_windows, 1, 1)\n",
    "                    ms2_in_scan = (ms2_scan_status is not None)\n",
    "                    if ms2_elluting != ms2_in_scan:\n",
    "                        allution_status = False\n",
    "                    scan_num += 1\n",
    "                possible_chemicals += int(allution_status)\n",
    "        number_of_possible_chemicals.append(possible_chemicals)"
   ]
  },
  {
   "cell_type": "code",
   "execution_count": null,
   "metadata": {},
   "outputs": [],
   "source": [
    "number_of_possible_chemicals"
   ]
  },
  {
   "cell_type": "code",
   "execution_count": null,
   "metadata": {},
   "outputs": [],
   "source": [
    "int(False)"
   ]
  },
  {
   "cell_type": "code",
   "execution_count": null,
   "metadata": {},
   "outputs": [],
   "source": [
    "# only works when MS1 dont have shared MS2s\n",
    "# only works when no isotopes or adducts\n",
    "class Controller_Analyser(object):\n",
    "    def __init__ (self, controller):\n",
    "        \n",
    "        # calculate observed MS2 mzs\n",
    "        self.list_of_ms2_mzs_controller = []\n",
    "        for scan in controller.scans[2]:\n",
    "            self.list_of_ms2_mzs_controller.extend(scan.mzs.tolist())\n",
    "        self.list_of_ms2_mzs_controller = np.unique(np.array(self.list_of_ms2_mzs_controller))\n",
    "        \n",
    "        # calculate list of all MS2 mzs\n",
    "        self.list_of_ms2_mzs_dataset = []\n",
    "        for chem in controller.mass_spec.chemicals:\n",
    "            for child in chem.children:\n",
    "                self.list_of_ms2_mzs_dataset.append(child.isotopes[0][0])\n",
    "            \n",
    "        # calculate observed MS1 mzs\n",
    "        self.list_of_ms1_mzs_controller = []\n",
    "        for scan in controller.scans[1]:\n",
    "            self.list_of_ms1_mzs_controller.extend(scan.mzs.tolist())\n",
    "        self.list_of_ms1_mzs_controller = np.unique(np.array(self.list_of_ms1_mzs_controller))\n",
    "        \n",
    "        # proportion of MS1 observed\n",
    "        self.proportion_ms1_fragmented = len(self.list_of_ms1_mzs_controller) / len(controller.mass_spec.chemicals)\n",
    "        \n",
    "        # calculate all ms2 RTs\n",
    "        self.ms2_rts = []\n",
    "        for scan in controller.scans[2]:\n",
    "            self.ms2_rts.append(scan.rt)\n",
    "        \n",
    "        # calculate rt and mz region for each ms2 mz from dataset\n",
    "        "
   ]
  },
  {
   "cell_type": "markdown",
   "metadata": {},
   "source": [
    "Percentage of MS2 Fragmented"
   ]
  },
  {
   "cell_type": "code",
   "execution_count": null,
   "metadata": {
    "scrolled": true
   },
   "outputs": [],
   "source": [
    "max_rt = 10*60    \n",
    "dia_design = \"basic\"\n",
    "window_type = \"even\"\n",
    "kaufmann_design = None\n",
    "extra_bins = 0\n",
    "set_log_level_warning() # We don't want to see too many messages as the controller is running\n",
    "# set_log_level_info()\n",
    "# set_log_level_debug()\n",
    "mass_spec = IndependentMassSpectrometer(POSITIVE, dataset, density=ps.density_estimator)\n",
    "\n",
    "percent_id = []\n",
    "for i in range(num_windows):\n",
    "    num_windows=range(2,30,2)\n",
    "    controller = TreeController(mass_spec, dia_design, window_type, kaufmann_design, extra_bins, num_windows[i])\n",
    "    controller.run(0, max_rt)\n",
    "    CA = Controller_Analyser(controller)\n",
    "    percent_id.append(CA.percentage_ms2_fragmented)\n",
    "    "
   ]
  },
  {
   "cell_type": "markdown",
   "metadata": {},
   "source": [
    "- can scan the MS at RT of MS2 scan, gets list of MS1 peaks in RT range (already have list of MS2 peaks). Will then need scan_location to get the MS1s in MZ range (needs adding)"
   ]
  },
  {
   "cell_type": "markdown",
   "metadata": {},
   "source": [
    "Assume we know which MS1 the MS2 come from"
   ]
  },
  {
   "cell_type": "markdown",
   "metadata": {},
   "source": [
    "# To Do\n",
    "\n",
    "- Convolutional neural networks to identify ROI\n",
    "    - pad so all same length\n",
    "    - link ROI to final peaks to see how many peaks there are\n",
    "    - predict how many peaks in a ROI\n",
    "\n",
    "- Talk to Stefan about how basic strategies in the MS would work\n",
    "    - how does interact with exclusion window\n",
    "    - what does it do if we see no peaks"
   ]
  }
 ],
 "metadata": {
  "kernelspec": {
   "display_name": "Python 3",
   "language": "python",
   "name": "python3"
  },
  "language_info": {
   "codemirror_mode": {
    "name": "ipython",
    "version": 3
   },
   "file_extension": ".py",
   "mimetype": "text/x-python",
   "name": "python",
   "nbconvert_exporter": "python",
   "pygments_lexer": "ipython3",
   "version": "3.6.6"
  }
 },
 "nbformat": 4,
 "nbformat_minor": 2
}
