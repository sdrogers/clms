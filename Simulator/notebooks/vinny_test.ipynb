{
 "cells": [
  {
   "cell_type": "code",
   "execution_count": 1,
   "metadata": {},
   "outputs": [],
   "source": [
    "import numpy as np\n",
    "import sys\n",
    "import scipy.stats"
   ]
  },
  {
   "cell_type": "code",
   "execution_count": 2,
   "metadata": {},
   "outputs": [],
   "source": [
    "%load_ext autoreload\n",
    "%autoreload 2"
   ]
  },
  {
   "cell_type": "code",
   "execution_count": 3,
   "metadata": {},
   "outputs": [],
   "source": [
    "sys.path.append('../codes')"
   ]
  },
  {
   "cell_type": "code",
   "execution_count": 4,
   "metadata": {},
   "outputs": [
    {
     "name": "stdout",
     "output_type": "stream",
     "text": [
      "Pretty printing has been turned OFF\n"
     ]
    }
   ],
   "source": [
    "%pprint"
   ]
  },
  {
   "cell_type": "markdown",
   "metadata": {},
   "source": [
    "# Chromatogram"
   ]
  },
  {
   "cell_type": "code",
   "execution_count": 5,
   "metadata": {},
   "outputs": [],
   "source": [
    "class Chromatogram(object):\n",
    "    \n",
    "    def get_relative_intensity(self, query_rt):\n",
    "        raise NotImplementedError()\n",
    "        \n",
    "    def get_relative_mz(self, query_rt):\n",
    "        raise NotImplementedError()\n",
    "        \n",
    "    def _rt_match(self, rt):\n",
    "        raise NotImplementedError()"
   ]
  },
  {
   "cell_type": "markdown",
   "metadata": {},
   "source": [
    "# Empirical Chromatogram"
   ]
  },
  {
   "cell_type": "code",
   "execution_count": 6,
   "metadata": {},
   "outputs": [],
   "source": [
    "def chromatogramDensityNormalisation(rts, intensities):\n",
    "    \"\"\"\n",
    "    Definition to standardise the area under a chromatogram to 1. Returns updated intensities\n",
    "    \"\"\"\n",
    "    area = 0.0\n",
    "    for rt_index in range(len(rts)-1):\n",
    "        area += ((intensities[rt_index] + intensities[rt_index + 1])/2) / (rts[rt_index+1] - rts[rt_index])\n",
    "    new_intensities = [x * (1 / area) for x in intensities]\n",
    "    return new_intensities"
   ]
  },
  {
   "cell_type": "code",
   "execution_count": 7,
   "metadata": {},
   "outputs": [
    {
     "data": {
      "text/plain": [
       "[0.5, 0.5, 0.5]"
      ]
     },
     "execution_count": 7,
     "metadata": {},
     "output_type": "execute_result"
    }
   ],
   "source": [
    "chromatogramDensityNormalisation([2,3,4],[0.3,0.3,0.3])"
   ]
  },
  {
   "cell_type": "code",
   "execution_count": 8,
   "metadata": {},
   "outputs": [],
   "source": [
    "class EmpiricalChromatogram(Chromatogram):\n",
    "    \"\"\"\n",
    "    Empirical Chromatograms to be used within Chemicals\n",
    "    \"\"\"\n",
    "    def __init__(self, rts, mzs, intensities):\n",
    "        self.rts = [x - min(rts) for x in rts]\n",
    "        self.mzs = [x - sum(mzs)/len(mzs) for x in rts] # may want to just set this to 0 and remove from input\n",
    "        self.intensities = chromatogramDensityNormalisation(rts, intensities)\n",
    "\n",
    "    def get_relative_intensity(self, query_rt):\n",
    "        if self._rt_match(query_rt) == False:\n",
    "            return None\n",
    "        else:\n",
    "            return((self.intensities[self._get_rt_neighbours_which(query_rt)[0]] + \n",
    "                    (self.intensities[self._get_rt_neighbours_which(query_rt)[1]]\n",
    "                     -self.intensities[self._get_rt_neighbours_which(query_rt)[0]]) * self._get_distance(query_rt)))\n",
    "        \n",
    "    def get_relative_mz(self, query_rt):\n",
    "        if self._rt_match(query_rt) == False:\n",
    "            return None\n",
    "        else:\n",
    "            return((self.mzs[self._get_rt_neighbours_which(query_rt)[0]] + \n",
    "                    (self.mzs[self._get_rt_neighbours_which(query_rt)[1]]\n",
    "                     -self.mzs[self._get_rt_neighbours_which(query_rt)[0]]) * self._get_distance(query_rt)))\n",
    "        \n",
    "    def _get_rt_neighbours(self, query_rt):\n",
    "        rt_below = max(x for x in self.rts if x <= query_rt)\n",
    "        rt_above = min(x for x in self.rts if x >= query_rt)\n",
    "        return([rt_below, rt_above])\n",
    "    \n",
    "    def _get_rt_neighbours_which(self, query_rt):\n",
    "        which_rt_below = self.rts.index(self._get_rt_neighbours(query_rt)[0])\n",
    "        which_rt_above = self.rts.index(self._get_rt_neighbours(query_rt)[1])\n",
    "        return([which_rt_below, which_rt_above])\n",
    "        \n",
    "    def _get_distance(self, query_rt):\n",
    "        return((query_rt - self._get_rt_neighbours(query_rt)[0]) / \n",
    "               (self._get_rt_neighbours(query_rt)[0] - self._get_rt_neighbours(query_rt)[1]))\n",
    "    \n",
    "    def _rt_match(self, query_rt):\n",
    "        if query_rt < min(self.rts) or query_rt > max(self.rts):\n",
    "            return False\n",
    "        else:\n",
    "            return True"
   ]
  },
  {
   "cell_type": "code",
   "execution_count": 9,
   "metadata": {
    "scrolled": true
   },
   "outputs": [],
   "source": [
    "m = EmpiricalChromatogram([0,2,4,6,8],[1,2,3,4,5],[100,200,300,400,500])"
   ]
  },
  {
   "cell_type": "code",
   "execution_count": 10,
   "metadata": {},
   "outputs": [
    {
     "name": "stdout",
     "output_type": "stream",
     "text": [
      "0.25000000000000006\n",
      "None\n"
     ]
    }
   ],
   "source": [
    "print(m.get_relative_intensity(3))\n",
    "print(m.get_relative_intensity(10))"
   ]
  },
  {
   "cell_type": "code",
   "execution_count": 11,
   "metadata": {},
   "outputs": [
    {
     "name": "stdout",
     "output_type": "stream",
     "text": [
      "-2.0\n",
      "None\n"
     ]
    }
   ],
   "source": [
    "print(m.get_relative_mz(3))\n",
    "print(m.get_relative_mz(10))"
   ]
  },
  {
   "cell_type": "markdown",
   "metadata": {},
   "source": [
    "# Functional Chromatogram"
   ]
  },
  {
   "cell_type": "code",
   "execution_count": 12,
   "metadata": {},
   "outputs": [],
   "source": [
    "class FunctionalChromatogram(Chromatogram):\n",
    "    \"\"\"\n",
    "    Functional Chromatograms to be used within Chemicals\n",
    "    \"\"\"\n",
    "    def __init__(self, distribution, parameters, cutoff = 0.01):\n",
    "        self.cutoff = cutoff\n",
    "        self.mz = 0\n",
    "        if distribution == \"normal\":\n",
    "            self.distrib = scipy.stats.norm(parameters[0],parameters[1])\n",
    "        elif distribution == \"gamma\":\n",
    "            self.distrib = scipy.stats.gamma(parameters[0],parameters[1],parameters[2])\n",
    "        elif distribution == \"uniform\":\n",
    "            self.distrib = scipy.stats.uniform(parameters[0],parameters[1])\n",
    "        else:\n",
    "            raise NotImplementedError(\"distribution not implemented\")\n",
    "            \n",
    "    def get_relative_intensity(self, query_rt):\n",
    "        if self._rt_match(query_rt) == False:\n",
    "            return None\n",
    "        else:\n",
    "            return(self.distrib.pdf(query_rt + self.distrib.ppf(self.cutoff/2)) * ( 1 / (1 - self.cutoff)))\n",
    "        \n",
    "    def get_relative_mz(self, query_rt):\n",
    "        if self._rt_match(query_rt) == False:\n",
    "            return None\n",
    "        else:\n",
    "            return self.mz\n",
    "\n",
    "    def _rt_match(self, query_rt):\n",
    "        if query_rt < 0 or query_rt > self.distrib.ppf(1-(self.cutoff/2)) - self.distrib.ppf(self.cutoff/2):\n",
    "            return False\n",
    "        else:\n",
    "            return True"
   ]
  },
  {
   "cell_type": "code",
   "execution_count": 13,
   "metadata": {},
   "outputs": [],
   "source": [
    "m = FunctionalChromatogram(\"normal\",[0,1])"
   ]
  },
  {
   "cell_type": "code",
   "execution_count": 14,
   "metadata": {},
   "outputs": [
    {
     "name": "stdout",
     "output_type": "stream",
     "text": [
      "0.014605801037290308\n",
      "None\n"
     ]
    }
   ],
   "source": [
    "print(m.get_relative_intensity(0))\n",
    "print(m.get_relative_intensity(6))"
   ]
  },
  {
   "cell_type": "code",
   "execution_count": 15,
   "metadata": {},
   "outputs": [
    {
     "name": "stdout",
     "output_type": "stream",
     "text": [
      "0\n",
      "None\n"
     ]
    }
   ],
   "source": [
    "print(m.get_relative_mz(0))\n",
    "print(m.get_relative_mz(6))"
   ]
  },
  {
   "cell_type": "markdown",
   "metadata": {},
   "source": [
    "# Chemicals"
   ]
  },
  {
   "cell_type": "code",
   "execution_count": 16,
   "metadata": {},
   "outputs": [],
   "source": [
    "# read this in? https://www.sisweb.com/referenc/source/exactmas.htm\n",
    "\n",
    "def ElementCharacterisitics(object):\n",
    "    self.mz_diff = 1.0033548378\n",
    "    self.carbon_proportions = [0.989, 0.011]   # 12, 13\n",
    "    self.oxygen_proportions = [0.9976, 0.0004, 0.002] # 16, 17, 18"
   ]
  },
  {
   "cell_type": "code",
   "execution_count": 69,
   "metadata": {},
   "outputs": [],
   "source": [
    "class Formula(object):\n",
    "    def __init__(self, formula_string, mz):\n",
    "        self.formula_string = formula_string\n",
    "        self.mz = mz # calculate this\n",
    "        \n",
    "    def _get_mz(self):\n",
    "        return self.mz\n",
    "    \n",
    "    def _get_n_element(self, element):\n",
    "        return 1"
   ]
  },
  {
   "cell_type": "code",
   "execution_count": 70,
   "metadata": {},
   "outputs": [],
   "source": [
    "class Isotopes(object):\n",
    "    def __init__(self, formula, isotope_proportions, isotope_names):\n",
    "        self.formula = formula\n",
    "        self.isotope_proportions = isotope_proportions # remove eventually\n",
    "        self.isotope_names = isotope_names # remove eventually\n",
    "        self.mz_diff = 1.0033548378\n",
    "        \n",
    "    def get_isotopes(self):\n",
    "        # update this to work properly\n",
    "        peaks = []\n",
    "        for i in range(len(self.isotope_names)):\n",
    "            peaks.extend([(self._get_isotope_mz(self._get_isotope_names()[i]), self._get_isotope_proportions()[i], self._get_isotope_names()[i])])\n",
    "        return peaks\n",
    "    # outputs [(mz_1, intensity_proportion_1, isotope_name_1),...,(mz_n, intensity_proportion_n, isotope_name_n)]\n",
    "    \n",
    "    def _get_isotope_proportions(self):\n",
    "        return self.isotope_proportions\n",
    "    \n",
    "    def _get_isotope_names(self):\n",
    "        return self.isotope_names\n",
    "    \n",
    "    def _get_isotope_mz(self, isotope):\n",
    "        if isotope == \"Mono\":\n",
    "            return self.formula._get_mz()\n",
    "        elif isotope == \"1C13\":\n",
    "            return self.formula._get_mz() + self.mz_diff\n",
    "        elif isotope == \"2C13\":\n",
    "            self.formula.get_mz() + 2 * self.mz_diff\n",
    "        else:\n",
    "            return None\n",
    "            # turn this into a proper function"
   ]
  },
  {
   "cell_type": "code",
   "execution_count": 71,
   "metadata": {},
   "outputs": [],
   "source": [
    "class Aducts(object):\n",
    "    def __init__(self, formula, aduct_names, aduct_proportions):\n",
    "        self.aduct_names = aduct_names # remove eventually\n",
    "        self.aduct_proportions = aduct_proportions # remove eventually\n",
    "        self.formula = formula\n",
    "        \n",
    "    def get_aducts(self):\n",
    "        aducts = []\n",
    "        for j in range(len(self.aduct_names)):\n",
    "            aducts.extend([(self._get_aduct_names()[j], self._get_aduct_proportions()[j])])\n",
    "        return aducts\n",
    "    \n",
    "    def _get_aduct_proportions(self):\n",
    "        return self.aduct_proportions\n",
    "    \n",
    "    def _get_aduct_names(self):\n",
    "        return self.aduct_names"
   ]
  },
  {
   "cell_type": "code",
   "execution_count": 72,
   "metadata": {},
   "outputs": [
    {
     "name": "stdout",
     "output_type": "stream",
     "text": [
      "hg\n",
      "[(100, 0.8, 'Mono'), (101.0033548378, 0.2, '1C13')]\n",
      "[('M+H', 0.9), ('M+ACN', 0.1)]\n"
     ]
    }
   ],
   "source": [
    "chrom = FunctionalChromatogram(\"normal\", [0,1])\n",
    "formula = Formula(\"hg\",100)\n",
    "isotopes = Isotopes(formula,[0.8,0.2],[\"Mono\",\"1C13\"])\n",
    "aducts = Aducts(formula,[\"M+H\",\"M+ACN\"],[0.9,0.1])\n",
    "chem = KnownChemical(formula,isotopes,aducts,100, 10000, chrom, None)\n",
    "print(chem.formula)\n",
    "print(chem.isotopes)\n",
    "print(chem.aducts)"
   ]
  },
  {
   "cell_type": "code",
   "execution_count": 18,
   "metadata": {},
   "outputs": [],
   "source": [
    "def aductTransformation(mz, aduct):\n",
    "    if aduct == \"M+H\":\n",
    "        return (mz + 1)\n",
    "    elif aduct == \"M+ACN\":\n",
    "        return (mz + 50)\n",
    "    else:\n",
    "        return None\n",
    "    # turn this into a proper function"
   ]
  },
  {
   "cell_type": "code",
   "execution_count": 42,
   "metadata": {},
   "outputs": [],
   "source": [
    "class Chemical(object):\n",
    "    \n",
    "    def __repr__(self):\n",
    "        raise NotImplementedError()\n",
    "        \n",
    "    def get_all_mz_peaks(self, query_rt, ms_level, isolation_windows):\n",
    "        if ms_level == 1:\n",
    "            if not self._rt_match(query_rt):\n",
    "                return None\n",
    "        mz_peaks = []\n",
    "        for which_isotope in range(len(self.isotopes)):\n",
    "            for which_aduct in range(len(self._get_aducts()[which_isotope])):\n",
    "                mz_peaks.extend(self._get_mz_peaks(query_rt, ms_level, isolation_windows, which_isotope, which_aduct))\n",
    "        if mz_peaks == []:\n",
    "            return None\n",
    "        else:\n",
    "            return mz_peaks\n",
    "\n",
    "    def _get_mz_peaks(self, query_rt, ms_level, isolation_windows, which_isotope, which_aduct):\n",
    "        mz_peaks = []\n",
    "        if ms_level ==1 and self.ms_level == 1:\n",
    "            if self._isolation_match(query_rt, isolation_windows[0], which_isotope, which_aduct): # check just first set of windows\n",
    "                intensity = self._get_intensity(query_rt, which_isotope, which_aduct)\n",
    "                mz = self._get_mz(query_rt, which_isotope, which_aduct)\n",
    "                mz_peaks.extend([(mz, intensity)])\n",
    "        elif ms_level > 1 and which_isotope > 0:\n",
    "            pass\n",
    "        elif ms_level == self.ms_level:\n",
    "            intensity = self._get_intensity(query_rt, which_isotope, which_aduct)\n",
    "            mz = self._get_mz(query_rt, which_isotope, which_aduct)\n",
    "            return [(mz, intensity)]\n",
    "        else:\n",
    "            if self._isolation_match(query_rt, isolation_windows[self.ms_level-1], which_isotope, which_aduct) and self.children != None:\n",
    "                for i in range(len(self.children)):\n",
    "                    mz_peaks.extend(self.children[i]._get_mz_peaks(query_rt, ms_level, isolation_windows, which_isotope, which_aduct))\n",
    "            else:\n",
    "                return []\n",
    "        return mz_peaks\n",
    "        \n",
    "    def _get_aducts(self):\n",
    "        if self.ms_level == 1:\n",
    "            return self.aducts\n",
    "        else:\n",
    "            return self.parent._get_aducts()\n",
    "        \n",
    "    def _rt_match(self, query_rt):\n",
    "        if self.ms_level == 1:\n",
    "            if self.chromatogram._rt_match(query_rt - self.rt) == True:\n",
    "                return True\n",
    "            else:\n",
    "                return False\n",
    "        else:\n",
    "            True\n",
    "        \n",
    "    def _get_intensity(self, query_rt, which_isotope, which_aduct):\n",
    "        if self.ms_level == 1:\n",
    "            intensity = self.isotopes[which_isotope][1] * self._get_aducts()[which_isotope][which_aduct][1] * self.max_intensity\n",
    "            return (intensity * self.chromatogram.get_relative_intensity(query_rt - self.rt))\n",
    "        else:\n",
    "            return (self.parent._get_intensity(query_rt, which_isotope, which_aduct) * self.parent_mass_prop)\n",
    "\n",
    "    def _get_mz(self, query_rt, which_isotope, which_aduct):\n",
    "        if self.ms_level == 1:\n",
    "            return (aductTransformation(self.isotopes[which_isotope][0], self._get_aducts()[which_isotope][which_aduct][0]) + self.chromatogram.get_relative_mz(query_rt - self.rt))\n",
    "        else:\n",
    "            return (aductTransformation(self.isotopes[which_isotope][0], self._get_aducts()[which_isotope][which_aduct][0]))\n",
    "            \n",
    "    def _isolation_match(self, query_rt, isolation_windows, which_isotope, which_aduct):                        \n",
    "        # assumes list is formated like:\n",
    "        # [(min_1,max_1),(min_2,max_2),...]\n",
    "        for window in isolation_windows:\n",
    "            if (self._get_mz(query_rt, which_isotope, which_aduct) > window[0] and self._get_mz(query_rt, which_isotope, which_aduct) <= window[1]):\n",
    "                return True\n",
    "        return False"
   ]
  },
  {
   "cell_type": "code",
   "execution_count": 43,
   "metadata": {},
   "outputs": [],
   "source": [
    "class UnknownChemical(Chemical):\n",
    "    \"\"\"\n",
    "    Chemical from an unknown chemical formula\n",
    "    \"\"\"\n",
    "    def __init__(self, mz, rt, max_intensity, chromatogram, children):\n",
    "        self.max_intensity = max_intensity\n",
    "        self.isotopes = [(mz, 1, \"Mono\")] # [(mz, intensity_proportion, isotope,name)]\n",
    "        self.aducts = [[(\"M+H\",1)]]\n",
    "        self.rt = rt\n",
    "        self.chromatogram = chromatogram\n",
    "        self.children = children\n",
    "        self.ms_level = 1\n",
    "        \n",
    "    def __repr__(self):\n",
    "         return 'UnknownChemical mz=%.4f rt=%.2f max_intensity=%.2f' % (self.isotopes[0][0], self.rt, self.isotopes[0][1])"
   ]
  },
  {
   "cell_type": "code",
   "execution_count": 44,
   "metadata": {},
   "outputs": [],
   "source": [
    "class KnownChemical(Chemical):\n",
    "    \"\"\"\n",
    "    Chemical from an known chemical formula\n",
    "    \"\"\"\n",
    "    def __init__(self, formula, isotopes, aducts, rt, max_intensity, chromatogram, children):\n",
    "        self.formula = formula.formula_string\n",
    "        self.isotopes = isotopes.get_isotopes()\n",
    "        self.aducts = aducts.get_aducts()\n",
    "        self.rt = rt\n",
    "        self.max_intensity = max_intensity\n",
    "        self.chromatogram = chromatogram\n",
    "        self.children = children\n",
    "        self.ms_level = 1\n",
    "    \n",
    "    def __repr__(self):\n",
    "         return 'KnownChemical - %r' % (self.formula)"
   ]
  },
  {
   "cell_type": "code",
   "execution_count": 45,
   "metadata": {},
   "outputs": [],
   "source": [
    "class MSN(Chemical):\n",
    "    \"\"\"\n",
    "    ms2+ fragments\n",
    "    \"\"\"\n",
    "    def __init__(self, mz, ms_level, parent_mass_prop, children=None, parent= None):\n",
    "        self.isotopes = [(mz,None,\"MSN\")]\n",
    "        self.ms_level = ms_level\n",
    "        self.parent_mass_prop = parent_mass_prop\n",
    "        self.children = children\n",
    "        self.parent = parent\n",
    "        \n",
    "    def __repr__(self):\n",
    "         return 'MSN Fragment mz=%.4f ms_level=%d' % (self.isotopes[0][0], self.ms_level)"
   ]
  },
  {
   "cell_type": "code",
   "execution_count": 315,
   "metadata": {},
   "outputs": [],
   "source": [
    "chrom = FunctionalChromatogram(\"normal\", [0,1])\n",
    "frag1 = MSN(50,2,0.5)\n",
    "frag2 = MSN(55,2,0.7)\n",
    "chem = UnknownChemical(100, 100, 10000, chrom, [frag1, frag2])\n",
    "frag1.parent = chem\n",
    "frag2.parent = chem\n",
    "\n",
    "frag1_1 = MSN(30,3,0.3,None,frag1)\n",
    "frag1_2 = MSN(35,3,0.5,None,frag1)\n",
    "frag1.children = [frag1_1, frag1_2]"
   ]
  },
  {
   "cell_type": "code",
   "execution_count": 316,
   "metadata": {},
   "outputs": [
    {
     "data": {
      "text/plain": [
       "[(101, 1164.2509265114713)]"
      ]
     },
     "execution_count": 316,
     "metadata": {},
     "output_type": "execute_result"
    }
   ],
   "source": [
    "chem.get_all_mz_peaks(101,1,[[(0,300)]])"
   ]
  },
  {
   "cell_type": "code",
   "execution_count": 317,
   "metadata": {},
   "outputs": [
    {
     "data": {
      "text/plain": [
       "[(51, 582.1254632557357), (56, 814.9756485580299)]"
      ]
     },
     "execution_count": 317,
     "metadata": {},
     "output_type": "execute_result"
    }
   ],
   "source": [
    "chem.get_all_mz_peaks(101,2,[[(0,300)]])"
   ]
  },
  {
   "cell_type": "code",
   "execution_count": 319,
   "metadata": {
    "scrolled": true
   },
   "outputs": [
    {
     "data": {
      "text/plain": [
       "[(31, 174.6376389767207), (36, 291.06273162786783)]"
      ]
     },
     "execution_count": 319,
     "metadata": {},
     "output_type": "execute_result"
    }
   ],
   "source": [
    "chem.get_all_mz_peaks(101,3,[[(0,300)],[(0,300)]])"
   ]
  },
  {
   "cell_type": "code",
   "execution_count": 320,
   "metadata": {},
   "outputs": [],
   "source": [
    "chrom = FunctionalChromatogram(\"normal\", [0,1])\n",
    "frag1 = MSN(50,2,0.5)\n",
    "frag2 = MSN(55,2,0.7)\n",
    "f = Formula(\"hg\",[100,101],[0.8,0.2],[\"Mono\",\"1C13\"],[[\"M+H\",\"M+ACN\"],[\"M+H\"]],[[0.9,0.1],[1]])\n",
    "chem2 = KnownChemical(f, 100, 10000, chrom, [frag1, frag2])\n",
    "frag1.parent = chem2\n",
    "frag2.parent = chem2\n",
    "\n",
    "frag1_1 = MSN(30,3,0.3,None,frag1)\n",
    "frag1_2 = MSN(35,3,0.5,None,frag1)\n",
    "frag1.children = [frag1_1, frag1_2]"
   ]
  },
  {
   "cell_type": "code",
   "execution_count": 322,
   "metadata": {},
   "outputs": [
    {
     "data": {
      "text/plain": [
       "[(101, 838.2606670882594), (150, 93.14007412091772), (102, 232.85018530229425)]"
      ]
     },
     "execution_count": 322,
     "metadata": {},
     "output_type": "execute_result"
    }
   ],
   "source": [
    "chem2.get_all_mz_peaks(101,1,[[(0,300)]])"
   ]
  },
  {
   "cell_type": "code",
   "execution_count": 323,
   "metadata": {},
   "outputs": [
    {
     "data": {
      "text/plain": [
       "[(51, 419.1303335441297), (56, 586.7824669617816), (100, 46.57003706045886), (105, 65.1980518846424)]"
      ]
     },
     "execution_count": 323,
     "metadata": {},
     "output_type": "execute_result"
    }
   ],
   "source": [
    "chem2.get_all_mz_peaks(101,2,[[(0,300)]])"
   ]
  },
  {
   "cell_type": "code",
   "execution_count": 324,
   "metadata": {},
   "outputs": [
    {
     "data": {
      "text/plain": [
       "[(31, 125.73910006323891), (36, 209.56516677206486), (80, 13.971011118137657), (85, 23.28501853022943)]"
      ]
     },
     "execution_count": 324,
     "metadata": {},
     "output_type": "execute_result"
    }
   ],
   "source": [
    "chem2.get_all_mz_peaks(101,3,[[(0,300)],[(0,300)]])"
   ]
  },
  {
   "cell_type": "markdown",
   "metadata": {},
   "source": [
    "# Data Generator"
   ]
  },
  {
   "cell_type": "code",
   "execution_count": null,
   "metadata": {},
   "outputs": [],
   "source": [
    "class ChemicalCreater(object):\n",
    "    def __init__(self, density_estimator, chemical_type = None, n_peaks = None, formula_list = None):\n",
    "        self.density_estimator = density_estimator\n",
    "        self.chemical_type = chemical_type\n",
    "        self.n_peaks = n_peaks\n",
    "        self.formula_list = formula_list\n",
    "        \n",
    "    def sample(self, ms_level, chemical_type = None):\n",
    "        chemicals = []\n",
    "        \n",
    "        return chemicals"
   ]
  },
  {
   "cell_type": "code",
   "execution_count": null,
   "metadata": {},
   "outputs": [],
   "source": [
    "# this samples the dataset using ChemicalCreater\n",
    "class Sample_Dataset(object):\n",
    "\n",
    "\n",
    "\n",
    "\n",
    "\n",
    "\n",
    "\n",
    "\n",
    "\n",
    "\n",
    "\n",
    "\n",
    "\n",
    "\n",
    "\n",
    "\n",
    "\n",
    "\n",
    "\n",
    "\n",
    "\n",
    "\n",
    "\n"
   ]
  }
 ],
 "metadata": {
  "kernelspec": {
   "display_name": "Python 3",
   "language": "python",
   "name": "python3"
  },
  "language_info": {
   "codemirror_mode": {
    "name": "ipython",
    "version": 3
   },
   "file_extension": ".py",
   "mimetype": "text/x-python",
   "name": "python",
   "nbconvert_exporter": "python",
   "pygments_lexer": "ipython3",
   "version": "3.6.6"
  }
 },
 "nbformat": 4,
 "nbformat_minor": 2
}
