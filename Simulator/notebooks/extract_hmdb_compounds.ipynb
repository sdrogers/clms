{
 "cells": [
  {
   "cell_type": "code",
   "execution_count": 1,
   "metadata": {},
   "outputs": [],
   "source": [
    "%load_ext autoreload\n",
    "%autoreload 2"
   ]
  },
  {
   "cell_type": "code",
   "execution_count": 2,
   "metadata": {},
   "outputs": [
    {
     "name": "stdout",
     "output_type": "stream",
     "text": [
      "Pretty printing has been turned OFF\n"
     ]
    }
   ],
   "source": [
    "%pprint"
   ]
  },
  {
   "cell_type": "code",
   "execution_count": 3,
   "metadata": {},
   "outputs": [],
   "source": [
    "import sys"
   ]
  },
  {
   "cell_type": "code",
   "execution_count": 4,
   "metadata": {},
   "outputs": [],
   "source": [
    "sys.path.append('../codes')"
   ]
  },
  {
   "cell_type": "code",
   "execution_count": 5,
   "metadata": {},
   "outputs": [],
   "source": [
    "from VMSfunctions.Chemicals import *"
   ]
  },
  {
   "cell_type": "code",
   "execution_count": 6,
   "metadata": {},
   "outputs": [],
   "source": [
    "import xml.etree.ElementTree"
   ]
  },
  {
   "cell_type": "code",
   "execution_count": 7,
   "metadata": {},
   "outputs": [],
   "source": [
    "class Extract_Metabolite_Xml(object):\n",
    "    def __init__(self,metabolite_xml_file):\n",
    "        db = xml.etree.ElementTree.parse(metabolite_xml_file).getroot()\n",
    "        self.compounds = []\n",
    "        compounds_list = [[None,None,None,None,None,None] for i in range(len(db))]\n",
    "        for i in range(len(db)):\n",
    "            for j in range(0,len(db[i])):\n",
    "                if db[i][j].tag == '{http://www.hmdb.ca}name':\n",
    "                    compounds_list[i][0] = db[i][j].text\n",
    "                if db[i][j].tag == '{http://www.hmdb.ca}chemical_formula':\n",
    "                    compounds_list[i][1] = db[i][j].text\n",
    "                if db[i][j].tag == '{http://www.hmdb.ca}monisotopic_molecular_weight':\n",
    "                    compounds_list[i][2] = db[i][j].text\n",
    "                if db[i][j].tag == '{http://www.hmdb.ca}smiles':\n",
    "                    compounds_list[i][3] = db[i][j].text\n",
    "                if db[i][j].tag == '{http://www.hmdb.ca}inchi':\n",
    "                    compounds_list[i][4] = db[i][j].text\n",
    "                if db[i][j].tag == '{http://www.hmdb.ca}inchikey':\n",
    "                    compounds_list[i][5] = db[i][j].text\n",
    "            if(None not in compounds_list[i]):\n",
    "                compounds_list[i][2] = float(compounds_list[i][2])\n",
    "                self.compounds.append(Compound(compounds_list[i][0],compounds_list[i][1],compounds_list[i][2],compounds_list[i][3],compounds_list[i][4],compounds_list[i][5]))"
   ]
  },
  {
   "cell_type": "code",
   "execution_count": 8,
   "metadata": {},
   "outputs": [],
   "source": [
    "saliva_compounds = Extract_Metabolite_Xml('../../../Compounds/saliva_metabolites.xml').compounds"
   ]
  },
  {
   "cell_type": "code",
   "execution_count": 9,
   "metadata": {},
   "outputs": [],
   "source": [
    "hmdb_compounds = Extract_Metabolite_Xml('../../../Compounds/hmdb_metabolites.xml').compounds"
   ]
  },
  {
   "cell_type": "code",
   "execution_count": 10,
   "metadata": {},
   "outputs": [],
   "source": [
    "import pickle\n",
    "pickle.dump(hmdb_compounds,open('../../../Compounds/hmdb_compounds.p','wb'))\n",
    "pickle.dump(saliva_compounds,open('../../../Compounds/saliva_compounds.p','wb'))"
   ]
  },
  {
   "cell_type": "code",
   "execution_count": 11,
   "metadata": {},
   "outputs": [],
   "source": [
    "import pickle\n",
    "hmdb = pickle.load(open('../../../Compounds/hmdb_compounds.p','rb'))"
   ]
  }
 ],
 "metadata": {
  "kernelspec": {
   "display_name": "Python 3",
   "language": "python",
   "name": "python3"
  },
  "language_info": {
   "codemirror_mode": {
    "name": "ipython",
    "version": 3
   },
   "file_extension": ".py",
   "mimetype": "text/x-python",
   "name": "python",
   "nbconvert_exporter": "python",
   "pygments_lexer": "ipython3",
   "version": "3.6.6"
  }
 },
 "nbformat": 4,
 "nbformat_minor": 2
}
