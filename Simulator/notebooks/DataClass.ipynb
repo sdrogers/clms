{
 "cells": [
  {
   "cell_type": "code",
   "execution_count": 1,
   "metadata": {},
   "outputs": [],
   "source": [
    "import numpy as np\n",
    "import random\n",
    "import matplotlib.pyplot as plt\n",
    "import sys"
   ]
  },
  {
   "cell_type": "code",
   "execution_count": 3,
   "metadata": {},
   "outputs": [],
   "source": [
    "sys.path.append('../codes')"
   ]
  },
  {
   "cell_type": "code",
   "execution_count": 4,
   "metadata": {},
   "outputs": [],
   "source": [
    "from VMSfunctions import VMS\n",
    "from importlib import reload\n",
    "VMS= reload(VMS)"
   ]
  },
  {
   "cell_type": "code",
   "execution_count": 5,
   "metadata": {},
   "outputs": [
    {
     "ename": "IndentationError",
     "evalue": "expected an indented block (<ipython-input-5-15cb62597c7c>, line 48)",
     "output_type": "error",
     "traceback": [
      "\u001b[1;36m  File \u001b[1;32m\"<ipython-input-5-15cb62597c7c>\"\u001b[1;36m, line \u001b[1;32m48\u001b[0m\n\u001b[1;33m    def MS_MultiScan(self,scan_bottom_initial,scan_top_initial,scan_bottom_secondary,scan_top_secondary):\u001b[0m\n\u001b[1;37m    ^\u001b[0m\n\u001b[1;31mIndentationError\u001b[0m\u001b[1;31m:\u001b[0m expected an indented block\n"
     ]
    }
   ],
   "source": [
    "class MS_Data:\n",
    "  def __init__(self,n,mz_ms1_range=[0,1000],mz_ms2_range=[0,500],int_ms1_range=[1000,10000],int_ms2_range=[1000,10000], ms2_mz_var=0.1):\n",
    "    self.mz_MS1 = np.random.uniform(mz_ms1_range[0],mz_ms1_range[1],n)\n",
    "    self.intensity_MS1 = np.random.uniform(int_ms1_range[0],int_ms1_range[1],n)\n",
    "    mz_MS2_initial = np.random.uniform(mz_ms2_range[0],mz_ms2_range[1],n)\n",
    "    self.mz_MS2 = []\n",
    "    self.intensity_MS2 = []\n",
    "    for i in range(0,n):\n",
    "        n1=random.sample([2,3,4],1)\n",
    "        self.mz_MS2.append(np.random.normal(mz_MS2_initial[i],ms2_mz_var,n1).tolist())\n",
    "        self.intensity_MS2.append(np.random.uniform(int_ms2_range[0],int_ms2_range[1],n1).tolist())\n",
    "        \n",
    "  def MS_Plot(self,MS_type,Index=None,width=1,xlabel=0,ylabel=0,title=0,ylim=0,xlim=0,colours=None):\n",
    "    VMS.MSplot(MS_type,self.mz_MS1,self.intensity_MS1,self.mz_MS2,self.intensity_MS2,index=Index,width=1,xlabel=0,ylabel=0,title=0,ylim=0,xlim=0,colours=None)   \n",
    "\n",
    "  def MS_Scan(self,range_min,range_max,plot=False,colour=False):\n",
    "    try:\n",
    "        len(range_min) + len(range_max)\n",
    "    except:\n",
    "        sys.exit(\"'range_min' and 'range_max' must be a list or int of length > 1\")\n",
    "    else:\n",
    "        if len(range_min)!=len(range_max):\n",
    "            sys.exit(\"'bottom' and 'top' should be the same length\")\n",
    "        which_in_range = np.zeros(len(self.mz_MS1))\n",
    "        for i in range(0,len(range_min)):\n",
    "            which_in_range = np.add(which_in_range,((self.mz_MS1<=range_max[i]) & (self.mz_MS1>range_min[i]))*1)\n",
    "        which_in_range2 = np.array(which_in_range)==1\n",
    "        mylist=np.array(range(0,len(self.mz_MS1)))[which_in_range2]\n",
    "        mz_MS2_list = [self.mz_MS2[i] for i in mylist]\n",
    "        intensity_MS2_list = [self.intensity_MS2[i] for i in mylist]\n",
    "        self.mz_MS2_list = mz_MS2_list\n",
    "        if plot==True:\n",
    "            intensity_MS2_list = [x for _,x in sorted(zip(mz_MS2_list,intensity_MS2_list))]\n",
    "            mz_MS2_list.sort()\n",
    "            if colour==True:\n",
    "                available_colours=[\"b\",\"g\",\"r\",\"c\",\"m\",\"y\",\"k\"]\n",
    "                colours=[]\n",
    "                for i in range(0,len(mz_MS2_list)):\n",
    "                    colours.append([available_colours[i%7]]*len(mz_MS2_list[i]))\n",
    "                colours = sum(colours,[])\n",
    "                VMS.MSplot(MStype=\"MS2\",Data_mz_MS2=[sum(mz_MS2_list,[])],Data_intensity_MS2=[sum(intensity_MS2_list,[])],index=0,colours=colours)\n",
    "            else:\n",
    "                VMS.MSplot(MStype=\"MS2\",Data_mz_MS2=[sum(mz_MS2_list,[])],Data_intensity_MS2=[sum(intensity_MS2_list,[])],index=0)\n",
    "\n",
    "    def MS_Scan_Plot(X):\n",
    "                \n",
    "  def MS_MultiScan(self,scan_bottom_initial,scan_top_initial,scan_bottom_secondary,scan_top_secondary):\n",
    "    try:\n",
    "        len(scan_bottom_initial) + len(scan_top_initial)\n",
    "    except:\n",
    "        sys.exit(\"'scan_bottom_initial' and 'scan_top_initial' must be a list or int of length > 1\")\n",
    "    else:\n",
    "        scans = []\n",
    "        scan_location = []\n",
    "        scan_result = [[] for e in range(0,len(scan_bottom_initial))] \n",
    "        for i in range(0,len(scan_bottom_initial)):\n",
    "            which_in_range = np.zeros(len(self.mz_MS1))\n",
    "            for j in range(0,len(scan_bottom_initial[i])):\n",
    "                which_in_range = np.add(which_in_range,((self.mz_MS1<=scan_top_initial[i][j]) & (self.mz_MS1>scan_bottom_initial[i][j]))*1)\n",
    "            which_in_range2 = np.array(which_in_range)==1\n",
    "            mylist=np.array(range(0,len(self.mz_MS1)))[which_in_range2]\n",
    "            mz_MS2_list = [self.mz_MS2[i] for i in mylist]\n",
    "            scans.extend(sum(mz_MS2_list,[]))\n",
    "            scan_location.append(sum([scan_bottom_initial[i],scan_top_initial[i]],[]))\n",
    "            for j in range(0,len(scan_bottom_initial)):\n",
    "                if j==i:\n",
    "                    scan_result[j].extend([1]*len(sum(mz_MS2_list,[])))\n",
    "                else:\n",
    "                    scan_result[j].extend([0]*len(sum(mz_MS2_list,[])))\n",
    "        if len(set(scans))!=len(scans):\n",
    "            sys.exit(\"An area has been scanned twice in the initial set up phase\")\n",
    "                    \n",
    "        for i in range(0,len(scan_bottom_secondary)):\n",
    "            which_in_range = np.zeros(len(self.mz_MS1))\n",
    "            for j in range(0,len(scan_bottom_secondary[i])):\n",
    "                which_in_range = np.add(which_in_range,((self.mz_MS1<=scan_top_secondary[i][j]) & (self.mz_MS1>scan_bottom_secondary[i][j]))*1)\n",
    "            which_in_range2 = np.array(which_in_range)==1\n",
    "            mylist=np.array(range(0,len(self.mz_MS1)))[which_in_range2]\n",
    "            mz_MS2_list = [self.mz_MS2[i] for i in mylist]\n",
    "            if len(scan_bottom_secondary[i])==1:\n",
    "                scan_location.append(sum([scan_bottom_secondary[i],scan_top_secondary[i]],[]))\n",
    "            else:\n",
    "                scan_location.append([scan_bottom_secondary[i],scan_top_secondary[i]])\n",
    "            ms2_s = sum(mz_MS2_list,[])\n",
    "            s_scan = [None]*len(scans)\n",
    "            for j in range(0,len(scans)):\n",
    "                if scans[j] in sum(mz_MS2_list,[]):\n",
    "                    s_scan[j]=1\n",
    "                else:\n",
    "                    s_scan[j]=0\n",
    "            scan_result.extend([s_scan])\n",
    "        scans=[scans]\n",
    "        scans.extend(scan_result)\n",
    "        return([scans,scan_location])"
   ]
  },
  {
   "cell_type": "code",
   "execution_count": null,
   "metadata": {},
   "outputs": [],
   "source": [
    "p = MS_Data(100)"
   ]
  },
  {
   "cell_type": "code",
   "execution_count": null,
   "metadata": {},
   "outputs": [],
   "source": [
    "p.MS_Plot(MS_type=\"MS1\")\n"
   ]
  },
  {
   "cell_type": "code",
   "execution_count": null,
   "metadata": {},
   "outputs": [],
   "source": [
    "p.MS_Scan([50],[100],plot=True,colour=True)"
   ]
  },
  {
   "cell_type": "code",
   "execution_count": null,
   "metadata": {},
   "outputs": [],
   "source": [
    "p.MS_Scan([0,80],[10,90],plot=True,colour=True)"
   ]
  },
  {
   "cell_type": "code",
   "execution_count": null,
   "metadata": {},
   "outputs": [],
   "source": [
    "p.MS_MultiScan([[0]],[[100]],[[0],[25],[50],[75]],[[25],[50],[75],[100]])"
   ]
  },
  {
   "cell_type": "code",
   "execution_count": null,
   "metadata": {},
   "outputs": [],
   "source": [
    "class Peak(object):\n",
    "    def __init__(self, mz, rt, intensity, ms_level, parent, filename=None, scan_number=None):\n",
    "        self.mz = mz\n",
    "        self.rt = rt\n",
    "        self.intensity = intensity\n",
    "        self.ms_level = ms_level\n",
    "        self.filename = filename\n",
    "        self.scan_number = scan_number\n",
    "        self.parent = parent\n",
    "        "
   ]
  },
  {
   "cell_type": "code",
   "execution_count": null,
   "metadata": {},
   "outputs": [],
   "source": [
    "p1 = Peak(123, 12, 11000, 1,None)"
   ]
  },
  {
   "cell_type": "code",
   "execution_count": null,
   "metadata": {},
   "outputs": [],
   "source": [
    "p2 = Peak(1233, 1123, 122, 2, p1)"
   ]
  },
  {
   "cell_type": "code",
   "execution_count": null,
   "metadata": {},
   "outputs": [],
   "source": []
  }
 ],
 "metadata": {
  "kernelspec": {
   "display_name": "Python 3",
   "language": "python",
   "name": "python3"
  },
  "language_info": {
   "codemirror_mode": {
    "name": "ipython",
    "version": 3
   },
   "file_extension": ".py",
   "mimetype": "text/x-python",
   "name": "python",
   "nbconvert_exporter": "python",
   "pygments_lexer": "ipython3",
   "version": "3.6.6"
  }
 },
 "nbformat": 4,
 "nbformat_minor": 2
}
