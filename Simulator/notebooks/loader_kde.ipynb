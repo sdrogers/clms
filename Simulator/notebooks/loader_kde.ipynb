{
 "cells": [
  {
   "cell_type": "markdown",
   "metadata": {},
   "source": [
    "# Loader + KDE"
   ]
  },
  {
   "cell_type": "code",
   "execution_count": 1,
   "metadata": {},
   "outputs": [],
   "source": [
    "import sys\n",
    "sys.path.append('../codes')"
   ]
  },
  {
   "cell_type": "code",
   "execution_count": 2,
   "metadata": {},
   "outputs": [],
   "source": [
    "%load_ext autoreload\n",
    "%autoreload 2"
   ]
  },
  {
   "cell_type": "code",
   "execution_count": 3,
   "metadata": {},
   "outputs": [],
   "source": [
    "import pickle\n",
    "import numpy as np\n",
    "import pylab as plt\n",
    "from sklearn.neighbors import KernelDensity\n",
    "from sklearn.model_selection import GridSearchCV\n",
    "\n",
    "from molnet.mnet import *"
   ]
  },
  {
   "cell_type": "code",
   "execution_count": 4,
   "metadata": {},
   "outputs": [],
   "source": [
    "class Peak(object):\n",
    "    def __init__(self, mz, rt, intensity, ms_level, filename, scan_number):\n",
    "        self.mz = mz\n",
    "        self.rt = rt\n",
    "        self.intensity = intensity\n",
    "        self.ms_level = ms_level\n",
    "        self.filename = filename\n",
    "        self.scan_number = scan_number\n",
    "\n",
    "class Simulator(object):\n",
    "    def __init__(self, min_ms1_intensity=0, min_ms2_intensity=0):\n",
    "        self.data = {}\n",
    "        self.ms1_peaks = []\n",
    "        self.ms2_peaks = []\n",
    "        self.ms1_precision = 5e-6\n",
    "        self.obo_version = '4.0.1'\n",
    "        self.min_ms1_intensity = min_ms1_intensity\n",
    "        self.min_ms2_intensity = min_ms2_intensity\n",
    "        self.bandwidths = 10 ** np.linspace(-1, 1, 40)\n",
    "        self.kde = {}\n",
    "        \n",
    "    def load_data(self, data_path):\n",
    "        for filename in glob.glob(os.path.join(data_path, '*.mzML')):\n",
    "            run = pymzml.run.Reader(filename, obo_version = self.obo_version,\n",
    "                                    MS1_Precision=self.ms1_precision,\n",
    "                                    extraAccessions=[('MS:1000016', ['value', 'unitName'])])\n",
    "            ms1 = []\n",
    "            ms2 = []\n",
    "            for nc, spectrum in enumerate(run):\n",
    "                # if isinstance(spectrum, pymzml.spec.Chromatogram):\n",
    "                #    print('chromatogram')\n",
    "                for mz, intensity in spectrum.peaks('centroided'):\n",
    "                    rt, units = spectrum.scan_time\n",
    "                    if units == 'minute':\n",
    "                        rt *= 60.0\n",
    "                    ms_level = spectrum.ms_level\n",
    "                    p = Peak(mz, rt, intensity, ms_level, filename, nc)\n",
    "                    if ms_level == 1 and intensity > self.min_ms1_intensity:\n",
    "                        ms1.append(p)\n",
    "                    elif ms_level == 2 and intensity > self.min_ms2_intensity:\n",
    "                        ms2.append(p)\n",
    "            self.ms1_peaks.extend(ms1)\n",
    "            self.ms2_peaks.extend(ms2)\n",
    "            print('%s (ms1=%d, ms2=%d)' % (filename, len(ms1), len(ms2)))\n",
    "                        \n",
    "    def get_ms1_mz(self):\n",
    "        return np.array(list(x.mz for x in self.ms1_peaks))[:, np.newaxis]     \n",
    "\n",
    "    def get_ms1_rt(self):\n",
    "        return np.array(list(x.rt for x in self.ms1_peaks))[:, np.newaxis]     \n",
    "\n",
    "    def get_ms1_intensity(self):\n",
    "        return np.array(list(x.intensity for x in self.ms1_peaks))[:, np.newaxis]     \n",
    "    \n",
    "    def get_log_ms1_mz(self):\n",
    "        return np.log(self.get_ms1_mz())\n",
    "\n",
    "    def get_log_ms1_intensity(self):\n",
    "        return np.log(self.get_ms1_intensity())        \n",
    "    \n",
    "    def plot_histogram(self, data_type, bins=100):\n",
    "        X = self._get_data(data_type)\n",
    "        plt.figure()\n",
    "        _ = plt.hist(X, bins=100)\n",
    "        plt.plot(X[:, 0], np.full(X.shape[0], -0.01), '|k')\n",
    "        plt.title('%s histogram' % data_type)\n",
    "        plt.show()\n",
    "        \n",
    "    def kde_cv(self, data_type, cv=2, plot=False):\n",
    "        X = self._get_data(data_type)\n",
    "        grid = GridSearchCV(KernelDensity(kernel='gaussian'), \n",
    "                            {'bandwidth': self.bandwidths},\n",
    "                            cv=2, verbose=True, n_jobs=-1)\n",
    "        grid.fit(X)\n",
    "        \n",
    "        bandwidth_cv = grid.best_params_['bandwidth']\n",
    "        print('Best bandwidth: %.3f' % bandwidth_cv)        \n",
    "        title = '%s density estimation - bandwidth %.3f' % (data_type, bandwidth_cv)\n",
    "        kde = self._train_kde(bandwidth_cv, X)\n",
    "        self._plot_kde(kde, X, title)\n",
    "        self.kde[data_type] = kde\n",
    "        \n",
    "    def _get_data(self, data_type):\n",
    "        if data_type == 'mz':\n",
    "            X = self.get_log_ms1_mz()\n",
    "        elif data_type == 'rt':\n",
    "            X = self.get_ms1_rt()\n",
    "        elif data_type == 'intensity':\n",
    "            X = self.get_log_ms1_intensity()\n",
    "        return X\n",
    "                \n",
    "    def _train_kde(self, bandwidth_cv, X):\n",
    "        kde = KernelDensity(kernel='gaussian', bandwidth=bandwidth_cv).fit(X)\n",
    "        return kde\n",
    "        \n",
    "    def _plot_kde(self, kde, X, title):\n",
    "        X_plot = np.linspace(np.min(X), np.max(X), 1000)[:, np.newaxis]\n",
    "        log_dens = kde.score_samples(X_plot)                \n",
    "        plt.figure()        \n",
    "        plt.fill(X_plot[:, 0], np.exp(log_dens), fc='#AAAAFF')\n",
    "        plt.plot(X[:, 0], np.full(X.shape[0], -0.01), '|k')\n",
    "        plt.title(title)\n",
    "        plt.show()\n",
    "        \n",
    "    def sample(self, data_type, n_samples):\n",
    "        samples = self.kde[data_type].sample(n_samples)\n",
    "        if data_type == 'mz' or data_type == 'intensity':\n",
    "            return np.exp(samples)\n",
    "        elif data_type == 'rt':\n",
    "            return samples\n",
    "        \n",
    "    def save(self, outfile):\n",
    "        with open(outfile, 'wb') as f:\n",
    "            pickle.dump(self, f, protocol=pickle.HIGHEST_PROTOCOL)    \n",
    "    \n",
    "    @classmethod\n",
    "    def load(cls, infile):\n",
    "        with open(infile, 'rb') as f:        \n",
    "            return pickle.load(f)"
   ]
  },
  {
   "cell_type": "markdown",
   "metadata": {},
   "source": [
    "### Process Beer data"
   ]
  },
  {
   "cell_type": "code",
   "execution_count": 5,
   "metadata": {},
   "outputs": [],
   "source": [
    "data_path = 'C:\\\\Users\\\\joewa\\\\Work\\\\clms\\\\\\FourBeers_mzML_files\\\\test\\\\'\n",
    "sim = Simulator(min_ms1_intensity=2500000, min_ms2_intensity=5000)"
   ]
  },
  {
   "cell_type": "code",
   "execution_count": 6,
   "metadata": {},
   "outputs": [
    {
     "name": "stdout",
     "output_type": "stream",
     "text": [
      "C:\\Users\\joewa\\Work\\clms\\\\FourBeers_mzML_files\\test\\Beer_1_T10_POS.mzML (ms1=15022, ms2=80212)\n"
     ]
    }
   ],
   "source": [
    "sim.load_data(data_path)"
   ]
  },
  {
   "cell_type": "code",
   "execution_count": 7,
   "metadata": {},
   "outputs": [],
   "source": [
    "sim.save('../models/sim_4beers.pkl')"
   ]
  },
  {
   "cell_type": "code",
   "execution_count": 8,
   "metadata": {},
   "outputs": [],
   "source": [
    "sim = Simulator.load('../models/sim_4beers.pkl')"
   ]
  },
  {
   "cell_type": "code",
   "execution_count": 10,
   "metadata": {},
   "outputs": [
    {
     "data": {
      "image/png": "[encoded data removed]",
      "text/plain": [
       "<Figure size 432x288 with 1 Axes>"
      ]
     },
     "metadata": {
      "needs_background": "light"
     },
     "output_type": "display_data"
    },
    {
     "name": "stdout",
     "output_type": "stream",
     "text": [
      "Fitting 2 folds for each of 40 candidates, totalling 80 fits\n"
     ]
    },
    {
     "name": "stderr",
     "output_type": "stream",
     "text": [
      "[Parallel(n_jobs=-1)]: Using backend LokyBackend with 12 concurrent workers.\n",
      "[Parallel(n_jobs=-1)]: Done  26 tasks      | elapsed:   23.2s\n",
      "[Parallel(n_jobs=-1)]: Done  80 out of  80 | elapsed:   55.6s finished\n"
     ]
    },
    {
     "name": "stdout",
     "output_type": "stream",
     "text": [
      "Best bandwidth: 0.127\n"
     ]
    },
    {
     "data": {
      "image/png": "[encoded data removed]",
      "text/plain": [
       "<Figure size 432x288 with 1 Axes>"
      ]
     },
     "metadata": {
      "needs_background": "light"
     },
     "output_type": "display_data"
    },
    {
     "data": {
      "text/plain": [
       "array([[214.8684764 ],\n",
       "       [188.34114299],\n",
       "       [110.17784329],\n",
       "       [329.33116941],\n",
       "       [189.80724299],\n",
       "       [171.19895484],\n",
       "       [300.52111458],\n",
       "       [115.13077751],\n",
       "       [325.39069616],\n",
       "       [210.7557012 ],\n",
       "       [208.89931745],\n",
       "       [183.96030962],\n",
       "       [163.47362674],\n",
       "       [280.36378652],\n",
       "       [304.85948708],\n",
       "       [186.02645849],\n",
       "       [149.71416253],\n",
       "       [ 82.12959706],\n",
       "       [110.30102779],\n",
       "       [194.16534364]])"
      ]
     },
     "execution_count": 10,
     "metadata": {},
     "output_type": "execute_result"
    }
   ],
   "source": [
    "data_type = 'mz'\n",
    "sim.plot_histogram(data_type)\n",
    "sim.kde_cv(data_type, cv=2, plot=True)\n",
    "sim.sample(data_type, 20)"
   ]
  },
  {
   "cell_type": "code",
   "execution_count": 11,
   "metadata": {},
   "outputs": [
    {
     "data": {
      "image/png": "[encoded data removed]",
      "text/plain": [
       "<Figure size 432x288 with 1 Axes>"
      ]
     },
     "metadata": {
      "needs_background": "light"
     },
     "output_type": "display_data"
    },
    {
     "name": "stdout",
     "output_type": "stream",
     "text": [
      "Fitting 2 folds for each of 40 candidates, totalling 80 fits\n"
     ]
    },
    {
     "name": "stderr",
     "output_type": "stream",
     "text": [
      "[Parallel(n_jobs=-1)]: Using backend LokyBackend with 12 concurrent workers.\n",
      "[Parallel(n_jobs=-1)]: Done  26 tasks      | elapsed:    6.5s\n",
      "[Parallel(n_jobs=-1)]: Done  80 out of  80 | elapsed:   29.8s finished\n"
     ]
    },
    {
     "name": "stdout",
     "output_type": "stream",
     "text": [
      "Best bandwidth: 10.000\n"
     ]
    },
    {
     "data": {
      "image/png": "[encoded data removed]",
      "text/plain": [
       "<Figure size 432x288 with 1 Axes>"
      ]
     },
     "metadata": {
      "needs_background": "light"
     },
     "output_type": "display_data"
    },
    {
     "data": {
      "text/plain": [
       "array([[ 641.07420353],\n",
       "       [ 428.34532856],\n",
       "       [ 987.82227199],\n",
       "       [ 924.10268021],\n",
       "       [ 422.30081319],\n",
       "       [1281.37244799],\n",
       "       [ 424.72633243],\n",
       "       [ 799.45854867],\n",
       "       [1264.9472422 ],\n",
       "       [ 442.11464341],\n",
       "       [ 611.38048304],\n",
       "       [ 652.78219674],\n",
       "       [ 402.21242245],\n",
       "       [ 205.93702667],\n",
       "       [ 453.76558656],\n",
       "       [ 120.30949207],\n",
       "       [ 769.58800104],\n",
       "       [ 449.49950687],\n",
       "       [ 723.94751124],\n",
       "       [  26.3468628 ]])"
      ]
     },
     "execution_count": 11,
     "metadata": {},
     "output_type": "execute_result"
    }
   ],
   "source": [
    "data_type = 'rt'\n",
    "sim.plot_histogram(data_type)\n",
    "sim.kde_cv(data_type, cv=2, plot=True)\n",
    "sim.sample(data_type, 20)"
   ]
  },
  {
   "cell_type": "code",
   "execution_count": 12,
   "metadata": {},
   "outputs": [
    {
     "data": {
      "image/png": "[encoded data removed]",
      "text/plain": [
       "<Figure size 432x288 with 1 Axes>"
      ]
     },
     "metadata": {
      "needs_background": "light"
     },
     "output_type": "display_data"
    },
    {
     "name": "stdout",
     "output_type": "stream",
     "text": [
      "Fitting 2 folds for each of 40 candidates, totalling 80 fits\n"
     ]
    },
    {
     "name": "stderr",
     "output_type": "stream",
     "text": [
      "[Parallel(n_jobs=-1)]: Using backend LokyBackend with 12 concurrent workers.\n",
      "[Parallel(n_jobs=-1)]: Done  26 tasks      | elapsed:   25.1s\n",
      "[Parallel(n_jobs=-1)]: Done  80 out of  80 | elapsed:  1.1min finished\n"
     ]
    },
    {
     "name": "stdout",
     "output_type": "stream",
     "text": [
      "Best bandwidth: 0.100\n"
     ]
    },
    {
     "data": {
      "image/png": "[encoded data removed]",
      "text/plain": [
       "<Figure size 432x288 with 1 Axes>"
      ]
     },
     "metadata": {
      "needs_background": "light"
     },
     "output_type": "display_data"
    },
    {
     "data": {
      "text/plain": [
       "array([[ 6562751.73246467],\n",
       "       [ 3420308.37370891],\n",
       "       [ 3881572.55361773],\n",
       "       [ 4740543.12436863],\n",
       "       [ 2821814.91932247],\n",
       "       [ 2924441.19630253],\n",
       "       [37318982.14240795],\n",
       "       [ 4395771.44522251],\n",
       "       [ 3331582.49037928],\n",
       "       [ 7855675.99227888],\n",
       "       [ 7895528.6048943 ],\n",
       "       [ 4192068.23182442],\n",
       "       [ 7600897.66451862],\n",
       "       [ 7211639.61912417],\n",
       "       [ 4347675.97316372],\n",
       "       [28675438.39881999],\n",
       "       [ 7489719.65964613],\n",
       "       [ 3257911.38882737],\n",
       "       [ 3034740.61400142],\n",
       "       [ 4807579.37729304]])"
      ]
     },
     "execution_count": 12,
     "metadata": {},
     "output_type": "execute_result"
    }
   ],
   "source": [
    "data_type = 'intensity'\n",
    "sim.plot_histogram(data_type)\n",
    "sim.kde_cv(data_type, cv=2, plot=True)\n",
    "sim.sample(data_type, 20)"
   ]
  },
  {
   "cell_type": "code",
   "execution_count": 13,
   "metadata": {},
   "outputs": [],
   "source": [
    "sim.save('../models/sim_4beers.pkl')"
   ]
  }
 ],
 "metadata": {
  "kernelspec": {
   "display_name": "Python 3",
   "language": "python",
   "name": "python3"
  },
  "language_info": {
   "codemirror_mode": {
    "name": "ipython",
    "version": 3
   },
   "file_extension": ".py",
   "mimetype": "text/x-python",
   "name": "python",
   "nbconvert_exporter": "python",
   "pygments_lexer": "ipython3",
   "version": "3.6.6"
  }
 },
 "nbformat": 4,
 "nbformat_minor": 2
}
