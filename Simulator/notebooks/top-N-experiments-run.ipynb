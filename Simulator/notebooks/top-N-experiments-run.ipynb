{
 "cells": [
  {
   "cell_type": "markdown",
   "metadata": {},
   "source": [
    "# Experiment: Varying N in top-N DDA fragmentation"
   ]
  },
  {
   "cell_type": "markdown",
   "metadata": {},
   "source": [
    "We demonstrate that the simulator can be used for scan-level closed-loop DDA experiments. \n",
    "- Take an existing data. Find out which MS1 peaks are linked to which MS2 peaks.\n",
    "- Run all MS1 peaks through the simulator’s Top-N protocol. \n",
    "- For the top-100 most intense MS1 peaks, how many got fragmented in the simulator as we change N?\n",
    "- If N is greater than the real data, do we see the same MS1 peaks from (1) being fragmented again, plus additional fragment peaks?\n",
    "- Verification on actual machine.\n",
    "- Talk to stefan about machine time."
   ]
  },
  {
   "cell_type": "code",
   "execution_count": 1,
   "metadata": {},
   "outputs": [],
   "source": [
    "%matplotlib inline"
   ]
  },
  {
   "cell_type": "code",
   "execution_count": 2,
   "metadata": {},
   "outputs": [],
   "source": [
    "%load_ext autoreload\n",
    "%autoreload 2"
   ]
  },
  {
   "cell_type": "code",
   "execution_count": 3,
   "metadata": {},
   "outputs": [],
   "source": [
    "import numpy as np\n",
    "import pandas as pd\n",
    "import sys\n",
    "import os\n",
    "import scipy.stats\n",
    "import pylab as plt\n",
    "from IPython import display\n",
    "import pylab as plt\n",
    "from random import random, shuffle\n",
    "from joblib import Parallel, delayed\n",
    "import multiprocessing"
   ]
  },
  {
   "cell_type": "code",
   "execution_count": 4,
   "metadata": {},
   "outputs": [],
   "source": [
    "sys.path.append('../codes')"
   ]
  },
  {
   "cell_type": "code",
   "execution_count": 5,
   "metadata": {},
   "outputs": [],
   "source": [
    "from VMSfunctions.Chemicals import *\n",
    "from VMSfunctions.Chromatograms import *\n",
    "from VMSfunctions.MassSpec import *\n",
    "from VMSfunctions.Controller import *\n",
    "from VMSfunctions.Common import *\n",
    "from VMSfunctions.DataGenerator import *\n",
    "from VMSfunctions.Noise import *"
   ]
  },
  {
   "cell_type": "code",
   "execution_count": 6,
   "metadata": {},
   "outputs": [],
   "source": [
    "set_log_level_debug()"
   ]
  },
  {
   "cell_type": "markdown",
   "metadata": {},
   "source": [
    "### Load densities trained on beer1pos data (see [loader_kde](loader_kde.ipynb))."
   ]
  },
  {
   "cell_type": "code",
   "execution_count": 7,
   "metadata": {},
   "outputs": [],
   "source": [
    "base_dir = 'C:\\\\Users\\\\joewa\\\\University of Glasgow\\\\Vinny Davies - CLDS Metabolomics Project\\\\'"
   ]
  },
  {
   "cell_type": "code",
   "execution_count": 8,
   "metadata": {},
   "outputs": [],
   "source": [
    "ps = load_obj(base_dir + 'Trained Models\\\\peak_sampler_beer1pos_fragmentation.p')"
   ]
  },
  {
   "cell_type": "markdown",
   "metadata": {},
   "source": [
    "### Load prepared data (BEER1POS)"
   ]
  },
  {
   "cell_type": "code",
   "execution_count": 9,
   "metadata": {},
   "outputs": [],
   "source": [
    "base_dir = 'C:\\\\Users\\\\joewa\\\\Work\\\\git\\\\clms\\\\Simulator'"
   ]
  },
  {
   "cell_type": "code",
   "execution_count": 10,
   "metadata": {},
   "outputs": [],
   "source": [
    "dataset = load_obj(os.path.join(base_dir, 'models\\\\dda_results\\\\dataset.p'))\n",
    "noisy_dataset = load_obj(os.path.join(base_dir, 'models\\\\dda_results\\\\noisy_dataset.p'))"
   ]
  },
  {
   "cell_type": "markdown",
   "metadata": {},
   "source": [
    "### Experiment by varying N and rt_tol"
   ]
  },
  {
   "cell_type": "code",
   "execution_count": 11,
   "metadata": {},
   "outputs": [],
   "source": [
    "def run_experiment(param):\n",
    "    analysis_name = param['analysis_name']\n",
    "    mzml_out = param['mzml_out']\n",
    "    pickle_out = param['pickle_out']\n",
    "    if os.path.isfile(mzml_out) and os.path.isfile(pickle_out): \n",
    "        print('Skipping %s' % (analysis_name))\n",
    "    else:    \n",
    "        print('Processing %s' % (analysis_name))\n",
    "        mass_spec = IndependentMassSpectrometer(param['ionisation_mode'], param['data'], density=param['density'])\n",
    "        controller = TopNController(mass_spec, param['N'], param['isolation_window'], \n",
    "                                    param['rt_tol'], param['min_ms1_intensity'])\n",
    "        controller.run(param['min_rt'], param['max_rt'], progress_bar=param['pbar'])\n",
    "        controller.write_mzML(analysis_name, mzml_out)  \n",
    "        save_obj(controller, pickle_out)\n",
    "        return analysis_name"
   ]
  },
  {
   "cell_type": "code",
   "execution_count": 12,
   "metadata": {},
   "outputs": [],
   "source": [
    "def run_parallel_experiment(params):\n",
    "    import ipyparallel as ipp\n",
    "    rc = ipp.Client()\n",
    "    dview = rc[:] # use all engines\n",
    "\n",
    "    with dview.sync_imports():\n",
    "        from VMSfunctions.MassSpec import IndependentMassSpectrometer\n",
    "        from VMSfunctions.Controller import TopNController\n",
    "        from VMSfunctions.Common import save_obj\n",
    "        import os\n",
    "        \n",
    "    analysis_names = dview.map_sync(run_experiment, params)\n",
    "    for analysis_name in analysis_names:\n",
    "        print(analysis_name)"
   ]
  },
  {
   "cell_type": "code",
   "execution_count": 13,
   "metadata": {},
   "outputs": [],
   "source": [
    "def run_serial_experiment(param, i, total):\n",
    "    print('Processing \\t%d/%d\\t%s' % (i+1, total, param['analysis_name']))\n",
    "    run_experiment(param)"
   ]
  },
  {
   "cell_type": "markdown",
   "metadata": {},
   "source": [
    "#### Set parameters"
   ]
  },
  {
   "cell_type": "code",
   "execution_count": 14,
   "metadata": {},
   "outputs": [],
   "source": [
    "def get_params(Ns, rt_tols, isolation_window, ionisation_mode, data, density, \n",
    "               min_ms1_intensity, min_rt, max_rt, \n",
    "               base_dir, pbar):\n",
    "    print('N =', Ns)\n",
    "    print('rt_tol =', rt_tols)    \n",
    "    params = []\n",
    "    for N in Ns:\n",
    "        for rt_tol in rt_tols:\n",
    "            analysis_name = 'experiment_N_%d_rttol_%d' % (N, rt_tol)    \n",
    "            mzml_out = os.path.join(base_dir, 'models\\\\dda_results\\\\%s.mzML' % analysis_name)    \n",
    "            pickle_out = os.path.join(base_dir, 'models\\\\dda_results\\\\%s.p' % analysis_name)            \n",
    "            params.append({\n",
    "                'N': N, \n",
    "                'rt_tol': rt_tol,\n",
    "                'min_ms1_intensity': min_ms1_intensity,\n",
    "                'isolation_window': isolation_window,\n",
    "                'ionisation_mode': ionisation_mode,\n",
    "                'data': data,\n",
    "                'density': density,\n",
    "                'min_rt': min_rt,\n",
    "                'max_rt': max_rt,\n",
    "                'analysis_name': analysis_name,\n",
    "                'mzml_out': mzml_out,\n",
    "                'pickle_out': pickle_out,\n",
    "                'pbar': pbar\n",
    "            })\n",
    "    print('len(params) =', len(params))\n",
    "    return params"
   ]
  },
  {
   "cell_type": "code",
   "execution_count": 15,
   "metadata": {},
   "outputs": [],
   "source": [
    "isolation_window = 0.5   # the isolation window in Dalton around a selected precursor ion\n",
    "ionisation_mode = POSITIVE\n",
    "data = noisy_dataset\n",
    "density = ps.density_estimator\n",
    "min_ms1_intensity = 2.5E5 # minimum ms1 intensity to fragment\n",
    "min_rt = 3*60\n",
    "max_rt = 21*60"
   ]
  },
  {
   "cell_type": "markdown",
   "metadata": {},
   "source": [
    "Varying Ns"
   ]
  },
  {
   "cell_type": "code",
   "execution_count": 16,
   "metadata": {},
   "outputs": [],
   "source": [
    "Ns = list(range(2, 101, 2)) # top-N DDA fragmentation\n",
    "rt_tols = [15] # the rt window around a selected precursor ion to prevent it from fragmented multiple times"
   ]
  },
  {
   "cell_type": "code",
   "execution_count": 17,
   "metadata": {},
   "outputs": [],
   "source": [
    "# set_log_level_warning()\n",
    "# pbar = True\n",
    "# params = get_params(Ns, rt_tols, isolation_window, ionisation_mode, data, density, \n",
    "#                     min_ms1_intensity, min_rt, max_rt, base_dir, pbar)\n",
    "\n",
    "# for i in range(len(params)):\n",
    "#     param = params[i]\n",
    "#     run_serial_experiment(param, i, len(params))"
   ]
  },
  {
   "cell_type": "code",
   "execution_count": 21,
   "metadata": {},
   "outputs": [
    {
     "name": "stdout",
     "output_type": "stream",
     "text": [
      "N = [2, 4, 6, 8, 10, 12, 14, 16, 18, 20, 22, 24, 26, 28, 30, 32, 34, 36, 38, 40, 42, 44, 46, 48, 50, 52, 54, 56, 58, 60, 62, 64, 66, 68, 70, 72, 74, 76, 78, 80, 82, 84, 86, 88, 90, 92, 94, 96, 98, 100]\n",
      "rt_tol = [15]\n",
      "len(params) = 50\n",
      "importing IndependentMassSpectrometer from VMSfunctions.MassSpec on engine(s)\n",
      "importing TopNController from VMSfunctions.Controller on engine(s)\n",
      "importing save_obj from VMSfunctions.Common on engine(s)\n",
      "importing os on engine(s)\n",
      "experiment_N_2_rttol_15\n",
      "experiment_N_4_rttol_15\n",
      "experiment_N_6_rttol_15\n",
      "experiment_N_8_rttol_15\n",
      "experiment_N_10_rttol_15\n",
      "experiment_N_12_rttol_15\n",
      "experiment_N_14_rttol_15\n",
      "experiment_N_16_rttol_15\n",
      "experiment_N_18_rttol_15\n",
      "experiment_N_20_rttol_15\n",
      "experiment_N_22_rttol_15\n",
      "experiment_N_24_rttol_15\n",
      "experiment_N_26_rttol_15\n",
      "experiment_N_28_rttol_15\n",
      "experiment_N_30_rttol_15\n",
      "experiment_N_32_rttol_15\n",
      "experiment_N_34_rttol_15\n",
      "experiment_N_36_rttol_15\n",
      "experiment_N_38_rttol_15\n",
      "experiment_N_40_rttol_15\n",
      "experiment_N_42_rttol_15\n",
      "experiment_N_44_rttol_15\n",
      "experiment_N_46_rttol_15\n",
      "experiment_N_48_rttol_15\n",
      "experiment_N_50_rttol_15\n",
      "experiment_N_52_rttol_15\n",
      "experiment_N_54_rttol_15\n",
      "experiment_N_56_rttol_15\n",
      "experiment_N_58_rttol_15\n",
      "experiment_N_60_rttol_15\n",
      "experiment_N_62_rttol_15\n",
      "experiment_N_64_rttol_15\n",
      "experiment_N_66_rttol_15\n",
      "experiment_N_68_rttol_15\n",
      "experiment_N_70_rttol_15\n",
      "experiment_N_72_rttol_15\n",
      "experiment_N_74_rttol_15\n",
      "experiment_N_76_rttol_15\n",
      "experiment_N_78_rttol_15\n",
      "experiment_N_80_rttol_15\n",
      "experiment_N_82_rttol_15\n",
      "experiment_N_84_rttol_15\n",
      "experiment_N_86_rttol_15\n",
      "experiment_N_88_rttol_15\n",
      "experiment_N_90_rttol_15\n",
      "experiment_N_92_rttol_15\n",
      "experiment_N_94_rttol_15\n",
      "experiment_N_96_rttol_15\n",
      "experiment_N_98_rttol_15\n",
      "experiment_N_100_rttol_15\n"
     ]
    }
   ],
   "source": [
    "set_log_level_warning()\n",
    "pbar = False\n",
    "params = get_params(Ns, rt_tols, isolation_window, ionisation_mode, data, density, \n",
    "                    min_ms1_intensity, min_rt, max_rt, base_dir, pbar)\n",
    "run_parallel_experiment(params)"
   ]
  },
  {
   "cell_type": "markdown",
   "metadata": {},
   "source": [
    "Vary rt_tols"
   ]
  },
  {
   "cell_type": "code",
   "execution_count": 22,
   "metadata": {},
   "outputs": [],
   "source": [
    "Ns = [10] # top-N DDA fragmentation\n",
    "rt_tols = list(range(5, 31, 5)) # the rt window around a selected precursor ion to prevent it from fragmented multiple times"
   ]
  },
  {
   "cell_type": "code",
   "execution_count": 23,
   "metadata": {},
   "outputs": [
    {
     "name": "stdout",
     "output_type": "stream",
     "text": [
      "N = [10]\n",
      "rt_tol = [5, 10, 15, 20, 25, 30]\n",
      "len(params) = 6\n",
      "importing IndependentMassSpectrometer from VMSfunctions.MassSpec on engine(s)\n",
      "importing TopNController from VMSfunctions.Controller on engine(s)\n",
      "importing save_obj from VMSfunctions.Common on engine(s)\n",
      "importing os on engine(s)\n",
      "experiment_N_10_rttol_5\n",
      "experiment_N_10_rttol_10\n",
      "None\n",
      "experiment_N_10_rttol_20\n",
      "experiment_N_10_rttol_25\n",
      "experiment_N_10_rttol_30\n"
     ]
    }
   ],
   "source": [
    "set_log_level_warning()\n",
    "pbar = False\n",
    "params = get_params(Ns, rt_tols, isolation_window, ionisation_mode, data, density, \n",
    "                    min_ms1_intensity, min_rt, max_rt, base_dir, pbar)\n",
    "run_parallel_experiment(params)"
   ]
  },
  {
   "cell_type": "markdown",
   "metadata": {},
   "source": [
    "Vary both"
   ]
  },
  {
   "cell_type": "code",
   "execution_count": 24,
   "metadata": {},
   "outputs": [],
   "source": [
    "Ns = list(range(2, 51, 2)) # top-N DDA fragmentation\n",
    "rt_tols = list(range(5, 31, 5)) # the rt window around a selected precursor ion to prevent it from fragmented multiple times"
   ]
  },
  {
   "cell_type": "code",
   "execution_count": 25,
   "metadata": {},
   "outputs": [
    {
     "name": "stdout",
     "output_type": "stream",
     "text": [
      "N = [2, 4, 6, 8, 10, 12, 14, 16, 18, 20, 22, 24, 26, 28, 30, 32, 34, 36, 38, 40, 42, 44, 46, 48, 50]\n",
      "rt_tol = [5, 10, 15, 20, 25, 30]\n",
      "len(params) = 150\n",
      "importing IndependentMassSpectrometer from VMSfunctions.MassSpec on engine(s)\n",
      "importing TopNController from VMSfunctions.Controller on engine(s)\n",
      "importing save_obj from VMSfunctions.Common on engine(s)\n",
      "importing os on engine(s)\n",
      "experiment_N_2_rttol_5\n",
      "experiment_N_2_rttol_10\n",
      "None\n",
      "experiment_N_2_rttol_20\n",
      "experiment_N_2_rttol_25\n",
      "experiment_N_2_rttol_30\n",
      "experiment_N_4_rttol_5\n",
      "experiment_N_4_rttol_10\n",
      "None\n",
      "experiment_N_4_rttol_20\n",
      "experiment_N_4_rttol_25\n",
      "experiment_N_4_rttol_30\n",
      "experiment_N_6_rttol_5\n",
      "experiment_N_6_rttol_10\n",
      "None\n",
      "experiment_N_6_rttol_20\n",
      "experiment_N_6_rttol_25\n",
      "experiment_N_6_rttol_30\n",
      "experiment_N_8_rttol_5\n",
      "experiment_N_8_rttol_10\n",
      "None\n",
      "experiment_N_8_rttol_20\n",
      "experiment_N_8_rttol_25\n",
      "experiment_N_8_rttol_30\n",
      "None\n",
      "None\n",
      "None\n",
      "None\n",
      "None\n",
      "None\n",
      "experiment_N_12_rttol_5\n",
      "experiment_N_12_rttol_10\n",
      "None\n",
      "experiment_N_12_rttol_20\n",
      "experiment_N_12_rttol_25\n",
      "experiment_N_12_rttol_30\n",
      "experiment_N_14_rttol_5\n",
      "experiment_N_14_rttol_10\n",
      "None\n",
      "experiment_N_14_rttol_20\n",
      "experiment_N_14_rttol_25\n",
      "experiment_N_14_rttol_30\n",
      "experiment_N_16_rttol_5\n",
      "experiment_N_16_rttol_10\n",
      "None\n",
      "experiment_N_16_rttol_20\n",
      "experiment_N_16_rttol_25\n",
      "experiment_N_16_rttol_30\n",
      "experiment_N_18_rttol_5\n",
      "experiment_N_18_rttol_10\n",
      "None\n",
      "experiment_N_18_rttol_20\n",
      "experiment_N_18_rttol_25\n",
      "experiment_N_18_rttol_30\n",
      "experiment_N_20_rttol_5\n",
      "experiment_N_20_rttol_10\n",
      "None\n",
      "experiment_N_20_rttol_20\n",
      "experiment_N_20_rttol_25\n",
      "experiment_N_20_rttol_30\n",
      "experiment_N_22_rttol_5\n",
      "experiment_N_22_rttol_10\n",
      "None\n",
      "experiment_N_22_rttol_20\n",
      "experiment_N_22_rttol_25\n",
      "experiment_N_22_rttol_30\n",
      "experiment_N_24_rttol_5\n",
      "experiment_N_24_rttol_10\n",
      "None\n",
      "experiment_N_24_rttol_20\n",
      "experiment_N_24_rttol_25\n",
      "experiment_N_24_rttol_30\n",
      "experiment_N_26_rttol_5\n",
      "experiment_N_26_rttol_10\n",
      "None\n",
      "experiment_N_26_rttol_20\n",
      "experiment_N_26_rttol_25\n",
      "experiment_N_26_rttol_30\n",
      "experiment_N_28_rttol_5\n",
      "experiment_N_28_rttol_10\n",
      "None\n",
      "experiment_N_28_rttol_20\n",
      "experiment_N_28_rttol_25\n",
      "experiment_N_28_rttol_30\n",
      "experiment_N_30_rttol_5\n",
      "experiment_N_30_rttol_10\n",
      "None\n",
      "experiment_N_30_rttol_20\n",
      "experiment_N_30_rttol_25\n",
      "experiment_N_30_rttol_30\n",
      "experiment_N_32_rttol_5\n",
      "experiment_N_32_rttol_10\n",
      "None\n",
      "experiment_N_32_rttol_20\n",
      "experiment_N_32_rttol_25\n",
      "experiment_N_32_rttol_30\n",
      "experiment_N_34_rttol_5\n",
      "experiment_N_34_rttol_10\n",
      "None\n",
      "experiment_N_34_rttol_20\n",
      "experiment_N_34_rttol_25\n",
      "experiment_N_34_rttol_30\n",
      "experiment_N_36_rttol_5\n",
      "experiment_N_36_rttol_10\n",
      "None\n",
      "experiment_N_36_rttol_20\n",
      "experiment_N_36_rttol_25\n",
      "experiment_N_36_rttol_30\n",
      "experiment_N_38_rttol_5\n",
      "experiment_N_38_rttol_10\n",
      "None\n",
      "experiment_N_38_rttol_20\n",
      "experiment_N_38_rttol_25\n",
      "experiment_N_38_rttol_30\n",
      "experiment_N_40_rttol_5\n",
      "experiment_N_40_rttol_10\n",
      "None\n",
      "experiment_N_40_rttol_20\n",
      "experiment_N_40_rttol_25\n",
      "experiment_N_40_rttol_30\n",
      "experiment_N_42_rttol_5\n",
      "experiment_N_42_rttol_10\n",
      "None\n",
      "experiment_N_42_rttol_20\n",
      "experiment_N_42_rttol_25\n",
      "experiment_N_42_rttol_30\n",
      "experiment_N_44_rttol_5\n",
      "experiment_N_44_rttol_10\n",
      "None\n",
      "experiment_N_44_rttol_20\n",
      "experiment_N_44_rttol_25\n",
      "experiment_N_44_rttol_30\n",
      "experiment_N_46_rttol_5\n",
      "experiment_N_46_rttol_10\n",
      "None\n",
      "experiment_N_46_rttol_20\n",
      "experiment_N_46_rttol_25\n",
      "experiment_N_46_rttol_30\n",
      "experiment_N_48_rttol_5\n",
      "experiment_N_48_rttol_10\n",
      "None\n",
      "experiment_N_48_rttol_20\n",
      "experiment_N_48_rttol_25\n",
      "experiment_N_48_rttol_30\n",
      "experiment_N_50_rttol_5\n",
      "experiment_N_50_rttol_10\n",
      "None\n",
      "experiment_N_50_rttol_20\n",
      "experiment_N_50_rttol_25\n",
      "experiment_N_50_rttol_30\n"
     ]
    }
   ],
   "source": [
    "set_log_level_warning()\n",
    "pbar = False\n",
    "params = get_params(Ns, rt_tols, isolation_window, ionisation_mode, data, density, \n",
    "                    min_ms1_intensity, min_rt, max_rt, base_dir, pbar)\n",
    "run_parallel_experiment(params)"
   ]
  }
 ],
 "metadata": {
  "kernelspec": {
   "display_name": "Python 3",
   "language": "python",
   "name": "python3"
  },
  "language_info": {
   "codemirror_mode": {
    "name": "ipython",
    "version": 3
   },
   "file_extension": ".py",
   "mimetype": "text/x-python",
   "name": "python",
   "nbconvert_exporter": "python",
   "pygments_lexer": "ipython3",
   "version": "3.6.6"
  }
 },
 "nbformat": 4,
 "nbformat_minor": 2
}
