{
 "cells": [
  {
   "cell_type": "markdown",
   "metadata": {},
   "source": [
    "# Experiment: Varying N in top-N DDA fragmentation"
   ]
  },
  {
   "cell_type": "markdown",
   "metadata": {},
   "source": [
    "We demonstrate that the simulator can be used for scan-level closed-loop DDA experiments. \n",
    "- Take an existing data. Find out which MS1 peaks are linked to which MS2 peaks.\n",
    "- Run all MS1 peaks through the simulator’s Top-N protocol. \n",
    "- For the top-100 most intense MS1 peaks, how many got fragmented in the simulator as we change N?\n",
    "- If N is greater than the real data, do we see the same MS1 peaks from (1) being fragmented again, plus additional fragment peaks?\n",
    "- Verification on actual machine.\n",
    "- Talk to stefan about machine time."
   ]
  },
  {
   "cell_type": "code",
   "execution_count": 1,
   "metadata": {},
   "outputs": [],
   "source": [
    "%matplotlib inline"
   ]
  },
  {
   "cell_type": "code",
   "execution_count": 2,
   "metadata": {},
   "outputs": [],
   "source": [
    "%load_ext autoreload\n",
    "%autoreload 2"
   ]
  },
  {
   "cell_type": "code",
   "execution_count": 3,
   "metadata": {},
   "outputs": [],
   "source": [
    "import numpy as np\n",
    "import pandas as pd\n",
    "import sys\n",
    "import os\n",
    "import scipy.stats\n",
    "import pylab as plt\n",
    "from IPython import display\n",
    "import pylab as plt\n",
    "from random import random, shuffle\n",
    "from joblib import Parallel, delayed\n",
    "import multiprocessing"
   ]
  },
  {
   "cell_type": "code",
   "execution_count": 4,
   "metadata": {},
   "outputs": [],
   "source": [
    "sys.path.append('../codes')"
   ]
  },
  {
   "cell_type": "code",
   "execution_count": 5,
   "metadata": {},
   "outputs": [],
   "source": [
    "from VMSfunctions.Chemicals import *\n",
    "from VMSfunctions.Chromatograms import *\n",
    "from VMSfunctions.MassSpec import *\n",
    "from VMSfunctions.Controller import *\n",
    "from VMSfunctions.Common import *\n",
    "from VMSfunctions.DataGenerator import *\n",
    "from VMSfunctions.Noise import *"
   ]
  },
  {
   "cell_type": "code",
   "execution_count": 6,
   "metadata": {},
   "outputs": [],
   "source": [
    "set_log_level_debug()"
   ]
  },
  {
   "cell_type": "markdown",
   "metadata": {},
   "source": [
    "### Load densities trained on beer1pos data (see [loader_kde](loader_kde.ipynb))."
   ]
  },
  {
   "cell_type": "code",
   "execution_count": 7,
   "metadata": {},
   "outputs": [],
   "source": [
    "base_dir = 'C:\\\\Users\\\\joewa\\\\University of Glasgow\\\\Vinny Davies - CLDS Metabolomics Project\\\\'"
   ]
  },
  {
   "cell_type": "code",
   "execution_count": 8,
   "metadata": {},
   "outputs": [],
   "source": [
    "ps = load_obj(base_dir + 'Trained Models\\\\peak_sampler_beer1pos.p')"
   ]
  },
  {
   "cell_type": "markdown",
   "metadata": {},
   "source": [
    "### Load chromatogram data exported from the real data (BEER1POS)"
   ]
  },
  {
   "cell_type": "markdown",
   "metadata": {},
   "source": [
    "Correct the positively charged ions by substracting the mass of a proton"
   ]
  },
  {
   "cell_type": "code",
   "execution_count": 9,
   "metadata": {},
   "outputs": [],
   "source": [
    "def f(peak_mz, chrom_mzs):\n",
    "    peak_mz = peak_mz - PROTON_MASS\n",
    "    chrom_mzs = chrom_mzs - PROTON_MASS\n",
    "    return peak_mz, chrom_mzs"
   ]
  },
  {
   "cell_type": "code",
   "execution_count": 10,
   "metadata": {},
   "outputs": [
    {
     "name": "stderr",
     "output_type": "stream",
     "text": [
      "DEBUG:ChromatogramCreator:Loading 0 chromatograms\n",
      "DEBUG:ChromatogramCreator:Invalid chromatogram 238\n",
      "DEBUG:ChromatogramCreator:Invalid chromatogram 254\n",
      "DEBUG:ChromatogramCreator:Invalid chromatogram 457\n",
      "DEBUG:ChromatogramCreator:Invalid chromatogram 516\n",
      "DEBUG:ChromatogramCreator:Invalid chromatogram 2132\n",
      "DEBUG:ChromatogramCreator:Invalid chromatogram 2754\n",
      "DEBUG:ChromatogramCreator:Invalid chromatogram 2797\n",
      "DEBUG:ChromatogramCreator:Invalid chromatogram 3143\n",
      "DEBUG:ChromatogramCreator:Invalid chromatogram 3459\n",
      "DEBUG:ChromatogramCreator:Invalid chromatogram 3984\n",
      "DEBUG:ChromatogramCreator:Invalid chromatogram 4081\n",
      "DEBUG:ChromatogramCreator:Invalid chromatogram 4167\n",
      "DEBUG:ChromatogramCreator:Invalid chromatogram 4218\n",
      "DEBUG:ChromatogramCreator:Invalid chromatogram 4433\n",
      "DEBUG:ChromatogramCreator:Invalid chromatogram 4575\n",
      "DEBUG:ChromatogramCreator:Loading 5000 chromatograms\n",
      "DEBUG:ChromatogramCreator:Invalid chromatogram 5150\n",
      "DEBUG:ChromatogramCreator:Invalid chromatogram 5512\n",
      "DEBUG:ChromatogramCreator:Invalid chromatogram 5814\n",
      "DEBUG:ChromatogramCreator:Invalid chromatogram 5975\n",
      "DEBUG:ChromatogramCreator:Invalid chromatogram 6127\n",
      "DEBUG:ChromatogramCreator:Invalid chromatogram 6831\n",
      "DEBUG:ChromatogramCreator:Invalid chromatogram 6996\n",
      "DEBUG:ChromatogramCreator:Invalid chromatogram 7019\n",
      "DEBUG:ChromatogramCreator:Invalid chromatogram 7072\n",
      "DEBUG:ChromatogramCreator:Invalid chromatogram 7304\n",
      "DEBUG:ChromatogramCreator:Invalid chromatogram 7387\n",
      "DEBUG:ChromatogramCreator:Invalid chromatogram 7728\n",
      "DEBUG:ChromatogramCreator:Invalid chromatogram 7816\n",
      "DEBUG:ChromatogramCreator:Invalid chromatogram 8104\n",
      "DEBUG:ChromatogramCreator:Invalid chromatogram 8350\n",
      "DEBUG:ChromatogramCreator:Invalid chromatogram 8367\n",
      "DEBUG:ChromatogramCreator:Invalid chromatogram 8587\n",
      "DEBUG:ChromatogramCreator:Invalid chromatogram 8677\n",
      "DEBUG:ChromatogramCreator:Invalid chromatogram 8731\n",
      "DEBUG:ChromatogramCreator:Invalid chromatogram 8755\n",
      "DEBUG:ChromatogramCreator:Invalid chromatogram 8935\n",
      "DEBUG:ChromatogramCreator:Invalid chromatogram 8956\n",
      "DEBUG:ChromatogramCreator:Invalid chromatogram 9125\n",
      "DEBUG:ChromatogramCreator:Invalid chromatogram 9196\n",
      "DEBUG:ChromatogramCreator:Invalid chromatogram 9284\n",
      "DEBUG:ChromatogramCreator:Invalid chromatogram 9396\n",
      "DEBUG:ChromatogramCreator:Invalid chromatogram 9422\n",
      "DEBUG:ChromatogramCreator:Invalid chromatogram 9469\n",
      "DEBUG:ChromatogramCreator:Invalid chromatogram 9512\n",
      "DEBUG:ChromatogramCreator:Invalid chromatogram 9634\n",
      "DEBUG:ChromatogramCreator:Invalid chromatogram 9781\n",
      "DEBUG:ChromatogramCreator:Invalid chromatogram 9994\n",
      "DEBUG:ChromatogramCreator:Loading 10000 chromatograms\n",
      "DEBUG:ChromatogramCreator:Invalid chromatogram 10029\n",
      "DEBUG:ChromatogramCreator:Invalid chromatogram 10213\n"
     ]
    }
   ],
   "source": [
    "xcms_output = base_dir + 'Trained Models\\\\chromatogram_beer1pos.csv.gz'\n",
    "cc = ChromatogramCreator(xcms_output, correction_func=f)"
   ]
  },
  {
   "cell_type": "markdown",
   "metadata": {},
   "source": [
    "#### Turn the loaded data into `UnknownChemical` objects."
   ]
  },
  {
   "cell_type": "code",
   "execution_count": 11,
   "metadata": {
    "scrolled": true
   },
   "outputs": [
    {
     "name": "stderr",
     "output_type": "stream",
     "text": [
      "DEBUG:ChemicalCreator:10272 ms1 peaks to be created.\n",
      "DEBUG:ChemicalCreator:i = 0\n",
      "DEBUG:ChemicalCreator:i = 2500\n",
      "DEBUG:ChemicalCreator:i = 5000\n",
      "DEBUG:ChemicalCreator:i = 7500\n",
      "DEBUG:ChemicalCreator:i = 10000\n"
     ]
    }
   ],
   "source": [
    "min_ms1_intensity = 0\n",
    "min_rt = 3*60\n",
    "max_rt = 21*60\n",
    "chemicals = ChemicalCreator(ps)\n",
    "dataset = chemicals.sample_from_chromatograms(cc, min_rt, max_rt, min_ms1_intensity, ms_levels=2)"
   ]
  },
  {
   "cell_type": "code",
   "execution_count": 12,
   "metadata": {},
   "outputs": [
    {
     "data": {
      "text/plain": [
       "9778"
      ]
     },
     "execution_count": 12,
     "metadata": {},
     "output_type": "execute_result"
    }
   ],
   "source": [
    "len(dataset)"
   ]
  },
  {
   "cell_type": "markdown",
   "metadata": {},
   "source": [
    "### Add noise"
   ]
  },
  {
   "cell_type": "markdown",
   "metadata": {},
   "source": [
    "#### Create region of interest objects"
   ]
  },
  {
   "cell_type": "code",
   "execution_count": 13,
   "metadata": {
    "scrolled": true
   },
   "outputs": [],
   "source": [
    "mzml_path = base_dir + 'Data\\\\multibeers_urine_data\\\\beers\\\\fullscan\\\\'\n",
    "xcms_roi_file = mzml_path + 'rois.csv'\n",
    "extracted_roi_file = base_dir + 'Trained Models\\\\beer1pos_rois.p'"
   ]
  },
  {
   "cell_type": "code",
   "execution_count": 14,
   "metadata": {},
   "outputs": [
    {
     "name": "stdout",
     "output_type": "stream",
     "text": [
      "C:\\Users\\joewa\\University of Glasgow\\Vinny Davies - CLDS Metabolomics Project\\Data\\multibeers_urine_data\\beers\\fullscan\\Beer_multibeers_10_fullscan1.mzML\n"
     ]
    },
    {
     "name": "stderr",
     "output_type": "stream",
     "text": [
      "INFO:DataSource:Loading Beer_multibeers_10_fullscan1.mzML\n"
     ]
    },
    {
     "name": "stdout",
     "output_type": "stream",
     "text": [
      "C:\\Users\\joewa\\University of Glasgow\\Vinny Davies - CLDS Metabolomics Project\\Data\\multibeers_urine_data\\beers\\fullscan\\Beer_multibeers_11_fullscan1.mzML\n"
     ]
    },
    {
     "name": "stderr",
     "output_type": "stream",
     "text": [
      "INFO:DataSource:Loading Beer_multibeers_11_fullscan1.mzML\n"
     ]
    },
    {
     "name": "stdout",
     "output_type": "stream",
     "text": [
      "C:\\Users\\joewa\\University of Glasgow\\Vinny Davies - CLDS Metabolomics Project\\Data\\multibeers_urine_data\\beers\\fullscan\\Beer_multibeers_12_fullscan1.mzML\n"
     ]
    },
    {
     "name": "stderr",
     "output_type": "stream",
     "text": [
      "INFO:DataSource:Loading Beer_multibeers_12_fullscan1.mzML\n"
     ]
    },
    {
     "name": "stdout",
     "output_type": "stream",
     "text": [
      "C:\\Users\\joewa\\University of Glasgow\\Vinny Davies - CLDS Metabolomics Project\\Data\\multibeers_urine_data\\beers\\fullscan\\Beer_multibeers_13_fullscan1.mzML\n"
     ]
    },
    {
     "name": "stderr",
     "output_type": "stream",
     "text": [
      "INFO:DataSource:Loading Beer_multibeers_13_fullscan1.mzML\n"
     ]
    },
    {
     "name": "stdout",
     "output_type": "stream",
     "text": [
      "C:\\Users\\joewa\\University of Glasgow\\Vinny Davies - CLDS Metabolomics Project\\Data\\multibeers_urine_data\\beers\\fullscan\\Beer_multibeers_14_fullscan1.mzML\n"
     ]
    },
    {
     "name": "stderr",
     "output_type": "stream",
     "text": [
      "INFO:DataSource:Loading Beer_multibeers_14_fullscan1.mzML\n"
     ]
    },
    {
     "name": "stdout",
     "output_type": "stream",
     "text": [
      "C:\\Users\\joewa\\University of Glasgow\\Vinny Davies - CLDS Metabolomics Project\\Data\\multibeers_urine_data\\beers\\fullscan\\Beer_multibeers_15_fullscan1.mzML\n"
     ]
    },
    {
     "name": "stderr",
     "output_type": "stream",
     "text": [
      "INFO:DataSource:Loading Beer_multibeers_15_fullscan1.mzML\n"
     ]
    },
    {
     "name": "stdout",
     "output_type": "stream",
     "text": [
      "C:\\Users\\joewa\\University of Glasgow\\Vinny Davies - CLDS Metabolomics Project\\Data\\multibeers_urine_data\\beers\\fullscan\\Beer_multibeers_16_fullscan1.mzML\n"
     ]
    },
    {
     "name": "stderr",
     "output_type": "stream",
     "text": [
      "INFO:DataSource:Loading Beer_multibeers_16_fullscan1.mzML\n"
     ]
    },
    {
     "name": "stdout",
     "output_type": "stream",
     "text": [
      "C:\\Users\\joewa\\University of Glasgow\\Vinny Davies - CLDS Metabolomics Project\\Data\\multibeers_urine_data\\beers\\fullscan\\Beer_multibeers_17_fullscan1.mzML\n"
     ]
    },
    {
     "name": "stderr",
     "output_type": "stream",
     "text": [
      "INFO:DataSource:Loading Beer_multibeers_17_fullscan1.mzML\n"
     ]
    },
    {
     "name": "stdout",
     "output_type": "stream",
     "text": [
      "C:\\Users\\joewa\\University of Glasgow\\Vinny Davies - CLDS Metabolomics Project\\Data\\multibeers_urine_data\\beers\\fullscan\\Beer_multibeers_18_fullscan1.mzML\n"
     ]
    },
    {
     "name": "stderr",
     "output_type": "stream",
     "text": [
      "INFO:DataSource:Loading Beer_multibeers_18_fullscan1.mzML\n"
     ]
    },
    {
     "name": "stdout",
     "output_type": "stream",
     "text": [
      "C:\\Users\\joewa\\University of Glasgow\\Vinny Davies - CLDS Metabolomics Project\\Data\\multibeers_urine_data\\beers\\fullscan\\Beer_multibeers_19_fullscan1.mzML\n"
     ]
    },
    {
     "name": "stderr",
     "output_type": "stream",
     "text": [
      "INFO:DataSource:Loading Beer_multibeers_19_fullscan1.mzML\n"
     ]
    },
    {
     "name": "stdout",
     "output_type": "stream",
     "text": [
      "C:\\Users\\joewa\\University of Glasgow\\Vinny Davies - CLDS Metabolomics Project\\Data\\multibeers_urine_data\\beers\\fullscan\\Beer_multibeers_1_fullscan1.mzML\n"
     ]
    },
    {
     "name": "stderr",
     "output_type": "stream",
     "text": [
      "INFO:DataSource:Loading Beer_multibeers_1_fullscan1.mzML\n"
     ]
    },
    {
     "name": "stdout",
     "output_type": "stream",
     "text": [
      "C:\\Users\\joewa\\University of Glasgow\\Vinny Davies - CLDS Metabolomics Project\\Data\\multibeers_urine_data\\beers\\fullscan\\Beer_multibeers_2_fullscan1.mzML\n"
     ]
    },
    {
     "name": "stderr",
     "output_type": "stream",
     "text": [
      "INFO:DataSource:Loading Beer_multibeers_2_fullscan1.mzML\n"
     ]
    },
    {
     "name": "stdout",
     "output_type": "stream",
     "text": [
      "C:\\Users\\joewa\\University of Glasgow\\Vinny Davies - CLDS Metabolomics Project\\Data\\multibeers_urine_data\\beers\\fullscan\\Beer_multibeers_3_fullscan1.mzML\n"
     ]
    },
    {
     "name": "stderr",
     "output_type": "stream",
     "text": [
      "INFO:DataSource:Loading Beer_multibeers_3_fullscan1.mzML\n"
     ]
    },
    {
     "name": "stdout",
     "output_type": "stream",
     "text": [
      "C:\\Users\\joewa\\University of Glasgow\\Vinny Davies - CLDS Metabolomics Project\\Data\\multibeers_urine_data\\beers\\fullscan\\Beer_multibeers_4_fullscan1.mzML\n"
     ]
    },
    {
     "name": "stderr",
     "output_type": "stream",
     "text": [
      "INFO:DataSource:Loading Beer_multibeers_4_fullscan1.mzML\n"
     ]
    },
    {
     "name": "stdout",
     "output_type": "stream",
     "text": [
      "C:\\Users\\joewa\\University of Glasgow\\Vinny Davies - CLDS Metabolomics Project\\Data\\multibeers_urine_data\\beers\\fullscan\\Beer_multibeers_5_fullscan1.mzML\n"
     ]
    },
    {
     "name": "stderr",
     "output_type": "stream",
     "text": [
      "INFO:DataSource:Loading Beer_multibeers_5_fullscan1.mzML\n"
     ]
    },
    {
     "name": "stdout",
     "output_type": "stream",
     "text": [
      "C:\\Users\\joewa\\University of Glasgow\\Vinny Davies - CLDS Metabolomics Project\\Data\\multibeers_urine_data\\beers\\fullscan\\Beer_multibeers_6_fullscan1.mzML\n"
     ]
    },
    {
     "name": "stderr",
     "output_type": "stream",
     "text": [
      "INFO:DataSource:Loading Beer_multibeers_6_fullscan1.mzML\n"
     ]
    },
    {
     "name": "stdout",
     "output_type": "stream",
     "text": [
      "C:\\Users\\joewa\\University of Glasgow\\Vinny Davies - CLDS Metabolomics Project\\Data\\multibeers_urine_data\\beers\\fullscan\\Beer_multibeers_7_fullscan1.mzML\n"
     ]
    },
    {
     "name": "stderr",
     "output_type": "stream",
     "text": [
      "INFO:DataSource:Loading Beer_multibeers_7_fullscan1.mzML\n"
     ]
    },
    {
     "name": "stdout",
     "output_type": "stream",
     "text": [
      "C:\\Users\\joewa\\University of Glasgow\\Vinny Davies - CLDS Metabolomics Project\\Data\\multibeers_urine_data\\beers\\fullscan\\Beer_multibeers_8_fullscan1.mzML\n"
     ]
    },
    {
     "name": "stderr",
     "output_type": "stream",
     "text": [
      "INFO:DataSource:Loading Beer_multibeers_8_fullscan1.mzML\n"
     ]
    },
    {
     "name": "stdout",
     "output_type": "stream",
     "text": [
      "C:\\Users\\joewa\\University of Glasgow\\Vinny Davies - CLDS Metabolomics Project\\Data\\multibeers_urine_data\\beers\\fullscan\\Beer_multibeers_9_fullscan1.mzML\n"
     ]
    },
    {
     "name": "stderr",
     "output_type": "stream",
     "text": [
      "INFO:DataSource:Loading Beer_multibeers_9_fullscan1.mzML\n"
     ]
    }
   ],
   "source": [
    "filename = 'Beer_multibeers_1_fullscan1.mzML'\n",
    "ds = DataSource()\n",
    "ds.load_data(mzml_path)\n",
    "try:\n",
    "    ds.load_roi(extracted_roi_file)\n",
    "except FileNotFoundError:\n",
    "    print('Extracting ROIs')\n",
    "    ds.extract_roi(xcms_roi_file, min_rt=min_rt, max_rt=max_rt, filename=filename)\n",
    "    ds.populate_roi(filename=filename)\n",
    "    ds.save_roi(extracted_roi_file)"
   ]
  },
  {
   "cell_type": "markdown",
   "metadata": {},
   "source": [
    "#### Add a whole bunch of `UnknownChemicals` with chromatograms coming from non-peak ROIs from Beer1Pos"
   ]
  },
  {
   "cell_type": "code",
   "execution_count": 15,
   "metadata": {},
   "outputs": [],
   "source": [
    "min_ms1_intensity = 2.5E5"
   ]
  },
  {
   "cell_type": "code",
   "execution_count": 16,
   "metadata": {},
   "outputs": [
    {
     "name": "stderr",
     "output_type": "stream",
     "text": [
      "DEBUG:RoiToChemicalCreator:     0/ 17569\n",
      "../codes\\VMSfunctions\\Common.py:59: RuntimeWarning: divide by zero encountered in double_scalars\n",
      "  area += ((intensities[rt_index] + intensities[rt_index + 1]) / 2) / (rts[rt_index + 1] - rts[rt_index])\n",
      "INFO:RoiToChemicalCreator:Found 1305 ROIs above thresholds\n"
     ]
    }
   ],
   "source": [
    "rtcc = RoiToChemicalCreator(ps, ds, filename,  min_ms1_intensity=min_ms1_intensity)"
   ]
  },
  {
   "cell_type": "code",
   "execution_count": 17,
   "metadata": {},
   "outputs": [
    {
     "data": {
      "text/plain": [
       "1305"
      ]
     },
     "execution_count": 17,
     "metadata": {},
     "output_type": "execute_result"
    }
   ],
   "source": [
    "len(rtcc.chemicals)"
   ]
  },
  {
   "cell_type": "code",
   "execution_count": 18,
   "metadata": {},
   "outputs": [],
   "source": [
    "def plot_chems(chem_list, N=10):\n",
    "    for c in chem_list[0:N]:\n",
    "        chrom = c.chromatogram\n",
    "        plt.plot(chrom.raw_rts, chrom.raw_intensities)\n",
    "        plt.show()"
   ]
  },
  {
   "cell_type": "code",
   "execution_count": 19,
   "metadata": {},
   "outputs": [],
   "source": [
    "sorted_chems = sorted(rtcc.chemicals, key = lambda chem: chem.chromatogram.roi.num_scans())"
   ]
  },
  {
   "cell_type": "code",
   "execution_count": 20,
   "metadata": {},
   "outputs": [
    {
     "data": {
      "image/png": "[encoded data removed]",
      "text/plain": [
       "<Figure size 432x288 with 1 Axes>"
      ]
     },
     "metadata": {
      "needs_background": "light"
     },
     "output_type": "display_data"
    },
    {
     "data": {
      "image/png": "[encoded data removed]",
      "text/plain": [
       "<Figure size 432x288 with 1 Axes>"
      ]
     },
     "metadata": {
      "needs_background": "light"
     },
     "output_type": "display_data"
    },
    {
     "data": {
      "image/png": "[encoded data removed]",
      "text/plain": [
       "<Figure size 432x288 with 1 Axes>"
      ]
     },
     "metadata": {
      "needs_background": "light"
     },
     "output_type": "display_data"
    },
    {
     "data": {
      "image/png": "[encoded data removed]",
      "text/plain": [
       "<Figure size 432x288 with 1 Axes>"
      ]
     },
     "metadata": {
      "needs_background": "light"
     },
     "output_type": "display_data"
    },
    {
     "data": {
      "image/png": "[encoded data removed]",
      "text/plain": [
       "<Figure size 432x288 with 1 Axes>"
      ]
     },
     "metadata": {
      "needs_background": "light"
     },
     "output_type": "display_data"
    },
    {
     "data": {
      "image/png": "[encoded data removed]",
      "text/plain": [
       "<Figure size 432x288 with 1 Axes>"
      ]
     },
     "metadata": {
      "needs_background": "light"
     },
     "output_type": "display_data"
    },
    {
     "data": {
      "image/png": "[encoded data removed]",
      "text/plain": [
       "<Figure size 432x288 with 1 Axes>"
      ]
     },
     "metadata": {
      "needs_background": "light"
     },
     "output_type": "display_data"
    },
    {
     "data": {
      "image/png": "[encoded data removed]",
      "text/plain": [
       "<Figure size 432x288 with 1 Axes>"
      ]
     },
     "metadata": {
      "needs_background": "light"
     },
     "output_type": "display_data"
    },
    {
     "data": {
      "image/png": "[encoded data removed]",
      "text/plain": [
       "<Figure size 432x288 with 1 Axes>"
      ]
     },
     "metadata": {
      "needs_background": "light"
     },
     "output_type": "display_data"
    },
    {
     "data": {
      "image/png": "[encoded data removed]",
      "text/plain": [
       "<Figure size 432x288 with 1 Axes>"
      ]
     },
     "metadata": {
      "needs_background": "light"
     },
     "output_type": "display_data"
    }
   ],
   "source": [
    "plot_chems(sorted_chems[0:10])"
   ]
  },
  {
   "cell_type": "code",
   "execution_count": 21,
   "metadata": {},
   "outputs": [
    {
     "data": {
      "image/png": "[encoded data removed]",
      "text/plain": [
       "<Figure size 432x288 with 1 Axes>"
      ]
     },
     "metadata": {
      "needs_background": "light"
     },
     "output_type": "display_data"
    },
    {
     "data": {
      "image/png": "[encoded data removed]",
      "text/plain": [
       "<Figure size 432x288 with 1 Axes>"
      ]
     },
     "metadata": {
      "needs_background": "light"
     },
     "output_type": "display_data"
    },
    {
     "data": {
      "image/png": "[encoded data removed]",
      "text/plain": [
       "<Figure size 432x288 with 1 Axes>"
      ]
     },
     "metadata": {
      "needs_background": "light"
     },
     "output_type": "display_data"
    },
    {
     "data": {
      "image/png": "[encoded data removed]",
      "text/plain": [
       "<Figure size 432x288 with 1 Axes>"
      ]
     },
     "metadata": {
      "needs_background": "light"
     },
     "output_type": "display_data"
    },
    {
     "data": {
      "image/png": "[encoded data removed]",
      "text/plain": [
       "<Figure size 432x288 with 1 Axes>"
      ]
     },
     "metadata": {
      "needs_background": "light"
     },
     "output_type": "display_data"
    },
    {
     "data": {
      "image/png": "[encoded data removed]",
      "text/plain": [
       "<Figure size 432x288 with 1 Axes>"
      ]
     },
     "metadata": {
      "needs_background": "light"
     },
     "output_type": "display_data"
    },
    {
     "data": {
      "image/png": "[encoded data removed]",
      "text/plain": [
       "<Figure size 432x288 with 1 Axes>"
      ]
     },
     "metadata": {
      "needs_background": "light"
     },
     "output_type": "display_data"
    },
    {
     "data": {
      "image/png": "[encoded data removed]",
      "text/plain": [
       "<Figure size 432x288 with 1 Axes>"
      ]
     },
     "metadata": {
      "needs_background": "light"
     },
     "output_type": "display_data"
    },
    {
     "data": {
      "image/png": "[encoded data removed]",
      "text/plain": [
       "<Figure size 432x288 with 1 Axes>"
      ]
     },
     "metadata": {
      "needs_background": "light"
     },
     "output_type": "display_data"
    },
    {
     "data": {
      "image/png": "[encoded data removed]",
      "text/plain": [
       "<Figure size 432x288 with 1 Axes>"
      ]
     },
     "metadata": {
      "needs_background": "light"
     },
     "output_type": "display_data"
    }
   ],
   "source": [
    "plot_chems(sorted_chems[-10:])"
   ]
  },
  {
   "cell_type": "markdown",
   "metadata": {},
   "source": [
    "#### Add non-peaks regions of interest to the data"
   ]
  },
  {
   "cell_type": "code",
   "execution_count": 22,
   "metadata": {},
   "outputs": [],
   "source": [
    "for chem in dataset:\n",
    "    chem.type = 'data'\n",
    "for noise in sorted_chems:\n",
    "    noise.type = 'noise'"
   ]
  },
  {
   "cell_type": "code",
   "execution_count": 23,
   "metadata": {},
   "outputs": [],
   "source": [
    "noisy_dataset = dataset + sorted_chems"
   ]
  },
  {
   "cell_type": "code",
   "execution_count": 24,
   "metadata": {},
   "outputs": [],
   "source": [
    "# shuffle(noisy_dataset)"
   ]
  },
  {
   "cell_type": "code",
   "execution_count": 25,
   "metadata": {},
   "outputs": [
    {
     "data": {
      "text/plain": [
       "9778"
      ]
     },
     "execution_count": 25,
     "metadata": {},
     "output_type": "execute_result"
    }
   ],
   "source": [
    "len(dataset)"
   ]
  },
  {
   "cell_type": "code",
   "execution_count": 26,
   "metadata": {},
   "outputs": [
    {
     "data": {
      "text/plain": [
       "11083"
      ]
     },
     "execution_count": 26,
     "metadata": {},
     "output_type": "execute_result"
    }
   ],
   "source": [
    "len(noisy_dataset)"
   ]
  },
  {
   "cell_type": "code",
   "execution_count": 27,
   "metadata": {},
   "outputs": [],
   "source": [
    "save_obj(dataset, '../models/dda_results/dataset.p')"
   ]
  },
  {
   "cell_type": "code",
   "execution_count": 28,
   "metadata": {},
   "outputs": [],
   "source": [
    "save_obj(noisy_dataset, '../models/dda_results/noisy_dataset.p')"
   ]
  },
  {
   "cell_type": "markdown",
   "metadata": {},
   "source": [
    "### Experiment by varying N and rt_tol"
   ]
  },
  {
   "cell_type": "markdown",
   "metadata": {},
   "source": [
    "Don't print so much from the controller when running"
   ]
  },
  {
   "cell_type": "code",
   "execution_count": 29,
   "metadata": {},
   "outputs": [],
   "source": [
    "set_log_level_warning()\n",
    "# set_log_level_info()\n",
    "# set_log_level_debug()"
   ]
  },
  {
   "cell_type": "markdown",
   "metadata": {},
   "source": [
    "#### Set parameters"
   ]
  },
  {
   "cell_type": "markdown",
   "metadata": {},
   "source": [
    "Varying parameters"
   ]
  },
  {
   "cell_type": "code",
   "execution_count": 30,
   "metadata": {},
   "outputs": [],
   "source": [
    "Ns = list(range(2, 51, 2)) # top-N DDA fragmentation\n",
    "rt_tols = list(range(5, 31, 5)) # the rt window around a selected precursor ion to prevent it from fragmented multiple times"
   ]
  },
  {
   "cell_type": "code",
   "execution_count": 31,
   "metadata": {},
   "outputs": [
    {
     "name": "stdout",
     "output_type": "stream",
     "text": [
      "[2, 4, 6, 8, 10, 12, 14, 16, 18, 20, 22, 24, 26, 28, 30, 32, 34, 36, 38, 40, 42, 44, 46, 48, 50]\n",
      "[5, 10, 15, 20, 25, 30]\n"
     ]
    }
   ],
   "source": [
    "print(Ns)\n",
    "print(rt_tols)"
   ]
  },
  {
   "cell_type": "markdown",
   "metadata": {},
   "source": [
    "Fixed parameters"
   ]
  },
  {
   "cell_type": "code",
   "execution_count": 32,
   "metadata": {},
   "outputs": [],
   "source": [
    "isolation_window = 0.5   # the isolation window in Dalton around a selected precursor ion\n",
    "ionisation_mode = POSITIVE\n",
    "data = noisy_dataset\n",
    "density = ps.density_estimator\n",
    "min_ms1_intensity = 2.5E5 # minimum ms1 intensity to fragment"
   ]
  },
  {
   "cell_type": "code",
   "execution_count": 33,
   "metadata": {},
   "outputs": [],
   "source": [
    "params = []\n",
    "for N in Ns:\n",
    "    for rt_tol in rt_tols:\n",
    "        params.append({\n",
    "            'N': N, \n",
    "            'rt_tol': rt_tol,\n",
    "            'min_ms1_intensity': min_ms1_intensity,\n",
    "            'isolation_window': isolation_window,\n",
    "            'ionisation_mode': ionisation_mode,\n",
    "            'data': data,\n",
    "            'density': density,\n",
    "            'min_rt': min_rt,\n",
    "            'max_rt': max_rt\n",
    "        })"
   ]
  },
  {
   "cell_type": "code",
   "execution_count": 34,
   "metadata": {},
   "outputs": [
    {
     "data": {
      "text/plain": [
       "150"
      ]
     },
     "execution_count": 34,
     "metadata": {},
     "output_type": "execute_result"
    }
   ],
   "source": [
    "len(params)"
   ]
  },
  {
   "cell_type": "markdown",
   "metadata": {},
   "source": [
    "#### Run serially"
   ]
  },
  {
   "cell_type": "code",
   "execution_count": 35,
   "metadata": {},
   "outputs": [],
   "source": [
    "def run_serial_experiment(param, i, total):\n",
    "    analysis_name = 'experiment_N_%d_rttol_%d' % (param['N'], param['rt_tol'])    \n",
    "    mzml_out = '../models/dda_results/%s.mzML' % analysis_name    \n",
    "    pickle_out = '../models/dda_results/%s.p' % analysis_name\n",
    "\n",
    "    if os.path.isfile(mzml_out) and os.path.isfile(pickle_out): \n",
    "        print('Skipping\\t%d/%d\\t%s' % (i, total, analysis_name))\n",
    "    else:    \n",
    "        print('Processing\\t%d/%d\\t%s' % (i, total, analysis_name))\n",
    "        mass_spec = IndependentMassSpectrometer(param['ionisation_mode'], param['data'], density=param['density'])\n",
    "        controller = TopNController(mass_spec, param['N'], param['isolation_window'], param['rt_tol'], \n",
    "                                    param['min_ms1_intensity'])\n",
    "        controller.run(param['min_rt'], param['max_rt'], progress_bar=True)\n",
    "        controller.write_mzML(analysis_name, mzml_out)    \n",
    "        save_obj(controller, pickle_out)"
   ]
  },
  {
   "cell_type": "code",
   "execution_count": 36,
   "metadata": {
    "scrolled": false
   },
   "outputs": [
    {
     "name": "stdout",
     "output_type": "stream",
     "text": [
      "Skipping\t1/150\texperiment_N_2_rttol_5\n",
      "Skipping\t2/150\texperiment_N_2_rttol_10\n",
      "Skipping\t3/150\texperiment_N_2_rttol_15\n",
      "Skipping\t4/150\texperiment_N_2_rttol_20\n",
      "Skipping\t5/150\texperiment_N_2_rttol_25\n",
      "Skipping\t6/150\texperiment_N_2_rttol_30\n",
      "Skipping\t7/150\texperiment_N_4_rttol_5\n",
      "Skipping\t8/150\texperiment_N_4_rttol_10\n",
      "Skipping\t9/150\texperiment_N_4_rttol_15\n",
      "Skipping\t10/150\texperiment_N_4_rttol_20\n",
      "Skipping\t11/150\texperiment_N_4_rttol_25\n",
      "Skipping\t12/150\texperiment_N_4_rttol_30\n",
      "Skipping\t13/150\texperiment_N_6_rttol_5\n",
      "Skipping\t14/150\texperiment_N_6_rttol_10\n",
      "Skipping\t15/150\texperiment_N_6_rttol_15\n",
      "Skipping\t16/150\texperiment_N_6_rttol_20\n",
      "Skipping\t17/150\texperiment_N_6_rttol_25\n",
      "Skipping\t18/150\texperiment_N_6_rttol_30\n",
      "Processing\t19/150\texperiment_N_8_rttol_5\n"
     ]
    },
    {
     "name": "stderr",
     "output_type": "stream",
     "text": [
      "1080.0538845192798it [04:30,  4.00it/s]                                                                                                                                 \n"
     ]
    },
    {
     "name": "stdout",
     "output_type": "stream",
     "text": [
      "Processing\t20/150\texperiment_N_8_rttol_10\n"
     ]
    },
    {
     "name": "stderr",
     "output_type": "stream",
     "text": [
      "1080.0457384718618it [04:09,  4.97it/s]                                                                                             \n"
     ]
    },
    {
     "name": "stdout",
     "output_type": "stream",
     "text": [
      "Processing\t21/150\texperiment_N_8_rttol_15\n"
     ]
    },
    {
     "name": "stderr",
     "output_type": "stream",
     "text": [
      "1080.055376704606it [04:07,  4.36it/s]                                                                                              \n"
     ]
    },
    {
     "name": "stdout",
     "output_type": "stream",
     "text": [
      "Processing\t22/150\texperiment_N_8_rttol_20\n"
     ]
    },
    {
     "name": "stderr",
     "output_type": "stream",
     "text": [
      "1080.231755093932it [04:05,  5.75it/s]                                                                                              \n"
     ]
    },
    {
     "name": "stdout",
     "output_type": "stream",
     "text": [
      "Processing\t23/150\texperiment_N_8_rttol_25\n"
     ]
    },
    {
     "name": "stderr",
     "output_type": "stream",
     "text": [
      "1080.0498890030883it [03:46,  4.77it/s]                                                                                             \n"
     ]
    },
    {
     "name": "stdout",
     "output_type": "stream",
     "text": [
      "Processing\t24/150\texperiment_N_8_rttol_30\n"
     ]
    },
    {
     "name": "stderr",
     "output_type": "stream",
     "text": [
      "1080.049568168964it [04:06,  4.38it/s]                                                                                              \n"
     ]
    },
    {
     "name": "stdout",
     "output_type": "stream",
     "text": [
      "Processing\t25/150\texperiment_N_10_rttol_5\n"
     ]
    },
    {
     "name": "stderr",
     "output_type": "stream",
     "text": [
      "1080.0318371971848it [04:05,  4.40it/s]                                                                                             \n"
     ]
    },
    {
     "name": "stdout",
     "output_type": "stream",
     "text": [
      "Processing\t26/150\texperiment_N_10_rttol_10\n"
     ]
    },
    {
     "name": "stderr",
     "output_type": "stream",
     "text": [
      "1080.048560936883it [04:18,  4.18it/s]                                                                                              \n"
     ]
    },
    {
     "name": "stdout",
     "output_type": "stream",
     "text": [
      "Processing\t27/150\texperiment_N_10_rttol_15\n"
     ]
    },
    {
     "name": "stderr",
     "output_type": "stream",
     "text": [
      "1080.1084987780464it [04:35,  4.62it/s]                                                                                             \n"
     ]
    },
    {
     "name": "stdout",
     "output_type": "stream",
     "text": [
      "Processing\t28/150\texperiment_N_10_rttol_20\n"
     ]
    },
    {
     "name": "stderr",
     "output_type": "stream",
     "text": [
      "1080.0023080724322it [04:08,  5.35it/s]                                                                                             \n"
     ]
    },
    {
     "name": "stdout",
     "output_type": "stream",
     "text": [
      "Processing\t29/150\texperiment_N_10_rttol_25\n"
     ]
    },
    {
     "name": "stderr",
     "output_type": "stream",
     "text": [
      "1080.1938116867627it [04:14,  4.24it/s]                                                                                             \n"
     ]
    },
    {
     "name": "stdout",
     "output_type": "stream",
     "text": [
      "Processing\t30/150\texperiment_N_10_rttol_30\n"
     ]
    },
    {
     "name": "stderr",
     "output_type": "stream",
     "text": [
      "1080.0920368673496it [04:10,  4.31it/s]                                                                                             \n"
     ]
    },
    {
     "name": "stdout",
     "output_type": "stream",
     "text": [
      "Processing\t31/150\texperiment_N_12_rttol_5\n"
     ]
    },
    {
     "name": "stderr",
     "output_type": "stream",
     "text": [
      "1080.03367115255it [03:42,  6.34it/s]                                                                                               \n"
     ]
    },
    {
     "name": "stdout",
     "output_type": "stream",
     "text": [
      "Processing\t32/150\texperiment_N_12_rttol_10\n"
     ]
    },
    {
     "name": "stderr",
     "output_type": "stream",
     "text": [
      "1080.0163203101083it [03:41,  5.40it/s]                                                                                             \n"
     ]
    },
    {
     "name": "stdout",
     "output_type": "stream",
     "text": [
      "Processing\t33/150\texperiment_N_12_rttol_15\n"
     ]
    },
    {
     "name": "stderr",
     "output_type": "stream",
     "text": [
      "1080.1065984940863it [03:58,  4.53it/s]                                                                                             \n"
     ]
    },
    {
     "name": "stdout",
     "output_type": "stream",
     "text": [
      "Processing\t34/150\texperiment_N_12_rttol_20\n"
     ]
    },
    {
     "name": "stderr",
     "output_type": "stream",
     "text": [
      "1080.0466325719426it [03:52,  4.64it/s]                                                                                             \n"
     ]
    },
    {
     "name": "stdout",
     "output_type": "stream",
     "text": [
      "Processing\t35/150\texperiment_N_12_rttol_25\n"
     ]
    },
    {
     "name": "stderr",
     "output_type": "stream",
     "text": [
      "1080.1009622396418it [04:07,  4.37it/s]                                                                                             \n"
     ]
    },
    {
     "name": "stdout",
     "output_type": "stream",
     "text": [
      "Processing\t36/150\texperiment_N_12_rttol_30\n"
     ]
    },
    {
     "name": "stderr",
     "output_type": "stream",
     "text": [
      "1080.0765210256743it [04:04,  4.42it/s]                                                                                             \n"
     ]
    },
    {
     "name": "stdout",
     "output_type": "stream",
     "text": [
      "Processing\t37/150\texperiment_N_14_rttol_5\n"
     ]
    },
    {
     "name": "stderr",
     "output_type": "stream",
     "text": [
      "1080.007908493696it [03:37,  4.98it/s]                                                                                              \n"
     ]
    },
    {
     "name": "stdout",
     "output_type": "stream",
     "text": [
      "Processing\t38/150\texperiment_N_14_rttol_10\n"
     ]
    },
    {
     "name": "stderr",
     "output_type": "stream",
     "text": [
      "1080.111097537288it [03:51,  6.49it/s]                                                                                              \n"
     ]
    },
    {
     "name": "stdout",
     "output_type": "stream",
     "text": [
      "Processing\t39/150\texperiment_N_14_rttol_15\n"
     ]
    },
    {
     "name": "stderr",
     "output_type": "stream",
     "text": [
      "1080.0672430329848it [03:50,  4.68it/s]                                                                                             \n"
     ]
    },
    {
     "name": "stdout",
     "output_type": "stream",
     "text": [
      "Processing\t40/150\texperiment_N_14_rttol_20\n"
     ]
    },
    {
     "name": "stderr",
     "output_type": "stream",
     "text": [
      "1080.0523492488853it [03:44,  4.80it/s]                                                                                             \n"
     ]
    },
    {
     "name": "stdout",
     "output_type": "stream",
     "text": [
      "Processing\t41/150\texperiment_N_14_rttol_25\n"
     ]
    },
    {
     "name": "stderr",
     "output_type": "stream",
     "text": [
      "1080.0213101962763it [03:44,  4.82it/s]                                                                                             \n"
     ]
    },
    {
     "name": "stdout",
     "output_type": "stream",
     "text": [
      "Processing\t42/150\texperiment_N_14_rttol_30\n"
     ]
    },
    {
     "name": "stderr",
     "output_type": "stream",
     "text": [
      "1080.0859798062847it [03:36,  5.20it/s]                                                                                             \n"
     ]
    },
    {
     "name": "stdout",
     "output_type": "stream",
     "text": [
      "Processing\t43/150\texperiment_N_16_rttol_5\n"
     ]
    },
    {
     "name": "stderr",
     "output_type": "stream",
     "text": [
      "1080.051211549445it [03:13,  5.59it/s]                                                                                              \n"
     ]
    },
    {
     "name": "stdout",
     "output_type": "stream",
     "text": [
      "Processing\t44/150\texperiment_N_16_rttol_10\n"
     ]
    },
    {
     "name": "stderr",
     "output_type": "stream",
     "text": [
      "1080.123496302499it [03:31,  5.10it/s]                                                                                              \n"
     ]
    },
    {
     "name": "stdout",
     "output_type": "stream",
     "text": [
      "Processing\t45/150\texperiment_N_16_rttol_15\n"
     ]
    },
    {
     "name": "stderr",
     "output_type": "stream",
     "text": [
      "1080.048399595831it [03:37,  4.96it/s]                                                                                              \n"
     ]
    },
    {
     "name": "stdout",
     "output_type": "stream",
     "text": [
      "Processing\t46/150\texperiment_N_16_rttol_20\n"
     ]
    },
    {
     "name": "stderr",
     "output_type": "stream",
     "text": [
      "1080.0473771940788it [03:39,  4.91it/s]                                                                                             \n"
     ]
    },
    {
     "name": "stdout",
     "output_type": "stream",
     "text": [
      "Processing\t47/150\texperiment_N_16_rttol_25\n"
     ]
    },
    {
     "name": "stderr",
     "output_type": "stream",
     "text": [
      "1080.0381439413231it [03:40,  4.89it/s]                                                                                             \n"
     ]
    },
    {
     "name": "stdout",
     "output_type": "stream",
     "text": [
      "Processing\t48/150\texperiment_N_16_rttol_30\n"
     ]
    },
    {
     "name": "stderr",
     "output_type": "stream",
     "text": [
      "1080.1544953757043it [03:41,  4.89it/s]                                                                                             \n"
     ]
    },
    {
     "name": "stdout",
     "output_type": "stream",
     "text": [
      "Processing\t49/150\texperiment_N_18_rttol_5\n"
     ]
    },
    {
     "name": "stderr",
     "output_type": "stream",
     "text": [
      "1080.0521124914899it [03:13,  5.58it/s]                                                                                             \n"
     ]
    },
    {
     "name": "stdout",
     "output_type": "stream",
     "text": [
      "Processing\t50/150\texperiment_N_18_rttol_10\n"
     ]
    },
    {
     "name": "stderr",
     "output_type": "stream",
     "text": [
      "1080.038967258551it [03:30,  5.13it/s]                                                                                              \n"
     ]
    },
    {
     "name": "stdout",
     "output_type": "stream",
     "text": [
      "Processing\t51/150\texperiment_N_18_rttol_15\n"
     ]
    },
    {
     "name": "stderr",
     "output_type": "stream",
     "text": [
      "1080.0809960311149it [03:33,  5.05it/s]                                                                                             \n"
     ]
    },
    {
     "name": "stdout",
     "output_type": "stream",
     "text": [
      "Processing\t52/150\texperiment_N_18_rttol_20\n"
     ]
    },
    {
     "name": "stderr",
     "output_type": "stream",
     "text": [
      "1080.0600796603997it [03:40,  4.91it/s]                                                                                             \n"
     ]
    },
    {
     "name": "stdout",
     "output_type": "stream",
     "text": [
      "Processing\t53/150\texperiment_N_18_rttol_25\n"
     ]
    },
    {
     "name": "stderr",
     "output_type": "stream",
     "text": [
      "1080.158736333926it [03:42,  4.85it/s]                                                                                              \n"
     ]
    },
    {
     "name": "stdout",
     "output_type": "stream",
     "text": [
      "Processing\t54/150\texperiment_N_18_rttol_30\n"
     ]
    },
    {
     "name": "stderr",
     "output_type": "stream",
     "text": [
      "1080.0471691063924it [03:42,  4.86it/s]                                                                                             \n"
     ]
    },
    {
     "name": "stdout",
     "output_type": "stream",
     "text": [
      "Processing\t55/150\texperiment_N_20_rttol_5\n"
     ]
    },
    {
     "name": "stderr",
     "output_type": "stream",
     "text": [
      "1080.0361364783996it [03:07,  5.77it/s]                                                                                             \n"
     ]
    },
    {
     "name": "stdout",
     "output_type": "stream",
     "text": [
      "Processing\t56/150\texperiment_N_20_rttol_10\n"
     ]
    },
    {
     "name": "stderr",
     "output_type": "stream",
     "text": [
      "1080.0622841780946it [03:25,  5.26it/s]                                                                                             \n"
     ]
    },
    {
     "name": "stdout",
     "output_type": "stream",
     "text": [
      "Processing\t57/150\texperiment_N_20_rttol_15\n"
     ]
    },
    {
     "name": "stderr",
     "output_type": "stream",
     "text": [
      "1080.0644901206442it [03:33,  5.05it/s]                                                                                             \n"
     ]
    },
    {
     "name": "stdout",
     "output_type": "stream",
     "text": [
      "Processing\t58/150\texperiment_N_20_rttol_20\n"
     ]
    },
    {
     "name": "stderr",
     "output_type": "stream",
     "text": [
      "1080.022642738886it [03:38,  4.94it/s]                                                                                              \n"
     ]
    },
    {
     "name": "stdout",
     "output_type": "stream",
     "text": [
      "Processing\t59/150\texperiment_N_20_rttol_25\n"
     ]
    },
    {
     "name": "stderr",
     "output_type": "stream",
     "text": [
      "1080.0680689420312it [03:40,  4.90it/s]                                                                                             \n"
     ]
    },
    {
     "name": "stdout",
     "output_type": "stream",
     "text": [
      "Processing\t60/150\texperiment_N_20_rttol_30\n"
     ]
    },
    {
     "name": "stderr",
     "output_type": "stream",
     "text": [
      "1080.0484925979333it [03:38,  6.76it/s]                                                                                             \n"
     ]
    },
    {
     "name": "stdout",
     "output_type": "stream",
     "text": [
      "Processing\t61/150\texperiment_N_22_rttol_5\n"
     ]
    },
    {
     "name": "stderr",
     "output_type": "stream",
     "text": [
      "1080.020151842973it [03:11,  6.64it/s]                                                                                              \n"
     ]
    },
    {
     "name": "stdout",
     "output_type": "stream",
     "text": [
      "Processing\t62/150\texperiment_N_22_rttol_10\n"
     ]
    },
    {
     "name": "stderr",
     "output_type": "stream",
     "text": [
      "1080.0517926265022it [03:25,  5.26it/s]                                                                                             \n"
     ]
    },
    {
     "name": "stdout",
     "output_type": "stream",
     "text": [
      "Processing\t63/150\texperiment_N_22_rttol_15\n"
     ]
    },
    {
     "name": "stderr",
     "output_type": "stream",
     "text": [
      "1080.3130945068824it [03:30,  5.13it/s]                                                                                             \n"
     ]
    },
    {
     "name": "stdout",
     "output_type": "stream",
     "text": [
      "Processing\t64/150\texperiment_N_22_rttol_20\n"
     ]
    },
    {
     "name": "stderr",
     "output_type": "stream",
     "text": [
      "1080.1415314847445it [03:34,  5.04it/s]                                                                                             \n"
     ]
    },
    {
     "name": "stdout",
     "output_type": "stream",
     "text": [
      "Processing\t65/150\texperiment_N_22_rttol_25\n"
     ]
    },
    {
     "name": "stderr",
     "output_type": "stream",
     "text": [
      "1080.0119424139027it [03:40,  4.90it/s]                                                                                             \n"
     ]
    },
    {
     "name": "stdout",
     "output_type": "stream",
     "text": [
      "Processing\t66/150\texperiment_N_22_rttol_30\n"
     ]
    },
    {
     "name": "stderr",
     "output_type": "stream",
     "text": [
      "1080.205862421687it [03:37,  4.98it/s]                                                                                              \n"
     ]
    },
    {
     "name": "stdout",
     "output_type": "stream",
     "text": [
      "Processing\t67/150\texperiment_N_24_rttol_5\n"
     ]
    },
    {
     "name": "stderr",
     "output_type": "stream",
     "text": [
      "1080.044187704806it [03:05,  5.81it/s]                                                                                              \n"
     ]
    },
    {
     "name": "stdout",
     "output_type": "stream",
     "text": [
      "Processing\t68/150\texperiment_N_24_rttol_10\n"
     ]
    },
    {
     "name": "stderr",
     "output_type": "stream",
     "text": [
      "1080.1186158254677it [03:23,  5.31it/s]                                                                                             \n"
     ]
    },
    {
     "name": "stdout",
     "output_type": "stream",
     "text": [
      "Processing\t69/150\texperiment_N_24_rttol_15\n"
     ]
    },
    {
     "name": "stderr",
     "output_type": "stream",
     "text": [
      "1080.1352262897872it [03:31,  5.10it/s]                                                                                             \n"
     ]
    },
    {
     "name": "stdout",
     "output_type": "stream",
     "text": [
      "Processing\t70/150\texperiment_N_24_rttol_20\n"
     ]
    },
    {
     "name": "stderr",
     "output_type": "stream",
     "text": [
      "1080.0516640989965it [03:37,  7.17it/s]                                                                                             \n"
     ]
    },
    {
     "name": "stdout",
     "output_type": "stream",
     "text": [
      "Processing\t71/150\texperiment_N_24_rttol_25\n"
     ]
    },
    {
     "name": "stderr",
     "output_type": "stream",
     "text": [
      "1080.062517587256it [03:40,  4.90it/s]                                                                                              \n"
     ]
    },
    {
     "name": "stdout",
     "output_type": "stream",
     "text": [
      "Processing\t72/150\texperiment_N_24_rttol_30\n"
     ]
    },
    {
     "name": "stderr",
     "output_type": "stream",
     "text": [
      "1080.0266469088322it [03:44,  4.82it/s]                                                                                             \n"
     ]
    },
    {
     "name": "stdout",
     "output_type": "stream",
     "text": [
      "Processing\t73/150\texperiment_N_26_rttol_5\n"
     ]
    },
    {
     "name": "stderr",
     "output_type": "stream",
     "text": [
      "1080.103496072988it [03:11,  5.64it/s]                                                                                              \n"
     ]
    },
    {
     "name": "stdout",
     "output_type": "stream",
     "text": [
      "Processing\t74/150\texperiment_N_26_rttol_10\n"
     ]
    },
    {
     "name": "stderr",
     "output_type": "stream",
     "text": [
      "1080.0034532228185it [03:23,  5.82it/s]                                                                                             \n"
     ]
    },
    {
     "name": "stdout",
     "output_type": "stream",
     "text": [
      "Processing\t75/150\texperiment_N_26_rttol_15\n"
     ]
    },
    {
     "name": "stderr",
     "output_type": "stream",
     "text": [
      "1080.2469504099724it [03:23,  5.30it/s]                                                                                             \n"
     ]
    },
    {
     "name": "stdout",
     "output_type": "stream",
     "text": [
      "Processing\t76/150\texperiment_N_26_rttol_20\n"
     ]
    },
    {
     "name": "stderr",
     "output_type": "stream",
     "text": [
      "1080.1383680339914it [03:33,  6.78it/s]                                                                                             \n"
     ]
    },
    {
     "name": "stdout",
     "output_type": "stream",
     "text": [
      "Processing\t77/150\texperiment_N_26_rttol_25\n"
     ]
    },
    {
     "name": "stderr",
     "output_type": "stream",
     "text": [
      "1080.055959314257it [03:32,  5.08it/s]                                                                                              \n"
     ]
    },
    {
     "name": "stdout",
     "output_type": "stream",
     "text": [
      "Processing\t78/150\texperiment_N_26_rttol_30\n"
     ]
    },
    {
     "name": "stderr",
     "output_type": "stream",
     "text": [
      "1080.0441283271882it [03:41,  4.87it/s]                                                                                             \n"
     ]
    },
    {
     "name": "stdout",
     "output_type": "stream",
     "text": [
      "Processing\t79/150\texperiment_N_28_rttol_5\n"
     ]
    },
    {
     "name": "stderr",
     "output_type": "stream",
     "text": [
      "1080.092289733798it [03:05,  5.84it/s]                                                                                              \n"
     ]
    },
    {
     "name": "stdout",
     "output_type": "stream",
     "text": [
      "Processing\t80/150\texperiment_N_28_rttol_10\n"
     ]
    },
    {
     "name": "stderr",
     "output_type": "stream",
     "text": [
      "1080.3226538498864it [03:24,  5.29it/s]                                                                                             \n"
     ]
    },
    {
     "name": "stdout",
     "output_type": "stream",
     "text": [
      "Processing\t81/150\texperiment_N_28_rttol_15\n"
     ]
    },
    {
     "name": "stderr",
     "output_type": "stream",
     "text": [
      "1080.1561464466722it [03:27,  5.20it/s]                                                                                             \n"
     ]
    },
    {
     "name": "stdout",
     "output_type": "stream",
     "text": [
      "Processing\t82/150\texperiment_N_28_rttol_20\n"
     ]
    },
    {
     "name": "stderr",
     "output_type": "stream",
     "text": [
      "1080.0190158005537it [03:41,  4.88it/s]                                                                                             \n"
     ]
    },
    {
     "name": "stdout",
     "output_type": "stream",
     "text": [
      "Processing\t83/150\texperiment_N_28_rttol_25\n"
     ]
    },
    {
     "name": "stderr",
     "output_type": "stream",
     "text": [
      "1080.2115623452862it [03:40,  4.89it/s]                                                                                             \n"
     ]
    },
    {
     "name": "stdout",
     "output_type": "stream",
     "text": [
      "Processing\t84/150\texperiment_N_28_rttol_30\n"
     ]
    },
    {
     "name": "stderr",
     "output_type": "stream",
     "text": [
      "1080.0235436179494it [03:42,  4.86it/s]                                                                                             \n"
     ]
    },
    {
     "name": "stdout",
     "output_type": "stream",
     "text": [
      "Processing\t85/150\texperiment_N_30_rttol_5\n"
     ]
    },
    {
     "name": "stderr",
     "output_type": "stream",
     "text": [
      "1080.0728714798022it [03:08,  5.73it/s]                                                                                             \n"
     ]
    },
    {
     "name": "stdout",
     "output_type": "stream",
     "text": [
      "Processing\t86/150\texperiment_N_30_rttol_10\n"
     ]
    },
    {
     "name": "stderr",
     "output_type": "stream",
     "text": [
      "1080.0717000042298it [03:26,  5.22it/s]                                                                                             \n"
     ]
    },
    {
     "name": "stdout",
     "output_type": "stream",
     "text": [
      "Processing\t87/150\texperiment_N_30_rttol_15\n"
     ]
    },
    {
     "name": "stderr",
     "output_type": "stream",
     "text": [
      "1080.2412224453183it [03:36,  4.98it/s]                                                                                             \n"
     ]
    },
    {
     "name": "stdout",
     "output_type": "stream",
     "text": [
      "Processing\t88/150\texperiment_N_30_rttol_20\n"
     ]
    },
    {
     "name": "stderr",
     "output_type": "stream",
     "text": [
      "1080.0264833932422it [03:39,  4.92it/s]                                                                                             \n"
     ]
    },
    {
     "name": "stdout",
     "output_type": "stream",
     "text": [
      "Processing\t89/150\texperiment_N_30_rttol_25\n"
     ]
    },
    {
     "name": "stderr",
     "output_type": "stream",
     "text": [
      "1080.1922778210574it [03:41,  4.88it/s]                                                                                             \n"
     ]
    },
    {
     "name": "stdout",
     "output_type": "stream",
     "text": [
      "Processing\t90/150\texperiment_N_30_rttol_30\n"
     ]
    },
    {
     "name": "stderr",
     "output_type": "stream",
     "text": [
      "1080.1823264826726it [03:38,  7.99it/s]                                                                                             \n"
     ]
    },
    {
     "name": "stdout",
     "output_type": "stream",
     "text": [
      "Processing\t91/150\texperiment_N_32_rttol_5\n"
     ]
    },
    {
     "name": "stderr",
     "output_type": "stream",
     "text": [
      "1080.009331926702it [03:04,  5.84it/s]                                                                                              \n"
     ]
    },
    {
     "name": "stdout",
     "output_type": "stream",
     "text": [
      "Processing\t92/150\texperiment_N_32_rttol_10\n"
     ]
    },
    {
     "name": "stderr",
     "output_type": "stream",
     "text": [
      "1080.0574750123778it [03:30,  6.35it/s]                                                                                             \n"
     ]
    },
    {
     "name": "stdout",
     "output_type": "stream",
     "text": [
      "Processing\t93/150\texperiment_N_32_rttol_15\n"
     ]
    },
    {
     "name": "stderr",
     "output_type": "stream",
     "text": [
      "1080.0525403146546it [03:33,  5.06it/s]                                                                                             \n"
     ]
    },
    {
     "name": "stdout",
     "output_type": "stream",
     "text": [
      "Processing\t94/150\texperiment_N_32_rttol_20\n"
     ]
    },
    {
     "name": "stderr",
     "output_type": "stream",
     "text": [
      "1080.1497471386924it [03:39,  4.93it/s]                                                                                             \n"
     ]
    },
    {
     "name": "stdout",
     "output_type": "stream",
     "text": [
      "Processing\t95/150\texperiment_N_32_rttol_25\n"
     ]
    },
    {
     "name": "stderr",
     "output_type": "stream",
     "text": [
      "1080.1785495452277it [03:40,  6.68it/s]                                                                                             \n"
     ]
    },
    {
     "name": "stdout",
     "output_type": "stream",
     "text": [
      "Processing\t96/150\texperiment_N_32_rttol_30\n"
     ]
    },
    {
     "name": "stderr",
     "output_type": "stream",
     "text": [
      "1080.2059976501193it [03:43,  4.83it/s]                                                                                             \n"
     ]
    },
    {
     "name": "stdout",
     "output_type": "stream",
     "text": [
      "Processing\t97/150\texperiment_N_34_rttol_5\n"
     ]
    },
    {
     "name": "stderr",
     "output_type": "stream",
     "text": [
      "1080.12172712679it [03:08,  5.73it/s]                                                                                               \n"
     ]
    },
    {
     "name": "stdout",
     "output_type": "stream",
     "text": [
      "Processing\t98/150\texperiment_N_34_rttol_10\n"
     ]
    },
    {
     "name": "stderr",
     "output_type": "stream",
     "text": [
      "1080.0177451379075it [03:29,  5.16it/s]                                                                                             \n"
     ]
    },
    {
     "name": "stdout",
     "output_type": "stream",
     "text": [
      "Processing\t99/150\texperiment_N_34_rttol_15\n"
     ]
    },
    {
     "name": "stderr",
     "output_type": "stream",
     "text": [
      "1080.0483331020478it [03:35,  5.02it/s]                                                                                             \n"
     ]
    },
    {
     "name": "stdout",
     "output_type": "stream",
     "text": [
      "Processing\t100/150\texperiment_N_34_rttol_20\n"
     ]
    },
    {
     "name": "stderr",
     "output_type": "stream",
     "text": [
      "1080.2057452718889it [03:38,  4.93it/s]                                                                                             \n"
     ]
    },
    {
     "name": "stdout",
     "output_type": "stream",
     "text": [
      "Processing\t101/150\texperiment_N_34_rttol_25\n"
     ]
    },
    {
     "name": "stderr",
     "output_type": "stream",
     "text": [
      "1080.0598510350287it [03:39,  4.92it/s]                                                                                             \n"
     ]
    },
    {
     "name": "stdout",
     "output_type": "stream",
     "text": [
      "Processing\t102/150\texperiment_N_34_rttol_30\n"
     ]
    },
    {
     "name": "stderr",
     "output_type": "stream",
     "text": [
      "1080.040842523406it [03:44,  4.81it/s]                                                                                              \n"
     ]
    },
    {
     "name": "stdout",
     "output_type": "stream",
     "text": [
      "Processing\t103/150\texperiment_N_36_rttol_5\n"
     ]
    },
    {
     "name": "stderr",
     "output_type": "stream",
     "text": [
      "1080.2822201084493it [03:09,  5.69it/s]                                                                                             \n"
     ]
    },
    {
     "name": "stdout",
     "output_type": "stream",
     "text": [
      "Processing\t104/150\texperiment_N_36_rttol_10\n"
     ]
    },
    {
     "name": "stderr",
     "output_type": "stream",
     "text": [
      "1080.0617917403106it [03:26,  5.23it/s]                                                                                             \n"
     ]
    },
    {
     "name": "stdout",
     "output_type": "stream",
     "text": [
      "Processing\t105/150\texperiment_N_36_rttol_15\n"
     ]
    },
    {
     "name": "stderr",
     "output_type": "stream",
     "text": [
      "1080.1411612938145it [03:29,  5.17it/s]                                                                                             \n"
     ]
    },
    {
     "name": "stdout",
     "output_type": "stream",
     "text": [
      "Processing\t106/150\texperiment_N_36_rttol_20\n"
     ]
    },
    {
     "name": "stderr",
     "output_type": "stream",
     "text": [
      "1080.0333058250374it [03:29,  5.16it/s]                                                                                             \n"
     ]
    },
    {
     "name": "stdout",
     "output_type": "stream",
     "text": [
      "Processing\t107/150\texperiment_N_36_rttol_25\n"
     ]
    },
    {
     "name": "stderr",
     "output_type": "stream",
     "text": [
      "1080.076894492531it [03:31,  5.11it/s]                                                                                              \n"
     ]
    },
    {
     "name": "stdout",
     "output_type": "stream",
     "text": [
      "Processing\t108/150\texperiment_N_36_rttol_30\n"
     ]
    },
    {
     "name": "stderr",
     "output_type": "stream",
     "text": [
      "1080.015930827313it [03:34,  8.00it/s]                                                                                              \n"
     ]
    },
    {
     "name": "stdout",
     "output_type": "stream",
     "text": [
      "Processing\t109/150\texperiment_N_38_rttol_5\n"
     ]
    },
    {
     "name": "stderr",
     "output_type": "stream",
     "text": [
      "1080.1248137152452it [03:00,  6.00it/s]                                                                                             \n"
     ]
    },
    {
     "name": "stdout",
     "output_type": "stream",
     "text": [
      "Processing\t110/150\texperiment_N_38_rttol_10\n"
     ]
    },
    {
     "name": "stderr",
     "output_type": "stream",
     "text": [
      "1080.212776836444it [03:16,  6.52it/s]                                                                                              \n"
     ]
    },
    {
     "name": "stdout",
     "output_type": "stream",
     "text": [
      "Processing\t111/150\texperiment_N_38_rttol_15\n"
     ]
    },
    {
     "name": "stderr",
     "output_type": "stream",
     "text": [
      "1080.1509635150803it [03:24,  5.29it/s]                                                                                             \n"
     ]
    },
    {
     "name": "stdout",
     "output_type": "stream",
     "text": [
      "Processing\t112/150\texperiment_N_38_rttol_20\n"
     ]
    },
    {
     "name": "stderr",
     "output_type": "stream",
     "text": [
      "1080.0502702327071it [03:34,  5.04it/s]                                                                                             \n"
     ]
    },
    {
     "name": "stdout",
     "output_type": "stream",
     "text": [
      "Processing\t113/150\texperiment_N_38_rttol_25\n"
     ]
    },
    {
     "name": "stderr",
     "output_type": "stream",
     "text": [
      "1080.058909028256it [03:35,  5.02it/s]                                                                                              \n"
     ]
    },
    {
     "name": "stdout",
     "output_type": "stream",
     "text": [
      "Processing\t114/150\texperiment_N_38_rttol_30\n"
     ]
    },
    {
     "name": "stderr",
     "output_type": "stream",
     "text": [
      "1080.1265549656564it [03:34,  5.03it/s]                                                                                             \n"
     ]
    },
    {
     "name": "stdout",
     "output_type": "stream",
     "text": [
      "Processing\t115/150\texperiment_N_40_rttol_5\n"
     ]
    },
    {
     "name": "stderr",
     "output_type": "stream",
     "text": [
      "1080.1058834450203it [03:02,  5.50it/s]                                                                                             \n"
     ]
    },
    {
     "name": "stdout",
     "output_type": "stream",
     "text": [
      "Processing\t116/150\texperiment_N_40_rttol_10\n"
     ]
    },
    {
     "name": "stderr",
     "output_type": "stream",
     "text": [
      "1080.1259031420898it [03:16,  5.48it/s]                                                                                             \n"
     ]
    },
    {
     "name": "stdout",
     "output_type": "stream",
     "text": [
      "Processing\t117/150\texperiment_N_40_rttol_15\n"
     ]
    },
    {
     "name": "stderr",
     "output_type": "stream",
     "text": [
      "1080.091773794255it [03:26,  5.23it/s]                                                                                              \n"
     ]
    },
    {
     "name": "stdout",
     "output_type": "stream",
     "text": [
      "Processing\t118/150\texperiment_N_40_rttol_20\n"
     ]
    },
    {
     "name": "stderr",
     "output_type": "stream",
     "text": [
      "1080.056931968806it [03:32,  5.08it/s]                                                                                              \n"
     ]
    },
    {
     "name": "stdout",
     "output_type": "stream",
     "text": [
      "Processing\t119/150\texperiment_N_40_rttol_25\n"
     ]
    },
    {
     "name": "stderr",
     "output_type": "stream",
     "text": [
      "1080.1562098351299it [03:34,  5.04it/s]                                                                                             \n"
     ]
    },
    {
     "name": "stdout",
     "output_type": "stream",
     "text": [
      "Processing\t120/150\texperiment_N_40_rttol_30\n"
     ]
    },
    {
     "name": "stderr",
     "output_type": "stream",
     "text": [
      "1080.0715900623081it [03:51,  4.67it/s]                                                                                             \n"
     ]
    },
    {
     "name": "stdout",
     "output_type": "stream",
     "text": [
      "Processing\t121/150\texperiment_N_42_rttol_5\n"
     ]
    },
    {
     "name": "stderr",
     "output_type": "stream",
     "text": [
      "1080.1411898297338it [03:11,  5.65it/s]                                                                                             \n"
     ]
    },
    {
     "name": "stdout",
     "output_type": "stream",
     "text": [
      "Processing\t122/150\texperiment_N_42_rttol_10\n"
     ]
    },
    {
     "name": "stderr",
     "output_type": "stream",
     "text": [
      "1080.06380496465it [03:29,  5.15it/s]                                                                                               \n"
     ]
    },
    {
     "name": "stdout",
     "output_type": "stream",
     "text": [
      "Processing\t123/150\texperiment_N_42_rttol_15\n"
     ]
    },
    {
     "name": "stderr",
     "output_type": "stream",
     "text": [
      "1080.076645318753it [03:27,  6.22it/s]                                                                                              \n"
     ]
    },
    {
     "name": "stdout",
     "output_type": "stream",
     "text": [
      "Processing\t124/150\texperiment_N_42_rttol_20\n"
     ]
    },
    {
     "name": "stderr",
     "output_type": "stream",
     "text": [
      "1080.048230477615it [03:29,  5.15it/s]                                                                                              \n"
     ]
    },
    {
     "name": "stdout",
     "output_type": "stream",
     "text": [
      "Processing\t125/150\texperiment_N_42_rttol_25\n"
     ]
    },
    {
     "name": "stderr",
     "output_type": "stream",
     "text": [
      "1080.1192217153384it [03:30,  5.13it/s]                                                                                             \n"
     ]
    },
    {
     "name": "stdout",
     "output_type": "stream",
     "text": [
      "Processing\t126/150\texperiment_N_42_rttol_30\n"
     ]
    },
    {
     "name": "stderr",
     "output_type": "stream",
     "text": [
      "1080.024274083844it [03:31,  6.30it/s]                                                                                              \n"
     ]
    },
    {
     "name": "stdout",
     "output_type": "stream",
     "text": [
      "Processing\t127/150\texperiment_N_44_rttol_5\n"
     ]
    },
    {
     "name": "stderr",
     "output_type": "stream",
     "text": [
      "1080.1436680612994it [02:53,  6.22it/s]                                                                                             \n"
     ]
    },
    {
     "name": "stdout",
     "output_type": "stream",
     "text": [
      "Processing\t128/150\texperiment_N_44_rttol_10\n"
     ]
    },
    {
     "name": "stderr",
     "output_type": "stream",
     "text": [
      "1080.0311636132683it [03:16,  5.49it/s]                                                                                             \n"
     ]
    },
    {
     "name": "stdout",
     "output_type": "stream",
     "text": [
      "Processing\t129/150\texperiment_N_44_rttol_15\n"
     ]
    },
    {
     "name": "stderr",
     "output_type": "stream",
     "text": [
      "1080.0392202252513it [03:26,  5.22it/s]                                                                                             \n"
     ]
    },
    {
     "name": "stdout",
     "output_type": "stream",
     "text": [
      "Processing\t130/150\texperiment_N_44_rttol_20\n"
     ]
    },
    {
     "name": "stderr",
     "output_type": "stream",
     "text": [
      "1080.0413133150726it [03:31,  5.96it/s]                                                                                             \n"
     ]
    },
    {
     "name": "stdout",
     "output_type": "stream",
     "text": [
      "Processing\t131/150\texperiment_N_44_rttol_25\n"
     ]
    },
    {
     "name": "stderr",
     "output_type": "stream",
     "text": [
      "1080.025053662179it [03:32,  5.07it/s]                                                                                              \n"
     ]
    },
    {
     "name": "stdout",
     "output_type": "stream",
     "text": [
      "Processing\t132/150\texperiment_N_44_rttol_30\n"
     ]
    },
    {
     "name": "stderr",
     "output_type": "stream",
     "text": [
      "1080.0639055970282it [03:31,  5.11it/s]                                                                                             \n"
     ]
    },
    {
     "name": "stdout",
     "output_type": "stream",
     "text": [
      "Processing\t133/150\texperiment_N_46_rttol_5\n"
     ]
    },
    {
     "name": "stderr",
     "output_type": "stream",
     "text": [
      "1080.0253067549722it [02:59,  6.02it/s]                                                                                             \n"
     ]
    },
    {
     "name": "stdout",
     "output_type": "stream",
     "text": [
      "Processing\t134/150\texperiment_N_46_rttol_10\n"
     ]
    },
    {
     "name": "stderr",
     "output_type": "stream",
     "text": [
      "1080.0797006110995it [03:18,  5.45it/s]                                                                                             \n"
     ]
    },
    {
     "name": "stdout",
     "output_type": "stream",
     "text": [
      "Processing\t135/150\texperiment_N_46_rttol_15\n"
     ]
    },
    {
     "name": "stderr",
     "output_type": "stream",
     "text": [
      "1080.1205030842673it [03:26,  5.24it/s]                                                                                             \n"
     ]
    },
    {
     "name": "stdout",
     "output_type": "stream",
     "text": [
      "Processing\t136/150\texperiment_N_46_rttol_20\n"
     ]
    },
    {
     "name": "stderr",
     "output_type": "stream",
     "text": [
      "1080.0100364617554it [03:38,  6.50it/s]                                                                                             \n"
     ]
    },
    {
     "name": "stdout",
     "output_type": "stream",
     "text": [
      "Processing\t137/150\texperiment_N_46_rttol_25\n"
     ]
    },
    {
     "name": "stderr",
     "output_type": "stream",
     "text": [
      "1080.0525438777265it [03:50,  4.69it/s]                                                                                             \n"
     ]
    },
    {
     "name": "stdout",
     "output_type": "stream",
     "text": [
      "Processing\t138/150\texperiment_N_46_rttol_30\n"
     ]
    },
    {
     "name": "stderr",
     "output_type": "stream",
     "text": [
      "1080.0150559714734it [03:51,  5.76it/s]                                                                                             \n"
     ]
    },
    {
     "name": "stdout",
     "output_type": "stream",
     "text": [
      "Processing\t139/150\texperiment_N_48_rttol_5\n"
     ]
    },
    {
     "name": "stderr",
     "output_type": "stream",
     "text": [
      "1080.1863672603333it [03:18,  5.44it/s]                                                                                             \n"
     ]
    },
    {
     "name": "stdout",
     "output_type": "stream",
     "text": [
      "Processing\t140/150\texperiment_N_48_rttol_10\n"
     ]
    },
    {
     "name": "stderr",
     "output_type": "stream",
     "text": [
      "1080.0009751510124it [03:37,  4.98it/s]                                                                                             \n"
     ]
    },
    {
     "name": "stdout",
     "output_type": "stream",
     "text": [
      "Processing\t141/150\texperiment_N_48_rttol_15\n"
     ]
    },
    {
     "name": "stderr",
     "output_type": "stream",
     "text": [
      "1080.0922704657867it [03:46,  4.76it/s]                                                                                             \n"
     ]
    },
    {
     "name": "stdout",
     "output_type": "stream",
     "text": [
      "Processing\t142/150\texperiment_N_48_rttol_20\n"
     ]
    },
    {
     "name": "stderr",
     "output_type": "stream",
     "text": [
      "1080.226321151251it [04:01,  4.47it/s]                                                                                              \n"
     ]
    },
    {
     "name": "stdout",
     "output_type": "stream",
     "text": [
      "Processing\t143/150\texperiment_N_48_rttol_25\n"
     ]
    },
    {
     "name": "stderr",
     "output_type": "stream",
     "text": [
      "1080.1274741979908it [03:55,  4.58it/s]                                                                                             \n"
     ]
    },
    {
     "name": "stdout",
     "output_type": "stream",
     "text": [
      "Processing\t144/150\texperiment_N_48_rttol_30\n"
     ]
    },
    {
     "name": "stderr",
     "output_type": "stream",
     "text": [
      "1080.1746572984937it [04:00,  4.48it/s]                                                                                             \n"
     ]
    },
    {
     "name": "stdout",
     "output_type": "stream",
     "text": [
      "Processing\t145/150\texperiment_N_50_rttol_5\n"
     ]
    },
    {
     "name": "stderr",
     "output_type": "stream",
     "text": [
      "1080.018992593167it [03:24,  5.29it/s]                                                                                              \n"
     ]
    },
    {
     "name": "stdout",
     "output_type": "stream",
     "text": [
      "Processing\t146/150\texperiment_N_50_rttol_10\n"
     ]
    },
    {
     "name": "stderr",
     "output_type": "stream",
     "text": [
      "1080.1616558755827it [03:44,  4.82it/s]                                                                                             \n"
     ]
    },
    {
     "name": "stdout",
     "output_type": "stream",
     "text": [
      "Processing\t147/150\texperiment_N_50_rttol_15\n"
     ]
    },
    {
     "name": "stderr",
     "output_type": "stream",
     "text": [
      "1080.1460844059243it [04:11,  4.30it/s]                                                                                             \n"
     ]
    },
    {
     "name": "stdout",
     "output_type": "stream",
     "text": [
      "Processing\t148/150\texperiment_N_50_rttol_20\n"
     ]
    },
    {
     "name": "stderr",
     "output_type": "stream",
     "text": [
      "1080.0235607031173it [04:57,  3.63it/s]                                                                                                                                 \n"
     ]
    },
    {
     "name": "stdout",
     "output_type": "stream",
     "text": [
      "Processing\t149/150\texperiment_N_50_rttol_25\n"
     ]
    },
    {
     "name": "stderr",
     "output_type": "stream",
     "text": [
      "1080.0683863272711it [05:10,  3.48it/s]                                                                                                                                 \n"
     ]
    },
    {
     "name": "stdout",
     "output_type": "stream",
     "text": [
      "Processing\t150/150\texperiment_N_50_rttol_30\n"
     ]
    },
    {
     "name": "stderr",
     "output_type": "stream",
     "text": [
      "1080.0947541068274it [05:01,  4.57it/s]                                                                                                                                 \n"
     ]
    }
   ],
   "source": [
    "for i in range(len(params)):\n",
    "    param = params[i]\n",
    "    run_serial_experiment(param, i+1, len(params))"
   ]
  },
  {
   "cell_type": "markdown",
   "metadata": {},
   "source": [
    "#### Run in parallel"
   ]
  },
  {
   "cell_type": "markdown",
   "metadata": {},
   "source": [
    "Doesn't quite work yet ..."
   ]
  },
  {
   "cell_type": "code",
   "execution_count": 37,
   "metadata": {},
   "outputs": [],
   "source": [
    "# import ipyparallel as ipp"
   ]
  },
  {
   "cell_type": "code",
   "execution_count": 38,
   "metadata": {},
   "outputs": [],
   "source": [
    "# def run_parallel_experiment(param):\n",
    "#     import sys\n",
    "#     sys.path.append('C:\\\\Users\\\\joewa\\\\Work\\\\git\\\\clms\\\\Simulator\\\\codes')\n",
    "#     from VMSfunctions.MassSpec import IndependentMassSpectrometer\n",
    "#     from VMSfunctions.Controller import TopNController\n",
    "    \n",
    "#     mass_spec = IndependentMassSpectrometer(param['ionisation_mode'], param['data'], density=param['density'])\n",
    "#     controller = TopNController(mass_spec, param['N'], param['isolation_window'], param['rt_tol'])\n",
    "#     controller.run(param['min_rt'], param['max_rt'], progress_bar=False)\n",
    "#     return controller"
   ]
  },
  {
   "cell_type": "code",
   "execution_count": 39,
   "metadata": {},
   "outputs": [],
   "source": [
    "# rc = ipp.Client()\n",
    "# dview = rc[:] # use all engines"
   ]
  },
  {
   "cell_type": "code",
   "execution_count": 40,
   "metadata": {},
   "outputs": [],
   "source": [
    "# controllers = dview.map(run_parallel_experiment, params)\n",
    "# for controller in controllers:\n",
    "#     print(controller.N, controller.rt_tol)"
   ]
  }
 ],
 "metadata": {
  "kernelspec": {
   "display_name": "Python 3",
   "language": "python",
   "name": "python3"
  },
  "language_info": {
   "codemirror_mode": {
    "name": "ipython",
    "version": 3
   },
   "file_extension": ".py",
   "mimetype": "text/x-python",
   "name": "python",
   "nbconvert_exporter": "python",
   "pygments_lexer": "ipython3",
   "version": "3.6.6"
  }
 },
 "nbformat": 4,
 "nbformat_minor": 2
}
