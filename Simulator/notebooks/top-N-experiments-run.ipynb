{
 "cells": [
  {
   "cell_type": "markdown",
   "metadata": {},
   "source": [
    "# Experiment: Varying N in top-N DDA fragmentation"
   ]
  },
  {
   "cell_type": "markdown",
   "metadata": {},
   "source": [
    "We demonstrate that the simulator can be used for scan-level closed-loop DDA experiments. \n",
    "- Take an existing data. Find out which MS1 peaks are linked to which MS2 peaks.\n",
    "- Run all MS1 peaks through the simulator’s Top-N protocol. \n",
    "- For the top-100 most intense MS1 peaks, how many got fragmented in the simulator as we change N?\n",
    "- If N is greater than the real data, do we see the same MS1 peaks from (1) being fragmented again, plus additional fragment peaks?\n",
    "- Verification on actual machine.\n",
    "- Talk to stefan about machine time."
   ]
  },
  {
   "cell_type": "code",
   "execution_count": null,
   "metadata": {},
   "outputs": [],
   "source": [
    "%matplotlib inline"
   ]
  },
  {
   "cell_type": "code",
   "execution_count": null,
   "metadata": {},
   "outputs": [],
   "source": [
    "%load_ext autoreload\n",
    "%autoreload 2"
   ]
  },
  {
   "cell_type": "code",
   "execution_count": null,
   "metadata": {},
   "outputs": [],
   "source": [
    "import numpy as np\n",
    "import pandas as pd\n",
    "import sys\n",
    "import os\n",
    "import scipy.stats\n",
    "import pylab as plt\n",
    "from IPython import display\n",
    "import pylab as plt\n",
    "from random import random, shuffle\n",
    "from joblib import Parallel, delayed\n",
    "import multiprocessing"
   ]
  },
  {
   "cell_type": "code",
   "execution_count": null,
   "metadata": {},
   "outputs": [],
   "source": [
    "sys.path.append('../codes')"
   ]
  },
  {
   "cell_type": "code",
   "execution_count": null,
   "metadata": {},
   "outputs": [],
   "source": [
    "from VMSfunctions.Chemicals import *\n",
    "from VMSfunctions.Chromatograms import *\n",
    "from VMSfunctions.MassSpec import *\n",
    "from VMSfunctions.Controller import *\n",
    "from VMSfunctions.Common import *\n",
    "from VMSfunctions.DataGenerator import *\n",
    "from VMSfunctions.Noise import *"
   ]
  },
  {
   "cell_type": "code",
   "execution_count": null,
   "metadata": {},
   "outputs": [],
   "source": [
    "set_log_level_debug()"
   ]
  },
  {
   "cell_type": "markdown",
   "metadata": {},
   "source": [
    "### Load densities trained on beer1pos data (see [loader_kde](loader_kde.ipynb))."
   ]
  },
  {
   "cell_type": "code",
   "execution_count": null,
   "metadata": {},
   "outputs": [],
   "source": [
    "base_dir = 'C:\\\\Users\\\\joewa\\\\University of Glasgow\\\\Vinny Davies - CLDS Metabolomics Project\\\\'"
   ]
  },
  {
   "cell_type": "code",
   "execution_count": null,
   "metadata": {},
   "outputs": [],
   "source": [
    "ps = load_obj(base_dir + 'Trained Models\\\\peak_sampler_beer1pos_fragmentation.p')"
   ]
  },
  {
   "cell_type": "markdown",
   "metadata": {},
   "source": [
    "### Load prepared data (BEER1POS)"
   ]
  },
  {
   "cell_type": "code",
   "execution_count": null,
   "metadata": {},
   "outputs": [],
   "source": [
    "dataset = load_obj('../models/dda_results/dataset.p')\n",
    "noisy_dataset = load_obj('../models/dda_results/noisy_dataset.p')"
   ]
  },
  {
   "cell_type": "markdown",
   "metadata": {},
   "source": [
    "### Experiment by varying N and rt_tol"
   ]
  },
  {
   "cell_type": "markdown",
   "metadata": {},
   "source": [
    "Don't print so much from the controller when running"
   ]
  },
  {
   "cell_type": "code",
   "execution_count": null,
   "metadata": {},
   "outputs": [],
   "source": [
    "set_log_level_warning()\n",
    "# set_log_level_info()\n",
    "# set_log_level_debug()"
   ]
  },
  {
   "cell_type": "markdown",
   "metadata": {},
   "source": [
    "#### Run serially"
   ]
  },
  {
   "cell_type": "code",
   "execution_count": null,
   "metadata": {},
   "outputs": [],
   "source": [
    "def run_serial_experiment(param, i, total):\n",
    "    analysis_name = 'experiment_N_%d_rttol_%d' % (param['N'], param['rt_tol'])    \n",
    "    mzml_out = '../models/dda_results/%s.mzML' % analysis_name    \n",
    "    pickle_out = '../models/dda_results/%s.p' % analysis_name\n",
    "\n",
    "    if os.path.isfile(mzml_out) and os.path.isfile(pickle_out): \n",
    "        print('Skipping\\t%d/%d\\t%s' % (i, total, analysis_name))\n",
    "    else:    \n",
    "        print('Processing\\t%d/%d\\t%s' % (i, total, analysis_name))\n",
    "        mass_spec = IndependentMassSpectrometer(param['ionisation_mode'], param['data'], density=param['density'])\n",
    "        controller = TopNController(mass_spec, param['N'], param['isolation_window'], param['rt_tol'], \n",
    "                                    param['min_ms1_intensity'])\n",
    "        controller.run(param['min_rt'], param['max_rt'], progress_bar=True)\n",
    "        controller.write_mzML(analysis_name, mzml_out)    \n",
    "        save_obj(controller, pickle_out)"
   ]
  },
  {
   "cell_type": "markdown",
   "metadata": {},
   "source": [
    "#### Run in parallel"
   ]
  },
  {
   "cell_type": "code",
   "execution_count": null,
   "metadata": {},
   "outputs": [],
   "source": [
    "def run_par(param):\n",
    "    analysis_name = 'experiment_N_%d_rttol_%d' % (param['N'], param['rt_tol'])    \n",
    "    mzml_out = '../models/dda_results/%s.mzML' % analysis_name    \n",
    "    pickle_out = '../models/dda_results/%s.p' % analysis_name\n",
    "\n",
    "    if os.path.isfile(mzml_out) and os.path.isfile(pickle_out): \n",
    "        print('Skipping %s' % (analysis_name))\n",
    "    else:    \n",
    "        print('Processing %s' % (analysis_name))\n",
    "        mass_spec = IndependentMassSpectrometer(param['ionisation_mode'], param['data'], density=param['density'])\n",
    "        controller = TopNController(mass_spec, param['N'], param['isolation_window'], param['rt_tol'])\n",
    "        controller.run(param['min_rt'], param['max_rt'], progress_bar=False)\n",
    "        controller.write_mzML(analysis_name, mzml_out)  \n",
    "        save_obj(controller, pickle_out)\n",
    "        return analysis_name"
   ]
  },
  {
   "cell_type": "code",
   "execution_count": null,
   "metadata": {},
   "outputs": [],
   "source": [
    "def run_parallel_experiment(params):\n",
    "    import ipyparallel as ipp\n",
    "    rc = ipp.Client()\n",
    "    dview = rc[:] # use all engines\n",
    "\n",
    "    with dview.sync_imports():\n",
    "        from VMSfunctions.MassSpec import IndependentMassSpectrometer\n",
    "        from VMSfunctions.Controller import TopNController\n",
    "        import os\n",
    "        \n",
    "    analysis_names = dview.map_sync(run_par, params)\n",
    "    for analysis_name in analysis_names:\n",
    "        print(analysis_name)"
   ]
  },
  {
   "cell_type": "markdown",
   "metadata": {},
   "source": [
    "#### Set parameters"
   ]
  },
  {
   "cell_type": "markdown",
   "metadata": {},
   "source": [
    "Varying parameters"
   ]
  },
  {
   "cell_type": "code",
   "execution_count": null,
   "metadata": {},
   "outputs": [],
   "source": [
    "def get_params(Ns, rt_tols, isolation_window, ionisation_mode, data, density, min_ms1_intensity, min_rt, max_rt):\n",
    "    print('N =', Ns)\n",
    "    print('rt_tol =', rt_tols)    \n",
    "    params = []\n",
    "    for N in Ns:\n",
    "        for rt_tol in rt_tols:\n",
    "            params.append({\n",
    "                'N': N, \n",
    "                'rt_tol': rt_tol,\n",
    "                'min_ms1_intensity': min_ms1_intensity,\n",
    "                'isolation_window': isolation_window,\n",
    "                'ionisation_mode': ionisation_mode,\n",
    "                'data': data,\n",
    "                'density': density,\n",
    "                'min_rt': min_rt,\n",
    "                'max_rt': max_rt\n",
    "            })\n",
    "    print('len(params) =', len(params))\n",
    "    return params"
   ]
  },
  {
   "cell_type": "code",
   "execution_count": null,
   "metadata": {},
   "outputs": [],
   "source": [
    "isolation_window = 0.5   # the isolation window in Dalton around a selected precursor ion\n",
    "ionisation_mode = POSITIVE\n",
    "data = noisy_dataset\n",
    "density = ps.density_estimator\n",
    "min_ms1_intensity = 2.5E5 # minimum ms1 intensity to fragment\n",
    "min_rt = 3*60\n",
    "max_rt = 21*60"
   ]
  },
  {
   "cell_type": "markdown",
   "metadata": {},
   "source": [
    "Varying Ns"
   ]
  },
  {
   "cell_type": "code",
   "execution_count": null,
   "metadata": {},
   "outputs": [],
   "source": [
    "Ns = list(range(2, 101, 2)) # top-N DDA fragmentation\n",
    "rt_tols = [15] # the rt window around a selected precursor ion to prevent it from fragmented multiple times\n",
    "params = get_params(Ns, rt_tols, isolation_window, ionisation_mode, data, density, min_ms1_intensity, min_rt, max_rt)"
   ]
  },
  {
   "cell_type": "code",
   "execution_count": null,
   "metadata": {},
   "outputs": [],
   "source": [
    "for i in range(len(params)):\n",
    "    param = params[i]\n",
    "    run_serial_experiment(param, i+1, len(params))"
   ]
  },
  {
   "cell_type": "code",
   "execution_count": null,
   "metadata": {},
   "outputs": [],
   "source": [
    "run_parallel_experiment(params)"
   ]
  },
  {
   "cell_type": "markdown",
   "metadata": {},
   "source": [
    "Grid search"
   ]
  },
  {
   "cell_type": "code",
   "execution_count": null,
   "metadata": {},
   "outputs": [],
   "source": [
    "# Ns = list(range(2, 51, 2)) # top-N DDA fragmentation\n",
    "# rt_tols = list(range(5, 31, 5)) # the rt window around a selected precursor ion to prevent it from fragmented multiple times\n",
    "# params = get_params(Ns, rt_tols, isolation_window, ionisation_mode, data, density, min_ms1_intensity, min_rt, max_rt)"
   ]
  },
  {
   "cell_type": "code",
   "execution_count": null,
   "metadata": {
    "scrolled": false
   },
   "outputs": [],
   "source": [
    "# for i in range(len(params)):\n",
    "#     param = params[i]\n",
    "#     run_serial_experiment(param, i+1, len(params))"
   ]
  }
 ],
 "metadata": {
  "kernelspec": {
   "display_name": "Python 3",
   "language": "python",
   "name": "python3"
  },
  "language_info": {
   "codemirror_mode": {
    "name": "ipython",
    "version": 3
   },
   "file_extension": ".py",
   "mimetype": "text/x-python",
   "name": "python",
   "nbconvert_exporter": "python",
   "pygments_lexer": "ipython3",
   "version": "3.6.6"
  }
 },
 "nbformat": 4,
 "nbformat_minor": 2
}
