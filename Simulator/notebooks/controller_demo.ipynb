{
 "cells": [
  {
   "cell_type": "markdown",
   "metadata": {},
   "source": [
    "### Controller Demo"
   ]
  },
  {
   "cell_type": "code",
   "execution_count": null,
   "metadata": {},
   "outputs": [],
   "source": [
    "%matplotlib inline"
   ]
  },
  {
   "cell_type": "code",
   "execution_count": null,
   "metadata": {},
   "outputs": [],
   "source": [
    "%load_ext autoreload\n",
    "%autoreload 2"
   ]
  },
  {
   "cell_type": "code",
   "execution_count": null,
   "metadata": {},
   "outputs": [],
   "source": [
    "import numpy as np\n",
    "import pandas as pd\n",
    "import sys\n",
    "import scipy.stats\n",
    "import pylab as plt\n",
    "from IPython import display\n",
    "import pylab as plt"
   ]
  },
  {
   "cell_type": "code",
   "execution_count": null,
   "metadata": {},
   "outputs": [],
   "source": [
    "sys.path.append('../codes')"
   ]
  },
  {
   "cell_type": "code",
   "execution_count": null,
   "metadata": {},
   "outputs": [],
   "source": [
    "from VMSfunctions.Chemicals import *\n",
    "from VMSfunctions.Chromatograms import *\n",
    "from VMSfunctions.MassSpec import *\n",
    "from VMSfunctions.Controller import *\n",
    "from VMSfunctions.Common import *\n",
    "from VMSfunctions.DataGenerator import *"
   ]
  },
  {
   "cell_type": "code",
   "execution_count": null,
   "metadata": {},
   "outputs": [],
   "source": [
    "# set_log_level_warning()\n",
    "# set_log_level_info()\n",
    "set_log_level_debug()"
   ]
  },
  {
   "cell_type": "markdown",
   "metadata": {},
   "source": [
    "We want a notebook that does the following:\n",
    "1. create a list of chemical\n",
    "2. create a new mass spec object, takes chemicals\n",
    "3. create a new controller, takes mass spec\n",
    "4. write mzml files"
   ]
  },
  {
   "cell_type": "markdown",
   "metadata": {},
   "source": [
    "Load densities trained on 4 beer data (see [loader_kde](loader_kde.ipynb))."
   ]
  },
  {
   "cell_type": "code",
   "execution_count": null,
   "metadata": {},
   "outputs": [],
   "source": [
    "ps = load_obj('../models/peak_sampler_4_beers.p')"
   ]
  },
  {
   "cell_type": "markdown",
   "metadata": {},
   "source": [
    "Load chromatogram data exported from R"
   ]
  },
  {
   "cell_type": "code",
   "execution_count": null,
   "metadata": {},
   "outputs": [],
   "source": [
    "xcms_output = '../models/beer_ms1_peaks.csv.gz'\n",
    "cc = ChromatogramCreator(xcms_output)"
   ]
  },
  {
   "cell_type": "markdown",
   "metadata": {},
   "source": [
    "### Generate some chemicals"
   ]
  },
  {
   "cell_type": "code",
   "execution_count": null,
   "metadata": {},
   "outputs": [],
   "source": [
    "hmdb = load_obj('../models/hmdb_compounds.p')"
   ]
  },
  {
   "cell_type": "code",
   "execution_count": null,
   "metadata": {},
   "outputs": [],
   "source": [
    "chemicals = ChemicalCreator(ps)"
   ]
  },
  {
   "cell_type": "code",
   "execution_count": null,
   "metadata": {},
   "outputs": [],
   "source": [
    "min_ms1_intensity = 2E5\n",
    "rt_range = [(3*60, 21*60)]\n",
    "mz_range = [(0, 1000)]\n",
    "dataset = chemicals.sample(cc, mz_range, rt_range, min_ms1_intensity, 1000, 2, \"Known\", None, hmdb, 0.1)"
   ]
  },
  {
   "cell_type": "code",
   "execution_count": null,
   "metadata": {
    "scrolled": true
   },
   "outputs": [],
   "source": [
    "def plot_chromatogram(chrom):\n",
    "    f, axarr = plt.subplots(2, sharex=True)\n",
    "    axarr[0].plot(chrom.rts, chrom.intensities)\n",
    "    axarr[0].set_title('Chromatogram')\n",
    "    axarr[0].set_ylabel('intensity')\n",
    "    axarr[1].scatter(chrom.rts, chrom.mzs)\n",
    "    axarr[1].set_ylabel('mz')\n",
    "    axarr[1].set_xlabel('RT')    \n",
    "    plt.show()\n",
    "\n",
    "for chem in dataset[0:10]:\n",
    "    print(chem)\n",
    "    print(chem.chromatogram.raw_intensities)\n",
    "    plot_chromatogram(chem.chromatogram)"
   ]
  },
  {
   "cell_type": "markdown",
   "metadata": {},
   "source": [
    "### Set up a simple MS1 controller"
   ]
  },
  {
   "cell_type": "code",
   "execution_count": null,
   "metadata": {},
   "outputs": [],
   "source": [
    "set_log_level_warning() # We don't want to see too many messages as the controller is running"
   ]
  },
  {
   "cell_type": "code",
   "execution_count": null,
   "metadata": {
    "scrolled": true
   },
   "outputs": [],
   "source": [
    "mass_spec = IndependentMassSpectrometer(POSITIVE, dataset, density=ps.density_estimator)\n",
    "controller = SimpleMs1Controller(mass_spec)\n",
    "controller.make_plot = False\n",
    "controller.run(rt_range[0][0], rt_range[0][1])"
   ]
  },
  {
   "cell_type": "code",
   "execution_count": null,
   "metadata": {},
   "outputs": [],
   "source": [
    "save_obj(controller, '../models/test_controller.p')"
   ]
  },
  {
   "cell_type": "code",
   "execution_count": null,
   "metadata": {},
   "outputs": [],
   "source": [
    "controller = load_obj('../models/test_controller.p')"
   ]
  },
  {
   "cell_type": "markdown",
   "metadata": {},
   "source": [
    "Print the peaks generated for each chemical"
   ]
  },
  {
   "cell_type": "code",
   "execution_count": null,
   "metadata": {},
   "outputs": [],
   "source": [
    "chem = controller.mass_spec.chemicals[0]\n",
    "peaks = controller.mass_spec.chemicals_to_peaks[chem]\n",
    "print(chem)\n",
    "for i in range(len(peaks)):\n",
    "    p = peaks[i]\n",
    "    print(p)\n",
    "    if i >= 3:\n",
    "        break"
   ]
  },
  {
   "cell_type": "markdown",
   "metadata": {},
   "source": [
    "Save to mzML file"
   ]
  },
  {
   "cell_type": "code",
   "execution_count": null,
   "metadata": {},
   "outputs": [],
   "source": [
    "controller.write_mzML('my_analysis', '../models/out.mzML')"
   ]
  },
  {
   "cell_type": "markdown",
   "metadata": {},
   "source": [
    "### Set up a Top-N controller"
   ]
  },
  {
   "cell_type": "code",
   "execution_count": null,
   "metadata": {},
   "outputs": [],
   "source": [
    "max_rt = 1000                   # the maximum retention time of scans to generate\n",
    "N = 5                           # top-5 DDA fragmentation\n",
    "mz_tol = 5                      # the mz isolation window around a selected precursor ion\n",
    "rt_tol = 15                     # the rt window around a selected precursor ion to prevent it from fragmented multiple times\n",
    "min_ms1_intensity = 2E5         # the minimum ms2 peak intensity"
   ]
  },
  {
   "cell_type": "code",
   "execution_count": null,
   "metadata": {
    "scrolled": true
   },
   "outputs": [],
   "source": [
    "mass_spec = IndependentMassSpectrometer(POSITIVE, dataset, density=ps.density_estimator)\n",
    "controller = TopNController(mass_spec, N, mz_tol, rt_tol, min_ms1_intensity)\n",
    "controller.make_plot = False\n",
    "\n",
    "set_log_level_warning()\n",
    "# set_log_level_info()\n",
    "# set_log_level_debug()\n",
    "\n",
    "controller.run(rt_range[0][0], rt_range[0][1])"
   ]
  },
  {
   "cell_type": "code",
   "execution_count": null,
   "metadata": {},
   "outputs": [],
   "source": [
    "controller.write_mzML('my_analysis', '../models/out.mzML')"
   ]
  },
  {
   "cell_type": "markdown",
   "metadata": {},
   "source": [
    "### Set up a DIA controller"
   ]
  },
  {
   "cell_type": "code",
   "execution_count": null,
   "metadata": {},
   "outputs": [],
   "source": [
    "max_rt = 1000\n",
    "dia_design = \"basic\"\n",
    "window_type = \"even\"\n",
    "kaufmann_design = None\n",
    "extra_bins = 0\n",
    "num_windows = 10"
   ]
  },
  {
   "cell_type": "code",
   "execution_count": null,
   "metadata": {},
   "outputs": [],
   "source": [
    "mass_spec = IndependentMassSpectrometer(POSITIVE, dataset, density=ps.density_estimator)\n",
    "controller = TreeController(mass_spec, dia_design, window_type, kaufmann_design, extra_bins, num_windows)\n",
    "controller.make_plot = False\n",
    "\n",
    "set_log_level_warning()\n",
    "# set_log_level_info()\n",
    "# set_log_level_debug()\n",
    "\n",
    "controller.run(rt_range[0][0], rt_range[0][1])"
   ]
  },
  {
   "cell_type": "code",
   "execution_count": null,
   "metadata": {},
   "outputs": [],
   "source": [
    "controller.write_mzML('my_analysis', '../models/out.mzML')"
   ]
  },
  {
   "cell_type": "code",
   "execution_count": null,
   "metadata": {},
   "outputs": [],
   "source": []
  }
 ],
 "metadata": {
  "kernelspec": {
   "display_name": "Python 3",
   "language": "python",
   "name": "python3"
  },
  "language_info": {
   "codemirror_mode": {
    "name": "ipython",
    "version": 3
   },
   "file_extension": ".py",
   "mimetype": "text/x-python",
   "name": "python",
   "nbconvert_exporter": "python",
   "pygments_lexer": "ipython3",
   "version": "3.6.6"
  }
 },
 "nbformat": 4,
 "nbformat_minor": 1
}
