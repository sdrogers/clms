{
 "cells": [
  {
   "cell_type": "markdown",
   "metadata": {},
   "source": [
    "### Controller Demo"
   ]
  },
  {
   "cell_type": "code",
   "execution_count": 1,
   "metadata": {},
   "outputs": [],
   "source": [
    "%matplotlib inline"
   ]
  },
  {
   "cell_type": "code",
   "execution_count": 2,
   "metadata": {},
   "outputs": [],
   "source": [
    "%load_ext autoreload\n",
    "%autoreload 2"
   ]
  },
  {
   "cell_type": "code",
   "execution_count": 3,
   "metadata": {},
   "outputs": [],
   "source": [
    "import numpy as np\n",
    "import pandas as pd\n",
    "import sys\n",
    "import scipy.stats\n",
    "import pylab as plt\n",
    "from IPython import display\n",
    "import pylab as plt"
   ]
  },
  {
   "cell_type": "code",
   "execution_count": 4,
   "metadata": {},
   "outputs": [],
   "source": [
    "sys.path.append('../codes')"
   ]
  },
  {
   "cell_type": "code",
   "execution_count": 5,
   "metadata": {},
   "outputs": [],
   "source": [
    "from VMSfunctions.Chemicals import *\n",
    "from VMSfunctions.Chromatograms import *\n",
    "from VMSfunctions.MassSpec import *\n",
    "from VMSfunctions.Controller import *\n",
    "from VMSfunctions.Common import *\n",
    "from VMSfunctions.DataGenerator import *"
   ]
  },
  {
   "cell_type": "markdown",
   "metadata": {},
   "source": [
    "We want a notebook that does the following:\n",
    "1. create a list of chemical\n",
    "2. create a new mass spec object, takes chemicals\n",
    "3. create a new controller, takes mass spec\n",
    "4. write mzml files"
   ]
  },
  {
   "cell_type": "markdown",
   "metadata": {},
   "source": [
    "Load densities trained on 4 beer data (see [loader_kde](loader_kde.ipynb))."
   ]
  },
  {
   "cell_type": "code",
   "execution_count": 6,
   "metadata": {},
   "outputs": [],
   "source": [
    "ps = load_obj('../models/peak_sampler_4_beers.p')"
   ]
  },
  {
   "cell_type": "markdown",
   "metadata": {},
   "source": [
    "Load chromatogram data exported from R"
   ]
  },
  {
   "cell_type": "code",
   "execution_count": 7,
   "metadata": {},
   "outputs": [
    {
     "name": "stderr",
     "output_type": "stream",
     "text": [
      "DEBUG:Chromatograms:Loading 0 chromatograms\n",
      "../codes\\VMSfunctions\\Common.py:56: RuntimeWarning:\n",
      "\n",
      "divide by zero encountered in double_scalars\n",
      "\n",
      "DEBUG:Chromatograms:Loading 5000 chromatograms\n",
      "DEBUG:Chromatograms:Loading 10000 chromatograms\n",
      "DEBUG:Chromatograms:Loading 15000 chromatograms\n",
      "DEBUG:Chromatograms:Loading 20000 chromatograms\n",
      "DEBUG:Chromatograms:Loading 25000 chromatograms\n",
      "DEBUG:Chromatograms:Loading 30000 chromatograms\n",
      "DEBUG:Chromatograms:Loading 35000 chromatograms\n",
      "DEBUG:Chromatograms:Loading 40000 chromatograms\n",
      "DEBUG:Chromatograms:Loading 45000 chromatograms\n"
     ]
    }
   ],
   "source": [
    "xcms_output = '../models/beer_ms1_peaks.csv.gz'\n",
    "chromatograms = ChromatogramCreator(xcms_output)"
   ]
  },
  {
   "cell_type": "markdown",
   "metadata": {},
   "source": [
    "### Generate some chemicals"
   ]
  },
  {
   "cell_type": "code",
   "execution_count": 8,
   "metadata": {},
   "outputs": [],
   "source": [
    "hmdb = load_obj('../models/hmdb_compounds.p')"
   ]
  },
  {
   "cell_type": "code",
   "execution_count": 9,
   "metadata": {},
   "outputs": [],
   "source": [
    "chemicals = ChemicalCreator(ps, chromatograms)"
   ]
  },
  {
   "cell_type": "code",
   "execution_count": 10,
   "metadata": {},
   "outputs": [
    {
     "name": "stderr",
     "output_type": "stream",
     "text": [
      "DEBUG:Chemicals:1000 ms1 peaks to be created.\n",
      "DEBUG:Chemicals:i = 25 Total = 45\n",
      "DEBUG:Chemicals:i = 25 Total = 46\n",
      "DEBUG:Chemicals:i = 50 Total = 75\n",
      "DEBUG:Chemicals:i = 75 Total = 106\n",
      "DEBUG:Chemicals:i = 100 Total = 145\n",
      "DEBUG:Chemicals:i = 125 Total = 176\n",
      "DEBUG:Chemicals:i = 125 Total = 177\n",
      "DEBUG:Chemicals:i = 125 Total = 178\n",
      "DEBUG:Chemicals:i = 150 Total = 210\n",
      "DEBUG:Chemicals:i = 175 Total = 241\n",
      "DEBUG:Chemicals:i = 200 Total = 275\n",
      "DEBUG:Chemicals:i = 225 Total = 305\n",
      "DEBUG:Chemicals:i = 250 Total = 335\n",
      "DEBUG:Chemicals:i = 275 Total = 364\n",
      "DEBUG:Chemicals:i = 275 Total = 365\n",
      "DEBUG:Chemicals:i = 300 Total = 395\n",
      "DEBUG:Chemicals:i = 300 Total = 396\n",
      "DEBUG:Chemicals:i = 325 Total = 425\n",
      "DEBUG:Chemicals:i = 350 Total = 460\n",
      "DEBUG:Chemicals:i = 375 Total = 494\n",
      "DEBUG:Chemicals:i = 400 Total = 533\n",
      "DEBUG:Chemicals:i = 425 Total = 562\n",
      "DEBUG:Chemicals:i = 450 Total = 596\n",
      "DEBUG:Chemicals:i = 475 Total = 633\n",
      "DEBUG:Chemicals:i = 500 Total = 664\n",
      "DEBUG:Chemicals:i = 525 Total = 695\n",
      "DEBUG:Chemicals:i = 550 Total = 730\n",
      "DEBUG:Chemicals:i = 575 Total = 761\n",
      "DEBUG:Chemicals:i = 600 Total = 792\n",
      "DEBUG:Chemicals:i = 625 Total = 821\n",
      "DEBUG:Chemicals:i = 650 Total = 854\n",
      "DEBUG:Chemicals:i = 675 Total = 881\n",
      "DEBUG:Chemicals:i = 700 Total = 915\n",
      "DEBUG:Chemicals:i = 700 Total = 916\n",
      "DEBUG:Chemicals:i = 725 Total = 950\n",
      "DEBUG:Chemicals:i = 750 Total = 978\n",
      "DEBUG:Chemicals:i = 775 Total = 1008\n",
      "DEBUG:Chemicals:i = 800 Total = 1039\n",
      "DEBUG:Chemicals:i = 825 Total = 1069\n",
      "DEBUG:Chemicals:i = 850 Total = 1099\n",
      "DEBUG:Chemicals:i = 850 Total = 1100\n",
      "DEBUG:Chemicals:i = 850 Total = 1101\n",
      "DEBUG:Chemicals:i = 875 Total = 1138\n",
      "DEBUG:Chemicals:i = 875 Total = 1139\n",
      "DEBUG:Chemicals:i = 900 Total = 1170\n",
      "DEBUG:Chemicals:i = 900 Total = 1171\n",
      "DEBUG:Chemicals:i = 925 Total = 1207\n",
      "DEBUG:Chemicals:i = 950 Total = 1240\n",
      "DEBUG:Chemicals:i = 975 Total = 1273\n",
      "DEBUG:Chemicals:i = 975 Total = 1274\n",
      "DEBUG:Chemicals:i = 1000 Total = 1305\n"
     ]
    }
   ],
   "source": [
    "min_ms1_intensity = 2E5\n",
    "min_rt = 3*60\n",
    "max_rt = 21*60\n",
    "sampled_chemicals = chemicals.sample(min_rt, max_rt, min_ms1_intensity, 1000, 2, 'Unknown', 'Empirical', None, False, hmdb)"
   ]
  },
  {
   "cell_type": "code",
   "execution_count": 11,
   "metadata": {
    "scrolled": true
   },
   "outputs": [
    {
     "name": "stdout",
     "output_type": "stream",
     "text": [
      "UnknownChemical mz=306.9911 rt=477.50 max_intensity=389234.74\n",
      "[297355.75      315220.46875   389230.125     346175.25\n",
      " 370486.4375    273809.09375   203863.203125  103894.9921875]\n"
     ]
    },
    {
     "data": {
      "image/png": "[encoded data removed]",
      "text/plain": [
       "<Figure size 432x288 with 2 Axes>"
      ]
     },
     "metadata": {
      "needs_background": "light"
     },
     "output_type": "display_data"
    },
    {
     "name": "stdout",
     "output_type": "stream",
     "text": [
      "UnknownChemical mz=131.7710 rt=1015.21 max_intensity=434151.15\n",
      "[109101.578125   85034.359375  434178.1875    393113.125\n",
      " 259579.390625  353381.21875   376930.625     120930.2890625\n",
      " 197707.21875  ]\n"
     ]
    },
    {
     "data": {
      "image/png": "[encoded data removed]",
      "text/plain": [
       "<Figure size 432x288 with 2 Axes>"
      ]
     },
     "metadata": {
      "needs_background": "light"
     },
     "output_type": "display_data"
    },
    {
     "name": "stdout",
     "output_type": "stream",
     "text": [
      "UnknownChemical mz=365.5668 rt=1246.95 max_intensity=1864522.74\n",
      "[ 471450.9375   501568.46875  813146.4375  1168022.      1330905.75\n",
      " 1262392.125   1643077.875   1864358.25    1786332.     ]\n"
     ]
    },
    {
     "data": {
      "image/png": "[encoded data removed]",
      "text/plain": [
       "<Figure size 432x288 with 2 Axes>"
      ]
     },
     "metadata": {
      "needs_background": "light"
     },
     "output_type": "display_data"
    },
    {
     "name": "stdout",
     "output_type": "stream",
     "text": [
      "UnknownChemical mz=223.7067 rt=891.73 max_intensity=3544595.89\n",
      "[2671088.5  2569656.5  3224523.5  3545627.5  2871099.   3101478.5\n",
      " 3303396.75 2917891.75 2906245.   2925812.   2785037.5 ]\n"
     ]
    },
    {
     "data": {
      "image/png": "[encoded data removed]",
      "text/plain": [
       "<Figure size 432x288 with 2 Axes>"
      ]
     },
     "metadata": {
      "needs_background": "light"
     },
     "output_type": "display_data"
    },
    {
     "name": "stdout",
     "output_type": "stream",
     "text": [
      "UnknownChemical mz=285.6769 rt=1072.88 max_intensity=338490.58\n",
      "[ 64487.02734375 162844.6875     338465.         332467.65625\n",
      " 268457.625      273624.125      307697.3125     310221.09375\n",
      "  93033.1875     111953.4140625 ]\n"
     ]
    },
    {
     "data": {
      "image/png": "[encoded data removed]",
      "text/plain": [
       "<Figure size 432x288 with 2 Axes>"
      ]
     },
     "metadata": {
      "needs_background": "light"
     },
     "output_type": "display_data"
    },
    {
     "name": "stdout",
     "output_type": "stream",
     "text": [
      "UnknownChemical mz=308.8821 rt=687.79 max_intensity=3732149.60\n",
      "[2139186.75 2174454.   2730868.75 3055490.75 3594275.75 3440752.75\n",
      " 3730567.   3249399.75 3190579.25 3223846.   3173904.   2625311.25\n",
      " 2759183.  ]\n"
     ]
    },
    {
     "data": {
      "image/png": "[encoded data removed]",
      "text/plain": [
       "<Figure size 432x288 with 2 Axes>"
      ]
     },
     "metadata": {
      "needs_background": "light"
     },
     "output_type": "display_data"
    },
    {
     "name": "stdout",
     "output_type": "stream",
     "text": [
      "UnknownChemical mz=305.6809 rt=550.65 max_intensity=2560558.06\n",
      "[ 932453.125  1021001.625  1039516.1875 1148772.625  1172557.875\n",
      " 1820573.875  2269526.75   2208270.25   2247651.75   2560831.\n",
      " 2548652.25   2302725.     2362178.75  ]\n"
     ]
    },
    {
     "data": {
      "image/png": "[encoded data removed]",
      "text/plain": [
       "<Figure size 432x288 with 2 Axes>"
      ]
     },
     "metadata": {
      "needs_background": "light"
     },
     "output_type": "display_data"
    },
    {
     "name": "stdout",
     "output_type": "stream",
     "text": [
      "UnknownChemical mz=409.8380 rt=991.35 max_intensity=234604.33\n",
      "[ 75355.7890625 140357.890625  220103.03125   204306.484375\n",
      " 234612.96875   204604.609375  192757.328125  107857.140625\n",
      "  69245.2421875 102058.1171875]\n"
     ]
    },
    {
     "data": {
      "image/png": "[encoded data removed]",
      "text/plain": [
       "<Figure size 432x288 with 2 Axes>"
      ]
     },
     "metadata": {
      "needs_background": "light"
     },
     "output_type": "display_data"
    },
    {
     "name": "stdout",
     "output_type": "stream",
     "text": [
      "UnknownChemical mz=267.5640 rt=893.20 max_intensity=1092722.42\n",
      "[ 200565.46875   231374.171875  267160.90625   673806.6875\n",
      " 1092564.5      1078888.      ]\n"
     ]
    },
    {
     "data": {
      "image/png": "[encoded data removed]",
      "text/plain": [
       "<Figure size 432x288 with 2 Axes>"
      ]
     },
     "metadata": {
      "needs_background": "light"
     },
     "output_type": "display_data"
    },
    {
     "name": "stdout",
     "output_type": "stream",
     "text": [
      "UnknownChemical mz=140.4116 rt=916.66 max_intensity=351347.75\n",
      "[195209.5        178171.609375   175626.578125   138502.734375\n",
      " 158424.046875   161185.265625   184847.875      191707.28125\n",
      " 176282.28125    267957.75       237828.359375   216300.453125\n",
      " 252442.296875   163901.828125   222055.625      233937.9375\n",
      " 224022.796875   235318.15625    177538.8125     159582.78125\n",
      " 210668.046875   288057.375      301351.03125    328536.3125\n",
      " 253808.375      279863.21875    306720.28125    301389.65625\n",
      " 261149.40625    253409.125      243052.84375    273729.4375\n",
      " 288279.0625     351311.90625    278280.         133891.21875\n",
      "  66426.484375    75234.625       42058.9921875   43063.46484375\n",
      "  58197.734375    89107.140625    87466.9453125  164977.953125\n",
      " 169320.         102154.59375    137366.171875    93777.3828125\n",
      " 124030.546875  ]\n"
     ]
    },
    {
     "data": {
      "image/png": "[encoded data removed]",
      "text/plain": [
       "<Figure size 432x288 with 2 Axes>"
      ]
     },
     "metadata": {
      "needs_background": "light"
     },
     "output_type": "display_data"
    }
   ],
   "source": [
    "def plot_chromatogram(chrom):\n",
    "    f, axarr = plt.subplots(2, sharex=True)\n",
    "    axarr[0].plot(chrom.rts, chrom.intensities)\n",
    "    axarr[0].set_title('Chromatogram')\n",
    "    axarr[0].set_ylabel('intensity')\n",
    "    axarr[1].scatter(chrom.rts, chrom.mzs)\n",
    "    axarr[1].set_ylabel('mz')\n",
    "    axarr[1].set_xlabel('RT')    \n",
    "    plt.show()\n",
    "\n",
    "for chem in sampled_chemicals[0:10]:\n",
    "    print(chem)\n",
    "    print(chem.chromatogram.raw_intensities)\n",
    "    plot_chromatogram(chem.chromatogram)"
   ]
  },
  {
   "cell_type": "markdown",
   "metadata": {},
   "source": [
    "### Set up a simple MS1 controller"
   ]
  },
  {
   "cell_type": "code",
   "execution_count": 24,
   "metadata": {},
   "outputs": [],
   "source": [
    "max_rt = 200"
   ]
  },
  {
   "cell_type": "code",
   "execution_count": 25,
   "metadata": {
    "scrolled": true
   },
   "outputs": [
    {
     "name": "stderr",
     "output_type": "stream",
     "text": [
      "INFO:SimpleMs1Controller:Acquisition open\n",
      "INFO:SimpleMs1Controller:Received Scan 1416 num_peaks=1 rt=181.68 ms_level=1\n",
      "INFO:SimpleMs1Controller:Received Scan 1417 num_peaks=1 rt=181.73 ms_level=1\n",
      "INFO:SimpleMs1Controller:Received Scan 1418 num_peaks=1 rt=181.79 ms_level=1\n",
      "INFO:SimpleMs1Controller:Received Scan 1419 num_peaks=1 rt=181.87 ms_level=1\n",
      "INFO:SimpleMs1Controller:Received Scan 1420 num_peaks=1 rt=181.94 ms_level=1\n",
      "INFO:SimpleMs1Controller:Received Scan 1421 num_peaks=1 rt=182.01 ms_level=1\n",
      "INFO:SimpleMs1Controller:Received Scan 1422 num_peaks=1 rt=182.34 ms_level=1\n",
      "INFO:SimpleMs1Controller:Received Scan 1423 num_peaks=1 rt=182.45 ms_level=1\n",
      "INFO:SimpleMs1Controller:Received Scan 1424 num_peaks=1 rt=182.54 ms_level=1\n",
      "INFO:SimpleMs1Controller:Received Scan 1425 num_peaks=1 rt=182.70 ms_level=1\n",
      "INFO:SimpleMs1Controller:Received Scan 1426 num_peaks=1 rt=182.87 ms_level=1\n",
      "INFO:SimpleMs1Controller:Received Scan 1427 num_peaks=1 rt=183.04 ms_level=1\n",
      "INFO:SimpleMs1Controller:Received Scan 1428 num_peaks=1 rt=183.12 ms_level=1\n",
      "INFO:SimpleMs1Controller:Received Scan 1429 num_peaks=3 rt=183.50 ms_level=1\n",
      "INFO:SimpleMs1Controller:Received Scan 1430 num_peaks=3 rt=183.57 ms_level=1\n",
      "INFO:SimpleMs1Controller:Received Scan 1431 num_peaks=3 rt=183.94 ms_level=1\n",
      "INFO:SimpleMs1Controller:Received Scan 1432 num_peaks=3 rt=184.00 ms_level=1\n",
      "INFO:SimpleMs1Controller:Received Scan 1433 num_peaks=4 rt=184.16 ms_level=1\n",
      "INFO:SimpleMs1Controller:Received Scan 1434 num_peaks=5 rt=184.52 ms_level=1\n",
      "INFO:SimpleMs1Controller:Received Scan 1435 num_peaks=5 rt=184.68 ms_level=1\n",
      "INFO:SimpleMs1Controller:Received Scan 1436 num_peaks=5 rt=184.80 ms_level=1\n",
      "INFO:SimpleMs1Controller:Received Scan 1437 num_peaks=5 rt=184.89 ms_level=1\n",
      "INFO:SimpleMs1Controller:Received Scan 1438 num_peaks=5 rt=185.02 ms_level=1\n",
      "INFO:SimpleMs1Controller:Received Scan 1439 num_peaks=5 rt=185.15 ms_level=1\n",
      "INFO:SimpleMs1Controller:Received Scan 1440 num_peaks=5 rt=185.35 ms_level=1\n",
      "INFO:SimpleMs1Controller:Received Scan 1441 num_peaks=5 rt=185.72 ms_level=1\n",
      "INFO:SimpleMs1Controller:Received Scan 1442 num_peaks=5 rt=185.79 ms_level=1\n",
      "INFO:SimpleMs1Controller:Received Scan 1443 num_peaks=5 rt=185.86 ms_level=1\n",
      "INFO:SimpleMs1Controller:Received Scan 1444 num_peaks=5 rt=185.92 ms_level=1\n",
      "INFO:SimpleMs1Controller:Received Scan 1445 num_peaks=6 rt=186.26 ms_level=1\n",
      "INFO:SimpleMs1Controller:Received Scan 1446 num_peaks=6 rt=186.39 ms_level=1\n",
      "INFO:SimpleMs1Controller:Received Scan 1447 num_peaks=6 rt=186.46 ms_level=1\n",
      "INFO:SimpleMs1Controller:Received Scan 1448 num_peaks=6 rt=186.55 ms_level=1\n",
      "INFO:SimpleMs1Controller:Received Scan 1449 num_peaks=6 rt=186.63 ms_level=1\n",
      "INFO:SimpleMs1Controller:Received Scan 1450 num_peaks=6 rt=186.79 ms_level=1\n",
      "INFO:SimpleMs1Controller:Received Scan 1451 num_peaks=6 rt=186.95 ms_level=1\n",
      "INFO:SimpleMs1Controller:Received Scan 1452 num_peaks=6 rt=187.03 ms_level=1\n",
      "INFO:SimpleMs1Controller:Received Scan 1453 num_peaks=7 rt=187.37 ms_level=1\n",
      "INFO:SimpleMs1Controller:Received Scan 1454 num_peaks=7 rt=187.45 ms_level=1\n",
      "INFO:SimpleMs1Controller:Received Scan 1455 num_peaks=7 rt=187.52 ms_level=1\n",
      "INFO:SimpleMs1Controller:Received Scan 1456 num_peaks=7 rt=187.59 ms_level=1\n",
      "INFO:SimpleMs1Controller:Received Scan 1457 num_peaks=7 rt=187.78 ms_level=1\n",
      "INFO:SimpleMs1Controller:Received Scan 1458 num_peaks=7 rt=187.90 ms_level=1\n",
      "INFO:SimpleMs1Controller:Received Scan 1459 num_peaks=7 rt=188.23 ms_level=1\n",
      "INFO:SimpleMs1Controller:Received Scan 1460 num_peaks=7 rt=188.29 ms_level=1\n",
      "INFO:SimpleMs1Controller:Received Scan 1461 num_peaks=8 rt=188.38 ms_level=1\n",
      "INFO:SimpleMs1Controller:Received Scan 1462 num_peaks=8 rt=188.44 ms_level=1\n",
      "INFO:SimpleMs1Controller:Received Scan 1463 num_peaks=8 rt=188.50 ms_level=1\n",
      "INFO:SimpleMs1Controller:Received Scan 1464 num_peaks=8 rt=188.62 ms_level=1\n",
      "INFO:SimpleMs1Controller:Received Scan 1465 num_peaks=8 rt=188.69 ms_level=1\n",
      "INFO:SimpleMs1Controller:Received Scan 1466 num_peaks=9 rt=188.80 ms_level=1\n",
      "INFO:SimpleMs1Controller:Received Scan 1467 num_peaks=9 rt=189.17 ms_level=1\n",
      "INFO:SimpleMs1Controller:Received Scan 1468 num_peaks=9 rt=189.34 ms_level=1\n",
      "INFO:SimpleMs1Controller:Received Scan 1469 num_peaks=9 rt=189.50 ms_level=1\n",
      "INFO:SimpleMs1Controller:Received Scan 1470 num_peaks=9 rt=189.59 ms_level=1\n",
      "INFO:SimpleMs1Controller:Received Scan 1471 num_peaks=9 rt=189.67 ms_level=1\n",
      "INFO:SimpleMs1Controller:Received Scan 1472 num_peaks=9 rt=189.74 ms_level=1\n",
      "INFO:SimpleMs1Controller:Received Scan 1473 num_peaks=9 rt=189.79 ms_level=1\n",
      "INFO:SimpleMs1Controller:Received Scan 1474 num_peaks=9 rt=189.85 ms_level=1\n",
      "INFO:SimpleMs1Controller:Received Scan 1475 num_peaks=9 rt=189.92 ms_level=1\n",
      "INFO:SimpleMs1Controller:Received Scan 1476 num_peaks=9 rt=190.00 ms_level=1\n",
      "INFO:SimpleMs1Controller:Received Scan 1477 num_peaks=9 rt=190.14 ms_level=1\n",
      "INFO:SimpleMs1Controller:Received Scan 1478 num_peaks=9 rt=190.23 ms_level=1\n",
      "INFO:SimpleMs1Controller:Received Scan 1479 num_peaks=9 rt=190.32 ms_level=1\n",
      "INFO:SimpleMs1Controller:Received Scan 1480 num_peaks=9 rt=190.37 ms_level=1\n",
      "INFO:SimpleMs1Controller:Received Scan 1481 num_peaks=9 rt=190.45 ms_level=1\n",
      "INFO:SimpleMs1Controller:Received Scan 1482 num_peaks=9 rt=190.63 ms_level=1\n",
      "INFO:SimpleMs1Controller:Received Scan 1483 num_peaks=9 rt=190.77 ms_level=1\n",
      "INFO:SimpleMs1Controller:Received Scan 1484 num_peaks=9 rt=190.85 ms_level=1\n",
      "INFO:SimpleMs1Controller:Received Scan 1485 num_peaks=9 rt=190.91 ms_level=1\n",
      "INFO:SimpleMs1Controller:Received Scan 1486 num_peaks=9 rt=190.97 ms_level=1\n",
      "INFO:SimpleMs1Controller:Received Scan 1487 num_peaks=9 rt=191.04 ms_level=1\n",
      "INFO:SimpleMs1Controller:Received Scan 1488 num_peaks=9 rt=191.11 ms_level=1\n",
      "INFO:SimpleMs1Controller:Received Scan 1489 num_peaks=9 rt=191.20 ms_level=1\n",
      "INFO:SimpleMs1Controller:Received Scan 1490 num_peaks=9 rt=191.26 ms_level=1\n",
      "INFO:SimpleMs1Controller:Received Scan 1491 num_peaks=9 rt=191.33 ms_level=1\n",
      "INFO:SimpleMs1Controller:Received Scan 1492 num_peaks=9 rt=191.47 ms_level=1\n",
      "INFO:SimpleMs1Controller:Received Scan 1493 num_peaks=9 rt=191.54 ms_level=1\n",
      "INFO:SimpleMs1Controller:Received Scan 1494 num_peaks=9 rt=191.67 ms_level=1\n",
      "INFO:SimpleMs1Controller:Received Scan 1495 num_peaks=9 rt=191.75 ms_level=1\n",
      "INFO:SimpleMs1Controller:Received Scan 1496 num_peaks=10 rt=191.90 ms_level=1\n",
      "INFO:SimpleMs1Controller:Received Scan 1497 num_peaks=10 rt=192.07 ms_level=1\n",
      "INFO:SimpleMs1Controller:Received Scan 1498 num_peaks=10 rt=192.12 ms_level=1\n",
      "INFO:SimpleMs1Controller:Received Scan 1499 num_peaks=10 rt=192.48 ms_level=1\n",
      "INFO:SimpleMs1Controller:Received Scan 1500 num_peaks=10 rt=192.54 ms_level=1\n",
      "INFO:SimpleMs1Controller:Received Scan 1501 num_peaks=10 rt=192.62 ms_level=1\n",
      "INFO:SimpleMs1Controller:Received Scan 1502 num_peaks=10 rt=192.69 ms_level=1\n",
      "INFO:SimpleMs1Controller:Received Scan 1503 num_peaks=11 rt=193.03 ms_level=1\n",
      "INFO:SimpleMs1Controller:Received Scan 1504 num_peaks=11 rt=193.21 ms_level=1\n",
      "INFO:SimpleMs1Controller:Received Scan 1505 num_peaks=11 rt=193.29 ms_level=1\n",
      "INFO:SimpleMs1Controller:Received Scan 1506 num_peaks=10 rt=193.45 ms_level=1\n",
      "INFO:SimpleMs1Controller:Received Scan 1507 num_peaks=10 rt=193.53 ms_level=1\n",
      "INFO:SimpleMs1Controller:Received Scan 1508 num_peaks=9 rt=193.60 ms_level=1\n",
      "INFO:SimpleMs1Controller:Received Scan 1509 num_peaks=9 rt=193.67 ms_level=1\n",
      "INFO:SimpleMs1Controller:Received Scan 1510 num_peaks=9 rt=193.75 ms_level=1\n",
      "INFO:SimpleMs1Controller:Received Scan 1511 num_peaks=9 rt=193.83 ms_level=1\n",
      "INFO:SimpleMs1Controller:Received Scan 1512 num_peaks=9 rt=193.98 ms_level=1\n",
      "INFO:SimpleMs1Controller:Received Scan 1513 num_peaks=9 rt=194.15 ms_level=1\n",
      "INFO:SimpleMs1Controller:Received Scan 1514 num_peaks=9 rt=194.33 ms_level=1\n",
      "INFO:SimpleMs1Controller:Received Scan 1515 num_peaks=9 rt=194.38 ms_level=1\n",
      "INFO:SimpleMs1Controller:Received Scan 1516 num_peaks=8 rt=194.51 ms_level=1\n",
      "INFO:SimpleMs1Controller:Received Scan 1517 num_peaks=8 rt=194.84 ms_level=1\n",
      "INFO:SimpleMs1Controller:Received Scan 1518 num_peaks=8 rt=195.04 ms_level=1\n",
      "INFO:SimpleMs1Controller:Received Scan 1519 num_peaks=8 rt=195.09 ms_level=1\n",
      "INFO:SimpleMs1Controller:Received Scan 1520 num_peaks=8 rt=195.21 ms_level=1\n",
      "INFO:SimpleMs1Controller:Received Scan 1521 num_peaks=8 rt=195.28 ms_level=1\n"
     ]
    },
    {
     "name": "stderr",
     "output_type": "stream",
     "text": [
      "INFO:SimpleMs1Controller:Received Scan 1522 num_peaks=8 rt=195.44 ms_level=1\n",
      "INFO:SimpleMs1Controller:Received Scan 1523 num_peaks=8 rt=195.56 ms_level=1\n",
      "INFO:SimpleMs1Controller:Received Scan 1524 num_peaks=7 rt=195.64 ms_level=1\n",
      "INFO:SimpleMs1Controller:Received Scan 1525 num_peaks=7 rt=195.71 ms_level=1\n",
      "INFO:SimpleMs1Controller:Received Scan 1526 num_peaks=7 rt=195.80 ms_level=1\n",
      "INFO:SimpleMs1Controller:Received Scan 1527 num_peaks=7 rt=195.97 ms_level=1\n",
      "INFO:SimpleMs1Controller:Received Scan 1528 num_peaks=7 rt=196.04 ms_level=1\n",
      "INFO:SimpleMs1Controller:Received Scan 1529 num_peaks=7 rt=196.11 ms_level=1\n",
      "INFO:SimpleMs1Controller:Received Scan 1530 num_peaks=7 rt=196.18 ms_level=1\n",
      "INFO:SimpleMs1Controller:Received Scan 1531 num_peaks=8 rt=196.24 ms_level=1\n",
      "INFO:SimpleMs1Controller:Received Scan 1532 num_peaks=8 rt=196.32 ms_level=1\n",
      "INFO:SimpleMs1Controller:Received Scan 1533 num_peaks=8 rt=196.41 ms_level=1\n",
      "INFO:SimpleMs1Controller:Received Scan 1534 num_peaks=8 rt=196.78 ms_level=1\n",
      "INFO:SimpleMs1Controller:Received Scan 1535 num_peaks=8 rt=196.86 ms_level=1\n",
      "INFO:SimpleMs1Controller:Received Scan 1536 num_peaks=9 rt=197.24 ms_level=1\n",
      "INFO:SimpleMs1Controller:Received Scan 1537 num_peaks=9 rt=197.32 ms_level=1\n",
      "INFO:SimpleMs1Controller:Received Scan 1538 num_peaks=9 rt=197.44 ms_level=1\n",
      "INFO:SimpleMs1Controller:Received Scan 1539 num_peaks=9 rt=197.52 ms_level=1\n",
      "INFO:SimpleMs1Controller:Received Scan 1540 num_peaks=9 rt=197.70 ms_level=1\n",
      "INFO:SimpleMs1Controller:Received Scan 1541 num_peaks=9 rt=197.88 ms_level=1\n",
      "INFO:SimpleMs1Controller:Received Scan 1542 num_peaks=10 rt=197.96 ms_level=1\n",
      "INFO:SimpleMs1Controller:Received Scan 1543 num_peaks=10 rt=198.13 ms_level=1\n",
      "INFO:SimpleMs1Controller:Received Scan 1544 num_peaks=9 rt=198.40 ms_level=1\n",
      "INFO:SimpleMs1Controller:Received Scan 1545 num_peaks=8 rt=198.76 ms_level=1\n",
      "INFO:SimpleMs1Controller:Received Scan 1546 num_peaks=8 rt=198.88 ms_level=1\n",
      "INFO:SimpleMs1Controller:Received Scan 1547 num_peaks=9 rt=198.97 ms_level=1\n",
      "INFO:SimpleMs1Controller:Received Scan 1548 num_peaks=9 rt=199.33 ms_level=1\n",
      "INFO:SimpleMs1Controller:Received Scan 1549 num_peaks=10 rt=199.70 ms_level=1\n",
      "INFO:SimpleMs1Controller:Received Scan 1550 num_peaks=10 rt=199.75 ms_level=1\n",
      "INFO:SimpleMs1Controller:Received Scan 1551 num_peaks=10 rt=199.91 ms_level=1\n",
      "INFO:SimpleMs1Controller:Acquisition closing\n"
     ]
    }
   ],
   "source": [
    "mass_spec = IndependentMassSpectrometer(POSITIVE, sampled_chemicals, density=ps.density_estimator)\n",
    "controller = SimpleMs1Controller(mass_spec)\n",
    "\n",
    "set_log_level_info()\n",
    "controller.make_plot = False\n",
    "\n",
    "# set_log_level_debug()\n",
    "# controller.make_plot = True\n",
    "\n",
    "controller.run(max_rt)"
   ]
  },
  {
   "cell_type": "code",
   "execution_count": 26,
   "metadata": {},
   "outputs": [],
   "source": [
    "controller.write_mzML('my_analysis', '../models/out.mzML')"
   ]
  },
  {
   "cell_type": "markdown",
   "metadata": {},
   "source": [
    "### Set up a Top-N controller"
   ]
  },
  {
   "cell_type": "code",
   "execution_count": 27,
   "metadata": {},
   "outputs": [],
   "source": [
    "max_rt = 200                    # the maximum retention time of scans to generate\n",
    "N = 5                           # top-5 DDA fragmentation\n",
    "mz_tol = 5                      # the mz isolation window around a selected precursor ion\n",
    "rt_tol = 15                     # the rt window around a selected precursor ion to prevent it from fragmented multiple times\n",
    "min_ms2_intensity = 5000        # the minimum ms2 peak intensity"
   ]
  },
  {
   "cell_type": "code",
   "execution_count": 28,
   "metadata": {
    "scrolled": true
   },
   "outputs": [
    {
     "name": "stderr",
     "output_type": "stream",
     "text": [
      "INFO:TopNController:Acquisition open\n",
      "INFO:TopNController:Received Scan 1429 num_peaks=1 rt=181.73 ms_level=1\n",
      "INFO:TopNController:Received Scan 1430 num_peaks=10 rt=181.79 ms_level=2\n",
      "INFO:TopNController:Received Scan 1431 num_peaks=1 rt=181.94 ms_level=1\n",
      "INFO:TopNController:Received Scan 1432 num_peaks=1 rt=182.01 ms_level=1\n",
      "INFO:TopNController:Received Scan 1433 num_peaks=1 rt=182.08 ms_level=1\n",
      "INFO:TopNController:Received Scan 1434 num_peaks=1 rt=182.16 ms_level=1\n",
      "INFO:TopNController:Received Scan 1435 num_peaks=1 rt=182.22 ms_level=1\n",
      "INFO:TopNController:Received Scan 1436 num_peaks=1 rt=182.29 ms_level=1\n",
      "INFO:TopNController:Received Scan 1437 num_peaks=1 rt=182.61 ms_level=1\n",
      "INFO:TopNController:Received Scan 1438 num_peaks=1 rt=182.69 ms_level=1\n",
      "INFO:TopNController:Received Scan 1439 num_peaks=1 rt=182.85 ms_level=1\n",
      "INFO:TopNController:Received Scan 1440 num_peaks=1 rt=182.92 ms_level=1\n",
      "INFO:TopNController:Received Scan 1441 num_peaks=1 rt=183.09 ms_level=1\n",
      "INFO:TopNController:Received Scan 1442 num_peaks=2 rt=183.20 ms_level=1\n",
      "INFO:TopNController:Received Scan 1443 num_peaks=10 rt=183.53 ms_level=2\n",
      "INFO:TopNController:Received Scan 1444 num_peaks=3 rt=183.66 ms_level=1\n",
      "INFO:TopNController:Received Scan 1445 num_peaks=10 rt=183.73 ms_level=2\n",
      "INFO:TopNController:Received Scan 1446 num_peaks=3 rt=183.89 ms_level=1\n",
      "INFO:TopNController:Received Scan 1447 num_peaks=3 rt=183.98 ms_level=1\n",
      "INFO:TopNController:Received Scan 1448 num_peaks=3 rt=184.04 ms_level=1\n",
      "INFO:TopNController:Received Scan 1449 num_peaks=4 rt=184.18 ms_level=1\n",
      "INFO:TopNController:Received Scan 1450 num_peaks=10 rt=184.30 ms_level=2\n",
      "INFO:TopNController:Received Scan 1451 num_peaks=5 rt=184.42 ms_level=1\n",
      "INFO:TopNController:Received Scan 1452 num_peaks=10 rt=184.79 ms_level=2\n",
      "INFO:TopNController:Received Scan 1453 num_peaks=5 rt=184.92 ms_level=1\n",
      "INFO:TopNController:Received Scan 1454 num_peaks=5 rt=184.98 ms_level=1\n",
      "INFO:TopNController:Received Scan 1455 num_peaks=5 rt=185.04 ms_level=1\n",
      "INFO:TopNController:Received Scan 1456 num_peaks=5 rt=185.21 ms_level=1\n",
      "INFO:TopNController:Received Scan 1457 num_peaks=5 rt=185.30 ms_level=1\n",
      "INFO:TopNController:Received Scan 1458 num_peaks=5 rt=185.38 ms_level=1\n",
      "INFO:TopNController:Received Scan 1459 num_peaks=5 rt=185.57 ms_level=1\n",
      "INFO:TopNController:Received Scan 1460 num_peaks=5 rt=185.65 ms_level=1\n",
      "INFO:TopNController:Received Scan 1461 num_peaks=5 rt=185.80 ms_level=1\n",
      "INFO:TopNController:Received Scan 1462 num_peaks=5 rt=185.86 ms_level=1\n",
      "INFO:TopNController:Received Scan 1463 num_peaks=5 rt=185.99 ms_level=1\n",
      "INFO:TopNController:Received Scan 1464 num_peaks=5 rt=186.16 ms_level=1\n",
      "INFO:TopNController:Received Scan 1465 num_peaks=6 rt=186.28 ms_level=1\n",
      "INFO:TopNController:Received Scan 1466 num_peaks=10 rt=186.35 ms_level=2\n",
      "INFO:TopNController:Received Scan 1467 num_peaks=6 rt=186.64 ms_level=1\n",
      "INFO:TopNController:Received Scan 1468 num_peaks=6 rt=186.77 ms_level=1\n",
      "INFO:TopNController:Received Scan 1469 num_peaks=6 rt=186.82 ms_level=1\n",
      "INFO:TopNController:Received Scan 1470 num_peaks=6 rt=186.88 ms_level=1\n",
      "INFO:TopNController:Received Scan 1471 num_peaks=6 rt=186.95 ms_level=1\n",
      "INFO:TopNController:Received Scan 1472 num_peaks=6 rt=187.03 ms_level=1\n",
      "INFO:TopNController:Received Scan 1473 num_peaks=6 rt=187.11 ms_level=1\n",
      "INFO:TopNController:Received Scan 1474 num_peaks=7 rt=187.25 ms_level=1\n",
      "INFO:TopNController:Received Scan 1475 num_peaks=7 rt=187.33 ms_level=1\n",
      "INFO:TopNController:Received Scan 1476 num_peaks=7 rt=187.49 ms_level=1\n",
      "INFO:TopNController:Received Scan 1477 num_peaks=7 rt=187.66 ms_level=1\n",
      "INFO:TopNController:Received Scan 1478 num_peaks=7 rt=187.81 ms_level=1\n",
      "INFO:TopNController:Received Scan 1479 num_peaks=7 rt=187.87 ms_level=1\n",
      "INFO:TopNController:Received Scan 1480 num_peaks=7 rt=187.94 ms_level=1\n",
      "INFO:TopNController:Received Scan 1481 num_peaks=7 rt=188.09 ms_level=1\n",
      "INFO:TopNController:Received Scan 1482 num_peaks=7 rt=188.21 ms_level=1\n",
      "INFO:TopNController:Received Scan 1483 num_peaks=8 rt=188.48 ms_level=1\n",
      "INFO:TopNController:Received Scan 1484 num_peaks=8 rt=188.62 ms_level=1\n",
      "INFO:TopNController:Received Scan 1485 num_peaks=9 rt=188.94 ms_level=1\n",
      "INFO:TopNController:Received Scan 1486 num_peaks=10 rt=189.01 ms_level=2\n",
      "INFO:TopNController:Received Scan 1487 num_peaks=9 rt=189.11 ms_level=1\n",
      "INFO:TopNController:Received Scan 1488 num_peaks=9 rt=189.23 ms_level=1\n",
      "INFO:TopNController:Received Scan 1489 num_peaks=9 rt=189.35 ms_level=1\n",
      "INFO:TopNController:Received Scan 1490 num_peaks=9 rt=189.50 ms_level=1\n",
      "INFO:TopNController:Received Scan 1491 num_peaks=10 rt=189.57 ms_level=2\n",
      "INFO:TopNController:Received Scan 1492 num_peaks=9 rt=189.71 ms_level=1\n",
      "INFO:TopNController:Received Scan 1493 num_peaks=9 rt=189.85 ms_level=1\n",
      "INFO:TopNController:Received Scan 1494 num_peaks=9 rt=189.91 ms_level=1\n",
      "INFO:TopNController:Received Scan 1495 num_peaks=9 rt=189.99 ms_level=1\n",
      "INFO:TopNController:Received Scan 1496 num_peaks=9 rt=190.08 ms_level=1\n",
      "INFO:TopNController:Received Scan 1497 num_peaks=9 rt=190.16 ms_level=1\n",
      "INFO:TopNController:Received Scan 1498 num_peaks=9 rt=190.25 ms_level=1\n",
      "INFO:TopNController:Received Scan 1499 num_peaks=9 rt=190.35 ms_level=1\n",
      "INFO:TopNController:Received Scan 1500 num_peaks=9 rt=190.47 ms_level=1\n",
      "INFO:TopNController:Received Scan 1501 num_peaks=9 rt=190.58 ms_level=1\n",
      "INFO:TopNController:Received Scan 1502 num_peaks=9 rt=190.76 ms_level=1\n",
      "INFO:TopNController:Received Scan 1503 num_peaks=9 rt=190.89 ms_level=1\n",
      "INFO:TopNController:Received Scan 1504 num_peaks=9 rt=190.96 ms_level=1\n",
      "INFO:TopNController:Received Scan 1505 num_peaks=9 rt=191.24 ms_level=1\n",
      "INFO:TopNController:Received Scan 1506 num_peaks=9 rt=191.30 ms_level=1\n",
      "INFO:TopNController:Received Scan 1507 num_peaks=9 rt=191.48 ms_level=1\n",
      "INFO:TopNController:Received Scan 1508 num_peaks=9 rt=191.56 ms_level=1\n",
      "INFO:TopNController:Received Scan 1509 num_peaks=9 rt=191.63 ms_level=1\n",
      "INFO:TopNController:Received Scan 1510 num_peaks=10 rt=191.81 ms_level=1\n",
      "INFO:TopNController:Received Scan 1511 num_peaks=10 rt=191.87 ms_level=1\n",
      "INFO:TopNController:Received Scan 1512 num_peaks=10 rt=191.94 ms_level=1\n",
      "INFO:TopNController:Received Scan 1513 num_peaks=10 rt=192.28 ms_level=1\n",
      "INFO:TopNController:Received Scan 1514 num_peaks=10 rt=192.36 ms_level=1\n",
      "INFO:TopNController:Received Scan 1515 num_peaks=10 rt=192.67 ms_level=1\n",
      "INFO:TopNController:Received Scan 1516 num_peaks=11 rt=193.00 ms_level=1\n",
      "INFO:TopNController:Received Scan 1517 num_peaks=11 rt=193.08 ms_level=1\n",
      "INFO:TopNController:Received Scan 1518 num_peaks=11 rt=193.22 ms_level=1\n",
      "INFO:TopNController:Received Scan 1519 num_peaks=10 rt=193.33 ms_level=2\n",
      "INFO:TopNController:Received Scan 1520 num_peaks=9 rt=193.64 ms_level=1\n",
      "INFO:TopNController:Received Scan 1521 num_peaks=9 rt=193.72 ms_level=1\n",
      "INFO:TopNController:Received Scan 1522 num_peaks=9 rt=193.85 ms_level=1\n",
      "INFO:TopNController:Received Scan 1523 num_peaks=9 rt=194.04 ms_level=1\n",
      "INFO:TopNController:Received Scan 1524 num_peaks=9 rt=194.11 ms_level=1\n",
      "INFO:TopNController:Received Scan 1525 num_peaks=9 rt=194.27 ms_level=1\n",
      "INFO:TopNController:Received Scan 1526 num_peaks=8 rt=194.61 ms_level=1\n",
      "INFO:TopNController:Received Scan 1527 num_peaks=8 rt=194.87 ms_level=1\n",
      "INFO:TopNController:Received Scan 1528 num_peaks=8 rt=195.05 ms_level=1\n",
      "INFO:TopNController:Received Scan 1529 num_peaks=8 rt=195.22 ms_level=1\n",
      "INFO:TopNController:Received Scan 1530 num_peaks=8 rt=195.30 ms_level=1\n",
      "INFO:TopNController:Received Scan 1531 num_peaks=8 rt=195.62 ms_level=1\n",
      "INFO:TopNController:Received Scan 1532 num_peaks=7 rt=195.71 ms_level=1\n",
      "INFO:TopNController:Received Scan 1533 num_peaks=7 rt=195.88 ms_level=1\n",
      "INFO:TopNController:Received Scan 1534 num_peaks=7 rt=195.94 ms_level=1\n",
      "INFO:TopNController:Received Scan 1535 num_peaks=7 rt=196.00 ms_level=1\n",
      "INFO:TopNController:Received Scan 1536 num_peaks=7 rt=196.17 ms_level=1\n",
      "INFO:TopNController:Received Scan 1537 num_peaks=8 rt=196.36 ms_level=1\n",
      "INFO:TopNController:Received Scan 1538 num_peaks=10 rt=196.52 ms_level=2\n",
      "INFO:TopNController:Received Scan 1539 num_peaks=8 rt=196.79 ms_level=1\n",
      "INFO:TopNController:Received Scan 1540 num_peaks=9 rt=196.95 ms_level=1\n",
      "INFO:TopNController:Received Scan 1541 num_peaks=9 rt=197.14 ms_level=1\n",
      "INFO:TopNController:Received Scan 1542 num_peaks=9 rt=197.22 ms_level=1\n"
     ]
    },
    {
     "name": "stderr",
     "output_type": "stream",
     "text": [
      "INFO:TopNController:Received Scan 1543 num_peaks=9 rt=197.39 ms_level=1\n",
      "INFO:TopNController:Received Scan 1544 num_peaks=9 rt=197.74 ms_level=1\n",
      "INFO:TopNController:Received Scan 1545 num_peaks=9 rt=197.80 ms_level=1\n",
      "INFO:TopNController:Received Scan 1546 num_peaks=10 rt=198.17 ms_level=1\n",
      "INFO:TopNController:Received Scan 1547 num_peaks=10 rt=198.25 ms_level=2\n",
      "INFO:TopNController:Received Scan 1548 num_peaks=9 rt=198.39 ms_level=1\n",
      "INFO:TopNController:Received Scan 1549 num_peaks=9 rt=198.46 ms_level=1\n",
      "INFO:TopNController:Received Scan 1550 num_peaks=9 rt=198.56 ms_level=1\n",
      "INFO:TopNController:Received Scan 1551 num_peaks=8 rt=198.73 ms_level=1\n",
      "INFO:TopNController:Received Scan 1552 num_peaks=10 rt=198.90 ms_level=2\n",
      "INFO:TopNController:Received Scan 1553 num_peaks=9 rt=199.18 ms_level=1\n",
      "INFO:TopNController:Received Scan 1554 num_peaks=10 rt=199.24 ms_level=2\n",
      "INFO:TopNController:Received Scan 1555 num_peaks=9 rt=199.38 ms_level=1\n",
      "INFO:TopNController:Received Scan 1556 num_peaks=10 rt=199.54 ms_level=1\n",
      "INFO:TopNController:Received Scan 1557 num_peaks=10 rt=199.73 ms_level=1\n",
      "INFO:TopNController:Received Scan 1558 num_peaks=10 rt=199.80 ms_level=1\n",
      "INFO:TopNController:Received Scan 1559 num_peaks=10 rt=199.88 ms_level=1\n",
      "INFO:TopNController:Acquisition closing\n"
     ]
    }
   ],
   "source": [
    "mass_spec = IndependentMassSpectrometer(POSITIVE, sampled_chemicals, density=ps.density_estimator)\n",
    "controller = TopNController(mass_spec, N, mz_tol, rt_tol, min_ms2_intensity=min_ms2_intensity)\n",
    "\n",
    "set_log_level_info()\n",
    "controller.make_plot = False\n",
    "\n",
    "# set_log_level_debug()\n",
    "# controller.make_plot = True\n",
    "\n",
    "controller.run(max_rt)"
   ]
  },
  {
   "cell_type": "code",
   "execution_count": 29,
   "metadata": {},
   "outputs": [],
   "source": [
    "controller.write_mzML('my_analysis', '../models/out.mzML')"
   ]
  },
  {
   "cell_type": "markdown",
   "metadata": {},
   "source": [
    "### Set up a DIA controller"
   ]
  },
  {
   "cell_type": "code",
   "execution_count": 30,
   "metadata": {},
   "outputs": [],
   "source": [
    "max_rt = 200\n",
    "dia_design = \"basic\"\n",
    "window_type = \"even\"\n",
    "kaufmann_design = None\n",
    "extra_bins = 0\n",
    "num_windows = 10"
   ]
  },
  {
   "cell_type": "code",
   "execution_count": 31,
   "metadata": {},
   "outputs": [
    {
     "name": "stderr",
     "output_type": "stream",
     "text": [
      "INFO:TreeController:Acquisition open\n",
      "INFO:TreeController:Received MS1 scan Scan 1408 num_peaks=1 rt=181.68 ms_level=1\n",
      "INFO:TreeController:Received MS2 scan Scan 1411 num_peaks=10 rt=182.32 ms_level=2\n",
      "INFO:TreeController:Received MS1 scan Scan 1419 num_peaks=3 rt=183.84 ms_level=1\n",
      "INFO:TreeController:Received MS2 scan Scan 1421 num_peaks=10 rt=184.24 ms_level=2\n",
      "INFO:TreeController:Received MS2 scan Scan 1422 num_peaks=20 rt=184.37 ms_level=2\n",
      "INFO:TreeController:Received MS2 scan Scan 1423 num_peaks=20 rt=184.46 ms_level=2\n",
      "INFO:TreeController:Received MS1 scan Scan 1430 num_peaks=5 rt=185.70 ms_level=1\n",
      "INFO:TreeController:Received MS2 scan Scan 1432 num_peaks=10 rt=186.14 ms_level=2\n",
      "INFO:TreeController:Received MS2 scan Scan 1433 num_peaks=20 rt=186.21 ms_level=2\n",
      "INFO:TreeController:Received MS2 scan Scan 1434 num_peaks=20 rt=186.49 ms_level=2\n",
      "INFO:TreeController:Received MS1 scan Scan 1441 num_peaks=7 rt=187.64 ms_level=1\n",
      "INFO:TreeController:Received MS2 scan Scan 1443 num_peaks=30 rt=187.86 ms_level=2\n",
      "INFO:TreeController:Received MS2 scan Scan 1444 num_peaks=20 rt=187.99 ms_level=2\n",
      "INFO:TreeController:Received MS2 scan Scan 1445 num_peaks=20 rt=188.15 ms_level=2\n",
      "INFO:TreeController:Received MS1 scan Scan 1452 num_peaks=9 rt=189.51 ms_level=1\n",
      "INFO:TreeController:Received MS2 scan Scan 1454 num_peaks=30 rt=189.70 ms_level=2\n",
      "INFO:TreeController:Received MS2 scan Scan 1455 num_peaks=30 rt=189.84 ms_level=2\n",
      "INFO:TreeController:Received MS2 scan Scan 1456 num_peaks=20 rt=190.12 ms_level=2\n",
      "INFO:TreeController:Received MS2 scan Scan 1457 num_peaks=10 rt=190.24 ms_level=2\n",
      "INFO:TreeController:Received MS1 scan Scan 1463 num_peaks=9 rt=191.17 ms_level=1\n",
      "INFO:TreeController:Received MS2 scan Scan 1465 num_peaks=30 rt=191.54 ms_level=2\n",
      "INFO:TreeController:Received MS2 scan Scan 1466 num_peaks=30 rt=191.80 ms_level=2\n",
      "INFO:TreeController:Received MS2 scan Scan 1467 num_peaks=20 rt=191.95 ms_level=2\n",
      "INFO:TreeController:Received MS2 scan Scan 1468 num_peaks=10 rt=192.08 ms_level=2\n",
      "INFO:TreeController:Received MS1 scan Scan 1474 num_peaks=11 rt=193.04 ms_level=1\n",
      "INFO:TreeController:Received MS2 scan Scan 1476 num_peaks=30 rt=193.38 ms_level=2\n",
      "INFO:TreeController:Received MS2 scan Scan 1477 num_peaks=30 rt=193.69 ms_level=2\n",
      "INFO:TreeController:Received MS2 scan Scan 1478 num_peaks=20 rt=193.84 ms_level=2\n",
      "INFO:TreeController:Received MS2 scan Scan 1479 num_peaks=10 rt=194.11 ms_level=2\n",
      "INFO:TreeController:Received MS2 scan Scan 1480 num_peaks=10 rt=194.19 ms_level=2\n",
      "INFO:TreeController:Received MS1 scan Scan 1485 num_peaks=8 rt=195.15 ms_level=1\n",
      "INFO:TreeController:Received MS2 scan Scan 1487 num_peaks=20 rt=195.35 ms_level=2\n",
      "INFO:TreeController:Received MS2 scan Scan 1488 num_peaks=20 rt=195.62 ms_level=2\n",
      "INFO:TreeController:Received MS2 scan Scan 1489 num_peaks=20 rt=195.73 ms_level=2\n",
      "INFO:TreeController:Received MS2 scan Scan 1490 num_peaks=10 rt=195.87 ms_level=2\n",
      "INFO:TreeController:Received MS2 scan Scan 1491 num_peaks=10 rt=196.01 ms_level=2\n",
      "INFO:TreeController:Received MS1 scan Scan 1496 num_peaks=9 rt=196.97 ms_level=1\n",
      "INFO:TreeController:Received MS2 scan Scan 1498 num_peaks=30 rt=197.25 ms_level=2\n",
      "INFO:TreeController:Received MS2 scan Scan 1499 num_peaks=10 rt=197.36 ms_level=2\n",
      "INFO:TreeController:Received MS2 scan Scan 1500 num_peaks=20 rt=197.64 ms_level=2\n",
      "INFO:TreeController:Received MS2 scan Scan 1501 num_peaks=10 rt=197.92 ms_level=2\n",
      "INFO:TreeController:Received MS2 scan Scan 1502 num_peaks=20 rt=198.06 ms_level=2\n",
      "INFO:TreeController:Received MS1 scan Scan 1507 num_peaks=9 rt=199.01 ms_level=1\n",
      "INFO:TreeController:Received MS2 scan Scan 1509 num_peaks=40 rt=199.23 ms_level=2\n",
      "INFO:TreeController:Received MS2 scan Scan 1510 num_peaks=10 rt=199.36 ms_level=2\n",
      "INFO:TreeController:Received MS2 scan Scan 1511 num_peaks=10 rt=199.64 ms_level=2\n",
      "INFO:TreeController:Received MS2 scan Scan 1512 num_peaks=10 rt=199.78 ms_level=2\n",
      "INFO:TreeController:Received MS2 scan Scan 1513 num_peaks=20 rt=199.90 ms_level=2\n",
      "INFO:TreeController:Acquisition closing\n"
     ]
    }
   ],
   "source": [
    "mass_spec = IndependentMassSpectrometer(POSITIVE, sampled_chemicals, density=ps.density_estimator)\n",
    "controller = TreeController(mass_spec, dia_design, window_type, kaufmann_design, extra_bins, num_windows)\n",
    "\n",
    "set_log_level_info()\n",
    "controller.make_plot = False\n",
    "\n",
    "# set_log_level_debug()\n",
    "# controller.make_plot = True\n",
    "\n",
    "controller.run(max_rt)"
   ]
  },
  {
   "cell_type": "code",
   "execution_count": 32,
   "metadata": {},
   "outputs": [],
   "source": [
    "controller.write_mzML('my_analysis', '../models/out.mzML')"
   ]
  },
  {
   "cell_type": "code",
   "execution_count": null,
   "metadata": {},
   "outputs": [],
   "source": []
  }
 ],
 "metadata": {
  "kernelspec": {
   "display_name": "Python 3",
   "language": "python",
   "name": "python3"
  },
  "language_info": {
   "codemirror_mode": {
    "name": "ipython",
    "version": 3
   },
   "file_extension": ".py",
   "mimetype": "text/x-python",
   "name": "python",
   "nbconvert_exporter": "python",
   "pygments_lexer": "ipython3",
   "version": "3.6.6"
  }
 },
 "nbformat": 4,
 "nbformat_minor": 1
}
