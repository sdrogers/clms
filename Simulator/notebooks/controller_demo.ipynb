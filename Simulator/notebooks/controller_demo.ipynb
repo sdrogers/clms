{
 "cells": [
  {
   "cell_type": "markdown",
   "metadata": {},
   "source": [
    "### Controller Demo"
   ]
  },
  {
   "cell_type": "code",
   "execution_count": null,
   "metadata": {},
   "outputs": [],
   "source": [
    "%matplotlib inline"
   ]
  },
  {
   "cell_type": "code",
   "execution_count": null,
   "metadata": {},
   "outputs": [],
   "source": [
    "%load_ext autoreload\n",
    "%autoreload 2"
   ]
  },
  {
   "cell_type": "code",
   "execution_count": null,
   "metadata": {},
   "outputs": [],
   "source": [
    "import numpy as np\n",
    "import pandas as pd\n",
    "import sys\n",
    "import scipy.stats\n",
    "import pylab as plt\n",
    "from IPython import display\n",
    "import pylab as plt"
   ]
  },
  {
   "cell_type": "code",
   "execution_count": null,
   "metadata": {},
   "outputs": [],
   "source": [
    "sys.path.append('../codes')"
   ]
  },
  {
   "cell_type": "code",
   "execution_count": null,
   "metadata": {},
   "outputs": [],
   "source": [
    "from VMSfunctions.Chemicals import *\n",
    "from VMSfunctions.Chromatograms import *\n",
    "from VMSfunctions.MassSpec import *\n",
    "from VMSfunctions.Controller import *\n",
    "from VMSfunctions.Common import *\n",
    "from VMSfunctions.DataGenerator import *"
   ]
  },
  {
   "cell_type": "code",
   "execution_count": null,
   "metadata": {},
   "outputs": [],
   "source": [
    "from VMSfunctions.Noise import *"
   ]
  },
  {
   "cell_type": "code",
   "execution_count": null,
   "metadata": {},
   "outputs": [],
   "source": [
    "set_log_level_info()"
   ]
  },
  {
   "cell_type": "markdown",
   "metadata": {},
   "source": [
    "Load densities trained on 19 beer data (see [loader_kde](loader_kde.ipynb))."
   ]
  },
  {
   "cell_type": "code",
   "execution_count": null,
   "metadata": {},
   "outputs": [],
   "source": [
    "base_dir = 'C:\\\\Users\\\\Vinny\\\\OneDrive - University of Glasgow\\\\CLDS Metabolomics Project\\\\'"
   ]
  },
  {
   "cell_type": "code",
   "execution_count": null,
   "metadata": {},
   "outputs": [],
   "source": [
    "base_dir = 'C:\\\\Users\\\\joewa\\\\University of Glasgow\\\\Vinny Davies - CLDS Metabolomics Project\\\\'"
   ]
  },
  {
   "cell_type": "code",
   "execution_count": null,
   "metadata": {},
   "outputs": [],
   "source": [
    "ps = load_obj(os.path.join(base_dir, 'Trained Models\\\\peak_sampler_19_beers_fullscan.p'))"
   ]
  },
  {
   "cell_type": "markdown",
   "metadata": {},
   "source": [
    "Load chromatogram data exported from R"
   ]
  },
  {
   "cell_type": "code",
   "execution_count": null,
   "metadata": {},
   "outputs": [],
   "source": [
    "cc = ChromatogramCreator(os.path.join(base_dir, 'Trained Models\\\\chromatogram_19_beers.csv.gz'))"
   ]
  },
  {
   "cell_type": "markdown",
   "metadata": {},
   "source": [
    "### Generate some chemicals"
   ]
  },
  {
   "cell_type": "code",
   "execution_count": null,
   "metadata": {},
   "outputs": [],
   "source": [
    "hmdb = load_obj(os.path.join(base_dir, 'Trained Models\\\\hmdb_compounds.p'))"
   ]
  },
  {
   "cell_type": "code",
   "execution_count": null,
   "metadata": {},
   "outputs": [],
   "source": [
    "min_ms1_intensity = 1.75E5\n",
    "rt_range = [(3*60, 21*60)]\n",
    "mz_range = [(0, 1050)]\n",
    "n_ms1_peaks = 5000\n",
    "\n",
    "# alpha = 0.1\n",
    "# compound_list = hmdb\n",
    "# chemical_type = 'Known'\n",
    "\n",
    "alpha = math.inf\n",
    "compound_list = hmdb\n",
    "chemical_type = 'Unknown'\n",
    "\n",
    "ms_levels = 1\n",
    "chemicals = ChemicalCreator(ps)\n",
    "dataset = chemicals.sample(cc, mz_range, rt_range, min_ms1_intensity, n_ms1_peaks, ms_levels=ms_levels, chemical_type=chemical_type,\n",
    "               formula_list=None, compound_list=compound_list, alpha=alpha, fixed_mz=False)"
   ]
  },
  {
   "cell_type": "code",
   "execution_count": null,
   "metadata": {
    "scrolled": true
   },
   "outputs": [],
   "source": [
    "def plot_chromatogram(chrom):\n",
    "    f, axarr = plt.subplots(2, sharex=True)\n",
    "    axarr[0].plot(chrom.rts, chrom.intensities)\n",
    "    axarr[0].set_title('Chromatogram')\n",
    "    axarr[0].set_ylabel('intensity')\n",
    "    axarr[1].scatter(chrom.rts, chrom.mzs)\n",
    "    axarr[1].set_ylabel('mz')\n",
    "    axarr[1].set_xlabel('RT')    \n",
    "    plt.show()\n",
    "\n",
    "for chem in dataset[0:10]:\n",
    "    print(chem)\n",
    "    print(chem.chromatogram.raw_intensities)\n",
    "    plot_chromatogram(chem.chromatogram)"
   ]
  },
  {
   "cell_type": "code",
   "execution_count": null,
   "metadata": {},
   "outputs": [],
   "source": [
    "type(dataset[0])"
   ]
  },
  {
   "cell_type": "markdown",
   "metadata": {},
   "source": [
    "### Set up a simple MS1 controller"
   ]
  },
  {
   "cell_type": "code",
   "execution_count": null,
   "metadata": {},
   "outputs": [],
   "source": [
    "set_log_level_warning() # We don't want to see too many messages as the controller is running"
   ]
  },
  {
   "cell_type": "code",
   "execution_count": null,
   "metadata": {
    "scrolled": true
   },
   "outputs": [],
   "source": [
    "mass_spec = IndependentMassSpectrometer(POSITIVE, dataset, density=ps.density_estimator)\n",
    "controller = SimpleMs1Controller(mass_spec)\n",
    "controller.make_plot = False\n",
    "controller.run(rt_range[0][0], rt_range[0][1])"
   ]
  },
  {
   "cell_type": "code",
   "execution_count": null,
   "metadata": {},
   "outputs": [],
   "source": [
    "controller.write_mzML('my_analysis', os.path.join(base_dir, 'Manuscript\\\\B. CentWave\\\\mzML\\\\no_noise_ms1_controller.mzML'))\n",
    "# run R script"
   ]
  },
  {
   "cell_type": "code",
   "execution_count": null,
   "metadata": {},
   "outputs": [],
   "source": [
    "save_obj(controller, os.path.join(base_dir, 'Manuscript\\\\B. CentWave\\\\no_noise_ms1_controller.p'))"
   ]
  },
  {
   "cell_type": "markdown",
   "metadata": {},
   "source": [
    "### With Noise"
   ]
  },
  {
   "cell_type": "code",
   "execution_count": null,
   "metadata": {},
   "outputs": [],
   "source": [
    "set_log_level_debug()"
   ]
  },
  {
   "cell_type": "code",
   "execution_count": null,
   "metadata": {},
   "outputs": [],
   "source": [
    "mzml_path = base_dir + 'Data\\\\multibeers_urine_data\\\\beers\\\\fullscan\\\\'\n",
    "xcms_roi_file = mzml_path + 'rois.csv'\n",
    "extracted_roi_file = base_dir + 'Trained Models\\\\rois_19_beers.p'"
   ]
  },
  {
   "cell_type": "code",
   "execution_count": null,
   "metadata": {},
   "outputs": [],
   "source": [
    "ds = DataSource()\n",
    "ds.load_data(mzml_path)\n",
    "ds.load_roi(extracted_roi_file)"
   ]
  },
  {
   "cell_type": "code",
   "execution_count": null,
   "metadata": {},
   "outputs": [],
   "source": [
    "rtcc = RoiToChemicalCreator(ps, ds)"
   ]
  },
  {
   "cell_type": "code",
   "execution_count": null,
   "metadata": {},
   "outputs": [],
   "source": [
    "len(rtcc.chemicals)"
   ]
  },
  {
   "cell_type": "code",
   "execution_count": null,
   "metadata": {},
   "outputs": [],
   "source": [
    "def plot_chems(chem_list, N=10):\n",
    "    for c in chem_list[0:N]:\n",
    "        chrom = c.chromatogram\n",
    "        plt.plot(chrom.raw_rts, chrom.raw_intensities)\n",
    "        plt.show()"
   ]
  },
  {
   "cell_type": "code",
   "execution_count": null,
   "metadata": {},
   "outputs": [],
   "source": [
    "sorted_chems = sorted(rtcc.chemicals, key = lambda chem: chem.chromatogram.roi.num_scans())"
   ]
  },
  {
   "cell_type": "code",
   "execution_count": null,
   "metadata": {},
   "outputs": [],
   "source": [
    "plot_chems(sorted_chems[0:10])"
   ]
  },
  {
   "cell_type": "code",
   "execution_count": null,
   "metadata": {},
   "outputs": [],
   "source": [
    "plot_chems(sorted_chems[-10:])"
   ]
  },
  {
   "cell_type": "code",
   "execution_count": null,
   "metadata": {},
   "outputs": [],
   "source": [
    "biggest = sorted_chems[-100000:]"
   ]
  },
  {
   "cell_type": "code",
   "execution_count": null,
   "metadata": {},
   "outputs": [],
   "source": [
    "selected = np.random.choice(sorted_chems, size=20000, replace=False).tolist()"
   ]
  },
  {
   "cell_type": "markdown",
   "metadata": {},
   "source": [
    "#### Add non-peaks regions of interest to the data"
   ]
  },
  {
   "cell_type": "code",
   "execution_count": null,
   "metadata": {},
   "outputs": [],
   "source": [
    "for chem in dataset:\n",
    "    chem.type = 'data'\n",
    "for noise in selected:\n",
    "    noise.type = 'noise'"
   ]
  },
  {
   "cell_type": "code",
   "execution_count": null,
   "metadata": {},
   "outputs": [],
   "source": [
    "noisy_dataset = dataset + selected"
   ]
  },
  {
   "cell_type": "code",
   "execution_count": null,
   "metadata": {},
   "outputs": [],
   "source": [
    "# shuffle(noisy_dataset)"
   ]
  },
  {
   "cell_type": "code",
   "execution_count": null,
   "metadata": {},
   "outputs": [],
   "source": [
    "len(dataset)"
   ]
  },
  {
   "cell_type": "code",
   "execution_count": null,
   "metadata": {},
   "outputs": [],
   "source": [
    "len(noisy_dataset)"
   ]
  },
  {
   "cell_type": "markdown",
   "metadata": {},
   "source": [
    "#### Set up a simple MS1 controller"
   ]
  },
  {
   "cell_type": "code",
   "execution_count": null,
   "metadata": {},
   "outputs": [],
   "source": [
    "set_log_level_warning() # We don't want to see too many messages as the controller is running"
   ]
  },
  {
   "cell_type": "code",
   "execution_count": null,
   "metadata": {
    "scrolled": true
   },
   "outputs": [],
   "source": [
    "mass_spec = IndependentMassSpectrometer(POSITIVE, noisy_dataset, density=ps.density_estimator)\n",
    "controller = SimpleMs1Controller(mass_spec)\n",
    "controller.make_plot = False\n",
    "controller.run(rt_range[0][0], rt_range[0][1])"
   ]
  },
  {
   "cell_type": "code",
   "execution_count": null,
   "metadata": {},
   "outputs": [],
   "source": [
    "all_peaks = []\n",
    "for chem in controller.mass_spec.chemicals_to_peaks:\n",
    "    all_peaks.extend(controller.mass_spec.chemicals_to_peaks[chem])\n",
    "mzs = np.array([p.mz for p in all_peaks])\n",
    "rts = np.array([p.rt for p in all_peaks])\n",
    "intensities = np.array([p.intensity for p in all_peaks])\n",
    "scans = controller.scans[1]\n",
    "scan_times = [scan.rt for scan in scans]\n",
    "scan_durations = [j-i for i, j in zip(scan_times[:-1], scan_times[1:])] # https://stackoverflow.com/questions/2400840/finding-differences-between-elements-of-a-list"
   ]
  },
  {
   "cell_type": "code",
   "execution_count": null,
   "metadata": {},
   "outputs": [],
   "source": [
    "_ = plt.boxplot(mzs)\n",
    "plt.title('mzs')\n",
    "plt.show()\n",
    "\n",
    "_ = plt.boxplot(rts)\n",
    "plt.title('rts')\n",
    "plt.show()\n",
    "\n",
    "_ = plt.boxplot(np.log(intensities))\n",
    "plt.title('intensities')\n",
    "plt.show()\n",
    "\n",
    "_ = plt.boxplot(scan_durations)\n",
    "plt.title('scan_durations')\n",
    "plt.show()"
   ]
  },
  {
   "cell_type": "code",
   "execution_count": null,
   "metadata": {},
   "outputs": [],
   "source": [
    "np.median(rts)"
   ]
  },
  {
   "cell_type": "code",
   "execution_count": null,
   "metadata": {},
   "outputs": [],
   "source": [
    "np.min(np.log(intensities)), np.max(np.log(intensities))"
   ]
  },
  {
   "cell_type": "markdown",
   "metadata": {},
   "source": [
    "Save to mzML file"
   ]
  },
  {
   "cell_type": "code",
   "execution_count": null,
   "metadata": {},
   "outputs": [],
   "source": [
    "controller.write_mzML('my_analysis', os.path.join(base_dir, 'Manuscript\\\\B. CentWave\\\\mzML\\\\noisy_ms1_controller.mzML'))\n",
    "# run R script"
   ]
  },
  {
   "cell_type": "code",
   "execution_count": null,
   "metadata": {},
   "outputs": [],
   "source": [
    "save_obj(controller, os.path.join(base_dir, 'Manuscript\\\\B. CentWave\\\\noisy_ms1_controller.p'))"
   ]
  },
  {
   "cell_type": "markdown",
   "metadata": {},
   "source": [
    "### Set up a Top-N controller"
   ]
  },
  {
   "cell_type": "markdown",
   "metadata": {},
   "source": [
    "We can run the dataset through a top-N DDA controller"
   ]
  },
  {
   "cell_type": "code",
   "execution_count": null,
   "metadata": {},
   "outputs": [],
   "source": [
    "# set_log_level_warning()\n",
    "# set_log_level_info()\n",
    "set_log_level_debug()"
   ]
  },
  {
   "cell_type": "code",
   "execution_count": null,
   "metadata": {},
   "outputs": [],
   "source": [
    "ps = load_obj(os.path.join(base_dir, 'Trained Models\\\\peak_sampler_19_beers_fragmentation.p'))"
   ]
  },
  {
   "cell_type": "code",
   "execution_count": null,
   "metadata": {},
   "outputs": [],
   "source": [
    "min_ms1_intensity = 1.75E5\n",
    "rt_range = [(3*60, 21*60)]\n",
    "mz_range = [(0, 1050)]\n",
    "n_ms1_peaks = 1000\n",
    "\n",
    "# alpha = 0.1\n",
    "# compound_list = hmdb\n",
    "# chemical_type = 'Known'\n",
    "\n",
    "alpha = math.inf\n",
    "compound_list = None\n",
    "chemical_type = 'Unknown'\n",
    "ms_levels = 2\n",
    "\n",
    "chemicals = ChemicalCreator(ps)\n",
    "dataset = chemicals.sample(cc, mz_range, rt_range, min_ms1_intensity, n_ms1_peaks, ms_levels=ms_levels, \n",
    "                           chemical_type=chemical_type, formula_list=None, compound_list=compound_list, alpha=alpha, fixed_mz=False)"
   ]
  },
  {
   "cell_type": "code",
   "execution_count": null,
   "metadata": {},
   "outputs": [],
   "source": [
    "N = 10                          # top-5 DDA fragmentation\n",
    "isolation_window = 1            # the mz isolation window (Dalton) around a selected precursor ion\n",
    "mz_tol = 10                     # the mz tolerance for dynamic exclusion\n",
    "rt_tol = 15                     # the rt window for dynamic exclusion\n",
    "min_ms1_intensity = 1.75E5      # the minimum ms1 peak intensity to be fragmented"
   ]
  },
  {
   "cell_type": "code",
   "execution_count": null,
   "metadata": {
    "scrolled": true
   },
   "outputs": [],
   "source": [
    "mass_spec = IndependentMassSpectrometer(POSITIVE, dataset, density=ps.density_estimator)\n",
    "controller = TopNController(mass_spec, N, mz_tol, rt_tol, min_ms1_intensity)\n",
    "controller.make_plot = False\n",
    "\n",
    "set_log_level_warning()\n",
    "# set_log_level_info()\n",
    "# set_log_level_debug()\n",
    "\n",
    "controller.run(rt_range[0][0], rt_range[0][1])"
   ]
  },
  {
   "cell_type": "code",
   "execution_count": null,
   "metadata": {},
   "outputs": [],
   "source": [
    "controller.write_mzML('my_analysis', os.path.join(base_dir, 'Manuscript\\\\B. CentWave\\\\no_noise_top_N_controller.mzML'))"
   ]
  }
 ],
 "metadata": {
  "kernelspec": {
   "display_name": "Python 3",
   "language": "python",
   "name": "python3"
  },
  "language_info": {
   "codemirror_mode": {
    "name": "ipython",
    "version": 3
   },
   "file_extension": ".py",
   "mimetype": "text/x-python",
   "name": "python",
   "nbconvert_exporter": "python",
   "pygments_lexer": "ipython3",
   "version": "3.6.6"
  }
 },
 "nbformat": 4,
 "nbformat_minor": 1
}
