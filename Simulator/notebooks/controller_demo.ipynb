{
 "cells": [
  {
   "cell_type": "code",
   "execution_count": 1,
   "metadata": {},
   "outputs": [],
   "source": [
    "import numpy as np\n",
    "import pandas as pd\n",
    "import sys\n",
    "import scipy.stats"
   ]
  },
  {
   "cell_type": "code",
   "execution_count": 2,
   "metadata": {},
   "outputs": [],
   "source": [
    "%load_ext autoreload\n",
    "%autoreload 2"
   ]
  },
  {
   "cell_type": "code",
   "execution_count": 3,
   "metadata": {},
   "outputs": [],
   "source": [
    "sys.path.append('../codes')"
   ]
  },
  {
   "cell_type": "code",
   "execution_count": 4,
   "metadata": {},
   "outputs": [],
   "source": [
    "from VMSfunctions.model import *\n",
    "from VMSfunctions.Common import *"
   ]
  },
  {
   "cell_type": "markdown",
   "metadata": {},
   "source": [
    "### Generates Empirical Data"
   ]
  },
  {
   "cell_type": "markdown",
   "metadata": {},
   "source": [
    "Creates a liquid chromatography column, with `UnknownChemical` populated from the data.\n",
    "\n",
    "Here we assume that each `EmpiricalChromatogram` corresponds to one `UnknownChemical`. "
   ]
  },
  {
   "cell_type": "code",
   "execution_count": 5,
   "metadata": {},
   "outputs": [
    {
     "name": "stdout",
     "output_type": "stream",
     "text": [
      "0\n"
     ]
    },
    {
     "name": "stderr",
     "output_type": "stream",
     "text": [
      "../codes\\VMSfunctions\\Common.py:49: RuntimeWarning: divide by zero encountered in double_scalars\n",
      "  area += ((intensities[rt_index] + intensities[rt_index + 1]) / 2) / (rts[rt_index + 1] - rts[rt_index])\n"
     ]
    },
    {
     "name": "stdout",
     "output_type": "stream",
     "text": [
      "5000\n",
      "10000\n",
      "15000\n",
      "20000\n",
      "25000\n",
      "30000\n",
      "35000\n",
      "40000\n",
      "45000\n",
      "50000\n",
      "55000\n",
      "57320 <class 'VMSfunctions.model.UnknownChemical'>\n",
      "57320 <class 'VMSfunctions.model.EmpiricalChromatogram'>\n"
     ]
    }
   ],
   "source": [
    "column = Column('LC', data_file='../models/beer_ms1_peaks.csv.gz')\n",
    "chemicals = column.chemicals\n",
    "chromatograms = column.get_chromatograms()\n",
    "print(len(chemicals), type(chemicals[0]))\n",
    "print(len(chromatograms), type(chromatograms[0]))"
   ]
  },
  {
   "cell_type": "markdown",
   "metadata": {},
   "source": [
    "Connect the column to mass spec. Define some scan intervals"
   ]
  },
  {
   "cell_type": "code",
   "execution_count": 18,
   "metadata": {},
   "outputs": [
    {
     "name": "stdout",
     "output_type": "stream",
     "text": [
      "[ 1  2  3  4  5  6  7  8  9 10]\n",
      "[1 1 1 1 1 1 1 1 1 1]\n"
     ]
    }
   ],
   "source": [
    "scan_intervals = np.arange(0, 10)+1\n",
    "scan_levels = np.zeros_like(scan_intervals)\n",
    "scan_levels.fill(1)\n",
    "print(scan_intervals)\n",
    "print(scan_levels)"
   ]
  },
  {
   "cell_type": "code",
   "execution_count": 19,
   "metadata": {},
   "outputs": [],
   "source": [
    "mass_spec = IndependentMassSpectrometer(column, scan_intervals, scan_levels)"
   ]
  },
  {
   "cell_type": "code",
   "execution_count": 20,
   "metadata": {},
   "outputs": [
    {
     "name": "stdout",
     "output_type": "stream",
     "text": [
      "Scan 0 -- num_peaks=0 rt=1.00 ms_level=1\n",
      "Scan 1 -- num_peaks=0 rt=2.00 ms_level=1\n",
      "Scan 2 -- num_peaks=0 rt=3.00 ms_level=1\n",
      "Scan 3 -- num_peaks=0 rt=4.00 ms_level=1\n",
      "Scan 4 -- num_peaks=0 rt=5.00 ms_level=1\n",
      "Scan 5 -- num_peaks=0 rt=6.00 ms_level=1\n",
      "Scan 6 -- num_peaks=0 rt=7.00 ms_level=1\n",
      "Scan 7 -- num_peaks=0 rt=8.00 ms_level=1\n",
      "Scan 8 -- num_peaks=0 rt=9.00 ms_level=1\n",
      "Scan 9 -- num_peaks=0 rt=10.00 ms_level=1\n"
     ]
    }
   ],
   "source": [
    "for scan in mass_spec:\n",
    "    print(scan)"
   ]
  },
  {
   "cell_type": "code",
   "execution_count": null,
   "metadata": {},
   "outputs": [],
   "source": []
  },
  {
   "cell_type": "code",
   "execution_count": null,
   "metadata": {},
   "outputs": [],
   "source": [
    "# chrom = FunctionalChromatogram(\"normal\", [0,1])\n",
    "# frag1 = MSN(50,2,0.5)\n",
    "# frag2 = MSN(50,2,0.7)\n",
    "# chem = UnknownChemical(100, 100, 10000, chrom, [frag1, frag2])\n",
    "# frag1.parent = chem\n",
    "# frag2.parent = chem\n",
    "\n",
    "# frag1_1 = MSN(40,3,0.3,None,frag1)\n",
    "# frag1_2 = MSN(40,3,0.5,None,frag1)\n",
    "# frag1.children = [frag1_1, frag1_2]"
   ]
  },
  {
   "cell_type": "markdown",
   "metadata": {},
   "source": [
    "### Generates Synthetic data"
   ]
  },
  {
   "cell_type": "markdown",
   "metadata": {},
   "source": [
    "We want a notebook that does the following:\n",
    "1. create a list of chemical\n",
    "2. create a new mass spec object, takes chemicals\n",
    "3. create a new controller, takes mass spec\n",
    "4. write mzml files"
   ]
  },
  {
   "cell_type": "code",
   "execution_count": null,
   "metadata": {},
   "outputs": [],
   "source": [
    "# chrom = FunctionalChromatogram(\"normal\", [0,1])\n",
    "# formula = Formula(\"hg\",100)\n",
    "# isotopes = Isotopes(formula,[0.8,0.2],[\"Mono\",\"1C13\"])\n",
    "# aducts = Aducts(formula,[\"M+H\",\"M+ACN\"],[0.9,0.1])\n",
    "# chem = KnownChemical(formula,isotopes,aducts,100, 10000, chrom, None)\n",
    "# print(chem.formula)\n",
    "# print(chem.isotopes)\n",
    "# print(chem.aducts)"
   ]
  },
  {
   "cell_type": "code",
   "execution_count": null,
   "metadata": {},
   "outputs": [],
   "source": []
  }
 ],
 "metadata": {
  "kernelspec": {
   "display_name": "Python 3",
   "language": "python",
   "name": "python3"
  },
  "language_info": {
   "codemirror_mode": {
    "name": "ipython",
    "version": 3
   },
   "file_extension": ".py",
   "mimetype": "text/x-python",
   "name": "python",
   "nbconvert_exporter": "python",
   "pygments_lexer": "ipython3",
   "version": "3.6.6"
  }
 },
 "nbformat": 4,
 "nbformat_minor": 1
}
