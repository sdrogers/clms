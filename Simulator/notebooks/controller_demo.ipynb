{
 "cells": [
  {
   "cell_type": "markdown",
   "metadata": {},
   "source": [
    "### Controller Demo"
   ]
  },
  {
   "cell_type": "code",
   "execution_count": 1,
   "metadata": {},
   "outputs": [],
   "source": [
    "%matplotlib inline"
   ]
  },
  {
   "cell_type": "code",
   "execution_count": 2,
   "metadata": {},
   "outputs": [],
   "source": [
    "%load_ext autoreload\n",
    "%autoreload 2"
   ]
  },
  {
   "cell_type": "code",
   "execution_count": 3,
   "metadata": {},
   "outputs": [],
   "source": [
    "import numpy as np\n",
    "import pandas as pd\n",
    "import sys\n",
    "import scipy.stats\n",
    "import pylab as plt\n",
    "from IPython import display\n",
    "import pylab as plt"
   ]
  },
  {
   "cell_type": "code",
   "execution_count": 4,
   "metadata": {},
   "outputs": [],
   "source": [
    "sys.path.append('../codes')"
   ]
  },
  {
   "cell_type": "code",
   "execution_count": 5,
   "metadata": {},
   "outputs": [],
   "source": [
    "from VMSfunctions.Chemicals import *\n",
    "from VMSfunctions.Chromatograms import *\n",
    "from VMSfunctions.MassSpec import *\n",
    "from VMSfunctions.Controller import *\n",
    "from VMSfunctions.Common import *\n",
    "from VMSfunctions.DataGenerator import *"
   ]
  },
  {
   "cell_type": "code",
   "execution_count": 6,
   "metadata": {},
   "outputs": [],
   "source": [
    "# set_log_level_warning()\n",
    "# set_log_level_info()\n",
    "set_log_level_debug()"
   ]
  },
  {
   "cell_type": "markdown",
   "metadata": {},
   "source": [
    "This notebook demonstrates how to do the following:\n",
    "1. Create a list of chemical randomly drawn from HMDB.\n",
    "2. Create a new mass spec object, takes chemicals as input.\n",
    "3. Create a new controller and runs the mass spec.\n",
    "4. Write mzml files."
   ]
  },
  {
   "cell_type": "markdown",
   "metadata": {},
   "source": [
    "Load densities trained on 19 beer data (see [loader_kde](loader_kde.ipynb))."
   ]
  },
  {
   "cell_type": "code",
   "execution_count": 7,
   "metadata": {},
   "outputs": [],
   "source": [
    "base_dir = 'C:\\\\Users\\\\Vinny\\\\OneDrive - University of Glasgow\\\\CLDS Metabolomics Project\\\\'"
   ]
  },
  {
   "cell_type": "code",
   "execution_count": 8,
   "metadata": {},
   "outputs": [],
   "source": [
    "base_dir = 'C:\\\\Users\\\\joewa\\\\University of Glasgow\\\\Vinny Davies - CLDS Metabolomics Project\\\\'"
   ]
  },
  {
   "cell_type": "code",
   "execution_count": 9,
   "metadata": {},
   "outputs": [],
   "source": [
    "ps = load_obj(os.path.join(base_dir, 'Trained Models\\\\peak_sampler_19_beers_fullscan.p'))"
   ]
  },
  {
   "cell_type": "markdown",
   "metadata": {},
   "source": [
    "Load chromatogram data exported from R"
   ]
  },
  {
   "cell_type": "code",
   "execution_count": 10,
   "metadata": {},
   "outputs": [
    {
     "name": "stderr",
     "output_type": "stream",
     "text": [
      "INFO:ChromatogramCreator:Loading 0 chromatograms\n",
      "DEBUG:ChromatogramCreator:Invalid chromatogram 1674\n",
      "DEBUG:ChromatogramCreator:Invalid chromatogram 1778\n",
      "DEBUG:ChromatogramCreator:Invalid chromatogram 1932\n",
      "DEBUG:ChromatogramCreator:Invalid chromatogram 1989\n",
      "DEBUG:ChromatogramCreator:Invalid chromatogram 2052\n",
      "DEBUG:ChromatogramCreator:Invalid chromatogram 2276\n",
      "DEBUG:ChromatogramCreator:Invalid chromatogram 2296\n",
      "DEBUG:ChromatogramCreator:Invalid chromatogram 2424\n",
      "DEBUG:ChromatogramCreator:Invalid chromatogram 2557\n",
      "DEBUG:ChromatogramCreator:Invalid chromatogram 2559\n",
      "DEBUG:ChromatogramCreator:Invalid chromatogram 2586\n",
      "DEBUG:ChromatogramCreator:Invalid chromatogram 2610\n",
      "DEBUG:ChromatogramCreator:Invalid chromatogram 3173\n",
      "DEBUG:ChromatogramCreator:Invalid chromatogram 3208\n",
      "DEBUG:ChromatogramCreator:Invalid chromatogram 3238\n",
      "DEBUG:ChromatogramCreator:Invalid chromatogram 3252\n",
      "DEBUG:ChromatogramCreator:Invalid chromatogram 3484\n",
      "DEBUG:ChromatogramCreator:Invalid chromatogram 3547\n",
      "DEBUG:ChromatogramCreator:Invalid chromatogram 3623\n",
      "DEBUG:ChromatogramCreator:Invalid chromatogram 3771\n",
      "DEBUG:ChromatogramCreator:Invalid chromatogram 3803\n",
      "DEBUG:ChromatogramCreator:Invalid chromatogram 3808\n",
      "DEBUG:ChromatogramCreator:Invalid chromatogram 3819\n",
      "DEBUG:ChromatogramCreator:Invalid chromatogram 3966\n",
      "DEBUG:ChromatogramCreator:Invalid chromatogram 4194\n",
      "DEBUG:ChromatogramCreator:Invalid chromatogram 4378\n",
      "DEBUG:ChromatogramCreator:Invalid chromatogram 4418\n",
      "DEBUG:ChromatogramCreator:Invalid chromatogram 4461\n",
      "DEBUG:ChromatogramCreator:Invalid chromatogram 4610\n",
      "DEBUG:ChromatogramCreator:Invalid chromatogram 4953\n",
      "INFO:ChromatogramCreator:Loading 5000 chromatograms\n",
      "DEBUG:ChromatogramCreator:Invalid chromatogram 5157\n",
      "DEBUG:ChromatogramCreator:Invalid chromatogram 5185\n",
      "DEBUG:ChromatogramCreator:Invalid chromatogram 5206\n",
      "DEBUG:ChromatogramCreator:Invalid chromatogram 5337\n",
      "DEBUG:ChromatogramCreator:Invalid chromatogram 5438\n",
      "DEBUG:ChromatogramCreator:Invalid chromatogram 5651\n",
      "DEBUG:ChromatogramCreator:Invalid chromatogram 5658\n",
      "DEBUG:ChromatogramCreator:Invalid chromatogram 5699\n",
      "DEBUG:ChromatogramCreator:Invalid chromatogram 5905\n",
      "DEBUG:ChromatogramCreator:Invalid chromatogram 6071\n",
      "DEBUG:ChromatogramCreator:Invalid chromatogram 6216\n",
      "DEBUG:ChromatogramCreator:Invalid chromatogram 6632\n",
      "DEBUG:ChromatogramCreator:Invalid chromatogram 6723\n",
      "DEBUG:ChromatogramCreator:Invalid chromatogram 6779\n",
      "DEBUG:ChromatogramCreator:Invalid chromatogram 6866\n",
      "DEBUG:ChromatogramCreator:Invalid chromatogram 7084\n",
      "DEBUG:ChromatogramCreator:Invalid chromatogram 7633\n",
      "DEBUG:ChromatogramCreator:Invalid chromatogram 7696\n",
      "DEBUG:ChromatogramCreator:Invalid chromatogram 7749\n",
      "DEBUG:ChromatogramCreator:Invalid chromatogram 7975\n",
      "DEBUG:ChromatogramCreator:Invalid chromatogram 8011\n",
      "DEBUG:ChromatogramCreator:Invalid chromatogram 8222\n",
      "DEBUG:ChromatogramCreator:Invalid chromatogram 8524\n",
      "DEBUG:ChromatogramCreator:Invalid chromatogram 8572\n",
      "DEBUG:ChromatogramCreator:Invalid chromatogram 8881\n",
      "DEBUG:ChromatogramCreator:Invalid chromatogram 9589\n",
      "DEBUG:ChromatogramCreator:Invalid chromatogram 9615\n",
      "INFO:ChromatogramCreator:Loading 10000 chromatograms\n",
      "DEBUG:ChromatogramCreator:Invalid chromatogram 10646\n",
      "DEBUG:ChromatogramCreator:Invalid chromatogram 10846\n",
      "DEBUG:ChromatogramCreator:Invalid chromatogram 11032\n",
      "DEBUG:ChromatogramCreator:Invalid chromatogram 11249\n",
      "DEBUG:ChromatogramCreator:Invalid chromatogram 11418\n",
      "DEBUG:ChromatogramCreator:Invalid chromatogram 11781\n",
      "DEBUG:ChromatogramCreator:Invalid chromatogram 11839\n",
      "DEBUG:ChromatogramCreator:Invalid chromatogram 12278\n",
      "DEBUG:ChromatogramCreator:Invalid chromatogram 12542\n",
      "DEBUG:ChromatogramCreator:Invalid chromatogram 13032\n",
      "DEBUG:ChromatogramCreator:Invalid chromatogram 13053\n",
      "DEBUG:ChromatogramCreator:Invalid chromatogram 13446\n",
      "DEBUG:ChromatogramCreator:Invalid chromatogram 13665\n",
      "DEBUG:ChromatogramCreator:Invalid chromatogram 14685\n",
      "INFO:ChromatogramCreator:Loading 15000 chromatograms\n",
      "DEBUG:ChromatogramCreator:Invalid chromatogram 15066\n",
      "DEBUG:ChromatogramCreator:Invalid chromatogram 15452\n",
      "DEBUG:ChromatogramCreator:Invalid chromatogram 15600\n",
      "DEBUG:ChromatogramCreator:Invalid chromatogram 15629\n",
      "DEBUG:ChromatogramCreator:Invalid chromatogram 18275\n",
      "DEBUG:ChromatogramCreator:Invalid chromatogram 18324\n",
      "DEBUG:ChromatogramCreator:Invalid chromatogram 18602\n",
      "DEBUG:ChromatogramCreator:Invalid chromatogram 19470\n",
      "DEBUG:ChromatogramCreator:Invalid chromatogram 19591\n",
      "INFO:ChromatogramCreator:Loading 20000 chromatograms\n",
      "DEBUG:ChromatogramCreator:Invalid chromatogram 20316\n",
      "DEBUG:ChromatogramCreator:Invalid chromatogram 20481\n",
      "DEBUG:ChromatogramCreator:Invalid chromatogram 20755\n",
      "DEBUG:ChromatogramCreator:Invalid chromatogram 20804\n",
      "DEBUG:ChromatogramCreator:Invalid chromatogram 20939\n",
      "DEBUG:ChromatogramCreator:Invalid chromatogram 21523\n",
      "DEBUG:ChromatogramCreator:Invalid chromatogram 22184\n",
      "DEBUG:ChromatogramCreator:Invalid chromatogram 22850\n",
      "DEBUG:ChromatogramCreator:Invalid chromatogram 22941\n",
      "DEBUG:ChromatogramCreator:Invalid chromatogram 23363\n",
      "DEBUG:ChromatogramCreator:Invalid chromatogram 23650\n",
      "DEBUG:ChromatogramCreator:Invalid chromatogram 24100\n",
      "DEBUG:ChromatogramCreator:Invalid chromatogram 24437\n",
      "DEBUG:ChromatogramCreator:Invalid chromatogram 24856\n",
      "DEBUG:ChromatogramCreator:Invalid chromatogram 24891\n",
      "INFO:ChromatogramCreator:Loading 25000 chromatograms\n",
      "DEBUG:ChromatogramCreator:Invalid chromatogram 25496\n",
      "DEBUG:ChromatogramCreator:Invalid chromatogram 25871\n",
      "DEBUG:ChromatogramCreator:Invalid chromatogram 26190\n",
      "DEBUG:ChromatogramCreator:Invalid chromatogram 26370\n",
      "DEBUG:ChromatogramCreator:Invalid chromatogram 26415\n",
      "DEBUG:ChromatogramCreator:Invalid chromatogram 26874\n",
      "DEBUG:ChromatogramCreator:Invalid chromatogram 27018\n",
      "DEBUG:ChromatogramCreator:Invalid chromatogram 27021\n",
      "DEBUG:ChromatogramCreator:Invalid chromatogram 27186\n",
      "DEBUG:ChromatogramCreator:Invalid chromatogram 27324\n",
      "DEBUG:ChromatogramCreator:Invalid chromatogram 27892\n",
      "DEBUG:ChromatogramCreator:Invalid chromatogram 28325\n",
      "DEBUG:ChromatogramCreator:Invalid chromatogram 28881\n",
      "DEBUG:ChromatogramCreator:Invalid chromatogram 28998\n",
      "DEBUG:ChromatogramCreator:Invalid chromatogram 29286\n",
      "DEBUG:ChromatogramCreator:Invalid chromatogram 29298\n",
      "DEBUG:ChromatogramCreator:Invalid chromatogram 29520\n",
      "DEBUG:ChromatogramCreator:Invalid chromatogram 29601\n",
      "DEBUG:ChromatogramCreator:Invalid chromatogram 29907\n",
      "INFO:ChromatogramCreator:Loading 30000 chromatograms\n",
      "DEBUG:ChromatogramCreator:Invalid chromatogram 30901\n",
      "DEBUG:ChromatogramCreator:Invalid chromatogram 31206\n",
      "DEBUG:ChromatogramCreator:Invalid chromatogram 31508\n",
      "DEBUG:ChromatogramCreator:Invalid chromatogram 32096\n",
      "DEBUG:ChromatogramCreator:Invalid chromatogram 32286\n",
      "DEBUG:ChromatogramCreator:Invalid chromatogram 33875\n",
      "DEBUG:ChromatogramCreator:Invalid chromatogram 34441\n",
      "DEBUG:ChromatogramCreator:Invalid chromatogram 34804\n",
      "DEBUG:ChromatogramCreator:Invalid chromatogram 34822\n",
      "DEBUG:ChromatogramCreator:Invalid chromatogram 34982\n",
      "INFO:ChromatogramCreator:Loading 35000 chromatograms\n",
      "DEBUG:ChromatogramCreator:Invalid chromatogram 35186\n",
      "DEBUG:ChromatogramCreator:Invalid chromatogram 35466\n",
      "DEBUG:ChromatogramCreator:Invalid chromatogram 36400\n",
      "DEBUG:ChromatogramCreator:Invalid chromatogram 36670\n",
      "DEBUG:ChromatogramCreator:Invalid chromatogram 36793\n",
      "DEBUG:ChromatogramCreator:Invalid chromatogram 36992\n",
      "DEBUG:ChromatogramCreator:Invalid chromatogram 37239\n",
      "DEBUG:ChromatogramCreator:Invalid chromatogram 38301\n",
      "DEBUG:ChromatogramCreator:Invalid chromatogram 38600\n",
      "DEBUG:ChromatogramCreator:Invalid chromatogram 38690\n",
      "DEBUG:ChromatogramCreator:Invalid chromatogram 38869\n",
      "DEBUG:ChromatogramCreator:Invalid chromatogram 38935\n",
      "DEBUG:ChromatogramCreator:Invalid chromatogram 39767\n",
      "DEBUG:ChromatogramCreator:Invalid chromatogram 39975\n",
      "INFO:ChromatogramCreator:Loading 40000 chromatograms\n",
      "DEBUG:ChromatogramCreator:Invalid chromatogram 40515\n",
      "DEBUG:ChromatogramCreator:Invalid chromatogram 40837\n",
      "DEBUG:ChromatogramCreator:Invalid chromatogram 41701\n",
      "DEBUG:ChromatogramCreator:Invalid chromatogram 41844\n",
      "DEBUG:ChromatogramCreator:Invalid chromatogram 42208\n",
      "DEBUG:ChromatogramCreator:Invalid chromatogram 42491\n",
      "DEBUG:ChromatogramCreator:Invalid chromatogram 42981\n",
      "DEBUG:ChromatogramCreator:Invalid chromatogram 43004\n"
     ]
    },
    {
     "name": "stderr",
     "output_type": "stream",
     "text": [
      "DEBUG:ChromatogramCreator:Invalid chromatogram 43082\n",
      "DEBUG:ChromatogramCreator:Invalid chromatogram 43485\n",
      "DEBUG:ChromatogramCreator:Invalid chromatogram 43529\n",
      "DEBUG:ChromatogramCreator:Invalid chromatogram 43936\n",
      "DEBUG:ChromatogramCreator:Invalid chromatogram 43996\n",
      "DEBUG:ChromatogramCreator:Invalid chromatogram 44322\n",
      "DEBUG:ChromatogramCreator:Invalid chromatogram 44788\n",
      "INFO:ChromatogramCreator:Loading 45000 chromatograms\n",
      "DEBUG:ChromatogramCreator:Invalid chromatogram 45111\n",
      "DEBUG:ChromatogramCreator:Invalid chromatogram 45951\n",
      "DEBUG:ChromatogramCreator:Invalid chromatogram 45979\n",
      "DEBUG:ChromatogramCreator:Invalid chromatogram 46300\n",
      "DEBUG:ChromatogramCreator:Invalid chromatogram 46346\n",
      "DEBUG:ChromatogramCreator:Invalid chromatogram 46596\n",
      "DEBUG:ChromatogramCreator:Invalid chromatogram 46609\n",
      "DEBUG:ChromatogramCreator:Invalid chromatogram 46638\n",
      "DEBUG:ChromatogramCreator:Invalid chromatogram 46817\n",
      "DEBUG:ChromatogramCreator:Invalid chromatogram 47544\n",
      "DEBUG:ChromatogramCreator:Invalid chromatogram 47554\n",
      "DEBUG:ChromatogramCreator:Invalid chromatogram 47939\n",
      "DEBUG:ChromatogramCreator:Invalid chromatogram 48030\n",
      "DEBUG:ChromatogramCreator:Invalid chromatogram 48233\n",
      "DEBUG:ChromatogramCreator:Invalid chromatogram 48250\n",
      "DEBUG:ChromatogramCreator:Invalid chromatogram 48787\n",
      "DEBUG:ChromatogramCreator:Invalid chromatogram 48966\n",
      "DEBUG:ChromatogramCreator:Invalid chromatogram 49794\n",
      "INFO:ChromatogramCreator:Loading 50000 chromatograms\n",
      "DEBUG:ChromatogramCreator:Invalid chromatogram 50065\n",
      "DEBUG:ChromatogramCreator:Invalid chromatogram 50216\n",
      "DEBUG:ChromatogramCreator:Invalid chromatogram 50495\n",
      "DEBUG:ChromatogramCreator:Invalid chromatogram 51050\n",
      "DEBUG:ChromatogramCreator:Invalid chromatogram 51116\n",
      "DEBUG:ChromatogramCreator:Invalid chromatogram 51139\n",
      "DEBUG:ChromatogramCreator:Invalid chromatogram 51668\n",
      "DEBUG:ChromatogramCreator:Invalid chromatogram 52460\n",
      "DEBUG:ChromatogramCreator:Invalid chromatogram 52933\n",
      "DEBUG:ChromatogramCreator:Invalid chromatogram 52950\n",
      "DEBUG:ChromatogramCreator:Invalid chromatogram 53253\n",
      "DEBUG:ChromatogramCreator:Invalid chromatogram 53289\n",
      "DEBUG:ChromatogramCreator:Invalid chromatogram 53364\n",
      "DEBUG:ChromatogramCreator:Invalid chromatogram 53530\n",
      "DEBUG:ChromatogramCreator:Invalid chromatogram 53880\n",
      "DEBUG:ChromatogramCreator:Invalid chromatogram 54330\n",
      "DEBUG:ChromatogramCreator:Invalid chromatogram 54842\n",
      "DEBUG:ChromatogramCreator:Invalid chromatogram 54924\n",
      "DEBUG:ChromatogramCreator:Invalid chromatogram 54926\n",
      "DEBUG:ChromatogramCreator:Invalid chromatogram 54949\n",
      "INFO:ChromatogramCreator:Loading 55000 chromatograms\n",
      "DEBUG:ChromatogramCreator:Invalid chromatogram 55086\n",
      "DEBUG:ChromatogramCreator:Invalid chromatogram 55429\n",
      "DEBUG:ChromatogramCreator:Invalid chromatogram 56081\n",
      "DEBUG:ChromatogramCreator:Invalid chromatogram 56342\n",
      "DEBUG:ChromatogramCreator:Invalid chromatogram 56344\n",
      "DEBUG:ChromatogramCreator:Invalid chromatogram 56364\n",
      "DEBUG:ChromatogramCreator:Invalid chromatogram 56526\n",
      "DEBUG:ChromatogramCreator:Invalid chromatogram 57000\n",
      "DEBUG:ChromatogramCreator:Invalid chromatogram 57169\n",
      "DEBUG:ChromatogramCreator:Invalid chromatogram 57192\n",
      "DEBUG:ChromatogramCreator:Invalid chromatogram 57220\n",
      "DEBUG:ChromatogramCreator:Invalid chromatogram 57744\n",
      "DEBUG:ChromatogramCreator:Invalid chromatogram 57855\n",
      "DEBUG:ChromatogramCreator:Invalid chromatogram 57934\n",
      "DEBUG:ChromatogramCreator:Invalid chromatogram 59188\n",
      "DEBUG:ChromatogramCreator:Invalid chromatogram 59462\n",
      "DEBUG:ChromatogramCreator:Invalid chromatogram 59730\n",
      "DEBUG:ChromatogramCreator:Invalid chromatogram 59855\n",
      "INFO:ChromatogramCreator:Loading 60000 chromatograms\n",
      "DEBUG:ChromatogramCreator:Invalid chromatogram 60156\n",
      "DEBUG:ChromatogramCreator:Invalid chromatogram 60255\n",
      "DEBUG:ChromatogramCreator:Invalid chromatogram 60757\n",
      "DEBUG:ChromatogramCreator:Invalid chromatogram 61180\n",
      "DEBUG:ChromatogramCreator:Invalid chromatogram 61244\n",
      "DEBUG:ChromatogramCreator:Invalid chromatogram 61245\n",
      "DEBUG:ChromatogramCreator:Invalid chromatogram 61291\n",
      "DEBUG:ChromatogramCreator:Invalid chromatogram 61356\n",
      "DEBUG:ChromatogramCreator:Invalid chromatogram 61517\n",
      "DEBUG:ChromatogramCreator:Invalid chromatogram 61705\n",
      "DEBUG:ChromatogramCreator:Invalid chromatogram 61849\n",
      "DEBUG:ChromatogramCreator:Invalid chromatogram 62523\n",
      "DEBUG:ChromatogramCreator:Invalid chromatogram 62583\n",
      "DEBUG:ChromatogramCreator:Invalid chromatogram 63322\n",
      "DEBUG:ChromatogramCreator:Invalid chromatogram 63356\n",
      "DEBUG:ChromatogramCreator:Invalid chromatogram 63363\n",
      "DEBUG:ChromatogramCreator:Invalid chromatogram 63590\n",
      "DEBUG:ChromatogramCreator:Invalid chromatogram 63800\n",
      "DEBUG:ChromatogramCreator:Invalid chromatogram 64057\n",
      "DEBUG:ChromatogramCreator:Invalid chromatogram 64679\n",
      "DEBUG:ChromatogramCreator:Invalid chromatogram 64752\n",
      "INFO:ChromatogramCreator:Loading 65000 chromatograms\n",
      "DEBUG:ChromatogramCreator:Invalid chromatogram 65189\n",
      "DEBUG:ChromatogramCreator:Invalid chromatogram 65608\n",
      "DEBUG:ChromatogramCreator:Invalid chromatogram 65861\n",
      "DEBUG:ChromatogramCreator:Invalid chromatogram 65979\n",
      "DEBUG:ChromatogramCreator:Invalid chromatogram 66137\n",
      "DEBUG:ChromatogramCreator:Invalid chromatogram 66424\n",
      "DEBUG:ChromatogramCreator:Invalid chromatogram 66957\n",
      "DEBUG:ChromatogramCreator:Invalid chromatogram 67353\n",
      "DEBUG:ChromatogramCreator:Invalid chromatogram 67707\n",
      "DEBUG:ChromatogramCreator:Invalid chromatogram 67838\n",
      "DEBUG:ChromatogramCreator:Invalid chromatogram 68117\n",
      "DEBUG:ChromatogramCreator:Invalid chromatogram 68514\n",
      "DEBUG:ChromatogramCreator:Invalid chromatogram 68593\n",
      "DEBUG:ChromatogramCreator:Invalid chromatogram 68732\n",
      "DEBUG:ChromatogramCreator:Invalid chromatogram 68742\n",
      "DEBUG:ChromatogramCreator:Invalid chromatogram 68748\n",
      "DEBUG:ChromatogramCreator:Invalid chromatogram 68840\n",
      "DEBUG:ChromatogramCreator:Invalid chromatogram 69406\n",
      "DEBUG:ChromatogramCreator:Invalid chromatogram 69439\n",
      "INFO:ChromatogramCreator:Loading 70000 chromatograms\n",
      "DEBUG:ChromatogramCreator:Invalid chromatogram 70377\n",
      "DEBUG:ChromatogramCreator:Invalid chromatogram 70444\n",
      "DEBUG:ChromatogramCreator:Invalid chromatogram 70494\n",
      "DEBUG:ChromatogramCreator:Invalid chromatogram 70573\n",
      "DEBUG:ChromatogramCreator:Invalid chromatogram 70574\n",
      "DEBUG:ChromatogramCreator:Invalid chromatogram 70780\n",
      "DEBUG:ChromatogramCreator:Invalid chromatogram 70921\n",
      "DEBUG:ChromatogramCreator:Invalid chromatogram 71412\n",
      "DEBUG:ChromatogramCreator:Invalid chromatogram 71437\n",
      "DEBUG:ChromatogramCreator:Invalid chromatogram 71472\n",
      "DEBUG:ChromatogramCreator:Invalid chromatogram 71524\n",
      "DEBUG:ChromatogramCreator:Invalid chromatogram 71682\n",
      "DEBUG:ChromatogramCreator:Invalid chromatogram 71686\n",
      "DEBUG:ChromatogramCreator:Invalid chromatogram 71768\n",
      "DEBUG:ChromatogramCreator:Invalid chromatogram 71782\n",
      "DEBUG:ChromatogramCreator:Invalid chromatogram 71880\n",
      "DEBUG:ChromatogramCreator:Invalid chromatogram 71885\n",
      "DEBUG:ChromatogramCreator:Invalid chromatogram 72410\n",
      "DEBUG:ChromatogramCreator:Invalid chromatogram 72412\n",
      "DEBUG:ChromatogramCreator:Invalid chromatogram 72431\n",
      "DEBUG:ChromatogramCreator:Invalid chromatogram 73004\n",
      "DEBUG:ChromatogramCreator:Invalid chromatogram 73010\n",
      "DEBUG:ChromatogramCreator:Invalid chromatogram 73057\n",
      "DEBUG:ChromatogramCreator:Invalid chromatogram 73072\n",
      "DEBUG:ChromatogramCreator:Invalid chromatogram 73092\n",
      "DEBUG:ChromatogramCreator:Invalid chromatogram 73288\n",
      "DEBUG:ChromatogramCreator:Invalid chromatogram 73527\n",
      "DEBUG:ChromatogramCreator:Invalid chromatogram 73594\n",
      "DEBUG:ChromatogramCreator:Invalid chromatogram 73788\n",
      "DEBUG:ChromatogramCreator:Invalid chromatogram 73852\n",
      "DEBUG:ChromatogramCreator:Invalid chromatogram 74001\n",
      "DEBUG:ChromatogramCreator:Invalid chromatogram 74360\n",
      "DEBUG:ChromatogramCreator:Invalid chromatogram 74377\n",
      "DEBUG:ChromatogramCreator:Invalid chromatogram 74792\n",
      "DEBUG:ChromatogramCreator:Invalid chromatogram 74818\n",
      "DEBUG:ChromatogramCreator:Invalid chromatogram 74962\n",
      "INFO:ChromatogramCreator:Loading 75000 chromatograms\n",
      "DEBUG:ChromatogramCreator:Invalid chromatogram 75085\n",
      "DEBUG:ChromatogramCreator:Invalid chromatogram 75176\n",
      "DEBUG:ChromatogramCreator:Invalid chromatogram 75538\n",
      "DEBUG:ChromatogramCreator:Invalid chromatogram 75860\n",
      "DEBUG:ChromatogramCreator:Invalid chromatogram 75864\n",
      "DEBUG:ChromatogramCreator:Invalid chromatogram 76355\n",
      "DEBUG:ChromatogramCreator:Invalid chromatogram 76511\n",
      "DEBUG:ChromatogramCreator:Invalid chromatogram 77234\n"
     ]
    },
    {
     "name": "stderr",
     "output_type": "stream",
     "text": [
      "DEBUG:ChromatogramCreator:Invalid chromatogram 77285\n",
      "DEBUG:ChromatogramCreator:Invalid chromatogram 77309\n",
      "DEBUG:ChromatogramCreator:Invalid chromatogram 77404\n",
      "DEBUG:ChromatogramCreator:Invalid chromatogram 77551\n",
      "DEBUG:ChromatogramCreator:Invalid chromatogram 77656\n",
      "DEBUG:ChromatogramCreator:Invalid chromatogram 77778\n",
      "DEBUG:ChromatogramCreator:Invalid chromatogram 78411\n",
      "DEBUG:ChromatogramCreator:Invalid chromatogram 78413\n",
      "DEBUG:ChromatogramCreator:Invalid chromatogram 78658\n",
      "DEBUG:ChromatogramCreator:Invalid chromatogram 78754\n",
      "DEBUG:ChromatogramCreator:Invalid chromatogram 78857\n",
      "DEBUG:ChromatogramCreator:Invalid chromatogram 79144\n",
      "DEBUG:ChromatogramCreator:Invalid chromatogram 79169\n",
      "DEBUG:ChromatogramCreator:Invalid chromatogram 79322\n",
      "DEBUG:ChromatogramCreator:Invalid chromatogram 79363\n",
      "INFO:ChromatogramCreator:Loading 80000 chromatograms\n",
      "DEBUG:ChromatogramCreator:Invalid chromatogram 80563\n",
      "DEBUG:ChromatogramCreator:Invalid chromatogram 80695\n",
      "DEBUG:ChromatogramCreator:Invalid chromatogram 80718\n",
      "DEBUG:ChromatogramCreator:Invalid chromatogram 81318\n",
      "DEBUG:ChromatogramCreator:Invalid chromatogram 81407\n",
      "DEBUG:ChromatogramCreator:Invalid chromatogram 81638\n",
      "DEBUG:ChromatogramCreator:Invalid chromatogram 82108\n",
      "DEBUG:ChromatogramCreator:Invalid chromatogram 82318\n",
      "DEBUG:ChromatogramCreator:Invalid chromatogram 82472\n",
      "DEBUG:ChromatogramCreator:Invalid chromatogram 82750\n",
      "DEBUG:ChromatogramCreator:Invalid chromatogram 82873\n",
      "DEBUG:ChromatogramCreator:Invalid chromatogram 82916\n",
      "DEBUG:ChromatogramCreator:Invalid chromatogram 83131\n",
      "DEBUG:ChromatogramCreator:Invalid chromatogram 83867\n",
      "DEBUG:ChromatogramCreator:Invalid chromatogram 83978\n",
      "DEBUG:ChromatogramCreator:Invalid chromatogram 84176\n",
      "DEBUG:ChromatogramCreator:Invalid chromatogram 84254\n",
      "DEBUG:ChromatogramCreator:Invalid chromatogram 84534\n",
      "DEBUG:ChromatogramCreator:Invalid chromatogram 84640\n",
      "DEBUG:ChromatogramCreator:Invalid chromatogram 84716\n",
      "DEBUG:ChromatogramCreator:Invalid chromatogram 84797\n",
      "DEBUG:ChromatogramCreator:Invalid chromatogram 84876\n",
      "DEBUG:ChromatogramCreator:Invalid chromatogram 84891\n",
      "DEBUG:ChromatogramCreator:Invalid chromatogram 84944\n",
      "INFO:ChromatogramCreator:Loading 85000 chromatograms\n",
      "DEBUG:ChromatogramCreator:Invalid chromatogram 85000\n",
      "DEBUG:ChromatogramCreator:Invalid chromatogram 85095\n",
      "DEBUG:ChromatogramCreator:Invalid chromatogram 85390\n",
      "DEBUG:ChromatogramCreator:Invalid chromatogram 85431\n",
      "DEBUG:ChromatogramCreator:Invalid chromatogram 85533\n",
      "DEBUG:ChromatogramCreator:Invalid chromatogram 85655\n",
      "DEBUG:ChromatogramCreator:Invalid chromatogram 85729\n",
      "DEBUG:ChromatogramCreator:Invalid chromatogram 85876\n",
      "DEBUG:ChromatogramCreator:Invalid chromatogram 86803\n",
      "DEBUG:ChromatogramCreator:Invalid chromatogram 87048\n",
      "DEBUG:ChromatogramCreator:Invalid chromatogram 87498\n",
      "DEBUG:ChromatogramCreator:Invalid chromatogram 87512\n",
      "DEBUG:ChromatogramCreator:Invalid chromatogram 87598\n",
      "DEBUG:ChromatogramCreator:Invalid chromatogram 87722\n",
      "DEBUG:ChromatogramCreator:Invalid chromatogram 87783\n",
      "DEBUG:ChromatogramCreator:Invalid chromatogram 87858\n",
      "DEBUG:ChromatogramCreator:Invalid chromatogram 88108\n",
      "DEBUG:ChromatogramCreator:Invalid chromatogram 88581\n",
      "DEBUG:ChromatogramCreator:Invalid chromatogram 88671\n",
      "DEBUG:ChromatogramCreator:Invalid chromatogram 88870\n",
      "DEBUG:ChromatogramCreator:Invalid chromatogram 89437\n",
      "DEBUG:ChromatogramCreator:Invalid chromatogram 89503\n",
      "INFO:ChromatogramCreator:Loading 90000 chromatograms\n",
      "DEBUG:ChromatogramCreator:Invalid chromatogram 90080\n",
      "DEBUG:ChromatogramCreator:Invalid chromatogram 90138\n",
      "DEBUG:ChromatogramCreator:Invalid chromatogram 90210\n",
      "DEBUG:ChromatogramCreator:Invalid chromatogram 90247\n",
      "DEBUG:ChromatogramCreator:Invalid chromatogram 90430\n",
      "DEBUG:ChromatogramCreator:Invalid chromatogram 90719\n",
      "DEBUG:ChromatogramCreator:Invalid chromatogram 91063\n",
      "DEBUG:ChromatogramCreator:Invalid chromatogram 91071\n",
      "DEBUG:ChromatogramCreator:Invalid chromatogram 91257\n",
      "DEBUG:ChromatogramCreator:Invalid chromatogram 91315\n",
      "DEBUG:ChromatogramCreator:Invalid chromatogram 91373\n",
      "DEBUG:ChromatogramCreator:Invalid chromatogram 91460\n",
      "DEBUG:ChromatogramCreator:Invalid chromatogram 91626\n",
      "DEBUG:ChromatogramCreator:Invalid chromatogram 91679\n",
      "DEBUG:ChromatogramCreator:Invalid chromatogram 92047\n",
      "DEBUG:ChromatogramCreator:Invalid chromatogram 92111\n",
      "DEBUG:ChromatogramCreator:Invalid chromatogram 92474\n",
      "DEBUG:ChromatogramCreator:Invalid chromatogram 92821\n",
      "DEBUG:ChromatogramCreator:Invalid chromatogram 93400\n",
      "DEBUG:ChromatogramCreator:Invalid chromatogram 93447\n",
      "DEBUG:ChromatogramCreator:Invalid chromatogram 93501\n",
      "DEBUG:ChromatogramCreator:Invalid chromatogram 93506\n",
      "DEBUG:ChromatogramCreator:Invalid chromatogram 93591\n",
      "DEBUG:ChromatogramCreator:Invalid chromatogram 93683\n",
      "DEBUG:ChromatogramCreator:Invalid chromatogram 93750\n",
      "DEBUG:ChromatogramCreator:Invalid chromatogram 93821\n",
      "DEBUG:ChromatogramCreator:Invalid chromatogram 93840\n",
      "DEBUG:ChromatogramCreator:Invalid chromatogram 94271\n",
      "DEBUG:ChromatogramCreator:Invalid chromatogram 94425\n",
      "DEBUG:ChromatogramCreator:Invalid chromatogram 94597\n",
      "DEBUG:ChromatogramCreator:Invalid chromatogram 94712\n",
      "DEBUG:ChromatogramCreator:Invalid chromatogram 94879\n",
      "DEBUG:ChromatogramCreator:Invalid chromatogram 94881\n",
      "INFO:ChromatogramCreator:Loading 95000 chromatograms\n",
      "DEBUG:ChromatogramCreator:Invalid chromatogram 95161\n",
      "DEBUG:ChromatogramCreator:Invalid chromatogram 95272\n",
      "DEBUG:ChromatogramCreator:Invalid chromatogram 95501\n",
      "DEBUG:ChromatogramCreator:Invalid chromatogram 95704\n",
      "DEBUG:ChromatogramCreator:Invalid chromatogram 95827\n",
      "DEBUG:ChromatogramCreator:Invalid chromatogram 96483\n",
      "DEBUG:ChromatogramCreator:Invalid chromatogram 96717\n",
      "DEBUG:ChromatogramCreator:Invalid chromatogram 96772\n",
      "DEBUG:ChromatogramCreator:Invalid chromatogram 96934\n",
      "DEBUG:ChromatogramCreator:Invalid chromatogram 97152\n",
      "DEBUG:ChromatogramCreator:Invalid chromatogram 97401\n",
      "DEBUG:ChromatogramCreator:Invalid chromatogram 97489\n",
      "DEBUG:ChromatogramCreator:Invalid chromatogram 97733\n",
      "DEBUG:ChromatogramCreator:Invalid chromatogram 98079\n",
      "DEBUG:ChromatogramCreator:Invalid chromatogram 98153\n",
      "DEBUG:ChromatogramCreator:Invalid chromatogram 98482\n",
      "DEBUG:ChromatogramCreator:Invalid chromatogram 98724\n",
      "DEBUG:ChromatogramCreator:Invalid chromatogram 99120\n",
      "DEBUG:ChromatogramCreator:Invalid chromatogram 99360\n",
      "DEBUG:ChromatogramCreator:Invalid chromatogram 99598\n",
      "DEBUG:ChromatogramCreator:Invalid chromatogram 99778\n",
      "INFO:ChromatogramCreator:Loading 100000 chromatograms\n",
      "DEBUG:ChromatogramCreator:Invalid chromatogram 100416\n",
      "DEBUG:ChromatogramCreator:Invalid chromatogram 100685\n",
      "DEBUG:ChromatogramCreator:Invalid chromatogram 100756\n",
      "DEBUG:ChromatogramCreator:Invalid chromatogram 100785\n",
      "DEBUG:ChromatogramCreator:Invalid chromatogram 100827\n",
      "DEBUG:ChromatogramCreator:Invalid chromatogram 101049\n",
      "DEBUG:ChromatogramCreator:Invalid chromatogram 101249\n",
      "DEBUG:ChromatogramCreator:Invalid chromatogram 101291\n",
      "DEBUG:ChromatogramCreator:Invalid chromatogram 101302\n",
      "DEBUG:ChromatogramCreator:Invalid chromatogram 101434\n",
      "DEBUG:ChromatogramCreator:Invalid chromatogram 101598\n",
      "DEBUG:ChromatogramCreator:Invalid chromatogram 101687\n",
      "DEBUG:ChromatogramCreator:Invalid chromatogram 101702\n",
      "DEBUG:ChromatogramCreator:Invalid chromatogram 101706\n",
      "DEBUG:ChromatogramCreator:Invalid chromatogram 101756\n",
      "DEBUG:ChromatogramCreator:Invalid chromatogram 102260\n",
      "DEBUG:ChromatogramCreator:Invalid chromatogram 102988\n",
      "DEBUG:ChromatogramCreator:Invalid chromatogram 103231\n",
      "DEBUG:ChromatogramCreator:Invalid chromatogram 103656\n",
      "DEBUG:ChromatogramCreator:Invalid chromatogram 103795\n",
      "DEBUG:ChromatogramCreator:Invalid chromatogram 103798\n",
      "DEBUG:ChromatogramCreator:Invalid chromatogram 103808\n",
      "DEBUG:ChromatogramCreator:Invalid chromatogram 103939\n",
      "DEBUG:ChromatogramCreator:Invalid chromatogram 103989\n",
      "DEBUG:ChromatogramCreator:Invalid chromatogram 104030\n",
      "DEBUG:ChromatogramCreator:Invalid chromatogram 104128\n",
      "DEBUG:ChromatogramCreator:Invalid chromatogram 104247\n",
      "DEBUG:ChromatogramCreator:Invalid chromatogram 104344\n",
      "DEBUG:ChromatogramCreator:Invalid chromatogram 104511\n",
      "DEBUG:ChromatogramCreator:Invalid chromatogram 104599\n",
      "INFO:ChromatogramCreator:Loading 105000 chromatograms\n",
      "DEBUG:ChromatogramCreator:Invalid chromatogram 105384\n",
      "DEBUG:ChromatogramCreator:Invalid chromatogram 105629\n"
     ]
    },
    {
     "name": "stderr",
     "output_type": "stream",
     "text": [
      "DEBUG:ChromatogramCreator:Invalid chromatogram 105782\n",
      "DEBUG:ChromatogramCreator:Invalid chromatogram 106020\n",
      "DEBUG:ChromatogramCreator:Invalid chromatogram 106084\n",
      "DEBUG:ChromatogramCreator:Invalid chromatogram 106385\n",
      "DEBUG:ChromatogramCreator:Invalid chromatogram 106418\n",
      "DEBUG:ChromatogramCreator:Invalid chromatogram 106429\n",
      "DEBUG:ChromatogramCreator:Invalid chromatogram 106995\n",
      "DEBUG:ChromatogramCreator:Invalid chromatogram 107155\n",
      "DEBUG:ChromatogramCreator:Invalid chromatogram 107174\n",
      "DEBUG:ChromatogramCreator:Invalid chromatogram 107601\n",
      "DEBUG:ChromatogramCreator:Invalid chromatogram 107628\n",
      "DEBUG:ChromatogramCreator:Invalid chromatogram 108028\n",
      "DEBUG:ChromatogramCreator:Invalid chromatogram 108197\n",
      "DEBUG:ChromatogramCreator:Invalid chromatogram 108439\n",
      "DEBUG:ChromatogramCreator:Invalid chromatogram 108492\n",
      "DEBUG:ChromatogramCreator:Invalid chromatogram 108538\n",
      "DEBUG:ChromatogramCreator:Invalid chromatogram 108781\n",
      "DEBUG:ChromatogramCreator:Invalid chromatogram 108856\n",
      "DEBUG:ChromatogramCreator:Invalid chromatogram 108989\n",
      "DEBUG:ChromatogramCreator:Invalid chromatogram 108999\n",
      "DEBUG:ChromatogramCreator:Invalid chromatogram 109045\n",
      "DEBUG:ChromatogramCreator:Invalid chromatogram 109239\n",
      "DEBUG:ChromatogramCreator:Invalid chromatogram 109415\n",
      "DEBUG:ChromatogramCreator:Invalid chromatogram 109564\n",
      "DEBUG:ChromatogramCreator:Invalid chromatogram 109748\n",
      "DEBUG:ChromatogramCreator:Invalid chromatogram 109759\n",
      "DEBUG:ChromatogramCreator:Invalid chromatogram 109842\n",
      "INFO:ChromatogramCreator:Loading 110000 chromatograms\n",
      "DEBUG:ChromatogramCreator:Invalid chromatogram 110004\n",
      "DEBUG:ChromatogramCreator:Invalid chromatogram 110185\n",
      "DEBUG:ChromatogramCreator:Invalid chromatogram 110344\n",
      "DEBUG:ChromatogramCreator:Invalid chromatogram 110420\n",
      "DEBUG:ChromatogramCreator:Invalid chromatogram 110869\n",
      "DEBUG:ChromatogramCreator:Invalid chromatogram 111208\n",
      "DEBUG:ChromatogramCreator:Invalid chromatogram 111210\n",
      "DEBUG:ChromatogramCreator:Invalid chromatogram 111761\n",
      "DEBUG:ChromatogramCreator:Invalid chromatogram 112632\n",
      "DEBUG:ChromatogramCreator:Invalid chromatogram 112641\n",
      "DEBUG:ChromatogramCreator:Invalid chromatogram 112961\n",
      "DEBUG:ChromatogramCreator:Invalid chromatogram 112962\n",
      "DEBUG:ChromatogramCreator:Invalid chromatogram 113034\n",
      "DEBUG:ChromatogramCreator:Invalid chromatogram 113077\n",
      "DEBUG:ChromatogramCreator:Invalid chromatogram 113150\n",
      "DEBUG:ChromatogramCreator:Invalid chromatogram 113242\n",
      "DEBUG:ChromatogramCreator:Invalid chromatogram 113253\n",
      "DEBUG:ChromatogramCreator:Invalid chromatogram 113310\n",
      "DEBUG:ChromatogramCreator:Invalid chromatogram 113354\n",
      "DEBUG:ChromatogramCreator:Invalid chromatogram 113432\n",
      "DEBUG:ChromatogramCreator:Invalid chromatogram 113613\n",
      "DEBUG:ChromatogramCreator:Invalid chromatogram 113711\n",
      "DEBUG:ChromatogramCreator:Invalid chromatogram 114234\n",
      "DEBUG:ChromatogramCreator:Invalid chromatogram 114276\n",
      "DEBUG:ChromatogramCreator:Invalid chromatogram 114463\n",
      "DEBUG:ChromatogramCreator:Invalid chromatogram 114480\n",
      "DEBUG:ChromatogramCreator:Invalid chromatogram 114679\n",
      "INFO:ChromatogramCreator:Loading 115000 chromatograms\n",
      "DEBUG:ChromatogramCreator:Invalid chromatogram 115177\n",
      "DEBUG:ChromatogramCreator:Invalid chromatogram 115178\n",
      "DEBUG:ChromatogramCreator:Invalid chromatogram 115181\n",
      "DEBUG:ChromatogramCreator:Invalid chromatogram 115220\n",
      "DEBUG:ChromatogramCreator:Invalid chromatogram 115478\n",
      "DEBUG:ChromatogramCreator:Invalid chromatogram 115676\n",
      "DEBUG:ChromatogramCreator:Invalid chromatogram 115751\n",
      "DEBUG:ChromatogramCreator:Invalid chromatogram 116106\n",
      "DEBUG:ChromatogramCreator:Invalid chromatogram 116124\n",
      "DEBUG:ChromatogramCreator:Invalid chromatogram 116347\n",
      "DEBUG:ChromatogramCreator:Invalid chromatogram 116553\n",
      "DEBUG:ChromatogramCreator:Invalid chromatogram 116660\n",
      "DEBUG:ChromatogramCreator:Invalid chromatogram 116696\n",
      "DEBUG:ChromatogramCreator:Invalid chromatogram 116701\n",
      "DEBUG:ChromatogramCreator:Invalid chromatogram 116883\n",
      "DEBUG:ChromatogramCreator:Invalid chromatogram 117125\n",
      "DEBUG:ChromatogramCreator:Invalid chromatogram 117275\n",
      "DEBUG:ChromatogramCreator:Invalid chromatogram 117285\n",
      "DEBUG:ChromatogramCreator:Invalid chromatogram 117997\n",
      "DEBUG:ChromatogramCreator:Invalid chromatogram 118440\n",
      "DEBUG:ChromatogramCreator:Invalid chromatogram 118674\n",
      "DEBUG:ChromatogramCreator:Invalid chromatogram 118685\n",
      "DEBUG:ChromatogramCreator:Invalid chromatogram 118981\n",
      "DEBUG:ChromatogramCreator:Invalid chromatogram 119030\n",
      "DEBUG:ChromatogramCreator:Invalid chromatogram 119519\n",
      "DEBUG:ChromatogramCreator:Invalid chromatogram 119606\n",
      "INFO:ChromatogramCreator:Loading 120000 chromatograms\n",
      "DEBUG:ChromatogramCreator:Invalid chromatogram 120220\n",
      "DEBUG:ChromatogramCreator:Invalid chromatogram 120437\n",
      "DEBUG:ChromatogramCreator:Invalid chromatogram 120645\n",
      "DEBUG:ChromatogramCreator:Invalid chromatogram 121224\n",
      "DEBUG:ChromatogramCreator:Invalid chromatogram 121363\n",
      "DEBUG:ChromatogramCreator:Invalid chromatogram 121377\n",
      "DEBUG:ChromatogramCreator:Invalid chromatogram 121442\n",
      "DEBUG:ChromatogramCreator:Invalid chromatogram 121561\n",
      "DEBUG:ChromatogramCreator:Invalid chromatogram 121620\n",
      "DEBUG:ChromatogramCreator:Invalid chromatogram 121710\n",
      "DEBUG:ChromatogramCreator:Invalid chromatogram 121882\n",
      "DEBUG:ChromatogramCreator:Invalid chromatogram 122080\n",
      "DEBUG:ChromatogramCreator:Invalid chromatogram 122227\n",
      "DEBUG:ChromatogramCreator:Invalid chromatogram 122285\n",
      "DEBUG:ChromatogramCreator:Invalid chromatogram 122297\n",
      "DEBUG:ChromatogramCreator:Invalid chromatogram 122517\n",
      "DEBUG:ChromatogramCreator:Invalid chromatogram 122689\n",
      "DEBUG:ChromatogramCreator:Invalid chromatogram 122691\n",
      "DEBUG:ChromatogramCreator:Invalid chromatogram 122944\n",
      "DEBUG:ChromatogramCreator:Invalid chromatogram 123033\n",
      "DEBUG:ChromatogramCreator:Invalid chromatogram 123052\n",
      "DEBUG:ChromatogramCreator:Invalid chromatogram 123269\n",
      "DEBUG:ChromatogramCreator:Invalid chromatogram 123275\n",
      "DEBUG:ChromatogramCreator:Invalid chromatogram 123350\n",
      "DEBUG:ChromatogramCreator:Invalid chromatogram 123829\n",
      "DEBUG:ChromatogramCreator:Invalid chromatogram 123899\n",
      "DEBUG:ChromatogramCreator:Invalid chromatogram 123915\n",
      "DEBUG:ChromatogramCreator:Invalid chromatogram 124110\n",
      "DEBUG:ChromatogramCreator:Invalid chromatogram 124307\n",
      "DEBUG:ChromatogramCreator:Invalid chromatogram 124375\n",
      "DEBUG:ChromatogramCreator:Invalid chromatogram 124522\n",
      "DEBUG:ChromatogramCreator:Invalid chromatogram 124592\n",
      "DEBUG:ChromatogramCreator:Invalid chromatogram 124865\n",
      "DEBUG:ChromatogramCreator:Invalid chromatogram 124878\n",
      "DEBUG:ChromatogramCreator:Invalid chromatogram 124937\n",
      "INFO:ChromatogramCreator:Loading 125000 chromatograms\n",
      "DEBUG:ChromatogramCreator:Invalid chromatogram 125887\n",
      "DEBUG:ChromatogramCreator:Invalid chromatogram 126009\n",
      "DEBUG:ChromatogramCreator:Invalid chromatogram 126147\n",
      "DEBUG:ChromatogramCreator:Invalid chromatogram 126402\n",
      "DEBUG:ChromatogramCreator:Invalid chromatogram 126759\n",
      "DEBUG:ChromatogramCreator:Invalid chromatogram 127229\n",
      "DEBUG:ChromatogramCreator:Invalid chromatogram 127448\n",
      "DEBUG:ChromatogramCreator:Invalid chromatogram 127752\n",
      "DEBUG:ChromatogramCreator:Invalid chromatogram 128521\n",
      "DEBUG:ChromatogramCreator:Invalid chromatogram 128745\n",
      "DEBUG:ChromatogramCreator:Invalid chromatogram 128802\n",
      "DEBUG:ChromatogramCreator:Invalid chromatogram 128965\n",
      "DEBUG:ChromatogramCreator:Invalid chromatogram 129333\n",
      "DEBUG:ChromatogramCreator:Invalid chromatogram 129576\n",
      "DEBUG:ChromatogramCreator:Invalid chromatogram 129637\n",
      "DEBUG:ChromatogramCreator:Invalid chromatogram 129823\n",
      "INFO:ChromatogramCreator:Loading 130000 chromatograms\n",
      "DEBUG:ChromatogramCreator:Invalid chromatogram 130003\n",
      "DEBUG:ChromatogramCreator:Invalid chromatogram 130134\n",
      "DEBUG:ChromatogramCreator:Invalid chromatogram 130349\n",
      "DEBUG:ChromatogramCreator:Invalid chromatogram 130951\n",
      "DEBUG:ChromatogramCreator:Invalid chromatogram 131176\n",
      "DEBUG:ChromatogramCreator:Invalid chromatogram 131232\n",
      "DEBUG:ChromatogramCreator:Invalid chromatogram 131566\n",
      "DEBUG:ChromatogramCreator:Invalid chromatogram 131592\n",
      "DEBUG:ChromatogramCreator:Invalid chromatogram 131656\n",
      "DEBUG:ChromatogramCreator:Invalid chromatogram 132385\n",
      "DEBUG:ChromatogramCreator:Invalid chromatogram 132526\n",
      "DEBUG:ChromatogramCreator:Invalid chromatogram 132672\n",
      "DEBUG:ChromatogramCreator:Invalid chromatogram 132894\n",
      "DEBUG:ChromatogramCreator:Invalid chromatogram 133015\n",
      "DEBUG:ChromatogramCreator:Invalid chromatogram 133128\n"
     ]
    },
    {
     "name": "stderr",
     "output_type": "stream",
     "text": [
      "DEBUG:ChromatogramCreator:Invalid chromatogram 133306\n",
      "DEBUG:ChromatogramCreator:Invalid chromatogram 133322\n",
      "DEBUG:ChromatogramCreator:Invalid chromatogram 133426\n",
      "DEBUG:ChromatogramCreator:Invalid chromatogram 133789\n",
      "DEBUG:ChromatogramCreator:Invalid chromatogram 133832\n",
      "DEBUG:ChromatogramCreator:Invalid chromatogram 133882\n",
      "DEBUG:ChromatogramCreator:Invalid chromatogram 134113\n",
      "DEBUG:ChromatogramCreator:Invalid chromatogram 134199\n",
      "DEBUG:ChromatogramCreator:Invalid chromatogram 134241\n",
      "DEBUG:ChromatogramCreator:Invalid chromatogram 134262\n",
      "DEBUG:ChromatogramCreator:Invalid chromatogram 134320\n",
      "DEBUG:ChromatogramCreator:Invalid chromatogram 134488\n",
      "DEBUG:ChromatogramCreator:Invalid chromatogram 134876\n",
      "DEBUG:ChromatogramCreator:Invalid chromatogram 134942\n",
      "INFO:ChromatogramCreator:Loading 135000 chromatograms\n",
      "DEBUG:ChromatogramCreator:Invalid chromatogram 135316\n",
      "DEBUG:ChromatogramCreator:Invalid chromatogram 135591\n",
      "DEBUG:ChromatogramCreator:Invalid chromatogram 135700\n",
      "DEBUG:ChromatogramCreator:Invalid chromatogram 135717\n",
      "DEBUG:ChromatogramCreator:Invalid chromatogram 136099\n",
      "DEBUG:ChromatogramCreator:Invalid chromatogram 136402\n",
      "DEBUG:ChromatogramCreator:Invalid chromatogram 136585\n",
      "DEBUG:ChromatogramCreator:Invalid chromatogram 136621\n",
      "DEBUG:ChromatogramCreator:Invalid chromatogram 136639\n",
      "DEBUG:ChromatogramCreator:Invalid chromatogram 136996\n",
      "DEBUG:ChromatogramCreator:Invalid chromatogram 137292\n",
      "DEBUG:ChromatogramCreator:Invalid chromatogram 137381\n",
      "DEBUG:ChromatogramCreator:Invalid chromatogram 137427\n",
      "DEBUG:ChromatogramCreator:Invalid chromatogram 137648\n",
      "DEBUG:ChromatogramCreator:Invalid chromatogram 137673\n",
      "DEBUG:ChromatogramCreator:Invalid chromatogram 137726\n",
      "DEBUG:ChromatogramCreator:Invalid chromatogram 137937\n",
      "DEBUG:ChromatogramCreator:Invalid chromatogram 138038\n",
      "DEBUG:ChromatogramCreator:Invalid chromatogram 138199\n",
      "DEBUG:ChromatogramCreator:Invalid chromatogram 139031\n",
      "DEBUG:ChromatogramCreator:Invalid chromatogram 139348\n",
      "DEBUG:ChromatogramCreator:Invalid chromatogram 139516\n",
      "DEBUG:ChromatogramCreator:Invalid chromatogram 139590\n",
      "DEBUG:ChromatogramCreator:Invalid chromatogram 139985\n",
      "INFO:ChromatogramCreator:Loading 140000 chromatograms\n",
      "DEBUG:ChromatogramCreator:Invalid chromatogram 140054\n",
      "DEBUG:ChromatogramCreator:Invalid chromatogram 140104\n",
      "DEBUG:ChromatogramCreator:Invalid chromatogram 140131\n",
      "DEBUG:ChromatogramCreator:Invalid chromatogram 140276\n",
      "DEBUG:ChromatogramCreator:Invalid chromatogram 140355\n",
      "DEBUG:ChromatogramCreator:Invalid chromatogram 140413\n",
      "DEBUG:ChromatogramCreator:Invalid chromatogram 140511\n",
      "DEBUG:ChromatogramCreator:Invalid chromatogram 140628\n",
      "DEBUG:ChromatogramCreator:Invalid chromatogram 140677\n",
      "DEBUG:ChromatogramCreator:Invalid chromatogram 140881\n",
      "DEBUG:ChromatogramCreator:Invalid chromatogram 141302\n",
      "DEBUG:ChromatogramCreator:Invalid chromatogram 141350\n",
      "DEBUG:ChromatogramCreator:Invalid chromatogram 141361\n",
      "DEBUG:ChromatogramCreator:Invalid chromatogram 141457\n",
      "DEBUG:ChromatogramCreator:Invalid chromatogram 141512\n",
      "DEBUG:ChromatogramCreator:Invalid chromatogram 141755\n",
      "DEBUG:ChromatogramCreator:Invalid chromatogram 141929\n",
      "DEBUG:ChromatogramCreator:Invalid chromatogram 141979\n",
      "DEBUG:ChromatogramCreator:Invalid chromatogram 142188\n",
      "DEBUG:ChromatogramCreator:Invalid chromatogram 142434\n",
      "DEBUG:ChromatogramCreator:Invalid chromatogram 143152\n",
      "DEBUG:ChromatogramCreator:Invalid chromatogram 143290\n",
      "DEBUG:ChromatogramCreator:Invalid chromatogram 143326\n",
      "DEBUG:ChromatogramCreator:Invalid chromatogram 143353\n",
      "DEBUG:ChromatogramCreator:Invalid chromatogram 143615\n",
      "DEBUG:ChromatogramCreator:Invalid chromatogram 143791\n",
      "DEBUG:ChromatogramCreator:Invalid chromatogram 143936\n",
      "DEBUG:ChromatogramCreator:Invalid chromatogram 144166\n",
      "DEBUG:ChromatogramCreator:Invalid chromatogram 144330\n",
      "DEBUG:ChromatogramCreator:Invalid chromatogram 144421\n",
      "DEBUG:ChromatogramCreator:Invalid chromatogram 144455\n",
      "DEBUG:ChromatogramCreator:Invalid chromatogram 144474\n",
      "DEBUG:ChromatogramCreator:Invalid chromatogram 144772\n",
      "DEBUG:ChromatogramCreator:Invalid chromatogram 144873\n",
      "INFO:ChromatogramCreator:Loading 145000 chromatograms\n",
      "DEBUG:ChromatogramCreator:Invalid chromatogram 145264\n",
      "DEBUG:ChromatogramCreator:Invalid chromatogram 145326\n",
      "DEBUG:ChromatogramCreator:Invalid chromatogram 145378\n",
      "DEBUG:ChromatogramCreator:Invalid chromatogram 145456\n",
      "DEBUG:ChromatogramCreator:Invalid chromatogram 145834\n",
      "DEBUG:ChromatogramCreator:Invalid chromatogram 146024\n",
      "DEBUG:ChromatogramCreator:Invalid chromatogram 146030\n",
      "DEBUG:ChromatogramCreator:Invalid chromatogram 146139\n",
      "DEBUG:ChromatogramCreator:Invalid chromatogram 146189\n",
      "DEBUG:ChromatogramCreator:Invalid chromatogram 146409\n",
      "DEBUG:ChromatogramCreator:Invalid chromatogram 146507\n",
      "DEBUG:ChromatogramCreator:Invalid chromatogram 146553\n",
      "DEBUG:ChromatogramCreator:Invalid chromatogram 146722\n",
      "DEBUG:ChromatogramCreator:Invalid chromatogram 147195\n",
      "DEBUG:ChromatogramCreator:Invalid chromatogram 147383\n",
      "DEBUG:ChromatogramCreator:Invalid chromatogram 147504\n",
      "DEBUG:ChromatogramCreator:Invalid chromatogram 147538\n",
      "DEBUG:ChromatogramCreator:Invalid chromatogram 147550\n",
      "DEBUG:ChromatogramCreator:Invalid chromatogram 148215\n",
      "DEBUG:ChromatogramCreator:Invalid chromatogram 148235\n",
      "DEBUG:ChromatogramCreator:Invalid chromatogram 148336\n",
      "DEBUG:ChromatogramCreator:Invalid chromatogram 148642\n",
      "DEBUG:ChromatogramCreator:Invalid chromatogram 148911\n",
      "DEBUG:ChromatogramCreator:Invalid chromatogram 148998\n",
      "DEBUG:ChromatogramCreator:Invalid chromatogram 149026\n",
      "DEBUG:ChromatogramCreator:Invalid chromatogram 149102\n",
      "DEBUG:ChromatogramCreator:Invalid chromatogram 149161\n",
      "DEBUG:ChromatogramCreator:Invalid chromatogram 149215\n",
      "DEBUG:ChromatogramCreator:Invalid chromatogram 149217\n",
      "DEBUG:ChromatogramCreator:Invalid chromatogram 149760\n",
      "INFO:ChromatogramCreator:Loading 150000 chromatograms\n",
      "DEBUG:ChromatogramCreator:Invalid chromatogram 150047\n",
      "DEBUG:ChromatogramCreator:Invalid chromatogram 150284\n",
      "DEBUG:ChromatogramCreator:Invalid chromatogram 150594\n",
      "DEBUG:ChromatogramCreator:Invalid chromatogram 150681\n",
      "DEBUG:ChromatogramCreator:Invalid chromatogram 150722\n",
      "DEBUG:ChromatogramCreator:Invalid chromatogram 150731\n",
      "DEBUG:ChromatogramCreator:Invalid chromatogram 150816\n",
      "DEBUG:ChromatogramCreator:Invalid chromatogram 150829\n",
      "DEBUG:ChromatogramCreator:Invalid chromatogram 150865\n",
      "DEBUG:ChromatogramCreator:Invalid chromatogram 151070\n",
      "DEBUG:ChromatogramCreator:Invalid chromatogram 151146\n",
      "DEBUG:ChromatogramCreator:Invalid chromatogram 151173\n",
      "DEBUG:ChromatogramCreator:Invalid chromatogram 151346\n",
      "DEBUG:ChromatogramCreator:Invalid chromatogram 151452\n",
      "DEBUG:ChromatogramCreator:Invalid chromatogram 151752\n",
      "DEBUG:ChromatogramCreator:Invalid chromatogram 151924\n",
      "DEBUG:ChromatogramCreator:Invalid chromatogram 152023\n",
      "DEBUG:ChromatogramCreator:Invalid chromatogram 152042\n",
      "DEBUG:ChromatogramCreator:Invalid chromatogram 152373\n",
      "DEBUG:ChromatogramCreator:Invalid chromatogram 152473\n",
      "DEBUG:ChromatogramCreator:Invalid chromatogram 153307\n",
      "DEBUG:ChromatogramCreator:Invalid chromatogram 153310\n",
      "DEBUG:ChromatogramCreator:Invalid chromatogram 153373\n",
      "DEBUG:ChromatogramCreator:Invalid chromatogram 153391\n",
      "DEBUG:ChromatogramCreator:Invalid chromatogram 153437\n",
      "DEBUG:ChromatogramCreator:Invalid chromatogram 153465\n",
      "DEBUG:ChromatogramCreator:Invalid chromatogram 153600\n",
      "DEBUG:ChromatogramCreator:Invalid chromatogram 153654\n",
      "DEBUG:ChromatogramCreator:Invalid chromatogram 153727\n",
      "DEBUG:ChromatogramCreator:Invalid chromatogram 153959\n",
      "DEBUG:ChromatogramCreator:Invalid chromatogram 153986\n",
      "DEBUG:ChromatogramCreator:Invalid chromatogram 154445\n",
      "DEBUG:ChromatogramCreator:Invalid chromatogram 154588\n",
      "DEBUG:ChromatogramCreator:Invalid chromatogram 154686\n",
      "DEBUG:ChromatogramCreator:Invalid chromatogram 154689\n",
      "DEBUG:ChromatogramCreator:Invalid chromatogram 154992\n",
      "INFO:ChromatogramCreator:Loading 155000 chromatograms\n",
      "DEBUG:ChromatogramCreator:Invalid chromatogram 155142\n",
      "DEBUG:ChromatogramCreator:Invalid chromatogram 155228\n",
      "DEBUG:ChromatogramCreator:Invalid chromatogram 155239\n",
      "DEBUG:ChromatogramCreator:Invalid chromatogram 155545\n",
      "DEBUG:ChromatogramCreator:Invalid chromatogram 155886\n",
      "DEBUG:ChromatogramCreator:Invalid chromatogram 156058\n",
      "DEBUG:ChromatogramCreator:Invalid chromatogram 156593\n",
      "DEBUG:ChromatogramCreator:Invalid chromatogram 156657\n"
     ]
    },
    {
     "name": "stderr",
     "output_type": "stream",
     "text": [
      "DEBUG:ChromatogramCreator:Invalid chromatogram 156966\n",
      "DEBUG:ChromatogramCreator:Invalid chromatogram 157243\n",
      "DEBUG:ChromatogramCreator:Invalid chromatogram 157263\n",
      "DEBUG:ChromatogramCreator:Invalid chromatogram 157289\n",
      "DEBUG:ChromatogramCreator:Invalid chromatogram 157581\n",
      "DEBUG:ChromatogramCreator:Invalid chromatogram 157622\n",
      "DEBUG:ChromatogramCreator:Invalid chromatogram 157634\n",
      "DEBUG:ChromatogramCreator:Invalid chromatogram 157816\n",
      "DEBUG:ChromatogramCreator:Invalid chromatogram 157994\n",
      "DEBUG:ChromatogramCreator:Invalid chromatogram 158645\n",
      "DEBUG:ChromatogramCreator:Invalid chromatogram 158694\n",
      "DEBUG:ChromatogramCreator:Invalid chromatogram 158748\n",
      "DEBUG:ChromatogramCreator:Invalid chromatogram 159050\n",
      "DEBUG:ChromatogramCreator:Invalid chromatogram 159105\n",
      "DEBUG:ChromatogramCreator:Invalid chromatogram 159200\n",
      "DEBUG:ChromatogramCreator:Invalid chromatogram 159202\n",
      "DEBUG:ChromatogramCreator:Invalid chromatogram 159435\n",
      "DEBUG:ChromatogramCreator:Invalid chromatogram 159725\n",
      "DEBUG:ChromatogramCreator:Invalid chromatogram 159847\n",
      "DEBUG:ChromatogramCreator:Invalid chromatogram 159884\n",
      "DEBUG:ChromatogramCreator:Invalid chromatogram 159973\n",
      "INFO:ChromatogramCreator:Loading 160000 chromatograms\n",
      "DEBUG:ChromatogramCreator:Invalid chromatogram 160164\n",
      "DEBUG:ChromatogramCreator:Invalid chromatogram 160759\n",
      "DEBUG:ChromatogramCreator:Invalid chromatogram 160994\n",
      "DEBUG:ChromatogramCreator:Invalid chromatogram 161056\n",
      "DEBUG:ChromatogramCreator:Invalid chromatogram 161283\n",
      "DEBUG:ChromatogramCreator:Invalid chromatogram 161427\n",
      "DEBUG:ChromatogramCreator:Invalid chromatogram 161522\n",
      "DEBUG:ChromatogramCreator:Invalid chromatogram 162343\n",
      "DEBUG:ChromatogramCreator:Invalid chromatogram 162389\n",
      "DEBUG:ChromatogramCreator:Invalid chromatogram 162492\n",
      "DEBUG:ChromatogramCreator:Invalid chromatogram 162509\n",
      "DEBUG:ChromatogramCreator:Invalid chromatogram 162541\n",
      "DEBUG:ChromatogramCreator:Invalid chromatogram 162629\n",
      "DEBUG:ChromatogramCreator:Invalid chromatogram 163060\n",
      "DEBUG:ChromatogramCreator:Invalid chromatogram 163504\n",
      "DEBUG:ChromatogramCreator:Invalid chromatogram 163657\n",
      "DEBUG:ChromatogramCreator:Invalid chromatogram 163671\n",
      "DEBUG:ChromatogramCreator:Invalid chromatogram 163727\n",
      "DEBUG:ChromatogramCreator:Invalid chromatogram 163894\n",
      "DEBUG:ChromatogramCreator:Invalid chromatogram 164036\n",
      "DEBUG:ChromatogramCreator:Invalid chromatogram 164089\n",
      "DEBUG:ChromatogramCreator:Invalid chromatogram 164283\n",
      "DEBUG:ChromatogramCreator:Invalid chromatogram 164316\n",
      "DEBUG:ChromatogramCreator:Invalid chromatogram 164400\n",
      "DEBUG:ChromatogramCreator:Invalid chromatogram 164684\n",
      "DEBUG:ChromatogramCreator:Invalid chromatogram 164813\n",
      "DEBUG:ChromatogramCreator:Invalid chromatogram 164934\n",
      "INFO:ChromatogramCreator:Loading 165000 chromatograms\n",
      "DEBUG:ChromatogramCreator:Invalid chromatogram 165021\n",
      "DEBUG:ChromatogramCreator:Invalid chromatogram 165241\n",
      "DEBUG:ChromatogramCreator:Invalid chromatogram 165299\n",
      "DEBUG:ChromatogramCreator:Invalid chromatogram 165749\n",
      "DEBUG:ChromatogramCreator:Invalid chromatogram 166106\n",
      "DEBUG:ChromatogramCreator:Invalid chromatogram 166188\n",
      "DEBUG:ChromatogramCreator:Invalid chromatogram 166251\n",
      "DEBUG:ChromatogramCreator:Invalid chromatogram 166253\n",
      "DEBUG:ChromatogramCreator:Invalid chromatogram 166530\n",
      "DEBUG:ChromatogramCreator:Invalid chromatogram 166674\n",
      "DEBUG:ChromatogramCreator:Invalid chromatogram 167165\n",
      "DEBUG:ChromatogramCreator:Invalid chromatogram 167266\n",
      "DEBUG:ChromatogramCreator:Invalid chromatogram 167320\n",
      "DEBUG:ChromatogramCreator:Invalid chromatogram 167383\n",
      "DEBUG:ChromatogramCreator:Invalid chromatogram 167529\n",
      "DEBUG:ChromatogramCreator:Invalid chromatogram 167702\n",
      "DEBUG:ChromatogramCreator:Invalid chromatogram 167731\n",
      "DEBUG:ChromatogramCreator:Invalid chromatogram 167888\n",
      "DEBUG:ChromatogramCreator:Invalid chromatogram 167944\n",
      "DEBUG:ChromatogramCreator:Invalid chromatogram 168121\n",
      "DEBUG:ChromatogramCreator:Invalid chromatogram 168160\n",
      "DEBUG:ChromatogramCreator:Invalid chromatogram 168197\n",
      "DEBUG:ChromatogramCreator:Invalid chromatogram 168395\n",
      "DEBUG:ChromatogramCreator:Invalid chromatogram 168396\n",
      "DEBUG:ChromatogramCreator:Invalid chromatogram 168400\n",
      "DEBUG:ChromatogramCreator:Invalid chromatogram 168620\n",
      "DEBUG:ChromatogramCreator:Invalid chromatogram 168705\n",
      "DEBUG:ChromatogramCreator:Invalid chromatogram 169138\n",
      "DEBUG:ChromatogramCreator:Invalid chromatogram 169315\n",
      "DEBUG:ChromatogramCreator:Invalid chromatogram 169333\n",
      "DEBUG:ChromatogramCreator:Invalid chromatogram 169593\n",
      "DEBUG:ChromatogramCreator:Invalid chromatogram 169623\n",
      "DEBUG:ChromatogramCreator:Invalid chromatogram 169630\n",
      "DEBUG:ChromatogramCreator:Invalid chromatogram 169843\n",
      "DEBUG:ChromatogramCreator:Invalid chromatogram 169998\n",
      "INFO:ChromatogramCreator:Loading 170000 chromatograms\n",
      "DEBUG:ChromatogramCreator:Invalid chromatogram 170200\n",
      "DEBUG:ChromatogramCreator:Invalid chromatogram 170294\n",
      "DEBUG:ChromatogramCreator:Invalid chromatogram 170442\n",
      "DEBUG:ChromatogramCreator:Invalid chromatogram 170532\n",
      "DEBUG:ChromatogramCreator:Invalid chromatogram 170691\n",
      "DEBUG:ChromatogramCreator:Invalid chromatogram 171095\n",
      "DEBUG:ChromatogramCreator:Invalid chromatogram 171415\n",
      "DEBUG:ChromatogramCreator:Invalid chromatogram 171692\n",
      "DEBUG:ChromatogramCreator:Invalid chromatogram 171998\n",
      "DEBUG:ChromatogramCreator:Invalid chromatogram 171999\n",
      "DEBUG:ChromatogramCreator:Invalid chromatogram 172010\n",
      "DEBUG:ChromatogramCreator:Invalid chromatogram 172114\n",
      "DEBUG:ChromatogramCreator:Invalid chromatogram 172141\n",
      "DEBUG:ChromatogramCreator:Invalid chromatogram 172164\n",
      "DEBUG:ChromatogramCreator:Invalid chromatogram 172361\n",
      "DEBUG:ChromatogramCreator:Invalid chromatogram 172378\n",
      "DEBUG:ChromatogramCreator:Invalid chromatogram 172403\n",
      "DEBUG:ChromatogramCreator:Invalid chromatogram 172546\n",
      "DEBUG:ChromatogramCreator:Invalid chromatogram 172642\n",
      "DEBUG:ChromatogramCreator:Invalid chromatogram 172730\n",
      "DEBUG:ChromatogramCreator:Invalid chromatogram 172736\n",
      "DEBUG:ChromatogramCreator:Invalid chromatogram 172758\n",
      "DEBUG:ChromatogramCreator:Invalid chromatogram 173056\n",
      "DEBUG:ChromatogramCreator:Invalid chromatogram 173202\n",
      "DEBUG:ChromatogramCreator:Invalid chromatogram 173209\n",
      "DEBUG:ChromatogramCreator:Invalid chromatogram 173287\n",
      "DEBUG:ChromatogramCreator:Invalid chromatogram 173329\n",
      "DEBUG:ChromatogramCreator:Invalid chromatogram 173349\n",
      "DEBUG:ChromatogramCreator:Invalid chromatogram 173575\n",
      "DEBUG:ChromatogramCreator:Invalid chromatogram 173641\n",
      "DEBUG:ChromatogramCreator:Invalid chromatogram 173897\n",
      "DEBUG:ChromatogramCreator:Invalid chromatogram 174132\n",
      "DEBUG:ChromatogramCreator:Invalid chromatogram 174189\n",
      "DEBUG:ChromatogramCreator:Invalid chromatogram 174506\n",
      "DEBUG:ChromatogramCreator:Invalid chromatogram 174542\n",
      "DEBUG:ChromatogramCreator:Invalid chromatogram 174656\n",
      "DEBUG:ChromatogramCreator:Invalid chromatogram 174854\n",
      "DEBUG:ChromatogramCreator:Invalid chromatogram 174855\n",
      "INFO:ChromatogramCreator:Loading 175000 chromatograms\n",
      "DEBUG:ChromatogramCreator:Invalid chromatogram 175077\n",
      "DEBUG:ChromatogramCreator:Invalid chromatogram 175088\n",
      "DEBUG:ChromatogramCreator:Invalid chromatogram 175362\n",
      "DEBUG:ChromatogramCreator:Invalid chromatogram 175664\n",
      "DEBUG:ChromatogramCreator:Invalid chromatogram 175682\n",
      "DEBUG:ChromatogramCreator:Invalid chromatogram 175728\n",
      "DEBUG:ChromatogramCreator:Invalid chromatogram 175995\n",
      "DEBUG:ChromatogramCreator:Invalid chromatogram 176004\n",
      "DEBUG:ChromatogramCreator:Invalid chromatogram 176016\n",
      "DEBUG:ChromatogramCreator:Invalid chromatogram 176110\n",
      "DEBUG:ChromatogramCreator:Invalid chromatogram 176187\n",
      "DEBUG:ChromatogramCreator:Invalid chromatogram 176472\n",
      "DEBUG:ChromatogramCreator:Invalid chromatogram 176506\n",
      "DEBUG:ChromatogramCreator:Invalid chromatogram 176770\n",
      "DEBUG:ChromatogramCreator:Invalid chromatogram 176812\n",
      "DEBUG:ChromatogramCreator:Invalid chromatogram 176964\n",
      "DEBUG:ChromatogramCreator:Invalid chromatogram 177053\n",
      "DEBUG:ChromatogramCreator:Invalid chromatogram 177139\n",
      "DEBUG:ChromatogramCreator:Invalid chromatogram 177494\n",
      "DEBUG:ChromatogramCreator:Invalid chromatogram 177620\n",
      "DEBUG:ChromatogramCreator:Invalid chromatogram 177753\n",
      "DEBUG:ChromatogramCreator:Invalid chromatogram 177972\n",
      "DEBUG:ChromatogramCreator:Invalid chromatogram 178068\n",
      "DEBUG:ChromatogramCreator:Invalid chromatogram 178172\n",
      "DEBUG:ChromatogramCreator:Invalid chromatogram 178256\n",
      "DEBUG:ChromatogramCreator:Invalid chromatogram 178351\n"
     ]
    },
    {
     "name": "stderr",
     "output_type": "stream",
     "text": [
      "DEBUG:ChromatogramCreator:Invalid chromatogram 178416\n",
      "DEBUG:ChromatogramCreator:Invalid chromatogram 178585\n",
      "DEBUG:ChromatogramCreator:Invalid chromatogram 178668\n",
      "DEBUG:ChromatogramCreator:Invalid chromatogram 178731\n",
      "DEBUG:ChromatogramCreator:Invalid chromatogram 179006\n",
      "DEBUG:ChromatogramCreator:Invalid chromatogram 179153\n",
      "DEBUG:ChromatogramCreator:Invalid chromatogram 179396\n",
      "DEBUG:ChromatogramCreator:Invalid chromatogram 179412\n",
      "DEBUG:ChromatogramCreator:Invalid chromatogram 179798\n",
      "DEBUG:ChromatogramCreator:Invalid chromatogram 179928\n",
      "INFO:ChromatogramCreator:Loading 180000 chromatograms\n",
      "DEBUG:ChromatogramCreator:Invalid chromatogram 180009\n",
      "DEBUG:ChromatogramCreator:Invalid chromatogram 180180\n",
      "DEBUG:ChromatogramCreator:Invalid chromatogram 180284\n",
      "DEBUG:ChromatogramCreator:Invalid chromatogram 180348\n",
      "DEBUG:ChromatogramCreator:Invalid chromatogram 180396\n",
      "DEBUG:ChromatogramCreator:Invalid chromatogram 180507\n",
      "DEBUG:ChromatogramCreator:Invalid chromatogram 180551\n",
      "DEBUG:ChromatogramCreator:Invalid chromatogram 180753\n",
      "DEBUG:ChromatogramCreator:Invalid chromatogram 180775\n",
      "DEBUG:ChromatogramCreator:Invalid chromatogram 180987\n",
      "DEBUG:ChromatogramCreator:Invalid chromatogram 181028\n",
      "DEBUG:ChromatogramCreator:Invalid chromatogram 181040\n",
      "DEBUG:ChromatogramCreator:Invalid chromatogram 181251\n",
      "DEBUG:ChromatogramCreator:Invalid chromatogram 181262\n",
      "DEBUG:ChromatogramCreator:Invalid chromatogram 181267\n",
      "DEBUG:ChromatogramCreator:Invalid chromatogram 181312\n",
      "DEBUG:ChromatogramCreator:Invalid chromatogram 181357\n",
      "DEBUG:ChromatogramCreator:Invalid chromatogram 181608\n",
      "DEBUG:ChromatogramCreator:Invalid chromatogram 181640\n",
      "DEBUG:ChromatogramCreator:Invalid chromatogram 181648\n",
      "DEBUG:ChromatogramCreator:Invalid chromatogram 181721\n",
      "DEBUG:ChromatogramCreator:Invalid chromatogram 181736\n",
      "DEBUG:ChromatogramCreator:Invalid chromatogram 181793\n",
      "DEBUG:ChromatogramCreator:Invalid chromatogram 181954\n",
      "DEBUG:ChromatogramCreator:Invalid chromatogram 182061\n",
      "DEBUG:ChromatogramCreator:Invalid chromatogram 182065\n",
      "DEBUG:ChromatogramCreator:Invalid chromatogram 182086\n",
      "DEBUG:ChromatogramCreator:Invalid chromatogram 182099\n",
      "DEBUG:ChromatogramCreator:Invalid chromatogram 182193\n",
      "DEBUG:ChromatogramCreator:Invalid chromatogram 182311\n",
      "DEBUG:ChromatogramCreator:Invalid chromatogram 182365\n",
      "DEBUG:ChromatogramCreator:Invalid chromatogram 182453\n",
      "DEBUG:ChromatogramCreator:Invalid chromatogram 182524\n",
      "DEBUG:ChromatogramCreator:Invalid chromatogram 182527\n",
      "DEBUG:ChromatogramCreator:Invalid chromatogram 182829\n",
      "DEBUG:ChromatogramCreator:Invalid chromatogram 183015\n",
      "DEBUG:ChromatogramCreator:Invalid chromatogram 183049\n",
      "DEBUG:ChromatogramCreator:Invalid chromatogram 183167\n",
      "DEBUG:ChromatogramCreator:Invalid chromatogram 183328\n",
      "DEBUG:ChromatogramCreator:Invalid chromatogram 183453\n",
      "DEBUG:ChromatogramCreator:Invalid chromatogram 183745\n",
      "DEBUG:ChromatogramCreator:Invalid chromatogram 183912\n",
      "DEBUG:ChromatogramCreator:Invalid chromatogram 184065\n",
      "DEBUG:ChromatogramCreator:Invalid chromatogram 184133\n",
      "DEBUG:ChromatogramCreator:Invalid chromatogram 184309\n",
      "DEBUG:ChromatogramCreator:Invalid chromatogram 184363\n",
      "DEBUG:ChromatogramCreator:Invalid chromatogram 184828\n",
      "DEBUG:ChromatogramCreator:Invalid chromatogram 184870\n",
      "DEBUG:ChromatogramCreator:Invalid chromatogram 184988\n",
      "INFO:ChromatogramCreator:Loading 185000 chromatograms\n",
      "DEBUG:ChromatogramCreator:Invalid chromatogram 185176\n",
      "DEBUG:ChromatogramCreator:Invalid chromatogram 185194\n",
      "DEBUG:ChromatogramCreator:Invalid chromatogram 185202\n",
      "DEBUG:ChromatogramCreator:Invalid chromatogram 185298\n",
      "DEBUG:ChromatogramCreator:Invalid chromatogram 185307\n",
      "DEBUG:ChromatogramCreator:Invalid chromatogram 185499\n",
      "DEBUG:ChromatogramCreator:Invalid chromatogram 185822\n",
      "DEBUG:ChromatogramCreator:Invalid chromatogram 185848\n",
      "DEBUG:ChromatogramCreator:Invalid chromatogram 186073\n",
      "DEBUG:ChromatogramCreator:Invalid chromatogram 186199\n",
      "DEBUG:ChromatogramCreator:Invalid chromatogram 186287\n",
      "DEBUG:ChromatogramCreator:Invalid chromatogram 186460\n",
      "DEBUG:ChromatogramCreator:Invalid chromatogram 186847\n",
      "DEBUG:ChromatogramCreator:Invalid chromatogram 186932\n",
      "DEBUG:ChromatogramCreator:Invalid chromatogram 186950\n",
      "DEBUG:ChromatogramCreator:Invalid chromatogram 187004\n",
      "DEBUG:ChromatogramCreator:Invalid chromatogram 187180\n",
      "DEBUG:ChromatogramCreator:Invalid chromatogram 187605\n",
      "DEBUG:ChromatogramCreator:Invalid chromatogram 187816\n",
      "DEBUG:ChromatogramCreator:Invalid chromatogram 188046\n",
      "DEBUG:ChromatogramCreator:Invalid chromatogram 188098\n",
      "DEBUG:ChromatogramCreator:Invalid chromatogram 188123\n",
      "DEBUG:ChromatogramCreator:Invalid chromatogram 188368\n",
      "DEBUG:ChromatogramCreator:Invalid chromatogram 188427\n",
      "DEBUG:ChromatogramCreator:Invalid chromatogram 188694\n",
      "DEBUG:ChromatogramCreator:Invalid chromatogram 188935\n",
      "DEBUG:ChromatogramCreator:Invalid chromatogram 188942\n",
      "DEBUG:ChromatogramCreator:Invalid chromatogram 189099\n",
      "DEBUG:ChromatogramCreator:Invalid chromatogram 189124\n",
      "DEBUG:ChromatogramCreator:Invalid chromatogram 189136\n",
      "DEBUG:ChromatogramCreator:Invalid chromatogram 189183\n",
      "DEBUG:ChromatogramCreator:Invalid chromatogram 189218\n",
      "DEBUG:ChromatogramCreator:Invalid chromatogram 189293\n",
      "DEBUG:ChromatogramCreator:Invalid chromatogram 189419\n",
      "DEBUG:ChromatogramCreator:Invalid chromatogram 189430\n",
      "DEBUG:ChromatogramCreator:Invalid chromatogram 189673\n",
      "DEBUG:ChromatogramCreator:Invalid chromatogram 189723\n",
      "DEBUG:ChromatogramCreator:Invalid chromatogram 189724\n",
      "DEBUG:ChromatogramCreator:Invalid chromatogram 189832\n",
      "INFO:ChromatogramCreator:Loading 190000 chromatograms\n",
      "DEBUG:ChromatogramCreator:Invalid chromatogram 190027\n",
      "DEBUG:ChromatogramCreator:Invalid chromatogram 190065\n",
      "DEBUG:ChromatogramCreator:Invalid chromatogram 190084\n",
      "DEBUG:ChromatogramCreator:Invalid chromatogram 190135\n",
      "DEBUG:ChromatogramCreator:Invalid chromatogram 190269\n",
      "DEBUG:ChromatogramCreator:Invalid chromatogram 190429\n",
      "DEBUG:ChromatogramCreator:Invalid chromatogram 190596\n",
      "DEBUG:ChromatogramCreator:Invalid chromatogram 190662\n",
      "DEBUG:ChromatogramCreator:Invalid chromatogram 191092\n",
      "DEBUG:ChromatogramCreator:Invalid chromatogram 191106\n",
      "DEBUG:ChromatogramCreator:Invalid chromatogram 191184\n",
      "DEBUG:ChromatogramCreator:Invalid chromatogram 191282\n",
      "DEBUG:ChromatogramCreator:Invalid chromatogram 191745\n",
      "DEBUG:ChromatogramCreator:Invalid chromatogram 191883\n",
      "DEBUG:ChromatogramCreator:Invalid chromatogram 191942\n",
      "DEBUG:ChromatogramCreator:Invalid chromatogram 191961\n",
      "DEBUG:ChromatogramCreator:Invalid chromatogram 192004\n",
      "DEBUG:ChromatogramCreator:Invalid chromatogram 192622\n",
      "DEBUG:ChromatogramCreator:Invalid chromatogram 192737\n",
      "DEBUG:ChromatogramCreator:Invalid chromatogram 192862\n",
      "DEBUG:ChromatogramCreator:Invalid chromatogram 192890\n",
      "DEBUG:ChromatogramCreator:Invalid chromatogram 192919\n",
      "DEBUG:ChromatogramCreator:Invalid chromatogram 193070\n",
      "DEBUG:ChromatogramCreator:Invalid chromatogram 193131\n",
      "DEBUG:ChromatogramCreator:Invalid chromatogram 193349\n",
      "DEBUG:ChromatogramCreator:Invalid chromatogram 193426\n",
      "DEBUG:ChromatogramCreator:Invalid chromatogram 193530\n",
      "DEBUG:ChromatogramCreator:Invalid chromatogram 193554\n",
      "DEBUG:ChromatogramCreator:Invalid chromatogram 193576\n",
      "DEBUG:ChromatogramCreator:Invalid chromatogram 193594\n",
      "DEBUG:ChromatogramCreator:Invalid chromatogram 193714\n",
      "DEBUG:ChromatogramCreator:Invalid chromatogram 193824\n",
      "DEBUG:ChromatogramCreator:Invalid chromatogram 193864\n",
      "DEBUG:ChromatogramCreator:Invalid chromatogram 193889\n",
      "DEBUG:ChromatogramCreator:Invalid chromatogram 194159\n",
      "DEBUG:ChromatogramCreator:Invalid chromatogram 194218\n",
      "DEBUG:ChromatogramCreator:Invalid chromatogram 194294\n",
      "DEBUG:ChromatogramCreator:Invalid chromatogram 194419\n",
      "DEBUG:ChromatogramCreator:Invalid chromatogram 194437\n",
      "DEBUG:ChromatogramCreator:Invalid chromatogram 194479\n",
      "DEBUG:ChromatogramCreator:Invalid chromatogram 194685\n",
      "DEBUG:ChromatogramCreator:Invalid chromatogram 194795\n",
      "INFO:ChromatogramCreator:Loading 195000 chromatograms\n",
      "DEBUG:ChromatogramCreator:Invalid chromatogram 195020\n",
      "DEBUG:ChromatogramCreator:Invalid chromatogram 195041\n",
      "DEBUG:ChromatogramCreator:Invalid chromatogram 195142\n",
      "DEBUG:ChromatogramCreator:Invalid chromatogram 195425\n",
      "DEBUG:ChromatogramCreator:Invalid chromatogram 195943\n",
      "DEBUG:ChromatogramCreator:Invalid chromatogram 196009\n",
      "DEBUG:ChromatogramCreator:Invalid chromatogram 196089\n"
     ]
    },
    {
     "name": "stderr",
     "output_type": "stream",
     "text": [
      "DEBUG:ChromatogramCreator:Invalid chromatogram 196117\n",
      "DEBUG:ChromatogramCreator:Invalid chromatogram 197009\n",
      "DEBUG:ChromatogramCreator:Invalid chromatogram 197029\n",
      "DEBUG:ChromatogramCreator:Invalid chromatogram 197149\n",
      "DEBUG:ChromatogramCreator:Invalid chromatogram 197178\n",
      "DEBUG:ChromatogramCreator:Invalid chromatogram 197197\n",
      "DEBUG:ChromatogramCreator:Invalid chromatogram 197336\n",
      "DEBUG:ChromatogramCreator:Invalid chromatogram 197353\n",
      "DEBUG:ChromatogramCreator:Invalid chromatogram 197398\n",
      "DEBUG:ChromatogramCreator:Invalid chromatogram 197492\n",
      "DEBUG:ChromatogramCreator:Invalid chromatogram 197493\n",
      "DEBUG:ChromatogramCreator:Invalid chromatogram 197576\n",
      "DEBUG:ChromatogramCreator:Invalid chromatogram 197656\n",
      "DEBUG:ChromatogramCreator:Invalid chromatogram 197873\n",
      "DEBUG:ChromatogramCreator:Invalid chromatogram 197901\n",
      "DEBUG:ChromatogramCreator:Invalid chromatogram 198085\n",
      "DEBUG:ChromatogramCreator:Invalid chromatogram 198250\n",
      "DEBUG:ChromatogramCreator:Invalid chromatogram 198293\n",
      "DEBUG:ChromatogramCreator:Invalid chromatogram 198372\n"
     ]
    }
   ],
   "source": [
    "cc = ChromatogramCreator(os.path.join(base_dir, 'Trained Models\\\\chromatogram_19_beers.csv.gz'))"
   ]
  },
  {
   "cell_type": "markdown",
   "metadata": {},
   "source": [
    "### Generate some chemicals"
   ]
  },
  {
   "cell_type": "code",
   "execution_count": 11,
   "metadata": {},
   "outputs": [],
   "source": [
    "hmdb = load_obj(os.path.join(base_dir, 'Trained Models\\\\hmdb_compounds.p'))"
   ]
  },
  {
   "cell_type": "code",
   "execution_count": 46,
   "metadata": {},
   "outputs": [],
   "source": [
    "min_ms1_intensity = 2.5E5\n",
    "rt_range = [(3*60, 21*60)]\n",
    "mz_range = [(0, 1050)]\n",
    "n_ms1_peaks = 10000\n",
    "\n",
    "# alpha = 0.1\n",
    "# compound_list = hmdb\n",
    "# chemical_type = 'Known'\n",
    "\n",
    "alpha = math.inf\n",
    "compound_list = None\n",
    "chemical_type = 'Unknown'\n",
    "ms_levels = 1\n",
    "\n",
    "chemicals = ChemicalCreator(ps)\n",
    "dataset = chemicals.sample(cc, mz_range, rt_range, min_ms1_intensity, n_ms1_peaks, ms_levels=ms_levels, chemical_type=chemical_type,\n",
    "               formula_list=None, compound_list=compound_list, alpha=alpha, fixed_mz=False)"
   ]
  },
  {
   "cell_type": "code",
   "execution_count": 47,
   "metadata": {
    "scrolled": true
   },
   "outputs": [
    {
     "name": "stdout",
     "output_type": "stream",
     "text": [
      "UnknownChemical mz=355.9987 rt=404.19 max_intensity=1208637.99\n",
      "[ 682647.8  622902.9 1187863.   789348.9 1208654.   651175.2  910543.9]\n"
     ]
    },
    {
     "data": {
      "image/png": "[encoded data removed]",
      "text/plain": [
       "<Figure size 432x288 with 2 Axes>"
      ]
     },
     "metadata": {
      "needs_background": "light"
     },
     "output_type": "display_data"
    },
    {
     "name": "stdout",
     "output_type": "stream",
     "text": [
      "UnknownChemical mz=386.7001 rt=591.21 max_intensity=383860.98\n",
      "[297086.4 299565.3 383860.9 317544.8 366665.  326276.  338810.7 298274.8\n",
      " 270351.7 304761.1 189411.1 133363.3]\n"
     ]
    },
    {
     "data": {
      "image/png": "[encoded data removed]",
      "text/plain": [
       "<Figure size 432x288 with 2 Axes>"
      ]
     },
     "metadata": {
      "needs_background": "light"
     },
     "output_type": "display_data"
    },
    {
     "name": "stdout",
     "output_type": "stream",
     "text": [
      "UnknownChemical mz=249.6689 rt=499.03 max_intensity=4151288.58\n",
      "[ 222931.2    98184.38  432564.    627598.6   421687.    753591.1\n",
      "  563115.8   620558.7   953038.8  1193124.   1126573.   1206650.\n",
      " 1245190.   1746613.   1322969.   1629774.   2652771.   1900872.\n",
      " 2053218.   2471702.   1493232.   2196732.   2273481.   2491809.\n",
      " 2525466.   2900792.   3689300.   1327602.   4151397.   2217598.\n",
      " 2763594.   2614573.   2203847.   1611177.    963140.1   861964.\n",
      " 1025734.   1262632.    821066.5   532381.9   585041.6   503169.7 ]\n"
     ]
    },
    {
     "data": {
      "image/png": "[encoded data removed]",
      "text/plain": [
       "<Figure size 432x288 with 2 Axes>"
      ]
     },
     "metadata": {
      "needs_background": "light"
     },
     "output_type": "display_data"
    },
    {
     "name": "stdout",
     "output_type": "stream",
     "text": [
      "UnknownChemical mz=97.8799 rt=990.44 max_intensity=2928800.57\n",
      "[ 372148.8  592133.6 1288675.  2384689.  2887496.  2928844.  2357383.\n",
      " 2327209.  1532548.  1115503.   852553.7  512628.7]\n"
     ]
    },
    {
     "data": {
      "image/png": "[encoded data removed]",
      "text/plain": [
       "<Figure size 432x288 with 2 Axes>"
      ]
     },
     "metadata": {
      "needs_background": "light"
     },
     "output_type": "display_data"
    },
    {
     "name": "stdout",
     "output_type": "stream",
     "text": [
      "UnknownChemical mz=108.5713 rt=400.61 max_intensity=1511419.94\n",
      "[1349827.  1455982.  1462378.  1471552.  1511411.  1214006.  1099775.\n",
      " 1096064.   833830.2]\n"
     ]
    },
    {
     "data": {
      "image/png": "[encoded data removed]",
      "text/plain": [
       "<Figure size 432x288 with 2 Axes>"
      ]
     },
     "metadata": {
      "needs_background": "light"
     },
     "output_type": "display_data"
    },
    {
     "name": "stdout",
     "output_type": "stream",
     "text": [
      "UnknownChemical mz=110.7538 rt=1234.24 max_intensity=948000.90\n",
      "[873801.2 902072.4 862931.9 947995.1 695832.2 887009.4 737868.7 638500.9\n",
      " 707675.9 589126.4 399063.8 114929.5 183819.8 169289.3]\n"
     ]
    },
    {
     "data": {
      "image/png": "[encoded data removed]",
      "text/plain": [
       "<Figure size 432x288 with 2 Axes>"
      ]
     },
     "metadata": {
      "needs_background": "light"
     },
     "output_type": "display_data"
    },
    {
     "name": "stdout",
     "output_type": "stream",
     "text": [
      "UnknownChemical mz=101.8892 rt=468.69 max_intensity=789419.50\n",
      "[146003.5 170055.1 147331.4 163978.5 180465.  149390.4 185090.3 161250.4\n",
      " 150522.9 183274.7 159823.  173792.9 130056.2 177956.9 159040.7 165250.9\n",
      " 169805.3 154187.5 157812.  193835.  190562.1 172407.9 166317.2 188108.4\n",
      " 188613.6 159570.9 166813.1 178577.5 182539.3 157187.3 150716.4 198456.1\n",
      " 164100.9 144763.  170960.  169672.9 147365.7 182412.  159567.3 181479.8\n",
      " 190404.  180456.4 175566.6 163077.2 177779.5 164448.  126996.7 171657.4\n",
      " 198123.3 165039.3 150067.5 178626.5 175233.4 193523.  190341.  185313.8\n",
      " 221263.8 180058.1 231472.9 312635.2 349936.3 446901.9 605948.8 654784.8\n",
      " 618929.8 789417.8]\n"
     ]
    },
    {
     "data": {
      "image/png": "[encoded data removed]",
      "text/plain": [
       "<Figure size 432x288 with 2 Axes>"
      ]
     },
     "metadata": {
      "needs_background": "light"
     },
     "output_type": "display_data"
    },
    {
     "name": "stdout",
     "output_type": "stream",
     "text": [
      "UnknownChemical mz=272.5823 rt=187.73 max_intensity=346714.33\n",
      "[113072.1  179259.8  287727.1  297899.1  312816.8  346710.4  167383.4\n",
      "  39939.12]\n"
     ]
    },
    {
     "data": {
      "image/png": "[encoded data removed]",
      "text/plain": [
       "<Figure size 432x288 with 2 Axes>"
      ]
     },
     "metadata": {
      "needs_background": "light"
     },
     "output_type": "display_data"
    },
    {
     "name": "stdout",
     "output_type": "stream",
     "text": [
      "UnknownChemical mz=191.2065 rt=186.00 max_intensity=280222.12\n",
      "[115034.4  121901.3  125202.8  190959.   151504.2  280219.   169493.1\n",
      "  58307.03  77400.37]\n"
     ]
    },
    {
     "data": {
      "image/png": "[encoded data removed]",
      "text/plain": [
       "<Figure size 432x288 with 2 Axes>"
      ]
     },
     "metadata": {
      "needs_background": "light"
     },
     "output_type": "display_data"
    },
    {
     "name": "stdout",
     "output_type": "stream",
     "text": [
      "UnknownChemical mz=445.4362 rt=362.20 max_intensity=262509.14\n",
      "[171731.9 249066.2 251308.1 225180.5 261025.2 262507.4 119720.8 150153.8\n",
      " 142782.1]\n"
     ]
    },
    {
     "data": {
      "image/png": "[encoded data removed]",
      "text/plain": [
       "<Figure size 432x288 with 2 Axes>"
      ]
     },
     "metadata": {
      "needs_background": "light"
     },
     "output_type": "display_data"
    }
   ],
   "source": [
    "def plot_chromatogram(chrom):\n",
    "    f, axarr = plt.subplots(2, sharex=True)\n",
    "    axarr[0].plot(chrom.rts, chrom.intensities)\n",
    "    axarr[0].set_title('Chromatogram')\n",
    "    axarr[0].set_ylabel('intensity')\n",
    "    axarr[1].scatter(chrom.rts, chrom.mzs)\n",
    "    axarr[1].set_ylabel('mz')\n",
    "    axarr[1].set_xlabel('RT')    \n",
    "    plt.show()\n",
    "\n",
    "for chem in dataset[0:10]:\n",
    "    print(chem)\n",
    "    print(chem.chromatogram.raw_intensities)\n",
    "    plot_chromatogram(chem.chromatogram)"
   ]
  },
  {
   "cell_type": "code",
   "execution_count": 48,
   "metadata": {},
   "outputs": [
    {
     "data": {
      "text/plain": [
       "VMSfunctions.Chemicals.UnknownChemical"
      ]
     },
     "execution_count": 48,
     "metadata": {},
     "output_type": "execute_result"
    }
   ],
   "source": [
    "type(dataset[0])"
   ]
  },
  {
   "cell_type": "markdown",
   "metadata": {},
   "source": [
    "### Set up a simple MS1 controller"
   ]
  },
  {
   "cell_type": "code",
   "execution_count": 49,
   "metadata": {},
   "outputs": [],
   "source": [
    "set_log_level_warning() # We don't want to see too many messages as the controller is running"
   ]
  },
  {
   "cell_type": "code",
   "execution_count": 50,
   "metadata": {
    "scrolled": true
   },
   "outputs": [
    {
     "name": "stderr",
     "output_type": "stream",
     "text": [
      "1080.096504006151it [03:07,  5.75it/s]                                                                                                                                                                  \n"
     ]
    }
   ],
   "source": [
    "mass_spec = IndependentMassSpectrometer(POSITIVE, dataset, density=ps.density_estimator)\n",
    "controller = SimpleMs1Controller(mass_spec)\n",
    "controller.make_plot = False\n",
    "controller.run(rt_range[0][0], rt_range[0][1])"
   ]
  },
  {
   "cell_type": "markdown",
   "metadata": {},
   "source": [
    "Print the peaks generated for each chemical"
   ]
  },
  {
   "cell_type": "code",
   "execution_count": 51,
   "metadata": {},
   "outputs": [
    {
     "name": "stdout",
     "output_type": "stream",
     "text": [
      "UnknownChemical mz=355.9987 rt=404.19 max_intensity=1208637.99\n",
      "Peak mz=357.0061 rt=404.19 intensity=202004.66 ms_level=1\n",
      "Peak mz=357.0060 rt=404.52 intensity=197379.69 ms_level=1\n",
      "Peak mz=357.0060 rt=404.79 intensity=193532.53 ms_level=1\n",
      "Peak mz=357.0060 rt=404.90 intensity=192006.32 ms_level=1\n"
     ]
    }
   ],
   "source": [
    "chem = controller.mass_spec.chemicals[0]\n",
    "peaks = controller.mass_spec.chemicals_to_peaks[chem]\n",
    "print(chem)\n",
    "for i in range(len(peaks)):\n",
    "    p = peaks[i]\n",
    "    print(p)\n",
    "    if i >= 3:\n",
    "        break"
   ]
  },
  {
   "cell_type": "code",
   "execution_count": 52,
   "metadata": {},
   "outputs": [],
   "source": [
    "all_peaks = []\n",
    "for chem in controller.mass_spec.chemicals_to_peaks:\n",
    "    all_peaks.extend(controller.mass_spec.chemicals_to_peaks[chem])\n",
    "mzs = np.array([p.mz for p in all_peaks])\n",
    "rts = np.array([p.rt for p in all_peaks])\n",
    "intensities = np.array([p.intensity for p in all_peaks])"
   ]
  },
  {
   "cell_type": "code",
   "execution_count": 53,
   "metadata": {},
   "outputs": [
    {
     "data": {
      "image/png": "[encoded data removed]",
      "text/plain": [
       "<Figure size 432x288 with 1 Axes>"
      ]
     },
     "metadata": {
      "needs_background": "light"
     },
     "output_type": "display_data"
    },
    {
     "data": {
      "image/png": "[encoded data removed]",
      "text/plain": [
       "<Figure size 432x288 with 1 Axes>"
      ]
     },
     "metadata": {
      "needs_background": "light"
     },
     "output_type": "display_data"
    },
    {
     "data": {
      "image/png": "[encoded data removed]",
      "text/plain": [
       "<Figure size 432x288 with 1 Axes>"
      ]
     },
     "metadata": {
      "needs_background": "light"
     },
     "output_type": "display_data"
    }
   ],
   "source": [
    "_ = plt.boxplot(mzs)\n",
    "plt.title('mzs')\n",
    "plt.show()\n",
    "\n",
    "_ = plt.boxplot(rts)\n",
    "plt.title('rts')\n",
    "plt.show()\n",
    "\n",
    "_ = plt.boxplot(np.log(intensities))\n",
    "plt.title('intensities')\n",
    "plt.show()"
   ]
  },
  {
   "cell_type": "code",
   "execution_count": 54,
   "metadata": {},
   "outputs": [
    {
     "data": {
      "text/plain": [
       "874.3637259089967"
      ]
     },
     "execution_count": 54,
     "metadata": {},
     "output_type": "execute_result"
    }
   ],
   "source": [
    "np.median(rts)"
   ]
  },
  {
   "cell_type": "code",
   "execution_count": 55,
   "metadata": {},
   "outputs": [
    {
     "data": {
      "text/plain": [
       "(5.124471000034177, 20.482639334016763)"
      ]
     },
     "execution_count": 55,
     "metadata": {},
     "output_type": "execute_result"
    }
   ],
   "source": [
    "np.min(np.log(intensities)), np.max(np.log(intensities))"
   ]
  },
  {
   "cell_type": "markdown",
   "metadata": {},
   "source": [
    "Save to mzML file"
   ]
  },
  {
   "cell_type": "code",
   "execution_count": 56,
   "metadata": {},
   "outputs": [],
   "source": [
    "controller.write_mzML('my_analysis', os.path.join(base_dir, 'Manuscript\\\\B. CentWave\\\\mzML\\\\no_noise_ms1_controller.mzML'))\n",
    "# run R script"
   ]
  },
  {
   "cell_type": "code",
   "execution_count": 57,
   "metadata": {},
   "outputs": [],
   "source": [
    "save_obj(controller, os.path.join(base_dir, 'Manuscript\\\\B. CentWave\\\\no_noise_ms1_controller.p'))"
   ]
  },
  {
   "cell_type": "markdown",
   "metadata": {},
   "source": [
    "### Set up a Top-N controller"
   ]
  },
  {
   "cell_type": "markdown",
   "metadata": {},
   "source": [
    "We can run the dataset through a top-N DDA controller"
   ]
  },
  {
   "cell_type": "code",
   "execution_count": 36,
   "metadata": {},
   "outputs": [],
   "source": [
    "# set_log_level_warning()\n",
    "# set_log_level_info()\n",
    "set_log_level_debug()"
   ]
  },
  {
   "cell_type": "code",
   "execution_count": 37,
   "metadata": {},
   "outputs": [],
   "source": [
    "ps = load_obj(os.path.join(base_dir, 'Trained Models\\\\peak_sampler_19_beers_fragmentation.p'))"
   ]
  },
  {
   "cell_type": "code",
   "execution_count": 38,
   "metadata": {},
   "outputs": [
    {
     "name": "stderr",
     "output_type": "stream",
     "text": [
      "DEBUG:ChemicalCreator:1000 ms1 peaks to be created.\n",
      "DEBUG:ChemicalCreator:i = 0\n",
      "DEBUG:ChemicalCreator:i = 25\n",
      "DEBUG:ChemicalCreator:i = 50\n",
      "DEBUG:ChemicalCreator:i = 75\n",
      "DEBUG:ChemicalCreator:i = 100\n",
      "DEBUG:ChemicalCreator:i = 125\n",
      "DEBUG:ChemicalCreator:i = 150\n",
      "DEBUG:ChemicalCreator:i = 175\n",
      "DEBUG:ChemicalCreator:i = 200\n",
      "DEBUG:ChemicalCreator:i = 225\n",
      "DEBUG:ChemicalCreator:i = 250\n",
      "DEBUG:ChemicalCreator:i = 275\n",
      "DEBUG:ChemicalCreator:i = 300\n",
      "DEBUG:ChemicalCreator:i = 325\n",
      "DEBUG:ChemicalCreator:i = 350\n",
      "DEBUG:ChemicalCreator:i = 375\n",
      "DEBUG:ChemicalCreator:i = 400\n",
      "DEBUG:ChemicalCreator:i = 425\n",
      "DEBUG:ChemicalCreator:i = 450\n",
      "DEBUG:ChemicalCreator:i = 475\n",
      "DEBUG:ChemicalCreator:i = 500\n",
      "DEBUG:ChemicalCreator:i = 525\n",
      "DEBUG:ChemicalCreator:i = 550\n",
      "DEBUG:ChemicalCreator:i = 575\n",
      "DEBUG:ChemicalCreator:i = 600\n",
      "DEBUG:ChemicalCreator:i = 625\n",
      "DEBUG:ChemicalCreator:i = 650\n",
      "DEBUG:ChemicalCreator:i = 675\n",
      "DEBUG:ChemicalCreator:i = 700\n",
      "DEBUG:ChemicalCreator:i = 725\n",
      "DEBUG:ChemicalCreator:i = 750\n",
      "DEBUG:ChemicalCreator:i = 775\n",
      "DEBUG:ChemicalCreator:i = 800\n",
      "DEBUG:ChemicalCreator:i = 825\n",
      "DEBUG:ChemicalCreator:i = 850\n",
      "DEBUG:ChemicalCreator:i = 875\n",
      "DEBUG:ChemicalCreator:i = 900\n",
      "DEBUG:ChemicalCreator:i = 925\n",
      "DEBUG:ChemicalCreator:i = 950\n",
      "DEBUG:ChemicalCreator:i = 975\n"
     ]
    }
   ],
   "source": [
    "min_ms1_intensity = 2.5E5\n",
    "rt_range = [(3*60, 21*60)]\n",
    "mz_range = [(0, 1050)]\n",
    "n_ms1_peaks = 1000\n",
    "\n",
    "# alpha = 0.1\n",
    "# compound_list = hmdb\n",
    "# chemical_type = 'Known'\n",
    "\n",
    "alpha = math.inf\n",
    "compound_list = None\n",
    "chemical_type = 'Unknown'\n",
    "ms_levels = 2\n",
    "\n",
    "chemicals = ChemicalCreator(ps)\n",
    "dataset = chemicals.sample(cc, mz_range, rt_range, min_ms1_intensity, n_ms1_peaks, ms_levels=ms_levels, \n",
    "                           chemical_type=chemical_type, formula_list=None, compound_list=compound_list, alpha=alpha, fixed_mz=False)"
   ]
  },
  {
   "cell_type": "code",
   "execution_count": 39,
   "metadata": {},
   "outputs": [],
   "source": [
    "N = 5                           # top-5 DDA fragmentation\n",
    "mz_tol = 5                      # the mz isolation window (Dalton) around a selected precursor ion\n",
    "rt_tol = 15                     # the rt window (second) around a selected precursor ion to prevent it from fragmented multiple times\n",
    "min_ms1_intensity = 2.5E5       # the minimum ms1 peak intensity to be fragmented"
   ]
  },
  {
   "cell_type": "code",
   "execution_count": 40,
   "metadata": {
    "scrolled": true
   },
   "outputs": [
    {
     "name": "stderr",
     "output_type": "stream",
     "text": [
      "1080.0994838961374it [00:18, 58.93it/s]                                                                                                                                                                 \n"
     ]
    }
   ],
   "source": [
    "mass_spec = IndependentMassSpectrometer(POSITIVE, dataset, density=ps.density_estimator)\n",
    "controller = TopNController(mass_spec, N, mz_tol, rt_tol, min_ms1_intensity)\n",
    "controller.make_plot = False\n",
    "\n",
    "set_log_level_warning()\n",
    "# set_log_level_info()\n",
    "# set_log_level_debug()\n",
    "\n",
    "controller.run(rt_range[0][0], rt_range[0][1])"
   ]
  },
  {
   "cell_type": "code",
   "execution_count": 42,
   "metadata": {},
   "outputs": [],
   "source": [
    "controller.write_mzML('my_analysis', os.path.join(base_dir, 'Manuscript\\\\B. CentWave\\\\no_noise_top_N_controller.mzML'))"
   ]
  },
  {
   "cell_type": "markdown",
   "metadata": {},
   "source": [
    "### Set up a DIA controller"
   ]
  },
  {
   "cell_type": "markdown",
   "metadata": {},
   "source": [
    "We can run the dataset through a DIA controller"
   ]
  },
  {
   "cell_type": "code",
   "execution_count": 43,
   "metadata": {},
   "outputs": [],
   "source": [
    "dia_design = \"basic\"\n",
    "window_type = \"even\"\n",
    "kaufmann_design = None\n",
    "extra_bins = 0\n",
    "num_windows = 10"
   ]
  },
  {
   "cell_type": "code",
   "execution_count": 44,
   "metadata": {},
   "outputs": [
    {
     "name": "stderr",
     "output_type": "stream",
     "text": [
      "1080.1466399988512it [00:19, 56.83it/s]                                                                                                                                                                 \n"
     ]
    }
   ],
   "source": [
    "mass_spec = IndependentMassSpectrometer(POSITIVE, dataset, density=ps.density_estimator)\n",
    "controller = TreeController(mass_spec, dia_design, window_type, kaufmann_design, extra_bins, num_windows)\n",
    "controller.make_plot = False\n",
    "\n",
    "set_log_level_warning()\n",
    "# set_log_level_info()\n",
    "# set_log_level_debug()\n",
    "\n",
    "controller.run(rt_range[0][0], rt_range[0][1])"
   ]
  },
  {
   "cell_type": "code",
   "execution_count": 45,
   "metadata": {},
   "outputs": [],
   "source": [
    "controller.write_mzML('my_analysis', os.path.join(base_dir, 'Manuscript\\\\B. CentWave\\\\no_noise_dia_controller.mzML'))"
   ]
  }
 ],
 "metadata": {
  "kernelspec": {
   "display_name": "Python 3",
   "language": "python",
   "name": "python3"
  },
  "language_info": {
   "codemirror_mode": {
    "name": "ipython",
    "version": 3
   },
   "file_extension": ".py",
   "mimetype": "text/x-python",
   "name": "python",
   "nbconvert_exporter": "python",
   "pygments_lexer": "ipython3",
   "version": "3.6.6"
  }
 },
 "nbformat": 4,
 "nbformat_minor": 1
}
