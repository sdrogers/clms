{
 "cells": [
  {
   "cell_type": "code",
   "execution_count": 1,
   "metadata": {},
   "outputs": [],
   "source": [
    "import sys\n",
    "sys.path.append('../codes')"
   ]
  },
  {
   "cell_type": "code",
   "execution_count": 2,
   "metadata": {},
   "outputs": [],
   "source": [
    "%load_ext autoreload\n",
    "%autoreload 2"
   ]
  },
  {
   "cell_type": "code",
   "execution_count": 3,
   "metadata": {},
   "outputs": [],
   "source": [
    "%matplotlib inline"
   ]
  },
  {
   "cell_type": "code",
   "execution_count": 4,
   "metadata": {},
   "outputs": [],
   "source": [
    "import numpy as np\n",
    "import pandas as pd\n",
    "import pylab as plt\n",
    "\n",
    "from VMSfunctions.Common import *\n",
    "from VMSfunctions.DataGenerator import *\n",
    "from VMSfunctions.Chromatograms import *"
   ]
  },
  {
   "cell_type": "code",
   "execution_count": 5,
   "metadata": {},
   "outputs": [],
   "source": [
    "from sklearn.model_selection import train_test_split\n",
    "from sklearn.metrics import recall_score, confusion_matrix, accuracy_score, precision_score\n",
    "from sklearn.linear_model import LogisticRegressionCV, LogisticRegression\n",
    "from sklearn.svm import SVC "
   ]
  },
  {
   "cell_type": "code",
   "execution_count": 6,
   "metadata": {},
   "outputs": [
    {
     "name": "stderr",
     "output_type": "stream",
     "text": [
      "Using TensorFlow backend.\n"
     ]
    }
   ],
   "source": [
    "from keras.models import Sequential\n",
    "from keras.layers.core import Dense, Dropout, Activation\n",
    "from keras.utils import np_utils\n",
    "from keras.optimizers import SGD"
   ]
  },
  {
   "cell_type": "code",
   "execution_count": 7,
   "metadata": {},
   "outputs": [],
   "source": [
    "import GPy"
   ]
  },
  {
   "cell_type": "code",
   "execution_count": 8,
   "metadata": {},
   "outputs": [],
   "source": [
    "set_log_level_debug()"
   ]
  },
  {
   "cell_type": "code",
   "execution_count": 9,
   "metadata": {},
   "outputs": [],
   "source": [
    "base_dir = 'C:\\\\Users\\\\joewa\\\\University of Glasgow\\\\Vinny Davies - CLDS Metabolomics Project\\\\'\n",
    "base_dir = 'C:\\\\Users\\\\Vinny\\\\OneDrive - University of Glasgow\\\\CLDS Metabolomics Project\\\\'"
   ]
  },
  {
   "cell_type": "markdown",
   "metadata": {},
   "source": [
    "# Functions"
   ]
  },
  {
   "cell_type": "code",
   "execution_count": 10,
   "metadata": {},
   "outputs": [],
   "source": [
    "def one_hot_encode_object_array(arr):\n",
    "    '''One hot encode a numpy array of objects (e.g. strings)'''\n",
    "    uniques, ids = np.unique(arr, return_inverse=True)\n",
    "    return np_utils.to_categorical(ids, len(uniques))"
   ]
  },
  {
   "cell_type": "code",
   "execution_count": 11,
   "metadata": {},
   "outputs": [],
   "source": [
    "class CreatePeaksDataset(object):\n",
    "    def __init__(self, DataSource, min_size, proportion_train):\n",
    "        self.min_size = min_size\n",
    "        mzs = []\n",
    "        rts = []\n",
    "        intensities = []\n",
    "        statuses = []\n",
    "        dict_keys = list(DataSource.all_rois.keys())\n",
    "        for i in range(len(dict_keys)):\n",
    "            for j in range(len(DataSource.all_rois[dict_keys[i]]['rois'])):\n",
    "                new_roi = DataSource.all_rois[dict_keys[i]]['rois'][j]\n",
    "                num_scans = len(new_roi.mzs())\n",
    "                if num_scans >= min_size:\n",
    "                    mzs.append(new_roi.mzs().tolist()[0:min_size])\n",
    "                    intensities.append(new_roi.intensities().tolist()[0:min_size])\n",
    "                    rts.append(new_roi.rts().tolist()[0:min_size])\n",
    "                    statuses.append(new_roi.pickedPeak)\n",
    "        mzs = np.array(mzs)\n",
    "        intensities = np.array(intensities)\n",
    "        rts = np.array(rts)\n",
    "        max_intensities = intensities.max(axis=1)\n",
    "        norm_intensities = intensities / max_intensities[:,None]\n",
    "        self.train_mzs, self.test_mzs, self.train_rts, self.test_rts, self.train_intensities, self.test_intensities, self.train_norm_intensities, self.test_norm_intensities, self.train_max_intensities, self.test_max_intensities, self.train_statuses, self.test_statuses = train_test_split(mzs, rts, intensities, norm_intensities, max_intensities, statuses, train_size=proportion_train, test_size=1-proportion_train, random_state=0)"
   ]
  },
  {
   "cell_type": "markdown",
   "metadata": {},
   "source": [
    "# Load Data"
   ]
  },
  {
   "cell_type": "code",
   "execution_count": 13,
   "metadata": {},
   "outputs": [],
   "source": [
    "mzml_path = base_dir + 'Data\\\\multibeers_urine_data\\\\beers\\\\fullscan'\n",
    "xcms_roi_file = base_dir + 'Data\\\\multibeers_urine_data\\\\beers\\\\fullscan\\\\rois.csv'\n",
    "extracted_roi_file = base_dir + 'Trained Models\\\\all_rois.p'"
   ]
  },
  {
   "cell_type": "code",
   "execution_count": 14,
   "metadata": {},
   "outputs": [],
   "source": [
    "ds = DataSource()"
   ]
  },
  {
   "cell_type": "code",
   "execution_count": 15,
   "metadata": {
    "collapsed": true
   },
   "outputs": [
    {
     "name": "stderr",
     "output_type": "stream",
     "text": [
      "INFO:DataSource:Loading Beer_multibeers_10_fullscan1.mzML\n"
     ]
    },
    {
     "name": "stdout",
     "output_type": "stream",
     "text": [
      "C:\\Users\\Vinny\\OneDrive - University of Glasgow\\CLDS Metabolomics Project\\Data\\multibeers_urine_data\\beers\\fullscan\\Beer_multibeers_10_fullscan1.mzML\n"
     ]
    },
    {
     "name": "stderr",
     "output_type": "stream",
     "text": [
      "INFO:DataSource:Loading Beer_multibeers_11_fullscan1.mzML\n"
     ]
    },
    {
     "name": "stdout",
     "output_type": "stream",
     "text": [
      "C:\\Users\\Vinny\\OneDrive - University of Glasgow\\CLDS Metabolomics Project\\Data\\multibeers_urine_data\\beers\\fullscan\\Beer_multibeers_11_fullscan1.mzML\n"
     ]
    },
    {
     "name": "stderr",
     "output_type": "stream",
     "text": [
      "INFO:DataSource:Loading Beer_multibeers_12_fullscan1.mzML\n",
      "INFO:DataSource:Loading Beer_multibeers_13_fullscan1.mzML\n"
     ]
    },
    {
     "name": "stdout",
     "output_type": "stream",
     "text": [
      "C:\\Users\\Vinny\\OneDrive - University of Glasgow\\CLDS Metabolomics Project\\Data\\multibeers_urine_data\\beers\\fullscan\\Beer_multibeers_12_fullscan1.mzML\n",
      "C:\\Users\\Vinny\\OneDrive - University of Glasgow\\CLDS Metabolomics Project\\Data\\multibeers_urine_data\\beers\\fullscan\\Beer_multibeers_13_fullscan1.mzML\n"
     ]
    },
    {
     "name": "stderr",
     "output_type": "stream",
     "text": [
      "INFO:DataSource:Loading Beer_multibeers_14_fullscan1.mzML\n"
     ]
    },
    {
     "name": "stdout",
     "output_type": "stream",
     "text": [
      "C:\\Users\\Vinny\\OneDrive - University of Glasgow\\CLDS Metabolomics Project\\Data\\multibeers_urine_data\\beers\\fullscan\\Beer_multibeers_14_fullscan1.mzML\n"
     ]
    },
    {
     "name": "stderr",
     "output_type": "stream",
     "text": [
      "INFO:DataSource:Loading Beer_multibeers_15_fullscan1.mzML\n",
      "INFO:DataSource:Loading Beer_multibeers_16_fullscan1.mzML\n"
     ]
    },
    {
     "name": "stdout",
     "output_type": "stream",
     "text": [
      "C:\\Users\\Vinny\\OneDrive - University of Glasgow\\CLDS Metabolomics Project\\Data\\multibeers_urine_data\\beers\\fullscan\\Beer_multibeers_15_fullscan1.mzML\n",
      "C:\\Users\\Vinny\\OneDrive - University of Glasgow\\CLDS Metabolomics Project\\Data\\multibeers_urine_data\\beers\\fullscan\\Beer_multibeers_16_fullscan1.mzML\n"
     ]
    },
    {
     "name": "stderr",
     "output_type": "stream",
     "text": [
      "INFO:DataSource:Loading Beer_multibeers_17_fullscan1.mzML\n",
      "INFO:DataSource:Loading Beer_multibeers_18_fullscan1.mzML\n"
     ]
    },
    {
     "name": "stdout",
     "output_type": "stream",
     "text": [
      "C:\\Users\\Vinny\\OneDrive - University of Glasgow\\CLDS Metabolomics Project\\Data\\multibeers_urine_data\\beers\\fullscan\\Beer_multibeers_17_fullscan1.mzML\n",
      "C:\\Users\\Vinny\\OneDrive - University of Glasgow\\CLDS Metabolomics Project\\Data\\multibeers_urine_data\\beers\\fullscan\\Beer_multibeers_18_fullscan1.mzML\n"
     ]
    },
    {
     "name": "stderr",
     "output_type": "stream",
     "text": [
      "INFO:DataSource:Loading Beer_multibeers_19_fullscan1.mzML\n",
      "INFO:DataSource:Loading Beer_multibeers_1_fullscan1.mzML\n"
     ]
    },
    {
     "name": "stdout",
     "output_type": "stream",
     "text": [
      "C:\\Users\\Vinny\\OneDrive - University of Glasgow\\CLDS Metabolomics Project\\Data\\multibeers_urine_data\\beers\\fullscan\\Beer_multibeers_19_fullscan1.mzML\n",
      "C:\\Users\\Vinny\\OneDrive - University of Glasgow\\CLDS Metabolomics Project\\Data\\multibeers_urine_data\\beers\\fullscan\\Beer_multibeers_1_fullscan1.mzML\n"
     ]
    },
    {
     "name": "stderr",
     "output_type": "stream",
     "text": [
      "INFO:DataSource:Loading Beer_multibeers_2_fullscan1.mzML\n"
     ]
    },
    {
     "name": "stdout",
     "output_type": "stream",
     "text": [
      "C:\\Users\\Vinny\\OneDrive - University of Glasgow\\CLDS Metabolomics Project\\Data\\multibeers_urine_data\\beers\\fullscan\\Beer_multibeers_2_fullscan1.mzML\n"
     ]
    },
    {
     "name": "stderr",
     "output_type": "stream",
     "text": [
      "INFO:DataSource:Loading Beer_multibeers_3_fullscan1.mzML\n",
      "INFO:DataSource:Loading Beer_multibeers_4_fullscan1.mzML\n"
     ]
    },
    {
     "name": "stdout",
     "output_type": "stream",
     "text": [
      "C:\\Users\\Vinny\\OneDrive - University of Glasgow\\CLDS Metabolomics Project\\Data\\multibeers_urine_data\\beers\\fullscan\\Beer_multibeers_3_fullscan1.mzML\n",
      "C:\\Users\\Vinny\\OneDrive - University of Glasgow\\CLDS Metabolomics Project\\Data\\multibeers_urine_data\\beers\\fullscan\\Beer_multibeers_4_fullscan1.mzML\n"
     ]
    },
    {
     "name": "stderr",
     "output_type": "stream",
     "text": [
      "INFO:DataSource:Loading Beer_multibeers_5_fullscan1.mzML\n",
      "INFO:DataSource:Loading Beer_multibeers_6_fullscan1.mzML\n"
     ]
    },
    {
     "name": "stdout",
     "output_type": "stream",
     "text": [
      "C:\\Users\\Vinny\\OneDrive - University of Glasgow\\CLDS Metabolomics Project\\Data\\multibeers_urine_data\\beers\\fullscan\\Beer_multibeers_5_fullscan1.mzML\n",
      "C:\\Users\\Vinny\\OneDrive - University of Glasgow\\CLDS Metabolomics Project\\Data\\multibeers_urine_data\\beers\\fullscan\\Beer_multibeers_6_fullscan1.mzML\n"
     ]
    },
    {
     "name": "stderr",
     "output_type": "stream",
     "text": [
      "INFO:DataSource:Loading Beer_multibeers_7_fullscan1.mzML\n",
      "INFO:DataSource:Loading Beer_multibeers_8_fullscan1.mzML\n"
     ]
    },
    {
     "name": "stdout",
     "output_type": "stream",
     "text": [
      "C:\\Users\\Vinny\\OneDrive - University of Glasgow\\CLDS Metabolomics Project\\Data\\multibeers_urine_data\\beers\\fullscan\\Beer_multibeers_7_fullscan1.mzML\n",
      "C:\\Users\\Vinny\\OneDrive - University of Glasgow\\CLDS Metabolomics Project\\Data\\multibeers_urine_data\\beers\\fullscan\\Beer_multibeers_8_fullscan1.mzML\n"
     ]
    },
    {
     "name": "stderr",
     "output_type": "stream",
     "text": [
      "INFO:DataSource:Loading Beer_multibeers_9_fullscan1.mzML\n"
     ]
    },
    {
     "name": "stdout",
     "output_type": "stream",
     "text": [
      "C:\\Users\\Vinny\\OneDrive - University of Glasgow\\CLDS Metabolomics Project\\Data\\multibeers_urine_data\\beers\\fullscan\\Beer_multibeers_9_fullscan1.mzML\n"
     ]
    }
   ],
   "source": [
    "ds.load_data(mzml_path)"
   ]
  },
  {
   "cell_type": "code",
   "execution_count": 16,
   "metadata": {
    "collapsed": true
   },
   "outputs": [
    {
     "name": "stderr",
     "output_type": "stream",
     "text": [
      "INFO:DataSource:Creating ROI objects for Beer_multibeers_1_fullscan1.mzML\n",
      "DEBUG:DataSource:     0/ 31525\n",
      "DEBUG:DataSource: 10000/ 31525\n",
      "DEBUG:DataSource: 20000/ 31525\n",
      "DEBUG:DataSource: 30000/ 31525\n",
      "INFO:DataSource:Extracted 31525 ROIs for Beer_multibeers_1_fullscan1.mzML\n",
      "INFO:DataSource:Creating ROI objects for Beer_multibeers_10_fullscan1.mzML\n",
      "DEBUG:DataSource:  8475/ 33161\n",
      "DEBUG:DataSource: 18475/ 33161\n",
      "DEBUG:DataSource: 28475/ 33161\n",
      "INFO:DataSource:Extracted 33161 ROIs for Beer_multibeers_10_fullscan1.mzML\n",
      "INFO:DataSource:Creating ROI objects for Beer_multibeers_11_fullscan1.mzML\n",
      "DEBUG:DataSource:  5314/ 31424\n",
      "DEBUG:DataSource: 15314/ 31424\n",
      "DEBUG:DataSource: 25314/ 31424\n",
      "INFO:DataSource:Extracted 31424 ROIs for Beer_multibeers_11_fullscan1.mzML\n",
      "INFO:DataSource:Creating ROI objects for Beer_multibeers_12_fullscan1.mzML\n",
      "DEBUG:DataSource:  3890/ 28152\n",
      "DEBUG:DataSource: 13890/ 28152\n",
      "DEBUG:DataSource: 23890/ 28152\n",
      "INFO:DataSource:Extracted 28152 ROIs for Beer_multibeers_12_fullscan1.mzML\n",
      "INFO:DataSource:Creating ROI objects for Beer_multibeers_13_fullscan1.mzML\n",
      "DEBUG:DataSource:  5738/ 33115\n",
      "DEBUG:DataSource: 15738/ 33115\n",
      "DEBUG:DataSource: 25738/ 33115\n",
      "INFO:DataSource:Extracted 33115 ROIs for Beer_multibeers_13_fullscan1.mzML\n",
      "INFO:DataSource:Creating ROI objects for Beer_multibeers_14_fullscan1.mzML\n",
      "DEBUG:DataSource:  2623/ 33757\n",
      "DEBUG:DataSource: 12623/ 33757\n",
      "DEBUG:DataSource: 22623/ 33757\n",
      "DEBUG:DataSource: 32623/ 33757\n",
      "INFO:DataSource:Extracted 33757 ROIs for Beer_multibeers_14_fullscan1.mzML\n",
      "INFO:DataSource:Creating ROI objects for Beer_multibeers_15_fullscan1.mzML\n",
      "DEBUG:DataSource:  8866/ 33246\n",
      "DEBUG:DataSource: 18866/ 33246\n",
      "DEBUG:DataSource: 28866/ 33246\n",
      "INFO:DataSource:Extracted 33246 ROIs for Beer_multibeers_15_fullscan1.mzML\n",
      "INFO:DataSource:Creating ROI objects for Beer_multibeers_16_fullscan1.mzML\n",
      "DEBUG:DataSource:  5620/ 34269\n",
      "DEBUG:DataSource: 15620/ 34269\n",
      "DEBUG:DataSource: 25620/ 34269\n",
      "INFO:DataSource:Extracted 34269 ROIs for Beer_multibeers_16_fullscan1.mzML\n",
      "INFO:DataSource:Creating ROI objects for Beer_multibeers_17_fullscan1.mzML\n",
      "DEBUG:DataSource:  1351/ 33307\n",
      "DEBUG:DataSource: 11351/ 33307\n",
      "DEBUG:DataSource: 21351/ 33307\n",
      "DEBUG:DataSource: 31351/ 33307\n",
      "INFO:DataSource:Extracted 33307 ROIs for Beer_multibeers_17_fullscan1.mzML\n",
      "INFO:DataSource:Creating ROI objects for Beer_multibeers_18_fullscan1.mzML\n",
      "DEBUG:DataSource:  8044/ 29157\n",
      "DEBUG:DataSource: 18044/ 29157\n",
      "DEBUG:DataSource: 28044/ 29157\n",
      "INFO:DataSource:Extracted 29157 ROIs for Beer_multibeers_18_fullscan1.mzML\n",
      "INFO:DataSource:Creating ROI objects for Beer_multibeers_19_fullscan1.mzML\n",
      "DEBUG:DataSource:  8887/ 32872\n",
      "DEBUG:DataSource: 18887/ 32872\n",
      "DEBUG:DataSource: 28887/ 32872\n",
      "INFO:DataSource:Extracted 32872 ROIs for Beer_multibeers_19_fullscan1.mzML\n",
      "INFO:DataSource:Creating ROI objects for Beer_multibeers_2_fullscan1.mzML\n",
      "DEBUG:DataSource:  6015/ 32862\n",
      "DEBUG:DataSource: 16015/ 32862\n",
      "DEBUG:DataSource: 26015/ 32862\n",
      "INFO:DataSource:Extracted 32862 ROIs for Beer_multibeers_2_fullscan1.mzML\n",
      "INFO:DataSource:Creating ROI objects for Beer_multibeers_3_fullscan1.mzML\n",
      "DEBUG:DataSource:  3153/ 34065\n",
      "DEBUG:DataSource: 13153/ 34065\n",
      "DEBUG:DataSource: 23153/ 34065\n",
      "DEBUG:DataSource: 33153/ 34065\n",
      "INFO:DataSource:Extracted 34065 ROIs for Beer_multibeers_3_fullscan1.mzML\n",
      "INFO:DataSource:Creating ROI objects for Beer_multibeers_4_fullscan1.mzML\n",
      "DEBUG:DataSource:  9088/ 29303\n",
      "DEBUG:DataSource: 19088/ 29303\n",
      "DEBUG:DataSource: 29088/ 29303\n",
      "INFO:DataSource:Extracted 29303 ROIs for Beer_multibeers_4_fullscan1.mzML\n",
      "INFO:DataSource:Creating ROI objects for Beer_multibeers_5_fullscan1.mzML\n",
      "DEBUG:DataSource:  9785/ 31839\n",
      "DEBUG:DataSource: 19785/ 31839\n",
      "DEBUG:DataSource: 29785/ 31839\n",
      "INFO:DataSource:Extracted 31839 ROIs for Beer_multibeers_5_fullscan1.mzML\n",
      "INFO:DataSource:Creating ROI objects for Beer_multibeers_6_fullscan1.mzML\n",
      "DEBUG:DataSource:  7946/ 32302\n",
      "DEBUG:DataSource: 17946/ 32302\n",
      "DEBUG:DataSource: 27946/ 32302\n",
      "INFO:DataSource:Extracted 32302 ROIs for Beer_multibeers_6_fullscan1.mzML\n",
      "INFO:DataSource:Creating ROI objects for Beer_multibeers_7_fullscan1.mzML\n",
      "DEBUG:DataSource:  5644/ 32775\n",
      "DEBUG:DataSource: 15644/ 32775\n",
      "DEBUG:DataSource: 25644/ 32775\n",
      "INFO:DataSource:Extracted 32775 ROIs for Beer_multibeers_7_fullscan1.mzML\n",
      "INFO:DataSource:Creating ROI objects for Beer_multibeers_8_fullscan1.mzML\n",
      "DEBUG:DataSource:  2869/ 33773\n",
      "DEBUG:DataSource: 12869/ 33773\n",
      "DEBUG:DataSource: 22869/ 33773\n",
      "DEBUG:DataSource: 32869/ 33773\n",
      "INFO:DataSource:Extracted 33773 ROIs for Beer_multibeers_8_fullscan1.mzML\n",
      "INFO:DataSource:Creating ROI objects for Beer_multibeers_9_fullscan1.mzML\n",
      "DEBUG:DataSource:  9096/ 33803\n",
      "DEBUG:DataSource: 19096/ 33803\n",
      "DEBUG:DataSource: 29096/ 33803\n",
      "INFO:DataSource:Extracted 33803 ROIs for Beer_multibeers_9_fullscan1.mzML\n"
     ]
    }
   ],
   "source": [
    "ds.extract_roi(xcms_roi_file)"
   ]
  },
  {
   "cell_type": "code",
   "execution_count": 17,
   "metadata": {
    "collapsed": true
   },
   "outputs": [
    {
     "name": "stderr",
     "output_type": "stream",
     "text": [
      "INFO:DataSource:Populating ROI objects for Beer_multibeers_1_fullscan1.mzML\n",
      "DEBUG:DataSource:     0/  1109 processing spectrum <__main__.Spectrum object with native ID 1 at 0x113fb799e48>\n",
      "DEBUG:DataSource:   100/  1109 processing spectrum <__main__.Spectrum object with native ID 201 at 0x113fb9ff4a8>\n",
      "DEBUG:DataSource:   200/  1109 processing spectrum <__main__.Spectrum object with native ID 401 at 0x113fbc45ba8>\n",
      "DEBUG:DataSource:   300/  1109 processing spectrum <__main__.Spectrum object with native ID 601 at 0x113fbe9cc50>\n",
      "DEBUG:DataSource:   400/  1109 processing spectrum <__main__.Spectrum object with native ID 801 at 0x113fc0f0d68>\n",
      "DEBUG:DataSource:   500/  1109 processing spectrum <__main__.Spectrum object with native ID 1001 at 0x113fc343ef0>\n",
      "DEBUG:DataSource:   600/  1109 processing spectrum <__main__.Spectrum object with native ID 1201 at 0x113fc59ae80>\n",
      "DEBUG:DataSource:   700/  1109 processing spectrum <__main__.Spectrum object with native ID 1401 at 0x113fc7eff98>\n",
      "DEBUG:DataSource:   800/  1109 processing spectrum <__main__.Spectrum object with native ID 1601 at 0x113fca4f048>\n",
      "DEBUG:DataSource:   900/  1109 processing spectrum <__main__.Spectrum object with native ID 1801 at 0x113fcca50b8>\n",
      "DEBUG:DataSource:  1000/  1109 processing spectrum <__main__.Spectrum object with native ID 2001 at 0x113fcef9128>\n",
      "DEBUG:DataSource:  1100/  1109 processing spectrum <__main__.Spectrum object with native ID 2201 at 0x113fd14e198>\n",
      "INFO:DataSource:Populating ROI objects for Beer_multibeers_10_fullscan1.mzML\n",
      "DEBUG:DataSource:     0/  1120 processing spectrum <__main__.Spectrum object with native ID 1 at 0x113e3dd3c18>\n",
      "DEBUG:DataSource:   100/  1120 processing spectrum <__main__.Spectrum object with native ID 201 at 0x113e402ee10>\n",
      "DEBUG:DataSource:   200/  1120 processing spectrum <__main__.Spectrum object with native ID 401 at 0x113e42817b8>\n",
      "DEBUG:DataSource:   300/  1120 processing spectrum <__main__.Spectrum object with native ID 601 at 0x113e44d69e8>\n",
      "DEBUG:DataSource:   400/  1120 processing spectrum <__main__.Spectrum object with native ID 801 at 0x113e472b748>\n",
      "DEBUG:DataSource:   500/  1120 processing spectrum <__main__.Spectrum object with native ID 1001 at 0x113e595b048>\n",
      "DEBUG:DataSource:   600/  1120 processing spectrum <__main__.Spectrum object with native ID 1201 at 0x113e5ba5a90>\n",
      "DEBUG:DataSource:   700/  1120 processing spectrum <__main__.Spectrum object with native ID 1401 at 0x113e5dfac50>\n",
      "DEBUG:DataSource:   800/  1120 processing spectrum <__main__.Spectrum object with native ID 1601 at 0x113e605b358>\n",
      "DEBUG:DataSource:   900/  1120 processing spectrum <__main__.Spectrum object with native ID 1801 at 0x113e62aacf8>\n",
      "DEBUG:DataSource:  1000/  1120 processing spectrum <__main__.Spectrum object with native ID 2001 at 0x113e650b160>\n",
      "DEBUG:DataSource:  1100/  1120 processing spectrum <__main__.Spectrum object with native ID 2201 at 0x113e6750e80>\n",
      "INFO:DataSource:Populating ROI objects for Beer_multibeers_11_fullscan1.mzML\n",
      "DEBUG:DataSource:     0/  1097 processing spectrum <__main__.Spectrum object with native ID 1 at 0x113e6893550>\n",
      "DEBUG:DataSource:   100/  1097 processing spectrum <__main__.Spectrum object with native ID 201 at 0x113e6ae95c0>\n",
      "DEBUG:DataSource:   200/  1097 processing spectrum <__main__.Spectrum object with native ID 401 at 0x113e6d3c2e8>\n",
      "DEBUG:DataSource:   300/  1097 processing spectrum <__main__.Spectrum object with native ID 601 at 0x113e6f934a8>\n",
      "DEBUG:DataSource:   400/  1097 processing spectrum <__main__.Spectrum object with native ID 801 at 0x113e71e93c8>\n",
      "DEBUG:DataSource:   500/  1097 processing spectrum <__main__.Spectrum object with native ID 1001 at 0x113e743ce48>\n",
      "DEBUG:DataSource:   600/  1097 processing spectrum <__main__.Spectrum object with native ID 1201 at 0x113e7692fd0>\n",
      "DEBUG:DataSource:   700/  1097 processing spectrum <__main__.Spectrum object with native ID 1401 at 0x113e78ea550>\n",
      "DEBUG:DataSource:   800/  1097 processing spectrum <__main__.Spectrum object with native ID 1601 at 0x113e7b40d68>\n",
      "DEBUG:DataSource:   900/  1097 processing spectrum <__main__.Spectrum object with native ID 1801 at 0x113e7d957f0>\n",
      "DEBUG:DataSource:  1000/  1097 processing spectrum <__main__.Spectrum object with native ID 2001 at 0x113e7fea710>\n",
      "INFO:DataSource:Populating ROI objects for Beer_multibeers_12_fullscan1.mzML\n",
      "DEBUG:DataSource:     0/  1095 processing spectrum <__main__.Spectrum object with native ID 1 at 0x113e82e8c18>\n",
      "DEBUG:DataSource:   100/  1095 processing spectrum <__main__.Spectrum object with native ID 201 at 0x113e950bb38>\n",
      "DEBUG:DataSource:   200/  1095 processing spectrum <__main__.Spectrum object with native ID 401 at 0x113e975fb70>\n",
      "DEBUG:DataSource:   300/  1095 processing spectrum <__main__.Spectrum object with native ID 601 at 0x113e99c2278>\n",
      "DEBUG:DataSource:   400/  1095 processing spectrum <__main__.Spectrum object with native ID 801 at 0x113e9c17358>\n",
      "DEBUG:DataSource:   500/  1095 processing spectrum <__main__.Spectrum object with native ID 1001 at 0x113e9e63d30>\n",
      "DEBUG:DataSource:   600/  1095 processing spectrum <__main__.Spectrum object with native ID 1201 at 0x113ea0b7dd8>\n",
      "DEBUG:DataSource:   700/  1095 processing spectrum <__main__.Spectrum object with native ID 1401 at 0x113ea31a4e0>\n",
      "DEBUG:DataSource:   800/  1095 processing spectrum <__main__.Spectrum object with native ID 1601 at 0x113ea564ef0>\n",
      "DEBUG:DataSource:   900/  1095 processing spectrum <__main__.Spectrum object with native ID 1801 at 0x113ea7b6ef0>\n",
      "DEBUG:DataSource:  1000/  1095 processing spectrum <__main__.Spectrum object with native ID 2001 at 0x113eaa09ef0>\n",
      "INFO:DataSource:Populating ROI objects for Beer_multibeers_13_fullscan1.mzML\n",
      "DEBUG:DataSource:     0/  1116 processing spectrum <__main__.Spectrum object with native ID 1 at 0x113ead02668>\n",
      "DEBUG:DataSource:   100/  1116 processing spectrum <__main__.Spectrum object with native ID 201 at 0x113eaf57198>\n",
      "DEBUG:DataSource:   200/  1116 processing spectrum <__main__.Spectrum object with native ID 401 at 0x113eb1a9128>\n",
      "DEBUG:DataSource:   300/  1116 processing spectrum <__main__.Spectrum object with native ID 601 at 0x113eb3fd5c0>\n",
      "DEBUG:DataSource:   400/  1116 processing spectrum <__main__.Spectrum object with native ID 801 at 0x113eb652630>\n",
      "DEBUG:DataSource:   500/  1116 processing spectrum <__main__.Spectrum object with native ID 1001 at 0x113eb8b24e0>\n",
      "DEBUG:DataSource:   600/  1116 processing spectrum <__main__.Spectrum object with native ID 1201 at 0x113ebb08048>\n",
      "DEBUG:DataSource:   700/  1116 processing spectrum <__main__.Spectrum object with native ID 1401 at 0x113ecd21e48>\n",
      "DEBUG:DataSource:   800/  1116 processing spectrum <__main__.Spectrum object with native ID 1601 at 0x113ecf76a20>\n",
      "DEBUG:DataSource:   900/  1116 processing spectrum <__main__.Spectrum object with native ID 1801 at 0x113ed1c9ac8>\n",
      "DEBUG:DataSource:  1000/  1116 processing spectrum <__main__.Spectrum object with native ID 2001 at 0x113ed421ac8>\n",
      "DEBUG:DataSource:  1100/  1116 processing spectrum <__main__.Spectrum object with native ID 2201 at 0x113ed6800f0>\n",
      "INFO:DataSource:Populating ROI objects for Beer_multibeers_14_fullscan1.mzML\n",
      "DEBUG:DataSource:     0/  1113 processing spectrum <__main__.Spectrum object with native ID 1 at 0x113ed79d630>\n",
      "DEBUG:DataSource:   100/  1113 processing spectrum <__main__.Spectrum object with native ID 201 at 0x113ed9f3550>\n",
      "DEBUG:DataSource:   200/  1113 processing spectrum <__main__.Spectrum object with native ID 401 at 0x113edc485f8>\n",
      "DEBUG:DataSource:   300/  1113 processing spectrum <__main__.Spectrum object with native ID 601 at 0x113ede9d630>\n",
      "DEBUG:DataSource:   400/  1113 processing spectrum <__main__.Spectrum object with native ID 801 at 0x113ee0efe10>\n",
      "DEBUG:DataSource:   500/  1113 processing spectrum <__main__.Spectrum object with native ID 1001 at 0x113ee345518>\n",
      "DEBUG:DataSource:   600/  1113 processing spectrum <__main__.Spectrum object with native ID 1201 at 0x113ee598940>\n",
      "DEBUG:DataSource:   700/  1113 processing spectrum <__main__.Spectrum object with native ID 1401 at 0x113ee7ef860>\n",
      "DEBUG:DataSource:   800/  1113 processing spectrum <__main__.Spectrum object with native ID 1601 at 0x113eea3f6d8>\n",
      "DEBUG:DataSource:   900/  1113 processing spectrum <__main__.Spectrum object with native ID 1801 at 0x113eec966d8>\n"
     ]
    },
    {
     "name": "stderr",
     "output_type": "stream",
     "text": [
      "DEBUG:DataSource:  1000/  1113 processing spectrum <__main__.Spectrum object with native ID 2001 at 0x113eeeebb38>\n",
      "DEBUG:DataSource:  1100/  1113 processing spectrum <__main__.Spectrum object with native ID 2201 at 0x113ef140da0>\n",
      "INFO:DataSource:Populating ROI objects for Beer_multibeers_15_fullscan1.mzML\n",
      "DEBUG:DataSource:     0/  1121 processing spectrum <__main__.Spectrum object with native ID 1 at 0x113ef24f978>\n",
      "DEBUG:DataSource:   100/  1121 processing spectrum <__main__.Spectrum object with native ID 201 at 0x113ef4a3860>\n",
      "DEBUG:DataSource:   200/  1121 processing spectrum <__main__.Spectrum object with native ID 401 at 0x113f06c7908>\n",
      "DEBUG:DataSource:   300/  1121 processing spectrum <__main__.Spectrum object with native ID 601 at 0x113f091c860>\n",
      "DEBUG:DataSource:   400/  1121 processing spectrum <__main__.Spectrum object with native ID 801 at 0x113f0b739e8>\n",
      "DEBUG:DataSource:   500/  1121 processing spectrum <__main__.Spectrum object with native ID 1001 at 0x113f0dc9b70>\n",
      "DEBUG:DataSource:   600/  1121 processing spectrum <__main__.Spectrum object with native ID 1201 at 0x113f102b358>\n",
      "DEBUG:DataSource:   700/  1121 processing spectrum <__main__.Spectrum object with native ID 1401 at 0x113f12744a8>\n",
      "DEBUG:DataSource:   800/  1121 processing spectrum <__main__.Spectrum object with native ID 1601 at 0x113f14c9f28>\n",
      "DEBUG:DataSource:   900/  1121 processing spectrum <__main__.Spectrum object with native ID 1801 at 0x113f17209b0>\n",
      "DEBUG:DataSource:  1000/  1121 processing spectrum <__main__.Spectrum object with native ID 2001 at 0x113f1974cc0>\n",
      "DEBUG:DataSource:  1100/  1121 processing spectrum <__main__.Spectrum object with native ID 2201 at 0x113f1bcbd30>\n",
      "INFO:DataSource:Populating ROI objects for Beer_multibeers_16_fullscan1.mzML\n",
      "DEBUG:DataSource:     0/  1124 processing spectrum <__main__.Spectrum object with native ID 1 at 0x113f1d06f60>\n",
      "DEBUG:DataSource:   100/  1124 processing spectrum <__main__.Spectrum object with native ID 201 at 0x113f1f69358>\n",
      "DEBUG:DataSource:   200/  1124 processing spectrum <__main__.Spectrum object with native ID 401 at 0x113f21b4d30>\n",
      "DEBUG:DataSource:   300/  1124 processing spectrum <__main__.Spectrum object with native ID 601 at 0x113f24077b8>\n",
      "DEBUG:DataSource:   400/  1124 processing spectrum <__main__.Spectrum object with native ID 801 at 0x113f2668048>\n",
      "DEBUG:DataSource:   500/  1124 processing spectrum <__main__.Spectrum object with native ID 1001 at 0x113f28bc860>\n",
      "DEBUG:DataSource:   600/  1124 processing spectrum <__main__.Spectrum object with native ID 1201 at 0x113f2b107f0>\n",
      "DEBUG:DataSource:   700/  1124 processing spectrum <__main__.Spectrum object with native ID 1401 at 0x113f3d372b0>\n",
      "DEBUG:DataSource:   800/  1124 processing spectrum <__main__.Spectrum object with native ID 1601 at 0x113f3f88208>\n",
      "DEBUG:DataSource:   900/  1124 processing spectrum <__main__.Spectrum object with native ID 1801 at 0x113f41e0518>\n",
      "DEBUG:DataSource:  1000/  1124 processing spectrum <__main__.Spectrum object with native ID 2001 at 0x113f4436470>\n",
      "DEBUG:DataSource:  1100/  1124 processing spectrum <__main__.Spectrum object with native ID 2201 at 0x113f468a518>\n",
      "INFO:DataSource:Populating ROI objects for Beer_multibeers_17_fullscan1.mzML\n",
      "DEBUG:DataSource:     0/  1109 processing spectrum <__main__.Spectrum object with native ID 1 at 0x113f47d89b0>\n",
      "DEBUG:DataSource:   100/  1109 processing spectrum <__main__.Spectrum object with native ID 201 at 0x113f4a2f358>\n",
      "DEBUG:DataSource:   200/  1109 processing spectrum <__main__.Spectrum object with native ID 401 at 0x113f4c84828>\n",
      "DEBUG:DataSource:   300/  1109 processing spectrum <__main__.Spectrum object with native ID 601 at 0x113f4ed9320>\n",
      "DEBUG:DataSource:   400/  1109 processing spectrum <__main__.Spectrum object with native ID 801 at 0x113f512d978>\n",
      "DEBUG:DataSource:   500/  1109 processing spectrum <__main__.Spectrum object with native ID 1001 at 0x113f5390978>\n",
      "DEBUG:DataSource:   600/  1109 processing spectrum <__main__.Spectrum object with native ID 1201 at 0x113f55d84a8>\n",
      "DEBUG:DataSource:   700/  1109 processing spectrum <__main__.Spectrum object with native ID 1401 at 0x113f582f358>\n",
      "DEBUG:DataSource:   800/  1109 processing spectrum <__main__.Spectrum object with native ID 1601 at 0x113f5a84898>\n",
      "DEBUG:DataSource:   900/  1109 processing spectrum <__main__.Spectrum object with native ID 1801 at 0x113f5cdb978>\n",
      "DEBUG:DataSource:  1000/  1109 processing spectrum <__main__.Spectrum object with native ID 2001 at 0x113f5f346d8>\n",
      "DEBUG:DataSource:  1100/  1109 processing spectrum <__main__.Spectrum object with native ID 2201 at 0x113f6187ba8>\n",
      "INFO:DataSource:Populating ROI objects for Beer_multibeers_18_fullscan1.mzML\n",
      "DEBUG:DataSource:     0/  1125 processing spectrum <__main__.Spectrum object with native ID 1 at 0x113f627d7f0>\n",
      "DEBUG:DataSource:   100/  1125 processing spectrum <__main__.Spectrum object with native ID 201 at 0x113f64d4710>\n",
      "DEBUG:DataSource:   200/  1125 processing spectrum <__main__.Spectrum object with native ID 401 at 0x113f76fb518>\n",
      "DEBUG:DataSource:   300/  1125 processing spectrum <__main__.Spectrum object with native ID 601 at 0x113f794f470>\n",
      "DEBUG:DataSource:   400/  1125 processing spectrum <__main__.Spectrum object with native ID 801 at 0x113f7ba6860>\n",
      "DEBUG:DataSource:   500/  1125 processing spectrum <__main__.Spectrum object with native ID 1001 at 0x113f7e061d0>\n",
      "DEBUG:DataSource:   600/  1125 processing spectrum <__main__.Spectrum object with native ID 1201 at 0x113f804d940>\n",
      "DEBUG:DataSource:   700/  1125 processing spectrum <__main__.Spectrum object with native ID 1401 at 0x113f82af198>\n",
      "DEBUG:DataSource:   800/  1125 processing spectrum <__main__.Spectrum object with native ID 1601 at 0x113f84f86a0>\n",
      "DEBUG:DataSource:   900/  1125 processing spectrum <__main__.Spectrum object with native ID 1801 at 0x113f875d240>\n",
      "DEBUG:DataSource:  1000/  1125 processing spectrum <__main__.Spectrum object with native ID 2001 at 0x113f89b21d0>\n",
      "DEBUG:DataSource:  1100/  1125 processing spectrum <__main__.Spectrum object with native ID 2201 at 0x113f8bfa588>\n",
      "INFO:DataSource:Populating ROI objects for Beer_multibeers_19_fullscan1.mzML\n",
      "DEBUG:DataSource:     0/  1104 processing spectrum <__main__.Spectrum object with native ID 1 at 0x113f8d56668>\n",
      "DEBUG:DataSource:   100/  1104 processing spectrum <__main__.Spectrum object with native ID 201 at 0x113f8fa9b70>\n",
      "DEBUG:DataSource:   200/  1104 processing spectrum <__main__.Spectrum object with native ID 401 at 0x113f91fc518>\n",
      "DEBUG:DataSource:   300/  1104 processing spectrum <__main__.Spectrum object with native ID 601 at 0x113f9452588>\n",
      "DEBUG:DataSource:   400/  1104 processing spectrum <__main__.Spectrum object with native ID 801 at 0x113f96a6588>\n",
      "DEBUG:DataSource:   500/  1104 processing spectrum <__main__.Spectrum object with native ID 1001 at 0x113f98fb550>\n",
      "DEBUG:DataSource:   600/  1104 processing spectrum <__main__.Spectrum object with native ID 1201 at 0x113f9b4e780>\n",
      "DEBUG:DataSource:   700/  1104 processing spectrum <__main__.Spectrum object with native ID 1401 at 0x113f9da39b0>\n",
      "DEBUG:DataSource:   800/  1104 processing spectrum <__main__.Spectrum object with native ID 1601 at 0x113fafc88d0>\n",
      "DEBUG:DataSource:   900/  1104 processing spectrum <__main__.Spectrum object with native ID 1801 at 0x113fb21e9e8>\n",
      "DEBUG:DataSource:  1000/  1104 processing spectrum <__main__.Spectrum object with native ID 2001 at 0x113fb471908>\n",
      "DEBUG:DataSource:  1100/  1104 processing spectrum <__main__.Spectrum object with native ID 2201 at 0x113fb6c89e8>\n",
      "INFO:DataSource:Populating ROI objects for Beer_multibeers_2_fullscan1.mzML\n",
      "DEBUG:DataSource:     0/  1101 processing spectrum <__main__.Spectrum object with native ID 1 at 0x113fd2445f8>\n",
      "DEBUG:DataSource:   100/  1101 processing spectrum <__main__.Spectrum object with native ID 201 at 0x113fd49b518>\n",
      "DEBUG:DataSource:   200/  1101 processing spectrum <__main__.Spectrum object with native ID 401 at 0x113fd6f05c0>\n",
      "DEBUG:DataSource:   300/  1101 processing spectrum <__main__.Spectrum object with native ID 601 at 0x113fe914470>\n",
      "DEBUG:DataSource:   400/  1101 processing spectrum <__main__.Spectrum object with native ID 801 at 0x113feb6b748>\n",
      "DEBUG:DataSource:   500/  1101 processing spectrum <__main__.Spectrum object with native ID 1001 at 0x113fedbd5f8>\n"
     ]
    },
    {
     "name": "stderr",
     "output_type": "stream",
     "text": [
      "DEBUG:DataSource:   600/  1101 processing spectrum <__main__.Spectrum object with native ID 1201 at 0x113ff01f5c0>\n",
      "DEBUG:DataSource:   700/  1101 processing spectrum <__main__.Spectrum object with native ID 1401 at 0x113ff2687b8>\n",
      "DEBUG:DataSource:   800/  1101 processing spectrum <__main__.Spectrum object with native ID 1601 at 0x113ff4bd978>\n",
      "DEBUG:DataSource:   900/  1101 processing spectrum <__main__.Spectrum object with native ID 1801 at 0x113ff712a58>\n",
      "DEBUG:DataSource:  1000/  1101 processing spectrum <__main__.Spectrum object with native ID 2001 at 0x113ff967b00>\n",
      "DEBUG:DataSource:  1100/  1101 processing spectrum <__main__.Spectrum object with native ID 2201 at 0x113ffbbc358>\n",
      "INFO:DataSource:Populating ROI objects for Beer_multibeers_3_fullscan1.mzML\n",
      "DEBUG:DataSource:     0/  1119 processing spectrum <__main__.Spectrum object with native ID 1 at 0x113ffc826a0>\n",
      "DEBUG:DataSource:   100/  1119 processing spectrum <__main__.Spectrum object with native ID 201 at 0x113ffed7be0>\n",
      "DEBUG:DataSource:   200/  1119 processing spectrum <__main__.Spectrum object with native ID 401 at 0x1138015d550>\n",
      "DEBUG:DataSource:   300/  1119 processing spectrum <__main__.Spectrum object with native ID 601 at 0x113803b14e0>\n",
      "DEBUG:DataSource:   400/  1119 processing spectrum <__main__.Spectrum object with native ID 801 at 0x113806065f8>\n",
      "DEBUG:DataSource:   500/  1119 processing spectrum <__main__.Spectrum object with native ID 1001 at 0x1138085a710>\n",
      "DEBUG:DataSource:   600/  1119 processing spectrum <__main__.Spectrum object with native ID 1201 at 0x11380ab1550>\n",
      "DEBUG:DataSource:   700/  1119 processing spectrum <__main__.Spectrum object with native ID 1401 at 0x11380d059b0>\n",
      "DEBUG:DataSource:   800/  1119 processing spectrum <__main__.Spectrum object with native ID 1601 at 0x11380f5d9b0>\n",
      "DEBUG:DataSource:   900/  1119 processing spectrum <__main__.Spectrum object with native ID 1801 at 0x113811afa58>\n",
      "DEBUG:DataSource:  1000/  1119 processing spectrum <__main__.Spectrum object with native ID 2001 at 0x113823d7a90>\n",
      "DEBUG:DataSource:  1100/  1119 processing spectrum <__main__.Spectrum object with native ID 2201 at 0x1138262cb00>\n",
      "INFO:DataSource:Populating ROI objects for Beer_multibeers_4_fullscan1.mzML\n",
      "DEBUG:DataSource:     0/  1122 processing spectrum <__main__.Spectrum object with native ID 1 at 0x11382761748>\n",
      "DEBUG:DataSource:   100/  1122 processing spectrum <__main__.Spectrum object with native ID 201 at 0x113829b8748>\n",
      "DEBUG:DataSource:   200/  1122 processing spectrum <__main__.Spectrum object with native ID 401 at 0x11382c0b630>\n",
      "DEBUG:DataSource:   300/  1122 processing spectrum <__main__.Spectrum object with native ID 601 at 0x11382e60668>\n",
      "DEBUG:DataSource:   400/  1122 processing spectrum <__main__.Spectrum object with native ID 801 at 0x113830b36a0>\n",
      "DEBUG:DataSource:   500/  1122 processing spectrum <__main__.Spectrum object with native ID 1001 at 0x113833093c8>\n",
      "DEBUG:DataSource:   600/  1122 processing spectrum <__main__.Spectrum object with native ID 1201 at 0x1138355e710>\n",
      "DEBUG:DataSource:   700/  1122 processing spectrum <__main__.Spectrum object with native ID 1401 at 0x113837b3e48>\n",
      "DEBUG:DataSource:   800/  1122 processing spectrum <__main__.Spectrum object with native ID 1601 at 0x11383a077f0>\n",
      "DEBUG:DataSource:   900/  1122 processing spectrum <__main__.Spectrum object with native ID 1801 at 0x11383c5e828>\n",
      "DEBUG:DataSource:  1000/  1122 processing spectrum <__main__.Spectrum object with native ID 2001 at 0x11383eb2780>\n",
      "DEBUG:DataSource:  1100/  1122 processing spectrum <__main__.Spectrum object with native ID 2201 at 0x11384107748>\n",
      "INFO:DataSource:Populating ROI objects for Beer_multibeers_5_fullscan1.mzML\n",
      "DEBUG:DataSource:     0/  1116 processing spectrum <__main__.Spectrum object with native ID 1 at 0x1138424b940>\n",
      "DEBUG:DataSource:   100/  1116 processing spectrum <__main__.Spectrum object with native ID 201 at 0x113844a08d0>\n",
      "DEBUG:DataSource:   200/  1116 processing spectrum <__main__.Spectrum object with native ID 401 at 0x113846f5898>\n",
      "DEBUG:DataSource:   300/  1116 processing spectrum <__main__.Spectrum object with native ID 601 at 0x11384946ac8>\n",
      "DEBUG:DataSource:   400/  1116 processing spectrum <__main__.Spectrum object with native ID 801 at 0x11384b9e9e8>\n",
      "DEBUG:DataSource:   500/  1116 processing spectrum <__main__.Spectrum object with native ID 1001 at 0x11384df2a90>\n",
      "DEBUG:DataSource:   600/  1116 processing spectrum <__main__.Spectrum object with native ID 1201 at 0x11386025320>\n",
      "DEBUG:DataSource:   700/  1116 processing spectrum <__main__.Spectrum object with native ID 1401 at 0x11386271c88>\n",
      "DEBUG:DataSource:   800/  1116 processing spectrum <__main__.Spectrum object with native ID 1601 at 0x113864c4dd8>\n",
      "DEBUG:DataSource:   900/  1116 processing spectrum <__main__.Spectrum object with native ID 1801 at 0x1138671ce48>\n",
      "DEBUG:DataSource:  1000/  1116 processing spectrum <__main__.Spectrum object with native ID 2001 at 0x11386971ba8>\n",
      "DEBUG:DataSource:  1100/  1116 processing spectrum <__main__.Spectrum object with native ID 2201 at 0x11386bc6da0>\n",
      "INFO:DataSource:Populating ROI objects for Beer_multibeers_6_fullscan1.mzML\n",
      "DEBUG:DataSource:     0/  1094 processing spectrum <__main__.Spectrum object with native ID 1 at 0x11386ce97f0>\n",
      "DEBUG:DataSource:   100/  1094 processing spectrum <__main__.Spectrum object with native ID 201 at 0x11386f405c0>\n",
      "DEBUG:DataSource:   200/  1094 processing spectrum <__main__.Spectrum object with native ID 401 at 0x11387192748>\n",
      "DEBUG:DataSource:   300/  1094 processing spectrum <__main__.Spectrum object with native ID 601 at 0x113873ea1d0>\n",
      "DEBUG:DataSource:   400/  1094 processing spectrum <__main__.Spectrum object with native ID 801 at 0x1138763e358>\n",
      "DEBUG:DataSource:   500/  1094 processing spectrum <__main__.Spectrum object with native ID 1001 at 0x11387895438>\n",
      "DEBUG:DataSource:   600/  1094 processing spectrum <__main__.Spectrum object with native ID 1201 at 0x11387ae7518>\n",
      "DEBUG:DataSource:   700/  1094 processing spectrum <__main__.Spectrum object with native ID 1401 at 0x11387d3da90>\n",
      "DEBUG:DataSource:   800/  1094 processing spectrum <__main__.Spectrum object with native ID 1601 at 0x11387f8f9b0>\n",
      "DEBUG:DataSource:   900/  1094 processing spectrum <__main__.Spectrum object with native ID 1801 at 0x113881e5ba8>\n",
      "DEBUG:DataSource:  1000/  1094 processing spectrum <__main__.Spectrum object with native ID 2001 at 0x1138843dc18>\n",
      "INFO:DataSource:Populating ROI objects for Beer_multibeers_7_fullscan1.mzML\n",
      "DEBUG:DataSource:     0/  1088 processing spectrum <__main__.Spectrum object with native ID 1 at 0x11388729fd0>\n",
      "DEBUG:DataSource:   100/  1088 processing spectrum <__main__.Spectrum object with native ID 201 at 0x1138995a080>\n",
      "DEBUG:DataSource:   200/  1088 processing spectrum <__main__.Spectrum object with native ID 401 at 0x11389ba1ef0>\n",
      "DEBUG:DataSource:   300/  1088 processing spectrum <__main__.Spectrum object with native ID 601 at 0x11389df7f60>\n",
      "DEBUG:DataSource:   400/  1088 processing spectrum <__main__.Spectrum object with native ID 801 at 0x1138a04beb8>\n",
      "DEBUG:DataSource:   500/  1088 processing spectrum <__main__.Spectrum object with native ID 1001 at 0x1138a2ab080>\n",
      "DEBUG:DataSource:   600/  1088 processing spectrum <__main__.Spectrum object with native ID 1201 at 0x1138a502080>\n",
      "DEBUG:DataSource:   700/  1088 processing spectrum <__main__.Spectrum object with native ID 1401 at 0x1138a755278>\n",
      "DEBUG:DataSource:   800/  1088 processing spectrum <__main__.Spectrum object with native ID 1601 at 0x1138a9ab4a8>\n",
      "DEBUG:DataSource:   900/  1088 processing spectrum <__main__.Spectrum object with native ID 1801 at 0x1138abfe320>\n",
      "DEBUG:DataSource:  1000/  1088 processing spectrum <__main__.Spectrum object with native ID 2001 at 0x1138ae53588>\n",
      "INFO:DataSource:Populating ROI objects for Beer_multibeers_8_fullscan1.mzML\n",
      "DEBUG:DataSource:     0/  1087 processing spectrum <__main__.Spectrum object with native ID 1 at 0x1138b117a90>\n",
      "DEBUG:DataSource:   100/  1087 processing spectrum <__main__.Spectrum object with native ID 201 at 0x1138b36d908>\n",
      "DEBUG:DataSource:   200/  1087 processing spectrum <__main__.Spectrum object with native ID 401 at 0x1138b5c1908>\n",
      "DEBUG:DataSource:   300/  1087 processing spectrum <__main__.Spectrum object with native ID 601 at 0x1138b81aa58>\n"
     ]
    },
    {
     "name": "stderr",
     "output_type": "stream",
     "text": [
      "DEBUG:DataSource:   400/  1087 processing spectrum <__main__.Spectrum object with native ID 801 at 0x1138ba7a128>\n",
      "DEBUG:DataSource:   500/  1087 processing spectrum <__main__.Spectrum object with native ID 1001 at 0x1138bcd3278>\n",
      "DEBUG:DataSource:   600/  1087 processing spectrum <__main__.Spectrum object with native ID 1201 at 0x1138bf1c4e0>\n",
      "DEBUG:DataSource:   700/  1087 processing spectrum <__main__.Spectrum object with native ID 1401 at 0x1138d13f748>\n",
      "DEBUG:DataSource:   800/  1087 processing spectrum <__main__.Spectrum object with native ID 1601 at 0x1138d396be0>\n",
      "DEBUG:DataSource:   900/  1087 processing spectrum <__main__.Spectrum object with native ID 1801 at 0x1138d5ead30>\n",
      "DEBUG:DataSource:  1000/  1087 processing spectrum <__main__.Spectrum object with native ID 2001 at 0x1138d841940>\n",
      "INFO:DataSource:Populating ROI objects for Beer_multibeers_9_fullscan1.mzML\n",
      "DEBUG:DataSource:     0/  1108 processing spectrum <__main__.Spectrum object with native ID 1 at 0x1138db01eb8>\n",
      "DEBUG:DataSource:   100/  1108 processing spectrum <__main__.Spectrum object with native ID 201 at 0x1138dd58c50>\n",
      "DEBUG:DataSource:   200/  1108 processing spectrum <__main__.Spectrum object with native ID 401 at 0x1138dfabc88>\n",
      "DEBUG:DataSource:   300/  1108 processing spectrum <__main__.Spectrum object with native ID 601 at 0x1138e201e10>\n",
      "DEBUG:DataSource:   400/  1108 processing spectrum <__main__.Spectrum object with native ID 801 at 0x1138e456e80>\n",
      "DEBUG:DataSource:   500/  1108 processing spectrum <__main__.Spectrum object with native ID 1001 at 0x1138e6ba5c0>\n",
      "DEBUG:DataSource:   600/  1108 processing spectrum <__main__.Spectrum object with native ID 1201 at 0x1138e904eb8>\n",
      "DEBUG:DataSource:   700/  1108 processing spectrum <__main__.Spectrum object with native ID 1401 at 0x1138eb65080>\n",
      "DEBUG:DataSource:   800/  1108 processing spectrum <__main__.Spectrum object with native ID 1601 at 0x1138edaed30>\n",
      "DEBUG:DataSource:   900/  1108 processing spectrum <__main__.Spectrum object with native ID 1801 at 0x1138f003ba8>\n",
      "DEBUG:DataSource:  1000/  1108 processing spectrum <__main__.Spectrum object with native ID 2001 at 0x1138f259c18>\n",
      "DEBUG:DataSource:  1100/  1108 processing spectrum <__main__.Spectrum object with native ID 2201 at 0x1138f4ba198>\n"
     ]
    }
   ],
   "source": [
    "ds.populate_roi()"
   ]
  },
  {
   "cell_type": "markdown",
   "metadata": {},
   "source": [
    "# Logistic Regression"
   ]
  },
  {
   "cell_type": "code",
   "execution_count": 36,
   "metadata": {},
   "outputs": [],
   "source": [
    "data8 = CreatePeaksDataset(ds, 8, 0.9)"
   ]
  },
  {
   "cell_type": "code",
   "execution_count": 45,
   "metadata": {},
   "outputs": [],
   "source": [
    "train8 = np.array([np.log(a + b) for a, b in zip([[i] for i in data8.train_max_intensities.tolist()], data8.train_norm_intensities.tolist())])\n",
    "test8 = [np.log(a + b) for a, b in zip([[i] for i in data8.test_max_intensities.tolist()], data8.test_norm_intensities.tolist())]"
   ]
  },
  {
   "cell_type": "code",
   "execution_count": 49,
   "metadata": {
    "scrolled": true
   },
   "outputs": [
    {
     "name": "stderr",
     "output_type": "stream",
     "text": [
      " c:\\users\\vinny\\.virtualenvs\\simulator-r22bo2kk\\lib\\site-packages\\sklearn\\linear_model\\logistic.py:433: FutureWarning:Default solver will be changed to 'lbfgs' in 0.22. Specify a solver to silence this warning.\n"
     ]
    },
    {
     "data": {
      "text/plain": [
       "LogisticRegression(C=1.0, class_weight=None, dual=False, fit_intercept=True,\n",
       "          intercept_scaling=1, max_iter=100, multi_class='warn',\n",
       "          n_jobs=None, penalty='l2', random_state=None, solver='warn',\n",
       "          tol=0.0001, verbose=0, warm_start=False)"
      ]
     },
     "execution_count": 49,
     "metadata": {},
     "output_type": "execute_result"
    }
   ],
   "source": [
    "lr8 = LogisticRegression()\n",
    "lr8.fit(train8, data8.train_statuses)"
   ]
  },
  {
   "cell_type": "markdown",
   "metadata": {},
   "source": [
    "Make predictions and print results"
   ]
  },
  {
   "cell_type": "code",
   "execution_count": 51,
   "metadata": {},
   "outputs": [],
   "source": [
    "lr_predict8 = lr8.predict(test8)"
   ]
  },
  {
   "cell_type": "code",
   "execution_count": 53,
   "metadata": {
    "scrolled": false
   },
   "outputs": [
    {
     "name": "stdout",
     "output_type": "stream",
     "text": [
      "[[17041  3506]\n",
      " [ 1835  6013]]\n",
      "\n"
     ]
    }
   ],
   "source": [
    "print(np.array(confusion_matrix(data8.test_statuses, lr_predict8)).transpose())\n",
    "print( )"
   ]
  },
  {
   "cell_type": "code",
   "execution_count": null,
   "metadata": {},
   "outputs": [],
   "source": []
  },
  {
   "cell_type": "code",
   "execution_count": null,
   "metadata": {},
   "outputs": [],
   "source": [
    "\n",
    "\n",
    "\n",
    "\n",
    "\n",
    "\n",
    "\n",
    "\n",
    "\n",
    "\n",
    "\n",
    "\n",
    "\n",
    "\n",
    "\n",
    "\n",
    "\n",
    "\n",
    "\n",
    "\n",
    "\n",
    "\n",
    "\n",
    "\n",
    "\n",
    "\n",
    "\n",
    "\n"
   ]
  },
  {
   "cell_type": "markdown",
   "metadata": {},
   "source": [
    "use CNN on data padded to max length. test how it does on truncated peaks"
   ]
  }
 ],
 "metadata": {
  "kernelspec": {
   "display_name": "Python 3",
   "language": "python",
   "name": "python3"
  },
  "language_info": {
   "codemirror_mode": {
    "name": "ipython",
    "version": 3
   },
   "file_extension": ".py",
   "mimetype": "text/x-python",
   "name": "python",
   "nbconvert_exporter": "python",
   "pygments_lexer": "ipython3",
   "version": "3.6.6"
  }
 },
 "nbformat": 4,
 "nbformat_minor": 2
}
